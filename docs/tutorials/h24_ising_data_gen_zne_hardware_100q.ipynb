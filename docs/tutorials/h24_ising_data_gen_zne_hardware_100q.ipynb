{
 "cells": [
  {
   "cell_type": "code",
   "execution_count": 1,
   "metadata": {
    "collapsed": true
   },
   "outputs": [],
   "source": [
    "import copy\n",
    "import json, pickle\n",
    "import glob\n",
    "\n",
    "import numpy as np\n",
    "import pandas as pd\n",
    "\n",
    "from qiskit import transpile\n",
    "from qiskit.primitives import BackendEstimator\n",
    "from qiskit_ibm_runtime import Estimator as RuntimeEstimator\n",
    "from qiskit.quantum_info import SparsePauliOp\n",
    "from qiskit import execute\n",
    "from qiskit.providers.fake_provider import FakeLima, FakeSherbrooke, FakeLimaV2, FakeWashington\n",
    "from qiskit import QuantumCircuit, IBMQ, QuantumRegister, ClassicalRegister\n",
    "from qiskit.primitives import Estimator\n",
    "from qiskit.circuit.random import random_circuit\n",
    "\n",
    "import torch\n",
    "from torch.optim import Adam\n",
    "from torch.optim.lr_scheduler import ReduceLROnPlateau\n",
    "from torch.nn.functional import dropout\n",
    "\n",
    "from torch_geometric.nn import GCNConv, global_mean_pool, Linear, ChebConv, SAGEConv\n",
    "from torch_geometric.data import Data\n",
    "from torch_geometric.loader import DataLoader\n",
    "\n",
    "from tqdm.notebook import tqdm_notebook\n",
    "import matplotlib.pyplot as plt\n",
    "import seaborn as sns\n",
    "\n",
    "from blackwater.data.loaders.exp_val import CircuitGraphExpValMitigationDataset\n",
    "from blackwater.data.generators.exp_val import exp_value_generator\n",
    "from blackwater.data.utils import generate_random_pauli_sum_op\n",
    "from blackwater.library.ngem.estimator import ngem\n",
    "\n",
    "from qiskit.quantum_info import random_clifford\n",
    "\n",
    "import random\n",
    "from qiskit.circuit.library import HGate, SdgGate\n",
    "from qiskit.circuit import ClassicalRegister\n",
    "\n",
    "from blackwater.data.utils import (\n",
    "    generate_random_pauli_sum_op,\n",
    "    create_estimator_meas_data,\n",
    "    circuit_to_graph_data_json,\n",
    "    get_backend_properties_v1,\n",
    "    encode_pauli_sum_op,\n",
    "    create_meas_data_from_estimators\n",
    ")\n",
    "from blackwater.data.generators.exp_val import ExpValueEntry\n",
    "from blackwater.metrics.improvement_factor import improvement_factor, Trial, Problem\n",
    "\n",
    "from qiskit_aer import AerSimulator, QasmSimulator\n",
    "from qiskit.providers.fake_provider import FakeMontreal, FakeLima, FakeBelem\n",
    "\n",
    "from torch_geometric.nn import (\n",
    "    GCNConv,\n",
    "    TransformerConv,\n",
    "    GATv2Conv,\n",
    "    global_mean_pool,\n",
    "    Linear,\n",
    "    ChebConv,\n",
    "    SAGEConv,\n",
    "    ASAPooling,\n",
    "    dense_diff_pool,\n",
    "    avg_pool_neighbor_x\n",
    ")\n",
    "from torch_geometric.data import Data\n",
    "from torch_geometric.loader import DataLoader\n",
    "from torch_geometric.utils import to_dense_adj, to_dense_batch\n",
    "\n",
    "from qiskit import QuantumCircuit\n",
    "from qiskit.circuit.library import U3Gate, CZGate, PhaseGate, CXGate\n",
    "from mbd_utils import construct_random_clifford, cal_z_exp, calc_imbalance, cal_all_z_exp, construct_mbl_circuit, generate_disorder, random_clifford_circuit\n",
    "from gnn import ExpValCircuitGraphModel\n",
    "from qiskit.quantum_info import Clifford\n",
    "from qiskit_aer.noise import depolarizing_error, coherent_unitary_error, NoiseModel\n",
    "from noise_utils import AddNoise\n",
    "\n",
    "from functools import partial\n",
    "\n",
    "from zne import zne, ZNEStrategy\n",
    "from zne.noise_amplification import *\n",
    "from zne.extrapolation import *\n",
    "\n",
    "D = {'output': 'mpl', 'fold': -1, 'idle_wires': False}"
   ]
  },
  {
   "cell_type": "code",
   "execution_count": 2,
   "outputs": [],
   "source": [
    "from qiskit_ibm_provider import IBMProvider\n",
    "provider = IBMProvider()"
   ],
   "metadata": {
    "collapsed": false
   }
  },
  {
   "cell_type": "code",
   "execution_count": 3,
   "outputs": [],
   "source": [
    "real_backend = provider.get_backend('ibm_sherbrooke')"
   ],
   "metadata": {
    "collapsed": false
   }
  },
  {
   "cell_type": "code",
   "execution_count": 4,
   "outputs": [],
   "source": [
    "fake_backend = FakeSherbrooke()\n",
    "\n",
    "## Local\n",
    "fake_backend_ideal = QasmSimulator() # Noiseless\n",
    "fake_backend_noisy = AerSimulator.from_backend(fake_backend) # Noisy\n",
    "stabilizer_simulator = AerSimulator(method='extended_stabilizer')\n",
    "\n",
    "fake_run_config_ideal = {'shots': 10000, 'backend': fake_backend_ideal, 'name': 'fake_ideal'}\n",
    "fake_run_config_noisy = {'shots': 10000, 'backend': fake_backend_noisy, 'name': 'fake_noisy'}"
   ],
   "metadata": {
    "collapsed": false
   }
  },
  {
   "cell_type": "code",
   "execution_count": 5,
   "outputs": [],
   "source": [
    "from qiskit.circuit import Parameter\n",
    "\n",
    "class IsingModel:\n",
    "\n",
    "    class Options(dict):\n",
    "        def __init__(self, *args, **kwargs):\n",
    "            super().__init__()\n",
    "            self['nq'] = 4\n",
    "            self['h'] = 1\n",
    "            self['J'] = 0.15\n",
    "            self['dt'] = 1/4\n",
    "            self['depth'] = 15\n",
    "            self.update(*args, **kwargs)\n",
    "\n",
    "        def config_4q_paper(self):\n",
    "            self['h'] = 1\n",
    "            self['J'] = 0.15\n",
    "            self['dt'] = 1/4*2\n",
    "\n",
    "        def config_100q_paper_Clifford(self):\n",
    "            self['nq'] = 100\n",
    "            self['h'] = 0.5*np.pi\n",
    "            self['J'] = 0.15\n",
    "            self['dt'] = 1/4*2\n",
    "\n",
    "        def config_100q_paper_nonClifford(self):\n",
    "            self['nq'] = 100\n",
    "            self['h'] = 0.66*np.pi\n",
    "            self['J'] = 0.15\n",
    "            self['dt'] = 1/4*2\n",
    "\n",
    "        def config_6q_paper(self):\n",
    "            self['nq'] = 6\n",
    "            self['h'] = np.pi\n",
    "            self['J'] = 0.15\n",
    "            self['dt'] = 1/4*2\n",
    "\n",
    "    @classmethod\n",
    "    def apply_quantum_circuit_layer(cls, qc: QuantumCircuit, ops: 'IsingModel.Options'):\n",
    "        allq = list(range(ops['nq']))\n",
    "\n",
    "        qc.rx(2*ops['h']*ops['dt'], allq)\n",
    "\n",
    "        qc.barrier()\n",
    "        for q0 in allq[0::2]:\n",
    "            q1 = q0+1\n",
    "            qc.cx(q0,q1)\n",
    "        qc.rz(-2*ops['J']*ops['dt'], allq[1::2])\n",
    "        for q0 in allq[0::2]:\n",
    "            q1 = q0+1\n",
    "            qc.cx(q0,q1)\n",
    "\n",
    "        qc.barrier()\n",
    "        for q0 in allq[1:-2:2]:\n",
    "            q1 = q0+1\n",
    "            qc.cx(q0,q1)\n",
    "        qc.rz(-2*ops['J']*ops['dt'], allq[2:-1:2])\n",
    "        for q0 in allq[1:-2:2]:\n",
    "            q1 = q0+1\n",
    "            qc.cx(q0,q1)\n",
    "        qc.barrier()\n",
    "\n",
    "    @classmethod\n",
    "    def make_quantum_circuit(cls, ops: 'IsingModel.Options'):\n",
    "        qc = QuantumCircuit(ops['nq'])\n",
    "        allq = list(range(ops['nq']))\n",
    "\n",
    "        for step in range(ops['depth']):\n",
    "            cls.apply_quantum_circuit_layer(qc, ops)\n",
    "\n",
    "        if ops['measure_basis'] == 'Z':\n",
    "            pass\n",
    "        elif  ops['measure_basis'] == 'X':\n",
    "            qc.h(allq)\n",
    "        elif  ops['measure_basis'] == 'Y':\n",
    "            qc.sdg(allq)\n",
    "            qc.h(allq)\n",
    "        else:\n",
    "            raise Exception(\"Must be X Y or Z\")\n",
    "        qc.measure_all()\n",
    "\n",
    "        return qc\n",
    "\n",
    "    @classmethod\n",
    "    def make_circs_sweep(cls, ops, num_steps, measure_basis):\n",
    "        ops['measure_basis'] = measure_basis\n",
    "        ops['depth'] = num_steps\n",
    "        qc = cls.make_quantum_circuit(ops)\n",
    "        qc.metadata = {}\n",
    "        qc.metadata['measure_basis'] = measure_basis\n",
    "        qc.metadata['depth'] = num_steps\n",
    "        return qc"
   ],
   "metadata": {
    "collapsed": false
   }
  },
  {
   "cell_type": "code",
   "execution_count": 7,
   "outputs": [
    {
     "name": "stdout",
     "output_type": "stream",
     "text": [
      "100\n",
      "99\n"
     ]
    }
   ],
   "source": [
    "sherbrooke_layout = list(range(113, 127)) + [112] + list(range(108, 93, -1)) + [90] + list(range(75, 90)) + [74] + list(range(70, 55, -1)) + [52] + list(range(37, 52)) + [36, 32, 31, 30, 17] + list(range(12, 3, -1)) + [15, 22, 23, 24, 25, 26, 27, 28]\n",
    "\n",
    "print(len(sherbrooke_layout))"
   ],
   "metadata": {
    "collapsed": false
   }
  },
  {
   "cell_type": "code",
   "execution_count": null,
   "outputs": [],
   "source": [
    "from qiskit.transpiler.passes import RemoveBarriers\n",
    "def construct_ising_circuit_100q_Clifford(J, basis, num_steps):\n",
    "    cls = IsingModel\n",
    "    ops = cls.Options()\n",
    "    ops.config_100q_paper_Clifford()\n",
    "    ops.update({'J': J})\n",
    "    qc = cls.make_circs_sweep(ops, num_steps, basis)\n",
    "    return qc\n",
    "\n",
    "def construct_ising_circuit_100q_nonClifford(J, basis, num_steps):\n",
    "    cls = IsingModel\n",
    "    ops = cls.Options()\n",
    "    ops.config_100q_paper_nonClifford()\n",
    "    ops.update({'J': J})\n",
    "    qc = cls.make_circs_sweep(ops, num_steps, basis)\n",
    "    return qc\n",
    "\n",
    "\n",
    "J = 0.15\n",
    "basis = 'Z'\n",
    "random_ising = construct_ising_circuit_100q_nonClifford(J, basis, 2)\n",
    "# random_ising = RemoveBarriers()(random_ising)\n",
    "trans_circuit = transpile(\n",
    "    random_ising,\n",
    "    backend=fake_backend_noisy,\n",
    "    optimization_level=3,\n",
    "    initial_layout=sherbrooke_layout,\n",
    ")\n",
    "trans_circuit.remove_final_measurements()\n",
    "trans_circuit.draw(**D)"
   ],
   "metadata": {
    "collapsed": false
   }
  },
  {
   "cell_type": "code",
   "execution_count": null,
   "outputs": [],
   "source": [
    "def form_all_qubit_observable(observable, measurement_qubits, total_num_qubits):\n",
    "    \"\"\"Input observable in non-endian, output observable in endian\"\"\"\n",
    "    assert len(observable) == len(measurement_qubits)\n",
    "    converted_obs = list('I' * total_num_qubits)\n",
    "    for qubit, basis in zip(measurement_qubits, list(observable)):\n",
    "        converted_obs[qubit] = basis\n",
    "    return ''.join(converted_obs)[::-1]\n",
    "\n",
    "def get_measurement_qubits(qc, num_measured_qubit):\n",
    "    measurement_qubits = []\n",
    "    for measurement in range(num_measured_qubit - 1, -1, -1):\n",
    "        measurement_qubits.append(qc.data[-1 - measurement][1][0].index)\n",
    "    return measurement_qubits\n",
    "\n",
    "def construct_random_ising_func(num_steps, be, num_q):\n",
    "    basis = 'Z'\n",
    "    if num_q == 100:\n",
    "        J = np.random.uniform(0, np.pi * 0.66, size=1)[0]\n",
    "        random_ising = construct_ising_circuit_100q_nonClifford(J, basis, num_steps)\n",
    "    else:\n",
    "        raise NotImplementedError\n",
    "    trans_circuit = transpile(\n",
    "        random_ising,\n",
    "        backend=be,\n",
    "        optimization_level=3,\n",
    "        initial_layout=sherbrooke_layout,\n",
    "    )\n",
    "    return trans_circuit, J\n",
    "\n",
    "def get_Js(num_Js, num_q):\n",
    "    np.random.seed(42)\n",
    "    if num_q == 100:\n",
    "        h = np.pi * 0.66\n",
    "    else:\n",
    "        raise NotImplementedError\n",
    "    return np.random.uniform(0, h, size=num_Js)\n",
    "\n",
    "def construct_random_ising_sameJ_func(J, be, num_q, num_steps):\n",
    "    basis = 'Z'\n",
    "    if num_q == 100:\n",
    "        random_ising = construct_ising_circuit_100q_nonClifford(J, basis, num_steps)\n",
    "    else:\n",
    "        raise NotImplementedError\n",
    "    trans_circuit = transpile(\n",
    "        random_ising,\n",
    "        backend=be,\n",
    "        optimization_level=3,\n",
    "        initial_layout=sherbrooke_layout,\n",
    "    )\n",
    "    return trans_circuit, J"
   ],
   "metadata": {
    "collapsed": false
   }
  },
  {
   "cell_type": "code",
   "execution_count": null,
   "outputs": [],
   "source": [
    "from qiskit.transpiler.exceptions import TranspilerError\n",
    "import scipy\n",
    "\n",
    "def generate_data(generating_func, two_q_gate_depths, save_path: str, n_entries_per_file: int, be, num_q):\n",
    "    Js = get_Js(n_entries_per_file, num_q)\n",
    "    for depth in two_q_gate_depths:\n",
    "        entries = []\n",
    "\n",
    "        random_ising = construct_ising_circuit_100q_Clifford(J=0, basis='Z', num_steps=depth)\n",
    "        trans_circuit = transpile(\n",
    "            random_ising,\n",
    "            backend=be,\n",
    "            optimization_level=2,\n",
    "            initial_layout=sherbrooke_layout,\n",
    "        )\n",
    "        to_append = dict()\n",
    "        to_append['circuit'] = trans_circuit\n",
    "        to_append['steps'] = depth\n",
    "        to_append['J'] = 0\n",
    "        entries.append(to_append)\n",
    "\n",
    "        for i in tqdm_notebook(range(1, n_entries_per_file)):\n",
    "            success = False\n",
    "            while not success:\n",
    "                try:\n",
    "                    trans_circuit, J = generating_func(J=Js[i], num_steps=depth)\n",
    "                    success = True\n",
    "                except (scipy.linalg.LinAlgError, TranspilerError, np.linalg.LinAlgError) as e:\n",
    "                    print(f\"Ran into an error:, {e}\")\n",
    "\n",
    "            to_append = dict()\n",
    "            to_append['circuit'] = trans_circuit\n",
    "            to_append['steps'] = depth\n",
    "            to_append['J'] = J\n",
    "            entries.append(to_append)\n",
    "\n",
    "        path = \"%s/step_%02d.pk\"%(save_path, depth)\n",
    "        with open(path, \"wb\") as f:\n",
    "            pickle.dump(entries, f)\n",
    "\n",
    "random.seed(42)\n",
    "np.random.seed(42)\n",
    "steps = list(range(1, 11))\n",
    "generate_data(partial(construct_random_ising_sameJ_func, be=real_backend, num_q=100), steps,\n",
    "              './data/ising_zne_hardware/100q_sherbrooke_sameJ', 30, real_backend, num_q=100)"
   ],
   "metadata": {
    "collapsed": false
   }
  },
  {
   "cell_type": "code",
   "execution_count": null,
   "outputs": [],
   "source": [
    "with open('./data/ising_zne_hardware/100q_sherbrooke_sameJ/step_01.pk', 'rb') as file:\n",
    "    loaded = pickle.load(file)\n",
    "\n",
    "circ = loaded[1]['circuit']\n",
    "circ.remove_final_measurements()\n",
    "circ.draw(**D)"
   ],
   "metadata": {
    "collapsed": false
   }
  },
  {
   "cell_type": "markdown",
   "source": [],
   "metadata": {
    "collapsed": false
   }
  },
  {
   "cell_type": "markdown",
   "source": [],
   "metadata": {
    "collapsed": false
   }
  },
  {
   "cell_type": "code",
   "execution_count": null,
   "outputs": [],
   "source": [
    "import os\n",
    "from tqdm.notebook import tqdm\n",
    "def load_circuits(data_dir, f_ext='.json'):\n",
    "    circuits = []\n",
    "    ideal_exp_vals = []\n",
    "    noisy_exp_vals = []\n",
    "    data_files = sorted([os.path.join(data_dir, f) for f in os.listdir(data_dir) if f.endswith(f_ext)])\n",
    "    for data_file in tqdm(data_files, leave=True):\n",
    "        if f_ext == '.json':\n",
    "            for entry in json.load(open(data_file, 'r')):\n",
    "                circuits.append(QuantumCircuit.from_qasm_str(entry['circuit']))\n",
    "                ideal_exp_vals.append(entry['ideal_exp_value'])\n",
    "                noisy_exp_vals.append(entry['noisy_exp_values'])\n",
    "        elif f_ext == '.pk':\n",
    "            for entry in pickle.load(open(data_file, 'rb')):\n",
    "                circuits.append(entry['circuit'])\n",
    "                # ideal_exp_vals.append(entry['ideal_exp_value'])\n",
    "                # noisy_exp_vals.append(entry['noisy_exp_values'])\n",
    "    return circuits #, ideal_exp_vals, noisy_exp_vals\n",
    "\n",
    "train_circuits = load_circuits('./data/ising_zne_hardware/100q_sherbrooke_sameJ', '.pk')"
   ],
   "metadata": {
    "collapsed": false
   }
  },
  {
   "cell_type": "code",
   "execution_count": null,
   "outputs": [],
   "source": [
    "# train_circuits[61].remove_final_measurements()\n",
    "train_circuits[1].draw(**D)"
   ],
   "metadata": {
    "collapsed": false
   }
  },
  {
   "cell_type": "markdown",
   "source": [],
   "metadata": {
    "collapsed": false
   }
  },
  {
   "cell_type": "markdown",
   "source": [],
   "metadata": {
    "collapsed": false
   }
  },
  {
   "cell_type": "code",
   "execution_count": null,
   "outputs": [],
   "source": [
    "# obs_list = ['Z'+'I'*99, 'I'*19+'Z'+'I'*80, 'I'*29+'Z'+'I'*70, 'I'*39+'Z'+'I'*60, 'I'*49+'Z'+'I'*50]\n",
    "obs_list = ['Z'+'I'*99, 'I'*22+'Z'+'I'*77, 'I'*44+'Z'+'I'*55, 'I'*61+'Z'+'I'*38, 'I'*78+'Z'+'I'*21]\n",
    "padded_obs_all_circs = []\n",
    "for trans_circuit in tqdm(train_circuits):\n",
    "    padded_obs_all_circs += [SparsePauliOp(form_all_qubit_observable(obs, get_measurement_qubits(trans_circuit, 100), 127)) for obs in obs_list]"
   ],
   "metadata": {
    "collapsed": false
   }
  },
  {
   "cell_type": "code",
   "execution_count": null,
   "outputs": [],
   "source": [
    "for i in tqdm(range(120, 125)):\n",
    "    print(126-padded_obs_all_circs[i].paulis.to_labels()[0].find('Z'), end='\\t')"
   ],
   "metadata": {
    "collapsed": false
   }
  },
  {
   "cell_type": "code",
   "execution_count": null,
   "outputs": [],
   "source": [
    "from qiskit_ibm_runtime import QiskitRuntimeService, Session, Options\n",
    "options = Options()\n",
    "options.resilience_level = 2\n",
    "options.optimization_level = 0\n",
    "options.execution.shots = 10000\n",
    "options.resilience.noise_factors = (1, 3)\n",
    "options.resilience.noise_amplifier = 'TwoQubitAmplifier'\n",
    "options.resilience.extrapolator = 'LinearExtrapolator'\n",
    "service = QiskitRuntimeService()"
   ],
   "metadata": {
    "collapsed": false
   }
  },
  {
   "cell_type": "code",
   "execution_count": null,
   "outputs": [],
   "source": [
    "job_ids = []\n",
    "num_circs_per_depth = 30\n",
    "num_depths_per_job = 1\n",
    "with Session(service=service, backend=\"ibm_sherbrooke\") as session:\n",
    "    runtime_estimator = RuntimeEstimator(session=session, options=options)\n",
    "    for i in range(0, 10, num_depths_per_job):\n",
    "        train_circuit_batch = train_circuits[num_circs_per_depth*i:num_circs_per_depth*(i+num_depths_per_job)]\n",
    "        padded_obs_batch = padded_obs_all_circs[len(obs_list)*num_circs_per_depth*i:len(obs_list)*num_circs_per_depth*(i+num_depths_per_job)]\n",
    "        assert len(train_circuit_batch) * len(obs_list) == len(padded_obs_batch)\n",
    "\n",
    "        circ_to_submit = []\n",
    "        for circ in train_circuit_batch:\n",
    "            circ.remove_final_measurements()\n",
    "            circ_to_submit.append(circ)\n",
    "\n",
    "        job = runtime_estimator.run(\n",
    "            circuits=np.repeat(np.array(circ_to_submit, dtype=QuantumCircuit), len(obs_list)),\n",
    "            observables=padded_obs_batch\n",
    "        )\n",
    "\n",
    "        job_ids.append(job.job_id())\n",
    "        print(job.job_id())\n",
    "        print(len(circ_to_submit))\n",
    "\n",
    "    with open('./data/ising_zne_hardware/100q_sherbrooke_30persteps_shots1w_sameJ_2_job_ids.pk', 'wb') as file:\n",
    "        pickle.dump(job_ids, file)"
   ],
   "metadata": {
    "collapsed": false
   }
  },
  {
   "cell_type": "code",
   "execution_count": null,
   "outputs": [],
   "source": [
    "with open('./data/ising_zne_hardware/100q_washington_30persteps_job_ids.pk', 'rb') as file:\n",
    "    loaded = pickle.load(file)\n",
    "loaded"
   ],
   "metadata": {
    "collapsed": false
   }
  },
  {
   "cell_type": "code",
   "execution_count": null,
   "outputs": [],
   "source": [
    "ret_job = service.job('chrm3c8recnk2p2nvl0g')"
   ],
   "metadata": {
    "collapsed": false
   }
  },
  {
   "cell_type": "code",
   "execution_count": null,
   "outputs": [],
   "source": [
    "ret_job.status()"
   ],
   "metadata": {
    "collapsed": false
   }
  },
  {
   "cell_type": "markdown",
   "source": [],
   "metadata": {
    "collapsed": false
   }
  },
  {
   "cell_type": "markdown",
   "source": [],
   "metadata": {
    "collapsed": false
   }
  },
  {
   "cell_type": "code",
   "execution_count": null,
   "outputs": [],
   "source": [
    "qc = QuantumCircuit(1)\n",
    "for _ in range(3):\n",
    "    qc.rz(np.pi/2, 0)\n",
    "    qc.sx(0)\n",
    "    qc.rz(np.pi*3/2, 0)\n",
    "    qc.sx(0)\n",
    "    qc.rz(np.pi*5/2, 0)\n",
    "\n",
    "Estimator().run(qc, SparsePauliOp('Z'), shots=None).result().values"
   ],
   "metadata": {
    "collapsed": false
   }
  },
  {
   "cell_type": "markdown",
   "source": [],
   "metadata": {
    "collapsed": false
   }
  },
  {
   "cell_type": "markdown",
   "source": [
    "# Verification with Clifford and stabilizer simulator"
   ],
   "metadata": {
    "collapsed": false
   }
  },
  {
   "cell_type": "code",
   "execution_count": null,
   "outputs": [],
   "source": [
    "clifford_circuits = []\n",
    "for depth in range(1, 11):\n",
    "    random_ising = construct_ising_circuit_10q(J=0, basis='Z', num_steps=depth)\n",
    "    clifford_circuits.append(random_ising)"
   ],
   "metadata": {
    "collapsed": false
   }
  },
  {
   "cell_type": "code",
   "execution_count": null,
   "outputs": [],
   "source": [
    "clifford_circuits[9].draw(**D)"
   ],
   "metadata": {
    "collapsed": false
   }
  },
  {
   "cell_type": "code",
   "execution_count": null,
   "outputs": [],
   "source": [
    "for circ in tqdm(clifford_circuits):\n",
    "    extended_stabilizer_result = AerSimulator(method='extended_stabilizer').run(circ, shots=1).result()\n",
    "    print('This succeeded?: {}'.format(extended_stabilizer_result.success))"
   ],
   "metadata": {
    "collapsed": false
   }
  },
  {
   "cell_type": "markdown",
   "source": [],
   "metadata": {
    "collapsed": false
   }
  },
  {
   "cell_type": "markdown",
   "source": [
    "# Verification"
   ],
   "metadata": {
    "collapsed": false
   }
  },
  {
   "cell_type": "code",
   "execution_count": null,
   "outputs": [],
   "source": [
    "train_circuits[20].draw('mpl', fold=-1)"
   ],
   "metadata": {
    "collapsed": false
   }
  },
  {
   "cell_type": "code",
   "execution_count": null,
   "outputs": [],
   "source": [
    "ideal_vals = []\n",
    "noisy_vals = []\n",
    "for circ in tqdm(train_circuits):\n",
    "    counts_ideal = fake_backend_ideal.run(circ, shots=10000).result().get_counts()\n",
    "    ideal_exp_vals = -1*cal_z_exp(counts_ideal)\n",
    "    ideal_vals.extend(ideal_exp_vals)\n",
    "\n",
    "    counts_noisy = fake_backend_noisy.run(circ, shots=10000).result().get_counts()\n",
    "    noisy_exp_vals = -1*cal_z_exp(counts_noisy)\n",
    "    noisy_vals.extend(noisy_exp_vals)"
   ],
   "metadata": {
    "collapsed": false
   }
  },
  {
   "cell_type": "code",
   "execution_count": null,
   "outputs": [],
   "source": [
    "k = 30\n",
    "train_circuits[k].draw('mpl', fold=-1, idle_wires=False)"
   ],
   "metadata": {
    "collapsed": false
   }
  },
  {
   "cell_type": "code",
   "execution_count": null,
   "outputs": [],
   "source": [
    "for k in range(100):\n",
    "    for i in range(6):\n",
    "        print(ideal_vals[6*k+i], '\\t', noisy_vals[6*k+i], '\\t\\t', mitigated_vals[6*k+i])"
   ],
   "metadata": {
    "collapsed": false
   }
  },
  {
   "cell_type": "code",
   "execution_count": null,
   "outputs": [],
   "source": [
    "ideal_vals = []\n",
    "for i in range(0, 15, 5):\n",
    "    train_circuit_batch = train_circuits[20*i:20*(i+5)]\n",
    "    for trans_circuit in train_circuit_batch:\n",
    "        obs_list = ['I'*i+'Z'+'I'*(6-1-i) for i in range(6)]\n",
    "        padded_obs = [SparsePauliOp(form_all_qubit_observable(obs, get_measurement_qubits(trans_circuit, 6), 127)) for obs in obs_list]\n",
    "        trans_circuit_copy = trans_circuit.copy()\n",
    "        trans_circuit_copy.remove_final_measurements()\n",
    "        exp_vals = Estimator().run([trans_circuit_copy]*6, padded_obs, shots=None).result().values\n",
    "        ideal_vals.append(*exp_vals)"
   ],
   "metadata": {
    "collapsed": false
   }
  },
  {
   "cell_type": "markdown",
   "source": [],
   "metadata": {
    "collapsed": false
   }
  },
  {
   "cell_type": "markdown",
   "source": [],
   "metadata": {
    "collapsed": false
   }
  },
  {
   "cell_type": "markdown",
   "source": [],
   "metadata": {
    "collapsed": false
   }
  }
 ],
 "metadata": {
  "kernelspec": {
   "display_name": "Python 3",
   "language": "python",
   "name": "python3"
  },
  "language_info": {
   "codemirror_mode": {
    "name": "ipython",
    "version": 2
   },
   "file_extension": ".py",
   "mimetype": "text/x-python",
   "name": "python",
   "nbconvert_exporter": "python",
   "pygments_lexer": "ipython2",
   "version": "2.7.6"
  }
 },
 "nbformat": 4,
 "nbformat_minor": 0
}
