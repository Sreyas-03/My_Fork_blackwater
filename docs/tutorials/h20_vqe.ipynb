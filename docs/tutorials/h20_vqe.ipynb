{
 "cells": [
  {
   "cell_type": "code",
   "execution_count": 2,
   "metadata": {
    "collapsed": true
   },
   "outputs": [],
   "source": [
    "import os\n",
    "from pathlib import Path\n",
    "\n",
    "from qiskit import transpile\n",
    "from qiskit.circuit.random import random_circuit\n",
    "from qiskit.providers.fake_provider import FakeLimaV2\n",
    "from qiskit.quantum_info import SparsePauliOp\n",
    "from qiskit.primitives import BackendEstimator, Estimator\n",
    "\n",
    "from tqdm.notebook import tqdm_notebook\n",
    "\n",
    "# from blackwater.data import ExpValData, ExpValDataWriter\n",
    "\n",
    "from blackwater.data.utils import get_backend_properties_v1, encode_pauli_sum_op\n",
    "from blackwater.exception import BlackwaterException\n",
    "# from blackwater.library.temp import encode_data\n",
    "\n",
    "from qiskit import QuantumCircuit, transpile\n",
    "from qiskit.opflow import PauliSumOp\n",
    "from qiskit.primitives import BaseEstimator, EstimatorResult\n",
    "from qiskit.providers import JobV1 as Job, Options, BackendV2, Backend, BackendV1\n",
    "from qiskit.quantum_info import SparsePauliOp\n",
    "from qiskit.providers.fake_provider import FakeLimaV2, FakeLima, ConfigurableFakeBackend\n",
    "from qiskit.opflow import I, X, Z\n",
    "from qiskit.algorithms.minimum_eigensolvers import VQE, VQEResult\n",
    "from qiskit.algorithms.optimizers import SLSQP\n",
    "from qiskit.circuit.library import TwoLocal\n",
    "\n",
    "from blackwater.data.utils import generate_random_pauli_sum_op, get_backend_properties_v1\n",
    "from blackwater.library.learning.estimator import learning, EmptyProcessor, TorchLearningModelProcessor\n",
    "from mlp import encode_data, MLP1"
   ]
  },
  {
   "cell_type": "code",
   "execution_count": 4,
   "outputs": [],
   "source": [
    "from qiskit_aer import AerSimulator\n",
    "backend = FakeLima()\n",
    "backend_noisy = AerSimulator.from_backend(backend) # Noisy\n",
    "run_config_noisy = {'shots': 10000, 'backend': backend_noisy, 'name': 'noisy'}"
   ],
   "metadata": {
    "collapsed": false
   }
  },
  {
   "cell_type": "code",
   "execution_count": null,
   "outputs": [],
   "source": [
    "import itertools\n",
    "import numpy as np\n",
    "\n",
    "np.random.seed(0)\n",
    "pauli_list_full = [''.join(s) for s in itertools.product(['X','Y','Z','I'], repeat=4)]\n",
    "np.random.shuffle(pauli_list_full)\n",
    "\n",
    "sep = 128\n",
    "\n",
    "train_paulis = pauli_list_full[:sep]\n",
    "test_paulis = pauli_list_full[sep:]\n",
    "print(len(train_paulis), len(test_paulis))"
   ],
   "metadata": {
    "collapsed": false
   }
  }
 ],
 "metadata": {
  "kernelspec": {
   "display_name": "Python 3",
   "language": "python",
   "name": "python3"
  },
  "language_info": {
   "codemirror_mode": {
    "name": "ipython",
    "version": 2
   },
   "file_extension": ".py",
   "mimetype": "text/x-python",
   "name": "python",
   "nbconvert_exporter": "python",
   "pygments_lexer": "ipython2",
   "version": "2.7.6"
  }
 },
 "nbformat": 4,
 "nbformat_minor": 0
}
