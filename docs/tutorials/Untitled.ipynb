{
 "cells": [
  {
   "cell_type": "code",
   "execution_count": 1,
   "id": "cc310d80-2c20-4e24-90fd-15f250282a17",
   "metadata": {},
   "outputs": [],
   "source": [
    "import os\n",
    "from pathlib import Path\n",
    "\n",
    "from qiskit import transpile\n",
    "from qiskit.circuit.random import random_circuit\n",
    "from qiskit.providers.fake_provider import FakeLimaV2\n",
    "from qiskit.quantum_info import SparsePauliOp\n",
    "from qiskit.primitives import BackendEstimator, Estimator\n",
    "\n",
    "from tqdm.notebook import tqdm_notebook\n",
    "\n",
    "from blackwater.data import ExpValData, ExpValDataWriter\n",
    "\n",
    "from blackwater.data.utils import get_backend_properties_v1, encode_pauli_sum_op\n",
    "from blackwater.exception import BlackwaterException\n",
    "from blackwater.library.temp import encode_data"
   ]
  },
  {
   "cell_type": "code",
   "execution_count": 9,
   "id": "e681a13e-63b0-489e-959a-957f80f9ec20",
   "metadata": {},
   "outputs": [],
   "source": [
    "from qiskit import QuantumCircuit, transpile\n",
    "from qiskit.opflow import PauliSumOp\n",
    "from qiskit.primitives import BaseEstimator, EstimatorResult\n",
    "from qiskit.providers import JobV1 as Job, Options, BackendV2, Backend, BackendV1\n",
    "from qiskit.quantum_info import SparsePauliOp\n",
    "from qiskit.providers.fake_provider import FakeLimaV2, FakeLima, ConfigurableFakeBackend\n",
    "from qiskit.opflow import I, X, Z\n",
    "from qiskit.algorithms.minimum_eigensolvers import VQE, VQEResult\n",
    "from qiskit.algorithms.optimizers import SLSQP\n",
    "from qiskit.circuit.library import TwoLocal"
   ]
  },
  {
   "cell_type": "code",
   "execution_count": 3,
   "id": "23d945d6-96ed-4378-90ad-03c9df66794a",
   "metadata": {},
   "outputs": [],
   "source": [
    "from blackwater.data.utils import generate_random_pauli_sum_op, get_backend_properties_v1\n",
    "from blackwater.library.learning.estimator import learning, EmptyProcessor, TorchLearningModelProcessor\n",
    "from blackwater.library.temp import encode_data, MLP1"
   ]
  },
  {
   "cell_type": "code",
   "execution_count": 116,
   "id": "0a267362-807c-4d03-8020-e1ab34c0e811",
   "metadata": {},
   "outputs": [],
   "source": [
    "from qiskit_aer import AerSimulator\n",
    "backend_noisy = AerSimulator.from_backend(backend) # Noisy\n",
    "run_config_noisy = {'shots': 10000, 'backend': backend_noisy, 'name': 'noisy'}"
   ]
  },
  {
   "cell_type": "code",
   "execution_count": 104,
   "id": "5b4bda66-9e59-4d39-9338-bd4097d00a1c",
   "metadata": {},
   "outputs": [],
   "source": [
    "# backend = ConfigurableFakeBackend(\"Tashkent\", n_qubits=4, version=1,\n",
    "#                                  # qubit_t1=0.00011377694598809795,\n",
    "#                                  # qubit_t2=0.00010553074510239035\n",
    "#                                  )\n",
    "backend = FakeLima()\n",
    "properties = get_backend_properties_v1(backend)"
   ]
  },
  {
   "cell_type": "code",
   "execution_count": 31,
   "id": "5b1e50a4-e42a-4d0a-b9fe-67557e4f6cb9",
   "metadata": {},
   "outputs": [],
   "source": [
    "# ideal_estimator = Estimator() # AerEstimator(skip_transpilation=True) #"
   ]
  },
  {
   "cell_type": "code",
   "execution_count": 37,
   "id": "de4b8cd0-e537-46f4-a2ce-4bdaeb0231ed",
   "metadata": {},
   "outputs": [],
   "source": [
    "# import itertools\n",
    "# pauli_list_full = [\"\".join(s) for s in itertools.product([\"X\", \"Y\", \"Z\", \"I\"], repeat=4)]\n",
    "# pauli_list_full"
   ]
  },
  {
   "cell_type": "code",
   "execution_count": 32,
   "id": "abe63ee0-6aa2-4971-96c2-2c6e6a6f39ca",
   "metadata": {},
   "outputs": [],
   "source": [
    "# operator = (-1.052373245772859 * I ^ I) + \\\n",
    "#             (0.39793742484318045 * I ^ Z) + \\\n",
    "#             (-0.39793742484318045 * Z ^ I) + \\\n",
    "#             (-0.01128010425623538 * Z ^ Z) + \\\n",
    "#             (0.18093119978423156 * X ^ X)\n",
    "\n",
    "# ansatz = TwoLocal(rotation_blocks='rx', entanglement_blocks='cx', reps=3)\n",
    "# ansatz.num_qubits = operator.num_qubits"
   ]
  },
  {
   "cell_type": "code",
   "execution_count": 105,
   "id": "d99560bb-3e8d-4cc9-9a35-0c6a65d0c535",
   "metadata": {},
   "outputs": [
    {
     "name": "stdout",
     "output_type": "stream",
     "text": [
      "128 128\n"
     ]
    }
   ],
   "source": [
    "import itertools\n",
    "import numpy as np\n",
    "\n",
    "np.random.seed(0)\n",
    "pauli_list_full = [''.join(s) for s in itertools.product(['X','Y','Z','I'], repeat=4)]\n",
    "np.random.shuffle(pauli_list_full)\n",
    "\n",
    "sep = 128\n",
    "\n",
    "train_paulis = pauli_list_full[:sep]\n",
    "test_paulis = pauli_list_full[sep:]\n",
    "print(len(train_paulis), len(test_paulis))"
   ]
  },
  {
   "cell_type": "code",
   "execution_count": 110,
   "id": "4f779885-dc4a-45aa-857e-7ee2383e4fd3",
   "metadata": {},
   "outputs": [],
   "source": [
    "train_circuits = []\n",
    "N = 10\n",
    "ansatz = TwoLocal(num_qubits=4, rotation_blocks='rx', entanglement_blocks='cx', reps=3)\n",
    "num_params = len(list(ansatz.parameters))\n",
    "for pauli in train_paulis:\n",
    "    measurement_circ = QuantumCircuit(4)\n",
    "    for i, p in enumerate(pauli):\n",
    "        if p in ['Z', 'I']:\n",
    "            pass\n",
    "        elif p == 'X':\n",
    "            measurement_circ.x(i)\n",
    "        elif p == 'Y':\n",
    "            measurement_circ.sdg(i)\n",
    "            measurement_circ.h(i)\n",
    "        else:\n",
    "            raise Exception\n",
    "    ansatz.compose(measurement_circ, inplace=True)\n",
    "    ansatz.measure_all()\n",
    "    for _ in range(N):\n",
    "        train_circuits.append(ansatz.bind_parameters(np.random.uniform(-5, 5, num_params)))"
   ]
  },
  {
   "cell_type": "code",
   "execution_count": 111,
   "id": "c3b45c73-52a6-4ffb-b978-dee6dafb0b39",
   "metadata": {},
   "outputs": [],
   "source": [
    "test_circuits = []\n",
    "N = 10\n",
    "ansatz = TwoLocal(num_qubits=4, rotation_blocks='rx', entanglement_blocks='cx', reps=3)\n",
    "num_params = len(list(ansatz.parameters))\n",
    "for pauli in test_paulis:\n",
    "    measurement_circ = QuantumCircuit(4)\n",
    "    for i, p in enumerate(pauli):\n",
    "        if p in ['Z', 'I']:\n",
    "            pass\n",
    "        elif p == 'X':\n",
    "            measurement_circ.x(i)\n",
    "        elif p == 'Y':\n",
    "            measurement_circ.sdg(i)\n",
    "            measurement_circ.h(i)\n",
    "        else:\n",
    "            raise Exception\n",
    "    ansatz.compose(measurement_circ, inplace=True)\n",
    "    ansatz.measure_all()\n",
    "    for _ in range(N):\n",
    "        test_circuits.append(ansatz.bind_parameters(np.random.uniform(-5, 5, num_params)))"
   ]
  },
  {
   "cell_type": "code",
   "execution_count": 98,
   "id": "8ba8b9e8-c715-499f-92ad-26721046dec9",
   "metadata": {},
   "outputs": [
    {
     "data": {
      "text/plain": [
       "[<qiskit.circuit.quantumcircuit.QuantumCircuit at 0x7fd100cd6340>,\n",
       " <qiskit.circuit.quantumcircuit.QuantumCircuit at 0x7fd100cd6af0>,\n",
       " <qiskit.circuit.quantumcircuit.QuantumCircuit at 0x7fd130838c70>,\n",
       " <qiskit.circuit.quantumcircuit.QuantumCircuit at 0x7fd0e17141c0>,\n",
       " <qiskit.circuit.quantumcircuit.QuantumCircuit at 0x7fd132d95be0>]"
      ]
     },
     "execution_count": 98,
     "metadata": {},
     "output_type": "execute_result"
    }
   ],
   "source": [
    "test_circuits[:5]"
   ]
  },
  {
   "cell_type": "code",
   "execution_count": null,
   "id": "964bcdc1-7009-431d-a150-865ea249e5f0",
   "metadata": {},
   "outputs": [],
   "source": []
  },
  {
   "cell_type": "code",
   "execution_count": null,
   "id": "06a1273b-3c65-4afb-86d5-c161d57ceac3",
   "metadata": {},
   "outputs": [],
   "source": []
  },
  {
   "cell_type": "code",
   "execution_count": 118,
   "id": "77b4b797-6b4b-4ad7-b1bf-06eedffc6d60",
   "metadata": {},
   "outputs": [],
   "source": [
    "from qiskit.result import marginal_counts\n",
    "from qiskit import execute\n",
    "from qiskit_aer import QasmSimulator\n",
    "\n",
    "qasm_sim = QasmSimulator()\n",
    "\n",
    "def get_all_z_exp_wo_shot_noise(circuit, marginal_over=None):\n",
    "    circuit_copy = circuit.copy()\n",
    "    circuit_copy.remove_final_measurements()\n",
    "    circuit_copy.save_density_matrix()\n",
    "\n",
    "    def int_to_bin(n, num_bits=4):\n",
    "        if n < 2**num_bits:\n",
    "            binary_str = bin(n)[2:]\n",
    "            return binary_str.zfill(num_bits)\n",
    "        else:\n",
    "            raise ValueError\n",
    "\n",
    "    # print(circuit_copy.draw())\n",
    "    circuit_copy = transpile(circuit_copy, backend=backend_noisy, optimization_level=3)\n",
    "    job = qasm_sim.run(circuit_copy)\n",
    "    # job = execute(circuit_copy, QasmSimulator(), backend_options={'method': 'statevector'})\n",
    "    probs = np.real(np.diag(job.result().results[0].data.density_matrix))\n",
    "    probs = {int_to_bin(i, num_bits=4): p for i, p in enumerate(probs)}\n",
    "\n",
    "    if marginal_over:\n",
    "        probs = marginal_counts(probs, indices=marginal_over)\n",
    "\n",
    "    exp_val = 0\n",
    "    for key, prob in probs.items():\n",
    "        num_ones = key.count('1')\n",
    "        exp_val += (-1) ** num_ones * prob\n",
    "\n",
    "    return exp_val\n",
    "\n",
    "train_ideal_exp_vals = []\n",
    "for train_circ, obs in zip(train_circuits, train_paulis):\n",
    "    marginal_over = np.where(obs == 'I')[0].tolist() if 'I' in obs else None\n",
    "    train_ideal_exp_vals.append(get_all_z_exp_wo_shot_noise(train_circ, marginal_over=marginal_over))"
   ]
  },
  {
   "cell_type": "code",
   "execution_count": 119,
   "id": "e76ff64a-bfcb-4449-a78e-8b5610080914",
   "metadata": {},
   "outputs": [],
   "source": [
    "test_ideal_exp_vals = []\n",
    "for test_circ, obs in zip(test_circuits, test_paulis):\n",
    "    marginal_over = np.where(obs == 'I')[0].tolist() if 'I' in obs else None\n",
    "    test_ideal_exp_vals.append(get_all_z_exp_wo_shot_noise(test_circ, marginal_over=marginal_over))"
   ]
  },
  {
   "cell_type": "code",
   "execution_count": 120,
   "id": "0bd59df5-4701-4a71-9ea5-8771c3909438",
   "metadata": {},
   "outputs": [],
   "source": [
    "def cal_all_z_exp(counts, marginal_over=None):\n",
    "    if marginal_over:\n",
    "        counts = marginal_counts(counts, indices=marginal_over)\n",
    "\n",
    "    shots = sum(list(counts.values()))\n",
    "    all_z_exp = 0\n",
    "    for key, value in counts.items():\n",
    "        num_ones = key.count('1')\n",
    "        sign = (-1) ** num_ones  # Sign of the term in 'key' depends on the number of 0's, e.g. '11' is +, '110' is -\n",
    "        all_z_exp += sign * value\n",
    "    all_z_exp = all_z_exp / shots\n",
    "\n",
    "    return all_z_exp"
   ]
  },
  {
   "cell_type": "code",
   "execution_count": null,
   "id": "50428881-fff3-4fa0-9c1f-d5be31612e39",
   "metadata": {},
   "outputs": [
    {
     "data": {
      "application/vnd.jupyter.widget-view+json": {
       "model_id": "2b8c57612efe476c8ec4bb1ccd3b6f7c",
       "version_major": 2,
       "version_minor": 0
      },
      "text/plain": [
       "  0%|          | 0/1280 [00:00<?, ?it/s]"
      ]
     },
     "metadata": {},
     "output_type": "display_data"
    }
   ],
   "source": [
    "train_noisy_exp_vals = []\n",
    "for circuit in tqdm_notebook(train_circuits):\n",
    "    job_noisy = execute(circuit, **run_config_noisy)\n",
    "    counts_noisy = job_noisy.result().get_counts()\n",
    "    train_noisy_exp_vals.append(cal_all_z_exp(counts_noisy, marginal_over=marginal_over))"
   ]
  },
  {
   "cell_type": "code",
   "execution_count": null,
   "id": "d6c8b293-59c0-4764-b9aa-5c38e9054f7d",
   "metadata": {},
   "outputs": [],
   "source": [
    "test_noisy_exp_vals = []\n",
    "for circuit in tqdm_notebook(test_circuits):\n",
    "    job_noisy = execute(circuit, **run_config_noisy)\n",
    "    counts_noisy = job_noisy.result().get_counts()\n",
    "    test_noisy_exp_vals.append(cal_all_z_exp(counts_noisy, marginal_over=marginal_over))"
   ]
  },
  {
   "cell_type": "code",
   "execution_count": null,
   "id": "c38a27be-b1a3-4c7d-bd0c-1579e9fee05c",
   "metadata": {},
   "outputs": [],
   "source": [
    "train_observables = [encode_pauli_sum_op(SparsePauliOp(basis))[0] for basis in train_paulis]\n",
    "test_observables = [encode_pauli_sum_op(SparsePauliOp(basis))[0] for basis in test_paulis]\n",
    "train_noisy_exp_vals_copy = [x[0][0] for x in train_noisy_exp_vals]\n",
    "test_noisy_exp_vals_copy = [x[0][0] for x in test_noisy_exp_vals]\n",
    "X_train, y_train = encode_data(train_circuits, properties, train_ideal_exp_vals, train_noisy_exp_vals_copy, num_qubits=1, meas_bases=train_observables)\n",
    "X_test, y_test = encode_data(test_circuits, properties, test_ideal_exp_vals, test_noisy_exp_vals_copy, num_qubits=1, meas_bases=test_observables)\n",
    "\n",
    "BATCH_SIZE = 32\n",
    "fix_random_seed(0)\n",
    "test_dataset = TensorDataset(torch.Tensor(X_test), torch.Tensor(y_test))\n",
    "test_loader = DataLoader(test_dataset, batch_size=BATCH_SIZE*1000, shuffle=False)\n",
    "\n",
    "\n"
   ]
  },
  {
   "cell_type": "code",
   "execution_count": null,
   "id": "c0a2bbe4-3374-4556-8a6a-b106bfadb547",
   "metadata": {},
   "outputs": [],
   "source": []
  },
  {
   "cell_type": "code",
   "execution_count": null,
   "id": "30a12060-f651-4e1f-b690-8fb803c28869",
   "metadata": {},
   "outputs": [],
   "source": []
  },
  {
   "cell_type": "code",
   "execution_count": null,
   "id": "30b5301b-1bed-4e6e-a207-f53fa51c250f",
   "metadata": {},
   "outputs": [],
   "source": []
  },
  {
   "cell_type": "code",
   "execution_count": null,
   "id": "19fb1fcc-2a25-4a84-b6c6-e26364813bba",
   "metadata": {},
   "outputs": [],
   "source": []
  },
  {
   "cell_type": "code",
   "execution_count": null,
   "id": "205cd46b-fedb-4c9a-8e92-4cb3845ec68c",
   "metadata": {},
   "outputs": [],
   "source": []
  },
  {
   "cell_type": "code",
   "execution_count": null,
   "id": "f02d3c3a-623c-4b3e-9209-bef21d9657d6",
   "metadata": {},
   "outputs": [],
   "source": []
  },
  {
   "cell_type": "code",
   "execution_count": null,
   "id": "820c0cec-b280-460b-8b5f-28d38a056d8f",
   "metadata": {},
   "outputs": [],
   "source": []
  },
  {
   "cell_type": "code",
   "execution_count": 25,
   "id": "c731ae1c-085a-4619-821f-b8ca0365973e",
   "metadata": {},
   "outputs": [],
   "source": [
    "backend = ConfigurableFakeBackend(\"Tashkent\", n_qubits=2, version=1)\n",
    "model = MLP1(64, 5, 1)\n",
    "backend = FakeLima()\n",
    "        "
   ]
  },
  {
   "cell_type": "code",
   "execution_count": 29,
   "id": "4d6229e7-4316-4c16-82bb-064e66226f0a",
   "metadata": {},
   "outputs": [
    {
     "name": "stdout",
     "output_type": "stream",
     "text": [
      "(-0.38997631156859947+0j)\n",
      "(-0.38997631156859947+0j)\n",
      "(-0.38997631156859947+0j)\n",
      "(-0.38997631156859947+0j)\n",
      "(-0.38997631156859947+0j)\n",
      "(-0.38997631156859947+0j)\n",
      "(-0.38997631156859947+0j)\n",
      "(-0.38997631156859947+0j)\n",
      "(-0.38997631156859947+0j)\n"
     ]
    }
   ],
   "source": [
    "processor = TorchLearningModelProcessor(\n",
    "    model=model,\n",
    "    backend=backend\n",
    ")\n",
    "\n",
    "circuit = transpile(random_circuit(2, 2, measure=False), backend)\n",
    "obs = generate_random_pauli_sum_op(2, 1, coeff=1.0)\n",
    "\n",
    "coefficent = np.random.uniform(-1, 1, size=10)\n",
    "operator = coefficient.dot(np.random.choice(train_paulis, size=2)+np.random.choice(test_paulis, size=8))\n",
    "\n",
    "\n",
    "\n",
    "ansatz = TwoLocal(rotation_blocks=\"ry\", entanglement_blocks=\"cz\")\n",
    "\n",
    "\n",
    "learning_estimator = learning(Estimator, processor=processor, backend=backend, skip_transpile=True)\n",
    "estimator = learning_estimator()\n",
    "\n",
    "slsqp = SLSQP(maxiter=100)\n",
    "vqe = VQE(estimator, ansatz, slsqp, callback=lambda a, b, c, d: print(c))\n",
    "result = vqe.compute_minimum_eigenvalue(operator)"
   ]
  },
  {
   "cell_type": "code",
   "execution_count": 27,
   "id": "e0a1f230-c23c-4d5a-b8d1-dab86e8b6abb",
   "metadata": {},
   "outputs": [
    {
     "data": {
      "text/plain": [
       "-0.3910270230824997"
      ]
     },
     "execution_count": 27,
     "metadata": {},
     "output_type": "execute_result"
    }
   ],
   "source": [
    "result.eigenvalue.real"
   ]
  },
  {
   "cell_type": "code",
   "execution_count": null,
   "id": "9615c184-122d-47c5-9ce2-73051ed09b10",
   "metadata": {},
   "outputs": [],
   "source": []
  }
 ],
 "metadata": {
  "kernelspec": {
   "display_name": "Python 3 (ipykernel)",
   "language": "python",
   "name": "python3"
  },
  "language_info": {
   "codemirror_mode": {
    "name": "ipython",
    "version": 3
   },
   "file_extension": ".py",
   "mimetype": "text/x-python",
   "name": "python",
   "nbconvert_exporter": "python",
   "pygments_lexer": "ipython3",
   "version": "3.9.16"
  }
 },
 "nbformat": 4,
 "nbformat_minor": 5
}
