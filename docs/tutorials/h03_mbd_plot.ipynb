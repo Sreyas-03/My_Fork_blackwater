{
 "cells": [
  {
   "cell_type": "code",
   "execution_count": 3,
   "metadata": {
    "collapsed": true
   },
   "outputs": [],
   "source": [
    "import json\n",
    "import glob\n",
    "\n",
    "import numpy as np\n",
    "import pandas as pd\n",
    "\n",
    "from qiskit import transpile\n",
    "from qiskit import execute\n",
    "from qiskit.providers.fake_provider import FakeLima\n",
    "from qiskit.primitives import Estimator\n",
    "from qiskit.circuit.random import random_circuit\n",
    "\n",
    "import torch\n",
    "from torch.optim import Adam\n",
    "from torch.optim.lr_scheduler import ReduceLROnPlateau\n",
    "from torch.nn.functional import dropout\n",
    "\n",
    "from torch_geometric.nn import GCNConv, global_mean_pool, Linear, ChebConv, SAGEConv\n",
    "from torch_geometric.data import Data\n",
    "from torch_geometric.loader import DataLoader\n",
    "\n",
    "from tqdm.notebook import tqdm_notebook\n",
    "import matplotlib.pyplot as plt\n",
    "import seaborn as sns\n",
    "\n",
    "from blackwater.data.loaders.exp_val import CircuitGraphExpValMitigationDataset\n",
    "from blackwater.data.generators.exp_val import exp_value_generator\n",
    "from blackwater.data.utils import generate_random_pauli_sum_op\n",
    "from blackwater.library.ngem.estimator import ngem\n",
    "\n",
    "from qiskit.quantum_info import random_clifford\n",
    "\n",
    "import random\n",
    "from qiskit.circuit.library import HGate, SdgGate\n",
    "from qiskit.circuit import ClassicalRegister\n",
    "\n",
    "from blackwater.data.utils import (\n",
    "    generate_random_pauli_sum_op,\n",
    "    create_estimator_meas_data,\n",
    "    circuit_to_graph_data_json,\n",
    "    get_backend_properties_v1,\n",
    "    encode_pauli_sum_op,\n",
    "    create_meas_data_from_estimators\n",
    ")\n",
    "from blackwater.data.generators.exp_val import ExpValueEntry\n",
    "from blackwater.metrics.improvement_factor import improvement_factor, Trial, Problem\n",
    "\n",
    "from qiskit_aer import AerSimulator, QasmSimulator\n",
    "from qiskit.providers.fake_provider import FakeMontreal, FakeLima\n",
    "\n",
    "from torch_geometric.nn import (\n",
    "    GCNConv,\n",
    "    TransformerConv,\n",
    "    GATv2Conv,\n",
    "    global_mean_pool,\n",
    "    Linear,\n",
    "    ChebConv,\n",
    "    SAGEConv,\n",
    "    ASAPooling,\n",
    "    dense_diff_pool,\n",
    "    avg_pool_neighbor_x\n",
    ")\n",
    "from torch_geometric.data import Data\n",
    "from torch_geometric.loader import DataLoader\n",
    "from torch_geometric.utils import to_dense_adj, to_dense_batch\n",
    "\n",
    "from qiskit import QuantumCircuit\n",
    "from qiskit.circuit.library import U3Gate, CZGate, PhaseGate, CXGate\n",
    "from mbd_utils import construct_random_clifford, cal_z_exp, calc_imbalance, cal_all_z_exp, construct_mbl_circuit, generate_disorder\n",
    "from gnn import ExpValCircuitGraphModel\n",
    "plt.style.use({'figure.facecolor':'white'})"
   ]
  },
  {
   "cell_type": "code",
   "execution_count": 4,
   "outputs": [],
   "source": [
    "backend = FakeLima()\n",
    "properties = get_backend_properties_v1(backend)\n",
    "\n",
    "## Local\n",
    "backend_ideal = QasmSimulator() # Noiseless\n",
    "backend_noisy = AerSimulator.from_backend(FakeLima()) # Noisy\n",
    "\n",
    "run_config_ideal = {'shots': 10000, 'backend': backend_ideal, 'name': 'ideal'}\n",
    "run_config_noisy = {'shots': 10000, 'backend': backend_noisy, 'name': 'noisy'}"
   ],
   "metadata": {
    "collapsed": false
   }
  },
  {
   "cell_type": "code",
   "execution_count": 7,
   "outputs": [],
   "source": [
    "model_path_1 = './model/haoran_mbd/random_cliffords.pth'\n",
    "model_path_2 = './model/haoran_mbd/random_circuits.pth'\n",
    "model_path_3 = './model/haoran_mbd/mbd_10steps.pth'"
   ],
   "metadata": {
    "collapsed": false
   }
  },
  {
   "cell_type": "code",
   "execution_count": 8,
   "outputs": [
    {
     "data": {
      "text/plain": "ExpValCircuitGraphModel(\n  (transformer1): TransformerConv(22, 15, heads=3)\n  (pooling1): ASAPooling(45, ratio=0.5)\n  (transformer2): TransformerConv(45, 15, heads=2)\n  (pooling2): ASAPooling(30, ratio=0.5)\n  (body_seq): Sequential(\n    (0): Linear(35, 15, bias=True)\n    (1): Dropout(p=0.2, inplace=False)\n    (2): Linear(15, 4, bias=True)\n  )\n)"
     },
     "execution_count": 8,
     "metadata": {},
     "output_type": "execute_result"
    }
   ],
   "source": [
    "model_1 = ExpValCircuitGraphModel(\n",
    "    num_node_features=22,\n",
    "    hidden_channels=15\n",
    ")\n",
    "model_1.load_state_dict(torch.load(model_path_1))\n",
    "model_1.eval()\n",
    "\n",
    "model_2 = ExpValCircuitGraphModel(\n",
    "    num_node_features=22,\n",
    "    hidden_channels=15\n",
    ")\n",
    "model_2.load_state_dict(torch.load(model_path_2))\n",
    "model_2.eval()\n",
    "\n",
    "model_3 = ExpValCircuitGraphModel(\n",
    "    num_node_features=22,\n",
    "    hidden_channels=15\n",
    ")\n",
    "model_3.load_state_dict(torch.load(model_path_3))\n",
    "model_3.eval()"
   ],
   "metadata": {
    "collapsed": false
   }
  },
  {
   "cell_type": "code",
   "execution_count": 9,
   "outputs": [
    {
     "data": {
      "text/plain": "  0%|          | 0/30 [00:00<?, ?it/s]",
      "application/vnd.jupyter.widget-view+json": {
       "version_major": 2,
       "version_minor": 0,
       "model_id": "cf97eb96b9be4780b4a47305d4e2b0ef"
      }
     },
     "metadata": {},
     "output_type": "display_data"
    }
   ],
   "source": [
    "## Now we need to average over many disorders\n",
    "num_disorders = 30\n",
    "\n",
    "num_spins = 4 # Number of spins. Must be even.\n",
    "W = 0.8 * np.pi # Disorder strength up to np.pi\n",
    "theta = 0.05 * np.pi # Interaction strength up to np.pi\n",
    "max_steps = 10\n",
    "\n",
    "even_qubits = np.linspace(0, num_spins, int(num_spins/2), endpoint=False)\n",
    "odd_qubits = np.linspace(1, num_spins+1, int(num_spins/2), endpoint=False)\n",
    "\n",
    "# For each disorder realization, make a new disorder\n",
    "# and compute the charge imbalance using the same physics parameters as before\n",
    "imbalance_all_ideal = []\n",
    "imbalance_all_noisy = []\n",
    "imbalance_all_mitigated_1 = []\n",
    "imbalance_all_mitigated_2 = []\n",
    "imbalance_all_mitigated_3 = []\n",
    "\n",
    "for disorder_realization in tqdm_notebook(range(num_disorders)):\n",
    "    disorders = generate_disorder(num_spins, W, seed=disorder_realization)\n",
    "    # print(disorders)\n",
    "\n",
    "    qc_list = []\n",
    "    for steps in range(max_steps + 10):\n",
    "        qc_list.append(construct_mbl_circuit(num_spins, disorders, theta, steps))\n",
    "\n",
    "    transpiled_qc_list = transpile(qc_list, backend_noisy, optimization_level=3)\n",
    "    job_ideal = execute(qc_list, **run_config_ideal)\n",
    "    job_noisy = execute(transpiled_qc_list, **run_config_noisy)\n",
    "\n",
    "    exp_Z_ideal = []\n",
    "    exp_Z_noisy = []\n",
    "    exp_Z_mitigated_1 = []\n",
    "    exp_Z_mitigated_2 = []\n",
    "    exp_Z_mitigated_3 = []\n",
    "\n",
    "\n",
    "    for i in range(len(qc_list)):\n",
    "        counts_ideal = job_ideal.result().get_counts()[i]\n",
    "        counts_noisy = job_noisy.result().get_counts()[i]\n",
    "\n",
    "        ideal_exp_val = cal_z_exp(counts_ideal)\n",
    "        noisy_exp_val = cal_z_exp(counts_noisy)\n",
    "\n",
    "        exp_Z_ideal.append(list(ideal_exp_val)) # Single-Z expectation value of each qubit\n",
    "        exp_Z_noisy.append(list(noisy_exp_val)) # Single-Z expectation value of each qubit\n",
    "\n",
    "        graph_data = circuit_to_graph_data_json(\n",
    "            circuit=transpiled_qc_list[i],\n",
    "            properties=properties,\n",
    "            use_qubit_features=True,\n",
    "            use_gate_features=True,\n",
    "        )\n",
    "\n",
    "        entry = ExpValueEntry(\n",
    "            circuit_graph=graph_data,\n",
    "            observable=[],\n",
    "            ideal_exp_value=ideal_exp_val.tolist(),\n",
    "            noisy_exp_values=[noisy_exp_val.tolist()],\n",
    "            circuit_depth=transpiled_qc_list[i].depth()\n",
    "        ).to_pyg_data()\n",
    "\n",
    "        # print(entry.batch)\n",
    "        mitigated_exp_val_1 = model_1(entry.noisy_0,\n",
    "                            entry.observable,\n",
    "                            entry.circuit_depth,\n",
    "                            entry.x,\n",
    "                            entry.edge_index,\n",
    "                            entry.batch).tolist()[0]\n",
    "\n",
    "        exp_Z_mitigated_1.append(mitigated_exp_val_1)\n",
    "\n",
    "        mitigated_exp_val_2 = model_2(entry.noisy_0,\n",
    "                            entry.observable,\n",
    "                            entry.circuit_depth,\n",
    "                            entry.x,\n",
    "                            entry.edge_index,\n",
    "                            entry.batch).tolist()[0]\n",
    "\n",
    "        exp_Z_mitigated_2.append(mitigated_exp_val_2)\n",
    "\n",
    "        mitigated_exp_val_3 = model_3(entry.noisy_0,\n",
    "                            entry.observable,\n",
    "                            entry.circuit_depth,\n",
    "                            entry.x,\n",
    "                            entry.edge_index,\n",
    "                            entry.batch).tolist()[0]\n",
    "\n",
    "        exp_Z_mitigated_3.append(mitigated_exp_val_3)\n",
    "\n",
    "    imbalance_ideal = calc_imbalance(exp_Z_ideal, even_qubits, odd_qubits)\n",
    "    imbalance_noisy = calc_imbalance(exp_Z_noisy, even_qubits, odd_qubits)\n",
    "    imbalance_mitigated_1 = calc_imbalance(exp_Z_mitigated_1, even_qubits, odd_qubits)\n",
    "    imbalance_mitigated_2 = calc_imbalance(exp_Z_mitigated_2, even_qubits, odd_qubits)\n",
    "    imbalance_mitigated_3 = calc_imbalance(exp_Z_mitigated_3, even_qubits, odd_qubits)\n",
    "\n",
    "\n",
    "    imbalance_all_ideal.append(imbalance_ideal)\n",
    "    imbalance_all_noisy.append(imbalance_noisy)\n",
    "    imbalance_all_mitigated_1.append(imbalance_mitigated_1)\n",
    "    imbalance_all_mitigated_2.append(imbalance_mitigated_2)\n",
    "    imbalance_all_mitigated_3.append(imbalance_mitigated_3)\n",
    "\n",
    "# Average imbalance\n",
    "imbalance_ideal_average = np.mean(imbalance_all_ideal, axis=0)\n",
    "imbalance_noisy_average = np.mean(imbalance_all_noisy, axis=0)\n",
    "imbalance_mitigated_average_1 = np.mean(imbalance_all_mitigated_1, axis=0)\n",
    "imbalance_mitigated_average_2 = np.mean(imbalance_all_mitigated_2, axis=0)\n",
    "imbalance_mitigated_average_3 = np.mean(imbalance_all_mitigated_3, axis=0)"
   ],
   "metadata": {
    "collapsed": false
   }
  },
  {
   "cell_type": "code",
   "execution_count": 10,
   "outputs": [
    {
     "data": {
      "text/plain": "<Figure size 432x288 with 2 Axes>",
      "image/png": "[encoded data removed]"
     },
     "metadata": {
      "needs_background": "light"
     },
     "output_type": "display_data"
    }
   ],
   "source": [
    "## Plot\n",
    "fig = plt.figure()\n",
    "ax1 = fig.add_subplot(111)\n",
    "ax2 = ax1.twiny()\n",
    "\n",
    "ax1.plot(imbalance_ideal_average, color='blue', label=\"ideal\")\n",
    "ax1.plot(imbalance_noisy_average, color='red', label=\"noisy\")\n",
    "ax1.plot(imbalance_mitigated_average_1, color='green', label=\"random clifford\", linestyle='dotted')\n",
    "ax1.plot(imbalance_mitigated_average_2, color='green', label=\"random circuit\", linestyle='dashed')\n",
    "ax1.plot(imbalance_mitigated_average_3, color='green', label=\"MBD circuit\", linestyle='solid')\n",
    "\n",
    "ax1.axvline(x = 10, color = 'gray', label = 'training data availability')\n",
    "\n",
    "ax1.set_xlabel('Floquet steps')\n",
    "ax1.set_ylabel('Imbalance')\n",
    "ax1.legend()\n",
    "\n",
    "xmin, xmax = ax1.get_xlim()\n",
    "max_x = max_steps + 10\n",
    "ax1.set_xlim([0, max_x-1])\n",
    "ax2.set_xlim([0, max_x-1])\n",
    "ax1.set_ylim([0.4, 1.03])\n",
    "ax1.set_xticks(np.arange(0, max_x, 4))\n",
    "x2 = np.linspace(xmin, xmax, 50)\n",
    "ax2.plot(x2, -np.ones(50)) # Create a dummy plot\n",
    "ax2.set_xticks(np.arange(0, max_x, 4))\n",
    "ax2.set_xticklabels(2*np.arange(0, max_x, 4))\n",
    "ax2.set_xlabel(r\"2q gate depth\")\n",
    "# ax1.grid(None)\n",
    "ax2.grid(None)\n",
    "\n",
    "plt.show()"
   ],
   "metadata": {
    "collapsed": false
   }
  },
  {
   "cell_type": "code",
   "execution_count": null,
   "outputs": [],
   "source": [],
   "metadata": {
    "collapsed": false
   }
  }
 ],
 "metadata": {
  "kernelspec": {
   "display_name": "Python 3",
   "language": "python",
   "name": "python3"
  },
  "language_info": {
   "codemirror_mode": {
    "name": "ipython",
    "version": 2
   },
   "file_extension": ".py",
   "mimetype": "text/x-python",
   "name": "python",
   "nbconvert_exporter": "python",
   "pygments_lexer": "ipython2",
   "version": "2.7.6"
  }
 },
 "nbformat": 4,
 "nbformat_minor": 0
}
