{
 "cells": [
  {
   "cell_type": "code",
   "execution_count": 1,
   "outputs": [],
   "source": [
    "import json\n",
    "import glob\n",
    "\n",
    "import numpy as np\n",
    "import pandas as pd\n",
    "\n",
    "from qiskit import transpile\n",
    "from qiskit import execute\n",
    "from qiskit.providers.fake_provider import FakeLima\n",
    "from qiskit.primitives import Estimator\n",
    "from qiskit.circuit.random import random_circuit\n",
    "\n",
    "import torch\n",
    "from torch.optim import Adam\n",
    "from torch.optim.lr_scheduler import ReduceLROnPlateau\n",
    "from torch.nn.functional import dropout\n",
    "\n",
    "from torch_geometric.nn import GCNConv, global_mean_pool, Linear, ChebConv, SAGEConv\n",
    "from torch_geometric.data import Data\n",
    "from torch_geometric.loader import DataLoader\n",
    "\n",
    "from tqdm.notebook import tqdm_notebook\n",
    "import matplotlib.pyplot as plt\n",
    "import seaborn as sns\n",
    "\n",
    "from blackwater.data.loaders.exp_val import CircuitGraphExpValMitigationDataset\n",
    "from blackwater.data.generators.exp_val import exp_value_generator\n",
    "from blackwater.data.utils import generate_random_pauli_sum_op\n",
    "from blackwater.library.ngem.estimator import ngem\n",
    "\n",
    "from qiskit.quantum_info import random_clifford\n",
    "\n",
    "import random\n",
    "from qiskit.circuit.library import HGate, SdgGate\n",
    "from qiskit.circuit import ClassicalRegister\n",
    "\n",
    "from blackwater.data.utils import (\n",
    "    generate_random_pauli_sum_op,\n",
    "    create_estimator_meas_data,\n",
    "    circuit_to_graph_data_json,\n",
    "    get_backend_properties_v1,\n",
    "    encode_pauli_sum_op,\n",
    "    create_meas_data_from_estimators\n",
    ")\n",
    "from blackwater.data.generators.exp_val import ExpValueEntry\n",
    "from blackwater.metrics.improvement_factor import improvement_factor, Trial, Problem\n",
    "\n",
    "from qiskit_aer import AerSimulator, QasmSimulator\n",
    "from qiskit.providers.fake_provider import FakeMontreal, FakeLima\n",
    "\n",
    "from torch_geometric.nn import (\n",
    "    GCNConv,\n",
    "    TransformerConv,\n",
    "    GATv2Conv,\n",
    "    global_mean_pool,\n",
    "    Linear,\n",
    "    ChebConv,\n",
    "    SAGEConv,\n",
    "    ASAPooling,\n",
    "    dense_diff_pool,\n",
    "    avg_pool_neighbor_x\n",
    ")\n",
    "from torch_geometric.data import Data\n",
    "from torch_geometric.loader import DataLoader\n",
    "from torch_geometric.utils import to_dense_adj, to_dense_batch\n",
    "\n",
    "from qiskit import QuantumCircuit\n",
    "from qiskit.circuit.library import U3Gate, CZGate, PhaseGate, CXGate\n",
    "from mbd_utils import construct_random_clifford, cal_z_exp, calc_imbalance, cal_all_z_exp, construct_mbl_circuit, generate_disorder, random_clifford_circuit\n",
    "from gnn import ExpValCircuitGraphModel\n",
    "from qiskit.quantum_info import Clifford"
   ],
   "metadata": {
    "collapsed": false
   }
  },
  {
   "cell_type": "code",
   "execution_count": 2,
   "outputs": [],
   "source": [
    "backend = FakeLima()\n",
    "properties = get_backend_properties_v1(backend)\n",
    "\n",
    "## Local\n",
    "backend_ideal = QasmSimulator() # Noiseless\n",
    "backend_noisy = AerSimulator.from_backend(FakeLima()) # Noisy\n",
    "\n",
    "run_config_ideal = {'shots': 10000, 'backend': backend_ideal, 'name': 'ideal'}\n",
    "run_config_noisy = {'shots': 10000, 'backend': backend_noisy, 'name': 'noisy'}\n",
    "\n",
    "num_qubit = 4"
   ],
   "metadata": {
    "collapsed": false
   }
  },
  {
   "cell_type": "markdown",
   "source": [],
   "metadata": {
    "collapsed": false
   }
  },
  {
   "cell_type": "markdown",
   "source": [
    "# Sanity check on the all-z expectation value of the generated random Cliffords"
   ],
   "metadata": {
    "collapsed": false
   }
  },
  {
   "cell_type": "code",
   "execution_count": 5,
   "outputs": [
    {
     "data": {
      "text/plain": "  0%|          | 0/1000 [00:00<?, ?it/s]",
      "application/vnd.jupyter.widget-view+json": {
       "version_major": 2,
       "version_minor": 0,
       "model_id": "cef3685f53f04e55908965875ef135ff"
      }
     },
     "metadata": {},
     "output_type": "display_data"
    }
   ],
   "source": [
    "from qiskit.transpiler.exceptions import TranspilerError\n",
    "\n",
    "out = []\n",
    "for _ in tqdm_notebook(range(1000)):\n",
    "    d = random.choice(np.arange(0, 19, 2))\n",
    "    circuit, _ = construct_random_clifford(num_qubit, d)\n",
    "\n",
    "    success = False\n",
    "    while not success:\n",
    "        try:\n",
    "            circuit = transpile(circuit, backend_noisy, optimization_level=3)\n",
    "            success = True\n",
    "        except TranspilerError as e:\n",
    "            print(f'Run into {e}')\n",
    "\n",
    "    job_ideal = execute(circuit, **run_config_ideal)\n",
    "    counts_ideal = job_ideal.result().get_counts()\n",
    "    ideal_exp_val = cal_all_z_exp(counts_ideal)\n",
    "    out.append(ideal_exp_val)"
   ],
   "metadata": {
    "collapsed": false
   }
  },
  {
   "cell_type": "code",
   "execution_count": 6,
   "outputs": [
    {
     "data": {
      "text/plain": "Text(0.5, 1.0, '1000 \"random\" clifford all-Z expectation')"
     },
     "execution_count": 6,
     "metadata": {},
     "output_type": "execute_result"
    },
    {
     "data": {
      "text/plain": "<Figure size 432x288 with 1 Axes>",
      "image/png": "[encoded data removed]"
     },
     "metadata": {
      "needs_background": "light"
     },
     "output_type": "display_data"
    }
   ],
   "source": [
    "sns.histplot(out)\n",
    "plt.title('1000 \"random\" clifford all-Z expectation')"
   ],
   "metadata": {
    "collapsed": false
   }
  },
  {
   "cell_type": "markdown",
   "source": [],
   "metadata": {
    "collapsed": false
   }
  },
  {
   "cell_type": "markdown",
   "source": [
    "# Generate cliffords"
   ],
   "metadata": {
    "collapsed": false
   }
  },
  {
   "cell_type": "code",
   "execution_count": 6,
   "outputs": [],
   "source": [
    "num_qubit = 4\n",
    "\n",
    "def construct_random_clifford_func(two_q_gate_depth_post_trans, factor=1):\n",
    "    if not two_q_gate_depth_post_trans:\n",
    "        d = np.random.randint(1, 6)\n",
    "        rc = transpile(construct_random_clifford(num_qubit, d, max_operands=1)[0], backend=backend_noisy, optimization_level=3)\n",
    "\n",
    "    elif 1 <= two_q_gate_depth_post_trans <= 8:\n",
    "        d = np.random.randint(1, two_q_gate_depth_post_trans//factor)\n",
    "        rc = transpile(construct_random_clifford(num_qubit, d)[0], backend=backend_noisy, optimization_level=3)\n",
    "        while rc.depth(filter_function=lambda x: x[0].num_qubits == 2) != two_q_gate_depth_post_trans:\n",
    "            d = np.random.randint(1, two_q_gate_depth_post_trans//factor)\n",
    "            rc = transpile(construct_random_clifford(num_qubit, d)[0], backend=backend_noisy, optimization_level=3)\n",
    "\n",
    "    elif 8 <= two_q_gate_depth_post_trans <= 18:\n",
    "        d = np.random.randint(5, two_q_gate_depth_post_trans//factor)\n",
    "        rc = transpile(construct_random_clifford(num_qubit, d)[0], backend=backend_noisy, optimization_level=3)\n",
    "        while rc.depth(filter_function=lambda x: x[0].num_qubits == 2) != two_q_gate_depth_post_trans:\n",
    "            d = np.random.randint(5, two_q_gate_depth_post_trans//factor)\n",
    "            rc = transpile(construct_random_clifford(num_qubit, d)[0], backend=backend_noisy, optimization_level=3)\n",
    "    else:\n",
    "        raise NotImplementedError\n",
    "    return rc"
   ],
   "metadata": {
    "collapsed": false
   }
  },
  {
   "cell_type": "code",
   "execution_count": null,
   "outputs": [],
   "source": [
    "qc = construct_random_clifford_func(18)\n",
    "qc.draw(fold=-1)"
   ],
   "metadata": {
    "collapsed": false,
    "pycharm": {
     "is_executing": true
    }
   }
  },
  {
   "cell_type": "code",
   "execution_count": null,
   "outputs": [],
   "source": [
    "qc.depth(filter_function=lambda x: x[0].num_qubits == 2)"
   ],
   "metadata": {
    "collapsed": false,
    "pycharm": {
     "is_executing": true
    }
   }
  },
  {
   "cell_type": "code",
   "execution_count": null,
   "outputs": [
    {
     "data": {
      "text/plain": "  0%|          | 0/500 [00:00<?, ?it/s]",
      "application/vnd.jupyter.widget-view+json": {
       "version_major": 2,
       "version_minor": 0,
       "model_id": "81af6882edfa4cdcb29f4423d9306bc4"
      }
     },
     "metadata": {},
     "output_type": "display_data"
    }
   ],
   "source": [
    "depths = [4, 6, 8, 10]\n",
    "generate_data(construct_random_clifford_func, depths, './data/haoran_mbd/random_cliffords', 500)"
   ],
   "metadata": {
    "collapsed": false,
    "pycharm": {
     "is_executing": true
    }
   }
  },
  {
   "cell_type": "markdown",
   "source": [],
   "metadata": {
    "collapsed": false
   }
  },
  {
   "cell_type": "markdown",
   "source": [
    "# Random Circuit"
   ],
   "metadata": {
    "collapsed": false
   }
  },
  {
   "cell_type": "code",
   "execution_count": 23,
   "metadata": {
    "collapsed": true
   },
   "outputs": [],
   "source": [
    "num_qubit = 4\n",
    "\n",
    "def construct_random_circuit(two_q_gate_depth_post_trans, factor=2):\n",
    "    if not two_q_gate_depth_post_trans:\n",
    "        d = np.random.randint(1, 6)\n",
    "        rc = transpile(random_circuit(num_qubit, d, 1, measure=True), backend=backend_noisy, optimization_level=3)\n",
    "\n",
    "    elif 1 <= two_q_gate_depth_post_trans <= 8:\n",
    "        d = np.random.randint(1, two_q_gate_depth_post_trans//factor)\n",
    "        rc = transpile(random_circuit(num_qubit, d, 2, measure=True), backend=backend_noisy, optimization_level=3)\n",
    "        while rc.depth(filter_function=lambda x: x[0].num_qubits == 2) != two_q_gate_depth_post_trans:\n",
    "            d = np.random.randint(1, two_q_gate_depth_post_trans//factor)\n",
    "            rc = transpile(random_circuit(num_qubit, d, 2, measure=True), backend=backend_noisy, optimization_level=3)\n",
    "\n",
    "    elif 8 <= two_q_gate_depth_post_trans <= 18:\n",
    "        d = np.random.randint(5, two_q_gate_depth_post_trans//factor)\n",
    "        rc = transpile(random_circuit(num_qubit, d, 2, measure=True), backend=backend_noisy, optimization_level=3)\n",
    "        while rc.depth(filter_function=lambda x: x[0].num_qubits == 2) != two_q_gate_depth_post_trans:\n",
    "            d = np.random.randint(5, two_q_gate_depth_post_trans//factor)\n",
    "            rc = transpile(random_circuit(num_qubit, d, 2, measure=True), backend=backend_noisy, optimization_level=3)\n",
    "    else:\n",
    "        raise NotImplementedError\n",
    "    return rc"
   ]
  },
  {
   "cell_type": "code",
   "execution_count": 20,
   "outputs": [
    {
     "data": {
      "text/plain": "                                                                                                                                                                                                                                                                                  \nancilla_0 -> 0 ───────────────────────────────────────────────────────────────────────────────────────────────────────────────────────────────────────────────────────────────────────────────────────────────────────────────────────────────────────────────────────────────────\n               ┌────────────────────────┐               ┌───┐          ┌─────────────┐    ┌────┐    ┌──────────────┐┌────┐┌───┐┌────┐┌────────────┐┌────┐    ┌──────────────┐    ┌───┐┌────────────┐    ┌───┐      ┌────────────┐      ┌─┐                                        \n      q_1 -> 1 ┤ Rz(0.0239236197528316) ├───────────────┤ X ├──────────┤ Rz(0.68664) ├────┤ √X ├────┤ Rz(-0.95527) ├┤ √X ├┤ X ├┤ √X ├┤ Rz(2.1863) ├┤ √X ├────┤ Rz(-0.86024) ├────┤ X ├┤ Rz(1.3214) ├────┤ X ├──────┤ Rz(2.7257) ├──────┤M├────────────────────────────────────────\n               └────┬─────────────┬─────┘┌────┐         └─┬─┘          ├─────────────┤    ├────┤    └┬────────────┬┘└────┘└─┬─┘└────┘└────────────┘└────┘    └──────────────┘    └─┬─┘└───┬───┬────┘    └─┬─┘     ┌┴────────────┤┌────┐└╥┘┌─────────────┐┌────┐┌──────────────┐┌─┐\n      q_2 -> 2 ─────┤ Rz(0.27725) ├──────┤ √X ├───────────┼────────────┤ Rz(-1.8184) ├────┤ √X ├─────┤ Rz(1.4965) ├─────────┼──────────────────────────────────────────────────────■──────┤ X ├───────────■───────┤ Rz(0.17503) ├┤ √X ├─╫─┤ Rz(-1.3231) ├┤ √X ├┤ Rz(-0.27725) ├┤M├\n                    └┬────────────┤      └────┘           │            └─────────────┘    └────┘     └────────────┘         │  ┌────┐ ┌─────────┐  ┌───┐ ┌──────────────────────┐┌───┐ ┌──┴───┴──┐      ┌────┐    └─┬─────────┬─┘└┬─┬─┘ ║ └─────────────┘└────┘└──────────────┘└╥┘\n      q_0 -> 3 ──────┤ Rz(4.0258) ├───────────────────────■─────────────────────────────────────────────────────────────────■──┤ √X ├─┤ Rz(π/2) ├──┤ X ├─┤ Rz(4.43075392342824) ├┤ X ├─┤ Rz(π/2) ├──────┤ √X ├──────┤ Rz(π/2) ├───┤M├───╫───────────────────────────────────────╫─\n                ┌────┴────────────┴────┐ ┌────┐┌──────────────────────┐     ┌────┐    ┌────────────┐                           └────┘ └─────────┘  └─┬─┘ └──────────────────────┘└─┬─┘ └──┬────┬─┘  ┌───┴────┴───┐  └──┬────┬─┘   └╥┘   ║       ┌─┐                             ║ \n      q_3 -> 4 ─┤ Rz(3.55040409264697) ├─┤ √X ├┤ Rz(4.98231699874079) ├─────┤ √X ├────┤ Rz(6.8116) ├─────────────────────────────────────────────────■─────────────────────────────■──────┤ √X ├────┤ Rz(2.8656) ├─────┤ √X ├──────╫────╫───────┤M├─────────────────────────────╫─\n                └──────────────────────┘ └────┘└──────────────────────┘     └────┘    └────────────┘                                                                                      └────┘    └────────────┘     └────┘      ║    ║       └╥┘                             ║ \n          c: 4/════════════════════════════════════════════════════════════════════════════════════════════════════════════════════════════════════════════════════════════════════════════════════════════════════════════════════╩════╩════════╩══════════════════════════════╩═\n                                                                                                                                                                                                                                   0    1        3                              2 ",
      "text/html": "<pre style=\"word-wrap: normal;white-space: pre;background: #fff0;line-height: 1.1;font-family: &quot;Courier New&quot;,Courier,monospace\">                                                                                                                                                                                                                                                                                  \nancilla_0 -> 0 ───────────────────────────────────────────────────────────────────────────────────────────────────────────────────────────────────────────────────────────────────────────────────────────────────────────────────────────────────────────────────────────────────\n               ┌────────────────────────┐               ┌───┐          ┌─────────────┐    ┌────┐    ┌──────────────┐┌────┐┌───┐┌────┐┌────────────┐┌────┐    ┌──────────────┐    ┌───┐┌────────────┐    ┌───┐      ┌────────────┐      ┌─┐                                        \n      q_1 -> 1 ┤ Rz(0.0239236197528316) ├───────────────┤ X ├──────────┤ Rz(0.68664) ├────┤ √X ├────┤ Rz(-0.95527) ├┤ √X ├┤ X ├┤ √X ├┤ Rz(2.1863) ├┤ √X ├────┤ Rz(-0.86024) ├────┤ X ├┤ Rz(1.3214) ├────┤ X ├──────┤ Rz(2.7257) ├──────┤M├────────────────────────────────────────\n               └────┬─────────────┬─────┘┌────┐         └─┬─┘          ├─────────────┤    ├────┤    └┬────────────┬┘└────┘└─┬─┘└────┘└────────────┘└────┘    └──────────────┘    └─┬─┘└───┬───┬────┘    └─┬─┘     ┌┴────────────┤┌────┐└╥┘┌─────────────┐┌────┐┌──────────────┐┌─┐\n      q_2 -> 2 ─────┤ Rz(0.27725) ├──────┤ √X ├───────────┼────────────┤ Rz(-1.8184) ├────┤ √X ├─────┤ Rz(1.4965) ├─────────┼──────────────────────────────────────────────────────■──────┤ X ├───────────■───────┤ Rz(0.17503) ├┤ √X ├─╫─┤ Rz(-1.3231) ├┤ √X ├┤ Rz(-0.27725) ├┤M├\n                    └┬────────────┤      └────┘           │            └─────────────┘    └────┘     └────────────┘         │  ┌────┐ ┌─────────┐  ┌───┐ ┌──────────────────────┐┌───┐ ┌──┴───┴──┐      ┌────┐    └─┬─────────┬─┘└┬─┬─┘ ║ └─────────────┘└────┘└──────────────┘└╥┘\n      q_0 -> 3 ──────┤ Rz(4.0258) ├───────────────────────■─────────────────────────────────────────────────────────────────■──┤ √X ├─┤ Rz(π/2) ├──┤ X ├─┤ Rz(4.43075392342824) ├┤ X ├─┤ Rz(π/2) ├──────┤ √X ├──────┤ Rz(π/2) ├───┤M├───╫───────────────────────────────────────╫─\n                ┌────┴────────────┴────┐ ┌────┐┌──────────────────────┐     ┌────┐    ┌────────────┐                           └────┘ └─────────┘  └─┬─┘ └──────────────────────┘└─┬─┘ └──┬────┬─┘  ┌───┴────┴───┐  └──┬────┬─┘   └╥┘   ║       ┌─┐                             ║ \n      q_3 -> 4 ─┤ Rz(3.55040409264697) ├─┤ √X ├┤ Rz(4.98231699874079) ├─────┤ √X ├────┤ Rz(6.8116) ├─────────────────────────────────────────────────■─────────────────────────────■──────┤ √X ├────┤ Rz(2.8656) ├─────┤ √X ├──────╫────╫───────┤M├─────────────────────────────╫─\n                └──────────────────────┘ └────┘└──────────────────────┘     └────┘    └────────────┘                                                                                      └────┘    └────────────┘     └────┘      ║    ║       └╥┘                             ║ \n          c: 4/════════════════════════════════════════════════════════════════════════════════════════════════════════════════════════════════════════════════════════════════════════════════════════════════════════════════════╩════╩════════╩══════════════════════════════╩═\n                                                                                                                                                                                                                                   0    1        3                              2 </pre>"
     },
     "execution_count": 20,
     "metadata": {},
     "output_type": "execute_result"
    }
   ],
   "source": [
    "# circuit = transpile(construct_random_circuit(2), backend=backend_noisy, optimization_level=3)\n",
    "circuit = construct_random_circuit(4)\n",
    "circuit.draw(fold=-1)"
   ],
   "metadata": {
    "collapsed": false
   }
  },
  {
   "cell_type": "code",
   "execution_count": 110,
   "outputs": [
    {
     "data": {
      "text/plain": "8"
     },
     "execution_count": 110,
     "metadata": {},
     "output_type": "execute_result"
    }
   ],
   "source": [
    "transpile(circuit, backend_noisy, optimization_level=3).depth(lambda x: x[0].num_qubits == 2)"
   ],
   "metadata": {
    "collapsed": false
   }
  },
  {
   "cell_type": "code",
   "execution_count": 4,
   "outputs": [],
   "source": [
    "from qiskit.transpiler.exceptions import TranspilerError\n",
    "import scipy\n",
    "\n",
    "def generate_data(generating_func, two_q_gate_depths, save_path: str, n_entries_per_file: int):\n",
    "    for depth in two_q_gate_depths:\n",
    "        entries = []\n",
    "\n",
    "        for i in tqdm_notebook(range(n_entries_per_file)):\n",
    "            success = False\n",
    "            while not success:\n",
    "                try:\n",
    "                    circuit = generating_func(depth)\n",
    "                    success = True\n",
    "                except (scipy.linalg.LinAlgError, TranspilerError, np.linalg.LinAlgError) as e:\n",
    "                    print(f\"Ran into an error:, {e}\")\n",
    "\n",
    "            job_ideal = execute(circuit, **run_config_ideal)\n",
    "            job_noisy = execute(circuit, **run_config_noisy)\n",
    "\n",
    "            counts_ideal = job_ideal.result().get_counts()\n",
    "            counts_noisy = job_noisy.result().get_counts()\n",
    "\n",
    "            ideal_exp_val = cal_z_exp(counts_ideal)\n",
    "            noisy_exp_val = cal_z_exp(counts_noisy)\n",
    "\n",
    "            graph_data = circuit_to_graph_data_json(\n",
    "                circuit=circuit,\n",
    "                properties=properties,\n",
    "                use_qubit_features=True,\n",
    "                use_gate_features=True,\n",
    "            )\n",
    "\n",
    "            entry = ExpValueEntry(\n",
    "                circuit_graph=graph_data,\n",
    "                observable=[],\n",
    "                ideal_exp_value=ideal_exp_val.tolist(),\n",
    "                noisy_exp_values=[noisy_exp_val.tolist()],\n",
    "                circuit_depth=circuit.depth()\n",
    "            )\n",
    "            entries.append(entry.to_dict())\n",
    "\n",
    "        path = f\"{save_path}/depth{depth}.json\"\n",
    "        with open(path, \"w\") as f:\n",
    "            # pprint(entries)\n",
    "            json.dump(entries, f)"
   ],
   "metadata": {
    "collapsed": false
   }
  },
  {
   "cell_type": "code",
   "execution_count": null,
   "outputs": [],
   "source": [
    "depths = [16]\n",
    "generate_data(construct_random_circuit, depths, './data/haoran_mbd/random_circuits', 500)"
   ],
   "metadata": {
    "collapsed": false
   }
  },
  {
   "cell_type": "code",
   "execution_count": 24,
   "outputs": [],
   "source": [
    "f = open('./data/haoran_mbl/rc_train/random_circuits_depth4.json')\n",
    "out = json.load(f)"
   ],
   "metadata": {
    "collapsed": false
   }
  }
 ],
 "metadata": {
  "kernelspec": {
   "display_name": "Python 3",
   "language": "python",
   "name": "python3"
  },
  "language_info": {
   "codemirror_mode": {
    "name": "ipython",
    "version": 2
   },
   "file_extension": ".py",
   "mimetype": "text/x-python",
   "name": "python",
   "nbconvert_exporter": "python",
   "pygments_lexer": "ipython2",
   "version": "2.7.6"
  }
 },
 "nbformat": 4,
 "nbformat_minor": 0
}
