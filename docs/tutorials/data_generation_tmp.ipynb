{
 "cells": [
  {
   "cell_type": "code",
   "execution_count": 8,
   "outputs": [],
   "source": [
    "import json\n",
    "import glob\n",
    "\n",
    "import numpy as np\n",
    "import pandas as pd\n",
    "\n",
    "from qiskit import transpile\n",
    "from qiskit import execute\n",
    "from qiskit.providers.fake_provider import FakeLima\n",
    "from qiskit.primitives import Estimator\n",
    "from qiskit.circuit.random import random_circuit\n",
    "\n",
    "import torch\n",
    "from torch.optim import Adam\n",
    "from torch.optim.lr_scheduler import ReduceLROnPlateau\n",
    "from torch.nn.functional import dropout\n",
    "\n",
    "from torch_geometric.nn import GCNConv, global_mean_pool, Linear, ChebConv, SAGEConv\n",
    "from torch_geometric.data import Data\n",
    "from torch_geometric.loader import DataLoader\n",
    "\n",
    "from tqdm.notebook import tqdm_notebook\n",
    "import matplotlib.pyplot as plt\n",
    "import seaborn as sns\n",
    "\n",
    "from blackwater.data.loaders.exp_val import CircuitGraphExpValMitigationDataset\n",
    "from blackwater.data.generators.exp_val import exp_value_generator\n",
    "from blackwater.data.utils import generate_random_pauli_sum_op\n",
    "from blackwater.library.ngem.estimator import ngem\n",
    "\n",
    "from qiskit.quantum_info import random_clifford\n",
    "\n",
    "import random\n",
    "from qiskit.circuit.library import HGate, SdgGate\n",
    "from qiskit.circuit import ClassicalRegister\n",
    "\n",
    "from blackwater.data.utils import (\n",
    "    generate_random_pauli_sum_op,\n",
    "    create_estimator_meas_data,\n",
    "    circuit_to_graph_data_json,\n",
    "    get_backend_properties_v1,\n",
    "    encode_pauli_sum_op,\n",
    "    create_meas_data_from_estimators\n",
    ")\n",
    "from blackwater.data.generators.exp_val import ExpValueEntry\n",
    "from blackwater.metrics.improvement_factor import improvement_factor, Trial, Problem\n",
    "\n",
    "from qiskit_aer import AerSimulator, QasmSimulator\n",
    "from qiskit.providers.fake_provider import FakeMontreal, FakeLima\n",
    "\n",
    "from torch_geometric.nn import (\n",
    "    GCNConv,\n",
    "    TransformerConv,\n",
    "    GATv2Conv,\n",
    "    global_mean_pool,\n",
    "    Linear,\n",
    "    ChebConv,\n",
    "    SAGEConv,\n",
    "    ASAPooling,\n",
    "    dense_diff_pool,\n",
    "    avg_pool_neighbor_x\n",
    ")\n",
    "from torch_geometric.data import Data\n",
    "from torch_geometric.loader import DataLoader\n",
    "from torch_geometric.utils import to_dense_adj, to_dense_batch\n",
    "\n",
    "from qiskit import QuantumCircuit\n",
    "from qiskit.circuit.library import U3Gate, CZGate, PhaseGate, CXGate\n",
    "from mbd_utils import construct_random_clifford, cal_z_exp, calc_imbalance, cal_all_z_exp, construct_mbl_circuit, generate_disorder\n",
    "from gnn import ExpValCircuitGraphModel"
   ],
   "metadata": {
    "collapsed": false
   }
  },
  {
   "cell_type": "code",
   "execution_count": 9,
   "outputs": [],
   "source": [
    "backend = FakeLima()\n",
    "properties = get_backend_properties_v1(backend)\n",
    "\n",
    "## Local\n",
    "backend_ideal = QasmSimulator() # Noiseless\n",
    "backend_noisy = AerSimulator.from_backend(FakeLima()) # Noisy\n",
    "\n",
    "run_config_ideal = {'shots': 10000, 'backend': backend_ideal, 'name': 'ideal'}\n",
    "run_config_noisy = {'shots': 10000, 'backend': backend_noisy, 'name': 'noisy'}"
   ],
   "metadata": {
    "collapsed": false
   }
  },
  {
   "cell_type": "code",
   "execution_count": 26,
   "metadata": {
    "collapsed": true
   },
   "outputs": [],
   "source": [
    "num_qubit = 4\n",
    "\n",
    "def construct_random_circuit(two_q_gate_depth_post_trans, factor=2):\n",
    "    if not two_q_gate_depth_post_trans:\n",
    "        d = np.random.randint(1, 6)\n",
    "        rc = transpile(random_circuit(num_qubit, d, 1, measure=True), backend=backend_noisy, optimization_level=3)\n",
    "\n",
    "    elif 1 <= two_q_gate_depth_post_trans <= 8:\n",
    "        d = np.random.randint(1, two_q_gate_depth_post_trans//factor)\n",
    "        rc = transpile(random_circuit(num_qubit, d, 2, measure=True), backend=backend_noisy, optimization_level=3)\n",
    "        while rc.depth(filter_function=lambda x: x[0].num_qubits == 2) != two_q_gate_depth_post_trans:\n",
    "            d = np.random.randint(1, two_q_gate_depth_post_trans//factor)\n",
    "            rc = transpile(random_circuit(num_qubit, d, 2, measure=True), backend=backend_noisy, optimization_level=3)\n",
    "\n",
    "    elif 8 <= two_q_gate_depth_post_trans <= 18:\n",
    "        d = np.random.randint(5, two_q_gate_depth_post_trans//factor)\n",
    "        rc = transpile(random_circuit(num_qubit, d, 2, measure=True), backend=backend_noisy, optimization_level=3)\n",
    "        while rc.depth(filter_function=lambda x: x[0].num_qubits == 2) != two_q_gate_depth_post_trans:\n",
    "            d = np.random.randint(5, two_q_gate_depth_post_trans//factor)\n",
    "            rc = transpile(random_circuit(num_qubit, d, 2, measure=True), backend=backend_noisy, optimization_level=3)\n",
    "\n",
    "    # elif 9 <= two_q_gate_depth_post_trans <= 18:\n",
    "    #     assert two_q_gate_depth_post_trans%2 == 0\n",
    "    #     half_depth = two_q_gate_depth_post_trans // 2\n",
    "    #\n",
    "    #     d = np.random.randint(3, half_depth//factor)\n",
    "    #     rc1 = transpile(random_circuit(num_qubit, d, 2, measure=False), backend=backend_noisy, optimization_level=3)\n",
    "    #     while rc1.depth(filter_function=lambda x: x[0].num_qubits == 2) != half_depth:\n",
    "    #         d = np.random.randint(3, half_depth//factor)\n",
    "    #         rc1 = transpile(random_circuit(num_qubit, d, 2, measure=False), backend=backend_noisy, optimization_level=3)\n",
    "    #\n",
    "    #     d = np.random.randint(3, half_depth//factor)\n",
    "    #     rc2 = transpile(random_circuit(num_qubit, d, 2, measure=False), backend=backend_noisy, optimization_level=3)\n",
    "    #     while rc2.depth(filter_function=lambda x: x[0].num_qubits == 2) != half_depth:\n",
    "    #         d = np.random.randint(3, half_depth//factor)\n",
    "    #         rc2 = transpile(random_circuit(num_qubit, d, 2, measure=False), backend=backend_noisy, optimization_level=3)\n",
    "    #\n",
    "    #     rc = rc1.compose(rc2)\n",
    "    #     rc.measure_all()\n",
    "    else:\n",
    "        raise NotImplementedError\n",
    "    return rc"
   ]
  },
  {
   "cell_type": "code",
   "execution_count": 29,
   "outputs": [
    {
     "data": {
      "text/plain": "global phase: 2π\n                                                                                                                                                                                                                                                                                                                                                                                                                                                                                                                                                                                                            \nancilla_0 -> 0 ─────────────────────────────────────────────────────────────────────────────────────────────────────────────────────────────────────────────────────────────────────────────────────────────────────────────────────────────────────────────────────────────────────────────────────────────────────────────────────────────────────────────────────────────────────────────────────────────────────────────────────────────────────────────────────────────────────────────────────────────────────────────────────────────────────────────────────────────────────────────────────────────\n                  ┌────────┐     ┌────┐     ┌──────────┐            ┌───┐     ┌─────────────┐┌───┐    ┌───┐     ┌─────────────┐     ┌───┐     ┌─────────┐                              ┌───┐            ┌────────┐┌────┐┌────────┐┌───┐     ┌───┐              ┌────────────┐   ┌────┐                              ┌───┐┌────────────┐                     ┌───┐   ┌────┐  ┌─────────────┐               ┌───┐     ┌────────┐┌────┐┌────────────┐┌────┐┌───┐┌────┐┌────────────┐┌────┐┌────────┐┌───┐┌───────────────────────┐                                                               ░       ┌─┐   \n      q_3 -> 1 ───┤ Rz(-π) ├─────┤ √X ├─────┤ Rz(-π/2) ├────────────┤ X ├─────┤ Rz(0.41833) ├┤ X ├────┤ X ├─────┤ Rz(-3.0237) ├─────┤ X ├─────┤ Rz(π/2) ├──────────────────────────────┤ X ├────────────┤ Rz(-π) ├┤ √X ├┤ Rz(-π) ├┤ X ├──■──┤ X ├──────■───────┤ Rz(2.2279) ├───┤ √X ├──────────────────────────────┤ X ├┤ Rz(1.4893) ├─────────────────────┤ X ├───┤ √X ├──┤ Rz(-2.2279) ├───────■───────┤ X ├──■──┤ Rz(-π) ├┤ √X ├┤ Rz(1.0956) ├┤ √X ├┤ X ├┤ √X ├┤ Rz(1.0956) ├┤ √X ├┤ Rz(-π) ├┤ X ├┤ Rz(0.706947699553842) ├──■──────────────────────────────■─────────────────────────────░───────┤M├───\n                 ┌┴────────┴┐    ├────┤   ┌─┴──────────┴┐ ┌────┐    └─┬─┘     └─────────────┘└─┬─┘    └───┘     └─────────────┘     └─┬─┘     └──┬────┬─┘ ┌──────────┐ ┌────┐          └─┬─┘           ┌┴────────┤└────┘└────────┘└─┬─┘  │  └─┬─┘    ┌─┴─┐     └┬─────────┬─┘   ├────┤                              └─┬─┘└────────────┘                     └─┬─┘   └────┘  └─────────────┘     ┌─┴─┐     └─┬─┘┌─┴─┐└────────┘└────┘└────────────┘└────┘└─┬─┘└────┘└────────────┘└────┘└────────┘└─┬─┘└───────────────────────┘┌─┴─┐ ┌───────────────────────┐┌─┴─┐ ┌───────────────────────┐ ░ ┌─┐   └╥┘   \n      q_2 -> 2 ──┤ Rz(-π/2) ├────┤ √X ├───┤ Rz(-1.4648) ├─┤ √X ├──────┼────────────────────────┼──────────────────────────────────────■──────────┤ √X ├───┤ Rz(-π/2) ├─┤ √X ├────────────■─────────────┤ Rz(π/4) ├──────────────────┼────┼────┼──────┤ X ├──────┤ Rz(π/4) ├─────┤ √X ├────────────────────────────────┼───────────────────────────────────────┼─────────────────────────────────┤ X ├───────■──┤ X ├──────────────────────────────────────┼────────────────────────────────────────┼───────────────────────────┤ X ├─┤ Rz(-0.70694769955384) ├┤ X ├─┤ Rz(0.706947699553842) ├─░─┤M├────╫────\n                 └──┬───┬───┘ ┌──┴────┴──┐└─────────────┘ └────┘      │            ┌───┐       │  ┌────────────┐     ┌────┐    ┌─────────────┐   ├────┤  ┌┴──────────┴┐└────┘                          └─────────┘                  │  ┌─┴─┐  │  ┌───┴───┴────┐ └─────────┘     └────┘           ┌────┐  ┌─────────┐  │      ┌────┐    ┌─────────────┐┌────┐  │  ┌─────────┐     ┌────┐    ┌────┴───┴────┐┌───┐└───┘  ┌───┐                               │                                        │  ┌───────────────────────┐├───┴┐└┬─────────────────────┬┘├───┴┐└┬──────────────────────┤ ░ └╥┘┌─┐ ║    \n      q_0 -> 3 ─────┤ X ├─────┤ Rz(-π/4) ├────────────────────────────■────────────┤ X ├───────■──┤ Rz(0.7472) ├─────┤ √X ├────┤ Rz(-2.7126) ├───┤ √X ├──┤ Rz(1.0764) ├──■──────────────────────────────────■───────────────────────■──┤ X ├──■──┤ Rz(2.4828) ├──────■─────────────────────■─────┤ √X ├──┤ Rz(π/2) ├──■──────┤ √X ├────┤ Rz(-1.4893) ├┤ √X ├──■──┤ Rz(π/2) ├─────┤ √X ├────┤ Rz(-1.6974) ├┤ X ├──■────┤ X ├───────────────────────────────■────────────────────────────────────────■──┤ Rz(-4.30433545431621) ├┤ √X ├─┤ Rz(5.7188818229728) ├─┤ √X ├─┤ Rz(13.7291134150856) ├─░──╫─┤M├─╫────\n               ┌────┴───┴────┐└──┬────┬──┘┌──────────────┐┌────┐┌────────────┐     └───┘          └────────────┘     └────┘    └─────────────┘   └────┘  └────────────┘┌─┴─┐ ┌────────────────────────┐   ┌─┴─┐                        └───┘     └────────────┘    ┌─┴─┐     ┌──────────┐┌─┴─┐┌──┴────┴─┐└─────────┘         └────┘    └─────────────┘└────┘     └─────────┘     └────┘    └─────────────┘└─┬─┘┌─┴─┐  └─┬─┘                                                                           └───────────────────────┘└────┘ └─────────────────────┘ └────┘ └──────────────────────┘ ░  ║ └╥┘ ║ ┌─┐\n      q_1 -> 4 ┤ Rz(-1.2255) ├───┤ √X ├───┤ Rz(-0.90133) ├┤ √X ├┤ Rz(1.2654) ├─────────────────────────────────────────────────────────────────────────────────────────┤ X ├─┤ Rz(-0.452877971585518) ├───┤ X ├────────────────────────────────────────────────────┤ X ├─────┤ Rz(-π/4) ├┤ X ├┤ Rz(π/4) ├───────────────────────────────────────────────────────────────────────────────────────────────────■──┤ X ├────■─────────────────────────────────────────────────────────────────────────────────────────────────────────────────────────────────────────────────────────────────────░──╫──╫──╫─┤M├\n               └─────────────┘   └────┘   └──────────────┘└────┘└────────────┘                                                                                         └───┘ └────────────────────────┘   └───┘                                                    └───┘     └──────────┘└───┘└─────────┘                                                                                                      └───┘                                                                                                                                                                          ░  ║  ║  ║ └╥┘\n          c: 4/══════════════════════════════════════════════════════════════════════════════════════════════════════════════════════════════════════════════════════════════════════════════════════════════════════════════════════════════════════════════════════════════════════════════════════════════════════════════════════════════════════════════════════════════════════════════════════════════════════════════════════════════════════════════════════════════════════════════════════════════════════════════════════════════════════════════════════════════════════════════════╩══╩══╩══╩═\n                                                                                                                                                                                                                                                                                                                                                                                                                                                                                                                                                                                                 0  1  2  3 ",
      "text/html": "<pre style=\"word-wrap: normal;white-space: pre;background: #fff0;line-height: 1.1;font-family: &quot;Courier New&quot;,Courier,monospace\">global phase: 2π\n                                                                                                                                                                                                                                                                                                                                                                                                                                                                                                                                                                                                            \nancilla_0 -> 0 ─────────────────────────────────────────────────────────────────────────────────────────────────────────────────────────────────────────────────────────────────────────────────────────────────────────────────────────────────────────────────────────────────────────────────────────────────────────────────────────────────────────────────────────────────────────────────────────────────────────────────────────────────────────────────────────────────────────────────────────────────────────────────────────────────────────────────────────────────────────────────────────────\n                  ┌────────┐     ┌────┐     ┌──────────┐            ┌───┐     ┌─────────────┐┌───┐    ┌───┐     ┌─────────────┐     ┌───┐     ┌─────────┐                              ┌───┐            ┌────────┐┌────┐┌────────┐┌───┐     ┌───┐              ┌────────────┐   ┌────┐                              ┌───┐┌────────────┐                     ┌───┐   ┌────┐  ┌─────────────┐               ┌───┐     ┌────────┐┌────┐┌────────────┐┌────┐┌───┐┌────┐┌────────────┐┌────┐┌────────┐┌───┐┌───────────────────────┐                                                               ░       ┌─┐   \n      q_3 -> 1 ───┤ Rz(-π) ├─────┤ √X ├─────┤ Rz(-π/2) ├────────────┤ X ├─────┤ Rz(0.41833) ├┤ X ├────┤ X ├─────┤ Rz(-3.0237) ├─────┤ X ├─────┤ Rz(π/2) ├──────────────────────────────┤ X ├────────────┤ Rz(-π) ├┤ √X ├┤ Rz(-π) ├┤ X ├──■──┤ X ├──────■───────┤ Rz(2.2279) ├───┤ √X ├──────────────────────────────┤ X ├┤ Rz(1.4893) ├─────────────────────┤ X ├───┤ √X ├──┤ Rz(-2.2279) ├───────■───────┤ X ├──■──┤ Rz(-π) ├┤ √X ├┤ Rz(1.0956) ├┤ √X ├┤ X ├┤ √X ├┤ Rz(1.0956) ├┤ √X ├┤ Rz(-π) ├┤ X ├┤ Rz(0.706947699553842) ├──■──────────────────────────────■─────────────────────────────░───────┤M├───\n                 ┌┴────────┴┐    ├────┤   ┌─┴──────────┴┐ ┌────┐    └─┬─┘     └─────────────┘└─┬─┘    └───┘     └─────────────┘     └─┬─┘     └──┬────┬─┘ ┌──────────┐ ┌────┐          └─┬─┘           ┌┴────────┤└────┘└────────┘└─┬─┘  │  └─┬─┘    ┌─┴─┐     └┬─────────┬─┘   ├────┤                              └─┬─┘└────────────┘                     └─┬─┘   └────┘  └─────────────┘     ┌─┴─┐     └─┬─┘┌─┴─┐└────────┘└────┘└────────────┘└────┘└─┬─┘└────┘└────────────┘└────┘└────────┘└─┬─┘└───────────────────────┘┌─┴─┐ ┌───────────────────────┐┌─┴─┐ ┌───────────────────────┐ ░ ┌─┐   └╥┘   \n      q_2 -> 2 ──┤ Rz(-π/2) ├────┤ √X ├───┤ Rz(-1.4648) ├─┤ √X ├──────┼────────────────────────┼──────────────────────────────────────■──────────┤ √X ├───┤ Rz(-π/2) ├─┤ √X ├────────────■─────────────┤ Rz(π/4) ├──────────────────┼────┼────┼──────┤ X ├──────┤ Rz(π/4) ├─────┤ √X ├────────────────────────────────┼───────────────────────────────────────┼─────────────────────────────────┤ X ├───────■──┤ X ├──────────────────────────────────────┼────────────────────────────────────────┼───────────────────────────┤ X ├─┤ Rz(-0.70694769955384) ├┤ X ├─┤ Rz(0.706947699553842) ├─░─┤M├────╫────\n                 └──┬───┬───┘ ┌──┴────┴──┐└─────────────┘ └────┘      │            ┌───┐       │  ┌────────────┐     ┌────┐    ┌─────────────┐   ├────┤  ┌┴──────────┴┐└────┘                          └─────────┘                  │  ┌─┴─┐  │  ┌───┴───┴────┐ └─────────┘     └────┘           ┌────┐  ┌─────────┐  │      ┌────┐    ┌─────────────┐┌────┐  │  ┌─────────┐     ┌────┐    ┌────┴───┴────┐┌───┐└───┘  ┌───┐                               │                                        │  ┌───────────────────────┐├───┴┐└┬─────────────────────┬┘├───┴┐└┬──────────────────────┤ ░ └╥┘┌─┐ ║    \n      q_0 -> 3 ─────┤ X ├─────┤ Rz(-π/4) ├────────────────────────────■────────────┤ X ├───────■──┤ Rz(0.7472) ├─────┤ √X ├────┤ Rz(-2.7126) ├───┤ √X ├──┤ Rz(1.0764) ├──■──────────────────────────────────■───────────────────────■──┤ X ├──■──┤ Rz(2.4828) ├──────■─────────────────────■─────┤ √X ├──┤ Rz(π/2) ├──■──────┤ √X ├────┤ Rz(-1.4893) ├┤ √X ├──■──┤ Rz(π/2) ├─────┤ √X ├────┤ Rz(-1.6974) ├┤ X ├──■────┤ X ├───────────────────────────────■────────────────────────────────────────■──┤ Rz(-4.30433545431621) ├┤ √X ├─┤ Rz(5.7188818229728) ├─┤ √X ├─┤ Rz(13.7291134150856) ├─░──╫─┤M├─╫────\n               ┌────┴───┴────┐└──┬────┬──┘┌──────────────┐┌────┐┌────────────┐     └───┘          └────────────┘     └────┘    └─────────────┘   └────┘  └────────────┘┌─┴─┐ ┌────────────────────────┐   ┌─┴─┐                        └───┘     └────────────┘    ┌─┴─┐     ┌──────────┐┌─┴─┐┌──┴────┴─┐└─────────┘         └────┘    └─────────────┘└────┘     └─────────┘     └────┘    └─────────────┘└─┬─┘┌─┴─┐  └─┬─┘                                                                           └───────────────────────┘└────┘ └─────────────────────┘ └────┘ └──────────────────────┘ ░  ║ └╥┘ ║ ┌─┐\n      q_1 -> 4 ┤ Rz(-1.2255) ├───┤ √X ├───┤ Rz(-0.90133) ├┤ √X ├┤ Rz(1.2654) ├─────────────────────────────────────────────────────────────────────────────────────────┤ X ├─┤ Rz(-0.452877971585518) ├───┤ X ├────────────────────────────────────────────────────┤ X ├─────┤ Rz(-π/4) ├┤ X ├┤ Rz(π/4) ├───────────────────────────────────────────────────────────────────────────────────────────────────■──┤ X ├────■─────────────────────────────────────────────────────────────────────────────────────────────────────────────────────────────────────────────────────────────────────░──╫──╫──╫─┤M├\n               └─────────────┘   └────┘   └──────────────┘└────┘└────────────┘                                                                                         └───┘ └────────────────────────┘   └───┘                                                    └───┘     └──────────┘└───┘└─────────┘                                                                                                      └───┘                                                                                                                                                                          ░  ║  ║  ║ └╥┘\n          c: 4/══════════════════════════════════════════════════════════════════════════════════════════════════════════════════════════════════════════════════════════════════════════════════════════════════════════════════════════════════════════════════════════════════════════════════════════════════════════════════════════════════════════════════════════════════════════════════════════════════════════════════════════════════════════════════════════════════════════════════════════════════════════════════════════════════════════════════════════════════════════════════╩══╩══╩══╩═\n                                                                                                                                                                                                                                                                                                                                                                                                                                                                                                                                                                                                 0  1  2  3 </pre>"
     },
     "execution_count": 29,
     "metadata": {},
     "output_type": "execute_result"
    }
   ],
   "source": [
    "# circuit = transpile(construct_random_circuit(2), backend=backend_noisy, optimization_level=3)\n",
    "circuit = construct_random_circuit(18)\n",
    "circuit.draw(fold=-1)"
   ],
   "metadata": {
    "collapsed": false
   }
  },
  {
   "cell_type": "code",
   "execution_count": 30,
   "outputs": [
    {
     "data": {
      "text/plain": "18"
     },
     "execution_count": 30,
     "metadata": {},
     "output_type": "execute_result"
    }
   ],
   "source": [
    "transpile(circuit, backend_noisy, optimization_level=3).depth(lambda x: x[0].num_qubits == 2)"
   ],
   "metadata": {
    "collapsed": false
   }
  },
  {
   "cell_type": "code",
   "execution_count": 45,
   "outputs": [],
   "source": [
    "from qiskit.transpiler.exceptions import TranspilerError\n",
    "import scipy\n",
    "\n",
    "def generate_data(generating_func, two_q_gate_depths, save_path: str, n_entries_per_file: int):\n",
    "    for depth in two_q_gate_depths:\n",
    "        entries = []\n",
    "\n",
    "        for i in tqdm_notebook(range(n_entries_per_file)):\n",
    "            success = False\n",
    "            while not success:\n",
    "                try:\n",
    "                    circuit = generating_func(depth)\n",
    "                    success = True\n",
    "                except (scipy.linalg.LinAlgError, TranspilerError, np.linalg.LinAlgError) as e:\n",
    "                    print(f\"Ran into an error:, {e}\")\n",
    "\n",
    "            job_ideal = execute(circuit, **run_config_ideal)\n",
    "            job_noisy = execute(circuit, **run_config_noisy)\n",
    "\n",
    "            counts_ideal = job_ideal.result().get_counts()\n",
    "            counts_noisy = job_noisy.result().get_counts()\n",
    "\n",
    "            ideal_exp_val = cal_z_exp(counts_ideal)\n",
    "            noisy_exp_val = cal_z_exp(counts_noisy)\n",
    "\n",
    "            graph_data = circuit_to_graph_data_json(\n",
    "                circuit=circuit,\n",
    "                properties=properties,\n",
    "                use_qubit_features=True,\n",
    "                use_gate_features=True,\n",
    "            )\n",
    "\n",
    "            entry = ExpValueEntry(\n",
    "                circuit_graph=graph_data,\n",
    "                observable=[],\n",
    "                ideal_exp_value=ideal_exp_val.tolist(),\n",
    "                noisy_exp_values=[noisy_exp_val.tolist()],\n",
    "                circuit_depth=circuit.depth()\n",
    "            )\n",
    "            entries.append(entry.to_dict())\n",
    "\n",
    "        path = f\"{save_path}/depth{depth}.json\"\n",
    "        with open(path, \"w\") as f:\n",
    "            # pprint(entries)\n",
    "            json.dump(entries, f)"
   ],
   "metadata": {
    "collapsed": false
   }
  },
  {
   "cell_type": "code",
   "execution_count": 46,
   "outputs": [
    {
     "data": {
      "text/plain": "  0%|          | 0/500 [00:00<?, ?it/s]",
      "application/vnd.jupyter.widget-view+json": {
       "version_major": 2,
       "version_minor": 0,
       "model_id": "a58af65a82e14db3ab315d76f344a525"
      }
     },
     "metadata": {},
     "output_type": "display_data"
    },
    {
     "name": "stdout",
     "output_type": "stream",
     "text": [
      "Ran into an error:, 'Maximum iteration reached. max_iteration=1000'\n",
      "Ran into an error:, eig algorithm (geev) did not converge (only eigenvalues with order >= 2 have converged)\n",
      "Ran into an error:, 'Maximum iteration reached. max_iteration=1000'\n",
      "Ran into an error:, 'Maximum iteration reached. max_iteration=1000'\n",
      "Ran into an error:, 'Maximum iteration reached. max_iteration=1000'\n",
      "Ran into an error:, 'Maximum iteration reached. max_iteration=1000'\n",
      "Ran into an error:, 'Maximum iteration reached. max_iteration=1000'\n",
      "Ran into an error:, 'Maximum iteration reached. max_iteration=1000'\n",
      "Ran into an error:, 'Maximum iteration reached. max_iteration=1000'\n",
      "Ran into an error:, 'Maximum iteration reached. max_iteration=1000'\n",
      "Ran into an error:, eig algorithm (geev) did not converge (only eigenvalues with order >= 2 have converged)\n",
      "Ran into an error:, 'Maximum iteration reached. max_iteration=1000'\n",
      "Ran into an error:, 'Maximum iteration reached. max_iteration=1000'\n",
      "Ran into an error:, 'Maximum iteration reached. max_iteration=1000'\n",
      "Ran into an error:, 'Maximum iteration reached. max_iteration=1000'\n",
      "Ran into an error:, 'Maximum iteration reached. max_iteration=1000'\n",
      "Ran into an error:, eig algorithm (geev) did not converge (only eigenvalues with order >= 2 have converged)\n",
      "Ran into an error:, 'Maximum iteration reached. max_iteration=1000'\n",
      "Ran into an error:, 'Maximum iteration reached. max_iteration=1000'\n",
      "Ran into an error:, 'Maximum iteration reached. max_iteration=1000'\n",
      "Ran into an error:, 'Maximum iteration reached. max_iteration=1000'\n",
      "Ran into an error:, eig algorithm (geev) did not converge (only eigenvalues with order >= 2 have converged)\n",
      "Ran into an error:, eig algorithm (geev) did not converge (only eigenvalues with order >= 2 have converged)\n",
      "Ran into an error:, 'Maximum iteration reached. max_iteration=1000'\n",
      "Ran into an error:, 'Maximum iteration reached. max_iteration=1000'\n",
      "Ran into an error:, 'Maximum iteration reached. max_iteration=1000'\n",
      "Ran into an error:, 'Maximum iteration reached. max_iteration=1000'\n",
      "Ran into an error:, 'Maximum iteration reached. max_iteration=1000'\n"
     ]
    }
   ],
   "source": [
    "depths = [18]\n",
    "generate_data(construct_random_circuit, depths, './data/haoran_mbd/random_circuits', 500)"
   ],
   "metadata": {
    "collapsed": false
   }
  },
  {
   "cell_type": "code",
   "execution_count": 24,
   "outputs": [],
   "source": [
    "f = open('./data/haoran_mbl/rc_train/random_circuits_depth4.json')\n",
    "out = json.load(f)"
   ],
   "metadata": {
    "collapsed": false
   }
  },
  {
   "cell_type": "code",
   "execution_count": 25,
   "outputs": [
    {
     "data": {
      "text/plain": "36"
     },
     "execution_count": 25,
     "metadata": {},
     "output_type": "execute_result"
    }
   ],
   "source": [
    "out[1]['circuit_depth']"
   ],
   "metadata": {
    "collapsed": false
   }
  },
  {
   "cell_type": "code",
   "execution_count": null,
   "outputs": [],
   "source": [],
   "metadata": {
    "collapsed": false
   }
  }
 ],
 "metadata": {
  "kernelspec": {
   "display_name": "Python 3",
   "language": "python",
   "name": "python3"
  },
  "language_info": {
   "codemirror_mode": {
    "name": "ipython",
    "version": 2
   },
   "file_extension": ".py",
   "mimetype": "text/x-python",
   "name": "python",
   "nbconvert_exporter": "python",
   "pygments_lexer": "ipython2",
   "version": "2.7.6"
  }
 },
 "nbformat": 4,
 "nbformat_minor": 0
}
