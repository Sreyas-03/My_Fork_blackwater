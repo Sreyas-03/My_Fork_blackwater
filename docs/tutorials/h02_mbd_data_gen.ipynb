{
 "cells": [
  {
   "cell_type": "code",
   "execution_count": 7,
   "outputs": [],
   "source": [
    "import json, pickle\n",
    "import glob\n",
    "\n",
    "import numpy as np\n",
    "import pandas as pd\n",
    "\n",
    "from qiskit import transpile\n",
    "from qiskit import execute\n",
    "from qiskit.providers.fake_provider import FakeLima\n",
    "from qiskit.primitives import Estimator\n",
    "from qiskit.circuit.random import random_circuit\n",
    "\n",
    "import torch\n",
    "from torch.optim import Adam\n",
    "from torch.optim.lr_scheduler import ReduceLROnPlateau\n",
    "from torch.nn.functional import dropout\n",
    "\n",
    "from torch_geometric.nn import GCNConv, global_mean_pool, Linear, ChebConv, SAGEConv\n",
    "from torch_geometric.data import Data\n",
    "from torch_geometric.loader import DataLoader\n",
    "\n",
    "from tqdm.notebook import tqdm\n",
    "import matplotlib.pyplot as plt\n",
    "import seaborn as sns\n",
    "\n",
    "from blackwater.data.loaders.exp_val import CircuitGraphExpValMitigationDataset\n",
    "from blackwater.data.generators.exp_val import exp_value_generator\n",
    "from blackwater.data.utils import generate_random_pauli_sum_op\n",
    "from blackwater.library.ngem.estimator import ngem\n",
    "\n",
    "from qiskit.quantum_info import random_clifford\n",
    "\n",
    "import random\n",
    "from qiskit.circuit.library import HGate, SdgGate\n",
    "from qiskit.circuit import ClassicalRegister\n",
    "\n",
    "from blackwater.data.utils import (\n",
    "    generate_random_pauli_sum_op,\n",
    "    create_estimator_meas_data,\n",
    "    circuit_to_graph_data_json,\n",
    "    get_backend_properties_v1,\n",
    "    encode_pauli_sum_op,\n",
    "    create_meas_data_from_estimators\n",
    ")\n",
    "from blackwater.data.generators.exp_val import ExpValueEntry\n",
    "from blackwater.metrics.improvement_factor import improvement_factor, Trial, Problem\n",
    "\n",
    "from qiskit_aer import AerSimulator, QasmSimulator\n",
    "from qiskit.providers.fake_provider import FakeMontreal, FakeLima, FakeBelem\n",
    "\n",
    "from torch_geometric.nn import (\n",
    "    GCNConv,\n",
    "    TransformerConv,\n",
    "    GATv2Conv,\n",
    "    global_mean_pool,\n",
    "    Linear,\n",
    "    ChebConv,\n",
    "    SAGEConv,\n",
    "    ASAPooling,\n",
    "    dense_diff_pool,\n",
    "    avg_pool_neighbor_x\n",
    ")\n",
    "from torch_geometric.data import Data\n",
    "from torch_geometric.loader import DataLoader\n",
    "from torch_geometric.utils import to_dense_adj, to_dense_batch\n",
    "\n",
    "from qiskit import QuantumCircuit\n",
    "from qiskit.circuit.library import U3Gate, CZGate, PhaseGate, CXGate\n",
    "from mbd_utils import construct_random_clifford, cal_z_exp, calc_imbalance, cal_all_z_exp, construct_mbl_circuit, generate_disorder, random_clifford_circuit, modify_and_add_noise_to_model\n",
    "from gnn import ExpValCircuitGraphModel\n",
    "from qiskit.quantum_info import Clifford\n",
    "from qiskit_aer.noise import depolarizing_error, coherent_unitary_error, NoiseModel\n",
    "\n",
    "from functools import partial"
   ],
   "metadata": {
    "collapsed": false
   }
  },
  {
   "cell_type": "code",
   "execution_count": 8,
   "outputs": [],
   "source": [
    "backend = FakeLima()\n",
    "properties = get_backend_properties_v1(backend)\n",
    "\n",
    "## Local\n",
    "backend_ideal = QasmSimulator() # Noiseless\n",
    "backend_noisy = AerSimulator.from_backend(FakeLima()) # Noisy\n",
    "\n",
    "run_config_ideal = {'shots': 10000, 'backend': backend_ideal, 'name': 'ideal'}\n",
    "run_config_noisy = {'shots': 10000, 'backend': backend_noisy, 'name': 'noisy'}\n",
    "\n",
    "num_qubit = 4"
   ],
   "metadata": {
    "collapsed": false
   }
  },
  {
   "cell_type": "code",
   "execution_count": 3,
   "outputs": [],
   "source": [
    "backend = FakeLima()\n",
    "properties = get_backend_properties_v1(backend)\n",
    "\n",
    "# Local, coherent noise\n",
    "backend_ideal = QasmSimulator() # Noiseless\n",
    "backend_noisy_coherent, noise_model = modify_and_add_noise_to_model()\n",
    "\n",
    "run_config_ideal = {'shots': 10000, 'backend': backend_ideal, 'name': 'ideal'}\n",
    "run_config_noisy_coherent = {'shots': 10000, 'backend': backend_noisy_coherent, 'name': 'noisy_coherent'}\n",
    "\n",
    "num_qubit = 4"
   ],
   "metadata": {
    "collapsed": false
   }
  },
  {
   "cell_type": "code",
   "execution_count": 3,
   "outputs": [
    {
     "name": "stdout",
     "output_type": "stream",
     "text": [
      "{'type': 'qerror', 'id': 'a1694e6108c94259821d611a4ffca1fc', 'operations': ['cx'], 'instructions': [[{'name': 'unitary', 'params': [array([[1.        +0.j        , 0.        +0.j        ,\n",
      "        0.        +0.j        , 0.        +0.j        ],\n",
      "       [0.        +0.j        , 0.98078528+0.j        ,\n",
      "        0.        +0.j        , 0.        -0.19509032j],\n",
      "       [0.        +0.j        , 0.        +0.j        ,\n",
      "        1.        +0.j        , 0.        +0.j        ],\n",
      "       [0.        +0.j        , 0.        -0.19509032j,\n",
      "        0.        +0.j        , 0.98078528+0.j        ]])], 'qubits': [0, 1]}]], 'probabilities': [1.0]}\n"
     ]
    }
   ],
   "source": [
    "for e in noise_model.to_dict()['errors']:\n",
    "    if e['operations'] == ['cx']:\n",
    "        print(e)"
   ],
   "metadata": {
    "collapsed": false
   }
  },
  {
   "cell_type": "code",
   "execution_count": 9,
   "outputs": [],
   "source": [
    "from qiskit.transpiler.exceptions import TranspilerError\n",
    "import scipy\n",
    "\n",
    "def generate_data(generating_func, two_q_gate_depths, save_path: str, n_entries_per_file: int, run_config_n):\n",
    "    for depth in two_q_gate_depths:\n",
    "        entries = []\n",
    "\n",
    "        for i in tqdm(range(n_entries_per_file)):\n",
    "            success = False\n",
    "            while not success:\n",
    "                try:\n",
    "                    circuit = generating_func(depth)\n",
    "                    success = True\n",
    "                except (scipy.linalg.LinAlgError, TranspilerError, np.linalg.LinAlgError) as e:\n",
    "                    print(f\"Ran into an error:, {e}\")\n",
    "\n",
    "            job_ideal = execute(circuit, **run_config_ideal)\n",
    "            job_noisy = execute(circuit, **run_config_n)\n",
    "\n",
    "            counts_ideal = job_ideal.result().get_counts()\n",
    "            counts_noisy = job_noisy.result().get_counts()\n",
    "\n",
    "            ideal_exp_val = cal_z_exp(counts_ideal)\n",
    "            noisy_exp_val = cal_z_exp(counts_noisy)\n",
    "\n",
    "            graph_data = circuit_to_graph_data_json(\n",
    "                circuit=circuit,\n",
    "                properties=properties,\n",
    "                use_qubit_features=True,\n",
    "                use_gate_features=True,\n",
    "            )\n",
    "\n",
    "            entry = ExpValueEntry(\n",
    "                circuit_graph=graph_data,\n",
    "                observable=[],\n",
    "                ideal_exp_value=ideal_exp_val.tolist(),\n",
    "                noisy_exp_values=[noisy_exp_val.tolist()],\n",
    "                circuit_depth=circuit.depth()\n",
    "            )\n",
    "            to_append = entry.to_dict()\n",
    "            to_append['circuit'] = circuit\n",
    "            entries.append(to_append)\n",
    "\n",
    "        path = f\"{save_path}/step_{depth}.pk\"\n",
    "        with open(path, \"wb\") as f:\n",
    "            pickle.dump(entries, f)"
   ],
   "metadata": {
    "collapsed": false
   }
  },
  {
   "cell_type": "markdown",
   "source": [],
   "metadata": {
    "collapsed": false
   }
  },
  {
   "cell_type": "markdown",
   "source": [
    "# Sanity check on the all-z expectation value of the generated random Cliffords"
   ],
   "metadata": {
    "collapsed": false
   }
  },
  {
   "cell_type": "code",
   "execution_count": null,
   "outputs": [],
   "source": [
    "from qiskit.transpiler.exceptions import TranspilerError\n",
    "\n",
    "out = []\n",
    "for _ in tqdm_notebook(range(1000)):\n",
    "    d = random.choice(np.arange(0, 19, 2))\n",
    "    circuit, _ = construct_random_clifford(num_qubit, d)\n",
    "\n",
    "    success = False\n",
    "    while not success:\n",
    "        try:\n",
    "            circuit = transpile(circuit, backend_noisy, optimization_level=3)\n",
    "            success = True\n",
    "        except TranspilerError as e:\n",
    "            print(f'Run into {e}')\n",
    "\n",
    "    job_ideal = execute(circuit, **run_config_ideal)\n",
    "    counts_ideal = job_ideal.result().get_counts()\n",
    "    ideal_exp_val = cal_all_z_exp(counts_ideal)\n",
    "    out.append(ideal_exp_val)"
   ],
   "metadata": {
    "collapsed": false
   }
  },
  {
   "cell_type": "code",
   "execution_count": null,
   "outputs": [],
   "source": [
    "sns.histplot(out)\n",
    "plt.title('1000 \"random\" clifford all-Z expectation')"
   ],
   "metadata": {
    "collapsed": false
   }
  },
  {
   "cell_type": "markdown",
   "source": [],
   "metadata": {
    "collapsed": false
   }
  },
  {
   "cell_type": "markdown",
   "source": [
    "# Generate cliffords"
   ],
   "metadata": {
    "collapsed": false
   }
  },
  {
   "cell_type": "code",
   "execution_count": 12,
   "outputs": [],
   "source": [
    "num_qubit = 4\n",
    "\n",
    "def construct_random_clifford_func(two_q_gate_depth_post_trans, be):\n",
    "    if two_q_gate_depth_post_trans in [6, 8, 16, 18]: factor = 1.2\n",
    "    elif two_q_gate_depth_post_trans in [2]: factor = 0.5\n",
    "    elif two_q_gate_depth_post_trans in [4, 10, 12, 14]: factor = 1\n",
    "\n",
    "    if not two_q_gate_depth_post_trans:\n",
    "        d = np.random.randint(1, 6)\n",
    "        rc = transpile(construct_random_clifford(num_qubit, d, max_operands=1)[0], backend=be, optimization_level=3)\n",
    "\n",
    "    elif 1 <= two_q_gate_depth_post_trans <= 8:\n",
    "        d = np.random.randint(1, two_q_gate_depth_post_trans//factor)\n",
    "        rc = transpile(construct_random_clifford(num_qubit, d)[0], backend=be, optimization_level=3)\n",
    "        while rc.depth(filter_function=lambda x: x[0].num_qubits == 2) != two_q_gate_depth_post_trans:\n",
    "            d = np.random.randint(1, two_q_gate_depth_post_trans//factor)\n",
    "            rc = transpile(construct_random_clifford(num_qubit, d)[0], backend=be, optimization_level=3)\n",
    "\n",
    "    elif 8 <= two_q_gate_depth_post_trans <= 18:\n",
    "        d = np.random.randint(5, two_q_gate_depth_post_trans//factor)\n",
    "        rc = transpile(construct_random_clifford(num_qubit, d)[0], backend=be, optimization_level=3)\n",
    "        while rc.depth(filter_function=lambda x: x[0].num_qubits == 2) != two_q_gate_depth_post_trans:\n",
    "            d = np.random.randint(5, two_q_gate_depth_post_trans//factor)\n",
    "            rc = transpile(construct_random_clifford(num_qubit, d)[0], backend=be, optimization_level=3)\n",
    "    else:\n",
    "        raise NotImplementedError\n",
    "    return rc"
   ],
   "metadata": {
    "collapsed": false
   }
  },
  {
   "cell_type": "code",
   "execution_count": null,
   "outputs": [],
   "source": [
    "depths = np.arange(0, 19, 2)\n",
    "generate_data(partial(construct_random_clifford_func, be=backend_noisy_coherent), depths, './data/haoran_mbd_coherent/random_cliffords', 500)"
   ],
   "metadata": {
    "collapsed": false
   }
  },
  {
   "cell_type": "markdown",
   "source": [],
   "metadata": {
    "collapsed": false
   }
  },
  {
   "cell_type": "markdown",
   "source": [
    "# Random Circuit"
   ],
   "metadata": {
    "collapsed": false
   }
  },
  {
   "cell_type": "code",
   "execution_count": 10,
   "outputs": [],
   "source": [
    "num_qubit = 4\n",
    "\n",
    "def construct_random_circuit(two_q_gate_depth_post_trans, be):\n",
    "    if two_q_gate_depth_post_trans in [6, 8, 16, 18]: factor = 1.2\n",
    "    elif two_q_gate_depth_post_trans in [2]: factor = 0.5\n",
    "    elif two_q_gate_depth_post_trans in [4, 10, 12, 14]: factor = 1\n",
    "    else: raise NotImplementedError\n",
    "\n",
    "    if not two_q_gate_depth_post_trans:\n",
    "        d = np.random.randint(1, 6)\n",
    "        rc = transpile(random_circuit(num_qubit, d, 1, measure=True), backend=be, optimization_level=3)\n",
    "\n",
    "    elif 1 <= two_q_gate_depth_post_trans <= 8:\n",
    "        d = np.random.randint(1, two_q_gate_depth_post_trans//factor)\n",
    "        rc = transpile(random_circuit(num_qubit, d, 2, measure=True), backend=be, optimization_level=3)\n",
    "        while rc.depth(filter_function=lambda x: x[0].num_qubits == 2) != two_q_gate_depth_post_trans:\n",
    "            d = np.random.randint(1, two_q_gate_depth_post_trans//factor)\n",
    "            rc = transpile(random_circuit(num_qubit, d, 2, measure=True), backend=be, optimization_level=3)\n",
    "\n",
    "    elif 8 <= two_q_gate_depth_post_trans <= 18:\n",
    "        d = np.random.randint(5, two_q_gate_depth_post_trans//factor)\n",
    "        rc = transpile(random_circuit(num_qubit, d, 2, measure=True), backend=be, optimization_level=3)\n",
    "        while rc.depth(filter_function=lambda x: x[0].num_qubits == 2) != two_q_gate_depth_post_trans:\n",
    "            d = np.random.randint(5, two_q_gate_depth_post_trans//factor)\n",
    "            rc = transpile(random_circuit(num_qubit, d, 2, measure=True), backend=be, optimization_level=3)\n",
    "    else:\n",
    "        raise NotImplementedError\n",
    "    return rc"
   ],
   "metadata": {
    "collapsed": false
   }
  },
  {
   "cell_type": "code",
   "execution_count": 14,
   "outputs": [
    {
     "data": {
      "text/plain": "<Figure size 1142.24x385.28 with 1 Axes>",
      "image/png": "[encoded data removed]"
     },
     "execution_count": 14,
     "metadata": {},
     "output_type": "execute_result"
    }
   ],
   "source": [
    "# circuit = transpile(construct_random_circuit(2), backend=backend_noisy, optimization_level=3)\n",
    "circuit = construct_random_circuit(4, be=backend_noisy)\n",
    "circuit.draw('mpl', fold=-1)"
   ],
   "metadata": {
    "collapsed": false
   }
  },
  {
   "cell_type": "code",
   "execution_count": null,
   "outputs": [],
   "source": [
    "transpile(circuit, backend_noisy, optimization_level=3).depth(lambda x: x[0].num_qubits == 2)"
   ],
   "metadata": {
    "collapsed": false
   }
  },
  {
   "cell_type": "code",
   "execution_count": 11,
   "outputs": [
    {
     "data": {
      "text/plain": "  0%|          | 0/500 [00:00<?, ?it/s]",
      "application/vnd.jupyter.widget-view+json": {
       "version_major": 2,
       "version_minor": 0,
       "model_id": "71cd837e36c246308719caac00458592"
      }
     },
     "metadata": {},
     "output_type": "display_data"
    },
    {
     "ename": "KeyboardInterrupt",
     "evalue": "",
     "output_type": "error",
     "traceback": [
      "\u001B[0;31m---------------------------------------------------------------------------\u001B[0m",
      "\u001B[0;31mKeyboardInterrupt\u001B[0m                         Traceback (most recent call last)",
      "Input \u001B[0;32mIn [11]\u001B[0m, in \u001B[0;36m<cell line: 2>\u001B[0;34m()\u001B[0m\n\u001B[1;32m      1\u001B[0m depths \u001B[38;5;241m=\u001B[39m \u001B[38;5;28mlist\u001B[39m(\u001B[38;5;28mrange\u001B[39m(\u001B[38;5;241m8\u001B[39m, \u001B[38;5;241m20\u001B[39m, \u001B[38;5;241m2\u001B[39m))\n\u001B[0;32m----> 2\u001B[0m \u001B[43mgenerate_data\u001B[49m\u001B[43m(\u001B[49m\u001B[43mpartial\u001B[49m\u001B[43m(\u001B[49m\u001B[43mconstruct_random_circuit\u001B[49m\u001B[43m,\u001B[49m\u001B[43m \u001B[49m\u001B[43mbe\u001B[49m\u001B[38;5;241;43m=\u001B[39;49m\u001B[43mbackend_noisy\u001B[49m\u001B[43m)\u001B[49m\u001B[43m,\u001B[49m\u001B[43m \u001B[49m\u001B[43mdepths\u001B[49m\u001B[43m,\u001B[49m\u001B[43m \u001B[49m\u001B[38;5;124;43m'\u001B[39;49m\u001B[38;5;124;43m./data/haoran_mbd/random_circuits/train\u001B[39;49m\u001B[38;5;124;43m'\u001B[39;49m\u001B[43m,\u001B[49m\u001B[43m \u001B[49m\u001B[38;5;241;43m500\u001B[39;49m\u001B[43m,\u001B[49m\u001B[43m \u001B[49m\u001B[43mrun_config_n\u001B[49m\u001B[38;5;241;43m=\u001B[39;49m\u001B[43mrun_config_noisy\u001B[49m\u001B[43m)\u001B[49m\n",
      "Input \u001B[0;32mIn [9]\u001B[0m, in \u001B[0;36mgenerate_data\u001B[0;34m(generating_func, two_q_gate_depths, save_path, n_entries_per_file, run_config_n)\u001B[0m\n\u001B[1;32m     10\u001B[0m \u001B[38;5;28;01mwhile\u001B[39;00m \u001B[38;5;129;01mnot\u001B[39;00m success:\n\u001B[1;32m     11\u001B[0m     \u001B[38;5;28;01mtry\u001B[39;00m:\n\u001B[0;32m---> 12\u001B[0m         circuit \u001B[38;5;241m=\u001B[39m \u001B[43mgenerating_func\u001B[49m\u001B[43m(\u001B[49m\u001B[43mdepth\u001B[49m\u001B[43m)\u001B[49m\n\u001B[1;32m     13\u001B[0m         success \u001B[38;5;241m=\u001B[39m \u001B[38;5;28;01mTrue\u001B[39;00m\n\u001B[1;32m     14\u001B[0m     \u001B[38;5;28;01mexcept\u001B[39;00m (scipy\u001B[38;5;241m.\u001B[39mlinalg\u001B[38;5;241m.\u001B[39mLinAlgError, TranspilerError, np\u001B[38;5;241m.\u001B[39mlinalg\u001B[38;5;241m.\u001B[39mLinAlgError) \u001B[38;5;28;01mas\u001B[39;00m e:\n",
      "Input \u001B[0;32mIn [10]\u001B[0m, in \u001B[0;36mconstruct_random_circuit\u001B[0;34m(two_q_gate_depth_post_trans, be)\u001B[0m\n\u001B[1;32m     16\u001B[0m     \u001B[38;5;28;01mwhile\u001B[39;00m rc\u001B[38;5;241m.\u001B[39mdepth(filter_function\u001B[38;5;241m=\u001B[39m\u001B[38;5;28;01mlambda\u001B[39;00m x: x[\u001B[38;5;241m0\u001B[39m]\u001B[38;5;241m.\u001B[39mnum_qubits \u001B[38;5;241m==\u001B[39m \u001B[38;5;241m2\u001B[39m) \u001B[38;5;241m!=\u001B[39m two_q_gate_depth_post_trans:\n\u001B[1;32m     17\u001B[0m         d \u001B[38;5;241m=\u001B[39m np\u001B[38;5;241m.\u001B[39mrandom\u001B[38;5;241m.\u001B[39mrandint(\u001B[38;5;241m1\u001B[39m, two_q_gate_depth_post_trans\u001B[38;5;241m/\u001B[39m\u001B[38;5;241m/\u001B[39mfactor)\n\u001B[0;32m---> 18\u001B[0m         rc \u001B[38;5;241m=\u001B[39m \u001B[43mtranspile\u001B[49m\u001B[43m(\u001B[49m\u001B[43mrandom_circuit\u001B[49m\u001B[43m(\u001B[49m\u001B[43mnum_qubit\u001B[49m\u001B[43m,\u001B[49m\u001B[43m \u001B[49m\u001B[43md\u001B[49m\u001B[43m,\u001B[49m\u001B[43m \u001B[49m\u001B[38;5;241;43m2\u001B[39;49m\u001B[43m,\u001B[49m\u001B[43m \u001B[49m\u001B[43mmeasure\u001B[49m\u001B[38;5;241;43m=\u001B[39;49m\u001B[38;5;28;43;01mTrue\u001B[39;49;00m\u001B[43m)\u001B[49m\u001B[43m,\u001B[49m\u001B[43m \u001B[49m\u001B[43mbackend\u001B[49m\u001B[38;5;241;43m=\u001B[39;49m\u001B[43mbe\u001B[49m\u001B[43m,\u001B[49m\u001B[43m \u001B[49m\u001B[43moptimization_level\u001B[49m\u001B[38;5;241;43m=\u001B[39;49m\u001B[38;5;241;43m3\u001B[39;49m\u001B[43m)\u001B[49m\n\u001B[1;32m     20\u001B[0m \u001B[38;5;28;01melif\u001B[39;00m \u001B[38;5;241m8\u001B[39m \u001B[38;5;241m<\u001B[39m\u001B[38;5;241m=\u001B[39m two_q_gate_depth_post_trans \u001B[38;5;241m<\u001B[39m\u001B[38;5;241m=\u001B[39m \u001B[38;5;241m18\u001B[39m:\n\u001B[1;32m     21\u001B[0m     d \u001B[38;5;241m=\u001B[39m np\u001B[38;5;241m.\u001B[39mrandom\u001B[38;5;241m.\u001B[39mrandint(\u001B[38;5;241m5\u001B[39m, two_q_gate_depth_post_trans\u001B[38;5;241m/\u001B[39m\u001B[38;5;241m/\u001B[39mfactor)\n",
      "File \u001B[0;32m/opt/anaconda3/envs/ngem/lib/python3.10/site-packages/qiskit/compiler/transpiler.py:381\u001B[0m, in \u001B[0;36mtranspile\u001B[0;34m(circuits, backend, basis_gates, inst_map, coupling_map, backend_properties, initial_layout, layout_method, routing_method, translation_method, scheduling_method, instruction_durations, dt, approximation_degree, timing_constraints, seed_transpiler, optimization_level, callback, output_name, unitary_synthesis_method, unitary_synthesis_plugin_config, target, hls_config, init_method, optimization_method, ignore_backend_supplied_default_methods)\u001B[0m\n\u001B[1;32m    378\u001B[0m     \u001B[38;5;28;01mfor\u001B[39;00m circuit, unique_args \u001B[38;5;129;01min\u001B[39;00m \u001B[38;5;28mzip\u001B[39m(circuits, unique_transpile_args):\n\u001B[1;32m    379\u001B[0m         transpile_config, pass_manager \u001B[38;5;241m=\u001B[39m _combine_args(shared_args, unique_args)\n\u001B[1;32m    380\u001B[0m         output_circuits\u001B[38;5;241m.\u001B[39mappend(\n\u001B[0;32m--> 381\u001B[0m             \u001B[43m_serial_transpile_circuit\u001B[49m\u001B[43m(\u001B[49m\n\u001B[1;32m    382\u001B[0m \u001B[43m                \u001B[49m\u001B[43mcircuit\u001B[49m\u001B[43m,\u001B[49m\n\u001B[1;32m    383\u001B[0m \u001B[43m                \u001B[49m\u001B[43mpass_manager\u001B[49m\u001B[43m,\u001B[49m\n\u001B[1;32m    384\u001B[0m \u001B[43m                \u001B[49m\u001B[43mtranspile_config\u001B[49m\u001B[43m[\u001B[49m\u001B[38;5;124;43m\"\u001B[39;49m\u001B[38;5;124;43mcallback\u001B[39;49m\u001B[38;5;124;43m\"\u001B[39;49m\u001B[43m]\u001B[49m\u001B[43m,\u001B[49m\n\u001B[1;32m    385\u001B[0m \u001B[43m                \u001B[49m\u001B[43mtranspile_config\u001B[49m\u001B[43m[\u001B[49m\u001B[38;5;124;43m\"\u001B[39;49m\u001B[38;5;124;43moutput_name\u001B[39;49m\u001B[38;5;124;43m\"\u001B[39;49m\u001B[43m]\u001B[49m\u001B[43m,\u001B[49m\n\u001B[1;32m    386\u001B[0m \u001B[43m                \u001B[49m\u001B[43mtranspile_config\u001B[49m\u001B[43m[\u001B[49m\u001B[38;5;124;43m\"\u001B[39;49m\u001B[38;5;124;43mbackend_num_qubits\u001B[39;49m\u001B[38;5;124;43m\"\u001B[39;49m\u001B[43m]\u001B[49m\u001B[43m,\u001B[49m\n\u001B[1;32m    387\u001B[0m \u001B[43m                \u001B[49m\u001B[43mtranspile_config\u001B[49m\u001B[43m[\u001B[49m\u001B[38;5;124;43m\"\u001B[39;49m\u001B[38;5;124;43mfaulty_qubits_map\u001B[39;49m\u001B[38;5;124;43m\"\u001B[39;49m\u001B[43m]\u001B[49m\u001B[43m,\u001B[49m\n\u001B[1;32m    388\u001B[0m \u001B[43m                \u001B[49m\u001B[43mtranspile_config\u001B[49m\u001B[43m[\u001B[49m\u001B[38;5;124;43m\"\u001B[39;49m\u001B[38;5;124;43mpass_manager_config\u001B[39;49m\u001B[38;5;124;43m\"\u001B[39;49m\u001B[43m]\u001B[49m\u001B[38;5;241;43m.\u001B[39;49m\u001B[43mbackend_properties\u001B[49m\u001B[43m,\u001B[49m\n\u001B[1;32m    389\u001B[0m \u001B[43m            \u001B[49m\u001B[43m)\u001B[49m\n\u001B[1;32m    390\u001B[0m         )\n\u001B[1;32m    391\u001B[0m     circuits \u001B[38;5;241m=\u001B[39m output_circuits\n\u001B[1;32m    392\u001B[0m end_time \u001B[38;5;241m=\u001B[39m time()\n",
      "File \u001B[0;32m/opt/anaconda3/envs/ngem/lib/python3.10/site-packages/qiskit/compiler/transpiler.py:474\u001B[0m, in \u001B[0;36m_serial_transpile_circuit\u001B[0;34m(circuit, pass_manager, callback, output_name, num_qubits, faulty_qubits_map, backend_prop)\u001B[0m\n\u001B[1;32m    465\u001B[0m \u001B[38;5;28;01mdef\u001B[39;00m \u001B[38;5;21m_serial_transpile_circuit\u001B[39m(\n\u001B[1;32m    466\u001B[0m     circuit,\n\u001B[1;32m    467\u001B[0m     pass_manager,\n\u001B[0;32m   (...)\u001B[0m\n\u001B[1;32m    472\u001B[0m     backend_prop\u001B[38;5;241m=\u001B[39m\u001B[38;5;28;01mNone\u001B[39;00m,\n\u001B[1;32m    473\u001B[0m ):\n\u001B[0;32m--> 474\u001B[0m     result \u001B[38;5;241m=\u001B[39m \u001B[43mpass_manager\u001B[49m\u001B[38;5;241;43m.\u001B[39;49m\u001B[43mrun\u001B[49m\u001B[43m(\u001B[49m\u001B[43mcircuit\u001B[49m\u001B[43m,\u001B[49m\u001B[43m \u001B[49m\u001B[43mcallback\u001B[49m\u001B[38;5;241;43m=\u001B[39;49m\u001B[43mcallback\u001B[49m\u001B[43m,\u001B[49m\u001B[43m \u001B[49m\u001B[43moutput_name\u001B[49m\u001B[38;5;241;43m=\u001B[39;49m\u001B[43moutput_name\u001B[49m\u001B[43m)\u001B[49m\n\u001B[1;32m    475\u001B[0m     \u001B[38;5;28;01mif\u001B[39;00m faulty_qubits_map:\n\u001B[1;32m    476\u001B[0m         \u001B[38;5;28;01mreturn\u001B[39;00m _remap_circuit_faulty_backend(\n\u001B[1;32m    477\u001B[0m             result,\n\u001B[1;32m    478\u001B[0m             num_qubits,\n\u001B[1;32m    479\u001B[0m             backend_prop,\n\u001B[1;32m    480\u001B[0m             faulty_qubits_map,\n\u001B[1;32m    481\u001B[0m         )\n",
      "File \u001B[0;32m/opt/anaconda3/envs/ngem/lib/python3.10/site-packages/qiskit/transpiler/passmanager.py:528\u001B[0m, in \u001B[0;36mStagedPassManager.run\u001B[0;34m(self, circuits, output_name, callback)\u001B[0m\n\u001B[1;32m    521\u001B[0m \u001B[38;5;28;01mdef\u001B[39;00m \u001B[38;5;21mrun\u001B[39m(\n\u001B[1;32m    522\u001B[0m     \u001B[38;5;28mself\u001B[39m,\n\u001B[1;32m    523\u001B[0m     circuits: Union[QuantumCircuit, List[QuantumCircuit]],\n\u001B[1;32m    524\u001B[0m     output_name: \u001B[38;5;28mstr\u001B[39m \u001B[38;5;241m=\u001B[39m \u001B[38;5;28;01mNone\u001B[39;00m,\n\u001B[1;32m    525\u001B[0m     callback: Callable \u001B[38;5;241m=\u001B[39m \u001B[38;5;28;01mNone\u001B[39;00m,\n\u001B[1;32m    526\u001B[0m ) \u001B[38;5;241m-\u001B[39m\u001B[38;5;241m>\u001B[39m Union[QuantumCircuit, List[QuantumCircuit]]:\n\u001B[1;32m    527\u001B[0m     \u001B[38;5;28mself\u001B[39m\u001B[38;5;241m.\u001B[39m_update_passmanager()\n\u001B[0;32m--> 528\u001B[0m     \u001B[38;5;28;01mreturn\u001B[39;00m \u001B[38;5;28;43msuper\u001B[39;49m\u001B[43m(\u001B[49m\u001B[43m)\u001B[49m\u001B[38;5;241;43m.\u001B[39;49m\u001B[43mrun\u001B[49m\u001B[43m(\u001B[49m\u001B[43mcircuits\u001B[49m\u001B[43m,\u001B[49m\u001B[43m \u001B[49m\u001B[43moutput_name\u001B[49m\u001B[43m,\u001B[49m\u001B[43m \u001B[49m\u001B[43mcallback\u001B[49m\u001B[43m)\u001B[49m\n",
      "File \u001B[0;32m/opt/anaconda3/envs/ngem/lib/python3.10/site-packages/qiskit/transpiler/passmanager.py:228\u001B[0m, in \u001B[0;36mPassManager.run\u001B[0;34m(self, circuits, output_name, callback)\u001B[0m\n\u001B[1;32m    226\u001B[0m     \u001B[38;5;28;01mreturn\u001B[39;00m circuits\n\u001B[1;32m    227\u001B[0m \u001B[38;5;28;01mif\u001B[39;00m \u001B[38;5;28misinstance\u001B[39m(circuits, QuantumCircuit):\n\u001B[0;32m--> 228\u001B[0m     \u001B[38;5;28;01mreturn\u001B[39;00m \u001B[38;5;28;43mself\u001B[39;49m\u001B[38;5;241;43m.\u001B[39;49m\u001B[43m_run_single_circuit\u001B[49m\u001B[43m(\u001B[49m\u001B[43mcircuits\u001B[49m\u001B[43m,\u001B[49m\u001B[43m \u001B[49m\u001B[43moutput_name\u001B[49m\u001B[43m,\u001B[49m\u001B[43m \u001B[49m\u001B[43mcallback\u001B[49m\u001B[43m)\u001B[49m\n\u001B[1;32m    229\u001B[0m \u001B[38;5;28;01mif\u001B[39;00m \u001B[38;5;28mlen\u001B[39m(circuits) \u001B[38;5;241m==\u001B[39m \u001B[38;5;241m1\u001B[39m:\n\u001B[1;32m    230\u001B[0m     \u001B[38;5;28;01mreturn\u001B[39;00m \u001B[38;5;28mself\u001B[39m\u001B[38;5;241m.\u001B[39m_run_single_circuit(circuits[\u001B[38;5;241m0\u001B[39m], output_name, callback)\n",
      "File \u001B[0;32m/opt/anaconda3/envs/ngem/lib/python3.10/site-packages/qiskit/transpiler/passmanager.py:283\u001B[0m, in \u001B[0;36mPassManager._run_single_circuit\u001B[0;34m(self, circuit, output_name, callback)\u001B[0m\n\u001B[1;32m    271\u001B[0m \u001B[38;5;250m\u001B[39m\u001B[38;5;124;03m\"\"\"Run all the passes on a ``circuit``.\u001B[39;00m\n\u001B[1;32m    272\u001B[0m \n\u001B[1;32m    273\u001B[0m \u001B[38;5;124;03mArgs:\u001B[39;00m\n\u001B[0;32m   (...)\u001B[0m\n\u001B[1;32m    280\u001B[0m \u001B[38;5;124;03m    The transformed circuit.\u001B[39;00m\n\u001B[1;32m    281\u001B[0m \u001B[38;5;124;03m\"\"\"\u001B[39;00m\n\u001B[1;32m    282\u001B[0m running_passmanager \u001B[38;5;241m=\u001B[39m \u001B[38;5;28mself\u001B[39m\u001B[38;5;241m.\u001B[39m_create_running_passmanager()\n\u001B[0;32m--> 283\u001B[0m result \u001B[38;5;241m=\u001B[39m \u001B[43mrunning_passmanager\u001B[49m\u001B[38;5;241;43m.\u001B[39;49m\u001B[43mrun\u001B[49m\u001B[43m(\u001B[49m\u001B[43mcircuit\u001B[49m\u001B[43m,\u001B[49m\u001B[43m \u001B[49m\u001B[43moutput_name\u001B[49m\u001B[38;5;241;43m=\u001B[39;49m\u001B[43moutput_name\u001B[49m\u001B[43m,\u001B[49m\u001B[43m \u001B[49m\u001B[43mcallback\u001B[49m\u001B[38;5;241;43m=\u001B[39;49m\u001B[43mcallback\u001B[49m\u001B[43m)\u001B[49m\n\u001B[1;32m    284\u001B[0m \u001B[38;5;28mself\u001B[39m\u001B[38;5;241m.\u001B[39mproperty_set \u001B[38;5;241m=\u001B[39m running_passmanager\u001B[38;5;241m.\u001B[39mproperty_set\n\u001B[1;32m    285\u001B[0m \u001B[38;5;28;01mreturn\u001B[39;00m result\n",
      "File \u001B[0;32m/opt/anaconda3/envs/ngem/lib/python3.10/site-packages/qiskit/transpiler/runningpassmanager.py:117\u001B[0m, in \u001B[0;36mRunningPassManager.run\u001B[0;34m(self, circuit, output_name, callback)\u001B[0m\n\u001B[1;32m    106\u001B[0m \u001B[38;5;250m\u001B[39m\u001B[38;5;124;03m\"\"\"Run all the passes on a QuantumCircuit\u001B[39;00m\n\u001B[1;32m    107\u001B[0m \n\u001B[1;32m    108\u001B[0m \u001B[38;5;124;03mArgs:\u001B[39;00m\n\u001B[0;32m   (...)\u001B[0m\n\u001B[1;32m    114\u001B[0m \u001B[38;5;124;03m    QuantumCircuit: Transformed circuit.\u001B[39;00m\n\u001B[1;32m    115\u001B[0m \u001B[38;5;124;03m\"\"\"\u001B[39;00m\n\u001B[1;32m    116\u001B[0m name \u001B[38;5;241m=\u001B[39m circuit\u001B[38;5;241m.\u001B[39mname\n\u001B[0;32m--> 117\u001B[0m dag \u001B[38;5;241m=\u001B[39m \u001B[43mcircuit_to_dag\u001B[49m\u001B[43m(\u001B[49m\u001B[43mcircuit\u001B[49m\u001B[43m)\u001B[49m\n\u001B[1;32m    118\u001B[0m \u001B[38;5;28;01mdel\u001B[39;00m circuit\n\u001B[1;32m    120\u001B[0m \u001B[38;5;28;01mif\u001B[39;00m callback:\n",
      "File \u001B[0;32m/opt/anaconda3/envs/ngem/lib/python3.10/site-packages/qiskit/converters/circuit_to_dag.py:50\u001B[0m, in \u001B[0;36mcircuit_to_dag\u001B[0;34m(circuit)\u001B[0m\n\u001B[1;32m     47\u001B[0m dagcircuit\u001B[38;5;241m.\u001B[39mcalibrations \u001B[38;5;241m=\u001B[39m circuit\u001B[38;5;241m.\u001B[39mcalibrations\n\u001B[1;32m     48\u001B[0m dagcircuit\u001B[38;5;241m.\u001B[39mmetadata \u001B[38;5;241m=\u001B[39m circuit\u001B[38;5;241m.\u001B[39mmetadata\n\u001B[0;32m---> 50\u001B[0m \u001B[43mdagcircuit\u001B[49m\u001B[38;5;241;43m.\u001B[39;49m\u001B[43madd_qubits\u001B[49m\u001B[43m(\u001B[49m\u001B[43mcircuit\u001B[49m\u001B[38;5;241;43m.\u001B[39;49m\u001B[43mqubits\u001B[49m\u001B[43m)\u001B[49m\n\u001B[1;32m     51\u001B[0m dagcircuit\u001B[38;5;241m.\u001B[39madd_clbits(circuit\u001B[38;5;241m.\u001B[39mclbits)\n\u001B[1;32m     53\u001B[0m \u001B[38;5;28;01mfor\u001B[39;00m register \u001B[38;5;129;01min\u001B[39;00m circuit\u001B[38;5;241m.\u001B[39mqregs:\n",
      "File \u001B[0;32m/opt/anaconda3/envs/ngem/lib/python3.10/site-packages/qiskit/dagcircuit/dagcircuit.py:215\u001B[0m, in \u001B[0;36mDAGCircuit.add_qubits\u001B[0;34m(self, qubits)\u001B[0m\n\u001B[1;32m    213\u001B[0m \u001B[38;5;28;01mdef\u001B[39;00m \u001B[38;5;21madd_qubits\u001B[39m(\u001B[38;5;28mself\u001B[39m, qubits):\n\u001B[1;32m    214\u001B[0m \u001B[38;5;250m    \u001B[39m\u001B[38;5;124;03m\"\"\"Add individual qubit wires.\"\"\"\u001B[39;00m\n\u001B[0;32m--> 215\u001B[0m     \u001B[38;5;28;01mif\u001B[39;00m \u001B[38;5;28;43many\u001B[39;49m\u001B[43m(\u001B[49m\u001B[38;5;129;43;01mnot\u001B[39;49;00m\u001B[43m \u001B[49m\u001B[38;5;28;43misinstance\u001B[39;49m\u001B[43m(\u001B[49m\u001B[43mqubit\u001B[49m\u001B[43m,\u001B[49m\u001B[43m \u001B[49m\u001B[43mQubit\u001B[49m\u001B[43m)\u001B[49m\u001B[43m \u001B[49m\u001B[38;5;28;43;01mfor\u001B[39;49;00m\u001B[43m \u001B[49m\u001B[43mqubit\u001B[49m\u001B[43m \u001B[49m\u001B[38;5;129;43;01min\u001B[39;49;00m\u001B[43m \u001B[49m\u001B[43mqubits\u001B[49m\u001B[43m)\u001B[49m:\n\u001B[1;32m    216\u001B[0m         \u001B[38;5;28;01mraise\u001B[39;00m DAGCircuitError(\u001B[38;5;124m\"\u001B[39m\u001B[38;5;124mnot a Qubit instance.\u001B[39m\u001B[38;5;124m\"\u001B[39m)\n\u001B[1;32m    218\u001B[0m     duplicate_qubits \u001B[38;5;241m=\u001B[39m \u001B[38;5;28mset\u001B[39m(\u001B[38;5;28mself\u001B[39m\u001B[38;5;241m.\u001B[39mqubits)\u001B[38;5;241m.\u001B[39mintersection(qubits)\n",
      "File \u001B[0;32m/opt/anaconda3/envs/ngem/lib/python3.10/site-packages/qiskit/dagcircuit/dagcircuit.py:215\u001B[0m, in \u001B[0;36m<genexpr>\u001B[0;34m(.0)\u001B[0m\n\u001B[1;32m    213\u001B[0m \u001B[38;5;28;01mdef\u001B[39;00m \u001B[38;5;21madd_qubits\u001B[39m(\u001B[38;5;28mself\u001B[39m, qubits):\n\u001B[1;32m    214\u001B[0m \u001B[38;5;250m    \u001B[39m\u001B[38;5;124;03m\"\"\"Add individual qubit wires.\"\"\"\u001B[39;00m\n\u001B[0;32m--> 215\u001B[0m     \u001B[38;5;28;01mif\u001B[39;00m \u001B[38;5;28many\u001B[39m(\u001B[38;5;129;01mnot\u001B[39;00m \u001B[38;5;28misinstance\u001B[39m(qubit, Qubit) \u001B[38;5;28;01mfor\u001B[39;00m qubit \u001B[38;5;129;01min\u001B[39;00m qubits):\n\u001B[1;32m    216\u001B[0m         \u001B[38;5;28;01mraise\u001B[39;00m DAGCircuitError(\u001B[38;5;124m\"\u001B[39m\u001B[38;5;124mnot a Qubit instance.\u001B[39m\u001B[38;5;124m\"\u001B[39m)\n\u001B[1;32m    218\u001B[0m     duplicate_qubits \u001B[38;5;241m=\u001B[39m \u001B[38;5;28mset\u001B[39m(\u001B[38;5;28mself\u001B[39m\u001B[38;5;241m.\u001B[39mqubits)\u001B[38;5;241m.\u001B[39mintersection(qubits)\n",
      "\u001B[0;31mKeyboardInterrupt\u001B[0m: "
     ]
    }
   ],
   "source": [
    "depths = list(range(8, 20, 2))\n",
    "generate_data(partial(construct_random_circuit, be=backend_noisy), depths, './data/haoran_mbd/random_circuits/train', 500, run_config_n=run_config_noisy)"
   ],
   "metadata": {
    "collapsed": false
   }
  },
  {
   "cell_type": "code",
   "execution_count": null,
   "outputs": [],
   "source": [
    "f = open('./data/haoran_mbl/rc_train/random_circuits_depth4.json')\n",
    "out = json.load(f)"
   ],
   "metadata": {
    "collapsed": false
   }
  },
  {
   "cell_type": "markdown",
   "source": [],
   "metadata": {
    "collapsed": false
   }
  },
  {
   "cell_type": "markdown",
   "source": [
    "# Random Brickwork"
   ],
   "metadata": {
    "collapsed": false
   }
  },
  {
   "cell_type": "code",
   "execution_count": 5,
   "outputs": [],
   "source": [
    "num_qubit = 4\n",
    "\n",
    "def construct_random_brickwork_func(num_steps, be):\n",
    "    num_qubit = 4\n",
    "    rb = construct_mbl_circuit(num_qubit, [], 0, num_steps, completely_random=True)\n",
    "    rb = transpile(rb, backend=be, optimization_level=3)\n",
    "    return rb"
   ],
   "metadata": {
    "collapsed": false
   }
  },
  {
   "cell_type": "code",
   "execution_count": 25,
   "outputs": [
    {
     "data": {
      "text/plain": "<Figure size 540.24x385.28 with 1 Axes>",
      "image/png": "[encoded data removed]"
     },
     "execution_count": 25,
     "metadata": {},
     "output_type": "execute_result"
    }
   ],
   "source": [
    "construct_random_brickwork_func(0).draw('mpl', fold=-1)"
   ],
   "metadata": {
    "collapsed": false
   }
  },
  {
   "cell_type": "code",
   "execution_count": null,
   "outputs": [],
   "source": [
    "steps = [1]\n",
    "generate_data(construct_random_brickwork_func, steps, './data/haoran_mbd/random_brickwork', 500)"
   ],
   "metadata": {
    "collapsed": false
   }
  },
  {
   "cell_type": "markdown",
   "source": [],
   "metadata": {
    "collapsed": false
   }
  },
  {
   "cell_type": "markdown",
   "source": [
    "# Random MBD"
   ],
   "metadata": {
    "collapsed": false
   }
  },
  {
   "cell_type": "code",
   "execution_count": 25,
   "outputs": [],
   "source": [
    "num_qubit = 4\n",
    "\n",
    "W = 0.8 * np.pi\n",
    "theta = 0.1 * np.pi\n",
    "\n",
    "def construct_random_mbd_func(num_steps, be):\n",
    "    disorders = generate_disorder(num_qubit, W)\n",
    "    random_mbl = construct_mbl_circuit(num_qubit, disorders, theta, num_steps)\n",
    "    circuit = transpile(random_mbl, backend=be, optimization_level=3)\n",
    "    return circuit"
   ],
   "metadata": {
    "collapsed": false
   }
  },
  {
   "cell_type": "code",
   "execution_count": 20,
   "outputs": [
    {
     "data": {
      "text/plain": "<Figure size 1268.33x325.08 with 1 Axes>",
      "image/png": "[encoded data removed]"
     },
     "execution_count": 20,
     "metadata": {},
     "output_type": "execute_result"
    }
   ],
   "source": [
    "construct_random_mbd_func(1, backend_noisy_coherent).draw('mpl', fold=-1, idle_wires=False)"
   ],
   "metadata": {
    "collapsed": false
   }
  },
  {
   "cell_type": "code",
   "execution_count": null,
   "outputs": [],
   "source": [
    "steps = list(range(10))\n",
    "generate_data(partial(construct_random_mbd_func, be=backend_noisy_coherent), steps, './data/mbd_datasets2/theta_0.1pi_coherent/val', 200)"
   ],
   "metadata": {
    "collapsed": false
   }
  },
  {
   "cell_type": "code",
   "execution_count": null,
   "outputs": [],
   "source": [
    "with open('./data/mbd_datasets/train/step_5.json', 'r') as in_f:\n",
    "    train_data = json.load(in_f)\n",
    "train_data[0]['circuit_graph']"
   ],
   "metadata": {
    "collapsed": false
   }
  },
  {
   "cell_type": "code",
   "execution_count": null,
   "outputs": [],
   "source": [
    "with open('./data/mbd_datasets/val/step_4.json', 'r') as in_f:\n",
    "    val_data = json.load(in_f)\n",
    "val_data[0]['circuit_graph']"
   ],
   "metadata": {
    "collapsed": false
   }
  },
  {
   "cell_type": "markdown",
   "source": [],
   "metadata": {
    "collapsed": false
   }
  }
 ],
 "metadata": {
  "kernelspec": {
   "display_name": "Python 3",
   "language": "python",
   "name": "python3"
  },
  "language_info": {
   "codemirror_mode": {
    "name": "ipython",
    "version": 2
   },
   "file_extension": ".py",
   "mimetype": "text/x-python",
   "name": "python",
   "nbconvert_exporter": "python",
   "pygments_lexer": "ipython2",
   "version": "2.7.6"
  }
 },
 "nbformat": 4,
 "nbformat_minor": 0
}
