{
 "cells": [
  {
   "cell_type": "code",
   "execution_count": 14,
   "metadata": {
    "collapsed": false,
    "jupyter": {
     "outputs_hidden": false
    }
   },
   "outputs": [],
   "source": [
    "import json, pickle\n",
    "import glob, os\n",
    "\n",
    "import numpy as np\n",
    "import pandas as pd\n",
    "\n",
    "from qiskit import transpile\n",
    "from qiskit import execute\n",
    "from qiskit.providers.fake_provider import FakeLima\n",
    "from qiskit.primitives import Estimator\n",
    "from qiskit.circuit.random import random_circuit\n",
    "\n",
    "import torch\n",
    "from torch.optim import Adam\n",
    "from torch.optim.lr_scheduler import ReduceLROnPlateau\n",
    "from torch.nn.functional import dropout\n",
    "\n",
    "from torch_geometric.nn import GCNConv, global_mean_pool, Linear, ChebConv, SAGEConv\n",
    "from torch_geometric.data import Data\n",
    "from torch_geometric.loader import DataLoader\n",
    "\n",
    "from tqdm.notebook import tqdm\n",
    "import matplotlib.pyplot as plt\n",
    "import seaborn as sns\n",
    "\n",
    "from blackwater.data.loaders.exp_val import CircuitGraphExpValMitigationDataset\n",
    "from blackwater.data.generators.exp_val import exp_value_generator\n",
    "from blackwater.data.utils import generate_random_pauli_sum_op\n",
    "from blackwater.library.ngem.estimator import ngem\n",
    "\n",
    "from qiskit.quantum_info import random_clifford\n",
    "\n",
    "import random\n",
    "from qiskit.circuit.library import HGate, SdgGate\n",
    "from qiskit.circuit import ClassicalRegister\n",
    "\n",
    "from blackwater.data.utils import (\n",
    "    generate_random_pauli_sum_op,\n",
    "    create_estimator_meas_data,\n",
    "    circuit_to_graph_data_json,\n",
    "    get_backend_properties_v1,\n",
    "    encode_pauli_sum_op,\n",
    "    create_meas_data_from_estimators\n",
    ")\n",
    "from blackwater.data.generators.exp_val import ExpValueEntry\n",
    "from blackwater.metrics.improvement_factor import improvement_factor, Trial, Problem\n",
    "\n",
    "from qiskit_aer import AerSimulator, QasmSimulator\n",
    "from qiskit.providers.fake_provider import FakeMontreal, FakeLima, FakeBelem\n",
    "\n",
    "from torch_geometric.nn import (\n",
    "    GCNConv,\n",
    "    TransformerConv,\n",
    "    GATv2Conv,\n",
    "    global_mean_pool,\n",
    "    Linear,\n",
    "    ChebConv,\n",
    "    SAGEConv,\n",
    "    ASAPooling,\n",
    "    dense_diff_pool,\n",
    "    avg_pool_neighbor_x\n",
    ")\n",
    "from torch_geometric.data import Data\n",
    "from torch_geometric.loader import DataLoader\n",
    "from torch_geometric.utils import to_dense_adj, to_dense_batch\n",
    "\n",
    "from qiskit import QuantumCircuit\n",
    "from qiskit.circuit.library import U3Gate, CZGate, PhaseGate, CXGate\n",
    "from mbd_utils import construct_random_clifford, cal_z_exp, calc_imbalance, cal_all_z_exp, construct_mbl_circuit, generate_disorder, random_clifford_circuit, modify_and_add_noise_to_model\n",
    "from gnn import ExpValCircuitGraphModel\n",
    "from qiskit.quantum_info import Clifford\n",
    "from qiskit_aer.noise import depolarizing_error, coherent_unitary_error, NoiseModel\n",
    "\n",
    "from functools import partial"
   ]
  },
  {
   "cell_type": "code",
   "execution_count": 2,
   "metadata": {
    "collapsed": false,
    "jupyter": {
     "outputs_hidden": false
    }
   },
   "outputs": [],
   "source": [
    "backend = FakeLima()\n",
    "properties = get_backend_properties_v1(backend)\n",
    "\n",
    "## Local\n",
    "backend_ideal = QasmSimulator() # Noiseless\n",
    "backend_noisy = AerSimulator.from_backend(FakeLima()) # Noisy\n",
    "\n",
    "run_config_ideal = {'shots': 10000, 'backend': backend_ideal, 'name': 'ideal'}\n",
    "run_config_noisy = {'shots': 10000, 'backend': backend_noisy, 'name': 'noisy'}\n",
    "\n",
    "num_qubit = 4"
   ]
  },
  {
   "cell_type": "code",
   "execution_count": 3,
   "metadata": {
    "collapsed": false,
    "jupyter": {
     "outputs_hidden": false
    }
   },
   "outputs": [],
   "source": [
    "backend = FakeLima()\n",
    "properties = get_backend_properties_v1(backend)\n",
    "\n",
    "# Local, coherent noise\n",
    "backend_ideal = QasmSimulator() # Noiseless\n",
    "backend_noisy_coherent, noise_model = modify_and_add_noise_to_model()\n",
    "\n",
    "run_config_ideal = {'shots': 10000, 'backend': backend_ideal, 'name': 'ideal'}\n",
    "run_config_noisy_coherent = {'shots': 10000, 'backend': backend_noisy_coherent, 'name': 'noisy_coherent'}\n",
    "\n",
    "num_qubit = 4"
   ]
  },
  {
   "cell_type": "code",
   "execution_count": 4,
   "metadata": {
    "collapsed": false,
    "jupyter": {
     "outputs_hidden": false
    }
   },
   "outputs": [],
   "source": [
    "def fix_random_seed(seed=0):\n",
    "    random.seed(seed)\n",
    "    os.environ['PYTHONHASHSEED'] = str(seed)\n",
    "    np.random.seed(seed)\n",
    "    torch.manual_seed(seed)\n",
    "    torch.cuda.manual_seed(seed)\n",
    "    torch.cuda.manual_seed_all(seed)  # if you are using multi-GPU.\n",
    "    torch.backends.cudnn.benchmark = False\n",
    "    torch.backends.cudnn.deterministic = True\n",
    "    print(f'random seed fixed to {seed}')"
   ]
  },
  {
   "cell_type": "code",
   "execution_count": 5,
   "metadata": {
    "collapsed": false,
    "jupyter": {
     "outputs_hidden": false
    }
   },
   "outputs": [],
   "source": [
    "from qiskit.transpiler.exceptions import TranspilerError\n",
    "import scipy\n",
    "\n",
    "def generate_data(generating_func, two_q_gate_depths, save_path: str, n_entries_per_file: int):\n",
    "    for depth in two_q_gate_depths:\n",
    "        entries = []\n",
    "\n",
    "        for i in tqdm(range(n_entries_per_file)):\n",
    "            success = False\n",
    "            while not success:\n",
    "                try:\n",
    "                    circuit = generating_func(depth)\n",
    "                    success = True\n",
    "                except (scipy.linalg.LinAlgError, TranspilerError, np.linalg.LinAlgError) as e:\n",
    "                    print(f\"Ran into an error:, {e}\")\n",
    "\n",
    "            job_ideal = execute(circuit, **run_config_ideal)\n",
    "            job_noisy = execute(circuit, **run_config_noisy_coherent)\n",
    "\n",
    "            counts_ideal = job_ideal.result().get_counts()\n",
    "            counts_noisy = job_noisy.result().get_counts()\n",
    "\n",
    "            ideal_exp_val = cal_z_exp(counts_ideal)\n",
    "            noisy_exp_val = cal_z_exp(counts_noisy)\n",
    "\n",
    "            graph_data = circuit_to_graph_data_json(\n",
    "                circuit=circuit,\n",
    "                properties=properties,\n",
    "                use_qubit_features=True,\n",
    "                use_gate_features=True,\n",
    "            )\n",
    "\n",
    "            entry = ExpValueEntry(\n",
    "                circuit_graph=graph_data,\n",
    "                observable=[],\n",
    "                ideal_exp_value=ideal_exp_val.tolist(),\n",
    "                noisy_exp_values=[noisy_exp_val.tolist()],\n",
    "                circuit_depth=circuit.depth()\n",
    "            )\n",
    "            to_append = entry.to_dict()\n",
    "            to_append['circuit'] = circuit\n",
    "            entries.append(to_append)\n",
    "\n",
    "        path = f\"{save_path}/step_{depth}.pk\"\n",
    "        with open(path, \"wb\") as f:\n",
    "            pickle.dump(entries, f)"
   ]
  },
  {
   "cell_type": "markdown",
   "metadata": {
    "collapsed": false,
    "jupyter": {
     "outputs_hidden": false
    }
   },
   "source": []
  },
  {
   "cell_type": "markdown",
   "metadata": {
    "collapsed": false,
    "jupyter": {
     "outputs_hidden": false
    }
   },
   "source": [
    "# Sanity check on the all-z expectation value of the generated random Cliffords"
   ]
  },
  {
   "cell_type": "code",
   "execution_count": 7,
   "metadata": {
    "collapsed": false,
    "jupyter": {
     "outputs_hidden": false
    }
   },
   "outputs": [
    {
     "data": {
      "application/vnd.jupyter.widget-view+json": {
       "model_id": "f4b95e29ab8644228a62ed6c8592790b",
       "version_major": 2,
       "version_minor": 0
      },
      "text/plain": [
       "  0%|          | 0/1000 [00:00<?, ?it/s]"
      ]
     },
     "metadata": {},
     "output_type": "display_data"
    }
   ],
   "source": [
    "from qiskit.transpiler.exceptions import TranspilerError\n",
    "\n",
    "out = []\n",
    "for _ in tqdm(range(1000)):\n",
    "    d = random.choice(np.arange(0, 19, 2))\n",
    "    circuit, _ = construct_random_clifford(num_qubit, d)\n",
    "\n",
    "    success = False\n",
    "    while not success:\n",
    "        try:\n",
    "            circuit = transpile(circuit, backend_noisy, optimization_level=3)\n",
    "            success = True\n",
    "        except TranspilerError as e:\n",
    "            print(f'Run into {e}')\n",
    "\n",
    "    job_ideal = execute(circuit, **run_config_ideal)\n",
    "    counts_ideal = job_ideal.result().get_counts()\n",
    "    ideal_exp_val = cal_all_z_exp(counts_ideal)\n",
    "    out.append(ideal_exp_val)"
   ]
  },
  {
   "cell_type": "code",
   "execution_count": 8,
   "metadata": {
    "collapsed": false,
    "jupyter": {
     "outputs_hidden": false
    }
   },
   "outputs": [
    {
     "data": {
      "text/plain": [
       "Text(0.5, 1.0, '1000 \"random\" clifford all-Z expectation')"
      ]
     },
     "execution_count": 8,
     "metadata": {},
     "output_type": "execute_result"
    },
    {
     "data": {
      "image/png": "[encoded data removed]",
      "text/plain": [
       "<Figure size 640x480 with 1 Axes>"
      ]
     },
     "metadata": {},
     "output_type": "display_data"
    }
   ],
   "source": [
    "sns.histplot(out)\n",
    "plt.title('1000 \"random\" clifford all-Z expectation')"
   ]
  },
  {
   "cell_type": "markdown",
   "metadata": {
    "collapsed": false,
    "jupyter": {
     "outputs_hidden": false
    }
   },
   "source": []
  },
  {
   "cell_type": "markdown",
   "metadata": {
    "collapsed": false,
    "jupyter": {
     "outputs_hidden": false
    }
   },
   "source": [
    "# Generate cliffords"
   ]
  },
  {
   "cell_type": "code",
   "execution_count": 9,
   "metadata": {
    "collapsed": false,
    "jupyter": {
     "outputs_hidden": false
    }
   },
   "outputs": [],
   "source": [
    "num_qubit = 4\n",
    "\n",
    "def construct_random_clifford_func(two_q_gate_depth_post_trans, be):\n",
    "    if two_q_gate_depth_post_trans in [6, 8, 16, 18]: factor = 1.2\n",
    "    elif two_q_gate_depth_post_trans in [2]: factor = 0.5\n",
    "    elif two_q_gate_depth_post_trans in [4, 10, 12, 14]: factor = 1\n",
    "\n",
    "    if not two_q_gate_depth_post_trans:\n",
    "        d = np.random.randint(1, 6)\n",
    "        rc = transpile(construct_random_clifford(num_qubit, d, max_operands=1)[0], backend=be, optimization_level=3)\n",
    "\n",
    "    elif 1 <= two_q_gate_depth_post_trans <= 8:\n",
    "        d = np.random.randint(1, two_q_gate_depth_post_trans//factor)\n",
    "        rc = transpile(construct_random_clifford(num_qubit, d)[0], backend=be, optimization_level=3)\n",
    "        while rc.depth(filter_function=lambda x: x[0].num_qubits == 2) != two_q_gate_depth_post_trans:\n",
    "            d = np.random.randint(1, two_q_gate_depth_post_trans//factor)\n",
    "            rc = transpile(construct_random_clifford(num_qubit, d)[0], backend=be, optimization_level=3)\n",
    "\n",
    "    elif 8 <= two_q_gate_depth_post_trans <= 18:\n",
    "        d = np.random.randint(5, two_q_gate_depth_post_trans//factor)\n",
    "        rc = transpile(construct_random_clifford(num_qubit, d)[0], backend=be, optimization_level=3)\n",
    "        while rc.depth(filter_function=lambda x: x[0].num_qubits == 2) != two_q_gate_depth_post_trans:\n",
    "            d = np.random.randint(5, two_q_gate_depth_post_trans//factor)\n",
    "            rc = transpile(construct_random_clifford(num_qubit, d)[0], backend=be, optimization_level=3)\n",
    "    else:\n",
    "        raise NotImplementedError\n",
    "    return rc"
   ]
  },
  {
   "cell_type": "code",
   "execution_count": 16,
   "metadata": {
    "collapsed": false,
    "jupyter": {
     "outputs_hidden": false
    }
   },
   "outputs": [
    {
     "data": {
      "application/vnd.jupyter.widget-view+json": {
       "model_id": "4e941b57cb2547718d1263c37a7b377f",
       "version_major": 2,
       "version_minor": 0
      },
      "text/plain": [
       "  0%|          | 0/500 [00:00<?, ?it/s]"
      ]
     },
     "metadata": {},
     "output_type": "display_data"
    },
    {
     "data": {
      "application/vnd.jupyter.widget-view+json": {
       "model_id": "71b67bb2842b4d8da9ef4cda6d042cfe",
       "version_major": 2,
       "version_minor": 0
      },
      "text/plain": [
       "  0%|          | 0/500 [00:00<?, ?it/s]"
      ]
     },
     "metadata": {},
     "output_type": "display_data"
    }
   ],
   "source": [
    "depths = np.arange(0, 3, 2)\n",
    "generate_data(partial(construct_random_clifford_func, be=backend_noisy_coherent), depths, './data/haoran_mbd_coherent/random_cliffords', 500, run_config_noisy_coherent)"
   ]
  },
  {
   "cell_type": "markdown",
   "metadata": {
    "collapsed": false,
    "jupyter": {
     "outputs_hidden": false
    }
   },
   "source": []
  },
  {
   "cell_type": "markdown",
   "metadata": {
    "collapsed": false,
    "jupyter": {
     "outputs_hidden": false
    }
   },
   "source": [
    "# Random Circuit"
   ]
  },
  {
   "cell_type": "code",
   "execution_count": 21,
   "metadata": {
    "collapsed": false,
    "jupyter": {
     "outputs_hidden": false
    }
   },
   "outputs": [],
   "source": [
    "num_qubit = 4\n",
    "\n",
    "def construct_random_circuit(two_q_gate_depth_post_trans, be):\n",
    "    if two_q_gate_depth_post_trans in [6, 8, 16, 18]: factor = 1.2\n",
    "    elif two_q_gate_depth_post_trans in [2]: factor = 0.5\n",
    "    elif two_q_gate_depth_post_trans in [4, 10, 12, 14]: factor = 1\n",
    "    else: raise NotImplementedError\n",
    "\n",
    "    if not two_q_gate_depth_post_trans:\n",
    "        d = np.random.randint(1, 6)\n",
    "        rcrun_config_n = transpile(random_circuit(num_qubit, d, 1, measure=True), backend=be, optimization_level=3)\n",
    "\n",
    "    elif 1 <= two_q_gate_depth_post_trans <= 8:\n",
    "        d = np.random.randint(1, two_q_gate_depth_post_trans//factor)\n",
    "        rc = transpile(random_circuit(num_qubit, d, 2, measure=True), backend=be, optimization_level=3)\n",
    "        while rc.depth(filter_function=lambda x: x[0].num_qubits == 2) != two_q_gate_depth_post_trans:\n",
    "            d = np.random.randint(1, two_q_gate_depth_post_trans//factor)\n",
    "            rcrun_config_n = transpile(random_circuit(num_qubit, d, 2, measure=True), backend=be, optimization_level=3)\n",
    "\n",
    "    elif 8 <= two_q_gate_depth_post_trans <= 18:\n",
    "        d = np.random.randint(5, two_q_gate_depth_post_trans//factor)\n",
    "        rc = transpile(random_circuit(num_qubit, d, 2, measure=True), backend=be, optimization_level=3)\n",
    "        while rc.depth(filter_function=lambda x: x[0].num_qubits == 2) != two_q_gate_depth_post_trans:\n",
    "            d = np.random.randint(5, two_q_gate_depth_post_trans//factor)\n",
    "            rcrun_config_n = transpile(random_circuit(num_qubit, d, 2, measure=True), backend=be, optimization_level=3)\n",
    "    else:\n",
    "        raise NotImplementedError\n",
    "    return rcrun_config_n"
   ]
  },
  {
   "cell_type": "code",
   "execution_count": null,
   "metadata": {
    "collapsed": false,
    "jupyter": {
     "outputs_hidden": false
    }
   },
   "outputs": [
    {
     "name": "stdout",
     "output_type": "stream",
     "text": [
      "random seed fixed to 0\n"
     ]
    }
   ],
   "source": [
    "fix_random_seed(0)\n",
    "# circuit = transpile(construct_random_circuit(2), backend=backend_noisy, optimization_level=3)\n",
    "ideal_circuit = construct_random_circuit(4, be=backend_ideal)\n",
    "noisy_circuit = transpile(ideal_circuit, backend=backend_noisy)\n",
    "noisy_circuit.draw('mpl', fold=-1)"
   ]
  },
  {
   "cell_type": "code",
   "execution_count": null,
   "metadata": {
    "collapsed": false,
    "jupyter": {
     "outputs_hidden": false
    }
   },
   "outputs": [],
   "source": [
    "ideal_circuit.draw('mpl', fold=-1)"
   ]
  },
  {
   "cell_type": "code",
   "execution_count": null,
   "metadata": {
    "collapsed": false,
    "jupyter": {
     "outputs_hidden": false
    }
   },
   "outputs": [],
   "source": [
    "qubit_mapping = get_measurement_qubits(circuit, 4)\n",
    "qubit_mapping"
   ]
  },
  {
   "cell_type": "code",
   "execution_count": 15,
   "metadata": {
    "collapsed": false,
    "jupyter": {
     "outputs_hidden": false
    }
   },
   "outputs": [],
   "source": [
    "def get_measurement_qubits(qc, num_qubit):\n",
    "        measurement_qubits = []\n",
    "        for measurement in range(num_qubit-1, -1, -1):\n",
    "            measurement_qubits.append(qc.data[-1-measurement][1][0].index)\n",
    "        return measurement_qubits"
   ]
  },
  {
   "cell_type": "code",
   "execution_count": null,
   "metadata": {
    "collapsed": false,
    "jupyter": {
     "outputs_hidden": false
    }
   },
   "outputs": [],
   "source": [
    "transpile(circuit, backend_noisy, optimization_level=3).depth(lambda x: x[0].num_qubits == 2)"
   ]
  },
  {
   "cell_type": "code",
   "execution_count": null,
   "metadata": {
    "collapsed": false,
    "jupyter": {
     "outputs_hidden": false
    },
    "pycharm": {
     "is_executing": true
    }
   },
   "outputs": [],
   "source": [
    "depths = list(range(8, 20, 2))\n",
    "generate_data(partial(construct_random_circuit, be=backend_noisy), depths, './data/haoran_mbd/random_circuits/train', 500, run_config_n=run_config_noisy)"
   ]
  },
  {
   "cell_type": "code",
   "execution_count": null,
   "metadata": {
    "collapsed": false,
    "jupyter": {
     "outputs_hidden": false
    }
   },
   "outputs": [],
   "source": [
    "f = open('./data/haoran_mbl/rc_train/random_circuits_depth4.json')\n",
    "out = json.load(f)"
   ]
  },
  {
   "cell_type": "code",
   "execution_count": null,
   "metadata": {
    "collapsed": false,
    "jupyter": {
     "outputs_hidden": false
    }
   },
   "outputs": [],
   "source": []
  },
  {
   "cell_type": "markdown",
   "metadata": {
    "collapsed": false,
    "jupyter": {
     "outputs_hidden": false
    }
   },
   "source": [
    "Check distribution (potential concentration of measure)"
   ]
  },
  {
   "cell_type": "code",
   "execution_count": 19,
   "metadata": {
    "collapsed": false,
    "jupyter": {
     "outputs_hidden": false
    }
   },
   "outputs": [],
   "source": [
    "def check_f(f, f_ext, step_indices):\n",
    "    return f.endswith(f_ext) and any([f\"%d\"%step_index in f for step_index in step_indices])\n",
    "\n",
    "def load_circuits(data_dir, step_indices, f_ext='.json'):\n",
    "    circuits = []\n",
    "    ideal_exp_vals = []\n",
    "    noisy_exp_vals = []\n",
    "    data_files = [os.path.join(data_dir, f) for f in os.listdir(data_dir) if check_f(f, f_ext, step_indices)]\n",
    "    for data_file in tqdm(data_files, leave=True):\n",
    "        if f_ext == '.json':\n",
    "            for entry in json.load(open(data_file, 'r')):\n",
    "                circuits.append(QuantumCircuit.from_qasm_str(entry['circuit']))\n",
    "                ideal_exp_vals.append(entry['ideal_exp_value'])\n",
    "                noisy_exp_vals.append(entry['noisy_exp_values'])\n",
    "        elif f_ext == '.pk':\n",
    "            for entry in pickle.load(open(data_file, 'rb')):\n",
    "                circuits.append(entry['circuit'])\n",
    "                ideal_exp_vals.append(entry['ideal_exp_value'])\n",
    "                noisy_exp_vals.append(entry['noisy_exp_values'])\n",
    "    return circuits, ideal_exp_vals, noisy_exp_vals"
   ]
  },
  {
   "cell_type": "code",
   "execution_count": 20,
   "metadata": {
    "collapsed": false,
    "jupyter": {
     "outputs_hidden": false
    }
   },
   "outputs": [
    {
     "data": {
      "application/vnd.jupyter.widget-view+json": {
       "model_id": "1e27be03f24c45d39e07a8a579e1a9d5",
       "version_major": 2,
       "version_minor": 0
      },
      "text/plain": [
       "  0%|          | 0/1 [00:00<?, ?it/s]"
      ]
     },
     "metadata": {},
     "output_type": "display_data"
    },
    {
     "name": "stdout",
     "output_type": "stream",
     "text": [
      "500\n"
     ]
    },
    {
     "data": {
      "application/vnd.jupyter.widget-view+json": {
       "model_id": "77456b3e60c54a9b92db4ba770240316",
       "version_major": 2,
       "version_minor": 0
      },
      "text/plain": [
       "  0%|          | 0/1 [00:00<?, ?it/s]"
      ]
     },
     "metadata": {},
     "output_type": "display_data"
    },
    {
     "name": "stdout",
     "output_type": "stream",
     "text": [
      "200\n"
     ]
    }
   ],
   "source": [
    "train_circuits, train_ideal_exp_vals, train_noisy_exp_vals = load_circuits('./data/haoran_mbd/random_circuits/train', [18], '.pk')\n",
    "print(len(train_circuits))\n",
    "\n",
    "test_circuits, test_ideal_exp_vals, test_noisy_exp_vals = load_circuits('./data/haoran_mbd/random_circuits/val', [18], '.pk')\n",
    "print(len(test_circuits))"
   ]
  },
  {
   "cell_type": "code",
   "execution_count": 21,
   "metadata": {
    "collapsed": false,
    "jupyter": {
     "outputs_hidden": false
    }
   },
   "outputs": [],
   "source": [
    "a = train_ideal_exp_vals+test_ideal_exp_vals\n",
    "from itertools import chain\n",
    "a = list(chain.from_iterable(a))"
   ]
  },
  {
   "cell_type": "code",
   "execution_count": 22,
   "metadata": {
    "collapsed": false,
    "jupyter": {
     "outputs_hidden": false
    }
   },
   "outputs": [
    {
     "data": {
      "text/plain": [
       "(array([168., 103., 205., 324., 622., 613., 282., 192., 136., 155.]),\n",
       " array([-1. , -0.8, -0.6, -0.4, -0.2,  0. ,  0.2,  0.4,  0.6,  0.8,  1. ]),\n",
       " <BarContainer object of 10 artists>)"
      ]
     },
     "execution_count": 22,
     "metadata": {},
     "output_type": "execute_result"
    },
    {
     "data": {
      "image/png": "[encoded data removed]",
      "text/plain": [
       "<Figure size 432x288 with 1 Axes>"
      ]
     },
     "metadata": {},
     "output_type": "display_data"
    }
   ],
   "source": [
    "plt.style.use({'figure.facecolor':'white'})\n",
    "plt.hist(a)"
   ]
  },
  {
   "cell_type": "markdown",
   "metadata": {
    "collapsed": false,
    "jupyter": {
     "outputs_hidden": false
    }
   },
   "source": []
  },
  {
   "cell_type": "markdown",
   "metadata": {
    "collapsed": false,
    "jupyter": {
     "outputs_hidden": false
    }
   },
   "source": [
    "# Random Brickwork"
   ]
  },
  {
   "cell_type": "code",
   "execution_count": 53,
   "metadata": {
    "collapsed": false,
    "jupyter": {
     "outputs_hidden": false
    }
   },
   "outputs": [],
   "source": [
    "num_qubit = 4\n",
    "\n",
    "def construct_random_brickwork_func(num_steps, be):\n",
    "    num_qubit = 4\n",
    "    rb = construct_mbl_circuit(num_qubit, [], 0, num_steps, completely_random=True)\n",
    "    rb = transpile(rb, backend=be, optimization_level=3)\n",
    "    return rb"
   ]
  },
  {
   "cell_type": "code",
   "execution_count": 52,
   "metadata": {
    "collapsed": false,
    "jupyter": {
     "outputs_hidden": false
    }
   },
   "outputs": [
    {
     "data": {
      "image/png": "[encoded data removed]",
      "text/plain": [
       "<Figure size 2767.35x385.28 with 1 Axes>"
      ]
     },
     "execution_count": 52,
     "metadata": {},
     "output_type": "execute_result"
    }
   ],
   "source": [
    "construct_random_brickwork_func(3, be=backend_noisy).draw('mpl', fold=-1)"
   ]
  },
  {
   "cell_type": "code",
   "execution_count": null,
   "metadata": {
    "collapsed": false,
    "jupyter": {
     "outputs_hidden": false
    }
   },
   "outputs": [],
   "source": [
    "steps = [1]\n",
    "generate_data(construct_random_brickwork_func, steps, './data/haoran_mbd/random_brickwork', 500)"
   ]
  },
  {
   "cell_type": "markdown",
   "metadata": {
    "collapsed": false,
    "jupyter": {
     "outputs_hidden": false
    }
   },
   "source": []
  },
  {
   "cell_type": "markdown",
   "metadata": {
    "collapsed": false,
    "jupyter": {
     "outputs_hidden": false
    }
   },
   "source": [
    "# Random MBD"
   ]
  },
  {
   "cell_type": "code",
   "execution_count": 74,
   "metadata": {
    "collapsed": false,
    "jupyter": {
     "outputs_hidden": false
    }
   },
   "outputs": [],
   "source": [
    "num_qubit = 4\n",
    "\n",
    "W = 0.8 * np.pi\n",
    "theta = 0.1 * np.pi\n",
    "\n",
    "def construct_random_mbd_func(num_steps, be):\n",
    "    disorders = generate_disorder(num_qubit, W)\n",
    "    random_mbl = construct_mbl_circuit(num_qubit, disorders, theta, num_steps)\n",
    "    circuit = transpile(random_mbl, backend=be, optimization_level=3)\n",
    "    return circuit, random_mbl"
   ]
  },
  {
   "cell_type": "code",
   "execution_count": 77,
   "metadata": {
    "collapsed": false,
    "jupyter": {
     "outputs_hidden": false
    }
   },
   "outputs": [
    {
     "data": {
      "image/png": "[encoded data removed]",
      "text/plain": [
       "<Figure size 899.479x325.08 with 1 Axes>"
      ]
     },
     "execution_count": 77,
     "metadata": {},
     "output_type": "execute_result"
    }
   ],
   "source": [
    "circuit, random_mbl = construct_random_mbd_func(1, backend_noisy)\n",
    "random_mbl.draw('mpl', fold=-1, idle_wires=False)"
   ]
  },
  {
   "cell_type": "code",
   "execution_count": 78,
   "metadata": {
    "collapsed": false,
    "jupyter": {
     "outputs_hidden": false
    }
   },
   "outputs": [
    {
     "data": {
      "image/png": "[encoded data removed]",
      "text/plain": [
       "<Figure size 1268.33x325.08 with 1 Axes>"
      ]
     },
     "execution_count": 78,
     "metadata": {},
     "output_type": "execute_result"
    }
   ],
   "source": [
    "circuit.draw('mpl', fold=-1, idle_wires=False)"
   ]
  },
  {
   "cell_type": "code",
   "execution_count": null,
   "metadata": {
    "collapsed": false,
    "jupyter": {
     "outputs_hidden": false
    }
   },
   "outputs": [],
   "source": [
    "steps = list(range(10))\n",
    "generate_data(partial(construct_random_mbd_func, be=backend_noisy_coherent), steps, './data/mbd_datasets2/theta_0.1pi_coherent/val', 200)"
   ]
  },
  {
   "cell_type": "code",
   "execution_count": null,
   "metadata": {
    "collapsed": false,
    "jupyter": {
     "outputs_hidden": false
    }
   },
   "outputs": [],
   "source": [
    "with open('./data/mbd_datasets/train/step_5.json', 'r') as in_f:\n",
    "    train_data = json.load(in_f)\n",
    "train_data[0]['circuit_graph']"
   ]
  },
  {
   "cell_type": "code",
   "execution_count": null,
   "metadata": {
    "collapsed": false,
    "jupyter": {
     "outputs_hidden": false
    }
   },
   "outputs": [],
   "source": [
    "with open('./data/mbd_datasets/val/step_4.json', 'r') as in_f:\n",
    "    val_data = json.load(in_f)\n",
    "val_data[0]['circuit_graph']"
   ]
  },
  {
   "cell_type": "markdown",
   "metadata": {
    "collapsed": false,
    "jupyter": {
     "outputs_hidden": false
    }
   },
   "source": []
  }
 ],
 "metadata": {
  "kernelspec": {
   "display_name": "Python 3 (ipykernel)",
   "language": "python",
   "name": "python3"
  },
  "language_info": {
   "codemirror_mode": {
    "name": "ipython",
    "version": 3
   },
   "file_extension": ".py",
   "mimetype": "text/x-python",
   "name": "python",
   "nbconvert_exporter": "python",
   "pygments_lexer": "ipython3",
   "version": "3.10.14"
  }
 },
 "nbformat": 4,
 "nbformat_minor": 4
}
