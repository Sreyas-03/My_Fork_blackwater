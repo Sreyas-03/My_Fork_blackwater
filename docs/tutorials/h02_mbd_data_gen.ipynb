{
 "cells": [
  {
   "cell_type": "code",
   "execution_count": 1,
   "outputs": [],
   "source": [
    "import json, pickle\n",
    "import glob\n",
    "\n",
    "import numpy as np\n",
    "import pandas as pd\n",
    "\n",
    "from qiskit import transpile\n",
    "from qiskit import execute\n",
    "from qiskit.providers.fake_provider import FakeLima\n",
    "from qiskit.primitives import Estimator\n",
    "from qiskit.circuit.random import random_circuit\n",
    "\n",
    "import torch\n",
    "from torch.optim import Adam\n",
    "from torch.optim.lr_scheduler import ReduceLROnPlateau\n",
    "from torch.nn.functional import dropout\n",
    "\n",
    "from torch_geometric.nn import GCNConv, global_mean_pool, Linear, ChebConv, SAGEConv\n",
    "from torch_geometric.data import Data\n",
    "from torch_geometric.loader import DataLoader\n",
    "\n",
    "from tqdm.notebook import tqdm_notebook\n",
    "import matplotlib.pyplot as plt\n",
    "import seaborn as sns\n",
    "\n",
    "from blackwater.data.loaders.exp_val import CircuitGraphExpValMitigationDataset\n",
    "from blackwater.data.generators.exp_val import exp_value_generator\n",
    "from blackwater.data.utils import generate_random_pauli_sum_op\n",
    "from blackwater.library.ngem.estimator import ngem\n",
    "\n",
    "from qiskit.quantum_info import random_clifford\n",
    "\n",
    "import random\n",
    "from qiskit.circuit.library import HGate, SdgGate\n",
    "from qiskit.circuit import ClassicalRegister\n",
    "\n",
    "from blackwater.data.utils import (\n",
    "    generate_random_pauli_sum_op,\n",
    "    create_estimator_meas_data,\n",
    "    circuit_to_graph_data_json,\n",
    "    get_backend_properties_v1,\n",
    "    encode_pauli_sum_op,\n",
    "    create_meas_data_from_estimators\n",
    ")\n",
    "from blackwater.data.generators.exp_val import ExpValueEntry\n",
    "from blackwater.metrics.improvement_factor import improvement_factor, Trial, Problem\n",
    "\n",
    "from qiskit_aer import AerSimulator, QasmSimulator\n",
    "from qiskit.providers.fake_provider import FakeMontreal, FakeLima, FakeBelem\n",
    "\n",
    "from torch_geometric.nn import (\n",
    "    GCNConv,\n",
    "    TransformerConv,\n",
    "    GATv2Conv,\n",
    "    global_mean_pool,\n",
    "    Linear,\n",
    "    ChebConv,\n",
    "    SAGEConv,\n",
    "    ASAPooling,\n",
    "    dense_diff_pool,\n",
    "    avg_pool_neighbor_x\n",
    ")\n",
    "from torch_geometric.data import Data\n",
    "from torch_geometric.loader import DataLoader\n",
    "from torch_geometric.utils import to_dense_adj, to_dense_batch\n",
    "\n",
    "from qiskit import QuantumCircuit\n",
    "from qiskit.circuit.library import U3Gate, CZGate, PhaseGate, CXGate\n",
    "from mbd_utils import construct_random_clifford, cal_z_exp, calc_imbalance, cal_all_z_exp, construct_mbl_circuit, generate_disorder, random_clifford_circuit, modify_and_add_noise_to_model\n",
    "from gnn import ExpValCircuitGraphModel\n",
    "from qiskit.quantum_info import Clifford\n",
    "from qiskit_aer.noise import depolarizing_error, coherent_unitary_error, NoiseModel\n",
    "\n",
    "from functools import partial"
   ],
   "metadata": {
    "collapsed": false
   }
  },
  {
   "cell_type": "code",
   "execution_count": 2,
   "outputs": [],
   "source": [
    "backend = FakeLima()\n",
    "properties = get_backend_properties_v1(backend)\n",
    "\n",
    "## Local\n",
    "backend_ideal = QasmSimulator() # Noiseless\n",
    "backend_noisy = AerSimulator.from_backend(FakeLima()) # Noisy\n",
    "\n",
    "run_config_ideal = {'shots': 10000, 'backend': backend_ideal, 'name': 'ideal'}\n",
    "run_config_noisy = {'shots': 10000, 'backend': backend_noisy, 'name': 'noisy'}\n",
    "\n",
    "num_qubit = 4"
   ],
   "metadata": {
    "collapsed": false
   }
  },
  {
   "cell_type": "code",
   "execution_count": 11,
   "outputs": [],
   "source": [
    "backend = FakeLima()\n",
    "properties = get_backend_properties_v1(backend)\n",
    "\n",
    "# Local, coherent noise\n",
    "backend_ideal = QasmSimulator() # Noiseless\n",
    "backend_noisy_coherent, noise_model = modify_and_add_noise_to_model()\n",
    "\n",
    "run_config_ideal = {'shots': 10000, 'backend': backend_ideal, 'name': 'ideal'}\n",
    "run_config_noisy_coherent = {'shots': 10000, 'backend': backend_noisy_coherent, 'name': 'noisy_coherent'}\n",
    "\n",
    "num_qubit = 4"
   ],
   "metadata": {
    "collapsed": false
   }
  },
  {
   "cell_type": "code",
   "execution_count": 3,
   "outputs": [
    {
     "name": "stdout",
     "output_type": "stream",
     "text": [
      "{'type': 'qerror', 'id': 'a1694e6108c94259821d611a4ffca1fc', 'operations': ['cx'], 'instructions': [[{'name': 'unitary', 'params': [array([[1.        +0.j        , 0.        +0.j        ,\n",
      "        0.        +0.j        , 0.        +0.j        ],\n",
      "       [0.        +0.j        , 0.98078528+0.j        ,\n",
      "        0.        +0.j        , 0.        -0.19509032j],\n",
      "       [0.        +0.j        , 0.        +0.j        ,\n",
      "        1.        +0.j        , 0.        +0.j        ],\n",
      "       [0.        +0.j        , 0.        -0.19509032j,\n",
      "        0.        +0.j        , 0.98078528+0.j        ]])], 'qubits': [0, 1]}]], 'probabilities': [1.0]}\n"
     ]
    }
   ],
   "source": [
    "for e in noise_model.to_dict()['errors']:\n",
    "    if e['operations'] == ['cx']:\n",
    "        print(e)"
   ],
   "metadata": {
    "collapsed": false
   }
  },
  {
   "cell_type": "code",
   "execution_count": 24,
   "outputs": [],
   "source": [
    "from qiskit.transpiler.exceptions import TranspilerError\n",
    "import scipy\n",
    "\n",
    "def generate_data(generating_func, two_q_gate_depths, save_path: str, n_entries_per_file: int):\n",
    "    for depth in two_q_gate_depths:\n",
    "        entries = []\n",
    "\n",
    "        for i in tqdm_notebook(range(n_entries_per_file)):\n",
    "            success = False\n",
    "            while not success:\n",
    "                try:\n",
    "                    # circuit, disorders = generating_func(depth)\n",
    "                    circuit = generating_func(depth)\n",
    "                    success = True\n",
    "                except (scipy.linalg.LinAlgError, TranspilerError, np.linalg.LinAlgError) as e:\n",
    "                    print(f\"Ran into an error:, {e}\")\n",
    "\n",
    "            job_ideal = execute(circuit, **run_config_ideal)\n",
    "            job_noisy = execute(circuit, **run_config_noisy_coherent)\n",
    "\n",
    "            counts_ideal = job_ideal.result().get_counts()\n",
    "            counts_noisy = job_noisy.result().get_counts()\n",
    "\n",
    "            ideal_exp_val = cal_z_exp(counts_ideal)\n",
    "            noisy_exp_val = cal_z_exp(counts_noisy)\n",
    "\n",
    "            graph_data = circuit_to_graph_data_json(\n",
    "                circuit=circuit,\n",
    "                properties=properties,\n",
    "                use_qubit_features=True,\n",
    "                use_gate_features=True,\n",
    "            )\n",
    "\n",
    "            entry = ExpValueEntry(\n",
    "                circuit_graph=graph_data,\n",
    "                observable=[],\n",
    "                ideal_exp_value=ideal_exp_val.tolist(),\n",
    "                noisy_exp_values=[noisy_exp_val.tolist()],\n",
    "                circuit_depth=circuit.depth()\n",
    "            )\n",
    "            to_append = entry.to_dict()\n",
    "            to_append['circuit'] = circuit\n",
    "            entries.append(to_append)\n",
    "\n",
    "        path = f\"{save_path}/step_{depth}.pk\"\n",
    "        with open(path, \"wb\") as f:\n",
    "            # pprint(entries)\n",
    "            pickle.dump(entries, f)"
   ],
   "metadata": {
    "collapsed": false
   }
  },
  {
   "cell_type": "markdown",
   "source": [],
   "metadata": {
    "collapsed": false
   }
  },
  {
   "cell_type": "markdown",
   "source": [
    "# Sanity check on the all-z expectation value of the generated random Cliffords"
   ],
   "metadata": {
    "collapsed": false
   }
  },
  {
   "cell_type": "code",
   "execution_count": null,
   "outputs": [],
   "source": [
    "from qiskit.transpiler.exceptions import TranspilerError\n",
    "\n",
    "out = []\n",
    "for _ in tqdm_notebook(range(1000)):\n",
    "    d = random.choice(np.arange(0, 19, 2))\n",
    "    circuit, _ = construct_random_clifford(num_qubit, d)\n",
    "\n",
    "    success = False\n",
    "    while not success:\n",
    "        try:\n",
    "            circuit = transpile(circuit, backend_noisy, optimization_level=3)\n",
    "            success = True\n",
    "        except TranspilerError as e:\n",
    "            print(f'Run into {e}')\n",
    "\n",
    "    job_ideal = execute(circuit, **run_config_ideal)\n",
    "    counts_ideal = job_ideal.result().get_counts()\n",
    "    ideal_exp_val = cal_all_z_exp(counts_ideal)\n",
    "    out.append(ideal_exp_val)"
   ],
   "metadata": {
    "collapsed": false
   }
  },
  {
   "cell_type": "code",
   "execution_count": null,
   "outputs": [],
   "source": [
    "sns.histplot(out)\n",
    "plt.title('1000 \"random\" clifford all-Z expectation')"
   ],
   "metadata": {
    "collapsed": false
   }
  },
  {
   "cell_type": "markdown",
   "source": [],
   "metadata": {
    "collapsed": false
   }
  },
  {
   "cell_type": "markdown",
   "source": [
    "# Generate cliffords"
   ],
   "metadata": {
    "collapsed": false
   }
  },
  {
   "cell_type": "code",
   "execution_count": 12,
   "outputs": [],
   "source": [
    "num_qubit = 4\n",
    "\n",
    "def construct_random_clifford_func(two_q_gate_depth_post_trans, be):\n",
    "    if two_q_gate_depth_post_trans in [6, 8, 16, 18]: factor = 1.2\n",
    "    elif two_q_gate_depth_post_trans in [2]: factor = 0.5\n",
    "    elif two_q_gate_depth_post_trans in [4, 10, 12, 14]: factor = 1\n",
    "\n",
    "    if not two_q_gate_depth_post_trans:\n",
    "        d = np.random.randint(1, 6)\n",
    "        rc = transpile(construct_random_clifford(num_qubit, d, max_operands=1)[0], backend=be, optimization_level=3)\n",
    "\n",
    "    elif 1 <= two_q_gate_depth_post_trans <= 8:\n",
    "        d = np.random.randint(1, two_q_gate_depth_post_trans//factor)\n",
    "        rc = transpile(construct_random_clifford(num_qubit, d)[0], backend=be, optimization_level=3)\n",
    "        while rc.depth(filter_function=lambda x: x[0].num_qubits == 2) != two_q_gate_depth_post_trans:\n",
    "            d = np.random.randint(1, two_q_gate_depth_post_trans//factor)\n",
    "            rc = transpile(construct_random_clifford(num_qubit, d)[0], backend=be, optimization_level=3)\n",
    "\n",
    "    elif 8 <= two_q_gate_depth_post_trans <= 18:\n",
    "        d = np.random.randint(5, two_q_gate_depth_post_trans//factor)\n",
    "        rc = transpile(construct_random_clifford(num_qubit, d)[0], backend=be, optimization_level=3)\n",
    "        while rc.depth(filter_function=lambda x: x[0].num_qubits == 2) != two_q_gate_depth_post_trans:\n",
    "            d = np.random.randint(5, two_q_gate_depth_post_trans//factor)\n",
    "            rc = transpile(construct_random_clifford(num_qubit, d)[0], backend=be, optimization_level=3)\n",
    "    else:\n",
    "        raise NotImplementedError\n",
    "    return rc"
   ],
   "metadata": {
    "collapsed": false
   }
  },
  {
   "cell_type": "code",
   "execution_count": null,
   "outputs": [],
   "source": [
    "depths = np.arange(0, 19, 2)\n",
    "generate_data(partial(construct_random_clifford_func, be=backend_noisy_coherent), depths, './data/haoran_mbd_coherent/random_cliffords', 500)"
   ],
   "metadata": {
    "collapsed": false,
    "pycharm": {
     "is_executing": true
    }
   }
  },
  {
   "cell_type": "markdown",
   "source": [],
   "metadata": {
    "collapsed": false
   }
  },
  {
   "cell_type": "markdown",
   "source": [
    "# Random Circuit"
   ],
   "metadata": {
    "collapsed": false
   }
  },
  {
   "cell_type": "code",
   "execution_count": null,
   "outputs": [],
   "source": [
    "num_qubit = 4\n",
    "\n",
    "def construct_random_circuit(two_q_gate_depth_post_trans, be):\n",
    "    if two_q_gate_depth_post_trans in [6, 8, 16, 18]: factor = 1.2\n",
    "    elif two_q_gate_depth_post_trans in [2]: factor = 0.5\n",
    "    elif two_q_gate_depth_post_trans in [4, 10, 12, 14]: factor = 1\n",
    "\n",
    "    if not two_q_gate_depth_post_trans:\n",
    "        d = np.random.randint(1, 6)\n",
    "        rc = transpile(random_circuit(num_qubit, d, 1, measure=True), backend=be, optimization_level=3)\n",
    "\n",
    "    elif 1 <= two_q_gate_depth_post_trans <= 8:\n",
    "        d = np.random.randint(1, two_q_gate_depth_post_trans//factor)\n",
    "        rc = transpile(random_circuit(num_qubit, d, 2, measure=True), backend=be, optimization_level=3)\n",
    "        while rc.depth(filter_function=lambda x: x[0].num_qubits == 2) != two_q_gate_depth_post_trans:\n",
    "            d = np.random.randint(1, two_q_gate_depth_post_trans//factor)\n",
    "            rc = transpile(random_circuit(num_qubit, d, 2, measure=True), backend=be, optimization_level=3)\n",
    "\n",
    "    elif 8 <= two_q_gate_depth_post_trans <= 18:\n",
    "        d = np.random.randint(5, two_q_gate_depth_post_trans//factor)\n",
    "        rc = transpile(random_circuit(num_qubit, d, 2, measure=True), backend=be, optimization_level=3)\n",
    "        while rc.depth(filter_function=lambda x: x[0].num_qubits == 2) != two_q_gate_depth_post_trans:\n",
    "            d = np.random.randint(5, two_q_gate_depth_post_trans//factor)\n",
    "            rc = transpile(random_circuit(num_qubit, d, 2, measure=True), backend=be, optimization_level=3)\n",
    "    else:\n",
    "        raise NotImplementedError\n",
    "    return rc"
   ],
   "metadata": {
    "collapsed": false
   }
  },
  {
   "cell_type": "code",
   "execution_count": null,
   "outputs": [],
   "source": [
    "# circuit = transpile(construct_random_circuit(2), backend=backend_noisy, optimization_level=3)\n",
    "circuit = construct_random_circuit(4)\n",
    "circuit.draw(fold=-1)"
   ],
   "metadata": {
    "collapsed": false
   }
  },
  {
   "cell_type": "code",
   "execution_count": null,
   "outputs": [],
   "source": [
    "transpile(circuit, backend_noisy, optimization_level=3).depth(lambda x: x[0].num_qubits == 2)"
   ],
   "metadata": {
    "collapsed": false
   }
  },
  {
   "cell_type": "code",
   "execution_count": null,
   "outputs": [],
   "source": [
    "depths = [16]\n",
    "generate_data(construct_random_circuit, depths, './data/haoran_mbd/random_circuits', 500)"
   ],
   "metadata": {
    "collapsed": false
   }
  },
  {
   "cell_type": "code",
   "execution_count": null,
   "outputs": [],
   "source": [
    "f = open('./data/haoran_mbl/rc_train/random_circuits_depth4.json')\n",
    "out = json.load(f)"
   ],
   "metadata": {
    "collapsed": false
   }
  },
  {
   "cell_type": "markdown",
   "source": [],
   "metadata": {
    "collapsed": false
   }
  },
  {
   "cell_type": "markdown",
   "source": [
    "# Random Brickwork"
   ],
   "metadata": {
    "collapsed": false
   }
  },
  {
   "cell_type": "code",
   "execution_count": 5,
   "outputs": [],
   "source": [
    "num_qubit = 4\n",
    "\n",
    "def construct_random_brickwork_func(num_steps, be):\n",
    "    num_qubit = 4\n",
    "    rb = construct_mbl_circuit(num_qubit, [], 0, num_steps, completely_random=True)\n",
    "    rb = transpile(rb, backend=be, optimization_level=3)\n",
    "    return rb"
   ],
   "metadata": {
    "collapsed": false
   }
  },
  {
   "cell_type": "code",
   "execution_count": 25,
   "outputs": [
    {
     "data": {
      "text/plain": "<Figure size 540.24x385.28 with 1 Axes>",
      "image/png": "[encoded data removed]"
     },
     "execution_count": 25,
     "metadata": {},
     "output_type": "execute_result"
    }
   ],
   "source": [
    "construct_random_brickwork_func(0).draw('mpl', fold=-1)"
   ],
   "metadata": {
    "collapsed": false
   }
  },
  {
   "cell_type": "code",
   "execution_count": null,
   "outputs": [],
   "source": [
    "steps = [1]\n",
    "generate_data(construct_random_brickwork_func, steps, './data/haoran_mbd/random_brickwork', 500)"
   ],
   "metadata": {
    "collapsed": false
   }
  },
  {
   "cell_type": "markdown",
   "source": [],
   "metadata": {
    "collapsed": false
   }
  },
  {
   "cell_type": "markdown",
   "source": [
    "# Random MBD"
   ],
   "metadata": {
    "collapsed": false
   }
  },
  {
   "cell_type": "code",
   "execution_count": 25,
   "outputs": [],
   "source": [
    "num_qubit = 4\n",
    "\n",
    "W = 0.8 * np.pi\n",
    "theta = 0.1 * np.pi\n",
    "\n",
    "def construct_random_mbd_func(num_steps, be):\n",
    "    disorders = generate_disorder(num_qubit, W)\n",
    "    random_mbl = construct_mbl_circuit(num_qubit, disorders, theta, num_steps)\n",
    "    circuit = transpile(random_mbl, backend=be, optimization_level=3)\n",
    "    return circuit"
   ],
   "metadata": {
    "collapsed": false
   }
  },
  {
   "cell_type": "code",
   "execution_count": 20,
   "outputs": [
    {
     "data": {
      "text/plain": "<Figure size 1268.33x325.08 with 1 Axes>",
      "image/png": "[encoded data removed]"
     },
     "execution_count": 20,
     "metadata": {},
     "output_type": "execute_result"
    }
   ],
   "source": [
    "construct_random_mbd_func(1, backend_noisy_coherent).draw('mpl', fold=-1, idle_wires=False)"
   ],
   "metadata": {
    "collapsed": false
   }
  },
  {
   "cell_type": "code",
   "execution_count": null,
   "outputs": [],
   "source": [
    "steps = list(range(10))\n",
    "generate_data(partial(construct_random_mbd_func, be=backend_noisy_coherent), steps, './data/mbd_datasets2/theta_0.1pi_coherent/val', 200)"
   ],
   "metadata": {
    "collapsed": false,
    "pycharm": {
     "is_executing": true
    }
   }
  },
  {
   "cell_type": "code",
   "execution_count": null,
   "outputs": [],
   "source": [
    "with open('./data/mbd_datasets/train/step_5.json', 'r') as in_f:\n",
    "    train_data = json.load(in_f)\n",
    "train_data[0]['circuit_graph']"
   ],
   "metadata": {
    "collapsed": false
   }
  },
  {
   "cell_type": "code",
   "execution_count": null,
   "outputs": [],
   "source": [
    "with open('./data/mbd_datasets/val/step_4.json', 'r') as in_f:\n",
    "    val_data = json.load(in_f)\n",
    "val_data[0]['circuit_graph']"
   ],
   "metadata": {
    "collapsed": false
   }
  },
  {
   "cell_type": "markdown",
   "source": [],
   "metadata": {
    "collapsed": false
   }
  }
 ],
 "metadata": {
  "kernelspec": {
   "display_name": "Python 3",
   "language": "python",
   "name": "python3"
  },
  "language_info": {
   "codemirror_mode": {
    "name": "ipython",
    "version": 2
   },
   "file_extension": ".py",
   "mimetype": "text/x-python",
   "name": "python",
   "nbconvert_exporter": "python",
   "pygments_lexer": "ipython2",
   "version": "2.7.6"
  }
 },
 "nbformat": 4,
 "nbformat_minor": 0
}
