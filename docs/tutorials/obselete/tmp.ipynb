{
 "cells": [
  {
   "cell_type": "code",
   "execution_count": 1,
   "metadata": {
    "collapsed": true
   },
   "outputs": [],
   "source": [
    "import torch\n",
    "import numpy as np"
   ]
  },
  {
   "cell_type": "code",
   "execution_count": 32,
   "outputs": [
    {
     "name": "stdout",
     "output_type": "stream",
     "text": [
      "torch.Size([2])\n",
      "torch.Size([1, 2])\n"
     ]
    },
    {
     "data": {
      "text/plain": "tensor([[0., 0., 1., 2., 3.],\n        [0., 0., 1., 2., 3.],\n        [0., 0., 1., 2., 3.]])"
     },
     "execution_count": 32,
     "metadata": {},
     "output_type": "execute_result"
    }
   ],
   "source": [
    "X = torch.zeros((3, 5))\n",
    "a = torch.tensor([1, 2, 3])\n",
    "# b = torch.tensor([2, 2])\n",
    "print(b.shape)\n",
    "print(b[None, :].shape)\n",
    "\n",
    "X[:, -3:] = a\n",
    "# X[:, :2] = b[None, :]\n",
    "X"
   ],
   "metadata": {
    "collapsed": false
   }
  },
  {
   "cell_type": "code",
   "execution_count": 35,
   "outputs": [
    {
     "data": {
      "text/plain": "tensor([[0., 0., 9., 9., 9.],\n        [0., 0., 9., 9., 9.],\n        [0., 0., 9., 9., 9.]])"
     },
     "execution_count": 35,
     "metadata": {},
     "output_type": "execute_result"
    }
   ],
   "source": [
    "a = torch.tensor(9)\n",
    "X[:, -3:] = a\n",
    "X"
   ],
   "metadata": {
    "collapsed": false
   }
  },
  {
   "cell_type": "code",
   "execution_count": 6,
   "outputs": [],
   "source": [
    "Y = np.zeros((10, 6))\n",
    "a = 9\n",
    "Y[:, -3:] = [a]"
   ],
   "metadata": {
    "collapsed": false
   }
  },
  {
   "cell_type": "code",
   "execution_count": 7,
   "outputs": [
    {
     "data": {
      "text/plain": "array([[0., 0., 0., 9., 9., 9.],\n       [0., 0., 0., 9., 9., 9.],\n       [0., 0., 0., 9., 9., 9.],\n       [0., 0., 0., 9., 9., 9.],\n       [0., 0., 0., 9., 9., 9.],\n       [0., 0., 0., 9., 9., 9.],\n       [0., 0., 0., 9., 9., 9.],\n       [0., 0., 0., 9., 9., 9.],\n       [0., 0., 0., 9., 9., 9.],\n       [0., 0., 0., 9., 9., 9.]])"
     },
     "execution_count": 7,
     "metadata": {},
     "output_type": "execute_result"
    }
   ],
   "source": [
    "Y"
   ],
   "metadata": {
    "collapsed": false
   }
  },
  {
   "cell_type": "code",
   "execution_count": null,
   "outputs": [],
   "source": [],
   "metadata": {
    "collapsed": false
   }
  }
 ],
 "metadata": {
  "kernelspec": {
   "display_name": "Python 3",
   "language": "python",
   "name": "python3"
  },
  "language_info": {
   "codemirror_mode": {
    "name": "ipython",
    "version": 2
   },
   "file_extension": ".py",
   "mimetype": "text/x-python",
   "name": "python",
   "nbconvert_exporter": "python",
   "pygments_lexer": "ipython2",
   "version": "2.7.6"
  }
 },
 "nbformat": 4,
 "nbformat_minor": 0
}
