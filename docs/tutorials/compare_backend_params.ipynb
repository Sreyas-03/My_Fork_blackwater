{
 "cells": [
  {
   "cell_type": "code",
   "execution_count": 1,
   "outputs": [],
   "source": [
    "import json\n",
    "import glob, pickle\n",
    "\n",
    "import numpy as np\n",
    "import pandas as pd\n",
    "\n",
    "from qiskit import transpile\n",
    "from qiskit import execute\n",
    "from qiskit.providers.fake_provider import FakeLima\n",
    "from qiskit.primitives import Estimator\n",
    "from qiskit.circuit.random import random_circuit\n",
    "\n",
    "import torch\n",
    "from torch.optim import Adam\n",
    "from torch.optim.lr_scheduler import ReduceLROnPlateau\n",
    "from torch.nn.functional import dropout\n",
    "\n",
    "from torch_geometric.nn import GCNConv, global_mean_pool, Linear, ChebConv, SAGEConv\n",
    "from torch_geometric.data import Data\n",
    "from torch_geometric.loader import DataLoader\n",
    "\n",
    "from tqdm.notebook import tqdm_notebook\n",
    "import matplotlib.pyplot as plt\n",
    "import seaborn as sns\n",
    "\n",
    "from blackwater.data.loaders.exp_val import CircuitGraphExpValMitigationDataset\n",
    "from blackwater.data.generators.exp_val import exp_value_generator\n",
    "from blackwater.data.utils import generate_random_pauli_sum_op\n",
    "from blackwater.library.ngem.estimator import ngem\n",
    "\n",
    "from qiskit.quantum_info import random_clifford\n",
    "\n",
    "import random\n",
    "from qiskit.circuit.library import HGate, SdgGate\n",
    "from qiskit.circuit import ClassicalRegister\n",
    "\n",
    "from blackwater.data.utils import (\n",
    "    generate_random_pauli_sum_op,\n",
    "    create_estimator_meas_data,\n",
    "    circuit_to_graph_data_json,\n",
    "    get_backend_properties_v1,\n",
    "    encode_pauli_sum_op,\n",
    "    create_meas_data_from_estimators\n",
    ")\n",
    "from blackwater.data.generators.exp_val import ExpValueEntry\n",
    "from blackwater.metrics.improvement_factor import improvement_factor, Trial, Problem\n",
    "\n",
    "from qiskit_aer import AerSimulator, QasmSimulator\n",
    "from qiskit.providers.fake_provider import FakeMontreal, FakeLima, FakeBelem\n",
    "\n",
    "from torch_geometric.nn import (\n",
    "    GCNConv,\n",
    "    TransformerConv,\n",
    "    GATv2Conv,\n",
    "    global_mean_pool,\n",
    "    Linear,\n",
    "    ChebConv,\n",
    "    SAGEConv,\n",
    "    ASAPooling,\n",
    "    dense_diff_pool,\n",
    "    avg_pool_neighbor_x\n",
    ")\n",
    "from torch_geometric.data import Data\n",
    "from torch_geometric.loader import DataLoader\n",
    "from torch_geometric.utils import to_dense_adj, to_dense_batch\n",
    "\n",
    "from qiskit import QuantumCircuit\n",
    "from qiskit.circuit.library import U3Gate, CZGate, PhaseGate, CXGate\n",
    "from mbd_utils import construct_random_clifford, cal_z_exp, calc_imbalance, cal_all_z_exp, construct_mbl_circuit, generate_disorder\n",
    "from gnn import ExpValCircuitGraphModel\n",
    "plt.style.use({'figure.facecolor':'white'})"
   ],
   "metadata": {
    "collapsed": false
   }
  },
  {
   "cell_type": "code",
   "execution_count": 2,
   "outputs": [],
   "source": [
    "backend_lima = FakeLima()\n",
    "backend_belem = FakeBelem()\n",
    "backend_montreal = FakeMontreal()\n",
    "properties_lima = get_backend_properties_v1(backend_lima)\n",
    "properties_belem = get_backend_properties_v1(backend_belem)\n",
    "properties_montreal = get_backend_properties_v1(backend_montreal)\n",
    "\n",
    "## Local\n",
    "backend_ideal = QasmSimulator() # Noiseless\n",
    "backend_noisy_lima = AerSimulator.from_backend(backend_lima) # Noisy\n",
    "backend_noisy_belem = AerSimulator.from_backend(backend_belem) # Noisy\n",
    "backend_noisy_montreal = AerSimulator.from_backend(backend_montreal) # Noisy\n",
    "\n",
    "run_config_ideal = {'shots': 10000, 'backend': backend_ideal, 'name': 'ideal'}\n",
    "run_config_noisy_lima = {'shots': 10000, 'backend': backend_noisy_lima, 'name': 'noisy_lima'}\n",
    "run_config_noisy_belem = {'shots': 10000, 'backend': backend_noisy_belem, 'name': 'noisy_belem'}\n",
    "run_config_noisy_montreal = {'shots': 10000, 'backend': backend_noisy_montreal, 'name': 'noisy_montreal'}\n",
    "\n",
    "BATCH_SIZE = 32"
   ],
   "metadata": {
    "collapsed": false
   }
  },
  {
   "cell_type": "code",
   "execution_count": 3,
   "outputs": [
    {
     "data": {
      "text/plain": "dict_keys(['name', 'gates_set', 'num_qubits', 'qubits_props', 'gate_props'])"
     },
     "execution_count": 3,
     "metadata": {},
     "output_type": "execute_result"
    }
   ],
   "source": [
    "properties_lima.keys()"
   ],
   "metadata": {
    "collapsed": false
   }
  },
  {
   "cell_type": "code",
   "execution_count": 4,
   "outputs": [
    {
     "data": {
      "text/plain": "{'id_0': {'index': 'id_0',\n  'gate_error': 0.00019195510390342677,\n  'gate_length': 35.55555555555556},\n 'id_1': {'index': 'id_1',\n  'gate_error': 0.00033064681663890665,\n  'gate_length': 35.55555555555556},\n 'id_2': {'index': 'id_2',\n  'gate_error': 0.0001807726361160903,\n  'gate_length': 35.55555555555556},\n 'id_3': {'index': 'id_3',\n  'gate_error': 0.0003925363414603665,\n  'gate_length': 35.55555555555556},\n 'id_4': {'index': 'id_4',\n  'gate_error': 0.0006789531879417325,\n  'gate_length': 35.55555555555556},\n 'rz_0': {'index': 'rz_0', 'gate_error': 0, 'gate_length': 0},\n 'rz_1': {'index': 'rz_1', 'gate_error': 0, 'gate_length': 0},\n 'rz_2': {'index': 'rz_2', 'gate_error': 0, 'gate_length': 0},\n 'rz_3': {'index': 'rz_3', 'gate_error': 0, 'gate_length': 0},\n 'rz_4': {'index': 'rz_4', 'gate_error': 0, 'gate_length': 0},\n 'sx_0': {'index': 'sx_0',\n  'gate_error': 0.00019195510390342677,\n  'gate_length': 35.55555555555556},\n 'sx_1': {'index': 'sx_1',\n  'gate_error': 0.00033064681663890665,\n  'gate_length': 35.55555555555556},\n 'sx_2': {'index': 'sx_2',\n  'gate_error': 0.0001807726361160903,\n  'gate_length': 35.55555555555556},\n 'sx_3': {'index': 'sx_3',\n  'gate_error': 0.0003925363414603665,\n  'gate_length': 35.55555555555556},\n 'sx_4': {'index': 'sx_4',\n  'gate_error': 0.0006789531879417325,\n  'gate_length': 35.55555555555556},\n 'x_0': {'index': 'x_0',\n  'gate_error': 0.00019195510390342677,\n  'gate_length': 35.55555555555556},\n 'x_1': {'index': 'x_1',\n  'gate_error': 0.00033064681663890665,\n  'gate_length': 35.55555555555556},\n 'x_2': {'index': 'x_2',\n  'gate_error': 0.0001807726361160903,\n  'gate_length': 35.55555555555556},\n 'x_3': {'index': 'x_3',\n  'gate_error': 0.0003925363414603665,\n  'gate_length': 35.55555555555556},\n 'x_4': {'index': 'x_4',\n  'gate_error': 0.0006789531879417325,\n  'gate_length': 35.55555555555556},\n 'cx_4_3': {'index': 'cx_4_3',\n  'gate_error': 0.02043493012013503,\n  'gate_length': 483.55555555555554},\n 'cx_3_4': {'index': 'cx_3_4',\n  'gate_error': 0.02043493012013503,\n  'gate_length': 519.1111111111111},\n 'cx_0_1': {'index': 'cx_0_1',\n  'gate_error': 0.008339674869236618,\n  'gate_length': 305.77777777777777},\n 'cx_1_0': {'index': 'cx_1_0',\n  'gate_error': 0.008339674869236618,\n  'gate_length': 341.3333333333333},\n 'cx_3_1': {'index': 'cx_3_1',\n  'gate_error': 0.009799775939734023,\n  'gate_length': 462.2222222222222},\n 'cx_1_3': {'index': 'cx_1_3',\n  'gate_error': 0.009799775939734023,\n  'gate_length': 497.77777777777777},\n 'cx_2_1': {'index': 'cx_2_1',\n  'gate_error': 0.005961828308163608,\n  'gate_length': 298.66666666666663},\n 'cx_1_2': {'index': 'cx_1_2',\n  'gate_error': 0.005961828308163608,\n  'gate_length': 334.22222222222223},\n 'reset_0': {'index': 'reset_0',\n  'gate_error': 0.0,\n  'gate_length': 5742.222222222222},\n 'reset_1': {'index': 'reset_1',\n  'gate_error': 0.0,\n  'gate_length': 5742.222222222222},\n 'reset_2': {'index': 'reset_2',\n  'gate_error': 0.0,\n  'gate_length': 5742.222222222222},\n 'reset_3': {'index': 'reset_3',\n  'gate_error': 0.0,\n  'gate_length': 5742.222222222222},\n 'reset_4': {'index': 'reset_4',\n  'gate_error': 0.0,\n  'gate_length': 5742.222222222222}}"
     },
     "execution_count": 4,
     "metadata": {},
     "output_type": "execute_result"
    }
   ],
   "source": [
    "properties_lima['gate_props']"
   ],
   "metadata": {
    "collapsed": false
   }
  },
  {
   "cell_type": "code",
   "execution_count": 27,
   "outputs": [
    {
     "name": "stdout",
     "output_type": "stream",
     "text": [
      "No gate 'cx_0_2'\n",
      "No gate 'cx_0_3'\n",
      "No gate 'cx_0_4'\n",
      "No gate 'cx_1_4'\n",
      "No gate 'cx_2_0'\n",
      "No gate 'cx_2_3'\n",
      "No gate 'cx_2_4'\n",
      "No gate 'cx_3_0'\n",
      "No gate 'cx_3_2'\n",
      "No gate 'cx_4_0'\n",
      "No gate 'cx_4_1'\n",
      "No gate 'cx_4_2'\n",
      "0.0059299205139710185 0.0082653308353876\n",
      "0.5306288980423092 0.23227923520092497\n"
     ]
    }
   ],
   "source": [
    "def compare_backends(b1, b2, q1, q2):\n",
    "    assert len(q1) == len(q2)\n",
    "    diff_percent = []\n",
    "    diff = []\n",
    "\n",
    "    qubit_props_b1 = [b1['qubits_props'][i] for i in q1]\n",
    "    qubit_props_b2 = [b2['qubits_props'][i] for i in q2]\n",
    "    for key in ['readout_error']:\n",
    "        for i in range(len(q1)):\n",
    "            diff_percent += [abs(qubit_props_b1[i][key] - qubit_props_b2[i][key]) / qubit_props_b1[i][key]]\n",
    "            diff += [abs(qubit_props_b1[i][key] - qubit_props_b2[i][key])]\n",
    "\n",
    "    gates_b1 = [f'sx_{q}' for q in q1] + [f'x_{q}' for q in q1] + [f'cx_{i}_{j}' for i in q1 for j in q1 if i != j]\n",
    "    gates_b2 = [f'sx_{q}' for q in q2] + [f'x_{q}' for q in q2] + [f'cx_{i}_{j}' for i in q2 for j in q2 if i != j]\n",
    "    for key1, key2 in zip(gates_b1, gates_b2):\n",
    "        try:\n",
    "            diff_percent += [abs(b1['gate_props'][key1]['gate_error'] - b2['gate_props'][key2]['gate_error']) / b1['gate_props'][key1]['gate_error']]\n",
    "            diff += [abs(b1['gate_props'][key1]['gate_error'] - b2['gate_props'][key2]['gate_error'])]\n",
    "        except KeyError as e:\n",
    "            print('No gate', e)\n",
    "\n",
    "    return diff, diff_percent\n",
    "\n",
    "q1 = q2 = list(range(5))\n",
    "diff, diff_percent = compare_backends(properties_lima, properties_belem, q1, q2)\n",
    "print(np.mean(diff), np.std(diff))\n",
    "print(np.mean(diff_percent), np.std(diff_percent))"
   ],
   "metadata": {
    "collapsed": false
   }
  },
  {
   "cell_type": "code",
   "execution_count": 25,
   "outputs": [
    {
     "name": "stdout",
     "output_type": "stream",
     "text": [
      "5.365487374858677e-05 5.009250950106034e-05\n",
      "1.9933045214958696 3.247128977179777\n"
     ]
    }
   ],
   "source": [
    "def compare_backends(b1, b2, q1, q2):\n",
    "    assert len(q1) == len(q2)\n",
    "    diff_percent = []\n",
    "    diff = []\n",
    "\n",
    "    qubit_props_b1 = [b1['qubits_props'][i] for i in q1]\n",
    "    qubit_props_b2 = [b2['qubits_props'][i] for i in q2]\n",
    "    for key in ['t1', 't2']:\n",
    "        for i in range(len(q1)):\n",
    "            diff_percent += [abs(qubit_props_b1[i][key] - qubit_props_b2[i][key]) / qubit_props_b1[i][key]]\n",
    "            diff += [abs(qubit_props_b1[i][key] - qubit_props_b2[i][key])]\n",
    "\n",
    "    return diff, diff_percent\n",
    "\n",
    "q1 = q2 = list(range(5))\n",
    "diff, diff_percent = compare_backends(properties_lima, properties_montreal, q1, q2)\n",
    "print(np.mean(diff), np.std(diff))\n",
    "print(np.mean(diff_percent), np.std(diff_percent))"
   ],
   "metadata": {
    "collapsed": false
   }
  },
  {
   "cell_type": "code",
   "execution_count": null,
   "outputs": [],
   "source": [],
   "metadata": {
    "collapsed": false
   }
  }
 ],
 "metadata": {
  "kernelspec": {
   "display_name": "Python 3",
   "language": "python",
   "name": "python3"
  },
  "language_info": {
   "codemirror_mode": {
    "name": "ipython",
    "version": 2
   },
   "file_extension": ".py",
   "mimetype": "text/x-python",
   "name": "python",
   "nbconvert_exporter": "python",
   "pygments_lexer": "ipython2",
   "version": "2.7.6"
  }
 },
 "nbformat": 4,
 "nbformat_minor": 0
}
