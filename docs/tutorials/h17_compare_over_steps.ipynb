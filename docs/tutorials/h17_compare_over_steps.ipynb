{
 "cells": [
  {
   "cell_type": "code",
   "execution_count": 36,
   "metadata": {
    "collapsed": true
   },
   "outputs": [],
   "source": [
    "import json, os\n",
    "import glob, pickle\n",
    "\n",
    "from tqdm.notebook import tqdm\n",
    "\n",
    "import numpy as np\n",
    "import pandas as pd\n",
    "\n",
    "from qiskit import transpile\n",
    "from qiskit import execute\n",
    "from qiskit.providers.fake_provider import FakeLima\n",
    "from qiskit.primitives import Estimator\n",
    "from qiskit.circuit.random import random_circuit\n",
    "\n",
    "import torch\n",
    "from torch.optim import Adam\n",
    "from torch.optim.lr_scheduler import ReduceLROnPlateau\n",
    "from torch.nn.functional import dropout\n",
    "\n",
    "from torch_geometric.nn import GCNConv, global_mean_pool, Linear, ChebConv, SAGEConv\n",
    "from torch_geometric.data import Data\n",
    "from torch_geometric.loader import DataLoader\n",
    "\n",
    "from tqdm.notebook import tqdm_notebook\n",
    "import matplotlib.pyplot as plt\n",
    "import seaborn as sns\n",
    "\n",
    "from blackwater.data.loaders.exp_val import CircuitGraphExpValMitigationDataset\n",
    "from blackwater.data.generators.exp_val import exp_value_generator\n",
    "from blackwater.data.utils import generate_random_pauli_sum_op\n",
    "from blackwater.library.ngem.estimator import ngem\n",
    "\n",
    "from qiskit.quantum_info import random_clifford\n",
    "\n",
    "import random\n",
    "from qiskit.circuit.library import HGate, SdgGate\n",
    "from qiskit.circuit import ClassicalRegister\n",
    "\n",
    "from blackwater.data.utils import (\n",
    "    generate_random_pauli_sum_op,\n",
    "    create_estimator_meas_data,\n",
    "    circuit_to_graph_data_json,\n",
    "    get_backend_properties_v1,\n",
    "    encode_pauli_sum_op,\n",
    "    create_meas_data_from_estimators\n",
    ")\n",
    "from blackwater.data.generators.exp_val import ExpValueEntry\n",
    "from blackwater.metrics.improvement_factor import improvement_factor, Trial, Problem\n",
    "\n",
    "from qiskit_aer import AerSimulator, QasmSimulator\n",
    "from qiskit.providers.fake_provider import FakeMontreal, FakeLima\n",
    "\n",
    "from torch_geometric.nn import (\n",
    "    GCNConv,\n",
    "    TransformerConv,\n",
    "    GATv2Conv,\n",
    "    global_mean_pool,\n",
    "    Linear,\n",
    "    ChebConv,\n",
    "    SAGEConv,\n",
    "    ASAPooling,\n",
    "    dense_diff_pool,\n",
    "    avg_pool_neighbor_x\n",
    ")\n",
    "from torch_geometric.data import Data\n",
    "from torch_geometric.loader import DataLoader\n",
    "from torch_geometric.utils import to_dense_adj, to_dense_batch\n",
    "\n",
    "from qiskit import QuantumCircuit\n",
    "from qiskit.circuit.library import U3Gate, CZGate, PhaseGate, CXGate\n",
    "from mbd_utils import construct_random_clifford, cal_z_exp, calc_imbalance, cal_all_z_exp, construct_mbl_circuit, generate_disorder, modify_and_add_noise_to_model\n",
    "from gnn import ExpValCircuitGraphModel, ExpValCircuitGraphModel_2, ExpValCircuitGraphModel_3\n",
    "from mlp import MLP1, MLP2, MLP3, encode_data\n",
    "from collections import defaultdict\n",
    "from sklearn.linear_model import LinearRegression\n",
    "from noise_utils import AddNoise, RemoveReadoutErrors\n",
    "\n",
    "plt.style.use({'figure.facecolor':'white'})\n",
    "D = {'output': 'mpl', 'fold': -1}"
   ]
  },
  {
   "cell_type": "code",
   "execution_count": 2,
   "outputs": [],
   "source": [
    "backend = FakeLima()\n",
    "properties = get_backend_properties_v1(backend)\n",
    "\n",
    "## Local\n",
    "backend_ideal = QasmSimulator() # Noiseless\n",
    "backend_noisy = AerSimulator.from_backend(FakeLima()) # Noisy\n",
    "\n",
    "run_config_ideal = {'shots': 10000, 'backend': backend_ideal, 'name': 'ideal'}\n",
    "run_config_noisy = {'shots': 10000, 'backend': backend_noisy, 'name': 'noisy'}"
   ],
   "metadata": {
    "collapsed": false
   }
  },
  {
   "cell_type": "code",
   "execution_count": 3,
   "outputs": [
    {
     "name": "stdout",
     "output_type": "stream",
     "text": [
      "random seed fixed to 0\n",
      "thetas [0.06896594 0.08987335 0.07574548 0.06847204 0.05323803 0.08116545\n",
      " 0.05498883 0.1120635 ]\n"
     ]
    }
   ],
   "source": [
    "backend = FakeLima()\n",
    "properties = get_backend_properties_v1(backend)\n",
    "\n",
    "# Local, coherent noise\n",
    "backend_ideal = QasmSimulator() # Noiseless\n",
    "backend_noisy_coherent, noise_model = AddNoise(backend=backend).add_coherent_noise(seed=0, theta=np.pi * 0.04, uniform=False, add_depolarization=True)\n",
    "\n",
    "run_config_ideal = {'shots': 10000, 'backend': backend_ideal, 'name': 'ideal'}\n",
    "run_config_noisy_coherent = {'shots': 10000, 'backend': backend_noisy_coherent, 'name': 'noisy_coherent'}"
   ],
   "metadata": {
    "collapsed": false
   }
  },
  {
   "cell_type": "code",
   "execution_count": 37,
   "outputs": [],
   "source": [
    "backend = FakeLima()\n",
    "properties = get_backend_properties_v1(backend)\n",
    "\n",
    "# Local, coherent noise\n",
    "backend_ideal = QasmSimulator() # Noiseless\n",
    "backend_noisy_no_readout = RemoveReadoutErrors().remove_readout_errors()[0]\n",
    "\n",
    "run_config_ideal = {'shots': 10000, 'backend': backend_ideal, 'name': 'ideal'}\n",
    "run_config_noisy_no_readout = {'shots': 10000, 'backend': backend_noisy_no_readout, 'name': 'noisy_no_readout'}\n",
    "\n",
    "num_qubit = 4"
   ],
   "metadata": {
    "collapsed": false
   }
  },
  {
   "cell_type": "code",
   "execution_count": 38,
   "outputs": [],
   "source": [
    "def fix_random_seed(seed=0):\n",
    "    random.seed(seed)\n",
    "    os.environ['PYTHONHASHSEED'] = str(seed)\n",
    "    np.random.seed(seed)\n",
    "    torch.manual_seed(seed)\n",
    "    torch.cuda.manual_seed(seed)\n",
    "    torch.cuda.manual_seed_all(seed)  # if you are using multi-GPU.\n",
    "    torch.backends.cudnn.benchmark = False\n",
    "    torch.backends.cudnn.deterministic = True\n",
    "    print(f'random seed fixed to {seed}')"
   ],
   "metadata": {
    "collapsed": false
   }
  },
  {
   "cell_type": "code",
   "execution_count": 39,
   "outputs": [],
   "source": [
    "# model_path_1 = './model/ising_init_from_qasm/gnn1.pth'\n",
    "# model_path_2 = './model/ising_init_from_qasm/mlp1_smaller.pth'\n",
    "# model_path_3 = './model/ising_init_from_qasm/ols_full.pk'\n",
    "# model_path_4 = './model/ising_init_from_qasm/ols.pk'\n",
    "# model_path_5 = './model/ising_init_from_qasm/rfr_list.pk'\n",
    "\n",
    "# model_path_1 = './model/ising_init_from_qasm_coherent/gnn1.pth'\n",
    "# model_path_2 = './model/ising_init_from_qasm_coherent/mlp1_smaller.pth'\n",
    "# model_path_3 = './model/ising_init_from_qasm_coherent/ols_full.pk'\n",
    "# model_path_4 = './model/ising_init_from_qasm_coherent/ols.pk'\n",
    "# model_path_5 = './model/ising_init_from_qasm_coherent/rfr_list.pk'\n",
    "\n",
    "model_path_1 = './model/ising_init_from_qasm_no_readout/gnn1.pth'\n",
    "model_path_2 = './model/ising_init_from_qasm_no_readout/mlp1_smaller.pth'\n",
    "model_path_3 = './model/ising_init_from_qasm_no_readout/ols_full.pk'\n",
    "model_path_5 = './model/ising_init_from_qasm_no_readout/rfr_list.pk'\n",
    "\n",
    "# model_path_1 = './model/random_circuits/gnn1.pth'\n",
    "# model_path_2 = './model/random_circuits/mlp1.pth'\n",
    "# model_path_3 = './model/random_circuits/ols_full.pk'\n",
    "# model_path_4 = './model/random_circuits/ols.pk'\n",
    "# model_path_5 = './model/random_circuits/rfr_list.pk'"
   ],
   "metadata": {
    "collapsed": false
   }
  },
  {
   "cell_type": "code",
   "execution_count": 40,
   "outputs": [],
   "source": [
    "models = []\n",
    "\n",
    "model_1 = ExpValCircuitGraphModel(\n",
    "    num_node_features=22,\n",
    "    hidden_channels=15\n",
    ")\n",
    "model_1.load_state_dict(torch.load(model_path_1), strict=True)\n",
    "model_1.eval()\n",
    "models.append((model_1, 'gnn'))\n",
    "\n",
    "model_2 = MLP1(\n",
    "    input_size=58,\n",
    "    output_size=4,\n",
    "    hidden_size=64\n",
    ")\n",
    "model_2.load_state_dict(torch.load(model_path_2), strict=True)\n",
    "model_2.eval()\n",
    "models.append((model_2, 'mlp'))\n",
    "\n",
    "with open(model_path_3, 'rb') as f:\n",
    "    model_3 = pickle.load(f)\n",
    "models.append((model_3, 'ols_full'))\n",
    "\n",
    "# with open(model_path_4, 'rb') as f:\n",
    "#     model_4 = pickle.load(f)\n",
    "# models.append((model_4, 'ols'))\n",
    "\n",
    "with open(model_path_5, 'rb') as f:\n",
    "    model_5 = pickle.load(f)\n",
    "models.append((model_5, 'rfr_list'))\n",
    "\n",
    "models.append((None, 'zne'))"
   ],
   "metadata": {
    "collapsed": false
   }
  },
  {
   "cell_type": "code",
   "execution_count": 41,
   "outputs": [
    {
     "data": {
      "text/plain": "  0%|          | 0/23 [00:00<?, ?it/s]",
      "application/vnd.jupyter.widget-view+json": {
       "version_major": 2,
       "version_minor": 0,
       "model_id": "f84269e0b8b14f088dfb40bfa7a80868"
      }
     },
     "metadata": {},
     "output_type": "display_data"
    },
    {
     "name": "stdout",
     "output_type": "stream",
     "text": [
      "6900\n"
     ]
    }
   ],
   "source": [
    "import re\n",
    "def load_circuits(data_dir, f_ext='.json'):\n",
    "    circuits = []\n",
    "    ideal_exp_vals = []\n",
    "    noisy_exp_vals = []\n",
    "    data_files = [os.path.join(data_dir, f) for f in os.listdir(data_dir) if f.endswith(f_ext)]\n",
    "    steps = []\n",
    "    for data_file in tqdm(data_files, leave=True):\n",
    "        if f_ext == '.json':\n",
    "            for entry in json.load(open(data_file, 'r')):\n",
    "                circuits.append(QuantumCircuit.from_qasm_str(entry['circuit']))\n",
    "                ideal_exp_vals.append(entry['ideal_exp_value'])\n",
    "                noisy_exp_vals.append(entry['noisy_exp_values'])\n",
    "        elif f_ext == '.pk':\n",
    "            step = int(re.search(r'\\d+', data_file.split('/')[-1]).group())\n",
    "            for entry in pickle.load(open(data_file, 'rb')):\n",
    "                steps.append(step)\n",
    "                circuits.append(entry['circuit'])\n",
    "                ideal_exp_vals.append(entry['ideal_exp_value'])\n",
    "                noisy_exp_vals.append(entry['noisy_exp_values'])\n",
    "    return circuits, ideal_exp_vals, noisy_exp_vals, steps\n",
    "\n",
    "test_circuits, test_ideal_exp_vals, test_noisy_exp_vals, steps = load_circuits('./data/ising_init_from_qasm_no_readout/val_extra/', '.pk')\n",
    "# test_circuits, test_ideal_exp_vals, test_noisy_exp_vals, steps = load_circuits('./data/ising_init_from_qasm/val_Zonly/', '.pk')\n",
    "print(len(test_circuits))\n",
    "# test_circuits, test_ideal_exp_vals, test_noisy_exp_vals, steps = load_circuits('./data/haoran_mbd/random_circuits/val/', '.pk')\n",
    "# print(len(test_circuits))\n",
    "\n",
    "test_noisy_exp_vals = [x[0] for x in test_noisy_exp_vals]"
   ],
   "metadata": {
    "collapsed": false
   }
  },
  {
   "cell_type": "code",
   "execution_count": 12,
   "outputs": [
    {
     "name": "stdout",
     "output_type": "stream",
     "text": [
      "4500\n"
     ]
    }
   ],
   "source": [
    "# with open('./zne_mitigated/ising_init_from_qasm_extra_degree2.pk', 'rb') as file:\n",
    "#     zne_mitigated = pickle.load(file)[:4500]\n",
    "# print(len(zne_mitigated))"
   ],
   "metadata": {
    "collapsed": false
   }
  },
  {
   "cell_type": "code",
   "execution_count": 49,
   "outputs": [
    {
     "name": "stdout",
     "output_type": "stream",
     "text": [
      "4500\n"
     ]
    }
   ],
   "source": [
    "with open('./zne_mitigated/ising_init_from_qasm_no_readout_extra_degree2.pk', 'rb') as file:\n",
    "    zne_mitigated = pickle.load(file)\n",
    "print(len(zne_mitigated))"
   ],
   "metadata": {
    "collapsed": false
   }
  },
  {
   "cell_type": "code",
   "execution_count": 50,
   "outputs": [
    {
     "data": {
      "text/plain": "  0%|          | 0/6900 [00:00<?, ?it/s]",
      "application/vnd.jupyter.widget-view+json": {
       "version_major": 2,
       "version_minor": 0,
       "model_id": "b57536c332734c34880cabb0814a4492"
      }
     },
     "metadata": {},
     "output_type": "display_data"
    }
   ],
   "source": [
    "to_df = []\n",
    "\n",
    "for i, (circ, ideal_exp_val, noisy_exp_val, zne_val, step) in tqdm(enumerate(zip(test_circuits, test_ideal_exp_vals, test_noisy_exp_vals, zne_mitigated, steps)), total=len(test_circuits)):\n",
    "    row = dict()\n",
    "    row['ideal'] = ideal_exp_val\n",
    "    row['noisy'] = noisy_exp_val\n",
    "    row['step'] = step\n",
    "\n",
    "    circ_trans = transpile(circ, backend, optimization_level=3)\n",
    "    graph_data = circuit_to_graph_data_json(\n",
    "                circuit=circ_trans,\n",
    "                properties=properties,\n",
    "                use_qubit_features=True,\n",
    "                use_gate_features=True,\n",
    "            )\n",
    "\n",
    "    try:\n",
    "        entry = ExpValueEntry(\n",
    "            circuit_graph=graph_data,\n",
    "            observable=[],\n",
    "            ideal_exp_value=ideal_exp_val,\n",
    "            noisy_exp_values=[noisy_exp_val],\n",
    "            circuit_depth=circ_trans.depth()\n",
    "        ).to_pyg_data()\n",
    "    except KeyError as e:\n",
    "        print(f'Run into: {e}')\n",
    "        continue\n",
    "\n",
    "    X, _ = encode_data([circ_trans], properties, ideal_exp_val, [noisy_exp_val], num_qubits=4)\n",
    "\n",
    "    for j, (model, name) in enumerate(models):\n",
    "        if name == 'mlp':\n",
    "            row[name] = model(X).tolist()[0]\n",
    "        elif name == 'gnn':\n",
    "            row[name] = model(entry.noisy_0,\n",
    "                                    entry.observable,\n",
    "                                    entry.circuit_depth,\n",
    "                                    entry.x,\n",
    "                                    entry.edge_index,\n",
    "                                    entry.batch).tolist()[0]\n",
    "        elif name in ['ols_full', 'rfr_full']:\n",
    "            row[name] = model.predict(X).tolist()[0]\n",
    "        elif name in ['ols', 'rfr']:\n",
    "            row[name] = model.predict(X[:, -4:]).tolist()[0]\n",
    "        elif name in ['rfr_list']:\n",
    "            row[name] = []\n",
    "            for q, m in enumerate(model):\n",
    "                row[name].append(m.predict(X))\n",
    "            row[name] = np.array(row[name]).transpose()[0]\n",
    "        elif name in ['zne']:\n",
    "            row[name] = zne_val\n",
    "        else:\n",
    "            raise NotImplementedError\n",
    "\n",
    "    to_df.append(row)\n",
    "\n",
    "df = pd.DataFrame(to_df)"
   ],
   "metadata": {
    "collapsed": false
   }
  },
  {
   "cell_type": "code",
   "execution_count": 51,
   "outputs": [],
   "source": [
    "df = pd.DataFrame(to_df)\n",
    "def l2_dist(list1, list2):\n",
    "    return np.sqrt(np.sum([(a - b)**2 for a, b in zip(list1, list2)]))\n",
    "\n",
    "for col in df.columns:\n",
    "    if col not in ['step', 'ideal']:\n",
    "        df[f'L2_{col}'] = df.apply(lambda row: l2_dist(row['ideal'], row[col]), axis=1)"
   ],
   "metadata": {
    "collapsed": false
   }
  },
  {
   "cell_type": "code",
   "execution_count": 52,
   "outputs": [
    {
     "name": "stderr",
     "output_type": "stream",
     "text": [
      "/var/folders/kj/mfqyg_tj77nf4gt67lvscdkw0000gn/T/ipykernel_61137/2850071208.py:1: FutureWarning: The default value of numeric_only in DataFrameGroupBy.mean is deprecated. In a future version, numeric_only will default to False. Either specify numeric_only or select only columns which should be valid for the function.\n",
      "  df_mean = df.groupby('step').agg('mean')\n",
      "/var/folders/kj/mfqyg_tj77nf4gt67lvscdkw0000gn/T/ipykernel_61137/2850071208.py:2: FutureWarning: The default value of numeric_only in DataFrameGroupBy.std is deprecated. In a future version, numeric_only will default to False. Either specify numeric_only or select only columns which should be valid for the function.\n",
      "  df_ste = df.groupby('step').agg('std') / np.sqrt(len(df[df['step']==0]))\n"
     ]
    }
   ],
   "source": [
    "df_mean = df.groupby('step').agg('mean')\n",
    "df_ste = df.groupby('step').agg('std') / np.sqrt(len(df[df['step']==0]))"
   ],
   "metadata": {
    "collapsed": false
   }
  },
  {
   "cell_type": "code",
   "execution_count": 53,
   "outputs": [
    {
     "ename": "KeyError",
     "evalue": "'L2_gnn'",
     "output_type": "error",
     "traceback": [
      "\u001B[0;31m---------------------------------------------------------------------------\u001B[0m",
      "\u001B[0;31mKeyError\u001B[0m                                  Traceback (most recent call last)",
      "File \u001B[0;32m/opt/anaconda3/envs/ngem/lib/python3.10/site-packages/pandas/core/indexes/base.py:3802\u001B[0m, in \u001B[0;36mIndex.get_loc\u001B[0;34m(self, key, method, tolerance)\u001B[0m\n\u001B[1;32m   3801\u001B[0m \u001B[38;5;28;01mtry\u001B[39;00m:\n\u001B[0;32m-> 3802\u001B[0m     \u001B[38;5;28;01mreturn\u001B[39;00m \u001B[38;5;28;43mself\u001B[39;49m\u001B[38;5;241;43m.\u001B[39;49m\u001B[43m_engine\u001B[49m\u001B[38;5;241;43m.\u001B[39;49m\u001B[43mget_loc\u001B[49m\u001B[43m(\u001B[49m\u001B[43mcasted_key\u001B[49m\u001B[43m)\u001B[49m\n\u001B[1;32m   3803\u001B[0m \u001B[38;5;28;01mexcept\u001B[39;00m \u001B[38;5;167;01mKeyError\u001B[39;00m \u001B[38;5;28;01mas\u001B[39;00m err:\n",
      "File \u001B[0;32m/opt/anaconda3/envs/ngem/lib/python3.10/site-packages/pandas/_libs/index.pyx:138\u001B[0m, in \u001B[0;36mpandas._libs.index.IndexEngine.get_loc\u001B[0;34m()\u001B[0m\n",
      "File \u001B[0;32m/opt/anaconda3/envs/ngem/lib/python3.10/site-packages/pandas/_libs/index.pyx:165\u001B[0m, in \u001B[0;36mpandas._libs.index.IndexEngine.get_loc\u001B[0;34m()\u001B[0m\n",
      "File \u001B[0;32mpandas/_libs/hashtable_class_helper.pxi:5745\u001B[0m, in \u001B[0;36mpandas._libs.hashtable.PyObjectHashTable.get_item\u001B[0;34m()\u001B[0m\n",
      "File \u001B[0;32mpandas/_libs/hashtable_class_helper.pxi:5753\u001B[0m, in \u001B[0;36mpandas._libs.hashtable.PyObjectHashTable.get_item\u001B[0;34m()\u001B[0m\n",
      "\u001B[0;31mKeyError\u001B[0m: 'L2_gnn'",
      "\nThe above exception was the direct cause of the following exception:\n",
      "\u001B[0;31mKeyError\u001B[0m                                  Traceback (most recent call last)",
      "Input \u001B[0;32mIn [53]\u001B[0m, in \u001B[0;36m<cell line: 5>\u001B[0;34m()\u001B[0m\n\u001B[1;32m      4\u001B[0m legend_labels \u001B[38;5;241m=\u001B[39m [\u001B[38;5;124m'\u001B[39m\u001B[38;5;124mUnmitigated\u001B[39m\u001B[38;5;124m'\u001B[39m, \u001B[38;5;124m'\u001B[39m\u001B[38;5;124mGNN Mitigated\u001B[39m\u001B[38;5;124m'\u001B[39m, \u001B[38;5;124m'\u001B[39m\u001B[38;5;124mMLP Mitigated\u001B[39m\u001B[38;5;124m'\u001B[39m, \u001B[38;5;124m'\u001B[39m\u001B[38;5;124mRF Mitigated\u001B[39m\u001B[38;5;124m'\u001B[39m, \u001B[38;5;124m'\u001B[39m\u001B[38;5;124mOLS Mitigated\u001B[39m\u001B[38;5;124m'\u001B[39m, \u001B[38;5;124m'\u001B[39m\u001B[38;5;124mZNE Mitigated\u001B[39m\u001B[38;5;124m'\u001B[39m]\n\u001B[1;32m      5\u001B[0m \u001B[38;5;28;01mfor\u001B[39;00m i, col \u001B[38;5;129;01min\u001B[39;00m \u001B[38;5;28menumerate\u001B[39m([\u001B[38;5;124m'\u001B[39m\u001B[38;5;124mL2_noisy\u001B[39m\u001B[38;5;124m'\u001B[39m, \u001B[38;5;124m'\u001B[39m\u001B[38;5;124mL2_gnn\u001B[39m\u001B[38;5;124m'\u001B[39m, \u001B[38;5;124m'\u001B[39m\u001B[38;5;124mL2_mlp\u001B[39m\u001B[38;5;124m'\u001B[39m, \u001B[38;5;124m'\u001B[39m\u001B[38;5;124mL2_rfr_list\u001B[39m\u001B[38;5;124m'\u001B[39m, \u001B[38;5;124m'\u001B[39m\u001B[38;5;124mL2_ols_full\u001B[39m\u001B[38;5;124m'\u001B[39m, \u001B[38;5;124m'\u001B[39m\u001B[38;5;124mL2_zne\u001B[39m\u001B[38;5;124m'\u001B[39m]):\n\u001B[1;32m      6\u001B[0m \u001B[38;5;66;03m# legend_labels = ['Unmitigated', 'RF Mitigated']\u001B[39;00m\n\u001B[1;32m      7\u001B[0m \u001B[38;5;66;03m# for i, col in enumerate(['L2_noisy', 'L2_rfr_list']):\u001B[39;00m\n\u001B[0;32m----> 8\u001B[0m     plt\u001B[38;5;241m.\u001B[39mplot(xs, \u001B[43mdf_mean\u001B[49m\u001B[43m[\u001B[49m\u001B[43mcol\u001B[49m\u001B[43m]\u001B[49m, label\u001B[38;5;241m=\u001B[39mlegend_labels[i])\n\u001B[1;32m      9\u001B[0m     plt\u001B[38;5;241m.\u001B[39mfill_between(x\u001B[38;5;241m=\u001B[39mxs, y1\u001B[38;5;241m=\u001B[39mdf_mean[col]\u001B[38;5;241m-\u001B[39mdf_ste[col], y2\u001B[38;5;241m=\u001B[39mdf_mean[col]\u001B[38;5;241m+\u001B[39mdf_ste[col], alpha\u001B[38;5;241m=\u001B[39m\u001B[38;5;241m0.2\u001B[39m)\n\u001B[1;32m     10\u001B[0m plt\u001B[38;5;241m.\u001B[39mxlabel(\u001B[38;5;124m'\u001B[39m\u001B[38;5;124mTrotter Step\u001B[39m\u001B[38;5;124m'\u001B[39m)\n",
      "File \u001B[0;32m/opt/anaconda3/envs/ngem/lib/python3.10/site-packages/pandas/core/frame.py:3807\u001B[0m, in \u001B[0;36mDataFrame.__getitem__\u001B[0;34m(self, key)\u001B[0m\n\u001B[1;32m   3805\u001B[0m \u001B[38;5;28;01mif\u001B[39;00m \u001B[38;5;28mself\u001B[39m\u001B[38;5;241m.\u001B[39mcolumns\u001B[38;5;241m.\u001B[39mnlevels \u001B[38;5;241m>\u001B[39m \u001B[38;5;241m1\u001B[39m:\n\u001B[1;32m   3806\u001B[0m     \u001B[38;5;28;01mreturn\u001B[39;00m \u001B[38;5;28mself\u001B[39m\u001B[38;5;241m.\u001B[39m_getitem_multilevel(key)\n\u001B[0;32m-> 3807\u001B[0m indexer \u001B[38;5;241m=\u001B[39m \u001B[38;5;28;43mself\u001B[39;49m\u001B[38;5;241;43m.\u001B[39;49m\u001B[43mcolumns\u001B[49m\u001B[38;5;241;43m.\u001B[39;49m\u001B[43mget_loc\u001B[49m\u001B[43m(\u001B[49m\u001B[43mkey\u001B[49m\u001B[43m)\u001B[49m\n\u001B[1;32m   3808\u001B[0m \u001B[38;5;28;01mif\u001B[39;00m is_integer(indexer):\n\u001B[1;32m   3809\u001B[0m     indexer \u001B[38;5;241m=\u001B[39m [indexer]\n",
      "File \u001B[0;32m/opt/anaconda3/envs/ngem/lib/python3.10/site-packages/pandas/core/indexes/base.py:3804\u001B[0m, in \u001B[0;36mIndex.get_loc\u001B[0;34m(self, key, method, tolerance)\u001B[0m\n\u001B[1;32m   3802\u001B[0m     \u001B[38;5;28;01mreturn\u001B[39;00m \u001B[38;5;28mself\u001B[39m\u001B[38;5;241m.\u001B[39m_engine\u001B[38;5;241m.\u001B[39mget_loc(casted_key)\n\u001B[1;32m   3803\u001B[0m \u001B[38;5;28;01mexcept\u001B[39;00m \u001B[38;5;167;01mKeyError\u001B[39;00m \u001B[38;5;28;01mas\u001B[39;00m err:\n\u001B[0;32m-> 3804\u001B[0m     \u001B[38;5;28;01mraise\u001B[39;00m \u001B[38;5;167;01mKeyError\u001B[39;00m(key) \u001B[38;5;28;01mfrom\u001B[39;00m \u001B[38;5;21;01merr\u001B[39;00m\n\u001B[1;32m   3805\u001B[0m \u001B[38;5;28;01mexcept\u001B[39;00m \u001B[38;5;167;01mTypeError\u001B[39;00m:\n\u001B[1;32m   3806\u001B[0m     \u001B[38;5;66;03m# If we have a listlike key, _check_indexing_error will raise\u001B[39;00m\n\u001B[1;32m   3807\u001B[0m     \u001B[38;5;66;03m#  InvalidIndexError. Otherwise we fall through and re-raise\u001B[39;00m\n\u001B[1;32m   3808\u001B[0m     \u001B[38;5;66;03m#  the TypeError.\u001B[39;00m\n\u001B[1;32m   3809\u001B[0m     \u001B[38;5;28mself\u001B[39m\u001B[38;5;241m.\u001B[39m_check_indexing_error(key)\n",
      "\u001B[0;31mKeyError\u001B[0m: 'L2_gnn'"
     ]
    },
    {
     "data": {
      "text/plain": "<Figure size 576x360 with 1 Axes>",
      "image/png": "[encoded data removed]"
     },
     "metadata": {},
     "output_type": "display_data"
    }
   ],
   "source": [
    "plt.style.use({'figure.facecolor':'white'})\n",
    "plt.figure(figsize=(8, 5))\n",
    "xs = sorted(set(df.step))\n",
    "legend_labels = ['Unmitigated', 'GNN Mitigated', 'MLP Mitigated', 'RF Mitigated', 'OLS Mitigated', 'ZNE Mitigated']\n",
    "for i, col in enumerate(['L2_noisy', 'L2_gnn', 'L2_mlp', 'L2_rfr_list', 'L2_ols_full', 'L2_zne']):\n",
    "# legend_labels = ['Unmitigated', 'RF Mitigated']\n",
    "# for i, col in enumerate(['L2_noisy', 'L2_rfr_list']):\n",
    "    plt.plot(xs, df_mean[col], label=legend_labels[i])\n",
    "    plt.fill_between(x=xs, y1=df_mean[col]-df_ste[col], y2=df_mean[col]+df_ste[col], alpha=0.2)\n",
    "plt.xlabel('Trotter Step')\n",
    "plt.ylabel(r'Mean $L_2$-distance from the Ideal')\n",
    "# plt.ylim([0, 0.64])\n",
    "plt.xlim([0, 29])\n",
    "# plt.vlines(x=14, ymin=0, ymax=1, color='gray', label='Train data availability')\n",
    "plt.legend()\n",
    "plt.grid(None)\n",
    "plt.show()"
   ],
   "metadata": {
    "collapsed": false
   }
  },
  {
   "cell_type": "code",
   "execution_count": null,
   "outputs": [],
   "source": [
    "models = []\n",
    "with open(model_path_3, 'rb') as f:\n",
    "    model_3 = pickle.load(f)\n",
    "models.append((model_3, 'ols_full'))\n",
    "\n",
    "to_df = []\n",
    "\n",
    "for i, (circ, ideal_exp_val, noisy_exp_val, step) in tqdm(\n",
    "        enumerate(zip(test_circuits, test_ideal_exp_vals, test_noisy_exp_vals, steps)),\n",
    "        total=len(test_circuits)):\n",
    "    row = dict()\n",
    "    row['ideal'] = ideal_exp_val\n",
    "    row['noisy'] = noisy_exp_val\n",
    "    row['step'] = step\n",
    "\n",
    "    circ_trans = transpile(circ, backend, optimization_level=0)\n",
    "    # graph_data = circuit_to_graph_data_json(\n",
    "    #     circuit=circ_trans,\n",
    "    #     properties=properties,\n",
    "    #     use_qubit_features=True,\n",
    "    #     use_gate_features=True,\n",
    "    # )\n",
    "    #\n",
    "    # try:\n",
    "    #     entry = ExpValueEntry(\n",
    "    #         circuit_graph=graph_data,\n",
    "    #         observable=[],\n",
    "    #         ideal_exp_value=ideal_exp_val,\n",
    "    #         noisy_exp_values=[noisy_exp_val],\n",
    "    #         circuit_depth=circ_trans.depth()\n",
    "    #     ).to_pyg_data()\n",
    "    # except KeyError as e:\n",
    "    #     print(f'Run into: {e}')\n",
    "    #     continue\n",
    "\n",
    "    X, _ = encode_data([circ_trans], properties, ideal_exp_val, [noisy_exp_val], num_qubits=4)\n",
    "\n",
    "    for j, (model, name) in enumerate(models):\n",
    "        if name == 'mlp':\n",
    "            row[name] = model(X).tolist()[0]\n",
    "        elif name == 'gnn':\n",
    "            row[name] = model(entry.noisy_0,\n",
    "                              entry.observable,\n",
    "                              entry.circuit_depth,\n",
    "                              entry.x,\n",
    "                              entry.edge_index,\n",
    "                              entry.batch).tolist()[0]\n",
    "        elif name in ['ols_full', 'rfr_full']:\n",
    "            row[name] = model.predict(X).tolist()[0]\n",
    "        elif name in ['ols', 'rfr']:\n",
    "            row[name] = model.predict(X[:, -4:]).tolist()[0]\n",
    "        elif name in ['rfr_list']:\n",
    "            row[name] = []\n",
    "            for q, m in enumerate(model):\n",
    "                row[name].append(m.predict(X))\n",
    "            row[name] = np.array(row[name]).transpose()[0]\n",
    "        elif name in ['zne']:\n",
    "            row[name] = zne_mitigated\n",
    "        else:\n",
    "            raise NotImplementedError\n",
    "\n",
    "    to_df.append(row)\n",
    "\n",
    "df = pd.DataFrame(to_df)\n",
    "df = pd.DataFrame(to_df)\n",
    "\n",
    "def l2_dist(list1, list2):\n",
    "    return np.sqrt(np.sum([(a - b) ** 2 for a, b in zip(list1, list2)]))\n",
    "\n",
    "for col in df.columns:\n",
    "    if col not in ['step', 'ideal']:\n",
    "        df[f'L2_{col}'] = df.apply(lambda row: l2_dist(row['ideal'], row[col]), axis=1)\n",
    "df_mean = df.groupby('step').agg('mean')\n",
    "df_ste = df.groupby('step').agg('std') / np.sqrt(len(df[df['step'] == 0]))\n",
    "plt.style.use({'figure.facecolor': 'white'})\n",
    "plt.figure(figsize=(8, 5))\n",
    "xs = sorted(set(df.step))\n",
    "# legend_labels = ['Unmitigated', 'GNN Mitigated', 'MLP Mitigated', 'RF Mitigated', 'OLS Mitigated', 'ZNE Mitigated']\n",
    "# for i, col in enumerate(['L2_noisy', 'L2_gnn', 'L2_mlp', 'L2_rfr_list', 'L2_ols_full', 'L2_zne']):\n",
    "legend_labels = ['Unmitigated', 'OLS']\n",
    "for i, col in enumerate(['L2_noisy', 'L2_ols_full']):\n",
    "    plt.plot(xs, df_mean[col], label=legend_labels[i])\n",
    "    plt.fill_between(x=xs, y1=df_mean[col] - df_ste[col], y2=df_mean[col] + df_ste[col], alpha=0.2)\n",
    "plt.xlabel('Trotter Step')\n",
    "plt.ylabel(r'Mean $L_2$-distance from the Ideal')\n",
    "# plt.ylim([0, 0.64])\n",
    "plt.xlim([0, 29])\n",
    "# plt.vlines(x=14, ymin=0, ymax=1, color='gray', label='Train data availability')\n",
    "plt.legend()\n",
    "plt.grid(None)\n",
    "plt.show()"
   ],
   "metadata": {
    "collapsed": false
   }
  },
  {
   "cell_type": "code",
   "execution_count": 14,
   "outputs": [],
   "source": [
    "# to_dump = {\n",
    "#     'df': df,\n",
    "#     'df_mean': df_mean,\n",
    "#     'df_ste': df_ste,\n",
    "# }\n",
    "# with open('/Users/haoranliao/GitHub/blackwater/docs/paper_figures/coherent_over_depths.pk', 'wb') as file:\n",
    "#     pickle.dump(to_dump, file)"
   ],
   "metadata": {
    "collapsed": false
   }
  },
  {
   "cell_type": "code",
   "execution_count": null,
   "outputs": [],
   "source": [
    "# df_hue = []\n",
    "# for i in range(len(df)):\n",
    "#     for col in ['RMSE_noisy', 'RMSE_rfr_list', 'RMSE_zne']:\n",
    "#         df_hue.append([df.loc[i, 'step'], df.loc[i, col], col])\n",
    "# df_hue = pd.DataFrame(df_hue)\n",
    "# df_hue.columns = ['step', 'RMSE', 'name']\n",
    "#\n",
    "# plt.figure(figsize=(15, 5))\n",
    "# plt.style.use({'figure.facecolor':'white'})\n",
    "# g = sns.boxplot(data=df_hue, x='step', y='RMSE', hue='name')\n",
    "# g.legend(title=\"\")\n",
    "# new_legend_labels = ['Unmitigated', 'Mitigated by RF', 'Mitigated by ZNE']\n",
    "# for i in range(3):\n",
    "#     g.legend_.texts[i].set_text(new_legend_labels[i])\n",
    "# plt.xlabel('Trotter Steps')\n",
    "# plt.ylabel('RMSE from Ideal Expectation Values')\n",
    "# plt.show()"
   ],
   "metadata": {
    "collapsed": false
   }
  },
  {
   "cell_type": "code",
   "execution_count": 21,
   "outputs": [
    {
     "data": {
      "text/plain": "<Figure size 576x432 with 1 Axes>",
      "image/png": "[encoded data removed]"
     },
     "metadata": {},
     "output_type": "display_data"
    }
   ],
   "source": [
    "plt.style.use({'figure.facecolor':'white'})\n",
    "plt.figure(figsize=(8, 6))\n",
    "ax = sns.violinplot(data=df[['L2_noisy', 'L2_gnn', 'L2_mlp', 'L2_rfr_list', 'L2_ols_full', 'L2_zne']])\n",
    "# labels = ax.get_xticklabels()\n",
    "ax.set_xticklabels(['Unmitigated', 'GNN Mitigated', 'MLP Mitigated', 'RF Mitigated', 'OLS Mitigated', 'ZNE Mitigated'])\n",
    "plt.ylabel(r'$L_2$-distance from Ideal')\n",
    "# plt.ylim([-0.003, 0.02])\n",
    "ax.grid(False)\n",
    "plt.show()"
   ],
   "metadata": {
    "collapsed": false
   }
  },
  {
   "cell_type": "code",
   "execution_count": 23,
   "outputs": [],
   "source": [
    "# to_dump = {\n",
    "#     'df': df,\n",
    "# }\n",
    "# with open('/Users/haoranliao/GitHub/blackwater/docs/paper_figures/random_circuits.pk', 'wb') as file:\n",
    "#     pickle.dump(to_dump, file)"
   ],
   "metadata": {
    "collapsed": false
   }
  },
  {
   "cell_type": "code",
   "execution_count": 21,
   "outputs": [],
   "source": [],
   "metadata": {
    "collapsed": false
   }
  }
 ],
 "metadata": {
  "kernelspec": {
   "display_name": "Python 3",
   "language": "python",
   "name": "python3"
  },
  "language_info": {
   "codemirror_mode": {
    "name": "ipython",
    "version": 2
   },
   "file_extension": ".py",
   "mimetype": "text/x-python",
   "name": "python",
   "nbconvert_exporter": "python",
   "pygments_lexer": "ipython2",
   "version": "2.7.6"
  }
 },
 "nbformat": 4,
 "nbformat_minor": 0
}
