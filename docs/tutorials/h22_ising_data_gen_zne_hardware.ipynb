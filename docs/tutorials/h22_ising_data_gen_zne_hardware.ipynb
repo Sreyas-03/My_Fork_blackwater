{
 "cells": [
  {
   "cell_type": "code",
   "execution_count": 19,
   "metadata": {
    "collapsed": true
   },
   "outputs": [],
   "source": [
    "import copy\n",
    "import json, pickle\n",
    "import glob\n",
    "\n",
    "import numpy as np\n",
    "import pandas as pd\n",
    "\n",
    "from qiskit import transpile\n",
    "from qiskit.primitives import BackendEstimator\n",
    "from qiskit_ibm_runtime import Estimator as RuntimeEstimator\n",
    "from qiskit.quantum_info import SparsePauliOp\n",
    "from qiskit import execute\n",
    "from qiskit.providers.fake_provider import FakeLima, FakeSherbrooke, FakeLimaV2, FakeWashington\n",
    "from qiskit import QuantumCircuit, IBMQ, QuantumRegister, ClassicalRegister\n",
    "from qiskit.primitives import Estimator\n",
    "from qiskit.circuit.random import random_circuit\n",
    "\n",
    "import torch\n",
    "from torch.optim import Adam\n",
    "from torch.optim.lr_scheduler import ReduceLROnPlateau\n",
    "from torch.nn.functional import dropout\n",
    "\n",
    "from torch_geometric.nn import GCNConv, global_mean_pool, Linear, ChebConv, SAGEConv\n",
    "from torch_geometric.data import Data\n",
    "from torch_geometric.loader import DataLoader\n",
    "\n",
    "from tqdm.notebook import tqdm_notebook\n",
    "import matplotlib.pyplot as plt\n",
    "import seaborn as sns\n",
    "\n",
    "from blackwater.data.loaders.exp_val import CircuitGraphExpValMitigationDataset\n",
    "from blackwater.data.generators.exp_val import exp_value_generator\n",
    "from blackwater.data.utils import generate_random_pauli_sum_op\n",
    "from blackwater.library.ngem.estimator import ngem\n",
    "\n",
    "from qiskit.quantum_info import random_clifford\n",
    "\n",
    "import random\n",
    "from qiskit.circuit.library import HGate, SdgGate\n",
    "from qiskit.circuit import ClassicalRegister\n",
    "\n",
    "from blackwater.data.utils import (\n",
    "    generate_random_pauli_sum_op,\n",
    "    create_estimator_meas_data,\n",
    "    circuit_to_graph_data_json,\n",
    "    get_backend_properties_v1,\n",
    "    encode_pauli_sum_op,\n",
    "    create_meas_data_from_estimators\n",
    ")\n",
    "from blackwater.data.generators.exp_val import ExpValueEntry\n",
    "from blackwater.metrics.improvement_factor import improvement_factor, Trial, Problem\n",
    "\n",
    "from qiskit_aer import AerSimulator, QasmSimulator\n",
    "from qiskit.providers.fake_provider import FakeMontreal, FakeLima, FakeBelem\n",
    "\n",
    "from torch_geometric.nn import (\n",
    "    GCNConv,\n",
    "    TransformerConv,\n",
    "    GATv2Conv,\n",
    "    global_mean_pool,\n",
    "    Linear,\n",
    "    ChebConv,\n",
    "    SAGEConv,\n",
    "    ASAPooling,\n",
    "    dense_diff_pool,\n",
    "    avg_pool_neighbor_x\n",
    ")\n",
    "from torch_geometric.data import Data\n",
    "from torch_geometric.loader import DataLoader\n",
    "from torch_geometric.utils import to_dense_adj, to_dense_batch\n",
    "\n",
    "from qiskit import QuantumCircuit\n",
    "from qiskit.circuit.library import U3Gate, CZGate, PhaseGate, CXGate\n",
    "from mbd_utils import construct_random_clifford, cal_z_exp, calc_imbalance, cal_all_z_exp, construct_mbl_circuit, generate_disorder, random_clifford_circuit\n",
    "from gnn import ExpValCircuitGraphModel\n",
    "from qiskit.quantum_info import Clifford\n",
    "from qiskit_aer.noise import depolarizing_error, coherent_unitary_error, NoiseModel\n",
    "from noise_utils import AddNoise\n",
    "\n",
    "from functools import partial\n",
    "\n",
    "from zne import zne, ZNEStrategy\n",
    "from zne.noise_amplification import *\n",
    "from zne.extrapolation import *\n",
    "\n",
    "D = {'output': 'mpl', 'fold': -1, 'idle_wires': False}"
   ]
  },
  {
   "cell_type": "code",
   "execution_count": 4,
   "outputs": [],
   "source": [
    "from qiskit_ibm_provider import IBMProvider\n",
    "provider = IBMProvider()"
   ],
   "metadata": {
    "collapsed": false
   }
  },
  {
   "cell_type": "code",
   "execution_count": 20,
   "outputs": [],
   "source": [
    "real_backend = provider.get_backend('ibm_sherbrooke')\n",
    "# real_backend = provider.get_backend('ibm_washington')"
   ],
   "metadata": {
    "collapsed": false
   }
  },
  {
   "cell_type": "code",
   "execution_count": 21,
   "outputs": [],
   "source": [
    "fake_backend = FakeSherbrooke() #FakeWashington() #FakeLima()\n",
    "\n",
    "## Local\n",
    "fake_backend_ideal = QasmSimulator() # Noiseless\n",
    "fake_backend_noisy = AerSimulator.from_backend(fake_backend) # Noisy\n",
    "stabilizer_simulator = AerSimulator(method='stabilizer')\n",
    "\n",
    "fake_run_config_ideal = {'shots': 10000, 'backend': fake_backend_ideal, 'name': 'fake_ideal'}\n",
    "fake_run_config_noisy = {'shots': 10000, 'backend': fake_backend_noisy, 'name': 'fake_noisy'}"
   ],
   "metadata": {
    "collapsed": false
   }
  },
  {
   "cell_type": "code",
   "execution_count": 22,
   "outputs": [],
   "source": [
    "from qiskit.circuit import Parameter\n",
    "\n",
    "class IsingModel:\n",
    "\n",
    "    class Options(dict):\n",
    "        def __init__(self, *args, **kwargs):\n",
    "            super().__init__()\n",
    "            self['nq'] = 4\n",
    "            self['h'] = 1\n",
    "            self['J'] = 0.15\n",
    "            self['dt'] = 1/4\n",
    "            self['depth'] = 15\n",
    "            self.update(*args, **kwargs)\n",
    "\n",
    "        def config_4q_paper(self):\n",
    "            self['h'] = 1\n",
    "            self['J'] = 0.15\n",
    "            self['dt'] = 1/4*2\n",
    "\n",
    "        def config_100q_paper(self):\n",
    "            self['nq'] = 100\n",
    "            self['h'] = 0.5*np.pi\n",
    "            self['J'] = 0.15\n",
    "            self['dt'] = 1/4*2\n",
    "\n",
    "        def config_6q_paper(self):\n",
    "            self['nq'] = 6\n",
    "            self['h'] = np.pi\n",
    "            self['J'] = 0.15\n",
    "            self['dt'] = 1/4*2\n",
    "\n",
    "        def config_10q_paper(self):\n",
    "            self['nq'] = 10\n",
    "            self['h'] = 0.5*np.pi\n",
    "            self['J'] = 0.15\n",
    "            self['dt'] = 1/4*2\n",
    "\n",
    "    @classmethod\n",
    "    def apply_quantum_circuit_layer(cls, qc: QuantumCircuit, ops: 'IsingModel.Options'):\n",
    "        allq = list(range(ops['nq']))\n",
    "\n",
    "        qc.rx(2*ops['h']*ops['dt'], allq)\n",
    "\n",
    "        qc.barrier()\n",
    "        for q0 in allq[0::2]:\n",
    "            q1 = q0+1\n",
    "            qc.cx(q0,q1)\n",
    "        qc.rz(-2*ops['J']*ops['dt'], allq[1::2])\n",
    "        for q0 in allq[0::2]:\n",
    "            q1 = q0+1\n",
    "            qc.cx(q0,q1)\n",
    "\n",
    "        qc.barrier()\n",
    "        for q0 in allq[1:-2:2]:\n",
    "            q1 = q0+1\n",
    "            qc.cx(q0,q1)\n",
    "        qc.rz(-2*ops['J']*ops['dt'], allq[2:-1:2])\n",
    "        for q0 in allq[1:-2:2]:\n",
    "            q1 = q0+1\n",
    "            qc.cx(q0,q1)\n",
    "        qc.barrier()\n",
    "\n",
    "    @classmethod\n",
    "    def make_quantum_circuit(cls, ops: 'IsingModel.Options'):\n",
    "        qc = QuantumCircuit(ops['nq'])\n",
    "        allq = list(range(ops['nq']))\n",
    "\n",
    "        for step in range(ops['depth']):\n",
    "            cls.apply_quantum_circuit_layer(qc, ops)\n",
    "\n",
    "        if ops['measure_basis'] == 'Z':\n",
    "            pass\n",
    "        elif  ops['measure_basis'] == 'X':\n",
    "            qc.h(allq)\n",
    "        elif  ops['measure_basis'] == 'Y':\n",
    "            qc.sdg(allq)\n",
    "            qc.h(allq)\n",
    "        else:\n",
    "            raise Exception(\"Must be X Y or Z\")\n",
    "        qc.measure_all()\n",
    "\n",
    "        return qc\n",
    "\n",
    "    @classmethod\n",
    "    def make_circs_sweep(cls, ops, num_steps, measure_basis):\n",
    "        ops['measure_basis'] = measure_basis\n",
    "        ops['depth'] = num_steps\n",
    "        qc = cls.make_quantum_circuit(ops)\n",
    "        qc.metadata = {}\n",
    "        qc.metadata['measure_basis'] = measure_basis\n",
    "        qc.metadata['depth'] = num_steps\n",
    "        return qc"
   ],
   "metadata": {
    "collapsed": false
   }
  },
  {
   "cell_type": "code",
   "execution_count": 23,
   "outputs": [
    {
     "name": "stdout",
     "output_type": "stream",
     "text": [
      "100\n"
     ]
    }
   ],
   "source": [
    "sherbrooke_layout = list(range(113, 127)) + [112] + list(range(108, 93, -1)) + [90] + list(range(75, 90)) + [74] + list(range(70, 55, -1)) + [52] + list(range(37, 52)) + [36, 32, 31, 30, 17] + list(range(12, 3, -1)) + [15, 22, 23, 24, 25, 26, 27, 28]\n",
    "\n",
    "print(len(sherbrooke_layout))"
   ],
   "metadata": {
    "collapsed": false
   }
  },
  {
   "cell_type": "code",
   "execution_count": 18,
   "outputs": [
    {
     "name": "stdout",
     "output_type": "stream",
     "text": [
      "100\n"
     ]
    }
   ],
   "source": [
    "washington_layout = list(range(113, 127)) + [112] + list(range(108, 93, -1)) + [90] + list(range(75, 90)) + [74] + list(range(70, 55, -1)) + [52] + list(range(37, 52)) + [36] + list(range(32, 17, -1)) + [14] + list(range(0, 5))\n",
    "\n",
    "print(len(washington_layout))"
   ],
   "metadata": {
    "collapsed": false
   }
  },
  {
   "cell_type": "code",
   "execution_count": 24,
   "outputs": [
    {
     "data": {
      "text/plain": "<Figure size 1294.73x626.08 with 1 Axes>",
      "image/png": "[encoded data removed]"
     },
     "execution_count": 24,
     "metadata": {},
     "output_type": "execute_result"
    }
   ],
   "source": [
    "def construct_ising_circuit_100q(J, basis, num_steps):\n",
    "    cls = IsingModel\n",
    "    ops = cls.Options()\n",
    "    ops.config_100q_paper()\n",
    "    ops.update({'J': J})\n",
    "    qc = cls.make_circs_sweep(ops, num_steps, basis)\n",
    "    return qc\n",
    "\n",
    "def construct_ising_circuit_6q(J, basis, num_steps):\n",
    "    cls = IsingModel\n",
    "    ops = cls.Options()\n",
    "    ops.config_6q_paper()\n",
    "    ops.update({'J': J})\n",
    "    qc = cls.make_circs_sweep(ops, num_steps, basis)\n",
    "    return qc\n",
    "\n",
    "def construct_ising_circuit_10q(J, basis, num_steps):\n",
    "    cls = IsingModel\n",
    "    ops = cls.Options()\n",
    "    ops.config_10q_paper()\n",
    "    ops.update({'J': J})\n",
    "    qc = cls.make_circs_sweep(ops, num_steps, basis)\n",
    "    return qc\n",
    "\n",
    "J = 0.15\n",
    "basis = 'Z'\n",
    "random_ising = construct_ising_circuit_10q(J, basis, 2)\n",
    "trans_circuit = transpile(\n",
    "    random_ising,\n",
    "    backend=fake_backend_ideal,\n",
    "    optimization_level=1,\n",
    "    # initial_layout=washington_layout,\n",
    "    # initial_layout=list(range(113, 119)),\n",
    "    initial_layout=list(range(113, 123)),\n",
    ")\n",
    "trans_circuit.remove_final_measurements()\n",
    "trans_circuit.draw(**D)"
   ],
   "metadata": {
    "collapsed": false
   }
  },
  {
   "cell_type": "code",
   "execution_count": 31,
   "outputs": [],
   "source": [
    "def form_all_qubit_observable(observable, measurement_qubits, total_num_qubits):\n",
    "    \"\"\"Input observable in non-endian, output observable in endian\"\"\"\n",
    "    assert len(observable) == len(measurement_qubits)\n",
    "    converted_obs = list('I' * total_num_qubits)\n",
    "    for qubit, basis in zip(measurement_qubits, list(observable)):\n",
    "        converted_obs[qubit] = basis\n",
    "    return ''.join(converted_obs)[::-1]\n",
    "\n",
    "def get_measurement_qubits(qc, num_measured_qubit):\n",
    "    measurement_qubits = []\n",
    "    for measurement in range(num_measured_qubit - 1, -1, -1):\n",
    "        measurement_qubits.append(qc.data[-1 - measurement][1][0].index)\n",
    "    return measurement_qubits\n",
    "\n",
    "def construct_random_ising_func(num_steps, be, num_q):\n",
    "    basis = 'Z'\n",
    "    if num_q == 6:\n",
    "        J = np.random.uniform(0, np.pi, size=1)[0]\n",
    "        random_ising = construct_ising_circuit_6q(J, basis, num_steps)\n",
    "    elif num_q == 100:\n",
    "        J = np.random.uniform(0, np.pi/2, size=1)[0]\n",
    "        random_ising = construct_ising_circuit_100q(J, basis, num_steps)\n",
    "    elif num_q == 10:\n",
    "        J = np.random.uniform(0, np.pi/2, size=1)[0]\n",
    "        random_ising = construct_ising_circuit_10q(J, basis, num_steps)\n",
    "    else:\n",
    "        raise NotImplementedError\n",
    "    trans_circuit = transpile(\n",
    "        random_ising,\n",
    "        backend=be,\n",
    "        optimization_level=1,\n",
    "        # initial_layout=washington_layout,\n",
    "        # initial_layout=list(range(113, 119)),\n",
    "        initial_layout=list(range(113, 123)),\n",
    "    )\n",
    "    return trans_circuit, J\n",
    "\n",
    "def form_all_qubit_observable(observable, measurement_qubits, total_num_qubits):\n",
    "    \"\"\"Input observable in non-endian, output observable in endian\"\"\"\n",
    "    assert len(observable) == len(measurement_qubits)\n",
    "    converted_obs = list('I' * total_num_qubits)\n",
    "    for qubit, basis in zip(measurement_qubits, list(observable)):\n",
    "        converted_obs[qubit] = basis\n",
    "    return ''.join(converted_obs)[::-1]\n",
    "\n",
    "def get_measurement_qubits(qc, num_measured_qubit):\n",
    "    measurement_qubits = []\n",
    "    for measurement in range(num_measured_qubit - 1, -1, -1):\n",
    "        measurement_qubits.append(qc.data[-1 - measurement][1][0].index)\n",
    "    return measurement_qubits\n",
    "\n",
    "def get_Js(num_Js, num_q):\n",
    "    np.random.seed(0)\n",
    "    if num_q == 6:\n",
    "        h = np.pi\n",
    "    elif num_q == 100:\n",
    "        h = np.pi/2\n",
    "    elif num_q == 10:\n",
    "        h = np.pi/2\n",
    "    else:\n",
    "        raise NotImplementedError\n",
    "    return np.random.uniform(0, h, size=num_Js)\n",
    "\n",
    "def construct_random_ising_sameJ_func(J, be, num_q, num_steps):\n",
    "    basis = 'Z'\n",
    "    if num_q == 6:\n",
    "        random_ising = construct_ising_circuit_6q(J, basis, num_steps)\n",
    "    elif num_q == 100:\n",
    "        random_ising = construct_ising_circuit_100q(J, basis, num_steps)\n",
    "    elif num_q == 10:\n",
    "        random_ising = construct_ising_circuit_10q(J, basis, num_steps)\n",
    "    else:\n",
    "        raise NotImplementedError\n",
    "    trans_circuit = transpile(\n",
    "        random_ising,\n",
    "        backend=be,\n",
    "        optimization_level=1,\n",
    "        # initial_layout=washington_layout,\n",
    "        # initial_layout=list(range(113, 119)),\n",
    "        initial_layout=list(range(113, 123)),\n",
    "    )\n",
    "    return trans_circuit, J"
   ],
   "metadata": {
    "collapsed": false
   }
  },
  {
   "cell_type": "code",
   "execution_count": 33,
   "outputs": [
    {
     "data": {
      "text/plain": "  0%|          | 0/29 [00:00<?, ?it/s]",
      "application/vnd.jupyter.widget-view+json": {
       "version_major": 2,
       "version_minor": 0,
       "model_id": "c9537189abab4e229305d08fd72ab106"
      }
     },
     "metadata": {},
     "output_type": "display_data"
    },
    {
     "data": {
      "text/plain": "  0%|          | 0/29 [00:00<?, ?it/s]",
      "application/vnd.jupyter.widget-view+json": {
       "version_major": 2,
       "version_minor": 0,
       "model_id": "009ffca1232e4b9c813afc7c0bfadc8f"
      }
     },
     "metadata": {},
     "output_type": "display_data"
    },
    {
     "data": {
      "text/plain": "  0%|          | 0/29 [00:00<?, ?it/s]",
      "application/vnd.jupyter.widget-view+json": {
       "version_major": 2,
       "version_minor": 0,
       "model_id": "bdf24a1c693440e8bcb8889029f114a4"
      }
     },
     "metadata": {},
     "output_type": "display_data"
    },
    {
     "data": {
      "text/plain": "  0%|          | 0/29 [00:00<?, ?it/s]",
      "application/vnd.jupyter.widget-view+json": {
       "version_major": 2,
       "version_minor": 0,
       "model_id": "111b5e97c1b344139ed8f8319726ec8a"
      }
     },
     "metadata": {},
     "output_type": "display_data"
    },
    {
     "data": {
      "text/plain": "  0%|          | 0/29 [00:00<?, ?it/s]",
      "application/vnd.jupyter.widget-view+json": {
       "version_major": 2,
       "version_minor": 0,
       "model_id": "f7aaed5834114923ba241c5a0fc1e340"
      }
     },
     "metadata": {},
     "output_type": "display_data"
    },
    {
     "data": {
      "text/plain": "  0%|          | 0/29 [00:00<?, ?it/s]",
      "application/vnd.jupyter.widget-view+json": {
       "version_major": 2,
       "version_minor": 0,
       "model_id": "f1ed4e66dfdd4190857288b2bd174742"
      }
     },
     "metadata": {},
     "output_type": "display_data"
    },
    {
     "data": {
      "text/plain": "  0%|          | 0/29 [00:00<?, ?it/s]",
      "application/vnd.jupyter.widget-view+json": {
       "version_major": 2,
       "version_minor": 0,
       "model_id": "f7923e6637cb47ab9fc5e19ce6e00cb1"
      }
     },
     "metadata": {},
     "output_type": "display_data"
    },
    {
     "data": {
      "text/plain": "  0%|          | 0/29 [00:00<?, ?it/s]",
      "application/vnd.jupyter.widget-view+json": {
       "version_major": 2,
       "version_minor": 0,
       "model_id": "10cda733676546a1a5ad3b4f9664e514"
      }
     },
     "metadata": {},
     "output_type": "display_data"
    },
    {
     "data": {
      "text/plain": "  0%|          | 0/29 [00:00<?, ?it/s]",
      "application/vnd.jupyter.widget-view+json": {
       "version_major": 2,
       "version_minor": 0,
       "model_id": "8f87237c6445422584952cf58e81c24a"
      }
     },
     "metadata": {},
     "output_type": "display_data"
    },
    {
     "data": {
      "text/plain": "  0%|          | 0/29 [00:00<?, ?it/s]",
      "application/vnd.jupyter.widget-view+json": {
       "version_major": 2,
       "version_minor": 0,
       "model_id": "ef605e57a66c44379928d0c05c10d78a"
      }
     },
     "metadata": {},
     "output_type": "display_data"
    }
   ],
   "source": [
    "from qiskit.transpiler.exceptions import TranspilerError\n",
    "import scipy\n",
    "\n",
    "def generate_data(generating_func, two_q_gate_depths, save_path: str, n_entries_per_file: int, be, num_q):\n",
    "    Js = get_Js(n_entries_per_file, num_q)\n",
    "    for depth in two_q_gate_depths:\n",
    "        entries = []\n",
    "\n",
    "        random_ising = construct_ising_circuit_10q(J=0, basis='Z', num_steps=depth)\n",
    "        trans_circuit = transpile(\n",
    "            random_ising,\n",
    "            backend=be,\n",
    "            optimization_level=0,\n",
    "            # initial_layout=washington_layout,\n",
    "            # initial_layout=list(range(113, 119)),\n",
    "            initial_layout=list(range(113, 123)),\n",
    "        )\n",
    "        to_append = dict()\n",
    "        to_append['circuit'] = trans_circuit\n",
    "        to_append['steps'] = depth\n",
    "        to_append['J'] = 0\n",
    "        entries.append(to_append)\n",
    "\n",
    "        for i in tqdm_notebook(range(1, n_entries_per_file)):\n",
    "            success = False\n",
    "            while not success:\n",
    "                try:\n",
    "                    trans_circuit, J = generating_func(J=Js[i], num_steps=depth)\n",
    "                    success = True\n",
    "                except (scipy.linalg.LinAlgError, TranspilerError, np.linalg.LinAlgError) as e:\n",
    "                    print(f\"Ran into an error:, {e}\")\n",
    "\n",
    "            to_append = dict()\n",
    "            to_append['circuit'] = trans_circuit\n",
    "            to_append['steps'] = depth\n",
    "            to_append['J'] = J\n",
    "            entries.append(to_append)\n",
    "\n",
    "        path = \"%s/step_%02d.pk\"%(save_path, depth)\n",
    "        with open(path, \"wb\") as f:\n",
    "            pickle.dump(entries, f)\n",
    "\n",
    "random.seed(0)\n",
    "np.random.seed(0)\n",
    "steps = list(range(1, 11))\n",
    "generate_data(partial(construct_random_ising_sameJ_func, be=real_backend, num_q=10), steps,\n",
    "              './data/ising_zne_hardware/10q_sherbrooke_sameJ', 30, real_backend, num_q=10)"
   ],
   "metadata": {
    "collapsed": false
   }
  },
  {
   "cell_type": "code",
   "execution_count": 59,
   "outputs": [
    {
     "data": {
      "text/plain": "0.6513494521987603"
     },
     "execution_count": 59,
     "metadata": {},
     "output_type": "execute_result"
    }
   ],
   "source": [
    "with open('./data/ising_zne_hardware/10q_sherbrooke_sameJ/step_04.pk', 'rb') as file:\n",
    "    loaded = pickle.load(file)\n",
    "\n",
    "J = loaded[29]['J']\n",
    "J"
   ],
   "metadata": {
    "collapsed": false
   }
  },
  {
   "cell_type": "markdown",
   "source": [],
   "metadata": {
    "collapsed": false
   }
  },
  {
   "cell_type": "markdown",
   "source": [],
   "metadata": {
    "collapsed": false
   }
  },
  {
   "cell_type": "code",
   "execution_count": 60,
   "outputs": [
    {
     "data": {
      "text/plain": "  0%|          | 0/10 [00:00<?, ?it/s]",
      "application/vnd.jupyter.widget-view+json": {
       "version_major": 2,
       "version_minor": 0,
       "model_id": "163ec80212814443bbe77c2416d31bcf"
      }
     },
     "metadata": {},
     "output_type": "display_data"
    }
   ],
   "source": [
    "import os\n",
    "from tqdm.notebook import tqdm\n",
    "def load_circuits(data_dir, f_ext='.json'):\n",
    "    circuits = []\n",
    "    ideal_exp_vals = []\n",
    "    noisy_exp_vals = []\n",
    "    data_files = sorted([os.path.join(data_dir, f) for f in os.listdir(data_dir) if f.endswith(f_ext)])\n",
    "    for data_file in tqdm(data_files, leave=True):\n",
    "        if f_ext == '.json':\n",
    "            for entry in json.load(open(data_file, 'r')):\n",
    "                circuits.append(QuantumCircuit.from_qasm_str(entry['circuit']))\n",
    "                ideal_exp_vals.append(entry['ideal_exp_value'])\n",
    "                noisy_exp_vals.append(entry['noisy_exp_values'])\n",
    "        elif f_ext == '.pk':\n",
    "            for entry in pickle.load(open(data_file, 'rb')):\n",
    "                circuits.append(entry['circuit'])\n",
    "                # ideal_exp_vals.append(entry['ideal_exp_value'])\n",
    "                # noisy_exp_vals.append(entry['noisy_exp_values'])\n",
    "    return circuits #, ideal_exp_vals, noisy_exp_vals\n",
    "\n",
    "train_circuits = load_circuits('./data/ising_zne_hardware/10q_sherbrooke_sameJ', '.pk')"
   ],
   "metadata": {
    "collapsed": false
   }
  },
  {
   "cell_type": "code",
   "execution_count": 50,
   "outputs": [
    {
     "data": {
      "text/plain": "<Figure size 5147.53x626.08 with 1 Axes>",
      "image/png": "[encoded data removed]"
     },
     "execution_count": 50,
     "metadata": {},
     "output_type": "execute_result"
    }
   ],
   "source": [
    "train_circuits[61].remove_final_measurements()\n",
    "train_circuits[61].draw(**D)"
   ],
   "metadata": {
    "collapsed": false
   }
  },
  {
   "cell_type": "markdown",
   "source": [],
   "metadata": {
    "collapsed": false
   }
  },
  {
   "cell_type": "markdown",
   "source": [],
   "metadata": {
    "collapsed": false
   }
  },
  {
   "cell_type": "code",
   "execution_count": 61,
   "outputs": [
    {
     "data": {
      "text/plain": "  0%|          | 0/300 [00:00<?, ?it/s]",
      "application/vnd.jupyter.widget-view+json": {
       "version_major": 2,
       "version_minor": 0,
       "model_id": "9759b9b03e8e44d9aff4322357e838ce"
      }
     },
     "metadata": {},
     "output_type": "display_data"
    }
   ],
   "source": [
    "# obs_list = ['I'*i+'Z'+'I'*(6-1-i) for i in range(6)]\n",
    "# padded_obs = [SparsePauliOp(form_all_qubit_observable(obs, get_measurement_qubits(trans_circuit, 6), 127)) for obs in obs_list]\n",
    "\n",
    "obs_list = ['Z'+'I'*9, 'I'*2+'Z'+'I'*7, 'I'*4+'Z'+'I'*5, 'I'*6+'Z'+'I'*3, 'I'*9+'Z'+'I'*0]\n",
    "padded_obs_all_circs = []\n",
    "for trans_circuit in tqdm(train_circuits):\n",
    "    padded_obs_all_circs += [SparsePauliOp(form_all_qubit_observable(obs, get_measurement_qubits(trans_circuit, 10), 127)) for obs in obs_list]\n",
    "\n",
    "# obs_list = ['Z'+'I'*99, 'I'*19+'Z'+'I'*80, 'I'*29+'Z'+'I'*70, 'I'*39+'Z'+'I'*60, 'I'*49+'Z'+'I'*50]\n",
    "# padded_obs_all_circs = []\n",
    "# for trans_circuit in tqdm(train_circuits):\n",
    "#     padded_obs_all_circs += [SparsePauliOp(form_all_qubit_observable(obs, get_measurement_qubits(trans_circuit, 100), 127)) for obs in obs_list]"
   ],
   "metadata": {
    "collapsed": false
   }
  },
  {
   "cell_type": "code",
   "execution_count": 62,
   "outputs": [
    {
     "name": "stdout",
     "output_type": "stream",
     "text": [
      "113\n",
      "115\n",
      "117\n",
      "119\n",
      "122\n"
     ]
    }
   ],
   "source": [
    "for i in range(150, 155):\n",
    "    print(126-padded_obs_all_circs[i].paulis.to_labels()[0].find('Z'))"
   ],
   "metadata": {
    "collapsed": false
   }
  },
  {
   "cell_type": "code",
   "execution_count": 63,
   "outputs": [],
   "source": [
    "from qiskit_ibm_runtime import QiskitRuntimeService, Session, Options\n",
    "options = Options()\n",
    "options.resilience_level = 2\n",
    "options.optimization_level = 0\n",
    "options.shots = 10000\n",
    "options.resilience.noise_factors = (1, 3)\n",
    "options.resilience.noise_amplifier = 'TwoQubitAmplifier'\n",
    "options.resilience.extrapolator = 'LinearExtrapolator'\n",
    "service = QiskitRuntimeService()"
   ],
   "metadata": {
    "collapsed": false
   }
  },
  {
   "cell_type": "code",
   "execution_count": 64,
   "outputs": [
    {
     "name": "stderr",
     "output_type": "stream",
     "text": [
      "/var/folders/kj/mfqyg_tj77nf4gt67lvscdkw0000gn/T/ipykernel_79199/916308028.py:17: FutureWarning: The input object of type 'RZGate' is an array-like implementing one of the corresponding protocols (`__array__`, `__array_interface__` or `__array_struct__`); but not a sequence (or 0-D). In the future, this object will be coerced as if it was first converted using `np.array(obj)`. To retain the old behaviour, you have to either modify the type 'RZGate', or assign to an empty array created with `np.empty(correct_shape, dtype=object)`.\n",
      "  circuits=np.repeat(np.array(circ_to_submit, dtype=QuantumCircuit), len(obs_list)),\n"
     ]
    },
    {
     "name": "stdout",
     "output_type": "stream",
     "text": [
      "chsm5aii3durlgq1t7ng\n",
      "30\n",
      "chsm5b0recnk2p3nl5v0\n",
      "30\n",
      "chsm5bj91dmpcnnrkbt0\n",
      "30\n",
      "chsm5c391dmpcnnrkc2g\n",
      "30\n",
      "chsm5choq2qn3r14tcsg\n",
      "30\n",
      "chsm5d1oq2qn3r14td80\n",
      "30\n",
      "chsm5dorecnk2p3nl7ug\n",
      "30\n",
      "chsm5eii3durlgq1tac0\n",
      "30\n",
      "chsm5fb91dmpcnnrke60\n",
      "30\n",
      "chsm5g391dmpcnnrkeig\n",
      "30\n"
     ]
    }
   ],
   "source": [
    "job_ids = []\n",
    "num_circs_per_depth = 30\n",
    "num_depths_per_job = 1\n",
    "with Session(service=service, backend=\"ibm_sherbrooke\") as session:\n",
    "    runtime_estimator = RuntimeEstimator(session=session, options=options)\n",
    "    for i in range(0, 10, num_depths_per_job):\n",
    "        train_circuit_batch = train_circuits[num_circs_per_depth*i:num_circs_per_depth*(i+num_depths_per_job)]\n",
    "        padded_obs_batch = padded_obs_all_circs[len(obs_list)*num_circs_per_depth*i:len(obs_list)*num_circs_per_depth*(i+num_depths_per_job)]\n",
    "        assert len(train_circuit_batch) * len(obs_list) == len(padded_obs_batch)\n",
    "\n",
    "        circ_to_submit = []\n",
    "        for circ in train_circuit_batch:\n",
    "            circ.remove_final_measurements()\n",
    "            circ_to_submit.append(circ)\n",
    "\n",
    "        job = runtime_estimator.run(\n",
    "            circuits=np.repeat(np.array(circ_to_submit, dtype=QuantumCircuit), len(obs_list)),\n",
    "            observables=padded_obs_batch\n",
    "        )\n",
    "\n",
    "        job_ids.append(job.job_id())\n",
    "        print(job.job_id())\n",
    "        print(len(circ_to_submit))\n",
    "\n",
    "    with open('./data/ising_zne_hardware/10q_sherbrooke_30persteps_shots1w_sameJ_job_ids.pk', 'wb') as file:\n",
    "        pickle.dump(job_ids, file)"
   ],
   "metadata": {
    "collapsed": false
   }
  },
  {
   "cell_type": "code",
   "execution_count": 48,
   "outputs": [
    {
     "data": {
      "text/plain": "['chrrp4qi3durlgpaqcp0',\n 'chrrp8ai3durlgpaqg4g',\n 'chrrpeai3durlgpaqmlg',\n 'chrrpmgrecnk2p30564g',\n 'chrrpuii3durlgpar880']"
     },
     "execution_count": 48,
     "metadata": {},
     "output_type": "execute_result"
    }
   ],
   "source": [
    "with open('./data/ising_zne_hardware/100q_washington_30persteps_job_ids.pk', 'rb') as file:\n",
    "    loaded = pickle.load(file)\n",
    "loaded"
   ],
   "metadata": {
    "collapsed": false
   }
  },
  {
   "cell_type": "code",
   "execution_count": 38,
   "outputs": [],
   "source": [
    "ret_job = service.job('chrm3c8recnk2p2nvl0g')"
   ],
   "metadata": {
    "collapsed": false
   }
  },
  {
   "cell_type": "code",
   "execution_count": 76,
   "outputs": [
    {
     "data": {
      "text/plain": "<JobStatus.RUNNING: 'job is actively running'>"
     },
     "execution_count": 76,
     "metadata": {},
     "output_type": "execute_result"
    }
   ],
   "source": [
    "ret_job.status()"
   ],
   "metadata": {
    "collapsed": false
   }
  },
  {
   "cell_type": "markdown",
   "source": [],
   "metadata": {
    "collapsed": false
   }
  },
  {
   "cell_type": "markdown",
   "source": [],
   "metadata": {
    "collapsed": false
   }
  },
  {
   "cell_type": "code",
   "execution_count": 21,
   "outputs": [
    {
     "data": {
      "text/plain": "array([-3.33066907e-16])"
     },
     "execution_count": 21,
     "metadata": {},
     "output_type": "execute_result"
    }
   ],
   "source": [
    "qc = QuantumCircuit(1)\n",
    "for _ in range(3):\n",
    "    qc.rz(np.pi/2, 0)\n",
    "    qc.sx(0)\n",
    "    qc.rz(np.pi*3/2, 0)\n",
    "    qc.sx(0)\n",
    "    qc.rz(np.pi*5/2, 0)\n",
    "\n",
    "Estimator().run(qc, SparsePauliOp('Z'), shots=None).result().values"
   ],
   "metadata": {
    "collapsed": false
   }
  },
  {
   "cell_type": "markdown",
   "source": [],
   "metadata": {
    "collapsed": false
   }
  },
  {
   "cell_type": "markdown",
   "source": [
    "# Verification"
   ],
   "metadata": {
    "collapsed": false
   }
  },
  {
   "cell_type": "code",
   "execution_count": null,
   "outputs": [],
   "source": [
    "train_circuits[20].draw('mpl', fold=-1)"
   ],
   "metadata": {
    "collapsed": false
   }
  },
  {
   "cell_type": "code",
   "execution_count": 52,
   "outputs": [
    {
     "data": {
      "text/plain": "  0%|          | 0/300 [00:00<?, ?it/s]",
      "application/vnd.jupyter.widget-view+json": {
       "version_major": 2,
       "version_minor": 0,
       "model_id": "be2feb53448c467db378b628b1d7bbef"
      }
     },
     "metadata": {},
     "output_type": "display_data"
    }
   ],
   "source": [
    "ideal_vals = []\n",
    "noisy_vals = []\n",
    "for circ in tqdm(train_circuits):\n",
    "    counts_ideal = fake_backend_ideal.run(circ, shots=10000).result().get_counts()\n",
    "    ideal_exp_vals = -1*cal_z_exp(counts_ideal)\n",
    "    ideal_vals.extend(ideal_exp_vals)\n",
    "\n",
    "    counts_noisy = fake_backend_noisy.run(circ, shots=10000).result().get_counts()\n",
    "    noisy_exp_vals = -1*cal_z_exp(counts_noisy)\n",
    "    noisy_vals.extend(noisy_exp_vals)"
   ],
   "metadata": {
    "collapsed": false
   }
  },
  {
   "cell_type": "code",
   "execution_count": 42,
   "outputs": [
    {
     "data": {
      "text/plain": "<Figure size 1174.18x445.48 with 1 Axes>",
      "image/png": "[encoded data removed]"
     },
     "execution_count": 42,
     "metadata": {},
     "output_type": "execute_result"
    }
   ],
   "source": [
    "k = 30\n",
    "train_circuits[k].draw('mpl', fold=-1, idle_wires=False)"
   ],
   "metadata": {
    "collapsed": false
   }
  },
  {
   "cell_type": "code",
   "execution_count": 56,
   "outputs": [
    {
     "name": "stdout",
     "output_type": "stream",
     "text": [
      "1.0 \t 0.985 \t\t 0.9026875000000006\n",
      "1.0 \t 0.9898 \t\t 0.8343750000000014\n",
      "1.0 \t 0.9904 \t\t 0.9795000000000004\n",
      "1.0 \t 0.9822 \t\t 0.997812500000001\n",
      "1.0 \t 0.9718 \t\t 0.9990625000000011\n",
      "1.0 \t 0.9806 \t\t 0.9343125000000008\n",
      "1.0 \t 0.9836 \t\t 0.9195625000000007\n",
      "1.0 \t 0.9906 \t\t 0.7876250000000011\n",
      "1.0 \t 0.9926 \t\t 0.9750000000000015\n",
      "1.0 \t 0.9802 \t\t 0.9990000000000004\n",
      "1.0 \t 0.9722 \t\t 0.999750000000001\n",
      "1.0 \t 0.9792 \t\t 0.9556875000000012\n",
      "1.0 \t 0.9856 \t\t 0.9241250000000005\n",
      "1.0 \t 0.992 \t\t 0.832250000000001\n",
      "1.0 \t 0.9946 \t\t 0.9763125000000015\n",
      "1.0 \t 0.9844 \t\t 0.9993125000000014\n",
      "1.0 \t 0.969 \t\t 0.9981875000000007\n",
      "1.0 \t 0.9802 \t\t 0.9258125000000013\n",
      "1.0 \t 0.9826 \t\t 0.9061875000000009\n",
      "1.0 \t 0.9898 \t\t 0.7884375000000009\n",
      "1.0 \t 0.9926 \t\t 0.9731250000000007\n",
      "1.0 \t 0.9818 \t\t 0.9982500000000012\n",
      "1.0 \t 0.971 \t\t 1.0008750000000008\n",
      "1.0 \t 0.9772 \t\t 0.9335625000000003\n",
      "1.0 \t 0.9818 \t\t 0.9362500000000014\n",
      "1.0 \t 0.9884 \t\t 0.7810625000000002\n",
      "1.0 \t 0.993 \t\t 0.970000000000001\n",
      "1.0 \t 0.9806 \t\t 0.9995000000000013\n",
      "1.0 \t 0.9694 \t\t 0.9966875000000017\n",
      "1.0 \t 0.9782 \t\t 0.9646875000000009\n",
      "1.0 \t 0.983 \t\t 0.9352500000000008\n",
      "1.0 \t 0.9918 \t\t 0.7865624999999999\n",
      "1.0 \t 0.992 \t\t 0.9791875000000005\n",
      "1.0 \t 0.9826 \t\t 0.998687500000001\n",
      "1.0 \t 0.969 \t\t 0.999750000000001\n",
      "1.0 \t 0.9796 \t\t 0.9541875000000006\n",
      "1.0 \t 0.9828 \t\t 0.9336875000000009\n",
      "1.0 \t 0.9908 \t\t 0.8039375000000006\n",
      "1.0 \t 0.9932 \t\t 0.974062500000001\n",
      "1.0 \t 0.9768 \t\t 0.997000000000001\n",
      "1.0 \t 0.972 \t\t 0.999312500000001\n",
      "1.0 \t 0.979 \t\t 0.9419375000000002\n",
      "1.0 \t 0.9854 \t\t 0.9271250000000009\n",
      "1.0 \t 0.9906 \t\t 0.7656875000000009\n",
      "1.0 \t 0.9926 \t\t 0.9688750000000006\n",
      "1.0 \t 0.983 \t\t 0.997812500000001\n",
      "1.0 \t 0.967 \t\t 0.9949375000000018\n",
      "1.0 \t 0.9796 \t\t 0.9661250000000012\n",
      "1.0 \t 0.9808 \t\t 0.9237500000000006\n",
      "1.0 \t 0.9906 \t\t 0.8029375000000011\n",
      "1.0 \t 0.9938 \t\t 0.9807500000000011\n",
      "1.0 \t 0.982 \t\t 0.9981250000000008\n",
      "1.0 \t 0.9712 \t\t 0.998500000000001\n",
      "1.0 \t 0.9788 \t\t 0.9446875000000011\n",
      "1.0 \t 0.9842 \t\t 0.9208750000000007\n",
      "1.0 \t 0.991 \t\t 0.7466250000000006\n",
      "1.0 \t 0.9924 \t\t 0.9780625000000012\n",
      "1.0 \t 0.9812 \t\t 0.9987500000000002\n",
      "1.0 \t 0.9684 \t\t 0.998750000000001\n",
      "1.0 \t 0.9782 \t\t 0.9463125000000012\n",
      "1.0 \t 0.982 \t\t 0.9170625000000009\n",
      "1.0 \t 0.9912 \t\t 0.8046875000000008\n",
      "1.0 \t 0.9928 \t\t 0.981250000000001\n",
      "1.0 \t 0.9784 \t\t 0.9993750000000003\n",
      "1.0 \t 0.9726 \t\t 0.999750000000001\n",
      "1.0 \t 0.9784 \t\t 0.9387500000000008\n",
      "1.0 \t 0.9868 \t\t 0.9391250000000014\n",
      "1.0 \t 0.9896 \t\t 0.8214375000000016\n",
      "1.0 \t 0.9942 \t\t 0.9776875000000008\n",
      "1.0 \t 0.9836 \t\t 0.9985000000000007\n",
      "1.0 \t 0.9734 \t\t 0.9973750000000006\n",
      "1.0 \t 0.978 \t\t 0.9443750000000013\n",
      "1.0 \t 0.9806 \t\t 0.917562500000001\n",
      "1.0 \t 0.9882 \t\t 0.7779375000000008\n",
      "1.0 \t 0.9908 \t\t 0.9861250000000014\n",
      "1.0 \t 0.9804 \t\t 0.9987500000000002\n",
      "1.0 \t 0.9716 \t\t 0.9969375000000014\n",
      "1.0 \t 0.9786 \t\t 0.9386250000000007\n",
      "1.0 \t 0.9834 \t\t 0.9100000000000015\n",
      "1.0 \t 0.9894 \t\t 0.8015000000000003\n",
      "1.0 \t 0.9918 \t\t 0.9712500000000013\n",
      "1.0 \t 0.984 \t\t 0.996562500000001\n",
      "1.0 \t 0.9702 \t\t 0.998062500000001\n",
      "1.0 \t 0.9774 \t\t 0.9550625000000011\n",
      "1.0 \t 0.9836 \t\t 0.9310000000000007\n",
      "1.0 \t 0.9906 \t\t 0.7944375000000011\n",
      "1.0 \t 0.9934 \t\t 0.9818125000000009\n",
      "1.0 \t 0.9812 \t\t 1.001062500000001\n",
      "1.0 \t 0.9722 \t\t 0.998062500000001\n",
      "1.0 \t 0.9806 \t\t 0.964500000000001\n",
      "1.0 \t 0.983 \t\t 0.9299375000000011\n",
      "1.0 \t 0.9894 \t\t 0.764437500000001\n",
      "1.0 \t 0.993 \t\t 0.9763750000000012\n",
      "1.0 \t 0.9818 \t\t 1.0003125000000006\n",
      "1.0 \t 0.9696 \t\t 0.9990000000000007\n",
      "1.0 \t 0.9758 \t\t 0.9465000000000008\n",
      "1.0 \t 0.9802 \t\t 0.9155000000000008\n",
      "1.0 \t 0.9904 \t\t 0.7813125000000011\n",
      "1.0 \t 0.9924 \t\t 0.9695000000000008\n",
      "1.0 \t 0.9824 \t\t 0.9993750000000003\n",
      "1.0 \t 0.9682 \t\t 0.9836875000000012\n",
      "1.0 \t 0.9804 \t\t 0.8195000000000016\n",
      "1.0 \t 0.9836 \t\t 0.9245625000000013\n",
      "1.0 \t 0.9916 \t\t 0.7548125000000013\n",
      "1.0 \t 0.9948 \t\t 0.9790000000000004\n",
      "1.0 \t 0.9866 \t\t 1.0001250000000013\n",
      "1.0 \t 0.9642 \t\t 0.9985000000000009\n",
      "1.0 \t 0.9808 \t\t 0.8578750000000015\n",
      "1.0 \t 0.9784 \t\t 0.9609375000000004\n",
      "1.0 \t 0.9884 \t\t 0.8000625000000011\n",
      "1.0 \t 0.9932 \t\t 0.9743125000000001\n",
      "1.0 \t 0.979 \t\t 1.0003125000000006\n",
      "1.0 \t 0.969 \t\t 0.9978125000000013\n",
      "1.0 \t 0.9802 \t\t 0.873937500000001\n",
      "1.0 \t 0.9852 \t\t 0.9333125000000002\n",
      "1.0 \t 0.99 \t\t 0.7876250000000007\n",
      "1.0 \t 0.9914 \t\t 0.9874375000000009\n",
      "1.0 \t 0.9798 \t\t 0.9996250000000014\n",
      "1.0 \t 0.9704 \t\t 0.9972500000000012\n",
      "1.0 \t 0.9748 \t\t 0.8930000000000001\n",
      "-1.0 \t -0.941 \t\t -0.9726875000000006\n",
      "-1.0 \t -0.9254 \t\t -0.8288750000000001\n",
      "-1.0 \t -0.921 \t\t -1.0136250000000002\n",
      "-1.0 \t -0.8192 \t\t -0.822375000000001\n",
      "-1.0 \t -0.8056 \t\t -1.0284375000000008\n",
      "-1.0 \t -0.931 \t\t -0.9955000000000009\n",
      "-1.0 \t -0.944 \t\t -0.9897500000000009\n",
      "-1.0 \t -0.9258 \t\t -0.798750000000001\n",
      "-1.0 \t -0.922 \t\t -0.9253750000000006\n",
      "-1.0 \t -0.8354 \t\t -0.9362500000000004\n",
      "-1.0 \t -0.8042 \t\t -1.037062500000001\n",
      "-1.0 \t -0.9242 \t\t -0.9483125000000012\n",
      "-1.0 \t -0.942 \t\t -0.9757500000000013\n",
      "-1.0 \t -0.9206 \t\t -0.7812500000000004\n",
      "-1.0 \t -0.9176 \t\t -0.8197500000000006\n",
      "-1.0 \t -0.8272 \t\t -0.7417500000000004\n",
      "-1.0 \t -0.809 \t\t -1.0445625000000005\n",
      "-1.0 \t -0.928 \t\t -0.9541250000000007\n",
      "-1.0 \t -0.9456 \t\t -0.9553750000000013\n",
      "-1.0 \t -0.9228 \t\t -0.7933750000000006\n",
      "-1.0 \t -0.9192 \t\t -0.9430625000000012\n",
      "-1.0 \t -0.8276 \t\t -0.8980000000000001\n",
      "-1.0 \t -0.8048 \t\t -1.0040000000000004\n",
      "-1.0 \t -0.9244 \t\t -0.9738125000000009\n",
      "-1.0 \t -0.9452 \t\t -0.9580000000000004\n",
      "-1.0 \t -0.9278 \t\t -0.7948750000000008\n",
      "-1.0 \t -0.9248 \t\t -0.7815625000000006\n",
      "-1.0 \t -0.8306 \t\t -0.6751875000000003\n",
      "-1.0 \t -0.8084 \t\t -0.9823750000000009\n",
      "-1.0 \t -0.929 \t\t -0.9371875000000003\n",
      "-1.0 \t -0.94 \t\t -0.9660000000000011\n",
      "-1.0 \t -0.9238 \t\t -0.8335625000000009\n",
      "-1.0 \t -0.9202 \t\t -0.8925625000000007\n",
      "-1.0 \t -0.8292 \t\t -0.9665625000000007\n",
      "-1.0 \t -0.8062 \t\t -1.0163750000000007\n",
      "-1.0 \t -0.9246 \t\t -0.9360625000000006\n",
      "-1.0 \t -0.9432 \t\t -0.9745000000000006\n",
      "-1.0 \t -0.93 \t\t -0.7391875000000007\n",
      "-1.0 \t -0.923 \t\t -0.7804375000000013\n",
      "-1.0 \t -0.8292 \t\t -0.6792500000000001\n",
      "-1.0 \t -0.8136 \t\t -0.9621250000000008\n",
      "-1.0 \t -0.9358 \t\t -0.946812500000001\n",
      "-1.0 \t -0.9458 \t\t -0.9948750000000006\n",
      "-1.0 \t -0.9294 \t\t -0.8240000000000006\n",
      "-1.0 \t -0.9286 \t\t -0.9537500000000003\n",
      "-1.0 \t -0.8358 \t\t -0.8337500000000004\n",
      "-1.0 \t -0.8158 \t\t -0.9951875000000003\n",
      "-1.0 \t -0.9294 \t\t -0.9691875000000008\n",
      "-1.0 \t -0.9434 \t\t -0.9696250000000013\n",
      "-1.0 \t -0.9258 \t\t -0.7655000000000007\n",
      "-1.0 \t -0.9206 \t\t -0.8626875000000009\n",
      "-1.0 \t -0.8208 \t\t -0.8403125000000004\n",
      "-1.0 \t -0.8132 \t\t -1.0114375\n",
      "-1.0 \t -0.9276 \t\t -0.9379375000000009\n",
      "-1.0 \t -0.9424 \t\t -0.9786875000000008\n",
      "-1.0 \t -0.9204 \t\t -0.7809375000000006\n",
      "-1.0 \t -0.921 \t\t -0.8473125000000006\n",
      "-1.0 \t -0.8152 \t\t -0.7426875000000003\n",
      "-1.0 \t -0.8064 \t\t -1.018437500000001\n",
      "-1.0 \t -0.93 \t\t -0.9856250000000009\n",
      "-1.0 \t -0.9434 \t\t -0.9372500000000004\n",
      "-1.0 \t -0.9208 \t\t -0.7723750000000007\n",
      "-1.0 \t -0.926 \t\t -0.7912500000000002\n",
      "-1.0 \t -0.812 \t\t -0.6884375\n",
      "-1.0 \t -0.81 \t\t -0.9723125000000008\n",
      "-1.0 \t -0.9326 \t\t -0.9638750000000009\n",
      "-1.0 \t -0.946 \t\t -0.9917500000000005\n",
      "-1.0 \t -0.9292 \t\t -0.8066250000000005\n",
      "-1.0 \t -0.9208 \t\t -0.9487500000000004\n",
      "-1.0 \t -0.8268 \t\t -0.9069375000000005\n",
      "-1.0 \t -0.8094 \t\t -1.0295000000000003\n",
      "-1.0 \t -0.9232 \t\t -0.9538125000000011\n",
      "-1.0 \t -0.9466 \t\t -0.984625000000001\n",
      "-1.0 \t -0.9268 \t\t -0.8170625000000009\n",
      "-1.0 \t -0.9198 \t\t -0.8399375000000004\n",
      "-1.0 \t -0.8184 \t\t -0.7333750000000004\n",
      "-1.0 \t -0.8076 \t\t -1.0089375000000005\n",
      "-1.0 \t -0.9306 \t\t -0.9306250000000006\n",
      "-1.0 \t -0.946 \t\t -0.9453125000000011\n",
      "-1.0 \t -0.924 \t\t -0.7990625000000005\n",
      "-1.0 \t -0.9258 \t\t -0.8681250000000003\n",
      "-1.0 \t -0.8284 \t\t -0.8932500000000008\n",
      "-1.0 \t -0.8022 \t\t -0.9933750000000011\n",
      "-1.0 \t -0.9314 \t\t -0.9390625000000006\n",
      "-1.0 \t -0.943 \t\t -0.9453749999999999\n",
      "-1.0 \t -0.9196 \t\t -0.7846250000000009\n",
      "-1.0 \t -0.9228 \t\t -0.7853125000000006\n",
      "-1.0 \t -0.8346 \t\t -0.6960625000000007\n",
      "-1.0 \t -0.8194 \t\t -0.9977500000000004\n",
      "-1.0 \t -0.9286 \t\t -0.9075000000000004\n",
      "-1.0 \t -0.95 \t\t -0.9551875000000012\n",
      "-1.0 \t -0.924 \t\t -0.7992500000000006\n",
      "-1.0 \t -0.9258 \t\t -0.8639375000000005\n",
      "-1.0 \t -0.8268 \t\t -0.8852500000000005\n",
      "-1.0 \t -0.8096 \t\t -1.0112500000000002\n",
      "-1.0 \t -0.9274 \t\t -0.9646875000000001\n",
      "-1.0 \t -0.945 \t\t -0.9805625000000009\n",
      "-1.0 \t -0.9166 \t\t -0.8350625000000005\n",
      "-1.0 \t -0.919 \t\t -0.8198750000000009\n",
      "-1.0 \t -0.8382 \t\t -0.8523125\n",
      "-1.0 \t -0.8184 \t\t -1.0286250000000012\n",
      "-1.0 \t -0.9306 \t\t -0.9308125000000007\n",
      "-1.0 \t -0.9428 \t\t -0.9583125000000006\n",
      "-1.0 \t -0.9244 \t\t -0.7842500000000002\n",
      "-1.0 \t -0.9218 \t\t -0.8896250000000007\n",
      "-1.0 \t -0.8356 \t\t -0.9071875000000006\n",
      "-1.0 \t -0.8114 \t\t -1.002625000000001\n",
      "-1.0 \t -0.9322 \t\t -0.9638750000000008\n",
      "-1.0 \t -0.9428 \t\t -0.9853750000000013\n",
      "-1.0 \t -0.9298 \t\t -0.8198750000000004\n",
      "-1.0 \t -0.925 \t\t -0.9781250000000002\n",
      "-1.0 \t -0.8302 \t\t -0.7945\n",
      "-1.0 \t -0.8086 \t\t -1.0041250000000006\n",
      "-1.0 \t -0.9272 \t\t -0.9615000000000014\n",
      "-1.0 \t -0.9414 \t\t -0.9618750000000006\n",
      "-1.0 \t -0.9206 \t\t -0.806500000000001\n",
      "-1.0 \t -0.9234 \t\t -0.8884375000000005\n",
      "-1.0 \t -0.829 \t\t -0.8507500000000007\n",
      "-1.0 \t -0.818 \t\t -1.0461250000000013\n",
      "-1.0 \t -0.9306 \t\t -0.9558125000000008\n",
      "1.0 \t 0.9416 \t\t 0.9367500000000009\n",
      "1.0 \t 0.9124 \t\t 0.7413750000000008\n",
      "1.0 \t 0.9148 \t\t 0.5545000000000002\n",
      "1.0 \t 0.7748 \t\t 0.8755625\n",
      "1.0 \t 0.7668 \t\t 0.9638750000000003\n",
      "1.0 \t 0.9424 \t\t 0.8691875000000002\n",
      "1.0 \t 0.9366 \t\t 0.8961250000000012\n",
      "1.0 \t 0.9142 \t\t 0.7599375000000002\n",
      "1.0 \t 0.9194 \t\t 0.6095000000000003\n",
      "1.0 \t 0.789 \t\t 0.8968125000000007\n",
      "1.0 \t 0.771 \t\t 0.9726875000000003\n",
      "1.0 \t 0.9364 \t\t 0.8473125000000007\n",
      "1.0 \t 0.9458 \t\t 0.9194375000000006\n",
      "1.0 \t 0.9184 \t\t 0.7695000000000005\n",
      "1.0 \t 0.9224 \t\t 0.9615000000000005\n",
      "1.0 \t 0.7878 \t\t 1.0706875\n",
      "1.0 \t 0.7688 \t\t 0.9646875000000015\n",
      "1.0 \t 0.933 \t\t 0.8385000000000006\n",
      "1.0 \t 0.9458 \t\t 0.9246875000000003\n",
      "1.0 \t 0.9112 \t\t 0.7020625000000007\n",
      "1.0 \t 0.9136 \t\t 0.8565625000000004\n",
      "1.0 \t 0.7812 \t\t 0.9450000000000005\n",
      "1.0 \t 0.77 \t\t 0.9961875000000007\n",
      "1.0 \t 0.9404 \t\t 0.9051250000000004\n",
      "1.0 \t 0.9472 \t\t 0.9269375000000005\n",
      "1.0 \t 0.9132 \t\t 0.8091875000000004\n",
      "1.0 \t 0.9192 \t\t 0.9240625000000002\n",
      "1.0 \t 0.7802 \t\t 1.0146874999999997\n",
      "1.0 \t 0.762 \t\t 0.9372500000000004\n",
      "1.0 \t 0.9336 \t\t 0.8049375000000006\n",
      "1.0 \t 0.9446 \t\t 0.9271875000000002\n",
      "1.0 \t 0.9104 \t\t 0.7467500000000005\n",
      "1.0 \t 0.9114 \t\t 0.9283750000000004\n",
      "1.0 \t 0.7838 \t\t 1.0245625000000007\n",
      "1.0 \t 0.764 \t\t 0.9570625000000006\n",
      "1.0 \t 0.9362 \t\t 0.8427500000000002\n",
      "1.0 \t 0.9478 \t\t 0.92225\n",
      "1.0 \t 0.9214 \t\t 0.7606875000000004\n",
      "1.0 \t 0.9202 \t\t 0.7267500000000001\n",
      "1.0 \t 0.778 \t\t 0.9090000000000003\n",
      "1.0 \t 0.7636 \t\t 1.0618750000000001\n",
      "1.0 \t 0.9366 \t\t 0.8413125000000006\n",
      "1.0 \t 0.9494 \t\t 0.9105000000000014\n",
      "1.0 \t 0.9214 \t\t 0.7086875000000004\n",
      "1.0 \t 0.9152 \t\t 0.7980625000000005\n",
      "1.0 \t 0.7856 \t\t 0.9768125000000003\n",
      "1.0 \t 0.7716 \t\t 1.0585000000000002\n",
      "1.0 \t 0.9364 \t\t 0.8915625000000008\n",
      "1.0 \t 0.9504 \t\t 0.9123750000000002\n",
      "1.0 \t 0.9146 \t\t 0.7691250000000007\n",
      "1.0 \t 0.9158 \t\t 0.6416875000000004\n",
      "1.0 \t 0.7914 \t\t 0.8568750000000003\n",
      "1.0 \t 0.7804 \t\t 1.0155625000000001\n",
      "1.0 \t 0.932 \t\t 0.8275625\n",
      "1.0 \t 0.942 \t\t 0.9170625000000008\n",
      "1.0 \t 0.9172 \t\t 0.7233750000000007\n",
      "1.0 \t 0.916 \t\t 0.6021875000000003\n",
      "1.0 \t 0.7808 \t\t 0.9358125000000003\n",
      "1.0 \t 0.7648 \t\t 0.9721250000000003\n",
      "1.0 \t 0.9362 \t\t 0.8473125000000006\n",
      "1.0 \t 0.9488 \t\t 0.911375000000001\n",
      "1.0 \t 0.92 \t\t 0.7890625000000007\n",
      "1.0 \t 0.92 \t\t 0.7806250000000001\n",
      "1.0 \t 0.786 \t\t 0.9708750000000002\n",
      "1.0 \t 0.7718 \t\t 0.9325625000000001\n",
      "1.0 \t 0.937 \t\t 0.8141875000000003\n",
      "1.0 \t 0.9498 \t\t 0.8948125000000009\n",
      "1.0 \t 0.9198 \t\t 0.7599375000000008\n",
      "1.0 \t 0.9246 \t\t 0.6198750000000003\n",
      "1.0 \t 0.7896 \t\t 0.9530000000000001\n",
      "1.0 \t 0.768 \t\t 0.984250000000001\n",
      "1.0 \t 0.9356 \t\t 0.8214375000000005\n",
      "1.0 \t 0.9446 \t\t 0.9517500000000003\n",
      "1.0 \t 0.915 \t\t 0.8321875000000001\n",
      "1.0 \t 0.9142 \t\t 0.9691250000000005\n",
      "1.0 \t 0.7758 \t\t 0.9982500000000005\n",
      "1.0 \t 0.765 \t\t 1.0632500000000007\n",
      "1.0 \t 0.9366 \t\t 0.8496250000000012\n",
      "1.0 \t 0.9464 \t\t 0.913312500000001\n",
      "1.0 \t 0.9174 \t\t 0.7115625000000005\n",
      "1.0 \t 0.9184 \t\t 0.8193125000000003\n",
      "1.0 \t 0.7842 \t\t 1.0063750000000005\n",
      "1.0 \t 0.7566 \t\t 0.9739375000000005\n",
      "1.0 \t 0.9272 \t\t 0.8802500000000006\n",
      "1.0 \t 0.9458 \t\t 0.9241875000000006\n",
      "1.0 \t 0.9174 \t\t 0.7133125000000007\n",
      "1.0 \t 0.9174 \t\t 0.7509375000000003\n",
      "1.0 \t 0.7846 \t\t 0.9136875000000005\n",
      "1.0 \t 0.7624 \t\t 1.0040625000000003\n",
      "1.0 \t 0.9402 \t\t 0.8535625000000009\n",
      "1.0 \t 0.9532 \t\t 0.912500000000001\n",
      "1.0 \t 0.9172 \t\t 0.7123750000000009\n",
      "1.0 \t 0.9128 \t\t 0.8701250000000004\n",
      "1.0 \t 0.7872 \t\t 0.9569375\n",
      "1.0 \t 0.7612 \t\t 1.0560625000000008\n",
      "1.0 \t 0.9414 \t\t 0.8424375000000006\n",
      "1.0 \t 0.9438 \t\t 0.9556250000000004\n",
      "1.0 \t 0.9144 \t\t 0.8026875000000009\n",
      "1.0 \t 0.9182 \t\t 0.9771875000000003\n",
      "1.0 \t 0.7878 \t\t 1.035187500000001\n",
      "1.0 \t 0.761 \t\t 0.9536250000000007\n",
      "1.0 \t 0.9364 \t\t 0.8566250000000009\n",
      "1.0 \t 0.9432 \t\t 0.8848750000000012\n",
      "1.0 \t 0.9156 \t\t 0.7650625000000004\n",
      "1.0 \t 0.9242 \t\t 0.7438750000000005\n",
      "1.0 \t 0.782 \t\t 0.8913750000000005\n",
      "1.0 \t 0.762 \t\t 1.0180625\n",
      "1.0 \t 0.9364 \t\t 0.8481250000000005\n",
      "1.0 \t 0.9498 \t\t 0.9238750000000002\n",
      "1.0 \t 0.9174 \t\t 0.7613125000000005\n",
      "1.0 \t 0.9182 \t\t 0.6856250000000006\n",
      "1.0 \t 0.7974 \t\t 0.9243750000000003\n",
      "1.0 \t 0.761 \t\t 0.9450000000000008\n",
      "1.0 \t 0.9346 \t\t 0.8433750000000002\n",
      "1.0 \t 0.9456 \t\t 0.8798750000000009\n",
      "1.0 \t 0.9088 \t\t 0.7095000000000005\n",
      "1.0 \t 0.9208 \t\t 0.6676250000000004\n",
      "1.0 \t 0.7662 \t\t 0.9518125000000002\n",
      "1.0 \t 0.7616 \t\t 1.0435000000000005\n",
      "1.0 \t 0.933 \t\t 0.8579375000000012\n",
      "-1.0 \t -0.9158 \t\t -0.9885000000000007\n",
      "-1.0 \t -0.8528 \t\t -0.7651250000000005\n",
      "-1.0 \t -0.8512 \t\t -0.7608750000000002\n",
      "-1.0 \t -0.645 \t\t -0.7630000000000005\n",
      "-1.0 \t -0.6266 \t\t -1.093625\n",
      "-1.0 \t -0.8862 \t\t -0.9374375000000015\n",
      "-1.0 \t -0.905 \t\t -0.9465000000000003\n",
      "-1.0 \t -0.856 \t\t -0.7249375000000007\n",
      "-1.0 \t -0.8554 \t\t -0.7366875000000006\n",
      "-1.0 \t -0.6554 \t\t -0.7761875\n",
      "-1.0 \t -0.6592 \t\t -1.1180625\n",
      "-1.0 \t -0.892 \t\t -0.9323125000000009\n",
      "-1.0 \t -0.9074 \t\t -0.9789375000000003\n",
      "-1.0 \t -0.8606 \t\t -0.8158750000000003\n",
      "-1.0 \t -0.8472 \t\t -0.9363125000000005\n",
      "-1.0 \t -0.6482 \t\t -0.9565625000000006\n",
      "-1.0 \t -0.6376 \t\t -1.0846875\n",
      "-1.0 \t -0.8914 \t\t -0.9073750000000007\n",
      "-1.0 \t -0.9076 \t\t -0.964500000000001\n",
      "-1.0 \t -0.8492 \t\t -0.6856875000000007\n",
      "-1.0 \t -0.8508 \t\t -0.7635625000000001\n",
      "-1.0 \t -0.6578 \t\t -0.7095625000000001\n",
      "-1.0 \t -0.6344 \t\t -1.0928750000000005\n",
      "-1.0 \t -0.885 \t\t -0.9609375000000001\n",
      "-1.0 \t -0.9054 \t\t -0.9316875000000011\n",
      "-1.0 \t -0.854 \t\t -0.7344375000000003\n",
      "-1.0 \t -0.852 \t\t -0.8101875000000004\n",
      "-1.0 \t -0.6602 \t\t -0.7955000000000004\n",
      "-1.0 \t -0.6344 \t\t -1.0755625000000002\n",
      "-1.0 \t -0.889 \t\t -0.9756875000000003\n",
      "-1.0 \t -0.9068 \t\t -1.0293125000000007\n",
      "-1.0 \t -0.8514 \t\t -0.8169375000000001\n",
      "-1.0 \t -0.846 \t\t -0.9118750000000002\n",
      "-1.0 \t -0.6478 \t\t -0.7291250000000006\n",
      "-1.0 \t -0.6318 \t\t -1.0128125000000003\n",
      "-1.0 \t -0.8868 \t\t -0.9673125000000011\n",
      "-1.0 \t -0.9072 \t\t -0.9563750000000004\n",
      "-1.0 \t -0.8488 \t\t -0.8161250000000003\n",
      "-1.0 \t -0.8506 \t\t -0.9869375000000002\n",
      "-1.0 \t -0.6516 \t\t -0.8975625000000003\n",
      "-1.0 \t -0.6414 \t\t -1.1199375000000003\n",
      "-1.0 \t -0.8854 \t\t -0.9049375000000006\n",
      "-1.0 \t -0.9102 \t\t -0.9866250000000008\n",
      "-1.0 \t -0.8574 \t\t -0.6946250000000005\n",
      "-1.0 \t -0.8552 \t\t -0.7423750000000007\n",
      "-1.0 \t -0.652 \t\t -0.8245\n",
      "-1.0 \t -0.6212 \t\t -1.0785000000000005\n",
      "-1.0 \t -0.8832 \t\t -0.9555625000000008\n",
      "-1.0 \t -0.8984 \t\t -0.9828750000000004\n",
      "-1.0 \t -0.8608 \t\t -0.8591250000000007\n",
      "-1.0 \t -0.8536 \t\t -1.0058750000000005\n",
      "-1.0 \t -0.6468 \t\t -0.8976250000000001\n",
      "-1.0 \t -0.6362 \t\t -1.1367500000000001\n",
      "-1.0 \t -0.8894 \t\t -0.9645625000000005\n",
      "-1.0 \t -0.9084 \t\t -0.9782500000000002\n",
      "-1.0 \t -0.863 \t\t -0.7366250000000002\n",
      "-1.0 \t -0.844 \t\t -0.7443750000000002\n",
      "-1.0 \t -0.6586 \t\t -0.7873749999999998\n",
      "-1.0 \t -0.6348 \t\t -1.0882500000000002\n",
      "-1.0 \t -0.8874 \t\t -0.9610000000000005\n",
      "-1.0 \t -0.9066 \t\t -0.9893750000000007\n",
      "-1.0 \t -0.8554 \t\t -0.859125000000001\n",
      "-1.0 \t -0.8492 \t\t -1.0320625\n",
      "-1.0 \t -0.656 \t\t -0.9240000000000002\n",
      "-1.0 \t -0.636 \t\t -1.1293749999999998\n",
      "-1.0 \t -0.8792 \t\t -0.9600625\n",
      "-1.0 \t -0.9148 \t\t -0.9681250000000001\n",
      "-1.0 \t -0.8622 \t\t -0.7833125000000003\n",
      "-1.0 \t -0.8498 \t\t -0.9993125000000005\n",
      "-1.0 \t -0.6592 \t\t -0.7721875000000004\n",
      "-1.0 \t -0.6458 \t\t -1.0540625000000003\n",
      "-1.0 \t -0.884 \t\t -0.9096875000000011\n",
      "-1.0 \t -0.9122 \t\t -0.9878125000000006\n",
      "-1.0 \t -0.858 \t\t -0.9064375000000006\n",
      "-1.0 \t -0.86 \t\t -1.0500625000000006\n",
      "-1.0 \t -0.6624 \t\t -0.9421875000000004\n",
      "-1.0 \t -0.6448 \t\t -1.1471250000000008\n",
      "-1.0 \t -0.884 \t\t -0.9526250000000006\n",
      "-1.0 \t -0.909 \t\t -0.9553125000000005\n",
      "-1.0 \t -0.8536 \t\t -0.8610000000000007\n",
      "-1.0 \t -0.8496 \t\t -0.9681875000000002\n",
      "-1.0 \t -0.652 \t\t -0.9115000000000004\n",
      "-1.0 \t -0.6286 \t\t -1.1124375000000002\n",
      "-1.0 \t -0.8834 \t\t -0.9456250000000004\n",
      "-1.0 \t -0.9128 \t\t -0.9634375000000006\n",
      "-1.0 \t -0.8562 \t\t -0.7956250000000001\n",
      "-1.0 \t -0.8392 \t\t -0.9980625000000004\n",
      "-1.0 \t -0.6464 \t\t -0.9695625000000003\n",
      "-1.0 \t -0.6326 \t\t -1.0595000000000006\n",
      "-1.0 \t -0.8942 \t\t -0.9021875000000005\n",
      "-1.0 \t -0.9144 \t\t -0.9988125000000003\n",
      "-1.0 \t -0.8548 \t\t -0.7109375000000002\n",
      "-1.0 \t -0.8562 \t\t -0.7321875000000004\n",
      "-1.0 \t -0.6438 \t\t -0.9563125\n",
      "-1.0 \t -0.6276 \t\t -1.0321875\n",
      "-1.0 \t -0.8914 \t\t -0.9177500000000004\n",
      "-1.0 \t -0.9144 \t\t -0.9673125000000014\n",
      "-1.0 \t -0.8532 \t\t -0.7385625000000003\n",
      "-1.0 \t -0.846 \t\t -0.8877500000000007\n",
      "-1.0 \t -0.6552 \t\t -0.7814375000000005\n",
      "-1.0 \t -0.6312 \t\t -1.0455625000000004\n",
      "-1.0 \t -0.8864 \t\t -0.935000000000001\n",
      "-1.0 \t -0.9042 \t\t -0.9428749999999995\n",
      "-1.0 \t -0.8546 \t\t -0.7365625000000005\n",
      "-1.0 \t -0.8486 \t\t -0.7442500000000006\n",
      "-1.0 \t -0.6636 \t\t -0.7370000000000002\n",
      "-1.0 \t -0.6206 \t\t -1.0395000000000005\n",
      "-1.0 \t -0.886 \t\t -0.9154374999999999\n",
      "-1.0 \t -0.9108 \t\t -1.0100000000000002\n",
      "-1.0 \t -0.8552 \t\t -0.7737500000000003\n",
      "-1.0 \t -0.851 \t\t -0.8315000000000003\n",
      "-1.0 \t -0.6432 \t\t -0.6896250000000004\n",
      "-1.0 \t -0.6416 \t\t -0.9816250000000004\n",
      "-1.0 \t -0.8892 \t\t -0.9646250000000006\n",
      "-1.0 \t -0.911 \t\t -1.0000000000000009\n",
      "-1.0 \t -0.8528 \t\t -0.7552500000000003\n",
      "-1.0 \t -0.8486 \t\t -0.7505000000000005\n",
      "-1.0 \t -0.6492 \t\t -0.7841875000000003\n",
      "-1.0 \t -0.6408 \t\t -1.103125\n",
      "-1.0 \t -0.8926 \t\t -0.9461875000000004\n",
      "1.0 \t 0.9134 \t\t 0.9338125000000008\n",
      "1.0 \t 0.8526 \t\t 0.7476875000000002\n",
      "1.0 \t 0.8484 \t\t 0.49987499999999996\n",
      "1.0 \t 0.6192 \t\t 0.8735000000000002\n",
      "1.0 \t 0.5984 \t\t 1.0909375000000001\n",
      "1.0 \t 0.8872 \t\t 0.8176250000000002\n",
      "1.0 \t 0.911 \t\t 0.9286250000000005\n",
      "1.0 \t 0.8464 \t\t 0.7985000000000004\n",
      "1.0 \t 0.8436 \t\t 0.6091875000000001\n",
      "1.0 \t 0.624 \t\t 1.0770625000000003\n",
      "1.0 \t 0.5846 \t\t 1.1058124999999996\n",
      "1.0 \t 0.8924 \t\t 0.8421250000000007\n",
      "1.0 \t 0.9108 \t\t 0.872375000000001\n",
      "1.0 \t 0.8514 \t\t 0.7394375000000004\n",
      "1.0 \t 0.8498 \t\t 0.6803749999999998\n",
      "1.0 \t 0.6298 \t\t 0.8337500000000002\n",
      "1.0 \t 0.6102 \t\t 1.0372500000000004\n",
      "1.0 \t 0.8928 \t\t 0.8479375000000007\n",
      "1.0 \t 0.913 \t\t 0.9228125000000009\n",
      "1.0 \t 0.844 \t\t 0.8018125000000005\n",
      "1.0 \t 0.8476 \t\t 0.9266249999999999\n",
      "1.0 \t 0.6328 \t\t 1.0931250000000001\n",
      "1.0 \t 0.6078 \t\t 1.0096875000000003\n",
      "1.0 \t 0.8974 \t\t 0.8064375000000004\n",
      "1.0 \t 0.9098 \t\t 0.9274375000000008\n",
      "1.0 \t 0.836 \t\t 0.7547500000000004\n",
      "1.0 \t 0.841 \t\t 0.6718750000000002\n",
      "1.0 \t 0.6312 \t\t 1.1120000000000003\n",
      "1.0 \t 0.6242 \t\t 0.9993125000000004\n",
      "1.0 \t 0.8976 \t\t 0.8461250000000005\n",
      "1.0 \t 0.9158 \t\t 0.9597500000000007\n",
      "1.0 \t 0.8458 \t\t 0.7913124999999999\n",
      "1.0 \t 0.8512 \t\t 0.6180625\n",
      "1.0 \t 0.6348 \t\t 0.8153750000000004\n",
      "1.0 \t 0.6172 \t\t 1.0785625000000005\n",
      "1.0 \t 0.8942 \t\t 0.7980625000000005\n",
      "1.0 \t 0.9088 \t\t 0.9368125000000003\n",
      "1.0 \t 0.8384 \t\t 0.7567500000000006\n",
      "1.0 \t 0.8488 \t\t 0.734125\n",
      "1.0 \t 0.6296 \t\t 1.0298125000000002\n",
      "1.0 \t 0.6212 \t\t 1.0446250000000001\n",
      "1.0 \t 0.8946 \t\t 0.8216250000000006\n",
      "1.0 \t 0.9158 \t\t 0.9126250000000007\n",
      "1.0 \t 0.8472 \t\t 0.7301875000000005\n",
      "1.0 \t 0.855 \t\t 0.6531875\n",
      "1.0 \t 0.639 \t\t 0.808\n",
      "1.0 \t 0.6258 \t\t 1.0288125\n",
      "1.0 \t 0.8862 \t\t 0.8866875000000003\n",
      "1.0 \t 0.911 \t\t 0.9306250000000001\n",
      "1.0 \t 0.8426 \t\t 0.7835625000000002\n",
      "1.0 \t 0.8338 \t\t 0.6035000000000001\n",
      "1.0 \t 0.622 \t\t 1.0845000000000002\n",
      "1.0 \t 0.6176 \t\t 1.0491875000000004\n",
      "1.0 \t 0.898 \t\t 0.8035625000000004\n",
      "1.0 \t 0.9102 \t\t 1.0499375\n",
      "1.0 \t 0.8428 \t\t 0.8045\n",
      "1.0 \t 0.8436 \t\t 0.9773749999999999\n",
      "1.0 \t 0.6298 \t\t 0.9142500000000002\n",
      "1.0 \t 0.6254 \t\t 0.9695000000000003\n",
      "1.0 \t 0.9008 \t\t 0.7931875000000006\n",
      "1.0 \t 0.9126 \t\t 0.9440625000000005\n",
      "1.0 \t 0.8466 \t\t 0.8238750000000004\n",
      "1.0 \t 0.8418 \t\t 0.6326875000000002\n",
      "1.0 \t 0.6256 \t\t 1.0660625000000001\n",
      "1.0 \t 0.6064 \t\t 1.1330625000000003\n",
      "1.0 \t 0.9022 \t\t 0.8155625000000003\n",
      "1.0 \t 0.9154 \t\t 0.8946250000000004\n",
      "1.0 \t 0.8566 \t\t 0.7494375000000002\n",
      "1.0 \t 0.8546 \t\t 0.8904375000000002\n",
      "1.0 \t 0.618 \t\t 1.1282500000000002\n",
      "1.0 \t 0.6074 \t\t 1.0279375000000002\n",
      "1.0 \t 0.896 \t\t 0.7943125000000002\n",
      "1.0 \t 0.9068 \t\t 0.9457500000000012\n",
      "1.0 \t 0.843 \t\t 0.7405000000000005\n",
      "1.0 \t 0.851 \t\t 0.6461250000000002\n",
      "1.0 \t 0.6204 \t\t 0.7414375000000001\n",
      "1.0 \t 0.6072 \t\t 1.0036250000000007\n",
      "1.0 \t 0.8924 \t\t 0.8668125000000004\n",
      "1.0 \t 0.9076 \t\t 0.9127500000000008\n",
      "1.0 \t 0.843 \t\t 0.7971875000000003\n",
      "1.0 \t 0.8424 \t\t 0.900125\n",
      "1.0 \t 0.6276 \t\t 1.1076250000000003\n",
      "1.0 \t 0.6048 \t\t 1.01075\n",
      "1.0 \t 0.8988 \t\t 0.7923125000000004\n",
      "1.0 \t 0.9156 \t\t 0.9633125000000005\n",
      "1.0 \t 0.854 \t\t 0.7941875000000003\n",
      "1.0 \t 0.846 \t\t 0.680625\n",
      "1.0 \t 0.6148 \t\t 0.9135625000000005\n",
      "1.0 \t 0.5926 \t\t 1.0613750000000002\n",
      "1.0 \t 0.8914 \t\t 0.8293750000000006\n",
      "1.0 \t 0.913 \t\t 0.929000000000001\n",
      "1.0 \t 0.8472 \t\t 0.6945000000000006\n",
      "1.0 \t 0.8328 \t\t 0.5678124999999998\n",
      "1.0 \t 0.6296 \t\t 0.6688750000000001\n",
      "1.0 \t 0.6154 \t\t 1.015375\n",
      "1.0 \t 0.8942 \t\t 0.8709375000000004\n",
      "1.0 \t 0.9106 \t\t 0.9535625000000012\n",
      "1.0 \t 0.841 \t\t 0.8006875000000002\n",
      "1.0 \t 0.8416 \t\t 0.664\n",
      "1.0 \t 0.6354 \t\t 1.0750625000000005\n",
      "1.0 \t 0.6044 \t\t 0.9981875\n",
      "1.0 \t 0.8908 \t\t 0.8704375000000006\n",
      "1.0 \t 0.902 \t\t 0.9086250000000011\n",
      "1.0 \t 0.8412 \t\t 0.6829375000000005\n",
      "1.0 \t 0.8452 \t\t 0.7638750000000002\n",
      "1.0 \t 0.6242 \t\t 0.8119375000000002\n",
      "1.0 \t 0.5926 \t\t 1.0008750000000004\n",
      "1.0 \t 0.8932 \t\t 0.8913750000000008\n",
      "1.0 \t 0.9052 \t\t 1.0318750000000003\n",
      "1.0 \t 0.848 \t\t 0.8087500000000006\n",
      "1.0 \t 0.8536 \t\t 1.0174375000000004\n",
      "1.0 \t 0.6304 \t\t 0.9892500000000005\n",
      "1.0 \t 0.5998 \t\t 1.0294375000000007\n",
      "1.0 \t 0.8982 \t\t 0.7948125000000006\n",
      "1.0 \t 0.912 \t\t 0.894312500000001\n",
      "1.0 \t 0.8464 \t\t 0.6733125000000003\n",
      "1.0 \t 0.8434 \t\t 0.7257500000000003\n",
      "1.0 \t 0.6234 \t\t 0.8772500000000001\n",
      "1.0 \t 0.6162 \t\t 0.9328124999999999\n",
      "1.0 \t 0.9006 \t\t 0.8509375000000006\n"
     ]
    }
   ],
   "source": [
    "for k in range(100):\n",
    "    for i in range(6):\n",
    "        print(ideal_vals[6*k+i], '\\t', noisy_vals[6*k+i], '\\t\\t', mitigated_vals[6*k+i])"
   ],
   "metadata": {
    "collapsed": false
   }
  },
  {
   "cell_type": "code",
   "execution_count": null,
   "outputs": [],
   "source": [
    "ideal_vals = []\n",
    "for i in range(0, 15, 5):\n",
    "    train_circuit_batch = train_circuits[20*i:20*(i+5)]\n",
    "    for trans_circuit in train_circuit_batch:\n",
    "        obs_list = ['I'*i+'Z'+'I'*(6-1-i) for i in range(6)]\n",
    "        padded_obs = [SparsePauliOp(form_all_qubit_observable(obs, get_measurement_qubits(trans_circuit, 6), 127)) for obs in obs_list]\n",
    "        trans_circuit_copy = trans_circuit.copy()\n",
    "        trans_circuit_copy.remove_final_measurements()\n",
    "        exp_vals = Estimator().run([trans_circuit_copy]*6, padded_obs, shots=None).result().values\n",
    "        ideal_vals.append(*exp_vals)"
   ],
   "metadata": {
    "collapsed": false
   }
  },
  {
   "cell_type": "markdown",
   "source": [],
   "metadata": {
    "collapsed": false
   }
  },
  {
   "cell_type": "markdown",
   "source": [],
   "metadata": {
    "collapsed": false
   }
  },
  {
   "cell_type": "markdown",
   "source": [],
   "metadata": {
    "collapsed": false
   }
  }
 ],
 "metadata": {
  "kernelspec": {
   "display_name": "Python 3",
   "language": "python",
   "name": "python3"
  },
  "language_info": {
   "codemirror_mode": {
    "name": "ipython",
    "version": 2
   },
   "file_extension": ".py",
   "mimetype": "text/x-python",
   "name": "python",
   "nbconvert_exporter": "python",
   "pygments_lexer": "ipython2",
   "version": "2.7.6"
  }
 },
 "nbformat": 4,
 "nbformat_minor": 0
}
