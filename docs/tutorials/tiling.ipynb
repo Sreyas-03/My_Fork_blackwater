{
 "cells": [
  {
   "cell_type": "code",
   "execution_count": 53,
   "metadata": {
    "collapsed": true
   },
   "outputs": [],
   "source": [
    "import json\n",
    "import glob\n",
    "\n",
    "import numpy as np\n",
    "import pandas as pd\n",
    "\n",
    "from qiskit import transpile\n",
    "from qiskit import execute, QuantumRegister, ClassicalRegister\n",
    "from qiskit.providers.fake_provider import FakeLima\n",
    "from qiskit.primitives import Estimator\n",
    "from qiskit.circuit.random import random_circuit\n",
    "\n",
    "import torch\n",
    "from torch.optim import Adam\n",
    "from torch.optim.lr_scheduler import ReduceLROnPlateau\n",
    "from torch.nn.functional import dropout\n",
    "\n",
    "from torch_geometric.nn import GCNConv, global_mean_pool, Linear, ChebConv, SAGEConv\n",
    "from torch_geometric.data import Data\n",
    "from torch_geometric.loader import DataLoader\n",
    "\n",
    "from tqdm.notebook import tqdm_notebook\n",
    "import matplotlib.pyplot as plt\n",
    "import seaborn as sns\n",
    "\n",
    "from blackwater.data.loaders.exp_val import CircuitGraphExpValMitigationDataset\n",
    "from blackwater.data.generators.exp_val import exp_value_generator\n",
    "from blackwater.data.utils import generate_random_pauli_sum_op\n",
    "from blackwater.library.ngem.estimator import ngem\n",
    "\n",
    "from qiskit.quantum_info import random_clifford\n",
    "\n",
    "import random\n",
    "from qiskit.circuit.library import HGate, SdgGate\n",
    "from qiskit.circuit import ClassicalRegister\n",
    "\n",
    "from blackwater.data.utils import (\n",
    "    generate_random_pauli_sum_op,\n",
    "    create_estimator_meas_data,\n",
    "    circuit_to_graph_data_json,\n",
    "    get_backend_properties_v1,\n",
    "    encode_pauli_sum_op,\n",
    "    create_meas_data_from_estimators\n",
    ")\n",
    "from blackwater.data.generators.exp_val import ExpValueEntry\n",
    "from blackwater.metrics.improvement_factor import improvement_factor, Trial, Problem\n",
    "\n",
    "from qiskit_aer import AerSimulator, QasmSimulator\n",
    "from qiskit.providers.fake_provider import FakeMontreal, FakeLima\n",
    "\n",
    "from torch_geometric.nn import (\n",
    "    GCNConv,\n",
    "    TransformerConv,\n",
    "    GATv2Conv,\n",
    "    global_mean_pool,\n",
    "    Linear,\n",
    "    ChebConv,\n",
    "    SAGEConv,\n",
    "    ASAPooling,\n",
    "    dense_diff_pool,\n",
    "    avg_pool_neighbor_x\n",
    ")\n",
    "from torch_geometric.data import Data\n",
    "from torch_geometric.loader import DataLoader\n",
    "from torch_geometric.utils import to_dense_adj, to_dense_batch\n",
    "\n",
    "from qiskit import QuantumCircuit\n",
    "from qiskit.circuit.library import U3Gate, CZGate, PhaseGate, CXGate\n",
    "from mbd_utils import construct_random_clifford, cal_z_exp, calc_imbalance, cal_all_z_exp, construct_mbl_circuit, generate_disorder\n",
    "from gnn import ExpValCircuitGraphModel"
   ]
  },
  {
   "cell_type": "code",
   "execution_count": 80,
   "outputs": [],
   "source": [
    "backend = FakeLima()\n",
    "properties = get_backend_properties_v1(backend)\n",
    "\n",
    "## Local\n",
    "backend_ideal = QasmSimulator() # Noiseless\n",
    "backend_noisy = AerSimulator.from_backend(FakeLima()) # Noisy\n",
    "\n",
    "run_config_ideal = {'shots': 10000, 'backend': backend_ideal, 'name': 'ideal'}\n",
    "run_config_noisy = {'shots': 10000, 'backend': backend_noisy, 'name': 'noisy'}"
   ],
   "metadata": {
    "collapsed": false
   }
  },
  {
   "cell_type": "code",
   "execution_count": 54,
   "outputs": [],
   "source": [
    "rc = random_circuit(2, 4, 2, measure=True)"
   ],
   "metadata": {
    "collapsed": false
   }
  },
  {
   "cell_type": "code",
   "execution_count": 55,
   "outputs": [
    {
     "data": {
      "text/plain": "                   ┌────────────────────────┐┌──────────────────────────┐┌────────────┐┌─┐   \nq_0: ─■────────────┤1                       ├┤ U3(1.3405,4.6647,2.6013) ├┤ Rx(3.8721) ├┤M├───\n      │U1(0.92579) │  {XX-YY}(5.4309,4.269) │├──────────────────────────┤├────────────┤└╥┘┌─┐\nq_1: ─■────────────┤0                       ├┤ U3(3.5748,1.1242,5.0772) ├┤ Ry(2.6901) ├─╫─┤M├\n                   └────────────────────────┘└──────────────────────────┘└────────────┘ ║ └╥┘\nc: 2/═══════════════════════════════════════════════════════════════════════════════════╩══╩═\n                                                                                        0  1 ",
      "text/html": "<pre style=\"word-wrap: normal;white-space: pre;background: #fff0;line-height: 1.1;font-family: &quot;Courier New&quot;,Courier,monospace\">                   ┌────────────────────────┐┌──────────────────────────┐┌────────────┐┌─┐   \nq_0: ─■────────────┤1                       ├┤ U3(1.3405,4.6647,2.6013) ├┤ Rx(3.8721) ├┤M├───\n      │U1(0.92579) │  {XX-YY}(5.4309,4.269) │├──────────────────────────┤├────────────┤└╥┘┌─┐\nq_1: ─■────────────┤0                       ├┤ U3(3.5748,1.1242,5.0772) ├┤ Ry(2.6901) ├─╫─┤M├\n                   └────────────────────────┘└──────────────────────────┘└────────────┘ ║ └╥┘\nc: 2/═══════════════════════════════════════════════════════════════════════════════════╩══╩═\n                                                                                        0  1 </pre>"
     },
     "execution_count": 55,
     "metadata": {},
     "output_type": "execute_result"
    }
   ],
   "source": [
    "rc.draw(fold=-1)"
   ],
   "metadata": {
    "collapsed": false
   }
  },
  {
   "cell_type": "code",
   "execution_count": 56,
   "outputs": [],
   "source": [
    "qr = QuantumRegister(5)\n",
    "larger_qc = QuantumCircuit(qr)"
   ],
   "metadata": {
    "collapsed": false
   }
  },
  {
   "cell_type": "code",
   "execution_count": 57,
   "outputs": [
    {
     "data": {
      "text/plain": "<qiskit.circuit.instructionset.InstructionSet at 0x7fcf61c54d90>"
     },
     "execution_count": 57,
     "metadata": {},
     "output_type": "execute_result"
    }
   ],
   "source": [
    "larger_qc.append(rc, qr[:2])"
   ],
   "metadata": {
    "collapsed": false
   }
  },
  {
   "cell_type": "code",
   "execution_count": 58,
   "outputs": [
    {
     "data": {
      "text/plain": "      ┌──────────────┐\nq5_0: ┤0             ├\n      │  circuit-125 │\nq5_1: ┤1             ├\n      └──────────────┘\nq5_2: ────────────────\n                      \nq5_3: ────────────────\n                      \nq5_4: ────────────────\n                      ",
      "text/html": "<pre style=\"word-wrap: normal;white-space: pre;background: #fff0;line-height: 1.1;font-family: &quot;Courier New&quot;,Courier,monospace\">      ┌──────────────┐\nq5_0: ┤0             ├\n      │  circuit-125 │\nq5_1: ┤1             ├\n      └──────────────┘\nq5_2: ────────────────\n                      \nq5_3: ────────────────\n                      \nq5_4: ────────────────\n                      </pre>"
     },
     "execution_count": 58,
     "metadata": {},
     "output_type": "execute_result"
    }
   ],
   "source": [
    "larger_qc.draw()"
   ],
   "metadata": {
    "collapsed": false
   }
  },
  {
   "cell_type": "code",
   "execution_count": 59,
   "outputs": [],
   "source": [
    "rc2 = random_circuit(2, 4, 2, measure=True)"
   ],
   "metadata": {
    "collapsed": false
   }
  },
  {
   "cell_type": "code",
   "execution_count": 63,
   "outputs": [],
   "source": [
    "rc = rc.compose(rc2)"
   ],
   "metadata": {
    "collapsed": false
   }
  },
  {
   "cell_type": "code",
   "execution_count": 64,
   "outputs": [
    {
     "data": {
      "text/plain": "                   ┌────────────────────────┐┌──────────────────────────┐┌────────────┐┌─┐┌───────────┐┌──────────────────────────┐     ┌──────┐    ┌────┐    ┌─┐   \nq_0: ─■────────────┤1                       ├┤ U3(1.3405,4.6647,2.6013) ├┤ Rx(3.8721) ├┤M├┤ P(2.3801) ├┤ U3(0.71851,4.2325,6.022) ├─────┤1     ├────┤ √X ├────┤M├───\n      │U1(0.92579) │  {XX-YY}(5.4309,4.269) │├──────────────────────────┤├────────────┤└╥┘└────┬─┬────┘└──────────┬───┬───────────┘┌───┐│  Dcx │┌───┴────┴───┐└╥┘┌─┐\nq_1: ─■────────────┤0                       ├┤ U3(3.5748,1.1242,5.0772) ├┤ Ry(2.6901) ├─╫──────┤M├────────────────┤ T ├────────────┤ Y ├┤0     ├┤ Rx(6.2509) ├─╫─┤M├\n                   └────────────────────────┘└──────────────────────────┘└────────────┘ ║      └╥┘                └───┘            └───┘└──────┘└────────────┘ ║ └╥┘\nc: 2/═══════════════════════════════════════════════════════════════════════════════════╩═══════╩══════════════════════════════════════════════════════════════╩══╩═\n                                                                                        0       1                                                              0  1 ",
      "text/html": "<pre style=\"word-wrap: normal;white-space: pre;background: #fff0;line-height: 1.1;font-family: &quot;Courier New&quot;,Courier,monospace\">                   ┌────────────────────────┐┌──────────────────────────┐┌────────────┐┌─┐┌───────────┐┌──────────────────────────┐     ┌──────┐    ┌────┐    ┌─┐   \nq_0: ─■────────────┤1                       ├┤ U3(1.3405,4.6647,2.6013) ├┤ Rx(3.8721) ├┤M├┤ P(2.3801) ├┤ U3(0.71851,4.2325,6.022) ├─────┤1     ├────┤ √X ├────┤M├───\n      │U1(0.92579) │  {XX-YY}(5.4309,4.269) │├──────────────────────────┤├────────────┤└╥┘└────┬─┬────┘└──────────┬───┬───────────┘┌───┐│  Dcx │┌───┴────┴───┐└╥┘┌─┐\nq_1: ─■────────────┤0                       ├┤ U3(3.5748,1.1242,5.0772) ├┤ Ry(2.6901) ├─╫──────┤M├────────────────┤ T ├────────────┤ Y ├┤0     ├┤ Rx(6.2509) ├─╫─┤M├\n                   └────────────────────────┘└──────────────────────────┘└────────────┘ ║      └╥┘                └───┘            └───┘└──────┘└────────────┘ ║ └╥┘\nc: 2/═══════════════════════════════════════════════════════════════════════════════════╩═══════╩══════════════════════════════════════════════════════════════╩══╩═\n                                                                                        0       1                                                              0  1 </pre>"
     },
     "execution_count": 64,
     "metadata": {},
     "output_type": "execute_result"
    }
   ],
   "source": [
    "rc.draw(fold=-1)"
   ],
   "metadata": {
    "collapsed": false
   }
  },
  {
   "cell_type": "code",
   "execution_count": 89,
   "outputs": [
    {
     "data": {
      "text/plain": "                                  ┌───┐                                 ┌──────────────┐     ┌────────────┐                                                         ┌─┐      \nq73_0: ───────────────────────────┤ Y ├─────────────■───────────────────┤1             ├─────┤ Ry(0.6873) ├────────────────────────────────────────────■────────────┤M├──────\n       ┌─────────────────────────┐└─┬─┘┌────────────┴────────────┐┌────┐│              │     └────────────┘                                            │P(6.2509)   └╥┘┌─┐   \nq73_1: ┤ U(2.8378,1.9192,5.1095) ├──┼──┤ U3(2.302,3.8921,3.1311) ├┤ √X ├┤              ├──────────────────────────■─────────────────────────────■──────■─────────────╫─┤M├───\n       └─────────────────────────┘  │  └─────────────────────────┘└────┘│              │                          │                             │                    ║ └╥┘   \nq73_2: ─────────────────────────────┼───────────────────────────────────┤  Ryy(3.3692) ├──────────────────────────┼─────────────────────────────┼────────────────────╫──╫────\n                                    │                                   │              │                          │                             │                    ║  ║    \nq73_3: ─────────────────────────────┼───────────────────────────────────┤              ├──────────────────────────┼─────────────────────────────┼────────────────────╫──╫────\n                                    │            ┌──────┐               │              │┌──────────────────────┐┌─┴─┐┌───────────────────────┐┌─┴─┐┌───────────────┐ ║  ║ ┌─┐\nq73_4: ─────────────────────────────■────────────┤ √Xdg ├───────────────┤0             ├┤ Ry(1.13582778076033) ├┤ X ├┤ Ry(-1.13582778076032) ├┤ X ├┤ Rx(0.0041606) ├─╫──╫─┤M├\n                                                 └──────┘               └──────────────┘└──────────────────────┘└───┘└───────────────────────┘└───┘└───────────────┘ ║  ║ └╥┘\n c4: 3/══════════════════════════════════════════════════════════════════════════════════════════════════════════════════════════════════════════════════════════════╩══╩══╩═\n                                                                                                                                                                     0  1  2 ",
      "text/html": "<pre style=\"word-wrap: normal;white-space: pre;background: #fff0;line-height: 1.1;font-family: &quot;Courier New&quot;,Courier,monospace\">                                  ┌───┐                                 ┌──────────────┐     ┌────────────┐                                                         ┌─┐      \nq73_0: ───────────────────────────┤ Y ├─────────────■───────────────────┤1             ├─────┤ Ry(0.6873) ├────────────────────────────────────────────■────────────┤M├──────\n       ┌─────────────────────────┐└─┬─┘┌────────────┴────────────┐┌────┐│              │     └────────────┘                                            │P(6.2509)   └╥┘┌─┐   \nq73_1: ┤ U(2.8378,1.9192,5.1095) ├──┼──┤ U3(2.302,3.8921,3.1311) ├┤ √X ├┤              ├──────────────────────────■─────────────────────────────■──────■─────────────╫─┤M├───\n       └─────────────────────────┘  │  └─────────────────────────┘└────┘│              │                          │                             │                    ║ └╥┘   \nq73_2: ─────────────────────────────┼───────────────────────────────────┤  Ryy(3.3692) ├──────────────────────────┼─────────────────────────────┼────────────────────╫──╫────\n                                    │                                   │              │                          │                             │                    ║  ║    \nq73_3: ─────────────────────────────┼───────────────────────────────────┤              ├──────────────────────────┼─────────────────────────────┼────────────────────╫──╫────\n                                    │            ┌──────┐               │              │┌──────────────────────┐┌─┴─┐┌───────────────────────┐┌─┴─┐┌───────────────┐ ║  ║ ┌─┐\nq73_4: ─────────────────────────────■────────────┤ √Xdg ├───────────────┤0             ├┤ Ry(1.13582778076033) ├┤ X ├┤ Ry(-1.13582778076032) ├┤ X ├┤ Rx(0.0041606) ├─╫──╫─┤M├\n                                                 └──────┘               └──────────────┘└──────────────────────┘└───┘└───────────────────────┘└───┘└───────────────┘ ║  ║ └╥┘\n c4: 3/══════════════════════════════════════════════════════════════════════════════════════════════════════════════════════════════════════════════════════════════╩══╩══╩═\n                                                                                                                                                                     0  1  2 </pre>"
     },
     "execution_count": 89,
     "metadata": {},
     "output_type": "execute_result"
    }
   ],
   "source": [
    "def construct_tiling_rc(qbs_with_gates, num_qubit, depth):\n",
    "    assert len(qbs_with_gates) <= num_qubit\n",
    "    rc = random_circuit(len(qbs_with_gates), depth, 2, measure=False)\n",
    "    cr = ClassicalRegister(len(qbs_with_gates))\n",
    "    qr = QuantumRegister(num_qubit)\n",
    "    qc = QuantumCircuit(qr, cr)\n",
    "    qc.append(rc, [qr[i] for i in qbs_with_gates])\n",
    "    qc.measure(qbs_with_gates, cr)\n",
    "    return qc\n",
    "\n",
    "transpile(construct_tiling_rc([0, 1, 4], 5, 5), backend=backend_ideal).draw(fold=-1)"
   ],
   "metadata": {
    "collapsed": false
   }
  },
  {
   "cell_type": "code",
   "execution_count": 76,
   "outputs": [
    {
     "ename": "TypeError",
     "evalue": "'NoneType' object is not iterable",
     "output_type": "error",
     "traceback": [
      "\u001B[0;31m---------------------------------------------------------------------------\u001B[0m",
      "\u001B[0;31mTypeError\u001B[0m                                 Traceback (most recent call last)",
      "Input \u001B[0;32mIn [76]\u001B[0m, in \u001B[0;36m<cell line: 1>\u001B[0;34m()\u001B[0m\n\u001B[0;32m----> 1\u001B[0m \u001B[43mconstruct_tiling_rc\u001B[49m\u001B[43m(\u001B[49m\u001B[43m[\u001B[49m\u001B[38;5;241;43m0\u001B[39;49m\u001B[43m,\u001B[49m\u001B[43m \u001B[49m\u001B[38;5;241;43m1\u001B[39;49m\u001B[43m,\u001B[49m\u001B[43m \u001B[49m\u001B[38;5;241;43m2\u001B[39;49m\u001B[43m]\u001B[49m\u001B[43m,\u001B[49m\u001B[43m \u001B[49m\u001B[43m[\u001B[49m\u001B[38;5;241;43m3\u001B[39;49m\u001B[43m,\u001B[49m\u001B[43m \u001B[49m\u001B[38;5;241;43m4\u001B[39;49m\u001B[43m]\u001B[49m\u001B[43m,\u001B[49m\u001B[43m \u001B[49m\u001B[38;5;241;43m5\u001B[39;49m\u001B[43m,\u001B[49m\u001B[43m \u001B[49m\u001B[38;5;241;43m5\u001B[39;49m\u001B[43m)\u001B[49m\u001B[38;5;241m.\u001B[39mdraw(fold\u001B[38;5;241m=\u001B[39m\u001B[38;5;241m-\u001B[39m\u001B[38;5;241m1\u001B[39m)\n",
      "Input \u001B[0;32mIn [75]\u001B[0m, in \u001B[0;36mconstruct_tiling_rc\u001B[0;34m(qbs_with_gates, qbs_without_gates, num_qubit, depth)\u001B[0m\n\u001B[1;32m      1\u001B[0m \u001B[38;5;28;01mdef\u001B[39;00m \u001B[38;5;21mconstruct_tiling_rc\u001B[39m(qbs_with_gates, qbs_without_gates, num_qubit, depth):\n\u001B[0;32m----> 2\u001B[0m     \u001B[38;5;28;01massert\u001B[39;00m \u001B[38;5;28mlen\u001B[39m(\u001B[38;5;28;43mset\u001B[39;49m\u001B[43m(\u001B[49m\u001B[43mqbs_with_gates\u001B[49m\u001B[38;5;241;43m.\u001B[39;49m\u001B[43mextend\u001B[49m\u001B[43m(\u001B[49m\u001B[43mqbs_without_gates\u001B[49m\u001B[43m)\u001B[49m\u001B[43m)\u001B[49m) \u001B[38;5;241m==\u001B[39m num_qubit\n\u001B[1;32m      3\u001B[0m     rc \u001B[38;5;241m=\u001B[39m random_circuit(\u001B[38;5;28mlen\u001B[39m(qbs_with_gates), depth, \u001B[38;5;241m2\u001B[39m, measure\u001B[38;5;241m=\u001B[39m\u001B[38;5;28;01mFalse\u001B[39;00m)\n\u001B[1;32m      4\u001B[0m     qr \u001B[38;5;241m=\u001B[39m QuantumRegister(num_qubit)\n",
      "\u001B[0;31mTypeError\u001B[0m: 'NoneType' object is not iterable"
     ]
    }
   ],
   "source": [],
   "metadata": {
    "collapsed": false
   }
  },
  {
   "cell_type": "code",
   "execution_count": null,
   "outputs": [],
   "source": [],
   "metadata": {
    "collapsed": false
   }
  }
 ],
 "metadata": {
  "kernelspec": {
   "display_name": "Python 3",
   "language": "python",
   "name": "python3"
  },
  "language_info": {
   "codemirror_mode": {
    "name": "ipython",
    "version": 2
   },
   "file_extension": ".py",
   "mimetype": "text/x-python",
   "name": "python",
   "nbconvert_exporter": "python",
   "pygments_lexer": "ipython2",
   "version": "2.7.6"
  }
 },
 "nbformat": 4,
 "nbformat_minor": 0
}
