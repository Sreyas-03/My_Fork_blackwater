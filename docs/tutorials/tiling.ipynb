{
 "cells": [
  {
   "cell_type": "code",
   "execution_count": 44,
   "metadata": {
    "collapsed": true
   },
   "outputs": [],
   "source": [
    "import json\n",
    "import glob\n",
    "\n",
    "import numpy as np\n",
    "import pandas as pd\n",
    "\n",
    "from qiskit import transpile\n",
    "from qiskit import execute, QuantumRegister, ClassicalRegister, Aer\n",
    "from qiskit.providers.fake_provider import FakeLima\n",
    "from qiskit.primitives import Estimator\n",
    "from qiskit.circuit.random import random_circuit\n",
    "\n",
    "import torch\n",
    "from torch.optim import Adam\n",
    "from torch.optim.lr_scheduler import ReduceLROnPlateau\n",
    "from torch.nn.functional import dropout\n",
    "\n",
    "from torch_geometric.nn import GCNConv, global_mean_pool, Linear, ChebConv, SAGEConv\n",
    "from torch_geometric.data import Data\n",
    "from torch_geometric.loader import DataLoader\n",
    "\n",
    "from tqdm.notebook import tqdm_notebook\n",
    "import matplotlib.pyplot as plt\n",
    "import seaborn as sns\n",
    "\n",
    "from blackwater.data.loaders.exp_val import CircuitGraphExpValMitigationDataset\n",
    "from blackwater.data.generators.exp_val import exp_value_generator\n",
    "from blackwater.data.utils import generate_random_pauli_sum_op\n",
    "from blackwater.library.ngem.estimator import ngem\n",
    "\n",
    "from qiskit.quantum_info import random_clifford\n",
    "\n",
    "import random\n",
    "from qiskit.circuit.library import HGate, SdgGate\n",
    "from qiskit.circuit import ClassicalRegister\n",
    "\n",
    "from blackwater.data.utils import (\n",
    "    generate_random_pauli_sum_op,\n",
    "    create_estimator_meas_data,\n",
    "    circuit_to_graph_data_json,\n",
    "    get_backend_properties_v1,\n",
    "    encode_pauli_sum_op,\n",
    "    create_meas_data_from_estimators\n",
    ")\n",
    "from blackwater.data.generators.exp_val import ExpValueEntry\n",
    "from blackwater.metrics.improvement_factor import improvement_factor, Trial, Problem\n",
    "\n",
    "from qiskit_aer import AerSimulator, QasmSimulator\n",
    "from qiskit.providers.fake_provider import FakeMontreal, FakeLima\n",
    "\n",
    "from torch_geometric.nn import (\n",
    "    GCNConv,\n",
    "    TransformerConv,\n",
    "    GATv2Conv,\n",
    "    global_mean_pool,\n",
    "    Linear,\n",
    "    ChebConv,\n",
    "    SAGEConv,\n",
    "    ASAPooling,\n",
    "    dense_diff_pool,\n",
    "    avg_pool_neighbor_x\n",
    ")\n",
    "from torch_geometric.data import Data\n",
    "from torch_geometric.loader import DataLoader\n",
    "from torch_geometric.utils import to_dense_adj, to_dense_batch\n",
    "\n",
    "from qiskit import QuantumCircuit\n",
    "from qiskit.circuit.library import U3Gate, CZGate, PhaseGate, CXGate\n",
    "from mbd_utils import construct_random_clifford, cal_z_exp, calc_imbalance, cal_all_z_exp, construct_mbl_circuit, generate_disorder\n",
    "from gnn import ExpValCircuitGraphModel"
   ]
  },
  {
   "cell_type": "code",
   "execution_count": 17,
   "outputs": [],
   "source": [
    "backend = FakeMontreal()\n",
    "properties = get_backend_properties_v1(backend)\n",
    "\n",
    "## Local\n",
    "backend_ideal = QasmSimulator() # Noiseless\n",
    "backend_noisy = AerSimulator.from_backend(FakeMontreal()) # Noisy\n",
    "\n",
    "run_config_ideal = {'shots': 10000, 'backend': backend_ideal, 'name': 'ideal'}\n",
    "run_config_noisy = {'shots': 10000, 'backend': backend_noisy, 'name': 'noisy'}"
   ],
   "metadata": {
    "collapsed": false
   }
  },
  {
   "cell_type": "code",
   "execution_count": 78,
   "outputs": [],
   "source": [
    "def construct_tiling(circ_to_append, qbs_with_gates, num_qubit):\n",
    "    assert len(qbs_with_gates) <= num_qubit\n",
    "    idle_ind = list(set(range(num_qubit)) - set(qbs_with_gates))\n",
    "    qr = QuantumRegister(num_qubit)\n",
    "    cr = ClassicalRegister(num_qubit)\n",
    "    qc = QuantumCircuit(qr, cr)\n",
    "    qc.append(circ_to_append, qbs_with_gates, qbs_with_gates)\n",
    "    qc.measure(idle_ind, idle_ind)\n",
    "    return qc"
   ],
   "metadata": {
    "collapsed": false
   }
  },
  {
   "cell_type": "code",
   "execution_count": 79,
   "outputs": [
    {
     "data": {
      "text/plain": "        ┌───────────────┐      \nq274_0: ┤0              ├──────\n        │               │      \nq274_1: ┤1              ├──────\n        │               │      \nq274_2: ┤2              ├──────\n        │               │┌─┐   \nq274_3: ┤               ├┤M├───\n        │  circuit-7225 │└╥┘┌─┐\nq274_4: ┤               ├─╫─┤M├\n        │               │ ║ └╥┘\n c20_0: ╡0              ╞═╬══╬═\n        │               │ ║  ║ \n c20_1: ╡1              ╞═╬══╬═\n        │               │ ║  ║ \n c20_2: ╡2              ╞═╬══╬═\n        └───────────────┘ ║  ║ \n c20_3: ══════════════════╩══╬═\n                             ║ \n c20_4: ═════════════════════╩═\n                               ",
      "text/html": "<pre style=\"word-wrap: normal;white-space: pre;background: #fff0;line-height: 1.1;font-family: &quot;Courier New&quot;,Courier,monospace\">        ┌───────────────┐      \nq274_0: ┤0              ├──────\n        │               │      \nq274_1: ┤1              ├──────\n        │               │      \nq274_2: ┤2              ├──────\n        │               │┌─┐   \nq274_3: ┤               ├┤M├───\n        │  circuit-7225 │└╥┘┌─┐\nq274_4: ┤               ├─╫─┤M├\n        │               │ ║ └╥┘\n c20_0: ╡0              ╞═╬══╬═\n        │               │ ║  ║ \n c20_1: ╡1              ╞═╬══╬═\n        │               │ ║  ║ \n c20_2: ╡2              ╞═╬══╬═\n        └───────────────┘ ║  ║ \n c20_3: ══════════════════╩══╬═\n                             ║ \n c20_4: ═════════════════════╩═\n                               </pre>"
     },
     "execution_count": 79,
     "metadata": {},
     "output_type": "execute_result"
    }
   ],
   "source": [
    "qbs_with_gates = [0, 1, 2]\n",
    "num_qubit = 5\n",
    "circ_to_append = random_circuit(len(qbs_with_gates), 10, 2, measure=True)\n",
    "qc = construct_tiling(circ_to_append, qbs_with_gates, num_qubit)\n",
    "qc.draw(fold=-1)"
   ],
   "metadata": {
    "collapsed": false
   }
  },
  {
   "cell_type": "code",
   "execution_count": 80,
   "outputs": [
    {
     "data": {
      "text/plain": "global phase: 0.0010294\n                                                                                                                                                                                                                                                                                                                                                                                                                     ░          ┌─┐   \n q274_3 -> 4 ────────────────────────────────────────────────────────────────────────────────────────────────────────────────────────────────────────────────────────────────────────────────────────────────────────────────────────────────────────────────────────────────────────────────────────────────────────────────────────────────────────────────────────────────────────────────────────────────────────░──────────┤M├───\n             ┌─────────┐ ┌────┐  ┌────────────┐ ┌────┐  ┌─────────┐                  ┌───┐          ┌─────────────┐┌────┐┌──────────────┐┌────┐┌─────────────┐                                                                                                           ┌───┐          ┌─────────────┐ ┌────┐┌─────────────┐┌────┐     ┌─────────────┐     ┌───┐┌────────────────────────┐┌───┐┌───┐ ┌────────────┐ ░       ┌─┐└╥┘   \nq274_2 -> 11 ┤ Rz(π/2) ├─┤ √X ├──┤ Rz(-2.213) ├─┤ √X ├──┤ Rz(π/4) ├──────────■───────┤ X ├───────■──┤ Rz(-2.1658) ├┤ √X ├┤ Rz(-0.12806) ├┤ √X ├┤ Rz(-2.4539) ├────────────────────────────────────────────────────────────────────────────────────────────────────■──────┤ X ├───────■──┤ Rz(-1.1843) ├─┤ √X ├┤ Rz(-3.0135) ├┤ √X ├─────┤ Rz(-1.4723) ├─────┤ X ├┤ Rz(-0.147204651905835) ├┤ X ├┤ X ├─┤ Rz(2.9944) ├─░───────┤M├─╫────\n             └─────────┘ └────┘┌─┴────────────┴┐├────┤┌─┴─────────┴─┐┌────┐  │  ┌────┴───┴────┐  │  └─────────────┘└────┘└──────────────┘└────┘└─────────────┘    ┌────┐    ┌──────────────┐┌────┐     ┌─────────────┐┌────┐ ┌────────────┐┌────┐┌─────────────┐  │      └───┘       │  └─────────────┘ ├───┬┘└─────────────┘├───┬┘     └─────────────┘     └─┬─┘└────────────────────────┘└─┬─┘└───┘ └────────────┘ ░ ┌─┐   └╥┘ ║    \nq274_1 -> 13 ──────────────■───┤ Rz(-0.022434) ├┤ √X ├┤ Rz(-2.3962) ├┤ √X ├──┼──┤ Rz(-3.1393) ├──┼────────────────────────────────────────────────────■───────────┤ √X ├────┤ Rz(-0.74313) ├┤ √X ├──■──┤ Rz(-3.0144) ├┤ √X ├─┤ Rz(-1.579) ├┤ √X ├┤ Rz(-1.5066) ├──┼──────────────────┼──────────────────┤ X ├────────■───────┤ X ├────────────────────────────┼──────────────────────────────┼───────────────────────░─┤M├────╫──╫────\n             ┌──────────┐┌─┴─┐ └───┬────────┬──┘└────┘└─────────────┘└────┘┌─┴─┐└┬────────────┤┌─┴─┐ ┌────────────┐┌────┐┌─────────────┐ ┌────┐     ┌─┴─┐     ┌───┴────┴───┐└──────────────┘└────┘┌─┴─┐├─────────────┤├────┤┌┴────────────┤├────┤└┬────────────┤┌─┴─┐┌────────────┐┌─┴─┐┌──────────────┐└─┬─┘      ┌─┴─┐     └─┬─┘ ┌───────────────────────┐  │                              │  ┌────┐               ░ └╥┘┌─┐ ║  ║    \nq274_0 -> 14 ┤ Rz(-π/2) ├┤ X ├─────┤ Rz(-π) ├──────────────────────────────┤ X ├─┤ Rz(1.0743) ├┤ X ├─┤ Rz(1.4124) ├┤ √X ├┤ Rz(-1.4754) ├─┤ √X ├─────┤ X ├─────┤ Rz(1.5469) ├──────────────────────┤ X ├┤ Rz(-1.5947) ├┤ √X ├┤ Rz(-1.5006) ├┤ √X ├─┤ Rz(1.7228) ├┤ X ├┤ Rz(1.2696) ├┤ X ├┤ Rz(-0.78725) ├──■────────┤ X ├───────■───┤ Rz(0.147204651905835) ├──■──────────────────────────────■──┤ √X ├───────────────░──╫─┤M├─╫──╫────\n             └──────────┘└───┘     └────────┘                              └───┘ └────────────┘└───┘ └────────────┘└────┘└─────────────┘ └────┘     └───┘     └────────────┘                      └───┘└─────────────┘└────┘└─────────────┘└────┘ └────────────┘└───┘└────────────┘└───┘└──────────────┘           └───┘           └───────────────────────┘                                    └────┘               ░  ║ └╥┘ ║  ║ ┌─┐\nq274_4 -> 25 ────────────────────────────────────────────────────────────────────────────────────────────────────────────────────────────────────────────────────────────────────────────────────────────────────────────────────────────────────────────────────────────────────────────────────────────────────────────────────────────────────────────────────────────────────────────────────────────────────────░──╫──╫──╫──╫─┤M├\n                                                                                                                                                                                                                                                                                                                                                                                                                     ░  ║  ║  ║  ║ └╥┘\n      c20: 5/═══════════════════════════════════════════════════════════════════════════════════════════════════════════════════════════════════════════════════════════════════════════════════════════════════════════════════════════════════════════════════════════════════════════════════════════════════════════════════════════════════════════════════════════════════════════════════════════════════════════╩══╩══╩══╩══╩═\n                                                                                                                                                                                                                                                                                                                                                                                                                        0  1  2  3  4 ",
      "text/html": "<pre style=\"word-wrap: normal;white-space: pre;background: #fff0;line-height: 1.1;font-family: &quot;Courier New&quot;,Courier,monospace\">global phase: 0.0010294\n                                                                                                                                                                                                                                                                                                                                                                                                                     ░          ┌─┐   \n q274_3 -> 4 ────────────────────────────────────────────────────────────────────────────────────────────────────────────────────────────────────────────────────────────────────────────────────────────────────────────────────────────────────────────────────────────────────────────────────────────────────────────────────────────────────────────────────────────────────────────────────────────────────────░──────────┤M├───\n             ┌─────────┐ ┌────┐  ┌────────────┐ ┌────┐  ┌─────────┐                  ┌───┐          ┌─────────────┐┌────┐┌──────────────┐┌────┐┌─────────────┐                                                                                                           ┌───┐          ┌─────────────┐ ┌────┐┌─────────────┐┌────┐     ┌─────────────┐     ┌───┐┌────────────────────────┐┌───┐┌───┐ ┌────────────┐ ░       ┌─┐└╥┘   \nq274_2 -> 11 ┤ Rz(π/2) ├─┤ √X ├──┤ Rz(-2.213) ├─┤ √X ├──┤ Rz(π/4) ├──────────■───────┤ X ├───────■──┤ Rz(-2.1658) ├┤ √X ├┤ Rz(-0.12806) ├┤ √X ├┤ Rz(-2.4539) ├────────────────────────────────────────────────────────────────────────────────────────────────────■──────┤ X ├───────■──┤ Rz(-1.1843) ├─┤ √X ├┤ Rz(-3.0135) ├┤ √X ├─────┤ Rz(-1.4723) ├─────┤ X ├┤ Rz(-0.147204651905835) ├┤ X ├┤ X ├─┤ Rz(2.9944) ├─░───────┤M├─╫────\n             └─────────┘ └────┘┌─┴────────────┴┐├────┤┌─┴─────────┴─┐┌────┐  │  ┌────┴───┴────┐  │  └─────────────┘└────┘└──────────────┘└────┘└─────────────┘    ┌────┐    ┌──────────────┐┌────┐     ┌─────────────┐┌────┐ ┌────────────┐┌────┐┌─────────────┐  │      └───┘       │  └─────────────┘ ├───┬┘└─────────────┘├───┬┘     └─────────────┘     └─┬─┘└────────────────────────┘└─┬─┘└───┘ └────────────┘ ░ ┌─┐   └╥┘ ║    \nq274_1 -> 13 ──────────────■───┤ Rz(-0.022434) ├┤ √X ├┤ Rz(-2.3962) ├┤ √X ├──┼──┤ Rz(-3.1393) ├──┼────────────────────────────────────────────────────■───────────┤ √X ├────┤ Rz(-0.74313) ├┤ √X ├──■──┤ Rz(-3.0144) ├┤ √X ├─┤ Rz(-1.579) ├┤ √X ├┤ Rz(-1.5066) ├──┼──────────────────┼──────────────────┤ X ├────────■───────┤ X ├────────────────────────────┼──────────────────────────────┼───────────────────────░─┤M├────╫──╫────\n             ┌──────────┐┌─┴─┐ └───┬────────┬──┘└────┘└─────────────┘└────┘┌─┴─┐└┬────────────┤┌─┴─┐ ┌────────────┐┌────┐┌─────────────┐ ┌────┐     ┌─┴─┐     ┌───┴────┴───┐└──────────────┘└────┘┌─┴─┐├─────────────┤├────┤┌┴────────────┤├────┤└┬────────────┤┌─┴─┐┌────────────┐┌─┴─┐┌──────────────┐└─┬─┘      ┌─┴─┐     └─┬─┘ ┌───────────────────────┐  │                              │  ┌────┐               ░ └╥┘┌─┐ ║  ║    \nq274_0 -> 14 ┤ Rz(-π/2) ├┤ X ├─────┤ Rz(-π) ├──────────────────────────────┤ X ├─┤ Rz(1.0743) ├┤ X ├─┤ Rz(1.4124) ├┤ √X ├┤ Rz(-1.4754) ├─┤ √X ├─────┤ X ├─────┤ Rz(1.5469) ├──────────────────────┤ X ├┤ Rz(-1.5947) ├┤ √X ├┤ Rz(-1.5006) ├┤ √X ├─┤ Rz(1.7228) ├┤ X ├┤ Rz(1.2696) ├┤ X ├┤ Rz(-0.78725) ├──■────────┤ X ├───────■───┤ Rz(0.147204651905835) ├──■──────────────────────────────■──┤ √X ├───────────────░──╫─┤M├─╫──╫────\n             └──────────┘└───┘     └────────┘                              └───┘ └────────────┘└───┘ └────────────┘└────┘└─────────────┘ └────┘     └───┘     └────────────┘                      └───┘└─────────────┘└────┘└─────────────┘└────┘ └────────────┘└───┘└────────────┘└───┘└──────────────┘           └───┘           └───────────────────────┘                                    └────┘               ░  ║ └╥┘ ║  ║ ┌─┐\nq274_4 -> 25 ────────────────────────────────────────────────────────────────────────────────────────────────────────────────────────────────────────────────────────────────────────────────────────────────────────────────────────────────────────────────────────────────────────────────────────────────────────────────────────────────────────────────────────────────────────────────────────────────────────░──╫──╫──╫──╫─┤M├\n                                                                                                                                                                                                                                                                                                                                                                                                                     ░  ║  ║  ║  ║ └╥┘\n      c20: 5/═══════════════════════════════════════════════════════════════════════════════════════════════════════════════════════════════════════════════════════════════════════════════════════════════════════════════════════════════════════════════════════════════════════════════════════════════════════════════════════════════════════════════════════════════════════════════════════════════════════════╩══╩══╩══╩══╩═\n                                                                                                                                                                                                                                                                                                                                                                                                                        0  1  2  3  4 </pre>"
     },
     "execution_count": 80,
     "metadata": {},
     "output_type": "execute_result"
    }
   ],
   "source": [
    "qc = transpile(qc, backend=backend_noisy, optimization_level=3)\n",
    "qc.draw(fold=-1, idle_wires=False)"
   ],
   "metadata": {
    "collapsed": false
   }
  },
  {
   "cell_type": "markdown",
   "source": [],
   "metadata": {
    "collapsed": false
   }
  },
  {
   "cell_type": "markdown",
   "source": [
    "# Tiling"
   ],
   "metadata": {
    "collapsed": false
   }
  },
  {
   "cell_type": "code",
   "execution_count": 18,
   "outputs": [],
   "source": [
    "def construct_mbl_tiling_circuit(qbs_with_gates, total_circuit_size):\n",
    "    num_spins = 4 # Number of spins. Must be even.\n",
    "    assert num_spins <= total_circuit_size\n",
    "    W = 0.8 * np.pi # Disorder strength up to np.pi\n",
    "    theta = 0.05 * np.pi # Interaction strength up to np.pi\n",
    "    steps = 6\n",
    "\n",
    "    disorders = generate_disorder(num_spins, W, seed=0)\n",
    "    random_mbl_circuit = construct_mbl_circuit(num_spins, disorders, theta, steps)\n",
    "    qc = construct_tiling(random_mbl_circuit, qbs_with_gates, total_circuit_size)\n",
    "    return qc, random_mbl_circuit"
   ],
   "metadata": {
    "collapsed": false
   }
  },
  {
   "cell_type": "code",
   "execution_count": 19,
   "outputs": [
    {
     "data": {
      "text/plain": "        ┌───────────────┐ ░ ┌─┐                     \n q54_0: ┤0              ├─░─┤M├─────────────────────\n        │               │ ░ └╥┘┌─┐                  \n q54_1: ┤1              ├─░──╫─┤M├──────────────────\n        │  circuit-6015 │ ░  ║ └╥┘┌─┐               \n q54_2: ┤2              ├─░──╫──╫─┤M├───────────────\n        │               │ ░  ║  ║ └╥┘┌─┐            \n q54_3: ┤3              ├─░──╫──╫──╫─┤M├────────────\n        └───────────────┘ ░  ║  ║  ║ └╥┘┌─┐         \n q54_4: ──────────────────░──╫──╫──╫──╫─┤M├─────────\n                          ░  ║  ║  ║  ║ └╥┘┌─┐      \n q54_5: ──────────────────░──╫──╫──╫──╫──╫─┤M├──────\n                          ░  ║  ║  ║  ║  ║ └╥┘┌─┐   \n q54_6: ──────────────────░──╫──╫──╫──╫──╫──╫─┤M├───\n                          ░  ║  ║  ║  ║  ║  ║ └╥┘┌─┐\n q54_7: ──────────────────░──╫──╫──╫──╫──╫──╫──╫─┤M├\n                          ░  ║  ║  ║  ║  ║  ║  ║ └╥┘\nmeas: 8/═════════════════════╩══╩══╩══╩══╩══╩══╩══╩═\n                             0  1  2  3  4  5  6  7 ",
      "text/html": "<pre style=\"word-wrap: normal;white-space: pre;background: #fff0;line-height: 1.1;font-family: &quot;Courier New&quot;,Courier,monospace\">        ┌───────────────┐ ░ ┌─┐                     \n q54_0: ┤0              ├─░─┤M├─────────────────────\n        │               │ ░ └╥┘┌─┐                  \n q54_1: ┤1              ├─░──╫─┤M├──────────────────\n        │  circuit-6015 │ ░  ║ └╥┘┌─┐               \n q54_2: ┤2              ├─░──╫──╫─┤M├───────────────\n        │               │ ░  ║  ║ └╥┘┌─┐            \n q54_3: ┤3              ├─░──╫──╫──╫─┤M├────────────\n        └───────────────┘ ░  ║  ║  ║ └╥┘┌─┐         \n q54_4: ──────────────────░──╫──╫──╫──╫─┤M├─────────\n                          ░  ║  ║  ║  ║ └╥┘┌─┐      \n q54_5: ──────────────────░──╫──╫──╫──╫──╫─┤M├──────\n                          ░  ║  ║  ║  ║  ║ └╥┘┌─┐   \n q54_6: ──────────────────░──╫──╫──╫──╫──╫──╫─┤M├───\n                          ░  ║  ║  ║  ║  ║  ║ └╥┘┌─┐\n q54_7: ──────────────────░──╫──╫──╫──╫──╫──╫──╫─┤M├\n                          ░  ║  ║  ║  ║  ║  ║  ║ └╥┘\nmeas: 8/═════════════════════╩══╩══╩══╩══╩══╩══╩══╩═\n                             0  1  2  3  4  5  6  7 </pre>"
     },
     "execution_count": 19,
     "metadata": {},
     "output_type": "execute_result"
    }
   ],
   "source": [
    "qc, random_mbl_circuit = construct_mbl_tiling_circuit([0, 1, 2, 3], 8)\n",
    "qc.draw(fold=-1)"
   ],
   "metadata": {
    "collapsed": false
   }
  },
  {
   "cell_type": "code",
   "execution_count": 20,
   "outputs": [
    {
     "ename": "DAGCircuitError",
     "evalue": "'bit mapping invalid: expected 4, got 8'",
     "output_type": "error",
     "traceback": [
      "\u001B[0;31m---------------------------------------------------------------------------\u001B[0m",
      "\u001B[0;31mDAGCircuitError\u001B[0m                           Traceback (most recent call last)",
      "Input \u001B[0;32mIn [20]\u001B[0m, in \u001B[0;36m<cell line: 1>\u001B[0;34m()\u001B[0m\n\u001B[0;32m----> 1\u001B[0m \u001B[43mtranspile\u001B[49m\u001B[43m(\u001B[49m\u001B[43mqc\u001B[49m\u001B[43m,\u001B[49m\u001B[43m \u001B[49m\u001B[43mbackend\u001B[49m\u001B[38;5;241;43m=\u001B[39;49m\u001B[43mbackend_noisy\u001B[49m\u001B[43m,\u001B[49m\u001B[43m \u001B[49m\u001B[43moptimization_level\u001B[49m\u001B[38;5;241;43m=\u001B[39;49m\u001B[38;5;241;43m3\u001B[39;49m\u001B[43m)\u001B[49m\n",
      "File \u001B[0;32m/opt/anaconda3/envs/ngem/lib/python3.10/site-packages/qiskit/compiler/transpiler.py:381\u001B[0m, in \u001B[0;36mtranspile\u001B[0;34m(circuits, backend, basis_gates, inst_map, coupling_map, backend_properties, initial_layout, layout_method, routing_method, translation_method, scheduling_method, instruction_durations, dt, approximation_degree, timing_constraints, seed_transpiler, optimization_level, callback, output_name, unitary_synthesis_method, unitary_synthesis_plugin_config, target, hls_config, init_method, optimization_method, ignore_backend_supplied_default_methods)\u001B[0m\n\u001B[1;32m    378\u001B[0m     \u001B[38;5;28;01mfor\u001B[39;00m circuit, unique_args \u001B[38;5;129;01min\u001B[39;00m \u001B[38;5;28mzip\u001B[39m(circuits, unique_transpile_args):\n\u001B[1;32m    379\u001B[0m         transpile_config, pass_manager \u001B[38;5;241m=\u001B[39m _combine_args(shared_args, unique_args)\n\u001B[1;32m    380\u001B[0m         output_circuits\u001B[38;5;241m.\u001B[39mappend(\n\u001B[0;32m--> 381\u001B[0m             \u001B[43m_serial_transpile_circuit\u001B[49m\u001B[43m(\u001B[49m\n\u001B[1;32m    382\u001B[0m \u001B[43m                \u001B[49m\u001B[43mcircuit\u001B[49m\u001B[43m,\u001B[49m\n\u001B[1;32m    383\u001B[0m \u001B[43m                \u001B[49m\u001B[43mpass_manager\u001B[49m\u001B[43m,\u001B[49m\n\u001B[1;32m    384\u001B[0m \u001B[43m                \u001B[49m\u001B[43mtranspile_config\u001B[49m\u001B[43m[\u001B[49m\u001B[38;5;124;43m\"\u001B[39;49m\u001B[38;5;124;43mcallback\u001B[39;49m\u001B[38;5;124;43m\"\u001B[39;49m\u001B[43m]\u001B[49m\u001B[43m,\u001B[49m\n\u001B[1;32m    385\u001B[0m \u001B[43m                \u001B[49m\u001B[43mtranspile_config\u001B[49m\u001B[43m[\u001B[49m\u001B[38;5;124;43m\"\u001B[39;49m\u001B[38;5;124;43moutput_name\u001B[39;49m\u001B[38;5;124;43m\"\u001B[39;49m\u001B[43m]\u001B[49m\u001B[43m,\u001B[49m\n\u001B[1;32m    386\u001B[0m \u001B[43m                \u001B[49m\u001B[43mtranspile_config\u001B[49m\u001B[43m[\u001B[49m\u001B[38;5;124;43m\"\u001B[39;49m\u001B[38;5;124;43mbackend_num_qubits\u001B[39;49m\u001B[38;5;124;43m\"\u001B[39;49m\u001B[43m]\u001B[49m\u001B[43m,\u001B[49m\n\u001B[1;32m    387\u001B[0m \u001B[43m                \u001B[49m\u001B[43mtranspile_config\u001B[49m\u001B[43m[\u001B[49m\u001B[38;5;124;43m\"\u001B[39;49m\u001B[38;5;124;43mfaulty_qubits_map\u001B[39;49m\u001B[38;5;124;43m\"\u001B[39;49m\u001B[43m]\u001B[49m\u001B[43m,\u001B[49m\n\u001B[1;32m    388\u001B[0m \u001B[43m                \u001B[49m\u001B[43mtranspile_config\u001B[49m\u001B[43m[\u001B[49m\u001B[38;5;124;43m\"\u001B[39;49m\u001B[38;5;124;43mpass_manager_config\u001B[39;49m\u001B[38;5;124;43m\"\u001B[39;49m\u001B[43m]\u001B[49m\u001B[38;5;241;43m.\u001B[39;49m\u001B[43mbackend_properties\u001B[49m\u001B[43m,\u001B[49m\n\u001B[1;32m    389\u001B[0m \u001B[43m            \u001B[49m\u001B[43m)\u001B[49m\n\u001B[1;32m    390\u001B[0m         )\n\u001B[1;32m    391\u001B[0m     circuits \u001B[38;5;241m=\u001B[39m output_circuits\n\u001B[1;32m    392\u001B[0m end_time \u001B[38;5;241m=\u001B[39m time()\n",
      "File \u001B[0;32m/opt/anaconda3/envs/ngem/lib/python3.10/site-packages/qiskit/compiler/transpiler.py:474\u001B[0m, in \u001B[0;36m_serial_transpile_circuit\u001B[0;34m(circuit, pass_manager, callback, output_name, num_qubits, faulty_qubits_map, backend_prop)\u001B[0m\n\u001B[1;32m    465\u001B[0m \u001B[38;5;28;01mdef\u001B[39;00m \u001B[38;5;21m_serial_transpile_circuit\u001B[39m(\n\u001B[1;32m    466\u001B[0m     circuit,\n\u001B[1;32m    467\u001B[0m     pass_manager,\n\u001B[0;32m   (...)\u001B[0m\n\u001B[1;32m    472\u001B[0m     backend_prop\u001B[38;5;241m=\u001B[39m\u001B[38;5;28;01mNone\u001B[39;00m,\n\u001B[1;32m    473\u001B[0m ):\n\u001B[0;32m--> 474\u001B[0m     result \u001B[38;5;241m=\u001B[39m \u001B[43mpass_manager\u001B[49m\u001B[38;5;241;43m.\u001B[39;49m\u001B[43mrun\u001B[49m\u001B[43m(\u001B[49m\u001B[43mcircuit\u001B[49m\u001B[43m,\u001B[49m\u001B[43m \u001B[49m\u001B[43mcallback\u001B[49m\u001B[38;5;241;43m=\u001B[39;49m\u001B[43mcallback\u001B[49m\u001B[43m,\u001B[49m\u001B[43m \u001B[49m\u001B[43moutput_name\u001B[49m\u001B[38;5;241;43m=\u001B[39;49m\u001B[43moutput_name\u001B[49m\u001B[43m)\u001B[49m\n\u001B[1;32m    475\u001B[0m     \u001B[38;5;28;01mif\u001B[39;00m faulty_qubits_map:\n\u001B[1;32m    476\u001B[0m         \u001B[38;5;28;01mreturn\u001B[39;00m _remap_circuit_faulty_backend(\n\u001B[1;32m    477\u001B[0m             result,\n\u001B[1;32m    478\u001B[0m             num_qubits,\n\u001B[1;32m    479\u001B[0m             backend_prop,\n\u001B[1;32m    480\u001B[0m             faulty_qubits_map,\n\u001B[1;32m    481\u001B[0m         )\n",
      "File \u001B[0;32m/opt/anaconda3/envs/ngem/lib/python3.10/site-packages/qiskit/transpiler/passmanager.py:528\u001B[0m, in \u001B[0;36mStagedPassManager.run\u001B[0;34m(self, circuits, output_name, callback)\u001B[0m\n\u001B[1;32m    521\u001B[0m \u001B[38;5;28;01mdef\u001B[39;00m \u001B[38;5;21mrun\u001B[39m(\n\u001B[1;32m    522\u001B[0m     \u001B[38;5;28mself\u001B[39m,\n\u001B[1;32m    523\u001B[0m     circuits: Union[QuantumCircuit, List[QuantumCircuit]],\n\u001B[1;32m    524\u001B[0m     output_name: \u001B[38;5;28mstr\u001B[39m \u001B[38;5;241m=\u001B[39m \u001B[38;5;28;01mNone\u001B[39;00m,\n\u001B[1;32m    525\u001B[0m     callback: Callable \u001B[38;5;241m=\u001B[39m \u001B[38;5;28;01mNone\u001B[39;00m,\n\u001B[1;32m    526\u001B[0m ) \u001B[38;5;241m-\u001B[39m\u001B[38;5;241m>\u001B[39m Union[QuantumCircuit, List[QuantumCircuit]]:\n\u001B[1;32m    527\u001B[0m     \u001B[38;5;28mself\u001B[39m\u001B[38;5;241m.\u001B[39m_update_passmanager()\n\u001B[0;32m--> 528\u001B[0m     \u001B[38;5;28;01mreturn\u001B[39;00m \u001B[38;5;28;43msuper\u001B[39;49m\u001B[43m(\u001B[49m\u001B[43m)\u001B[49m\u001B[38;5;241;43m.\u001B[39;49m\u001B[43mrun\u001B[49m\u001B[43m(\u001B[49m\u001B[43mcircuits\u001B[49m\u001B[43m,\u001B[49m\u001B[43m \u001B[49m\u001B[43moutput_name\u001B[49m\u001B[43m,\u001B[49m\u001B[43m \u001B[49m\u001B[43mcallback\u001B[49m\u001B[43m)\u001B[49m\n",
      "File \u001B[0;32m/opt/anaconda3/envs/ngem/lib/python3.10/site-packages/qiskit/transpiler/passmanager.py:228\u001B[0m, in \u001B[0;36mPassManager.run\u001B[0;34m(self, circuits, output_name, callback)\u001B[0m\n\u001B[1;32m    226\u001B[0m     \u001B[38;5;28;01mreturn\u001B[39;00m circuits\n\u001B[1;32m    227\u001B[0m \u001B[38;5;28;01mif\u001B[39;00m \u001B[38;5;28misinstance\u001B[39m(circuits, QuantumCircuit):\n\u001B[0;32m--> 228\u001B[0m     \u001B[38;5;28;01mreturn\u001B[39;00m \u001B[38;5;28;43mself\u001B[39;49m\u001B[38;5;241;43m.\u001B[39;49m\u001B[43m_run_single_circuit\u001B[49m\u001B[43m(\u001B[49m\u001B[43mcircuits\u001B[49m\u001B[43m,\u001B[49m\u001B[43m \u001B[49m\u001B[43moutput_name\u001B[49m\u001B[43m,\u001B[49m\u001B[43m \u001B[49m\u001B[43mcallback\u001B[49m\u001B[43m)\u001B[49m\n\u001B[1;32m    229\u001B[0m \u001B[38;5;28;01mif\u001B[39;00m \u001B[38;5;28mlen\u001B[39m(circuits) \u001B[38;5;241m==\u001B[39m \u001B[38;5;241m1\u001B[39m:\n\u001B[1;32m    230\u001B[0m     \u001B[38;5;28;01mreturn\u001B[39;00m \u001B[38;5;28mself\u001B[39m\u001B[38;5;241m.\u001B[39m_run_single_circuit(circuits[\u001B[38;5;241m0\u001B[39m], output_name, callback)\n",
      "File \u001B[0;32m/opt/anaconda3/envs/ngem/lib/python3.10/site-packages/qiskit/transpiler/passmanager.py:283\u001B[0m, in \u001B[0;36mPassManager._run_single_circuit\u001B[0;34m(self, circuit, output_name, callback)\u001B[0m\n\u001B[1;32m    271\u001B[0m \u001B[38;5;250m\u001B[39m\u001B[38;5;124;03m\"\"\"Run all the passes on a ``circuit``.\u001B[39;00m\n\u001B[1;32m    272\u001B[0m \n\u001B[1;32m    273\u001B[0m \u001B[38;5;124;03mArgs:\u001B[39;00m\n\u001B[0;32m   (...)\u001B[0m\n\u001B[1;32m    280\u001B[0m \u001B[38;5;124;03m    The transformed circuit.\u001B[39;00m\n\u001B[1;32m    281\u001B[0m \u001B[38;5;124;03m\"\"\"\u001B[39;00m\n\u001B[1;32m    282\u001B[0m running_passmanager \u001B[38;5;241m=\u001B[39m \u001B[38;5;28mself\u001B[39m\u001B[38;5;241m.\u001B[39m_create_running_passmanager()\n\u001B[0;32m--> 283\u001B[0m result \u001B[38;5;241m=\u001B[39m \u001B[43mrunning_passmanager\u001B[49m\u001B[38;5;241;43m.\u001B[39;49m\u001B[43mrun\u001B[49m\u001B[43m(\u001B[49m\u001B[43mcircuit\u001B[49m\u001B[43m,\u001B[49m\u001B[43m \u001B[49m\u001B[43moutput_name\u001B[49m\u001B[38;5;241;43m=\u001B[39;49m\u001B[43moutput_name\u001B[49m\u001B[43m,\u001B[49m\u001B[43m \u001B[49m\u001B[43mcallback\u001B[49m\u001B[38;5;241;43m=\u001B[39;49m\u001B[43mcallback\u001B[49m\u001B[43m)\u001B[49m\n\u001B[1;32m    284\u001B[0m \u001B[38;5;28mself\u001B[39m\u001B[38;5;241m.\u001B[39mproperty_set \u001B[38;5;241m=\u001B[39m running_passmanager\u001B[38;5;241m.\u001B[39mproperty_set\n\u001B[1;32m    285\u001B[0m \u001B[38;5;28;01mreturn\u001B[39;00m result\n",
      "File \u001B[0;32m/opt/anaconda3/envs/ngem/lib/python3.10/site-packages/qiskit/transpiler/runningpassmanager.py:125\u001B[0m, in \u001B[0;36mRunningPassManager.run\u001B[0;34m(***failed resolving arguments***)\u001B[0m\n\u001B[1;32m    123\u001B[0m \u001B[38;5;28;01mfor\u001B[39;00m passset \u001B[38;5;129;01min\u001B[39;00m \u001B[38;5;28mself\u001B[39m\u001B[38;5;241m.\u001B[39mworking_list:\n\u001B[1;32m    124\u001B[0m     \u001B[38;5;28;01mfor\u001B[39;00m pass_ \u001B[38;5;129;01min\u001B[39;00m passset:\n\u001B[0;32m--> 125\u001B[0m         dag \u001B[38;5;241m=\u001B[39m \u001B[38;5;28;43mself\u001B[39;49m\u001B[38;5;241;43m.\u001B[39;49m\u001B[43m_do_pass\u001B[49m\u001B[43m(\u001B[49m\u001B[43mpass_\u001B[49m\u001B[43m,\u001B[49m\u001B[43m \u001B[49m\u001B[43mdag\u001B[49m\u001B[43m,\u001B[49m\u001B[43m \u001B[49m\u001B[43mpassset\u001B[49m\u001B[38;5;241;43m.\u001B[39;49m\u001B[43moptions\u001B[49m\u001B[43m)\u001B[49m\n\u001B[1;32m    127\u001B[0m circuit \u001B[38;5;241m=\u001B[39m dag_to_circuit(dag)\n\u001B[1;32m    128\u001B[0m \u001B[38;5;28;01mif\u001B[39;00m output_name:\n",
      "File \u001B[0;32m/opt/anaconda3/envs/ngem/lib/python3.10/site-packages/qiskit/transpiler/runningpassmanager.py:173\u001B[0m, in \u001B[0;36mRunningPassManager._do_pass\u001B[0;34m(self, pass_, dag, options)\u001B[0m\n\u001B[1;32m    171\u001B[0m \u001B[38;5;66;03m# Run the pass itself, if not already run\u001B[39;00m\n\u001B[1;32m    172\u001B[0m \u001B[38;5;28;01mif\u001B[39;00m pass_ \u001B[38;5;129;01mnot\u001B[39;00m \u001B[38;5;129;01min\u001B[39;00m \u001B[38;5;28mself\u001B[39m\u001B[38;5;241m.\u001B[39mvalid_passes:\n\u001B[0;32m--> 173\u001B[0m     dag \u001B[38;5;241m=\u001B[39m \u001B[38;5;28;43mself\u001B[39;49m\u001B[38;5;241;43m.\u001B[39;49m\u001B[43m_run_this_pass\u001B[49m\u001B[43m(\u001B[49m\u001B[43mpass_\u001B[49m\u001B[43m,\u001B[49m\u001B[43m \u001B[49m\u001B[43mdag\u001B[49m\u001B[43m)\u001B[49m\n\u001B[1;32m    175\u001B[0m     \u001B[38;5;66;03m# update the valid_passes property\u001B[39;00m\n\u001B[1;32m    176\u001B[0m     \u001B[38;5;28mself\u001B[39m\u001B[38;5;241m.\u001B[39m_update_valid_passes(pass_)\n",
      "File \u001B[0;32m/opt/anaconda3/envs/ngem/lib/python3.10/site-packages/qiskit/transpiler/runningpassmanager.py:202\u001B[0m, in \u001B[0;36mRunningPassManager._run_this_pass\u001B[0;34m(self, pass_, dag)\u001B[0m\n\u001B[1;32m    199\u001B[0m \u001B[38;5;28;01mif\u001B[39;00m pass_\u001B[38;5;241m.\u001B[39mis_transformation_pass:\n\u001B[1;32m    200\u001B[0m     \u001B[38;5;66;03m# Measure time if we have a callback or logging set\u001B[39;00m\n\u001B[1;32m    201\u001B[0m     start_time \u001B[38;5;241m=\u001B[39m time()\n\u001B[0;32m--> 202\u001B[0m     new_dag \u001B[38;5;241m=\u001B[39m \u001B[43mpass_\u001B[49m\u001B[38;5;241;43m.\u001B[39;49m\u001B[43mrun\u001B[49m\u001B[43m(\u001B[49m\u001B[43mdag\u001B[49m\u001B[43m)\u001B[49m\n\u001B[1;32m    203\u001B[0m     end_time \u001B[38;5;241m=\u001B[39m time()\n\u001B[1;32m    204\u001B[0m     run_time \u001B[38;5;241m=\u001B[39m end_time \u001B[38;5;241m-\u001B[39m start_time\n",
      "File \u001B[0;32m/opt/anaconda3/envs/ngem/lib/python3.10/site-packages/qiskit/transpiler/passes/basis/unroll_3q_or_more.py:85\u001B[0m, in \u001B[0;36mUnroll3qOrMore.run\u001B[0;34m(self, dag)\u001B[0m\n\u001B[1;32m     83\u001B[0m     decomposition \u001B[38;5;241m=\u001B[39m circuit_to_dag(node\u001B[38;5;241m.\u001B[39mop\u001B[38;5;241m.\u001B[39mdefinition)\n\u001B[1;32m     84\u001B[0m     decomposition \u001B[38;5;241m=\u001B[39m \u001B[38;5;28mself\u001B[39m\u001B[38;5;241m.\u001B[39mrun(decomposition)  \u001B[38;5;66;03m# recursively unroll\u001B[39;00m\n\u001B[0;32m---> 85\u001B[0m     \u001B[43mdag\u001B[49m\u001B[38;5;241;43m.\u001B[39;49m\u001B[43msubstitute_node_with_dag\u001B[49m\u001B[43m(\u001B[49m\u001B[43mnode\u001B[49m\u001B[43m,\u001B[49m\u001B[43m \u001B[49m\u001B[43mdecomposition\u001B[49m\u001B[43m)\u001B[49m\n\u001B[1;32m     86\u001B[0m \u001B[38;5;28;01mreturn\u001B[39;00m dag\n",
      "File \u001B[0;32m/opt/anaconda3/envs/ngem/lib/python3.10/site-packages/qiskit/dagcircuit/dagcircuit.py:1203\u001B[0m, in \u001B[0;36mDAGCircuit.substitute_node_with_dag\u001B[0;34m(self, node, input_dag, wires, propagate_condition)\u001B[0m\n\u001B[1;32m   1197\u001B[0m     node_wire_order \u001B[38;5;241m+\u001B[39m\u001B[38;5;241m=\u001B[39m [\n\u001B[1;32m   1198\u001B[0m         bit\n\u001B[1;32m   1199\u001B[0m         \u001B[38;5;28;01mfor\u001B[39;00m bit \u001B[38;5;129;01min\u001B[39;00m \u001B[38;5;28mself\u001B[39m\u001B[38;5;241m.\u001B[39m_bits_in_condition(\u001B[38;5;28mgetattr\u001B[39m(node\u001B[38;5;241m.\u001B[39mop, \u001B[38;5;124m\"\u001B[39m\u001B[38;5;124mcondition\u001B[39m\u001B[38;5;124m\"\u001B[39m, \u001B[38;5;28;01mNone\u001B[39;00m))\n\u001B[1;32m   1200\u001B[0m         \u001B[38;5;28;01mif\u001B[39;00m bit \u001B[38;5;129;01mnot\u001B[39;00m \u001B[38;5;129;01min\u001B[39;00m node_cargs\n\u001B[1;32m   1201\u001B[0m     ]\n\u001B[1;32m   1202\u001B[0m \u001B[38;5;28;01mif\u001B[39;00m \u001B[38;5;28mlen\u001B[39m(wires) \u001B[38;5;241m!=\u001B[39m \u001B[38;5;28mlen\u001B[39m(node_wire_order):\n\u001B[0;32m-> 1203\u001B[0m     \u001B[38;5;28;01mraise\u001B[39;00m DAGCircuitError(\n\u001B[1;32m   1204\u001B[0m         \u001B[38;5;124mf\u001B[39m\u001B[38;5;124m\"\u001B[39m\u001B[38;5;124mbit mapping invalid: expected \u001B[39m\u001B[38;5;132;01m{\u001B[39;00m\u001B[38;5;28mlen\u001B[39m(node_wire_order)\u001B[38;5;132;01m}\u001B[39;00m\u001B[38;5;124m, got \u001B[39m\u001B[38;5;132;01m{\u001B[39;00m\u001B[38;5;28mlen\u001B[39m(wires)\u001B[38;5;132;01m}\u001B[39;00m\u001B[38;5;124m\"\u001B[39m\n\u001B[1;32m   1205\u001B[0m     )\n\u001B[1;32m   1206\u001B[0m wire_map \u001B[38;5;241m=\u001B[39m \u001B[38;5;28mdict\u001B[39m(\u001B[38;5;28mzip\u001B[39m(wires, node_wire_order))\n\u001B[1;32m   1207\u001B[0m \u001B[38;5;28;01mif\u001B[39;00m \u001B[38;5;28mlen\u001B[39m(wire_map) \u001B[38;5;241m!=\u001B[39m \u001B[38;5;28mlen\u001B[39m(node_wire_order):\n",
      "\u001B[0;31mDAGCircuitError\u001B[0m: 'bit mapping invalid: expected 4, got 8'"
     ]
    }
   ],
   "source": [
    "transpile(qc, backend=backend_noisy, optimization_level=3)"
   ],
   "metadata": {
    "collapsed": false
   }
  },
  {
   "cell_type": "code",
   "execution_count": null,
   "outputs": [],
   "source": [
    "from qiskit.transpiler.exceptions import TranspilerError\n",
    "from scipy.linalg import LinAlgError\n",
    "\n",
    "def generate_data(generating_func, two_q_gate_depths, save_path: str, n_entries_per_file: int):\n",
    "    for depth in two_q_gate_depths:\n",
    "        entries = []\n",
    "\n",
    "        for i in tqdm_notebook(range(n_entries_per_file)):\n",
    "            success = False\n",
    "            while not success:\n",
    "                try:\n",
    "                    circuit = generating_func(depth)\n",
    "                    success = True\n",
    "                except (LinAlgError, TranspilerError, np.linalg.LinAlgError) as e:\n",
    "                    print(f\"Ran into an error:, {e}\")\n",
    "\n",
    "            job_ideal = execute(circuit, **run_config_ideal)\n",
    "            job_noisy = execute(circuit, **run_config_noisy)\n",
    "\n",
    "            counts_ideal = job_ideal.result().get_counts()\n",
    "            counts_noisy = job_noisy.result().get_counts()\n",
    "\n",
    "            ideal_exp_val = cal_z_exp(counts_ideal)\n",
    "            noisy_exp_val = cal_z_exp(counts_noisy)\n",
    "\n",
    "            graph_data = circuit_to_graph_data_json(\n",
    "                circuit=circuit,\n",
    "                properties=properties,\n",
    "                use_qubit_features=True,\n",
    "                use_gate_features=True,\n",
    "            )\n",
    "\n",
    "            entry = ExpValueEntry(\n",
    "                circuit_graph=graph_data,\n",
    "                observable=[],\n",
    "                ideal_exp_value=ideal_exp_val.tolist(),\n",
    "                noisy_exp_values=[noisy_exp_val.tolist()],\n",
    "                circuit_depth=circuit.depth()\n",
    "            )\n",
    "            entries.append(entry.to_dict())\n",
    "\n",
    "        path = f\"{save_path}/depth{depth}.json\"\n",
    "        with open(path, \"w\") as f:\n",
    "            # pprint(entries)\n",
    "            json.dump(entries, f)"
   ],
   "metadata": {
    "collapsed": false
   }
  },
  {
   "cell_type": "code",
   "execution_count": 3,
   "outputs": [
    {
     "data": {
      "text/plain": "  0%|          | 0/30 [00:00<?, ?it/s]",
      "application/vnd.jupyter.widget-view+json": {
       "version_major": 2,
       "version_minor": 0,
       "model_id": "731360c89c9e4e79b806d29bc2509f08"
      }
     },
     "metadata": {},
     "output_type": "display_data"
    },
    {
     "ename": "NameError",
     "evalue": "name 'model' is not defined",
     "output_type": "error",
     "traceback": [
      "\u001B[0;31m---------------------------------------------------------------------------\u001B[0m",
      "\u001B[0;31mNameError\u001B[0m                                 Traceback (most recent call last)",
      "Input \u001B[0;32mIn [3]\u001B[0m, in \u001B[0;36m<cell line: 18>\u001B[0;34m()\u001B[0m\n\u001B[1;32m     52\u001B[0m     entry \u001B[38;5;241m=\u001B[39m ExpValueEntry(\n\u001B[1;32m     53\u001B[0m         circuit_graph\u001B[38;5;241m=\u001B[39mgraph_data,\n\u001B[1;32m     54\u001B[0m         observable\u001B[38;5;241m=\u001B[39m[],\n\u001B[0;32m   (...)\u001B[0m\n\u001B[1;32m     57\u001B[0m         circuit_depth\u001B[38;5;241m=\u001B[39mtranspiled_qc_list[i]\u001B[38;5;241m.\u001B[39mdepth()\n\u001B[1;32m     58\u001B[0m     )\u001B[38;5;241m.\u001B[39mto_pyg_data()\n\u001B[1;32m     60\u001B[0m     \u001B[38;5;66;03m# print(entry.batch)\u001B[39;00m\n\u001B[0;32m---> 61\u001B[0m     mitigated_exp_val \u001B[38;5;241m=\u001B[39m \u001B[43mmodel\u001B[49m(entry\u001B[38;5;241m.\u001B[39mnoisy_0,\n\u001B[1;32m     62\u001B[0m                         entry\u001B[38;5;241m.\u001B[39mobservable,\n\u001B[1;32m     63\u001B[0m                         entry\u001B[38;5;241m.\u001B[39mcircuit_depth,\n\u001B[1;32m     64\u001B[0m                         entry\u001B[38;5;241m.\u001B[39mx,\n\u001B[1;32m     65\u001B[0m                         entry\u001B[38;5;241m.\u001B[39medge_index,\n\u001B[1;32m     66\u001B[0m                         entry\u001B[38;5;241m.\u001B[39mbatch)\u001B[38;5;241m.\u001B[39mtolist()[\u001B[38;5;241m0\u001B[39m]\n\u001B[1;32m     68\u001B[0m     exp_Z_mitigated\u001B[38;5;241m.\u001B[39mappend(mitigated_exp_val)\n\u001B[1;32m     70\u001B[0m imbalance_ideal \u001B[38;5;241m=\u001B[39m calc_imbalance(exp_Z_ideal, even_qubits, odd_qubits)\n",
      "\u001B[0;31mNameError\u001B[0m: name 'model' is not defined"
     ]
    }
   ],
   "source": [
    "## Now we need to average over many disorders\n",
    "num_disorders = 30\n",
    "qbs_with_gates = [0, 1, 2, 3]\n",
    "\n",
    "num_spins = 8 # Number of spins. Must be even.\n",
    "W = 0.8 * np.pi # Disorder strength up to np.pi\n",
    "theta = 0.05 * np.pi # Interaction strength up to np.pi\n",
    "steps = 6\n",
    "\n",
    "even_qubits = np.linspace(0, num_spins, int(num_spins/2), endpoint=False)\n",
    "odd_qubits = np.linspace(1, num_spins+1, int(num_spins/2), endpoint=False)\n",
    "\n",
    "# For each disorder realization, make a new disorder\n",
    "# and compute the charge imbalance using the same physics parameters as before\n",
    "imbalance_all_ideal = []\n",
    "imbalance_all_noisy = []\n",
    "imbalance_all_mitigated = []\n",
    "\n",
    "for disorder_realization in tqdm_notebook(range(num_disorders)):\n",
    "    disorders = generate_disorder(num_spins, W, seed=disorder_realization)\n",
    "\n",
    "        random_mbl_circuit = construct_mbl_circuit(4, disorders, theta, steps)\n",
    "        qc_list.append()\n",
    "\n",
    "        job_ideal = execute(circuit, **run_config_ideal)\n",
    "        job_noisy = execute(circuit, **run_config_noisy)\n",
    "\n",
    "        counts_ideal = job_ideal.result().get_counts()\n",
    "        counts_noisy = job_noisy.result().get_counts()\n",
    "\n",
    "        ideal_exp_val = cal_z_exp(counts_ideal)\n",
    "        noisy_exp_val = cal_z_exp(counts_noisy)\n",
    "\n",
    "        graph_data = circuit_to_graph_data_json(\n",
    "            circuit=circuit,\n",
    "            properties=properties,\n",
    "            use_qubit_features=True,\n",
    "            use_gate_features=True,\n",
    "        )\n",
    "\n",
    "        entry = ExpValueEntry(\n",
    "            circuit_graph=graph_data,\n",
    "            observable=[],\n",
    "            ideal_exp_value=ideal_exp_val.tolist(),\n",
    "            noisy_exp_values=[noisy_exp_val.tolist()],\n",
    "            circuit_depth=circuit.depth()\n",
    "        )\n",
    "        entries.append(entry.to_dict())\n",
    "\n",
    "    path = f\"{save_path}/depth{depth}.json\"\n",
    "    with open(path, \"w\") as f:\n",
    "        # pprint(entries)\n",
    "        json.dump(entries, f)"
   ],
   "metadata": {
    "collapsed": false
   }
  },
  {
   "cell_type": "code",
   "execution_count": null,
   "outputs": [],
   "source": [],
   "metadata": {
    "collapsed": false
   }
  }
 ],
 "metadata": {
  "kernelspec": {
   "display_name": "Python 3",
   "language": "python",
   "name": "python3"
  },
  "language_info": {
   "codemirror_mode": {
    "name": "ipython",
    "version": 2
   },
   "file_extension": ".py",
   "mimetype": "text/x-python",
   "name": "python",
   "nbconvert_exporter": "python",
   "pygments_lexer": "ipython2",
   "version": "2.7.6"
  }
 },
 "nbformat": 4,
 "nbformat_minor": 0
}
