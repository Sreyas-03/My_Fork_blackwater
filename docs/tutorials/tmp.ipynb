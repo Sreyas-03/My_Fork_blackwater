{
 "cells": [
  {
   "cell_type": "code",
   "execution_count": 8,
   "outputs": [],
   "source": [
    "import json\n",
    "import glob\n",
    "\n",
    "import numpy as np\n",
    "import pandas as pd\n",
    "\n",
    "from qiskit import transpile\n",
    "from qiskit import execute\n",
    "from qiskit.providers.fake_provider import FakeLima\n",
    "from qiskit.primitives import Estimator\n",
    "from qiskit.circuit.random import random_circuit\n",
    "\n",
    "import torch\n",
    "from torch.optim import Adam\n",
    "from torch.optim.lr_scheduler import ReduceLROnPlateau\n",
    "from torch.nn.functional import dropout\n",
    "\n",
    "from torch_geometric.nn import GCNConv, global_mean_pool, Linear, ChebConv, SAGEConv\n",
    "from torch_geometric.data import Data\n",
    "from torch_geometric.loader import DataLoader\n",
    "\n",
    "from tqdm.notebook import tqdm_notebook\n",
    "import matplotlib.pyplot as plt\n",
    "import seaborn as sns\n",
    "\n",
    "from blackwater.data.loaders.exp_val import CircuitGraphExpValMitigationDataset\n",
    "from blackwater.data.generators.exp_val import exp_value_generator\n",
    "from blackwater.data.utils import generate_random_pauli_sum_op\n",
    "from blackwater.library.ngem.estimator import ngem\n",
    "\n",
    "from qiskit.quantum_info import random_clifford\n",
    "\n",
    "import random\n",
    "from qiskit.circuit.library import HGate, SdgGate\n",
    "from qiskit.circuit import ClassicalRegister\n",
    "\n",
    "from blackwater.data.utils import (\n",
    "    generate_random_pauli_sum_op,\n",
    "    create_estimator_meas_data,\n",
    "    circuit_to_graph_data_json,\n",
    "    get_backend_properties_v1,\n",
    "    encode_pauli_sum_op,\n",
    "    create_meas_data_from_estimators\n",
    ")\n",
    "from blackwater.data.generators.exp_val import ExpValueEntry\n",
    "from blackwater.metrics.improvement_factor import improvement_factor, Trial, Problem\n",
    "\n",
    "from qiskit_aer import AerSimulator, QasmSimulator\n",
    "from qiskit.providers.fake_provider import FakeMontreal, FakeLima\n",
    "\n",
    "from torch_geometric.nn import (\n",
    "    GCNConv,\n",
    "    TransformerConv,\n",
    "    GATv2Conv,\n",
    "    global_mean_pool,\n",
    "    Linear,\n",
    "    ChebConv,\n",
    "    SAGEConv,\n",
    "    ASAPooling,\n",
    "    dense_diff_pool,\n",
    "    avg_pool_neighbor_x\n",
    ")\n",
    "from torch_geometric.data import Data\n",
    "from torch_geometric.loader import DataLoader\n",
    "from torch_geometric.utils import to_dense_adj, to_dense_batch\n",
    "\n",
    "from qiskit import QuantumCircuit\n",
    "from qiskit.circuit.library import U3Gate, CZGate, PhaseGate, CXGate\n",
    "from mbd_utils import construct_random_clifford, cal_z_exp, calc_imbalance, cal_all_z_exp, construct_mbl_circuit, generate_disorder\n",
    "from gnn import ExpValCircuitGraphModel"
   ],
   "metadata": {
    "collapsed": false
   }
  },
  {
   "cell_type": "code",
   "execution_count": 9,
   "outputs": [],
   "source": [
    "backend = FakeLima()\n",
    "properties = get_backend_properties_v1(backend)\n",
    "\n",
    "## Local\n",
    "backend_ideal = QasmSimulator() # Noiseless\n",
    "backend_noisy = AerSimulator.from_backend(FakeLima()) # Noisy\n",
    "\n",
    "run_config_ideal = {'shots': 10000, 'backend': backend_ideal, 'name': 'ideal'}\n",
    "run_config_noisy = {'shots': 10000, 'backend': backend_noisy, 'name': 'noisy'}"
   ],
   "metadata": {
    "collapsed": false
   }
  },
  {
   "cell_type": "code",
   "execution_count": 67,
   "metadata": {
    "collapsed": true
   },
   "outputs": [
    {
     "data": {
      "text/plain": "                       ┌─────┐┌─────────────────────────┐       ┌───┐            ┌───┐       ┌───────────────┐   ┌───┐ ┌────────┐┌────────────┐┌───┐┌───────────┐                                          ┌─┐      \nq_0: ───────────■──────┤ Sdg ├┤ U3(1.2057,1.847,2.7085) ├───────┤ Z ├────────────┤ Z ├───────┤1              ├───┤ S ├─┤0       ├┤ Ry(3.4734) ├┤ I ├┤ P(3.2981) ├──────────────────────────────────■───────┤M├──────\n     ┌───┐      │      └──┬──┘└─────┬─────────────┬─────┘┌──────┴───┴───────┐┌───┴───┴────┐  │  Ryy(0.17813) │   └─┬─┘ │  Iswap │└───┬───┬────┘└───┘└──┬─────┬──┘           ┌───┐                  │       └╥┘┌─┐   \nq_1: ┤ I ├──────┼─────────■─────────┤ Rx(0.57535) ├──────┤ U2(1.335,5.7715) ├┤ Rz(3.1709) ├──┤0              ├─────■───┤1       ├────┤ I ├───────■─────┤ Sdg ├──────────────┤ Z ├──────────────────┼────────╫─┤M├───\n     └───┘      │                   └────┬────┬───┘      └──────────────────┘└────────────┘  └─┬───────────┬─┘   ┌───┐ └─┬───┬──┘    └───┘       │     ├─────┤   ┌──────────┴───┴───────────┐┌─────┴──────┐ ║ └╥┘┌─┐\nq_2: ───────────■─────────X──────────────┤ √X ├───────────────────■────────────────■───────────┤ P(4.9428) ├─────┤ H ├───┤ X ├─────────■─────────┼─────┤ Tdg ├───┤ U(3.5036,1.0148,0.67844) ├┤ Rz(4.5247) ├─╫──╫─┤M├\n          ┌───────────┐   │              ├───┬┘             ┌─────┴──────┐   ┌─────┴──────┐┌───┴───────────┴───┐┌┴───┴┐  ├───┤       ┌─┴─┐       │     ├─────┤   └──────────┬────┬──────────┘└────┬─┬─────┘ ║  ║ └╥┘\nq_3: ─────┤ P(3.3446) ├───X──────────────┤ I ├──────────────┤ Rz(4.7053) ├───┤ Rx(4.1697) ├┤ U2(5.5983,1.7274) ├┤ Tdg ├──┤ S ├───────┤ H ├───────■─────┤ Tdg ├──────────────┤ √X ├────────────────┤M├───────╫──╫──╫─\n          └───────────┘                  └───┘              └────────────┘   └────────────┘└───────────────────┘└─────┘  └───┘       └───┘             └─────┘              └────┘                └╥┘       ║  ║  ║ \nc: 4/══════════════════════════════════════════════════════════════════════════════════════════════════════════════════════════════════════════════════════════════════════════════════════════════╩════════╩══╩══╩═\n                                                                                                                                                                                                   3        0  1  2 ",
      "text/html": "<pre style=\"word-wrap: normal;white-space: pre;background: #fff0;line-height: 1.1;font-family: &quot;Courier New&quot;,Courier,monospace\">                       ┌─────┐┌─────────────────────────┐       ┌───┐            ┌───┐       ┌───────────────┐   ┌───┐ ┌────────┐┌────────────┐┌───┐┌───────────┐                                          ┌─┐      \nq_0: ───────────■──────┤ Sdg ├┤ U3(1.2057,1.847,2.7085) ├───────┤ Z ├────────────┤ Z ├───────┤1              ├───┤ S ├─┤0       ├┤ Ry(3.4734) ├┤ I ├┤ P(3.2981) ├──────────────────────────────────■───────┤M├──────\n     ┌───┐      │      └──┬──┘└─────┬─────────────┬─────┘┌──────┴───┴───────┐┌───┴───┴────┐  │  Ryy(0.17813) │   └─┬─┘ │  Iswap │└───┬───┬────┘└───┘└──┬─────┬──┘           ┌───┐                  │       └╥┘┌─┐   \nq_1: ┤ I ├──────┼─────────■─────────┤ Rx(0.57535) ├──────┤ U2(1.335,5.7715) ├┤ Rz(3.1709) ├──┤0              ├─────■───┤1       ├────┤ I ├───────■─────┤ Sdg ├──────────────┤ Z ├──────────────────┼────────╫─┤M├───\n     └───┘      │                   └────┬────┬───┘      └──────────────────┘└────────────┘  └─┬───────────┬─┘   ┌───┐ └─┬───┬──┘    └───┘       │     ├─────┤   ┌──────────┴───┴───────────┐┌─────┴──────┐ ║ └╥┘┌─┐\nq_2: ───────────■─────────X──────────────┤ √X ├───────────────────■────────────────■───────────┤ P(4.9428) ├─────┤ H ├───┤ X ├─────────■─────────┼─────┤ Tdg ├───┤ U(3.5036,1.0148,0.67844) ├┤ Rz(4.5247) ├─╫──╫─┤M├\n          ┌───────────┐   │              ├───┬┘             ┌─────┴──────┐   ┌─────┴──────┐┌───┴───────────┴───┐┌┴───┴┐  ├───┤       ┌─┴─┐       │     ├─────┤   └──────────┬────┬──────────┘└────┬─┬─────┘ ║  ║ └╥┘\nq_3: ─────┤ P(3.3446) ├───X──────────────┤ I ├──────────────┤ Rz(4.7053) ├───┤ Rx(4.1697) ├┤ U2(5.5983,1.7274) ├┤ Tdg ├──┤ S ├───────┤ H ├───────■─────┤ Tdg ├──────────────┤ √X ├────────────────┤M├───────╫──╫──╫─\n          └───────────┘                  └───┘              └────────────┘   └────────────┘└───────────────────┘└─────┘  └───┘       └───┘             └─────┘              └────┘                └╥┘       ║  ║  ║ \nc: 4/══════════════════════════════════════════════════════════════════════════════════════════════════════════════════════════════════════════════════════════════════════════════════════════════╩════════╩══╩══╩═\n                                                                                                                                                                                                   3        0  1  2 </pre>"
     },
     "execution_count": 67,
     "metadata": {},
     "output_type": "execute_result"
    }
   ],
   "source": [
    "from collections import defaultdict\n",
    "\n",
    "num_qubit = 4\n",
    "\n",
    "def construct_random_circuit(two_q_gate_depth):\n",
    "    if not two_q_gate_depth:\n",
    "        d = np.random.randint(1, 6)\n",
    "        rc = random_circuit(num_qubit, d, 1, measure=True)\n",
    "    elif 1 <= two_q_gate_depth <= 8:\n",
    "        rc = random_circuit(num_qubit, two_q_gate_depth*2, 2, measure=True)\n",
    "        while rc.depth(filter_function=lambda x: x[0].num_qubits == 2) != two_q_gate_depth:\n",
    "            rc = random_circuit(num_qubit, two_q_gate_depth*2, 2, measure=True)\n",
    "    elif 9 <= two_q_gate_depth <= 18:\n",
    "        assert two_q_gate_depth%2 == 0\n",
    "        half_depth = two_q_gate_depth // 2\n",
    "        rc1 = random_circuit(num_qubit, two_q_gate_depth, 2, measure=False)\n",
    "        while rc1.depth(filter_function=lambda x: x[0].num_qubits == 2) != half_depth:\n",
    "            rc1 = random_circuit(num_qubit, two_q_gate_depth, 2, measure=False)\n",
    "        rc2 = random_circuit(num_qubit, two_q_gate_depth, 2, measure=False)\n",
    "        while rc2.depth(filter_function=lambda x: x[0].num_qubits == 2) != half_depth:\n",
    "            rc2 = random_circuit(num_qubit, two_q_gate_depth, 2, measure=False)\n",
    "        rc = rc1.compose(rc2)\n",
    "        rc.measure_all()\n",
    "    else:\n",
    "        raise NotImplementedError\n",
    "    return rc\n",
    "\n",
    "# depths = [2, 7, 12, 17, 22, 27, 32, 37, 42, 47]\n",
    "depths = [18]\n",
    "\n",
    "# circuit = transpile(construct_random_circuit(2), backend=backend_noisy, optimization_level=3)\n",
    "circuit = construct_random_circuit(6)\n",
    "circuit.draw(fold=-1)\n"
   ]
  },
  {
   "cell_type": "code",
   "execution_count": 68,
   "outputs": [
    {
     "data": {
      "text/plain": "6"
     },
     "execution_count": 68,
     "metadata": {},
     "output_type": "execute_result"
    }
   ],
   "source": [
    "circuit.depth(lambda x: x[0].num_qubits == 2)"
   ],
   "metadata": {
    "collapsed": false
   }
  },
  {
   "cell_type": "code",
   "execution_count": 63,
   "outputs": [
    {
     "data": {
      "text/plain": "1"
     },
     "execution_count": 63,
     "metadata": {},
     "output_type": "execute_result"
    }
   ],
   "source": [
    "from qiskit import QuantumRegister, ClassicalRegister\n",
    "qr = QuantumRegister(2)\n",
    "qc = QuantumCircuit(qr)\n",
    "qc.cz(0, 1)\n",
    "qc.depth(lambda x: x[0].num_qubits == 2)"
   ],
   "metadata": {
    "collapsed": false
   }
  },
  {
   "cell_type": "code",
   "execution_count": 7,
   "outputs": [
    {
     "data": {
      "text/plain": "  0%|          | 0/500 [00:00<?, ?it/s]",
      "application/vnd.jupyter.widget-view+json": {
       "version_major": 2,
       "version_minor": 0,
       "model_id": "6dca38b66589416c8e4b9c447af09f41"
      }
     },
     "metadata": {},
     "output_type": "display_data"
    }
   ],
   "source": [
    "generate_data(construct_random_circuit, depths, './data/haoran_mbl/rc_train', 500)"
   ],
   "metadata": {
    "collapsed": false
   }
  },
  {
   "cell_type": "code",
   "execution_count": 24,
   "outputs": [],
   "source": [
    "f = open('./data/haoran_mbl/rc_train/random_circuits_depth4.json')\n",
    "out = json.load(f)"
   ],
   "metadata": {
    "collapsed": false
   }
  },
  {
   "cell_type": "code",
   "execution_count": 25,
   "outputs": [
    {
     "data": {
      "text/plain": "36"
     },
     "execution_count": 25,
     "metadata": {},
     "output_type": "execute_result"
    }
   ],
   "source": [
    "out[1]['circuit_depth']"
   ],
   "metadata": {
    "collapsed": false
   }
  },
  {
   "cell_type": "code",
   "execution_count": null,
   "outputs": [],
   "source": [],
   "metadata": {
    "collapsed": false
   }
  }
 ],
 "metadata": {
  "kernelspec": {
   "display_name": "Python 3",
   "language": "python",
   "name": "python3"
  },
  "language_info": {
   "codemirror_mode": {
    "name": "ipython",
    "version": 2
   },
   "file_extension": ".py",
   "mimetype": "text/x-python",
   "name": "python",
   "nbconvert_exporter": "python",
   "pygments_lexer": "ipython2",
   "version": "2.7.6"
  }
 },
 "nbformat": 4,
 "nbformat_minor": 0
}
