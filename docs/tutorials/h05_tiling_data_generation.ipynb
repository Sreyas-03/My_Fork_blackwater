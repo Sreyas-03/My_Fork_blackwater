{
 "cells": [
  {
   "cell_type": "code",
   "execution_count": 1,
   "metadata": {
    "collapsed": true
   },
   "outputs": [],
   "source": [
    "import json\n",
    "import glob\n",
    "\n",
    "import numpy as np\n",
    "import pandas as pd\n",
    "\n",
    "from qiskit import transpile\n",
    "from qiskit import execute, QuantumRegister, ClassicalRegister, Aer\n",
    "from qiskit.providers.fake_provider import FakeLima\n",
    "from qiskit.primitives import Estimator\n",
    "from qiskit.circuit.random import random_circuit\n",
    "\n",
    "import torch\n",
    "from torch.optim import Adam\n",
    "from torch.optim.lr_scheduler import ReduceLROnPlateau\n",
    "from torch.nn.functional import dropout\n",
    "\n",
    "from torch_geometric.nn import GCNConv, global_mean_pool, Linear, ChebConv, SAGEConv\n",
    "from torch_geometric.data import Data\n",
    "from torch_geometric.loader import DataLoader\n",
    "\n",
    "from tqdm.notebook import tqdm_notebook\n",
    "import matplotlib.pyplot as plt\n",
    "import seaborn as sns\n",
    "\n",
    "from blackwater.data.loaders.exp_val import CircuitGraphExpValMitigationDataset\n",
    "from blackwater.data.generators.exp_val import exp_value_generator\n",
    "from blackwater.data.utils import generate_random_pauli_sum_op\n",
    "from blackwater.library.ngem.estimator import ngem\n",
    "\n",
    "from qiskit.quantum_info import random_clifford\n",
    "\n",
    "import random\n",
    "from qiskit.circuit.library import HGate, SdgGate\n",
    "from qiskit.circuit import ClassicalRegister\n",
    "\n",
    "from blackwater.data.utils import (\n",
    "    generate_random_pauli_sum_op,\n",
    "    create_estimator_meas_data,\n",
    "    circuit_to_graph_data_json,\n",
    "    get_backend_properties_v1,\n",
    "    encode_pauli_sum_op,\n",
    "    create_meas_data_from_estimators\n",
    ")\n",
    "from blackwater.data.generators.exp_val import ExpValueEntry\n",
    "from blackwater.metrics.improvement_factor import improvement_factor, Trial, Problem\n",
    "\n",
    "from qiskit_aer import AerSimulator, QasmSimulator\n",
    "from qiskit.providers.fake_provider import FakeMontreal, FakeLima\n",
    "\n",
    "from torch_geometric.nn import (\n",
    "    GCNConv,\n",
    "    TransformerConv,\n",
    "    GATv2Conv,\n",
    "    global_mean_pool,\n",
    "    Linear,\n",
    "    ChebConv,\n",
    "    SAGEConv,\n",
    "    ASAPooling,\n",
    "    dense_diff_pool,\n",
    "    avg_pool_neighbor_x\n",
    ")\n",
    "from torch_geometric.data import Data\n",
    "from torch_geometric.loader import DataLoader\n",
    "from torch_geometric.utils import to_dense_adj, to_dense_batch\n",
    "\n",
    "from qiskit import QuantumCircuit\n",
    "from qiskit.circuit.library import U3Gate, CZGate, PhaseGate, CXGate\n",
    "from mbd_utils import construct_random_clifford, cal_z_exp, calc_imbalance, cal_all_z_exp, construct_mbl_circuit, generate_disorder\n",
    "from gnn import ExpValCircuitGraphModel"
   ]
  },
  {
   "cell_type": "code",
   "execution_count": 2,
   "outputs": [],
   "source": [
    "backend = FakeMontreal()\n",
    "properties = get_backend_properties_v1(backend)\n",
    "\n",
    "## Local\n",
    "backend_ideal = QasmSimulator() # Noiseless\n",
    "backend_noisy = AerSimulator.from_backend(backend) # Noisy\n",
    "\n",
    "run_config_ideal = {'shots': 10000, 'backend': backend_ideal, 'name': 'ideal'}\n",
    "run_config_noisy = {'shots': 10000, 'backend': backend_noisy, 'name': 'noisy'}"
   ],
   "metadata": {
    "collapsed": false
   }
  },
  {
   "cell_type": "code",
   "execution_count": 3,
   "outputs": [],
   "source": [
    "def construct_tiling(circ_to_append, qbs_with_gates, num_qubit):\n",
    "    \"\"\"The circuit to append must already be measured\"\"\"\n",
    "    assert len(qbs_with_gates) <= num_qubit\n",
    "    idle_ind = list(set(range(num_qubit)) - set(qbs_with_gates))\n",
    "    qr = QuantumRegister(num_qubit)\n",
    "    cr = ClassicalRegister(num_qubit)\n",
    "    qc = QuantumCircuit(qr, cr)\n",
    "    qc.append(circ_to_append, qbs_with_gates, qbs_with_gates)\n",
    "    qc.measure(idle_ind, idle_ind)\n",
    "    return qc"
   ],
   "metadata": {
    "collapsed": false
   }
  },
  {
   "cell_type": "code",
   "execution_count": 4,
   "outputs": [],
   "source": [
    "# qbs_with_gates = [0, 1, 2]\n",
    "# num_qubit = 5\n",
    "# circ_to_append = random_circuit(len(qbs_with_gates), 10, 2, measure=True)\n",
    "# qc = construct_tiling(circ_to_append, qbs_with_gates, num_qubit)"
   ],
   "metadata": {
    "collapsed": false
   }
  },
  {
   "cell_type": "code",
   "execution_count": 5,
   "outputs": [],
   "source": [
    "# qc = transpile(qc, backend=backend_noisy, optimization_level=3)\n",
    "# qc.draw(fold=-1, idle_wires=False)"
   ],
   "metadata": {
    "collapsed": false
   }
  },
  {
   "cell_type": "markdown",
   "source": [],
   "metadata": {
    "collapsed": false
   }
  },
  {
   "cell_type": "markdown",
   "source": [
    "# Tiling Data Generation"
   ],
   "metadata": {
    "collapsed": false
   }
  },
  {
   "cell_type": "code",
   "execution_count": 15,
   "outputs": [],
   "source": [
    "def construct_mbl_tiling_circuit(qbs_with_gates, total_circuit_size, seed=0):\n",
    "    num_spins = len(qbs_with_gates) # Number of spins. Must be even.\n",
    "    assert num_spins <= total_circuit_size\n",
    "    W = 0.8 * np.pi # Disorder strength up to np.pi\n",
    "    theta = 0.05 * np.pi # Interaction strength up to np.pi\n",
    "    steps = 6\n",
    "\n",
    "    disorders = generate_disorder(num_spins, W, seed=seed)\n",
    "    random_mbl_circuit = construct_mbl_circuit(num_spins, disorders, theta, steps)\n",
    "    qc = construct_tiling(random_mbl_circuit, qbs_with_gates, total_circuit_size)\n",
    "    qc = transpile(qc, backend=backend_noisy, optimization_level=3)\n",
    "    return qc, random_mbl_circuit"
   ],
   "metadata": {
    "collapsed": false
   }
  },
  {
   "cell_type": "code",
   "execution_count": 7,
   "outputs": [],
   "source": [
    "# _, random_mbl = construct_mbl_tiling_circuit([0, 1, 2, 3], 8)\n",
    "# qc.draw(fold=-1, idle_wires=False, plot_barriers=True)"
   ],
   "metadata": {
    "collapsed": false
   }
  },
  {
   "cell_type": "code",
   "execution_count": 19,
   "outputs": [],
   "source": [
    "from qiskit.transpiler.exceptions import TranspilerError\n",
    "from scipy.linalg import LinAlgError\n",
    "\n",
    "def generate_data(qbs_with_gates, total_num_qubits, save_path: str, n_entries_per_file: int, seed):\n",
    "    entries = []\n",
    "\n",
    "    for i in tqdm_notebook(range(n_entries_per_file)):\n",
    "        success = False\n",
    "        while not success:\n",
    "            try:\n",
    "                circuit = construct_mbl_tiling_circuit(qbs_with_gates, total_num_qubits, seed=seed)[0]\n",
    "                success = True\n",
    "            except (LinAlgError, TranspilerError, np.linalg.LinAlgError) as e:\n",
    "                print(f\"Ran into an error:, {e}\")\n",
    "\n",
    "        job_ideal = execute(circuit, **run_config_ideal)\n",
    "        job_noisy = execute(circuit, **run_config_noisy)\n",
    "\n",
    "        counts_ideal = job_ideal.result().get_counts()\n",
    "        counts_noisy = job_noisy.result().get_counts()\n",
    "\n",
    "        ideal_exp_val = cal_z_exp(counts_ideal)\n",
    "        noisy_exp_val = cal_z_exp(counts_noisy)\n",
    "\n",
    "        graph_data = circuit_to_graph_data_json(\n",
    "            circuit=circuit,\n",
    "            properties=properties,\n",
    "            use_qubit_features=True,\n",
    "            use_gate_features=True,\n",
    "        )\n",
    "\n",
    "        entry = ExpValueEntry(\n",
    "            circuit_graph=graph_data,\n",
    "            observable=[],\n",
    "            ideal_exp_value=ideal_exp_val.tolist(),\n",
    "            noisy_exp_values=[noisy_exp_val.tolist()],\n",
    "            circuit_depth=circuit.depth()\n",
    "        )\n",
    "        entries.append(entry.to_dict())\n",
    "\n",
    "    path = f\"{save_path}/step6_q{qbs_with_gates[0]}-q{qbs_with_gates[-1]}_total{total_num_qubits}_seed{seed}.json\"\n",
    "    # path = f\"{save_path}/step6_q0-q7_total{total_num_qubits}_seed{seed}.json\"\n",
    "    with open(path, \"w\") as f:\n",
    "        # pprint(entries)\n",
    "        json.dump(entries, f)"
   ],
   "metadata": {
    "collapsed": false
   }
  },
  {
   "cell_type": "code",
   "execution_count": null,
   "outputs": [
    {
     "data": {
      "text/plain": "  0%|          | 0/1000 [00:00<?, ?it/s]",
      "application/vnd.jupyter.widget-view+json": {
       "version_major": 2,
       "version_minor": 0,
       "model_id": "f02e14aea4a7429b950fe3ff01d6241e"
      }
     },
     "metadata": {},
     "output_type": "display_data"
    }
   ],
   "source": [
    "qbs_with_gates = [2, 3, 4, 5] #list(range(8)) #list(range(4)) #[2, 3, 4, 5] #[0, 1, 2, 3]\n",
    "total_num_qubits = 8\n",
    "seed = 1\n",
    "# circuit, random_mbl = construct_mbl_tiling_circuit(qbs_with_gates, total_num_qubits)\n",
    "generate_data(qbs_with_gates, total_num_qubits, './data/tiling/train', 1000, seed)"
   ],
   "metadata": {
    "collapsed": false,
    "pycharm": {
     "is_executing": true
    }
   }
  },
  {
   "cell_type": "code",
   "execution_count": null,
   "outputs": [],
   "source": [
    "random_mbl.draw(fold=-1, idle_wires=False, plot_barriers=True)"
   ],
   "metadata": {
    "collapsed": false
   }
  },
  {
   "cell_type": "code",
   "execution_count": null,
   "outputs": [],
   "source": [
    "circuit.draw(fold=-1, idle_wires=False, plot_barriers=True)"
   ],
   "metadata": {
    "collapsed": false
   }
  }
 ],
 "metadata": {
  "kernelspec": {
   "display_name": "Python 3",
   "language": "python",
   "name": "python3"
  },
  "language_info": {
   "codemirror_mode": {
    "name": "ipython",
    "version": 2
   },
   "file_extension": ".py",
   "mimetype": "text/x-python",
   "name": "python",
   "nbconvert_exporter": "python",
   "pygments_lexer": "ipython2",
   "version": "2.7.6"
  }
 },
 "nbformat": 4,
 "nbformat_minor": 0
}
