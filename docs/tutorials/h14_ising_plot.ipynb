{
 "cells": [
  {
   "cell_type": "code",
   "execution_count": 102,
   "metadata": {
    "collapsed": true
   },
   "outputs": [],
   "source": [
    "import json, os\n",
    "import glob, pickle\n",
    "\n",
    "from tqdm.notebook import tqdm\n",
    "\n",
    "import numpy as np\n",
    "import pandas as pd\n",
    "\n",
    "from qiskit import transpile\n",
    "from qiskit import execute\n",
    "from qiskit.providers.fake_provider import FakeLima\n",
    "from qiskit.primitives import Estimator\n",
    "from qiskit.circuit.random import random_circuit\n",
    "\n",
    "import torch\n",
    "from torch.optim import Adam\n",
    "from torch.optim.lr_scheduler import ReduceLROnPlateau\n",
    "from torch.nn.functional import dropout\n",
    "\n",
    "from torch_geometric.nn import GCNConv, global_mean_pool, Linear, ChebConv, SAGEConv\n",
    "from torch_geometric.data import Data\n",
    "from torch_geometric.loader import DataLoader\n",
    "\n",
    "from tqdm.notebook import tqdm_notebook\n",
    "import matplotlib.pyplot as plt\n",
    "import seaborn as sns\n",
    "\n",
    "from blackwater.data.loaders.exp_val import CircuitGraphExpValMitigationDataset\n",
    "from blackwater.data.generators.exp_val import exp_value_generator\n",
    "from blackwater.data.utils import generate_random_pauli_sum_op\n",
    "from blackwater.library.ngem.estimator import ngem\n",
    "\n",
    "from qiskit.quantum_info import random_clifford\n",
    "\n",
    "import random\n",
    "from qiskit.circuit.library import HGate, SdgGate\n",
    "from qiskit.circuit import ClassicalRegister\n",
    "\n",
    "from blackwater.data.utils import (\n",
    "    generate_random_pauli_sum_op,\n",
    "    create_estimator_meas_data,\n",
    "    circuit_to_graph_data_json,\n",
    "    get_backend_properties_v1,\n",
    "    encode_pauli_sum_op,\n",
    "    create_meas_data_from_estimators\n",
    ")\n",
    "from blackwater.data.generators.exp_val import ExpValueEntry\n",
    "from blackwater.metrics.improvement_factor import improvement_factor, Trial, Problem\n",
    "\n",
    "from qiskit_aer import AerSimulator, QasmSimulator\n",
    "from qiskit.providers.fake_provider import FakeMontreal, FakeLima\n",
    "\n",
    "from torch_geometric.nn import (\n",
    "    GCNConv,\n",
    "    TransformerConv,\n",
    "    GATv2Conv,\n",
    "    global_mean_pool,\n",
    "    Linear,\n",
    "    ChebConv,\n",
    "    SAGEConv,\n",
    "    ASAPooling,\n",
    "    dense_diff_pool,\n",
    "    avg_pool_neighbor_x\n",
    ")\n",
    "from torch_geometric.data import Data\n",
    "from torch_geometric.loader import DataLoader\n",
    "from torch_geometric.utils import to_dense_adj, to_dense_batch\n",
    "\n",
    "from qiskit import QuantumCircuit\n",
    "from qiskit.circuit.library import U3Gate, CZGate, PhaseGate, CXGate\n",
    "from mbd_utils import construct_random_clifford, cal_z_exp, calc_imbalance, cal_all_z_exp, construct_mbl_circuit, generate_disorder, modify_and_add_noise_to_model\n",
    "from gnn import ExpValCircuitGraphModel, ExpValCircuitGraphModel_2, ExpValCircuitGraphModel_3\n",
    "from mlp import MLP1, MLP2, MLP3, encode_data\n",
    "from collections import defaultdict\n",
    "from sklearn.linear_model import LinearRegression\n",
    "\n",
    "plt.style.use({'figure.facecolor':'white'})"
   ]
  },
  {
   "cell_type": "code",
   "execution_count": 103,
   "outputs": [],
   "source": [
    "backend = FakeLima()\n",
    "properties = get_backend_properties_v1(backend)\n",
    "\n",
    "## Local\n",
    "backend_ideal = QasmSimulator() # Noiseless\n",
    "backend_noisy = AerSimulator.from_backend(FakeLima()) # Noisy\n",
    "\n",
    "run_config_ideal = {'shots': 10000, 'backend': backend_ideal, 'name': 'ideal'}\n",
    "run_config_noisy = {'shots': 10000, 'backend': backend_noisy, 'name': 'noisy'}"
   ],
   "metadata": {
    "collapsed": false
   }
  },
  {
   "cell_type": "code",
   "execution_count": 104,
   "outputs": [],
   "source": [
    "def fix_random_seed(seed=0):\n",
    "    random.seed(seed)\n",
    "    os.environ['PYTHONHASHSEED'] = str(seed)\n",
    "    np.random.seed(seed)\n",
    "    torch.manual_seed(seed)\n",
    "    torch.cuda.manual_seed(seed)\n",
    "    torch.cuda.manual_seed_all(seed)  # if you are using multi-GPU.\n",
    "    torch.backends.cudnn.benchmark = False\n",
    "    torch.backends.cudnn.deterministic = True\n",
    "    print(f'random seed fixed to {seed}')"
   ],
   "metadata": {
    "collapsed": false
   }
  },
  {
   "cell_type": "code",
   "execution_count": 105,
   "outputs": [],
   "source": [
    "model_path_1 = './model/ising/gnn3_ising.pth'\n",
    "model_path_2 = './model/ising/mlp3_ising.pth'\n",
    "model_path_3 = './model/ising/ols_full_ising.pk'\n",
    "model_path_4 = './model/ising/ols_ising.pk'"
   ],
   "metadata": {
    "collapsed": false
   }
  },
  {
   "cell_type": "code",
   "execution_count": 106,
   "outputs": [],
   "source": [
    "models = []\n",
    "\n",
    "model_1 = ExpValCircuitGraphModel_3(\n",
    "    num_node_features=22,\n",
    "    hidden_channels=25\n",
    ")\n",
    "model_1.load_state_dict(torch.load(model_path_1), strict=True)\n",
    "model_1.eval()\n",
    "models.append((model_1, 'gnn'))\n",
    "\n",
    "model_2 = MLP3(\n",
    "    input_size=58,\n",
    "    output_size=4,\n",
    "    hidden_size=128\n",
    ")\n",
    "model_2.load_state_dict(torch.load(model_path_2), strict=True)\n",
    "model_2.eval()\n",
    "models.append((model_2, 'mlp'))\n",
    "\n",
    "with open(model_path_3, 'rb') as f:\n",
    "    model_3 = pickle.load(f)\n",
    "models.append((model_3, 'ols_full'))\n",
    "\n",
    "with open(model_path_4, 'rb') as f:\n",
    "    model_4 = pickle.load(f)\n",
    "models.append((model_4, 'ols'))"
   ],
   "metadata": {
    "collapsed": false
   }
  },
  {
   "cell_type": "code",
   "execution_count": 107,
   "outputs": [],
   "source": [
    "def load_circuits(data_dir, f_ext='.json'):\n",
    "    circuits = []\n",
    "    ideal_exp_vals = []\n",
    "    noisy_exp_vals = []\n",
    "    data_files = [os.path.join(data_dir, f) for f in os.listdir(data_dir) if f.endswith(f_ext)]\n",
    "    for data_file in tqdm(data_files, leave=True):\n",
    "        if f_ext == '.json':\n",
    "            for entry in json.load(open(data_file, 'r')):\n",
    "                circuits.append(QuantumCircuit.from_qasm_str(entry['circuit']))\n",
    "                ideal_exp_vals.append(entry['ideal_exp_value'])\n",
    "                noisy_exp_vals.append(entry['noisy_exp_values'])\n",
    "        elif f_ext == '.pk':\n",
    "            for entry in pickle.load(open(data_file, 'rb')):\n",
    "                circuits.append(entry['circuit'])\n",
    "                ideal_exp_vals.append(entry['ideal_exp_value'])\n",
    "                noisy_exp_vals.append(entry['noisy_exp_values'])\n",
    "    return circuits, ideal_exp_vals, noisy_exp_vals"
   ],
   "metadata": {
    "collapsed": false
   }
  },
  {
   "cell_type": "code",
   "execution_count": 108,
   "outputs": [
    {
     "data": {
      "text/plain": "  0%|          | 0/5 [00:00<?, ?it/s]",
      "application/vnd.jupyter.widget-view+json": {
       "version_major": 2,
       "version_minor": 0,
       "model_id": "b23cff250db742608d7859092bea8cd5"
      }
     },
     "metadata": {},
     "output_type": "display_data"
    },
    {
     "name": "stdout",
     "output_type": "stream",
     "text": [
      "2000\n"
     ]
    }
   ],
   "source": [
    "test_circuits, test_ideal_exp_vals, test_noisy_exp_vals = load_circuits('./data/ising_dataset/val', '.pk')\n",
    "print(len(test_circuits))"
   ],
   "metadata": {
    "collapsed": false
   }
  },
  {
   "cell_type": "code",
   "execution_count": 109,
   "outputs": [],
   "source": [
    "test_noisy_exp_vals = [x[0] for x in test_noisy_exp_vals]"
   ],
   "metadata": {
    "collapsed": false
   }
  },
  {
   "cell_type": "code",
   "execution_count": 110,
   "outputs": [
    {
     "data": {
      "text/plain": "0it [00:00, ?it/s]",
      "application/vnd.jupyter.widget-view+json": {
       "version_major": 2,
       "version_minor": 0,
       "model_id": "d1f866f13ec3416eabb225b6a0956afe"
      }
     },
     "metadata": {},
     "output_type": "display_data"
    }
   ],
   "source": [
    "df = []\n",
    "\n",
    "for i, (circ, ideal_exp_val, noisy_exp_val) in tqdm(enumerate(zip(test_circuits, test_ideal_exp_vals, test_noisy_exp_vals))):\n",
    "    row = dict()\n",
    "    row['ideal'] = ideal_exp_val\n",
    "    row['noisy'] = noisy_exp_val\n",
    "\n",
    "    circ_trans = transpile(circ, backend, optimization_level=3)\n",
    "    graph_data = circuit_to_graph_data_json(\n",
    "                circuit=circ_trans,\n",
    "                properties=properties,\n",
    "                use_qubit_features=True,\n",
    "                use_gate_features=True,\n",
    "            )\n",
    "    entry = ExpValueEntry(\n",
    "        circuit_graph=graph_data,\n",
    "        observable=[],\n",
    "        ideal_exp_value=ideal_exp_val,\n",
    "        noisy_exp_values=[noisy_exp_val],\n",
    "        circuit_depth=circ_trans.depth()\n",
    "    ).to_pyg_data()\n",
    "\n",
    "    X, _ = encode_data([circ_trans], properties, ideal_exp_val, [noisy_exp_val], num_qubits=4)\n",
    "\n",
    "    for j, (model, m_type) in enumerate(models):\n",
    "        if m_type == 'mlp':\n",
    "            row[f'model_{j}'] = model(X).tolist()[0]\n",
    "        elif m_type == 'gnn':\n",
    "            row[f'model_{j}'] = model(entry.noisy_0,\n",
    "                                    entry.observable,\n",
    "                                    entry.circuit_depth,\n",
    "                                    entry.x,\n",
    "                                    entry.edge_index,\n",
    "                                    entry.batch).tolist()[0]\n",
    "        elif m_type == 'ols_full':\n",
    "            row[f'model_{j}'] = model.predict(X).tolist()[0]\n",
    "        elif m_type == 'ols':\n",
    "            row[f'model_{j}'] = model.predict(X[:, -4:]).tolist()[0]\n",
    "        else:\n",
    "            raise NotImplementedError\n",
    "\n",
    "    df.append(row)\n",
    "\n",
    "df = pd.DataFrame(df)"
   ],
   "metadata": {
    "collapsed": false
   }
  },
  {
   "cell_type": "code",
   "execution_count": 111,
   "outputs": [
    {
     "data": {
      "text/plain": "                                    ideal  \\\n0        [0.1694, 0.0796, 0.0812, 0.1756]   \n1         [0.1166, 0.143, 0.1354, 0.1182]   \n2        [0.1264, 0.1176, 0.1262, 0.1254]   \n3         [0.0146, 0.065, 0.0658, 0.0246]   \n4         [0.203, 0.0422, 0.0392, 0.1994]   \n...                                   ...   \n1995     [0.9796, 0.9734, 0.9728, 0.9834]   \n1996     [0.1268, 0.1316, 0.1138, 0.1118]   \n1997  [-0.0116, -0.0044, -0.0176, 0.0004]   \n1998   [0.001, -0.0096, -0.0194, -0.0106]   \n1999      [0.0342, 0.0874, 0.0964, 0.049]   \n\n                                    noisy  \\\n0           [0.018, -0.026, 0.0662, 0.14]   \n1       [-0.0074, 0.0136, 0.1014, 0.0918]   \n2        [-0.008, 0.0254, 0.1054, 0.1032]   \n3      [-0.0688, -0.0386, 0.0278, -0.003]   \n4        [0.0674, -0.027, 0.0478, 0.1886]   \n...                                   ...   \n1995      [0.6024, 0.644, 0.8142, 0.8818]   \n1996      [0.042, 0.0778, 0.0998, 0.0828]   \n1997  [-0.0932, -0.0556, -0.0266, -0.031]   \n1998  [-0.0852, -0.0884, -0.0192, -0.016]   \n1999    [-0.0372, 0.0326, 0.0706, 0.0174]   \n\n                                                model_0  \\\n0     [0.13543470203876495, 0.11075374484062195, 0.1...   \n1     [0.1307079792022705, 0.10756529122591019, 0.10...   \n2     [0.13537020981311798, 0.11104825139045715, 0.1...   \n3     [0.07267936319112778, 0.06591206789016724, 0.0...   \n4     [0.14909043908119202, 0.12104973942041397, 0.1...   \n...                                                 ...   \n1995  [0.9426551461219788, 0.8953040242195129, 0.895...   \n1996  [0.12096874415874481, 0.1025676354765892, 0.10...   \n1997  [0.021826408803462982, 0.030928069725632668, 0...   \n1998  [0.023501122370362282, 0.032198041677474976, 0...   \n1999  [0.05923982709646225, 0.05633950233459473, 0.0...   \n\n                                                model_1  \\\n0     [0.1394990086555481, 0.08520112931728363, 0.08...   \n1     [0.09376347064971924, 0.09136368334293365, 0.0...   \n2     [0.09376347064971924, 0.09136368334293365, 0.0...   \n3     [0.06955122947692871, 0.07410839945077896, 0.0...   \n4     [0.16755610704421997, 0.08142061531543732, 0.0...   \n...                                                 ...   \n1995  [0.9130816459655762, 0.8758511543273926, 0.877...   \n1996  [0.08404728770256042, 0.0861499160528183, 0.08...   \n1997  [0.017885617911815643, 0.01755698025226593, 0....   \n1998  [0.010361626744270325, 0.004746474325656891, 0...   \n1999  [0.0549154058098793, 0.07080917805433273, 0.07...   \n\n                                                model_2  \\\n0     [0.15771484375, 0.079559326171875, 0.081512451...   \n1     [0.108154296875, 0.113250732421875, 0.11517333...   \n2     [0.117462158203125, 0.12322998046875, 0.125167...   \n3     [0.00958251953125, 0.032073974609375, 0.033073...   \n4     [0.20672607421875, 0.060211181640625, 0.061408...   \n...                                                 ...   \n1995  [0.9735107421875, 0.96258544921875, 0.96376800...   \n1996  [0.099273681640625, 0.11114501953125, 0.111412...   \n1997  [-0.02392578125, -0.017913818359375, -0.016960...   \n1998  [-0.00152587890625, -0.014251708984375, -0.013...   \n1999  [0.02880859375, 0.081817626953125, 0.082633972...   \n\n                                                model_3  \n0     [0.17924273014068604, 0.1124551072716713, 0.11...  \n1     [0.1256609857082367, 0.14090999960899353, 0.14...  \n2     [0.13625195622444153, 0.1524987816810608, 0.15...  \n3     [0.02166048064827919, 0.050751157104969025, 0....  \n4     [0.22691091895103455, 0.0900990441441536, 0.09...  \n...                                                 ...  \n1995  [0.9639947414398193, 0.950322151184082, 0.9513...  \n1996  [0.09897401183843613, 0.11138060688972473, 0.1...  \n1997  [-0.015001965686678886, -0.004019379615783691,...  \n1998  [0.010006709024310112, 0.0027176542207598686, ...  \n1999  [0.03508947417140007, 0.09166676551103592, 0.0...  \n\n[2000 rows x 6 columns]",
      "text/html": "<div>\n<style scoped>\n    .dataframe tbody tr th:only-of-type {\n        vertical-align: middle;\n    }\n\n    .dataframe tbody tr th {\n        vertical-align: top;\n    }\n\n    .dataframe thead th {\n        text-align: right;\n    }\n</style>\n<table border=\"1\" class=\"dataframe\">\n  <thead>\n    <tr style=\"text-align: right;\">\n      <th></th>\n      <th>ideal</th>\n      <th>noisy</th>\n      <th>model_0</th>\n      <th>model_1</th>\n      <th>model_2</th>\n      <th>model_3</th>\n    </tr>\n  </thead>\n  <tbody>\n    <tr>\n      <th>0</th>\n      <td>[0.1694, 0.0796, 0.0812, 0.1756]</td>\n      <td>[0.018, -0.026, 0.0662, 0.14]</td>\n      <td>[0.13543470203876495, 0.11075374484062195, 0.1...</td>\n      <td>[0.1394990086555481, 0.08520112931728363, 0.08...</td>\n      <td>[0.15771484375, 0.079559326171875, 0.081512451...</td>\n      <td>[0.17924273014068604, 0.1124551072716713, 0.11...</td>\n    </tr>\n    <tr>\n      <th>1</th>\n      <td>[0.1166, 0.143, 0.1354, 0.1182]</td>\n      <td>[-0.0074, 0.0136, 0.1014, 0.0918]</td>\n      <td>[0.1307079792022705, 0.10756529122591019, 0.10...</td>\n      <td>[0.09376347064971924, 0.09136368334293365, 0.0...</td>\n      <td>[0.108154296875, 0.113250732421875, 0.11517333...</td>\n      <td>[0.1256609857082367, 0.14090999960899353, 0.14...</td>\n    </tr>\n    <tr>\n      <th>2</th>\n      <td>[0.1264, 0.1176, 0.1262, 0.1254]</td>\n      <td>[-0.008, 0.0254, 0.1054, 0.1032]</td>\n      <td>[0.13537020981311798, 0.11104825139045715, 0.1...</td>\n      <td>[0.09376347064971924, 0.09136368334293365, 0.0...</td>\n      <td>[0.117462158203125, 0.12322998046875, 0.125167...</td>\n      <td>[0.13625195622444153, 0.1524987816810608, 0.15...</td>\n    </tr>\n    <tr>\n      <th>3</th>\n      <td>[0.0146, 0.065, 0.0658, 0.0246]</td>\n      <td>[-0.0688, -0.0386, 0.0278, -0.003]</td>\n      <td>[0.07267936319112778, 0.06591206789016724, 0.0...</td>\n      <td>[0.06955122947692871, 0.07410839945077896, 0.0...</td>\n      <td>[0.00958251953125, 0.032073974609375, 0.033073...</td>\n      <td>[0.02166048064827919, 0.050751157104969025, 0....</td>\n    </tr>\n    <tr>\n      <th>4</th>\n      <td>[0.203, 0.0422, 0.0392, 0.1994]</td>\n      <td>[0.0674, -0.027, 0.0478, 0.1886]</td>\n      <td>[0.14909043908119202, 0.12104973942041397, 0.1...</td>\n      <td>[0.16755610704421997, 0.08142061531543732, 0.0...</td>\n      <td>[0.20672607421875, 0.060211181640625, 0.061408...</td>\n      <td>[0.22691091895103455, 0.0900990441441536, 0.09...</td>\n    </tr>\n    <tr>\n      <th>...</th>\n      <td>...</td>\n      <td>...</td>\n      <td>...</td>\n      <td>...</td>\n      <td>...</td>\n      <td>...</td>\n    </tr>\n    <tr>\n      <th>1995</th>\n      <td>[0.9796, 0.9734, 0.9728, 0.9834]</td>\n      <td>[0.6024, 0.644, 0.8142, 0.8818]</td>\n      <td>[0.9426551461219788, 0.8953040242195129, 0.895...</td>\n      <td>[0.9130816459655762, 0.8758511543273926, 0.877...</td>\n      <td>[0.9735107421875, 0.96258544921875, 0.96376800...</td>\n      <td>[0.9639947414398193, 0.950322151184082, 0.9513...</td>\n    </tr>\n    <tr>\n      <th>1996</th>\n      <td>[0.1268, 0.1316, 0.1138, 0.1118]</td>\n      <td>[0.042, 0.0778, 0.0998, 0.0828]</td>\n      <td>[0.12096874415874481, 0.1025676354765892, 0.10...</td>\n      <td>[0.08404728770256042, 0.0861499160528183, 0.08...</td>\n      <td>[0.099273681640625, 0.11114501953125, 0.111412...</td>\n      <td>[0.09897401183843613, 0.11138060688972473, 0.1...</td>\n    </tr>\n    <tr>\n      <th>1997</th>\n      <td>[-0.0116, -0.0044, -0.0176, 0.0004]</td>\n      <td>[-0.0932, -0.0556, -0.0266, -0.031]</td>\n      <td>[0.021826408803462982, 0.030928069725632668, 0...</td>\n      <td>[0.017885617911815643, 0.01755698025226593, 0....</td>\n      <td>[-0.02392578125, -0.017913818359375, -0.016960...</td>\n      <td>[-0.015001965686678886, -0.004019379615783691,...</td>\n    </tr>\n    <tr>\n      <th>1998</th>\n      <td>[0.001, -0.0096, -0.0194, -0.0106]</td>\n      <td>[-0.0852, -0.0884, -0.0192, -0.016]</td>\n      <td>[0.023501122370362282, 0.032198041677474976, 0...</td>\n      <td>[0.010361626744270325, 0.004746474325656891, 0...</td>\n      <td>[-0.00152587890625, -0.014251708984375, -0.013...</td>\n      <td>[0.010006709024310112, 0.0027176542207598686, ...</td>\n    </tr>\n    <tr>\n      <th>1999</th>\n      <td>[0.0342, 0.0874, 0.0964, 0.049]</td>\n      <td>[-0.0372, 0.0326, 0.0706, 0.0174]</td>\n      <td>[0.05923982709646225, 0.05633950233459473, 0.0...</td>\n      <td>[0.0549154058098793, 0.07080917805433273, 0.07...</td>\n      <td>[0.02880859375, 0.081817626953125, 0.082633972...</td>\n      <td>[0.03508947417140007, 0.09166676551103592, 0.0...</td>\n    </tr>\n  </tbody>\n</table>\n<p>2000 rows × 6 columns</p>\n</div>"
     },
     "execution_count": 111,
     "metadata": {},
     "output_type": "execute_result"
    }
   ],
   "source": [
    "df"
   ],
   "metadata": {
    "collapsed": false
   }
  },
  {
   "cell_type": "code",
   "execution_count": 125,
   "outputs": [
    {
     "data": {
      "text/plain": "<Figure size 432x288 with 1 Axes>",
      "image/png": "[encoded data removed]"
     },
     "metadata": {},
     "output_type": "display_data"
    }
   ],
   "source": [
    "plt.figure()\n",
    "plt.style.use({'figure.facecolor':'white'})\n",
    "q = 3\n",
    "dist_noisy = df['noisy'].apply(lambda x: x[q]) - df['ideal'].apply(lambda x: x[q])\n",
    "sns.histplot(dist_noisy, kde=True, alpha=0.2, label='dist_noisy')\n",
    "for i in range(len(models)):\n",
    "    dist_model = df['noisy'].apply(lambda x: x[q]) - df[f'model_{i}'].apply(lambda x: x[q])\n",
    "    sns.histplot(dist_model, kde=True, alpha=0.2, label=f'dist_{models[i][1]}')\n",
    "\n",
    "plt.xlabel(\"Distance\")\n",
    "plt.ylabel(\"Counts\")\n",
    "plt.title(f\"Distribution of distance to ideal on q{q}\")\n",
    "plt.xlim([-0.35, 0.15])\n",
    "plt.ylim([0, 300])\n",
    "plt.legend()\n",
    "plt.show()\n",
    "# Plot the distribution\n",
    "# sns.histplot(dist_noisy, kde=True)\n",
    "# plt.xlabel(\"Differences (Column2 - Column1)\")\n",
    "# plt.ylabel(\"Frequency\")\n",
    "# plt.title(\"Distribution of Differences between First Entries of Column2 and Column1\")\n",
    "# plt.show()"
   ],
   "metadata": {
    "collapsed": false
   }
  },
  {
   "cell_type": "code",
   "execution_count": 31,
   "outputs": [],
   "source": [
    "from qiskit import *\n",
    "from typing import TypedDict\n",
    "\n",
    "import pandas as pd\n",
    "from qiskit.quantum_info import SparsePauliOp\n",
    "from qiskit.result import sampled_expectation_value, Counts\n",
    "from typing import Union, List, Dict\n",
    "\n",
    "class CountsProcess:\n",
    "\n",
    "    @classmethod\n",
    "    def pauli_exp_val_all1Q_for_counts(cls, counts:Union[List[Counts], Counts], nolabels=False):\n",
    "        \"\"\" Pauli expectaitoin value for all isngle qubit Z observables across all counts.\n",
    "            - Simplest version\n",
    "            - Not very efficient\n",
    "        Returns:\n",
    "            - <Z> for qubit Q0...Qn-1 with ordering qubit index is array index.\n",
    "            - Pauli labels returened are in rightmost is Q0 (qiskit convention)\n",
    "              To put ot physics notation when in df columns:\n",
    "                    df.columns = list(map(lambda x: x[::-1],df.columns))\n",
    "            \"\"\"\n",
    "        if isinstance(counts, Counts):\n",
    "            nq = counts.creg_sizes[0][1]\n",
    "            expects = [] if nolabels else {}\n",
    "            for n in range(nq):\n",
    "                # In the string representation qubit-0 corresponds to the right-most Pauli character\n",
    "                pauli = SparsePauliOp.from_sparse_list([(\"Z\", [n], 1)], nq)\n",
    "                expect = sampled_expectation_value(counts, pauli)\n",
    "                if nolabels:\n",
    "                    expects += [expect]\n",
    "                else:\n",
    "                    expects[pauli.paulis.to_labels()[0]] = expect\n",
    "            return expects\n",
    "        elif isinstance(counts, list):\n",
    "            expects = []\n",
    "            for count in counts:\n",
    "                expect = cls.pauli_exp_val_all1Q_for_counts(count)\n",
    "                expects += [expect]\n",
    "            return expects\n",
    "\n",
    "    @classmethod\n",
    "    def pauli_exp_val_all2Q_for_counts(cls, counts:Union[List[Counts], Counts], nolabels=False):\n",
    "        \"\"\" Pauli expectaitoin value for all isngle qubit Z observables across all counts.\n",
    "            - Simplest version\n",
    "            - Not very efficient\n",
    "        Returns:\n",
    "            - <Z> for qubit Q0...Qn-1 with ordering qubit index is array index.\n",
    "            - Pauli labels returened are in rightmost is Q0 (qiskit convention)\n",
    "              To put ot physics notation when in df columns:\n",
    "                    df.columns = list(map(lambda x: x[::-1],df.columns))\n",
    "            \"\"\"\n",
    "        if isinstance(counts, Counts):\n",
    "            nq = counts.creg_sizes[0][1]\n",
    "            expects = [] if nolabels else {}\n",
    "            for n in range(nq):\n",
    "                for m in range(n+1, nq):\n",
    "                    # In the string representation qubit-0 corresponds to the right-most Pauli character\n",
    "                    pauli = SparsePauliOp.from_sparse_list([(\"ZZ\", [n,m], 1)], nq)\n",
    "                    expect = sampled_expectation_value(counts, pauli)\n",
    "                    if nolabels:\n",
    "                        expects += [expect]\n",
    "                    else:\n",
    "                        expects[pauli.paulis.to_labels()[0]] = expect\n",
    "            return expects\n",
    "        elif isinstance(counts, list):\n",
    "            expects = []\n",
    "            for count in counts:\n",
    "                expect = cls.pauli_exp_val_all2Q_for_counts(count)\n",
    "                expects += [expect]\n",
    "            return expects\n",
    "\n",
    "\n",
    "class IsingModel:\n",
    "\n",
    "    class Options(dict):\n",
    "        def __init__(self, *args, **kwargs):\n",
    "            super().__init__()\n",
    "            self['nq'] = 4\n",
    "            self['h'] = 1\n",
    "            self['J'] = 0.15\n",
    "            self['dt'] = 1/4\n",
    "            self['depth'] = 15\n",
    "            self.update(*args, **kwargs)\n",
    "\n",
    "        def config_4q_paper(self):\n",
    "            self['h'] = 1\n",
    "            self['J'] = 0.15\n",
    "            self['dt'] = 1/4*2\n",
    "\n",
    "        def config_10q_paper(self):\n",
    "            self['h'] = 1\n",
    "            self['J'] = 0.5236\n",
    "            self['dt'] = 1/4\n",
    "\n",
    "\n",
    "    @classmethod\n",
    "    def apply_quantum_circuit_layer(cls, qc: QuantumCircuit, ops: 'IsingModel.Options'):\n",
    "        allq = list(range(ops['nq']))\n",
    "\n",
    "        qc.rx(2*ops['h']*ops['dt'], allq)\n",
    "\n",
    "        qc.barrier()\n",
    "        for q0 in allq[0::2]:\n",
    "            q1 = q0+1\n",
    "            qc.cx(q0,q1)\n",
    "        qc.rz(-2*ops['J']*ops['dt'], allq[1::2])\n",
    "        for q0 in allq[0::2]:\n",
    "            q1 = q0+1\n",
    "            qc.cx(q0,q1)\n",
    "\n",
    "        qc.barrier()\n",
    "        for q0 in allq[1:-2:2]:\n",
    "            q1 = q0+1\n",
    "            qc.cx(q0,q1)\n",
    "        qc.rz(-2*ops['J']*ops['dt'], allq[2:-1:2])\n",
    "        for q0 in allq[1:-2:2]:\n",
    "            q1 = q0+1\n",
    "            qc.cx(q0,q1)\n",
    "        qc.barrier()\n",
    "\n",
    "    @classmethod\n",
    "    def make_quantum_circuit(cls, ops: 'IsingModel.Options'):\n",
    "        qc = QuantumCircuit(ops['nq'])\n",
    "        allq = list(range(ops['nq']))\n",
    "\n",
    "        for step in range(ops['depth']):\n",
    "            cls.apply_quantum_circuit_layer(qc, ops)\n",
    "\n",
    "        if ops['measure_basis'] == 'Z':\n",
    "            pass\n",
    "        elif  ops['measure_basis'] == 'X':\n",
    "            qc.h(allq)\n",
    "        elif  ops['measure_basis'] == 'Y':\n",
    "            qc.sdg(allq)\n",
    "            qc.h(allq)\n",
    "        else:\n",
    "            raise Exception(\"Must be X Y or Z\")\n",
    "        qc.measure_all()\n",
    "\n",
    "        return qc\n",
    "\n",
    "    @classmethod\n",
    "    def make_circs_sweep(cls, ops, sweep_steps = None, measure_bases = None):\n",
    "        sweep_steps = sweep_steps or [16]\n",
    "        measure_bases = measure_bases or ['Z']\n",
    "\n",
    "        circs = []\n",
    "        run_params = []\n",
    "        for basis in measure_bases:\n",
    "            for depth in range(*sweep_steps):\n",
    "                ops['measure_basis'] = basis\n",
    "                ops['depth'] = depth\n",
    "                qc = cls.make_quantum_circuit(ops)\n",
    "                qc.metadata = {}\n",
    "                qc.metadata['measure_basis'] = basis\n",
    "                qc.metadata['depth'] = depth\n",
    "                run_params += [qc.metadata.copy()]\n",
    "                circs += [qc]\n",
    "        return circs, run_params"
   ],
   "metadata": {
    "collapsed": false
   }
  },
  {
   "cell_type": "code",
   "execution_count": 82,
   "outputs": [
    {
     "data": {
      "text/plain": "        ┌───────┐ ░                         ░                         ░ ┌───────┐ ░                         ░                         ░ ┌───────┐ ░                         ░                         ░ ┌───────┐ ░                         ░                         ░ ┌───────┐ ░                         ░                         ░  ░ ┌─┐         \n   q_0: ┤ Rx(1) ├─░───■─────────────────■───░─────────────────────────░─┤ Rx(1) ├─░───■─────────────────■───░─────────────────────────░─┤ Rx(1) ├─░───■─────────────────■───░─────────────────────────░─┤ Rx(1) ├─░───■─────────────────■───░─────────────────────────░─┤ Rx(1) ├─░───■─────────────────■───░─────────────────────────░──░─┤M├─────────\n        ├───────┤ ░ ┌─┴─┐┌───────────┐┌─┴─┐ ░                         ░ ├───────┤ ░ ┌─┴─┐┌───────────┐┌─┴─┐ ░                         ░ ├───────┤ ░ ┌─┴─┐┌───────────┐┌─┴─┐ ░                         ░ ├───────┤ ░ ┌─┴─┐┌───────────┐┌─┴─┐ ░                         ░ ├───────┤ ░ ┌─┴─┐┌───────────┐┌─┴─┐ ░                         ░  ░ └╥┘┌─┐      \n   q_1: ┤ Rx(1) ├─░─┤ X ├┤ Rz(-0.15) ├┤ X ├─░───■─────────────────■───░─┤ Rx(1) ├─░─┤ X ├┤ Rz(-0.15) ├┤ X ├─░───■─────────────────■───░─┤ Rx(1) ├─░─┤ X ├┤ Rz(-0.15) ├┤ X ├─░───■─────────────────■───░─┤ Rx(1) ├─░─┤ X ├┤ Rz(-0.15) ├┤ X ├─░───■─────────────────■───░─┤ Rx(1) ├─░─┤ X ├┤ Rz(-0.15) ├┤ X ├─░───■─────────────────■───░──░──╫─┤M├──────\n        ├───────┤ ░ └───┘└───────────┘└───┘ ░ ┌─┴─┐┌───────────┐┌─┴─┐ ░ ├───────┤ ░ └───┘└───────────┘└───┘ ░ ┌─┴─┐┌───────────┐┌─┴─┐ ░ ├───────┤ ░ └───┘└───────────┘└───┘ ░ ┌─┴─┐┌───────────┐┌─┴─┐ ░ ├───────┤ ░ └───┘└───────────┘└───┘ ░ ┌─┴─┐┌───────────┐┌─┴─┐ ░ ├───────┤ ░ └───┘└───────────┘└───┘ ░ ┌─┴─┐┌───────────┐┌─┴─┐ ░  ░  ║ └╥┘┌─┐   \n   q_2: ┤ Rx(1) ├─░───■─────────────────■───░─┤ X ├┤ Rz(-0.15) ├┤ X ├─░─┤ Rx(1) ├─░───■─────────────────■───░─┤ X ├┤ Rz(-0.15) ├┤ X ├─░─┤ Rx(1) ├─░───■─────────────────■───░─┤ X ├┤ Rz(-0.15) ├┤ X ├─░─┤ Rx(1) ├─░───■─────────────────■───░─┤ X ├┤ Rz(-0.15) ├┤ X ├─░─┤ Rx(1) ├─░───■─────────────────■───░─┤ X ├┤ Rz(-0.15) ├┤ X ├─░──░──╫──╫─┤M├───\n        ├───────┤ ░ ┌─┴─┐┌───────────┐┌─┴─┐ ░ └───┘└───────────┘└───┘ ░ ├───────┤ ░ ┌─┴─┐┌───────────┐┌─┴─┐ ░ └───┘└───────────┘└───┘ ░ ├───────┤ ░ ┌─┴─┐┌───────────┐┌─┴─┐ ░ └───┘└───────────┘└───┘ ░ ├───────┤ ░ ┌─┴─┐┌───────────┐┌─┴─┐ ░ └───┘└───────────┘└───┘ ░ ├───────┤ ░ ┌─┴─┐┌───────────┐┌─┴─┐ ░ └───┘└───────────┘└───┘ ░  ░  ║  ║ └╥┘┌─┐\n   q_3: ┤ Rx(1) ├─░─┤ X ├┤ Rz(-0.15) ├┤ X ├─░─────────────────────────░─┤ Rx(1) ├─░─┤ X ├┤ Rz(-0.15) ├┤ X ├─░─────────────────────────░─┤ Rx(1) ├─░─┤ X ├┤ Rz(-0.15) ├┤ X ├─░─────────────────────────░─┤ Rx(1) ├─░─┤ X ├┤ Rz(-0.15) ├┤ X ├─░─────────────────────────░─┤ Rx(1) ├─░─┤ X ├┤ Rz(-0.15) ├┤ X ├─░─────────────────────────░──░──╫──╫──╫─┤M├\n        └───────┘ ░ └───┘└───────────┘└───┘ ░                         ░ └───────┘ ░ └───┘└───────────┘└───┘ ░                         ░ └───────┘ ░ └───┘└───────────┘└───┘ ░                         ░ └───────┘ ░ └───┘└───────────┘└───┘ ░                         ░ └───────┘ ░ └───┘└───────────┘└───┘ ░                         ░  ░  ║  ║  ║ └╥┘\nmeas: 4/════════════════════════════════════════════════════════════════════════════════════════════════════════════════════════════════════════════════════════════════════════════════════════════════════════════════════════════════════════════════════════════════════════════════════════════════════════════════════════════════════╩══╩══╩══╩═\n                                                                                                                                                                                                                                                                                                                                            0  1  2  3 ",
      "text/html": "<pre style=\"word-wrap: normal;white-space: pre;background: #fff0;line-height: 1.1;font-family: &quot;Courier New&quot;,Courier,monospace\">        ┌───────┐ ░                         ░                         ░ ┌───────┐ ░                         ░                         ░ ┌───────┐ ░                         ░                         ░ ┌───────┐ ░                         ░                         ░ ┌───────┐ ░                         ░                         ░  ░ ┌─┐         \n   q_0: ┤ Rx(1) ├─░───■─────────────────■───░─────────────────────────░─┤ Rx(1) ├─░───■─────────────────■───░─────────────────────────░─┤ Rx(1) ├─░───■─────────────────■───░─────────────────────────░─┤ Rx(1) ├─░───■─────────────────■───░─────────────────────────░─┤ Rx(1) ├─░───■─────────────────■───░─────────────────────────░──░─┤M├─────────\n        ├───────┤ ░ ┌─┴─┐┌───────────┐┌─┴─┐ ░                         ░ ├───────┤ ░ ┌─┴─┐┌───────────┐┌─┴─┐ ░                         ░ ├───────┤ ░ ┌─┴─┐┌───────────┐┌─┴─┐ ░                         ░ ├───────┤ ░ ┌─┴─┐┌───────────┐┌─┴─┐ ░                         ░ ├───────┤ ░ ┌─┴─┐┌───────────┐┌─┴─┐ ░                         ░  ░ └╥┘┌─┐      \n   q_1: ┤ Rx(1) ├─░─┤ X ├┤ Rz(-0.15) ├┤ X ├─░───■─────────────────■───░─┤ Rx(1) ├─░─┤ X ├┤ Rz(-0.15) ├┤ X ├─░───■─────────────────■───░─┤ Rx(1) ├─░─┤ X ├┤ Rz(-0.15) ├┤ X ├─░───■─────────────────■───░─┤ Rx(1) ├─░─┤ X ├┤ Rz(-0.15) ├┤ X ├─░───■─────────────────■───░─┤ Rx(1) ├─░─┤ X ├┤ Rz(-0.15) ├┤ X ├─░───■─────────────────■───░──░──╫─┤M├──────\n        ├───────┤ ░ └───┘└───────────┘└───┘ ░ ┌─┴─┐┌───────────┐┌─┴─┐ ░ ├───────┤ ░ └───┘└───────────┘└───┘ ░ ┌─┴─┐┌───────────┐┌─┴─┐ ░ ├───────┤ ░ └───┘└───────────┘└───┘ ░ ┌─┴─┐┌───────────┐┌─┴─┐ ░ ├───────┤ ░ └───┘└───────────┘└───┘ ░ ┌─┴─┐┌───────────┐┌─┴─┐ ░ ├───────┤ ░ └───┘└───────────┘└───┘ ░ ┌─┴─┐┌───────────┐┌─┴─┐ ░  ░  ║ └╥┘┌─┐   \n   q_2: ┤ Rx(1) ├─░───■─────────────────■───░─┤ X ├┤ Rz(-0.15) ├┤ X ├─░─┤ Rx(1) ├─░───■─────────────────■───░─┤ X ├┤ Rz(-0.15) ├┤ X ├─░─┤ Rx(1) ├─░───■─────────────────■───░─┤ X ├┤ Rz(-0.15) ├┤ X ├─░─┤ Rx(1) ├─░───■─────────────────■───░─┤ X ├┤ Rz(-0.15) ├┤ X ├─░─┤ Rx(1) ├─░───■─────────────────■───░─┤ X ├┤ Rz(-0.15) ├┤ X ├─░──░──╫──╫─┤M├───\n        ├───────┤ ░ ┌─┴─┐┌───────────┐┌─┴─┐ ░ └───┘└───────────┘└───┘ ░ ├───────┤ ░ ┌─┴─┐┌───────────┐┌─┴─┐ ░ └───┘└───────────┘└───┘ ░ ├───────┤ ░ ┌─┴─┐┌───────────┐┌─┴─┐ ░ └───┘└───────────┘└───┘ ░ ├───────┤ ░ ┌─┴─┐┌───────────┐┌─┴─┐ ░ └───┘└───────────┘└───┘ ░ ├───────┤ ░ ┌─┴─┐┌───────────┐┌─┴─┐ ░ └───┘└───────────┘└───┘ ░  ░  ║  ║ └╥┘┌─┐\n   q_3: ┤ Rx(1) ├─░─┤ X ├┤ Rz(-0.15) ├┤ X ├─░─────────────────────────░─┤ Rx(1) ├─░─┤ X ├┤ Rz(-0.15) ├┤ X ├─░─────────────────────────░─┤ Rx(1) ├─░─┤ X ├┤ Rz(-0.15) ├┤ X ├─░─────────────────────────░─┤ Rx(1) ├─░─┤ X ├┤ Rz(-0.15) ├┤ X ├─░─────────────────────────░─┤ Rx(1) ├─░─┤ X ├┤ Rz(-0.15) ├┤ X ├─░─────────────────────────░──░──╫──╫──╫─┤M├\n        └───────┘ ░ └───┘└───────────┘└───┘ ░                         ░ └───────┘ ░ └───┘└───────────┘└───┘ ░                         ░ └───────┘ ░ └───┘└───────────┘└───┘ ░                         ░ └───────┘ ░ └───┘└───────────┘└───┘ ░                         ░ └───────┘ ░ └───┘└───────────┘└───┘ ░                         ░  ░  ║  ║  ║ └╥┘\nmeas: 4/════════════════════════════════════════════════════════════════════════════════════════════════════════════════════════════════════════════════════════════════════════════════════════════════════════════════════════════════════════════════════════════════════════════════════════════════════════════════════════════════════╩══╩══╩══╩═\n                                                                                                                                                                                                                                                                                                                                            0  1  2  3 </pre>"
     },
     "execution_count": 82,
     "metadata": {},
     "output_type": "execute_result"
    }
   ],
   "source": [
    "cls = IsingModel\n",
    "ops = cls.Options()\n",
    "ops.config_4q_paper()\n",
    "# ops.config_10q_paper()\n",
    "qc_list, run_params = cls.make_circs_sweep(ops, sweep_steps=[15], measure_bases=['Z'])\n",
    "qc_list[5].draw(fold=-1)"
   ],
   "metadata": {
    "collapsed": false
   }
  },
  {
   "cell_type": "code",
   "execution_count": 83,
   "outputs": [
    {
     "name": "stdout",
     "output_type": "stream",
     "text": [
      "random seed fixed to 0\n"
     ]
    },
    {
     "data": {
      "text/plain": "  0%|          | 0/1 [00:00<?, ?it/s]",
      "application/vnd.jupyter.widget-view+json": {
       "version_major": 2,
       "version_minor": 0,
       "model_id": "f3050349e63f47cb80f2e810f1904954"
      }
     },
     "metadata": {},
     "output_type": "display_data"
    }
   ],
   "source": [
    "fix_random_seed(0)\n",
    "\n",
    "num_traj = 1\n",
    "\n",
    "def run_ising_steps(be, r_c_n):\n",
    "    exp_Z_all_ideal = []\n",
    "    exp_Z_all_noisy = []\n",
    "    exp_Z_all_mitigated_dict = defaultdict(list)\n",
    "\n",
    "    for _ in tqdm_notebook(range(num_traj)):\n",
    "\n",
    "        transpiled_qc_list = transpile(qc_list, be, optimization_level=3)\n",
    "        job_ideal = execute(qc_list, **run_config_ideal)\n",
    "        job_noisy = execute(transpiled_qc_list, **r_c_n)\n",
    "\n",
    "        exp_Z_ideal = []\n",
    "        exp_Z_noisy = []\n",
    "        exp_Z_mitigated_dict = defaultdict(list)\n",
    "\n",
    "        for i in range(len(qc_list)):\n",
    "            counts_ideal = job_ideal.result().get_counts()[i]\n",
    "            counts_noisy = job_noisy.result().get_counts()[i]\n",
    "\n",
    "            ideal_exp_val = cal_z_exp(counts_ideal)\n",
    "            noisy_exp_val = cal_z_exp(counts_noisy)\n",
    "\n",
    "            exp_Z_ideal.append(list(ideal_exp_val))  # Single-Z expectation value of each qubit\n",
    "            exp_Z_noisy.append(list(noisy_exp_val))  # Single-Z expectation value of each qubit\n",
    "\n",
    "            graph_data = circuit_to_graph_data_json(\n",
    "                circuit=transpiled_qc_list[i],\n",
    "                properties=properties,\n",
    "                use_qubit_features=True,\n",
    "                use_gate_features=True,\n",
    "            )\n",
    "            entry = ExpValueEntry(\n",
    "                circuit_graph=graph_data,\n",
    "                observable=[],\n",
    "                ideal_exp_value=ideal_exp_val.tolist(),\n",
    "                noisy_exp_values=[noisy_exp_val.tolist()],\n",
    "                circuit_depth=transpiled_qc_list[i].depth()\n",
    "            ).to_pyg_data()\n",
    "\n",
    "            X, _ = encode_data([transpiled_qc_list[i]], properties, ideal_exp_val, [noisy_exp_val], num_qubits=4)\n",
    "\n",
    "            for j, (model, mtype) in enumerate(models):\n",
    "                if mtype == 'mlp':\n",
    "                    mitigated_exp_val = model(X).tolist()[0]\n",
    "                elif mtype == 'gnn':\n",
    "                    mitigated_exp_val = model(entry.noisy_0,\n",
    "                                            entry.observable,\n",
    "                                            entry.circuit_depth,\n",
    "                                            entry.x,\n",
    "                                            entry.edge_index,\n",
    "                                            entry.batch).tolist()[0]\n",
    "                elif mtype == 'ols_full':\n",
    "                    mitigated_exp_val = model.predict(X).tolist()[0]\n",
    "                elif mtype == 'ols':\n",
    "                    mitigated_exp_val = model.predict(X[:, -4:]).tolist()[0]\n",
    "                else:\n",
    "                    raise NotImplementedError\n",
    "\n",
    "                exp_Z_mitigated_dict[j].append(mitigated_exp_val)\n",
    "\n",
    "        exp_Z_all_ideal.append(exp_Z_ideal)\n",
    "        exp_Z_all_noisy.append(exp_Z_noisy)\n",
    "        for k, exp_Z_mitigated in exp_Z_mitigated_dict.items():\n",
    "            exp_Z_all_mitigated_dict[k].append(exp_Z_mitigated)\n",
    "\n",
    "    return exp_Z_all_ideal, exp_Z_all_noisy, exp_Z_all_mitigated_dict\n",
    "\n",
    "\n",
    "######################## Need to change ##############################\n",
    "exp_Z_all_ideal, exp_Z_all_noisy, exp_Z_all_mitigated_dict = run_ising_steps(backend_noisy, run_config_noisy)\n",
    "######################## Need to change ##############################"
   ],
   "metadata": {
    "collapsed": false
   }
  },
  {
   "cell_type": "code",
   "execution_count": 84,
   "outputs": [],
   "source": [
    "exp_Z_all_ideal = np.array(exp_Z_all_ideal).squeeze()\n",
    "exp_Z_all_noisy = np.array(exp_Z_all_noisy).squeeze()\n",
    "for key, val in exp_Z_all_mitigated_dict.items():\n",
    "    exp_Z_all_mitigated_dict[key] = np.array(val).squeeze()"
   ],
   "metadata": {
    "collapsed": false
   }
  },
  {
   "cell_type": "code",
   "execution_count": 100,
   "outputs": [
    {
     "data": {
      "text/plain": "<Figure size 432x288 with 1 Axes>",
      "image/png": "[encoded data removed]"
     },
     "metadata": {},
     "output_type": "display_data"
    }
   ],
   "source": [
    "q = 3\n",
    "plt.plot(exp_Z_all_ideal[:, q], label='ideal')\n",
    "plt.plot(exp_Z_all_noisy[:, q], label='noisy')\n",
    "for key, val in exp_Z_all_mitigated_dict.items():\n",
    "    plt.plot(val[:, q], label=f'{models[key][1]}')\n",
    "ymin, ymax = plt.gca().get_ylim()\n",
    "plt.ylim([ymin, ymax])\n",
    "plt.vlines(x=4, ymin=ymin, ymax=ymax, color='gray', label = 'train stops')\n",
    "plt.legend(loc='upper right')\n",
    "plt.ylabel(f'<Z{q}>')\n",
    "plt.xlabel('trotter step')\n",
    "plt.show()"
   ],
   "metadata": {
    "collapsed": false
   }
  },
  {
   "cell_type": "code",
   "execution_count": null,
   "outputs": [],
   "source": [],
   "metadata": {
    "collapsed": false
   }
  }
 ],
 "metadata": {
  "kernelspec": {
   "display_name": "Python 3",
   "language": "python",
   "name": "python3"
  },
  "language_info": {
   "codemirror_mode": {
    "name": "ipython",
    "version": 2
   },
   "file_extension": ".py",
   "mimetype": "text/x-python",
   "name": "python",
   "nbconvert_exporter": "python",
   "pygments_lexer": "ipython2",
   "version": "2.7.6"
  }
 },
 "nbformat": 4,
 "nbformat_minor": 0
}
