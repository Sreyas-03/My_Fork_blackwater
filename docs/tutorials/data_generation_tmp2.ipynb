{
 "cells": [
  {
   "cell_type": "code",
   "execution_count": 2,
   "outputs": [],
   "source": [
    "import json\n",
    "import glob\n",
    "\n",
    "import numpy as np\n",
    "import pandas as pd\n",
    "\n",
    "from qiskit import transpile\n",
    "from qiskit import execute\n",
    "from qiskit.providers.fake_provider import FakeLima\n",
    "from qiskit.primitives import Estimator\n",
    "from qiskit.circuit.random import random_circuit\n",
    "\n",
    "import torch\n",
    "from torch.optim import Adam\n",
    "from torch.optim.lr_scheduler import ReduceLROnPlateau\n",
    "from torch.nn.functional import dropout\n",
    "\n",
    "from torch_geometric.nn import GCNConv, global_mean_pool, Linear, ChebConv, SAGEConv\n",
    "from torch_geometric.data import Data\n",
    "from torch_geometric.loader import DataLoader\n",
    "\n",
    "from tqdm.notebook import tqdm_notebook\n",
    "import matplotlib.pyplot as plt\n",
    "import seaborn as sns\n",
    "\n",
    "from blackwater.data.loaders.exp_val import CircuitGraphExpValMitigationDataset\n",
    "from blackwater.data.generators.exp_val import exp_value_generator\n",
    "from blackwater.data.utils import generate_random_pauli_sum_op\n",
    "from blackwater.library.ngem.estimator import ngem\n",
    "\n",
    "from qiskit.quantum_info import random_clifford\n",
    "\n",
    "import random\n",
    "from qiskit.circuit.library import HGate, SdgGate\n",
    "from qiskit.circuit import ClassicalRegister\n",
    "\n",
    "from blackwater.data.utils import (\n",
    "    generate_random_pauli_sum_op,\n",
    "    create_estimator_meas_data,\n",
    "    circuit_to_graph_data_json,\n",
    "    get_backend_properties_v1,\n",
    "    encode_pauli_sum_op,\n",
    "    create_meas_data_from_estimators\n",
    ")\n",
    "from blackwater.data.generators.exp_val import ExpValueEntry\n",
    "from blackwater.metrics.improvement_factor import improvement_factor, Trial, Problem\n",
    "\n",
    "from qiskit_aer import AerSimulator, QasmSimulator\n",
    "from qiskit.providers.fake_provider import FakeMontreal, FakeLima\n",
    "\n",
    "from torch_geometric.nn import (\n",
    "    GCNConv,\n",
    "    TransformerConv,\n",
    "    GATv2Conv,\n",
    "    global_mean_pool,\n",
    "    Linear,\n",
    "    ChebConv,\n",
    "    SAGEConv,\n",
    "    ASAPooling,\n",
    "    dense_diff_pool,\n",
    "    avg_pool_neighbor_x\n",
    ")\n",
    "from torch_geometric.data import Data\n",
    "from torch_geometric.loader import DataLoader\n",
    "from torch_geometric.utils import to_dense_adj, to_dense_batch\n",
    "\n",
    "from qiskit import QuantumCircuit\n",
    "from qiskit.circuit.library import U3Gate, CZGate, PhaseGate, CXGate\n",
    "from mbd_utils import construct_random_clifford, cal_z_exp, calc_imbalance, cal_all_z_exp, construct_mbl_circuit, generate_disorder\n",
    "from gnn import ExpValCircuitGraphModel"
   ],
   "metadata": {
    "collapsed": false
   }
  },
  {
   "cell_type": "code",
   "execution_count": 3,
   "outputs": [],
   "source": [
    "backend = FakeLima()\n",
    "properties = get_backend_properties_v1(backend)\n",
    "\n",
    "## Local\n",
    "backend_ideal = QasmSimulator() # Noiseless\n",
    "backend_noisy = AerSimulator.from_backend(FakeLima()) # Noisy\n",
    "\n",
    "run_config_ideal = {'shots': 10000, 'backend': backend_ideal, 'name': 'ideal'}\n",
    "run_config_noisy = {'shots': 10000, 'backend': backend_noisy, 'name': 'noisy'}"
   ],
   "metadata": {
    "collapsed": false
   }
  },
  {
   "cell_type": "code",
   "execution_count": 4,
   "metadata": {
    "collapsed": true
   },
   "outputs": [],
   "source": [
    "num_qubit = 4\n",
    "\n",
    "def construct_random_circuit(two_q_gate_depth_post_trans, factor=1):\n",
    "    if not two_q_gate_depth_post_trans:\n",
    "        d = np.random.randint(1, 6)\n",
    "        rc = transpile(random_circuit(num_qubit, d, 1, measure=True), backend=backend_noisy, optimization_level=3)\n",
    "\n",
    "    elif 1 <= two_q_gate_depth_post_trans <= 8:\n",
    "        d = np.random.randint(1, two_q_gate_depth_post_trans//factor)\n",
    "        rc = transpile(random_circuit(num_qubit, d, 2, measure=True), backend=backend_noisy, optimization_level=3)\n",
    "        while rc.depth(filter_function=lambda x: x[0].num_qubits == 2) != two_q_gate_depth_post_trans:\n",
    "            d = np.random.randint(1, two_q_gate_depth_post_trans//factor)\n",
    "            rc = transpile(random_circuit(num_qubit, d, 2, measure=True), backend=backend_noisy, optimization_level=3)\n",
    "\n",
    "    elif 8 <= two_q_gate_depth_post_trans <= 18:\n",
    "        d = np.random.randint(5, two_q_gate_depth_post_trans//factor)\n",
    "        rc = transpile(random_circuit(num_qubit, d, 2, measure=True), backend=backend_noisy, optimization_level=3)\n",
    "        while rc.depth(filter_function=lambda x: x[0].num_qubits == 2) != two_q_gate_depth_post_trans:\n",
    "            d = np.random.randint(5, two_q_gate_depth_post_trans//factor)\n",
    "            rc = transpile(random_circuit(num_qubit, d, 2, measure=True), backend=backend_noisy, optimization_level=3)\n",
    "\n",
    "    # elif 9 <= two_q_gate_depth_post_trans <= 18:\n",
    "    #     assert two_q_gate_depth_post_trans%2 == 0\n",
    "    #     half_depth = two_q_gate_depth_post_trans // 2\n",
    "    #\n",
    "    #     d = np.random.randint(3, half_depth//factor)\n",
    "    #     rc1 = transpile(random_circuit(num_qubit, d, 2, measure=False), backend=backend_noisy, optimization_level=3)\n",
    "    #     while rc1.depth(filter_function=lambda x: x[0].num_qubits == 2) != half_depth:\n",
    "    #         d = np.random.randint(3, half_depth//factor)\n",
    "    #         rc1 = transpile(random_circuit(num_qubit, d, 2, measure=False), backend=backend_noisy, optimization_level=3)\n",
    "    #\n",
    "    #     d = np.random.randint(3, half_depth//factor)\n",
    "    #     rc2 = transpile(random_circuit(num_qubit, d, 2, measure=False), backend=backend_noisy, optimization_level=3)\n",
    "    #     while rc2.depth(filter_function=lambda x: x[0].num_qubits == 2) != half_depth:\n",
    "    #         d = np.random.randint(3, half_depth//factor)\n",
    "    #         rc2 = transpile(random_circuit(num_qubit, d, 2, measure=False), backend=backend_noisy, optimization_level=3)\n",
    "    #\n",
    "    #     rc = rc1.compose(rc2)\n",
    "    #     rc.measure_all()\n",
    "    else:\n",
    "        raise NotImplementedError\n",
    "    return rc"
   ]
  },
  {
   "cell_type": "code",
   "execution_count": 8,
   "outputs": [
    {
     "data": {
      "text/plain": "global phase: 2π\n                                                                                                                                                                                                                                                                                                                                                                                                                                                                                                    \nancilla_0 -> 0 ─────────────────────────────────────────────────────────────────────────────────────────────────────────────────────────────────────────────────────────────────────────────────────────────────────────────────────────────────────────────────────────────────────────────────────────────────────────────────────────────────────────────────────────────────────────────────────────────────────────────────────────────────────────────────────────────────────────────────────\n                ┌────────────┐┌────┐┌───────────┐┌────┐┌─────────┐┌───┐ ┌─────────┐  ┌────┐  ┌──────────┐ ┌────┐┌────────────┐                                                                      ┌────┐   ┌──────────────────────┐                                                                                        ┌───┐     ┌───┐     ┌───┐     ┌───────────────────────┐┌───┐┌──────────────────────┐                                                                     ░ ┌─┐         \n      q_2 -> 1 ─┤ Rz(1.5084) ├┤ √X ├┤ Rz(-3π/4) ├┤ √X ├┤ Rz(π/2) ├┤ X ├─┤ Rz(π/2) ├──┤ √X ├──┤ Rz(-π/4) ├─┤ √X ├┤ Rz(4.3795) ├──■────────────────────────────■──────■──────────────────────■────────┤ √X ├───┤ Rz(3.72502001280989) ├────────────────────────────────────────────────────────────────────────────────────────┤ X ├──■──┤ X ├─────┤ X ├─────┤ Rz(-1.18650789819742) ├┤ X ├┤ Rz(1.18650789819742) ├─────────────────────────────────────────────────────────────────────░─┤M├─────────\n                └───┬───┬────┘└────┘└───────────┘└────┘└─────────┘└─┬─┘┌┴─────────┴─┐├────┤┌─┴──────────┴┐├────┤├────────────┤  │                            │    ┌─┴─┐   ┌──────────┐   ┌─┴─┐   ┌──┴────┴──┐└────────┬────┬────────┘┌─────────────┐     ┌────┐    ┌────────────┐                                            └─┬─┘  │  └─┬─┘     └─┬─┘     └───────────────────────┘└─┬─┘└──────────────────────┘                                                                     ░ └╥┘      ┌─┐\n      q_3 -> 2 ─────┤ X ├───────────────────────────────────────────■──┤ Rz(1.6392) ├┤ √X ├┤ Rz(-0.8416) ├┤ √X ├┤ Rz(1.6392) ├──┼────────────────────────────┼────┤ X ├───┤ Rz(-π/4) ├───┤ X ├───┤ Rz(3π/4) ├─────────┤ √X ├─────────┤ Rz(-0.8967) ├─────┤ √X ├────┤ Rz(2.7573) ├──────────────────────────────────────────────┼────┼────┼─────────■──────────────────────────────────■───────────────────────────────────────────────────────────────────────────────────────────────░──╫───────┤M├\n               ┌────┴───┴────┐┌────┐ ┌──────────┐                      └────────────┘└────┘└─────────────┘└────┘└────────────┘┌─┴─┐┌──────────────────────┐┌─┴─┐┌─┴───┴──┐└──┬────┬──┘┌──┴───┴──┐└──┬────┬──┘         ├───┬┘         └─┬─────────┬─┘     └────┘    └────────────┘┌───┐  ┌─────────┐  ┌────┐┌──────────┐┌────┐  │  ┌─┴─┐  │  ┌─────────────┐          ┌────┐         ┌───┐    ┌─────────────┐                           ┌───┐   ┌────┐  ┌─────────────┐                ░  ║    ┌─┐└╥┘\n      q_0 -> 3 ┤ Rz(0.58573) ├┤ √X ├─┤ Rz(-π/2) ├─────────────────────────────────────────────────────────────────────────────┤ X ├┤ Rz(1.62041611596894) ├┤ X ├┤ Rz(-π) ├───┤ √X ├───┤ Rz(π/4) ├───┤ √X ├────────────┤ X ├────────────┤ Rz(π/2) ├───────────────────────────────┤ X ├──┤ Rz(π/2) ├──┤ √X ├┤ Rz(3π/4) ├┤ √X ├──■──┤ X ├──■──┤ Rz(-1.6771) ├──────────┤ √X ├─────────┤ X ├────┤ Rz(0.55297) ├───────────────────────────┤ X ├───┤ √X ├──┤ Rz(-1.4645) ├────────────────░──╫────┤M├─╫─\n               ├─────────────┤└────┘ └──────────┘                                                                             └───┘└──────────────────────┘└───┘└────────┘   └────┘   └─────────┘   └────┘            └─┬─┘            └──┬────┬─┘  ┌─────────────┐    ┌────┐    └─┬─┘┌─┴─────────┴─┐├────┤├─────────┬┘└────┘     └───┘     └─────────────┘          └────┘         └─┬─┘    └────┬────┬───┘     ┌──────────────┐┌────┐└─┬─┘┌──┴────┴─┐└────┬────┬───┘┌─────────────┐ ░  ║ ┌─┐└╥┘ ║ \n      q_1 -> 4 ┤ Rz(0.96719) ├──────────────────────────────────────────────────────────────────────────────────────────────────────────────────────────────────────────────────────────────────────────────────────────■─────────────────┤ √X ├────┤ Rz(-1.5688) ├────┤ √X ├──────■──┤ Rz(-1.0658) ├┤ √X ├┤ Rz(π/2) ├────────────────────────────────────────────────────────────────■───────────┤ √X ├─────────┤ Rz(-0.55297) ├┤ √X ├──■──┤ Rz(π/2) ├─────┤ √X ├────┤ Rz(-2.0758) ├─░──╫─┤M├─╫──╫─\n               └─────────────┘                                                                                                                                                                                                            └────┘    └─────────────┘    └────┘         └─────────────┘└────┘└─────────┘                                                                            └────┘         └──────────────┘└────┘     └─────────┘     └────┘    └─────────────┘ ░  ║ └╥┘ ║  ║ \n          c: 4/══════════════════════════════════════════════════════════════════════════════════════════════════════════════════════════════════════════════════════════════════════════════════════════════════════════════════════════════════════════════════════════════════════════════════════════════════════════════════════════════════════════════════════════════════════════════════════════════════════════════════════════════════════════════════════════════════════════╩══╩══╩══╩═\n                                                                                                                                                                                                                                                                                                                                                                                                                                                                                         0  1  2  3 ",
      "text/html": "<pre style=\"word-wrap: normal;white-space: pre;background: #fff0;line-height: 1.1;font-family: &quot;Courier New&quot;,Courier,monospace\">global phase: 2π\n                                                                                                                                                                                                                                                                                                                                                                                                                                                                                                    \nancilla_0 -> 0 ─────────────────────────────────────────────────────────────────────────────────────────────────────────────────────────────────────────────────────────────────────────────────────────────────────────────────────────────────────────────────────────────────────────────────────────────────────────────────────────────────────────────────────────────────────────────────────────────────────────────────────────────────────────────────────────────────────────────────────\n                ┌────────────┐┌────┐┌───────────┐┌────┐┌─────────┐┌───┐ ┌─────────┐  ┌────┐  ┌──────────┐ ┌────┐┌────────────┐                                                                      ┌────┐   ┌──────────────────────┐                                                                                        ┌───┐     ┌───┐     ┌───┐     ┌───────────────────────┐┌───┐┌──────────────────────┐                                                                     ░ ┌─┐         \n      q_2 -> 1 ─┤ Rz(1.5084) ├┤ √X ├┤ Rz(-3π/4) ├┤ √X ├┤ Rz(π/2) ├┤ X ├─┤ Rz(π/2) ├──┤ √X ├──┤ Rz(-π/4) ├─┤ √X ├┤ Rz(4.3795) ├──■────────────────────────────■──────■──────────────────────■────────┤ √X ├───┤ Rz(3.72502001280989) ├────────────────────────────────────────────────────────────────────────────────────────┤ X ├──■──┤ X ├─────┤ X ├─────┤ Rz(-1.18650789819742) ├┤ X ├┤ Rz(1.18650789819742) ├─────────────────────────────────────────────────────────────────────░─┤M├─────────\n                └───┬───┬────┘└────┘└───────────┘└────┘└─────────┘└─┬─┘┌┴─────────┴─┐├────┤┌─┴──────────┴┐├────┤├────────────┤  │                            │    ┌─┴─┐   ┌──────────┐   ┌─┴─┐   ┌──┴────┴──┐└────────┬────┬────────┘┌─────────────┐     ┌────┐    ┌────────────┐                                            └─┬─┘  │  └─┬─┘     └─┬─┘     └───────────────────────┘└─┬─┘└──────────────────────┘                                                                     ░ └╥┘      ┌─┐\n      q_3 -> 2 ─────┤ X ├───────────────────────────────────────────■──┤ Rz(1.6392) ├┤ √X ├┤ Rz(-0.8416) ├┤ √X ├┤ Rz(1.6392) ├──┼────────────────────────────┼────┤ X ├───┤ Rz(-π/4) ├───┤ X ├───┤ Rz(3π/4) ├─────────┤ √X ├─────────┤ Rz(-0.8967) ├─────┤ √X ├────┤ Rz(2.7573) ├──────────────────────────────────────────────┼────┼────┼─────────■──────────────────────────────────■───────────────────────────────────────────────────────────────────────────────────────────────░──╫───────┤M├\n               ┌────┴───┴────┐┌────┐ ┌──────────┐                      └────────────┘└────┘└─────────────┘└────┘└────────────┘┌─┴─┐┌──────────────────────┐┌─┴─┐┌─┴───┴──┐└──┬────┬──┘┌──┴───┴──┐└──┬────┬──┘         ├───┬┘         └─┬─────────┬─┘     └────┘    └────────────┘┌───┐  ┌─────────┐  ┌────┐┌──────────┐┌────┐  │  ┌─┴─┐  │  ┌─────────────┐          ┌────┐         ┌───┐    ┌─────────────┐                           ┌───┐   ┌────┐  ┌─────────────┐                ░  ║    ┌─┐└╥┘\n      q_0 -> 3 ┤ Rz(0.58573) ├┤ √X ├─┤ Rz(-π/2) ├─────────────────────────────────────────────────────────────────────────────┤ X ├┤ Rz(1.62041611596894) ├┤ X ├┤ Rz(-π) ├───┤ √X ├───┤ Rz(π/4) ├───┤ √X ├────────────┤ X ├────────────┤ Rz(π/2) ├───────────────────────────────┤ X ├──┤ Rz(π/2) ├──┤ √X ├┤ Rz(3π/4) ├┤ √X ├──■──┤ X ├──■──┤ Rz(-1.6771) ├──────────┤ √X ├─────────┤ X ├────┤ Rz(0.55297) ├───────────────────────────┤ X ├───┤ √X ├──┤ Rz(-1.4645) ├────────────────░──╫────┤M├─╫─\n               ├─────────────┤└────┘ └──────────┘                                                                             └───┘└──────────────────────┘└───┘└────────┘   └────┘   └─────────┘   └────┘            └─┬─┘            └──┬────┬─┘  ┌─────────────┐    ┌────┐    └─┬─┘┌─┴─────────┴─┐├────┤├─────────┬┘└────┘     └───┘     └─────────────┘          └────┘         └─┬─┘    └────┬────┬───┘     ┌──────────────┐┌────┐└─┬─┘┌──┴────┴─┐└────┬────┬───┘┌─────────────┐ ░  ║ ┌─┐└╥┘ ║ \n      q_1 -> 4 ┤ Rz(0.96719) ├──────────────────────────────────────────────────────────────────────────────────────────────────────────────────────────────────────────────────────────────────────────────────────────■─────────────────┤ √X ├────┤ Rz(-1.5688) ├────┤ √X ├──────■──┤ Rz(-1.0658) ├┤ √X ├┤ Rz(π/2) ├────────────────────────────────────────────────────────────────■───────────┤ √X ├─────────┤ Rz(-0.55297) ├┤ √X ├──■──┤ Rz(π/2) ├─────┤ √X ├────┤ Rz(-2.0758) ├─░──╫─┤M├─╫──╫─\n               └─────────────┘                                                                                                                                                                                                            └────┘    └─────────────┘    └────┘         └─────────────┘└────┘└─────────┘                                                                            └────┘         └──────────────┘└────┘     └─────────┘     └────┘    └─────────────┘ ░  ║ └╥┘ ║  ║ \n          c: 4/══════════════════════════════════════════════════════════════════════════════════════════════════════════════════════════════════════════════════════════════════════════════════════════════════════════════════════════════════════════════════════════════════════════════════════════════════════════════════════════════════════════════════════════════════════════════════════════════════════════════════════════════════════════════════════════════════════════╩══╩══╩══╩═\n                                                                                                                                                                                                                                                                                                                                                                                                                                                                                         0  1  2  3 </pre>"
     },
     "execution_count": 8,
     "metadata": {},
     "output_type": "execute_result"
    }
   ],
   "source": [
    "# circuit = transpile(construct_random_circuit(2), backend=backend_noisy, optimization_level=3)\n",
    "circuit = construct_random_circuit(10)\n",
    "circuit.draw(fold=-1)"
   ],
   "metadata": {
    "collapsed": false
   }
  },
  {
   "cell_type": "code",
   "execution_count": 9,
   "outputs": [
    {
     "data": {
      "text/plain": "10"
     },
     "execution_count": 9,
     "metadata": {},
     "output_type": "execute_result"
    }
   ],
   "source": [
    "circuit.depth(lambda x: x[0].num_qubits == 2)"
   ],
   "metadata": {
    "collapsed": false
   }
  },
  {
   "cell_type": "code",
   "execution_count": 10,
   "outputs": [
    {
     "data": {
      "text/plain": "41"
     },
     "execution_count": 10,
     "metadata": {},
     "output_type": "execute_result"
    }
   ],
   "source": [
    "circuit.depth()"
   ],
   "metadata": {
    "collapsed": false
   }
  },
  {
   "cell_type": "code",
   "execution_count": 11,
   "outputs": [],
   "source": [
    "from qiskit.transpiler.exceptions import TranspilerError\n",
    "import scipy\n",
    "\n",
    "def generate_data(generating_func, two_q_gate_depths, save_path: str, n_entries_per_file: int):\n",
    "    for depth in two_q_gate_depths:\n",
    "        entries = []\n",
    "\n",
    "        for i in tqdm_notebook(range(n_entries_per_file)):\n",
    "            success = False\n",
    "            while not success:\n",
    "                try:\n",
    "                    circuit = generating_func(depth)\n",
    "                    success = True\n",
    "                except (scipy.linalg.LinAlgError, TranspilerError, np.linalg.LinAlgError) as e:\n",
    "                    print(f\"Ran into an error:, {e}\")\n",
    "\n",
    "            job_ideal = execute(circuit, **run_config_ideal)\n",
    "            job_noisy = execute(circuit, **run_config_noisy)\n",
    "\n",
    "            counts_ideal = job_ideal.result().get_counts()\n",
    "            counts_noisy = job_noisy.result().get_counts()\n",
    "\n",
    "            ideal_exp_val = cal_z_exp(counts_ideal)\n",
    "            noisy_exp_val = cal_z_exp(counts_noisy)\n",
    "\n",
    "            graph_data = circuit_to_graph_data_json(\n",
    "                circuit=circuit,\n",
    "                properties=properties,\n",
    "                use_qubit_features=True,\n",
    "                use_gate_features=True,\n",
    "            )\n",
    "\n",
    "            entry = ExpValueEntry(\n",
    "                circuit_graph=graph_data,\n",
    "                observable=[],\n",
    "                ideal_exp_value=ideal_exp_val.tolist(),\n",
    "                noisy_exp_values=[noisy_exp_val.tolist()],\n",
    "                circuit_depth=circuit.depth()\n",
    "            )\n",
    "            entries.append(entry.to_dict())\n",
    "\n",
    "        path = f\"{save_path}/depth{depth}.json\"\n",
    "        with open(path, \"w\") as f:\n",
    "            # pprint(entries)\n",
    "            json.dump(entries, f)"
   ],
   "metadata": {
    "collapsed": false
   }
  },
  {
   "cell_type": "code",
   "execution_count": 12,
   "outputs": [
    {
     "data": {
      "text/plain": "  0%|          | 0/500 [00:00<?, ?it/s]",
      "application/vnd.jupyter.widget-view+json": {
       "version_major": 2,
       "version_minor": 0,
       "model_id": "a2c7769cdbd74b3b9b062cd10ac0e210"
      }
     },
     "metadata": {},
     "output_type": "display_data"
    },
    {
     "name": "stdout",
     "output_type": "stream",
     "text": [
      "Ran into an error:, eig algorithm (geev) did not converge (only eigenvalues with order >= 2 have converged)\n",
      "Ran into an error:, eig algorithm (geev) did not converge (only eigenvalues with order >= 2 have converged)\n",
      "Ran into an error:, 'Maximum iteration reached. max_iteration=1000'\n",
      "Ran into an error:, 'Maximum iteration reached. max_iteration=1000'\n",
      "Ran into an error:, 'Maximum iteration reached. max_iteration=1000'\n",
      "Ran into an error:, 'Maximum iteration reached. max_iteration=1000'\n",
      "Ran into an error:, eig algorithm (geev) did not converge (only eigenvalues with order >= 2 have converged)\n",
      "Ran into an error:, 'Maximum iteration reached. max_iteration=1000'\n",
      "Ran into an error:, 'Maximum iteration reached. max_iteration=1000'\n",
      "Ran into an error:, eig algorithm (geev) did not converge (only eigenvalues with order >= 4 have converged)\n",
      "Ran into an error:, 'Maximum iteration reached. max_iteration=1000'\n",
      "Ran into an error:, 'Maximum iteration reached. max_iteration=1000'\n",
      "Ran into an error:, 'Maximum iteration reached. max_iteration=1000'\n",
      "Ran into an error:, eig algorithm (geev) did not converge (only eigenvalues with order >= 2 have converged)\n",
      "Ran into an error:, 'Maximum iteration reached. max_iteration=1000'\n",
      "Ran into an error:, 'Maximum iteration reached. max_iteration=1000'\n",
      "Ran into an error:, eig algorithm (geev) did not converge (only eigenvalues with order >= 2 have converged)\n",
      "Ran into an error:, 'Maximum iteration reached. max_iteration=1000'\n",
      "Ran into an error:, 'Maximum iteration reached. max_iteration=1000'\n"
     ]
    }
   ],
   "source": [
    "depths = [10]\n",
    "generate_data(construct_random_circuit, depths, './data/haoran_mbd/random_circuits', 500)"
   ],
   "metadata": {
    "collapsed": false
   }
  },
  {
   "cell_type": "code",
   "execution_count": 37,
   "outputs": [],
   "source": [
    "f = open('./data/haoran_mbd/random_circuits/depth18.json')\n",
    "out = json.load(f)"
   ],
   "metadata": {
    "collapsed": false
   }
  },
  {
   "cell_type": "code",
   "execution_count": 39,
   "outputs": [
    {
     "data": {
      "text/plain": "{'circuit_graph': {'nodes': {'DAGOpNode': [[-2.3561944901923444,\n     0.0,\n     0.0,\n     0.0,\n     0.0,\n     1.0,\n     0.0,\n     0.0,\n     0.0,\n     0.0,\n     0.0,\n     8.305997230317399e-05,\n     0.0,\n     0.0,\n     0.00011553074510239035,\n     0.0,\n     0.0,\n     0.020000000000000018,\n     0.0,\n     0.0,\n     0,\n     0],\n    [0.0,\n     0.0,\n     0.0,\n     1.0,\n     0.0,\n     0.0,\n     0.0,\n     0.0,\n     0.0,\n     0.0,\n     0.0,\n     8.305997230317399e-05,\n     5.9698643286635694e-05,\n     0.0,\n     0.00011553074510239035,\n     9.355584184359312e-05,\n     0.0,\n     0.020000000000000018,\n     0.026100000000000012,\n     0.0,\n     0.008339674869236618,\n     341.3333333333333],\n    [-0.7853981633974483,\n     0.0,\n     0.0,\n     0.0,\n     0.0,\n     1.0,\n     0.0,\n     0.0,\n     0.0,\n     0.0,\n     0.0,\n     5.9698643286635694e-05,\n     0.0,\n     0.0,\n     9.355584184359312e-05,\n     0.0,\n     0.0,\n     0.026100000000000012,\n     0.0,\n     0.0,\n     0,\n     0],\n    [0.0,\n     0.0,\n     0.0,\n     1.0,\n     0.0,\n     0.0,\n     0.0,\n     0.0,\n     0.0,\n     0.0,\n     0.0,\n     8.305997230317399e-05,\n     5.9698643286635694e-05,\n     0.0,\n     0.00011553074510239035,\n     9.355584184359312e-05,\n     0.0,\n     0.020000000000000018,\n     0.026100000000000012,\n     0.0,\n     0.008339674869236618,\n     341.3333333333333],\n    [0.0,\n     0.0,\n     0.0,\n     1.0,\n     0.0,\n     0.0,\n     0.0,\n     0.0,\n     0.0,\n     0.0,\n     0.0,\n     8.305997230317399e-05,\n     0.00010377694598809795,\n     0.0,\n     0.00011553074510239035,\n     9.477169960638749e-05,\n     0.0,\n     0.020000000000000018,\n     0.016599999999999948,\n     0.0,\n     0.005961828308163608,\n     334.22222222222223],\n    [0.0,\n     0.0,\n     0.0,\n     1.0,\n     0.0,\n     0.0,\n     0.0,\n     0.0,\n     0.0,\n     0.0,\n     0.0,\n     0.00010377694598809795,\n     8.305997230317399e-05,\n     0.0,\n     9.477169960638749e-05,\n     0.00011553074510239035,\n     0.0,\n     0.016599999999999948,\n     0.020000000000000018,\n     0.0,\n     0.005961828308163608,\n     298.66666666666663],\n    [0.0,\n     0.0,\n     0.0,\n     1.0,\n     0.0,\n     0.0,\n     0.0,\n     0.0,\n     0.0,\n     0.0,\n     0.0,\n     8.305997230317399e-05,\n     0.00010377694598809795,\n     0.0,\n     0.00011553074510239035,\n     9.477169960638749e-05,\n     0.0,\n     0.020000000000000018,\n     0.016599999999999948,\n     0.0,\n     0.005961828308163608,\n     334.22222222222223],\n    [1.5707963267948966,\n     0.0,\n     0.0,\n     0.0,\n     0.0,\n     1.0,\n     0.0,\n     0.0,\n     0.0,\n     0.0,\n     0.0,\n     8.305997230317399e-05,\n     0.0,\n     0.0,\n     0.00011553074510239035,\n     0.0,\n     0.0,\n     0.020000000000000018,\n     0.0,\n     0.0,\n     0,\n     0],\n    [0.0,\n     0.0,\n     0.0,\n     0.0,\n     0.0,\n     0.0,\n     0.0,\n     0.0,\n     1.0,\n     0.0,\n     0.0,\n     8.305997230317399e-05,\n     0.0,\n     0.0,\n     0.00011553074510239035,\n     0.0,\n     0.0,\n     0.020000000000000018,\n     0.0,\n     0.0,\n     0.00033064681663890665,\n     35.55555555555556],\n    [1.5707963267948966,\n     0.0,\n     0.0,\n     0.0,\n     0.0,\n     1.0,\n     0.0,\n     0.0,\n     0.0,\n     0.0,\n     0.0,\n     8.305997230317399e-05,\n     0.0,\n     0.0,\n     0.00011553074510239035,\n     0.0,\n     0.0,\n     0.020000000000000018,\n     0.0,\n     0.0,\n     0,\n     0],\n    [1.5707963267948966,\n     0.0,\n     0.0,\n     0.0,\n     0.0,\n     1.0,\n     0.0,\n     0.0,\n     0.0,\n     0.0,\n     0.0,\n     0.00010377694598809795,\n     0.0,\n     0.0,\n     9.477169960638749e-05,\n     0.0,\n     0.0,\n     0.016599999999999948,\n     0.0,\n     0.0,\n     0,\n     0],\n    [0.0,\n     0.0,\n     0.0,\n     0.0,\n     0.0,\n     0.0,\n     0.0,\n     0.0,\n     1.0,\n     0.0,\n     0.0,\n     0.00010377694598809795,\n     0.0,\n     0.0,\n     9.477169960638749e-05,\n     0.0,\n     0.0,\n     0.016599999999999948,\n     0.0,\n     0.0,\n     0.0001807726361160903,\n     35.55555555555556],\n    [0.7853981633974483,\n     0.0,\n     0.0,\n     0.0,\n     0.0,\n     1.0,\n     0.0,\n     0.0,\n     0.0,\n     0.0,\n     0.0,\n     0.00010377694598809795,\n     0.0,\n     0.0,\n     9.477169960638749e-05,\n     0.0,\n     0.0,\n     0.016599999999999948,\n     0.0,\n     0.0,\n     0,\n     0],\n    [1.5707963267948966,\n     0.0,\n     0.0,\n     0.0,\n     0.0,\n     1.0,\n     0.0,\n     0.0,\n     0.0,\n     0.0,\n     0.0,\n     4.358447375590962e-05,\n     0.0,\n     0.0,\n     4.645933441447346e-05,\n     0.0,\n     0.0,\n     0.0515000000000001,\n     0.0,\n     0.0,\n     0,\n     0],\n    [0.0,\n     0.0,\n     0.0,\n     0.0,\n     0.0,\n     0.0,\n     0.0,\n     0.0,\n     1.0,\n     0.0,\n     0.0,\n     4.358447375590962e-05,\n     0.0,\n     0.0,\n     4.645933441447346e-05,\n     0.0,\n     0.0,\n     0.0515000000000001,\n     0.0,\n     0.0,\n     0.0003925363414603665,\n     35.55555555555556],\n    [3.141592653589793,\n     0.0,\n     0.0,\n     0.0,\n     0.0,\n     1.0,\n     0.0,\n     0.0,\n     0.0,\n     0.0,\n     0.0,\n     4.358447375590962e-05,\n     0.0,\n     0.0,\n     4.645933441447346e-05,\n     0.0,\n     0.0,\n     0.0515000000000001,\n     0.0,\n     0.0,\n     0,\n     0],\n    [0.0,\n     0.0,\n     0.0,\n     1.0,\n     0.0,\n     0.0,\n     0.0,\n     0.0,\n     0.0,\n     0.0,\n     0.0,\n     4.358447375590962e-05,\n     8.305997230317399e-05,\n     0.0,\n     4.645933441447346e-05,\n     0.00011553074510239035,\n     0.0,\n     0.0515000000000001,\n     0.020000000000000018,\n     0.0,\n     0.009799775939734023,\n     462.2222222222222],\n    [3.190535917290552,\n     0.0,\n     0.0,\n     0.0,\n     0.0,\n     1.0,\n     0.0,\n     0.0,\n     0.0,\n     0.0,\n     0.0,\n     8.305997230317399e-05,\n     0.0,\n     0.0,\n     0.00011553074510239035,\n     0.0,\n     0.0,\n     0.020000000000000018,\n     0.0,\n     0.0,\n     0,\n     0],\n    [0.0,\n     0.0,\n     0.0,\n     1.0,\n     0.0,\n     0.0,\n     0.0,\n     0.0,\n     0.0,\n     0.0,\n     0.0,\n     4.358447375590962e-05,\n     8.305997230317399e-05,\n     0.0,\n     4.645933441447346e-05,\n     0.00011553074510239035,\n     0.0,\n     0.0515000000000001,\n     0.020000000000000018,\n     0.0,\n     0.009799775939734023,\n     462.2222222222222],\n    [1.5707963267948966,\n     0.0,\n     0.0,\n     0.0,\n     0.0,\n     1.0,\n     0.0,\n     0.0,\n     0.0,\n     0.0,\n     0.0,\n     8.305997230317399e-05,\n     0.0,\n     0.0,\n     0.00011553074510239035,\n     0.0,\n     0.0,\n     0.020000000000000018,\n     0.0,\n     0.0,\n     0,\n     0],\n    [0.0,\n     0.0,\n     0.0,\n     0.0,\n     0.0,\n     0.0,\n     0.0,\n     0.0,\n     1.0,\n     0.0,\n     0.0,\n     8.305997230317399e-05,\n     0.0,\n     0.0,\n     0.00011553074510239035,\n     0.0,\n     0.0,\n     0.020000000000000018,\n     0.0,\n     0.0,\n     0.00033064681663890665,\n     35.55555555555556],\n    [-2.845255087996108,\n     0.0,\n     0.0,\n     0.0,\n     0.0,\n     1.0,\n     0.0,\n     0.0,\n     0.0,\n     0.0,\n     0.0,\n     8.305997230317399e-05,\n     0.0,\n     0.0,\n     0.00011553074510239035,\n     0.0,\n     0.0,\n     0.020000000000000018,\n     0.0,\n     0.0,\n     0,\n     0],\n    [0.0,\n     0.0,\n     0.0,\n     1.0,\n     0.0,\n     0.0,\n     0.0,\n     0.0,\n     0.0,\n     0.0,\n     0.0,\n     5.9698643286635694e-05,\n     8.305997230317399e-05,\n     0.0,\n     9.355584184359312e-05,\n     0.00011553074510239035,\n     0.0,\n     0.026100000000000012,\n     0.020000000000000018,\n     0.0,\n     0.008339674869236618,\n     305.77777777777777],\n    [-1.8671338923885816,\n     0.0,\n     0.0,\n     0.0,\n     0.0,\n     1.0,\n     0.0,\n     0.0,\n     0.0,\n     0.0,\n     0.0,\n     8.305997230317399e-05,\n     0.0,\n     0.0,\n     0.00011553074510239035,\n     0.0,\n     0.0,\n     0.020000000000000018,\n     0.0,\n     0.0,\n     0,\n     0],\n    [0.0,\n     0.0,\n     0.0,\n     1.0,\n     0.0,\n     0.0,\n     0.0,\n     0.0,\n     0.0,\n     0.0,\n     0.0,\n     5.9698643286635694e-05,\n     8.305997230317399e-05,\n     0.0,\n     9.355584184359312e-05,\n     0.00011553074510239035,\n     0.0,\n     0.026100000000000012,\n     0.020000000000000018,\n     0.0,\n     0.008339674869236618,\n     305.77777777777777],\n    [2.356194490192345,\n     0.0,\n     0.0,\n     0.0,\n     0.0,\n     1.0,\n     0.0,\n     0.0,\n     0.0,\n     0.0,\n     0.0,\n     8.305997230317399e-05,\n     0.0,\n     0.0,\n     0.00011553074510239035,\n     0.0,\n     0.0,\n     0.020000000000000018,\n     0.0,\n     0.0,\n     0,\n     0],\n    [0.0,\n     0.0,\n     0.0,\n     0.0,\n     0.0,\n     0.0,\n     0.0,\n     0.0,\n     1.0,\n     0.0,\n     0.0,\n     8.305997230317399e-05,\n     0.0,\n     0.0,\n     0.00011553074510239035,\n     0.0,\n     0.0,\n     0.020000000000000018,\n     0.0,\n     0.0,\n     0.00033064681663890665,\n     35.55555555555556],\n    [-0.4076382360712216,\n     0.0,\n     0.0,\n     0.0,\n     0.0,\n     1.0,\n     0.0,\n     0.0,\n     0.0,\n     0.0,\n     0.0,\n     8.305997230317399e-05,\n     0.0,\n     0.0,\n     0.00011553074510239035,\n     0.0,\n     0.0,\n     0.020000000000000018,\n     0.0,\n     0.0,\n     0,\n     0],\n    [0.0,\n     0.0,\n     0.0,\n     0.0,\n     0.0,\n     0.0,\n     0.0,\n     0.0,\n     1.0,\n     0.0,\n     0.0,\n     8.305997230317399e-05,\n     0.0,\n     0.0,\n     0.00011553074510239035,\n     0.0,\n     0.0,\n     0.020000000000000018,\n     0.0,\n     0.0,\n     0.00033064681663890665,\n     35.55555555555556],\n    [1.5707963267948966,\n     0.0,\n     0.0,\n     0.0,\n     0.0,\n     1.0,\n     0.0,\n     0.0,\n     0.0,\n     0.0,\n     0.0,\n     8.305997230317399e-05,\n     0.0,\n     0.0,\n     0.00011553074510239035,\n     0.0,\n     0.0,\n     0.020000000000000018,\n     0.0,\n     0.0,\n     0,\n     0],\n    [0.0,\n     0.0,\n     0.0,\n     1.0,\n     0.0,\n     0.0,\n     0.0,\n     0.0,\n     0.0,\n     0.0,\n     0.0,\n     0.00010377694598809795,\n     8.305997230317399e-05,\n     0.0,\n     9.477169960638749e-05,\n     0.00011553074510239035,\n     0.0,\n     0.016599999999999948,\n     0.020000000000000018,\n     0.0,\n     0.005961828308163608,\n     298.66666666666663],\n    [0.8280926227641867,\n     0.0,\n     0.0,\n     0.0,\n     0.0,\n     1.0,\n     0.0,\n     0.0,\n     0.0,\n     0.0,\n     0.0,\n     8.305997230317399e-05,\n     0.0,\n     0.0,\n     0.00011553074510239035,\n     0.0,\n     0.0,\n     0.020000000000000018,\n     0.0,\n     0.0,\n     0,\n     0],\n    [0.0,\n     0.0,\n     0.0,\n     0.0,\n     0.0,\n     0.0,\n     0.0,\n     1.0,\n     0.0,\n     0.0,\n     0.0,\n     0.00010377694598809795,\n     0.0,\n     0.0,\n     9.477169960638749e-05,\n     0.0,\n     0.0,\n     0.016599999999999948,\n     0.0,\n     0.0,\n     0.0001807726361160903,\n     35.55555555555556],\n    [0.0,\n     0.0,\n     0.0,\n     1.0,\n     0.0,\n     0.0,\n     0.0,\n     0.0,\n     0.0,\n     0.0,\n     0.0,\n     0.00010377694598809795,\n     8.305997230317399e-05,\n     0.0,\n     9.477169960638749e-05,\n     0.00011553074510239035,\n     0.0,\n     0.016599999999999948,\n     0.020000000000000018,\n     0.0,\n     0.005961828308163608,\n     298.66666666666663],\n    [-1.5707963267948966,\n     0.0,\n     0.0,\n     0.0,\n     0.0,\n     1.0,\n     0.0,\n     0.0,\n     0.0,\n     0.0,\n     0.0,\n     8.305997230317399e-05,\n     0.0,\n     0.0,\n     0.00011553074510239035,\n     0.0,\n     0.0,\n     0.020000000000000018,\n     0.0,\n     0.0,\n     0,\n     0],\n    [0.0,\n     0.0,\n     0.0,\n     0.0,\n     0.0,\n     0.0,\n     0.0,\n     0.0,\n     1.0,\n     0.0,\n     0.0,\n     8.305997230317399e-05,\n     0.0,\n     0.0,\n     0.00011553074510239035,\n     0.0,\n     0.0,\n     0.020000000000000018,\n     0.0,\n     0.0,\n     0.00033064681663890665,\n     35.55555555555556],\n    [2.857457939200742,\n     0.0,\n     0.0,\n     0.0,\n     0.0,\n     1.0,\n     0.0,\n     0.0,\n     0.0,\n     0.0,\n     0.0,\n     8.305997230317399e-05,\n     0.0,\n     0.0,\n     0.00011553074510239035,\n     0.0,\n     0.0,\n     0.020000000000000018,\n     0.0,\n     0.0,\n     0,\n     0],\n    [-3.1415926535897922,\n     0.0,\n     0.0,\n     0.0,\n     0.0,\n     1.0,\n     0.0,\n     0.0,\n     0.0,\n     0.0,\n     0.0,\n     0.00010377694598809795,\n     0.0,\n     0.0,\n     9.477169960638749e-05,\n     0.0,\n     0.0,\n     0.016599999999999948,\n     0.0,\n     0.0,\n     0,\n     0],\n    [0.0,\n     0.0,\n     0.0,\n     0.0,\n     0.0,\n     0.0,\n     0.0,\n     0.0,\n     1.0,\n     0.0,\n     0.0,\n     0.00010377694598809795,\n     0.0,\n     0.0,\n     9.477169960638749e-05,\n     0.0,\n     0.0,\n     0.016599999999999948,\n     0.0,\n     0.0,\n     0.0001807726361160903,\n     35.55555555555556],\n    [-1.5066845697600453,\n     0.0,\n     0.0,\n     0.0,\n     0.0,\n     1.0,\n     0.0,\n     0.0,\n     0.0,\n     0.0,\n     0.0,\n     0.00010377694598809795,\n     0.0,\n     0.0,\n     9.477169960638749e-05,\n     0.0,\n     0.0,\n     0.016599999999999948,\n     0.0,\n     0.0,\n     0,\n     0],\n    [0.0,\n     0.0,\n     0.0,\n     0.0,\n     0.0,\n     0.0,\n     0.0,\n     0.0,\n     1.0,\n     0.0,\n     0.0,\n     4.358447375590962e-05,\n     0.0,\n     0.0,\n     4.645933441447346e-05,\n     0.0,\n     0.0,\n     0.0515000000000001,\n     0.0,\n     0.0,\n     0.0003925363414603665,\n     35.55555555555556],\n    [1.5707963267948966,\n     0.0,\n     0.0,\n     0.0,\n     0.0,\n     1.0,\n     0.0,\n     0.0,\n     0.0,\n     0.0,\n     0.0,\n     4.358447375590962e-05,\n     0.0,\n     0.0,\n     4.645933441447346e-05,\n     0.0,\n     0.0,\n     0.0515000000000001,\n     0.0,\n     0.0,\n     0,\n     0],\n    [0.0,\n     0.0,\n     0.0,\n     1.0,\n     0.0,\n     0.0,\n     0.0,\n     0.0,\n     0.0,\n     0.0,\n     0.0,\n     4.358447375590962e-05,\n     8.305997230317399e-05,\n     0.0,\n     4.645933441447346e-05,\n     0.00011553074510239035,\n     0.0,\n     0.0515000000000001,\n     0.020000000000000018,\n     0.0,\n     0.009799775939734023,\n     462.2222222222222],\n    [0.0,\n     0.0,\n     0.0,\n     1.0,\n     0.0,\n     0.0,\n     0.0,\n     0.0,\n     0.0,\n     0.0,\n     0.0,\n     8.305997230317399e-05,\n     4.358447375590962e-05,\n     0.0,\n     0.00011553074510239035,\n     4.645933441447346e-05,\n     0.0,\n     0.020000000000000018,\n     0.0515000000000001,\n     0.0,\n     0.009799775939734023,\n     497.77777777777777],\n    [0.0,\n     0.0,\n     0.0,\n     1.0,\n     0.0,\n     0.0,\n     0.0,\n     0.0,\n     0.0,\n     0.0,\n     0.0,\n     4.358447375590962e-05,\n     8.305997230317399e-05,\n     0.0,\n     4.645933441447346e-05,\n     0.00011553074510239035,\n     0.0,\n     0.0515000000000001,\n     0.020000000000000018,\n     0.0,\n     0.009799775939734023,\n     462.2222222222222],\n    [-3.1415926535897833,\n     0.0,\n     0.0,\n     0.0,\n     0.0,\n     1.0,\n     0.0,\n     0.0,\n     0.0,\n     0.0,\n     0.0,\n     8.305997230317399e-05,\n     0.0,\n     0.0,\n     0.00011553074510239035,\n     0.0,\n     0.0,\n     0.020000000000000018,\n     0.0,\n     0.0,\n     0,\n     0],\n    [0.0,\n     0.0,\n     0.0,\n     0.0,\n     0.0,\n     0.0,\n     0.0,\n     0.0,\n     1.0,\n     0.0,\n     0.0,\n     8.305997230317399e-05,\n     0.0,\n     0.0,\n     0.00011553074510239035,\n     0.0,\n     0.0,\n     0.020000000000000018,\n     0.0,\n     0.0,\n     0.00033064681663890665,\n     35.55555555555556],\n    [-1.8246916743307455,\n     0.0,\n     0.0,\n     0.0,\n     0.0,\n     1.0,\n     0.0,\n     0.0,\n     0.0,\n     0.0,\n     0.0,\n     8.305997230317399e-05,\n     0.0,\n     0.0,\n     0.00011553074510239035,\n     0.0,\n     0.0,\n     0.020000000000000018,\n     0.0,\n     0.0,\n     0,\n     0],\n    [0.0,\n     0.0,\n     0.0,\n     1.0,\n     0.0,\n     0.0,\n     0.0,\n     0.0,\n     0.0,\n     0.0,\n     0.0,\n     5.9698643286635694e-05,\n     8.305997230317399e-05,\n     0.0,\n     9.355584184359312e-05,\n     0.00011553074510239035,\n     0.0,\n     0.026100000000000012,\n     0.020000000000000018,\n     0.0,\n     0.008339674869236618,\n     305.77777777777777],\n    [0.0,\n     0.0,\n     0.0,\n     0.0,\n     0.0,\n     0.0,\n     0.0,\n     1.0,\n     0.0,\n     0.0,\n     0.0,\n     5.9698643286635694e-05,\n     0.0,\n     0.0,\n     9.355584184359312e-05,\n     0.0,\n     0.0,\n     0.026100000000000012,\n     0.0,\n     0.0,\n     0.00019195510390342677,\n     35.55555555555556],\n    [0.25389534753584886,\n     0.0,\n     0.0,\n     0.0,\n     0.0,\n     1.0,\n     0.0,\n     0.0,\n     0.0,\n     0.0,\n     0.0,\n     8.305997230317399e-05,\n     0.0,\n     0.0,\n     0.00011553074510239035,\n     0.0,\n     0.0,\n     0.020000000000000018,\n     0.0,\n     0.0,\n     0,\n     0],\n    [0.0,\n     0.0,\n     0.0,\n     1.0,\n     0.0,\n     0.0,\n     0.0,\n     0.0,\n     0.0,\n     0.0,\n     0.0,\n     5.9698643286635694e-05,\n     8.305997230317399e-05,\n     0.0,\n     9.355584184359312e-05,\n     0.00011553074510239035,\n     0.0,\n     0.026100000000000012,\n     0.020000000000000018,\n     0.0,\n     0.008339674869236618,\n     305.77777777777777],\n    [2.796228136998855,\n     0.0,\n     0.0,\n     0.0,\n     0.0,\n     1.0,\n     0.0,\n     0.0,\n     0.0,\n     0.0,\n     0.0,\n     5.9698643286635694e-05,\n     0.0,\n     0.0,\n     9.355584184359312e-05,\n     0.0,\n     0.0,\n     0.026100000000000012,\n     0.0,\n     0.0,\n     0,\n     0],\n    [0.0,\n     0.0,\n     0.0,\n     0.0,\n     0.0,\n     0.0,\n     0.0,\n     0.0,\n     1.0,\n     0.0,\n     0.0,\n     5.9698643286635694e-05,\n     0.0,\n     0.0,\n     9.355584184359312e-05,\n     0.0,\n     0.0,\n     0.026100000000000012,\n     0.0,\n     0.0,\n     0.00019195510390342677,\n     35.55555555555556],\n    [-2.226401996573257,\n     0.0,\n     0.0,\n     0.0,\n     0.0,\n     1.0,\n     0.0,\n     0.0,\n     0.0,\n     0.0,\n     0.0,\n     5.9698643286635694e-05,\n     0.0,\n     0.0,\n     9.355584184359312e-05,\n     0.0,\n     0.0,\n     0.026100000000000012,\n     0.0,\n     0.0,\n     0,\n     0],\n    [0.0,\n     0.0,\n     0.0,\n     0.0,\n     0.0,\n     0.0,\n     0.0,\n     0.0,\n     1.0,\n     0.0,\n     0.0,\n     5.9698643286635694e-05,\n     0.0,\n     0.0,\n     9.355584184359312e-05,\n     0.0,\n     0.0,\n     0.026100000000000012,\n     0.0,\n     0.0,\n     0.00019195510390342677,\n     35.55555555555556],\n    [-0.46955670124448545,\n     0.0,\n     0.0,\n     0.0,\n     0.0,\n     1.0,\n     0.0,\n     0.0,\n     0.0,\n     0.0,\n     0.0,\n     5.9698643286635694e-05,\n     0.0,\n     0.0,\n     9.355584184359312e-05,\n     0.0,\n     0.0,\n     0.026100000000000012,\n     0.0,\n     0.0,\n     0,\n     0],\n    [0.0,\n     0.0,\n     0.0,\n     0.0,\n     0.0,\n     0.0,\n     0.0,\n     0.0,\n     1.0,\n     0.0,\n     0.0,\n     8.305997230317399e-05,\n     0.0,\n     0.0,\n     0.00011553074510239035,\n     0.0,\n     0.0,\n     0.020000000000000018,\n     0.0,\n     0.0,\n     0.00033064681663890665,\n     35.55555555555556],\n    [-1.5707963267948974,\n     0.0,\n     0.0,\n     0.0,\n     0.0,\n     1.0,\n     0.0,\n     0.0,\n     0.0,\n     0.0,\n     0.0,\n     8.305997230317399e-05,\n     0.0,\n     0.0,\n     0.00011553074510239035,\n     0.0,\n     0.0,\n     0.020000000000000018,\n     0.0,\n     0.0,\n     0,\n     0],\n    [0.0,\n     0.0,\n     0.0,\n     1.0,\n     0.0,\n     0.0,\n     0.0,\n     0.0,\n     0.0,\n     0.0,\n     0.0,\n     8.305997230317399e-05,\n     0.00010377694598809795,\n     0.0,\n     0.00011553074510239035,\n     9.477169960638749e-05,\n     0.0,\n     0.020000000000000018,\n     0.016599999999999948,\n     0.0,\n     0.005961828308163608,\n     334.22222222222223],\n    [-0.06411175703485143,\n     0.0,\n     0.0,\n     0.0,\n     0.0,\n     1.0,\n     0.0,\n     0.0,\n     0.0,\n     0.0,\n     0.0,\n     0.00010377694598809795,\n     0.0,\n     0.0,\n     9.477169960638749e-05,\n     0.0,\n     0.0,\n     0.016599999999999948,\n     0.0,\n     0.0,\n     0,\n     0],\n    [0.0,\n     0.0,\n     0.0,\n     1.0,\n     0.0,\n     0.0,\n     0.0,\n     0.0,\n     0.0,\n     0.0,\n     0.0,\n     8.305997230317399e-05,\n     0.00010377694598809795,\n     0.0,\n     0.00011553074510239035,\n     9.477169960638749e-05,\n     0.0,\n     0.020000000000000018,\n     0.016599999999999948,\n     0.0,\n     0.005961828308163608,\n     334.22222222222223],\n    [0.0,\n     0.0,\n     0.0,\n     0.0,\n     0.0,\n     0.0,\n     0.0,\n     0.0,\n     0.0,\n     1.0,\n     0.0,\n     0.0,\n     0.0,\n     0.0,\n     0.0,\n     0.0,\n     0.0,\n     0.0,\n     0.0,\n     0.0,\n     0.0,\n     0.0],\n    [0.0,\n     0.0,\n     0.0,\n     0.0,\n     0.0,\n     0.0,\n     0.0,\n     0.0,\n     0.0,\n     0.0,\n     1.0,\n     4.358447375590962e-05,\n     0.0,\n     0.0,\n     4.645933441447346e-05,\n     0.0,\n     0.0,\n     0.0515000000000001,\n     0.0,\n     0.0,\n     0.0,\n     0.0],\n    [0.0,\n     0.0,\n     0.0,\n     0.0,\n     0.0,\n     0.0,\n     0.0,\n     0.0,\n     0.0,\n     0.0,\n     1.0,\n     0.00010377694598809795,\n     0.0,\n     0.0,\n     9.477169960638749e-05,\n     0.0,\n     0.0,\n     0.016599999999999948,\n     0.0,\n     0.0,\n     0.0,\n     0.0],\n    [0.0,\n     0.0,\n     0.0,\n     0.0,\n     0.0,\n     0.0,\n     0.0,\n     0.0,\n     0.0,\n     0.0,\n     1.0,\n     8.305997230317399e-05,\n     0.0,\n     0.0,\n     0.00011553074510239035,\n     0.0,\n     0.0,\n     0.020000000000000018,\n     0.0,\n     0.0,\n     0.0,\n     0.0],\n    [0.0,\n     0.0,\n     0.0,\n     0.0,\n     0.0,\n     0.0,\n     0.0,\n     0.0,\n     0.0,\n     0.0,\n     1.0,\n     5.9698643286635694e-05,\n     0.0,\n     0.0,\n     9.355584184359312e-05,\n     0.0,\n     0.0,\n     0.026100000000000012,\n     0.0,\n     0.0,\n     0.0,\n     0.0]],\n   'DAGInNode': [[0, 0],\n    [0, 0],\n    [0, 0],\n    [0, 0],\n    [0, 0],\n    [0, 0],\n    [0, 0],\n    [0, 0],\n    [0, 0]],\n   'DAGOutNode': [[0, 0],\n    [0, 0],\n    [0, 0],\n    [0, 0],\n    [0, 0],\n    [0, 0],\n    [0, 0],\n    [0, 0],\n    [0, 0]]},\n  'edges': {'DAGInNode_wire_DAGOpNode': {'edge_index': [[0, 1, 2, 3],\n     [1, 0, 4, 13]],\n    'edge_attr': [[5.9698643286635694e-05,\n      9.355584184359312e-05,\n      0.026100000000000012],\n     [8.305997230317399e-05, 0.00011553074510239035, 0.020000000000000018],\n     [0.00010377694598809795, 9.477169960638749e-05, 0.016599999999999948],\n     [4.358447375590962e-05, 4.645933441447346e-05, 0.0515000000000001]]},\n   'DAGInNode_wire_DAGOutNode': {'edge_index': [[4], [4]],\n    'edge_attr': [[1.7543975812787366e-05,\n      1.6441110002077736e-05,\n      0.057499999999999996]]},\n   'DAGOpNode_wire_DAGOpNode': {'edge_index': [[0,\n      1,\n      1,\n      2,\n      3,\n      3,\n      4,\n      4,\n      5,\n      5,\n      6,\n      6,\n      7,\n      8,\n      9,\n      10,\n      11,\n      12,\n      13,\n      14,\n      15,\n      16,\n      16,\n      17,\n      18,\n      18,\n      19,\n      20,\n      21,\n      22,\n      22,\n      23,\n      24,\n      24,\n      25,\n      26,\n      27,\n      28,\n      29,\n      30,\n      30,\n      31,\n      32,\n      33,\n      33,\n      34,\n      35,\n      36,\n      37,\n      38,\n      39,\n      40,\n      41,\n      42,\n      42,\n      43,\n      43,\n      44,\n      44,\n      45,\n      46,\n      47,\n      48,\n      48,\n      49,\n      50,\n      51,\n      51,\n      52,\n      53,\n      54,\n      55,\n      56,\n      57,\n      58,\n      59,\n      59,\n      60,\n      61,\n      61,\n      62,\n      62,\n      62,\n      62],\n     [1,\n      3,\n      2,\n      3,\n      22,\n      4,\n      5,\n      5,\n      6,\n      6,\n      10,\n      7,\n      8,\n      9,\n      16,\n      11,\n      12,\n      30,\n      14,\n      15,\n      16,\n      18,\n      17,\n      18,\n      40,\n      19,\n      20,\n      21,\n      22,\n      24,\n      23,\n      24,\n      48,\n      25,\n      26,\n      27,\n      28,\n      29,\n      30,\n      32,\n      31,\n      33,\n      33,\n      37,\n      34,\n      35,\n      36,\n      42,\n      38,\n      39,\n      59,\n      41,\n      42,\n      43,\n      43,\n      44,\n      44,\n      62,\n      45,\n      46,\n      47,\n      48,\n      50,\n      49,\n      51,\n      51,\n      57,\n      52,\n      53,\n      54,\n      55,\n      56,\n      62,\n      58,\n      59,\n      61,\n      60,\n      61,\n      62,\n      62,\n      66,\n      65,\n      64,\n      63]],\n    'edge_attr': [[8.305997230317399e-05,\n      0.00011553074510239035,\n      0.020000000000000018],\n     [8.305997230317399e-05, 0.00011553074510239035, 0.020000000000000018],\n     [5.9698643286635694e-05, 9.355584184359312e-05, 0.026100000000000012],\n     [5.9698643286635694e-05, 9.355584184359312e-05, 0.026100000000000012],\n     [5.9698643286635694e-05, 9.355584184359312e-05, 0.026100000000000012],\n     [8.305997230317399e-05, 0.00011553074510239035, 0.020000000000000018],\n     [8.305997230317399e-05, 0.00011553074510239035, 0.020000000000000018],\n     [0.00010377694598809795, 9.477169960638749e-05, 0.016599999999999948],\n     [0.00010377694598809795, 9.477169960638749e-05, 0.016599999999999948],\n     [8.305997230317399e-05, 0.00011553074510239035, 0.020000000000000018],\n     [0.00010377694598809795, 9.477169960638749e-05, 0.016599999999999948],\n     [8.305997230317399e-05, 0.00011553074510239035, 0.020000000000000018],\n     [8.305997230317399e-05, 0.00011553074510239035, 0.020000000000000018],\n     [8.305997230317399e-05, 0.00011553074510239035, 0.020000000000000018],\n     [8.305997230317399e-05, 0.00011553074510239035, 0.020000000000000018],\n     [0.00010377694598809795, 9.477169960638749e-05, 0.016599999999999948],\n     [0.00010377694598809795, 9.477169960638749e-05, 0.016599999999999948],\n     [0.00010377694598809795, 9.477169960638749e-05, 0.016599999999999948],\n     [4.358447375590962e-05, 4.645933441447346e-05, 0.0515000000000001],\n     [4.358447375590962e-05, 4.645933441447346e-05, 0.0515000000000001],\n     [4.358447375590962e-05, 4.645933441447346e-05, 0.0515000000000001],\n     [4.358447375590962e-05, 4.645933441447346e-05, 0.0515000000000001],\n     [8.305997230317399e-05, 0.00011553074510239035, 0.020000000000000018],\n     [8.305997230317399e-05, 0.00011553074510239035, 0.020000000000000018],\n     [4.358447375590962e-05, 4.645933441447346e-05, 0.0515000000000001],\n     [8.305997230317399e-05, 0.00011553074510239035, 0.020000000000000018],\n     [8.305997230317399e-05, 0.00011553074510239035, 0.020000000000000018],\n     [8.305997230317399e-05, 0.00011553074510239035, 0.020000000000000018],\n     [8.305997230317399e-05, 0.00011553074510239035, 0.020000000000000018],\n     [5.9698643286635694e-05, 9.355584184359312e-05, 0.026100000000000012],\n     [8.305997230317399e-05, 0.00011553074510239035, 0.020000000000000018],\n     [8.305997230317399e-05, 0.00011553074510239035, 0.020000000000000018],\n     [5.9698643286635694e-05, 9.355584184359312e-05, 0.026100000000000012],\n     [8.305997230317399e-05, 0.00011553074510239035, 0.020000000000000018],\n     [8.305997230317399e-05, 0.00011553074510239035, 0.020000000000000018],\n     [8.305997230317399e-05, 0.00011553074510239035, 0.020000000000000018],\n     [8.305997230317399e-05, 0.00011553074510239035, 0.020000000000000018],\n     [8.305997230317399e-05, 0.00011553074510239035, 0.020000000000000018],\n     [8.305997230317399e-05, 0.00011553074510239035, 0.020000000000000018],\n     [0.00010377694598809795, 9.477169960638749e-05, 0.016599999999999948],\n     [8.305997230317399e-05, 0.00011553074510239035, 0.020000000000000018],\n     [8.305997230317399e-05, 0.00011553074510239035, 0.020000000000000018],\n     [0.00010377694598809795, 9.477169960638749e-05, 0.016599999999999948],\n     [0.00010377694598809795, 9.477169960638749e-05, 0.016599999999999948],\n     [8.305997230317399e-05, 0.00011553074510239035, 0.020000000000000018],\n     [8.305997230317399e-05, 0.00011553074510239035, 0.020000000000000018],\n     [8.305997230317399e-05, 0.00011553074510239035, 0.020000000000000018],\n     [8.305997230317399e-05, 0.00011553074510239035, 0.020000000000000018],\n     [0.00010377694598809795, 9.477169960638749e-05, 0.016599999999999948],\n     [0.00010377694598809795, 9.477169960638749e-05, 0.016599999999999948],\n     [0.00010377694598809795, 9.477169960638749e-05, 0.016599999999999948],\n     [4.358447375590962e-05, 4.645933441447346e-05, 0.0515000000000001],\n     [4.358447375590962e-05, 4.645933441447346e-05, 0.0515000000000001],\n     [4.358447375590962e-05, 4.645933441447346e-05, 0.0515000000000001],\n     [8.305997230317399e-05, 0.00011553074510239035, 0.020000000000000018],\n     [8.305997230317399e-05, 0.00011553074510239035, 0.020000000000000018],\n     [4.358447375590962e-05, 4.645933441447346e-05, 0.0515000000000001],\n     [4.358447375590962e-05, 4.645933441447346e-05, 0.0515000000000001],\n     [8.305997230317399e-05, 0.00011553074510239035, 0.020000000000000018],\n     [8.305997230317399e-05, 0.00011553074510239035, 0.020000000000000018],\n     [8.305997230317399e-05, 0.00011553074510239035, 0.020000000000000018],\n     [8.305997230317399e-05, 0.00011553074510239035, 0.020000000000000018],\n     [8.305997230317399e-05, 0.00011553074510239035, 0.020000000000000018],\n     [5.9698643286635694e-05, 9.355584184359312e-05, 0.026100000000000012],\n     [5.9698643286635694e-05, 9.355584184359312e-05, 0.026100000000000012],\n     [8.305997230317399e-05, 0.00011553074510239035, 0.020000000000000018],\n     [8.305997230317399e-05, 0.00011553074510239035, 0.020000000000000018],\n     [5.9698643286635694e-05, 9.355584184359312e-05, 0.026100000000000012],\n     [5.9698643286635694e-05, 9.355584184359312e-05, 0.026100000000000012],\n     [5.9698643286635694e-05, 9.355584184359312e-05, 0.026100000000000012],\n     [5.9698643286635694e-05, 9.355584184359312e-05, 0.026100000000000012],\n     [5.9698643286635694e-05, 9.355584184359312e-05, 0.026100000000000012],\n     [5.9698643286635694e-05, 9.355584184359312e-05, 0.026100000000000012],\n     [8.305997230317399e-05, 0.00011553074510239035, 0.020000000000000018],\n     [8.305997230317399e-05, 0.00011553074510239035, 0.020000000000000018],\n     [8.305997230317399e-05, 0.00011553074510239035, 0.020000000000000018],\n     [0.00010377694598809795, 9.477169960638749e-05, 0.016599999999999948],\n     [0.00010377694598809795, 9.477169960638749e-05, 0.016599999999999948],\n     [8.305997230317399e-05, 0.00011553074510239035, 0.020000000000000018],\n     [0.00010377694598809795, 9.477169960638749e-05, 0.016599999999999948],\n     [5.9698643286635694e-05, 9.355584184359312e-05, 0.026100000000000012],\n     [8.305997230317399e-05, 0.00011553074510239035, 0.020000000000000018],\n     [0.00010377694598809795, 9.477169960638749e-05, 0.016599999999999948],\n     [4.358447375590962e-05, 4.645933441447346e-05, 0.0515000000000001]]},\n   'DAGOpNode_wire_DAGOutNode': {'edge_index': [[63, 64, 65, 66],\n     [3, 2, 1, 0]],\n    'edge_attr': [[4.358447375590962e-05,\n      4.645933441447346e-05,\n      0.0515000000000001],\n     [0.00010377694598809795, 9.477169960638749e-05, 0.016599999999999948],\n     [8.305997230317399e-05, 0.00011553074510239035, 0.020000000000000018],\n     [5.9698643286635694e-05, 9.355584184359312e-05, 0.026100000000000012]]}}},\n 'observable': [],\n 'ideal_exp_value': [0.6176, 0.0114, -0.0008, -0.01],\n 'noisy_exp_values': [[0.5296, -0.0068, 0.0, -0.0772]],\n 'circuit_depth': 45}"
     },
     "execution_count": 39,
     "metadata": {},
     "output_type": "execute_result"
    }
   ],
   "source": [
    "out[1]"
   ],
   "metadata": {
    "collapsed": false
   }
  },
  {
   "cell_type": "code",
   "execution_count": null,
   "outputs": [],
   "source": [],
   "metadata": {
    "collapsed": false
   }
  }
 ],
 "metadata": {
  "kernelspec": {
   "display_name": "Python 3",
   "language": "python",
   "name": "python3"
  },
  "language_info": {
   "codemirror_mode": {
    "name": "ipython",
    "version": 2
   },
   "file_extension": ".py",
   "mimetype": "text/x-python",
   "name": "python",
   "nbconvert_exporter": "python",
   "pygments_lexer": "ipython2",
   "version": "2.7.6"
  }
 },
 "nbformat": 4,
 "nbformat_minor": 0
}
