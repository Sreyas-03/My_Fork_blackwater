{
 "cells": [
  {
   "cell_type": "code",
   "execution_count": null,
   "metadata": {
    "collapsed": true
   },
   "outputs": [],
   "source": [
    "import copy\n",
    "import json, pickle\n",
    "import glob\n",
    "\n",
    "import numpy as np\n",
    "import pandas as pd\n",
    "\n",
    "from qiskit import transpile\n",
    "from qiskit.primitives import BackendEstimator\n",
    "from qiskit_ibm_runtime import Estimator as RuntimeEstimator\n",
    "from qiskit.quantum_info import SparsePauliOp\n",
    "from qiskit import execute\n",
    "from qiskit.providers.fake_provider import FakeLima, FakeSherbrooke, FakeLimaV2, FakeWashington\n",
    "from qiskit import QuantumCircuit, IBMQ, QuantumRegister, ClassicalRegister\n",
    "from qiskit.primitives import Estimator\n",
    "from qiskit.circuit.random import random_circuit\n",
    "\n",
    "import torch\n",
    "from torch.optim import Adam\n",
    "from torch.optim.lr_scheduler import ReduceLROnPlateau\n",
    "from torch.nn.functional import dropout\n",
    "\n",
    "from torch_geometric.nn import GCNConv, global_mean_pool, Linear, ChebConv, SAGEConv\n",
    "from torch_geometric.data import Data\n",
    "from torch_geometric.loader import DataLoader\n",
    "\n",
    "from tqdm.notebook import tqdm_notebook\n",
    "import matplotlib.pyplot as plt\n",
    "import seaborn as sns\n",
    "\n",
    "from blackwater.data.loaders.exp_val import CircuitGraphExpValMitigationDataset\n",
    "from blackwater.data.generators.exp_val import exp_value_generator\n",
    "from blackwater.data.utils import generate_random_pauli_sum_op\n",
    "from blackwater.library.ngem.estimator import ngem\n",
    "\n",
    "from qiskit.quantum_info import random_clifford\n",
    "\n",
    "import random\n",
    "from qiskit.circuit.library import HGate, SdgGate\n",
    "from qiskit.circuit import ClassicalRegister\n",
    "\n",
    "from blackwater.data.utils import (\n",
    "    generate_random_pauli_sum_op,\n",
    "    create_estimator_meas_data,\n",
    "    circuit_to_graph_data_json,\n",
    "    get_backend_properties_v1,\n",
    "    encode_pauli_sum_op,\n",
    "    create_meas_data_from_estimators\n",
    ")\n",
    "from blackwater.data.generators.exp_val import ExpValueEntry\n",
    "from blackwater.metrics.improvement_factor import improvement_factor, Trial, Problem\n",
    "\n",
    "from qiskit_aer import AerSimulator, QasmSimulator\n",
    "from qiskit.providers.fake_provider import FakeMontreal, FakeLima, FakeBelem\n",
    "\n",
    "from torch_geometric.nn import (\n",
    "    GCNConv,\n",
    "    TransformerConv,\n",
    "    GATv2Conv,\n",
    "    global_mean_pool,\n",
    "    Linear,\n",
    "    ChebConv,\n",
    "    SAGEConv,\n",
    "    ASAPooling,\n",
    "    dense_diff_pool,\n",
    "    avg_pool_neighbor_x\n",
    ")\n",
    "from torch_geometric.data import Data\n",
    "from torch_geometric.loader import DataLoader\n",
    "from torch_geometric.utils import to_dense_adj, to_dense_batch\n",
    "\n",
    "from qiskit import QuantumCircuit\n",
    "from qiskit.circuit.library import U3Gate, CZGate, PhaseGate, CXGate\n",
    "from mbd_utils import construct_random_clifford, cal_z_exp, calc_imbalance, cal_all_z_exp, construct_mbl_circuit, generate_disorder, random_clifford_circuit\n",
    "from gnn import ExpValCircuitGraphModel\n",
    "from qiskit.quantum_info import Clifford\n",
    "from qiskit_aer.noise import depolarizing_error, coherent_unitary_error, NoiseModel\n",
    "from noise_utils import AddNoise\n",
    "\n",
    "from functools import partial\n",
    "\n",
    "from zne import zne, ZNEStrategy\n",
    "from zne.noise_amplification import *\n",
    "from zne.extrapolation import *\n",
    "\n",
    "D = {'output': 'mpl', 'fold': -1, 'idle_wires': False}\n",
    "DD = {'output': 'mpl', 'fold': 50, 'idle_wires': False}"
   ]
  },
  {
   "cell_type": "code",
   "execution_count": null,
   "outputs": [],
   "source": [
    "from qiskit_ibm_provider import IBMProvider\n",
    "provider = IBMProvider()"
   ],
   "metadata": {
    "collapsed": false
   }
  },
  {
   "cell_type": "code",
   "execution_count": null,
   "outputs": [],
   "source": [
    "real_backend = provider.get_backend('ibm_sherbrooke')\n",
    "# real_backend = provider.get_backend('ibm_washington')"
   ],
   "metadata": {
    "collapsed": false
   }
  },
  {
   "cell_type": "code",
   "execution_count": null,
   "outputs": [],
   "source": [
    "fake_backend = FakeSherbrooke() #FakeWashington() #FakeLima()\n",
    "\n",
    "## Local\n",
    "fake_backend_ideal = QasmSimulator() # Noiseless\n",
    "fake_backend_noisy = AerSimulator.from_backend(fake_backend) # Noisy\n",
    "stabilizer_simulator = AerSimulator(method='stabilizer')\n",
    "\n",
    "fake_run_config_ideal = {'shots': 10000, 'backend': fake_backend_ideal, 'name': 'fake_ideal'}\n",
    "fake_run_config_noisy = {'shots': 10000, 'backend': fake_backend_noisy, 'name': 'fake_noisy'}"
   ],
   "metadata": {
    "collapsed": false
   }
  },
  {
   "cell_type": "markdown",
   "source": [],
   "metadata": {
    "collapsed": false
   }
  },
  {
   "cell_type": "markdown",
   "source": [],
   "metadata": {
    "collapsed": false
   }
  },
  {
   "cell_type": "code",
   "execution_count": null,
   "outputs": [],
   "source": [
    "import os\n",
    "from tqdm.notebook import tqdm\n",
    "def load_circuits(data_dir, f_ext='.json'):\n",
    "    circuits = []\n",
    "    ideal_exp_vals = []\n",
    "    noisy_exp_vals = []\n",
    "    Js = []\n",
    "    data_files = sorted([os.path.join(data_dir, f) for f in os.listdir(data_dir) if f.endswith(f_ext)])\n",
    "    for data_file in tqdm(data_files, leave=True):\n",
    "        if f_ext == '.json':\n",
    "            for entry in json.load(open(data_file, 'r')):\n",
    "                circuits.append(QuantumCircuit.from_qasm_str(entry['circuit']))\n",
    "                ideal_exp_vals.append(entry['ideal_exp_value'])\n",
    "                noisy_exp_vals.append(entry['noisy_exp_values'])\n",
    "        elif f_ext == '.pk':\n",
    "            for entry in pickle.load(open(data_file, 'rb')):\n",
    "                circuits.append(entry['circuit'])\n",
    "                Js.append(entry['J'])\n",
    "                # ideal_exp_vals.append(entry['ideal_exp_value'])\n",
    "                # noisy_exp_vals.append(entry['noisy_exp_values'])\n",
    "    return circuits, Js #, ideal_exp_vals, noisy_exp_vals\n",
    "\n",
    "train_circuits, Js = load_circuits('./data/ising_zne_hardware/10q_sherbrooke_sameJ_2', '.pk')"
   ],
   "metadata": {
    "collapsed": false
   }
  },
  {
   "cell_type": "code",
   "execution_count": null,
   "outputs": [],
   "source": [
    "# train_circuits[61].remove_final_measurements()\n",
    "train_circuits[2][0]#.draw(**D)"
   ],
   "metadata": {
    "collapsed": false
   }
  },
  {
   "cell_type": "markdown",
   "source": [],
   "metadata": {
    "collapsed": false
   }
  },
  {
   "cell_type": "markdown",
   "source": [],
   "metadata": {
    "collapsed": false
   }
  },
  {
   "cell_type": "code",
   "execution_count": null,
   "outputs": [],
   "source": [
    "def form_all_qubit_observable(observable, measurement_qubits, total_num_qubits):\n",
    "    \"\"\"Input observable in non-endian, output observable in endian\"\"\"\n",
    "    assert len(observable) == len(measurement_qubits)\n",
    "    converted_obs = list('I' * total_num_qubits)\n",
    "    for qubit, basis in zip(measurement_qubits, list(observable)):\n",
    "        converted_obs[qubit] = basis\n",
    "    return ''.join(converted_obs)[::-1]\n",
    "\n",
    "def get_measurement_qubits(qc, num_measured_qubit):\n",
    "    measurement_qubits = []\n",
    "    for measurement in range(num_measured_qubit - 1, -1, -1):\n",
    "        measurement_qubits.append(qc.data[-1 - measurement][1][0].index)\n",
    "    return measurement_qubits"
   ],
   "metadata": {
    "collapsed": false
   }
  },
  {
   "cell_type": "code",
   "execution_count": null,
   "outputs": [],
   "source": [
    "# obs_list = ['I'*i+'Z'+'I'*(6-1-i) for i in range(6)]\n",
    "# padded_obs = [SparsePauliOp(form_all_qubit_observable(obs, get_measurement_qubits(trans_circuit, 6), 127)) for obs in obs_list]\n",
    "\n",
    "obs_list = ['Z'+'I'*9, 'I'*2+'Z'+'I'*7, 'I'*4+'Z'+'I'*5, 'I'*6+'Z'+'I'*3, 'I'*9+'Z'+'I'*0]\n",
    "padded_obs_all_circs = []\n",
    "for trans_circuit in tqdm(train_circuits):\n",
    "    padded_obs_all_circs += [SparsePauliOp(form_all_qubit_observable(obs, get_measurement_qubits(trans_circuit, 10), 127)) for obs in obs_list]\n",
    "\n",
    "# obs_list = ['Z'+'I'*99, 'I'*19+'Z'+'I'*80, 'I'*29+'Z'+'I'*70, 'I'*39+'Z'+'I'*60, 'I'*49+'Z'+'I'*50]\n",
    "# padded_obs_all_circs = []\n",
    "# for trans_circuit in tqdm(train_circuits):\n",
    "#     padded_obs_all_circs += [SparsePauliOp(form_all_qubit_observable(obs, get_measurement_qubits(trans_circuit, 100), 127)) for obs in obs_list]"
   ],
   "metadata": {
    "collapsed": false
   }
  },
  {
   "cell_type": "code",
   "execution_count": null,
   "outputs": [],
   "source": [
    "for i in range(150, 155):\n",
    "    print(126-padded_obs_all_circs[i].paulis.to_labels()[0].find('Z'))"
   ],
   "metadata": {
    "collapsed": false
   }
  },
  {
   "cell_type": "code",
   "execution_count": null,
   "outputs": [],
   "source": [
    "with open('./data/ising_zne_hardware/10q_sherbrooke_30persteps_shots1w_sameJ_2_job_ids.pk', 'rb') as file:\n",
    "    loaded = pickle.load(file)\n",
    "loaded"
   ],
   "metadata": {
    "collapsed": false
   }
  },
  {
   "cell_type": "code",
   "execution_count": null,
   "outputs": [],
   "source": [
    "from qiskit_ibm_runtime import QiskitRuntimeService, Session, Options\n",
    "service = QiskitRuntimeService()"
   ],
   "metadata": {
    "collapsed": false
   }
  },
  {
   "cell_type": "code",
   "execution_count": null,
   "outputs": [],
   "source": [
    "mitigated_vals = []\n",
    "noisy_vals = []\n",
    "for job_id in tqdm(loaded[:-1]):\n",
    "    ret_job_result = service.job(job_id).result()\n",
    "    mitigated_values = ret_job_result.values\n",
    "    for i in range(30):\n",
    "        mitigated_vals.append(mitigated_values[i*5:(i+1)*5].tolist())\n",
    "        noisy_vals.append([ret_job_result.metadata[j]['zne']['noise_amplification']['values'][0] for j in list(range(i*5,(i+1)*5))])"
   ],
   "metadata": {
    "collapsed": false
   }
  },
  {
   "cell_type": "markdown",
   "source": [],
   "metadata": {
    "collapsed": false
   }
  },
  {
   "cell_type": "markdown",
   "source": [
    "# Verification"
   ],
   "metadata": {
    "collapsed": false
   }
  },
  {
   "cell_type": "code",
   "execution_count": null,
   "outputs": [],
   "source": [
    "train_circuits[2].draw(**D)"
   ],
   "metadata": {
    "collapsed": false
   }
  },
  {
   "cell_type": "code",
   "execution_count": null,
   "outputs": [],
   "source": [
    "marginal_counts(AerSimulator().run(train_circuits[6], shots=100000).result().get_counts(), [0])"
   ],
   "metadata": {
    "collapsed": false
   }
  },
  {
   "cell_type": "code",
   "execution_count": null,
   "outputs": [],
   "source": [
    "from qiskit.result import marginal_counts\n",
    "ideal_vals = []\n",
    "for circ in tqdm(train_circuits):\n",
    "    counts_ideal = AerSimulator().run(circ, shots=100000).result().get_counts()\n",
    "    ideal_exp_vals = -1*cal_z_exp(marginal_counts(counts_ideal, [0, 2, 4, 6, 9]))\n",
    "    ideal_vals.append(ideal_exp_vals.tolist())"
   ],
   "metadata": {
    "collapsed": false
   }
  },
  {
   "cell_type": "code",
   "execution_count": null,
   "outputs": [],
   "source": [
    "to_df = []\n",
    "steps = np.repeat(np.arange(1, 11), 30)\n",
    "\n",
    "for i, (ideal_exp_val, noisy_exp_val, zne_mitigated, step, J) in tqdm(enumerate(zip(ideal_vals, noisy_vals, mitigated_vals, steps, Js)), total=len(ideal_vals)):\n",
    "    row = dict()\n",
    "    row['ideal'] = ideal_exp_val\n",
    "    row['noisy'] = noisy_exp_val\n",
    "    row['zne_mitigated'] = zne_mitigated\n",
    "    row['step'] = step\n",
    "    row['J'] = J\n",
    "\n",
    "    # circ_trans = transpile(circ, backend, optimization_level=3)\n",
    "    # graph_data = circuit_to_graph_data_json(\n",
    "    #             circuit=circ_trans,\n",
    "    #             properties=properties,\n",
    "    #             use_qubit_features=True,\n",
    "    #             use_gate_features=True,\n",
    "    #         )\n",
    "    #\n",
    "    # try:\n",
    "    #     entry = ExpValueEntry(\n",
    "    #         circuit_graph=graph_data,\n",
    "    #         observable=[],\n",
    "    #         ideal_exp_value=ideal_exp_val,\n",
    "    #         noisy_exp_values=[noisy_exp_val],\n",
    "    #         circuit_depth=circ_trans.depth()\n",
    "    #     ).to_pyg_data()\n",
    "    # except KeyError as e:\n",
    "    #     print(f'Run into: {e}')\n",
    "    #     continue\n",
    "    #\n",
    "    # X, _ = encode_data([circ_trans], properties, ideal_exp_val, [noisy_exp_val], num_qubits=4)\n",
    "    #\n",
    "    # for j, (model, name) in enumerate(models):\n",
    "    #     if name == 'mlp':\n",
    "    #         row[name] = model(X).tolist()[0]\n",
    "    #     elif name == 'gnn':\n",
    "    #         row[name] = model(entry.noisy_0,\n",
    "    #                                 entry.observable,\n",
    "    #                                 entry.circuit_depth,\n",
    "    #                                 entry.x,\n",
    "    #                                 entry.edge_index,\n",
    "    #                                 entry.batch).tolist()[0]\n",
    "    #     elif name in ['ols_full', 'rfr_full']:\n",
    "    #         row[name] = model.predict(X).tolist()[0]\n",
    "    #     elif name in ['ols', 'rfr']:\n",
    "    #         row[name] = model.predict(X[:, -4:]).tolist()[0]\n",
    "    #     elif name in ['rfr_list']:\n",
    "    #         row[name] = []\n",
    "    #         for q, m in enumerate(model):\n",
    "    #             row[name].append(m.predict(X))\n",
    "    #         row[name] = np.array(row[name]).transpose()[0]\n",
    "    #     elif name in ['zne']:\n",
    "    #         row[name] = zne_mitigated\n",
    "    #     else:\n",
    "    #         raise NotImplementedError\n",
    "\n",
    "    to_df.append(row)\n",
    "\n",
    "df = pd.DataFrame(to_df)"
   ],
   "metadata": {
    "collapsed": false
   }
  },
  {
   "cell_type": "code",
   "execution_count": null,
   "outputs": [],
   "source": [
    "df = pd.DataFrame(to_df)\n",
    "new_df = df\n",
    "# new_df = df.iloc[[i for range_start in range(0, len(df), 60) for i in range(range_start+30, range_start+60)]]\n",
    "# new_df = df.iloc[[i for range_start in range(30, len(df), 60) for i in range(range_start, range_start+30)]]\n",
    "\n",
    "\n",
    "import warnings\n",
    "warnings.filterwarnings('ignore')\n",
    "\n",
    "def l2_dist(list1, list2):\n",
    "    return np.sqrt(np.sum([(a - b)**2 for a, b in zip(list1, list2)]))\n",
    "\n",
    "# def l1_dist(list1, list2):\n",
    "#     return np.sum([np.abs(a - b) for a, b in zip(list1, list2)])\n",
    "\n",
    "for col in new_df.columns:\n",
    "    if col not in ['step', 'ideal', 'J']:\n",
    "        new_df[f'L2_{col}'] = new_df.apply(lambda row: l2_dist(row['ideal'], row[col]), axis=1)\n",
    "\n",
    "new_df_mean = new_df.groupby('step').agg('mean')\n",
    "new_df_ste = new_df.groupby('step').agg('std') / np.sqrt(30)\n",
    "\n",
    "plt.style.use({'figure.facecolor':'white'})\n",
    "plt.figure(figsize=(8, 5))\n",
    "steps = sorted(set(new_df.step))\n",
    "legend_labels = ['Unmitigated', 'ZNE']\n",
    "for i, col in enumerate(['L2_noisy', 'L2_zne_mitigated']):\n",
    "    plt.plot(steps, new_df_mean[col], label=legend_labels[i])\n",
    "    plt.fill_between(x=steps, y1=new_df_mean[col]-new_df_ste[col], y2=new_df_mean[col]+new_df_ste[col], alpha=0.2)\n",
    "plt.xlabel('Trotter Step')\n",
    "plt.ylabel(r'Mean $L_2$-distance from the Ideal')\n",
    "# plt.ylim([0, 0.64])\n",
    "# plt.xlim([0, 29])\n",
    "# plt.vlines(x=14, ymin=0, ymax=1, color='gray', label='Train data availability')\n",
    "plt.legend()\n",
    "plt.grid(None)\n",
    "plt.show()"
   ],
   "metadata": {
    "collapsed": false
   }
  },
  {
   "cell_type": "markdown",
   "source": [],
   "metadata": {
    "collapsed": false
   }
  },
  {
   "cell_type": "code",
   "execution_count": null,
   "outputs": [],
   "source": [
    "k = 5\n",
    "new_df = pd.DataFrame(to_df).iloc[k::30]\n",
    "\n",
    "import warnings\n",
    "warnings.filterwarnings('ignore')\n",
    "\n",
    "for col in new_df.columns:\n",
    "    if col not in ['step']:\n",
    "        new_df[f'mean_{col}'] = new_df[col].apply(np.mean)\n",
    "\n",
    "new_df_mean = new_df.groupby('step').agg('mean')\n",
    "new_df_ste = new_df.groupby('step').agg('std') / np.sqrt(len(new_df[new_df['step']==2]))\n",
    "\n",
    "plt.style.use({'figure.facecolor':'white'})\n",
    "plt.figure(figsize=(8, 5))\n",
    "steps = sorted(set(new_df.step))\n",
    "legend_labels = ['Ideal', 'Unmitigated', 'ZNE']\n",
    "for i, col in enumerate(['mean_ideal', 'mean_noisy', 'mean_zne_mitigated']):\n",
    "    plt.plot(steps, new_df_mean[col], label=legend_labels[i])\n",
    "    plt.fill_between(x=steps, y1=new_df_mean[col]-new_df_ste[col], y2=new_df_mean[col]+new_df_ste[col], alpha=0.2)\n",
    "plt.xlabel('Trotter Step')\n",
    "plt.ylabel(r'Mean')\n",
    "# plt.ylim([0, 0.64])\n",
    "# plt.xlim([0, 29])\n",
    "# plt.vlines(x=14, ymin=0, ymax=1, color='gray', label='Train data availability')\n",
    "plt.legend()\n",
    "plt.grid(None)\n",
    "plt.show()"
   ],
   "metadata": {
    "collapsed": false
   }
  },
  {
   "cell_type": "code",
   "execution_count": null,
   "outputs": [],
   "source": [
    "new_df = pd.DataFrame(to_df)\n",
    "s = 5\n",
    "new_df = new_df[new_df.step==s]\n",
    "\n",
    "import warnings\n",
    "warnings.filterwarnings('ignore')\n",
    "\n",
    "for col in new_df.columns:\n",
    "    if col not in ['step', 'J']:\n",
    "        new_df[f'mean_{col}'] = new_df[col].apply(np.mean)\n",
    "\n",
    "plt.style.use({'figure.facecolor':'white'})\n",
    "plt.figure(figsize=(8, 5))\n",
    "samples = list(range(len(set(new_df.index))))\n",
    "legend_labels = ['Ideal', 'Unmitigated', 'ZNE']\n",
    "for i, col in enumerate(['mean_ideal', 'mean_noisy', 'mean_zne_mitigated']):\n",
    "    plt.scatter(new_df.J, new_df[col], label=legend_labels[i])\n",
    "plt.xlabel(f'J values at Trotter step {s}')\n",
    "plt.ylabel(r'Mean')\n",
    "plt.legend()\n",
    "plt.grid(None)\n",
    "plt.show()"
   ],
   "metadata": {
    "collapsed": false
   }
  },
  {
   "cell_type": "markdown",
   "source": [],
   "metadata": {
    "collapsed": false
   }
  },
  {
   "cell_type": "code",
   "execution_count": null,
   "outputs": [],
   "source": [],
   "metadata": {
    "collapsed": false
   }
  }
 ],
 "metadata": {
  "kernelspec": {
   "display_name": "Python 3",
   "language": "python",
   "name": "python3"
  },
  "language_info": {
   "codemirror_mode": {
    "name": "ipython",
    "version": 2
   },
   "file_extension": ".py",
   "mimetype": "text/x-python",
   "name": "python",
   "nbconvert_exporter": "python",
   "pygments_lexer": "ipython2",
   "version": "2.7.6"
  }
 },
 "nbformat": 4,
 "nbformat_minor": 0
}
