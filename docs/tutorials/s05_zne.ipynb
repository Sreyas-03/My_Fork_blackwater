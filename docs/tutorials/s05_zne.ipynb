{
 "cells": [
  {
   "cell_type": "code",
   "execution_count": 4,
   "metadata": {},
   "outputs": [
    {
     "name": "stderr",
     "output_type": "stream",
     "text": [
      "/home/sreyas/.conda/envs/mlqem/lib/python3.9/site-packages/torch_geometric/typing.py:110: UserWarning: An issue occurred while importing 'torch-sparse'. Disabling its usage. Stacktrace: /home/sreyas/.conda/envs/mlqem/lib/python3.9/site-packages/zmq/backend/cython/../../../../.././libstdc++.so.6: version `GLIBCXX_3.4.32' not found (required by /home/sreyas/.conda/envs/mlqem/lib/python3.9/site-packages/torch_sparse/_version_cpu.so)\n",
      "  warnings.warn(f\"An issue occurred while importing 'torch-sparse'. \"\n"
     ]
    }
   ],
   "source": [
    "import json, pickle\n",
    "import glob, os\n",
    "\n",
    "import numpy as np\n",
    "import pandas as pd\n",
    "\n",
    "from qiskit import transpile\n",
    "from qiskit import execute\n",
    "from qiskit.providers.fake_provider import FakeLima\n",
    "from qiskit.primitives import Estimator\n",
    "from qiskit.circuit.random import random_circuit\n",
    "\n",
    "import torch\n",
    "from torch.optim import Adam\n",
    "from torch.optim.lr_scheduler import ReduceLROnPlateau\n",
    "from torch.nn.functional import dropout\n",
    "\n",
    "from torch_geometric.nn import GCNConv, global_mean_pool, Linear, ChebConv, SAGEConv\n",
    "from torch_geometric.data import Data\n",
    "from torch_geometric.loader import DataLoader\n",
    "\n",
    "from tqdm.notebook import tqdm\n",
    "import matplotlib.pyplot as plt\n",
    "import seaborn as sns\n",
    "\n",
    "from blackwater.data.loaders.exp_val import CircuitGraphExpValMitigationDataset\n",
    "from blackwater.data.generators.exp_val import exp_value_generator\n",
    "from blackwater.data.utils import generate_random_pauli_sum_op\n",
    "from blackwater.library.ngem.estimator import ngem\n",
    "\n",
    "from qiskit.quantum_info import random_clifford\n",
    "\n",
    "import random\n",
    "from qiskit.circuit.library import HGate, SdgGate\n",
    "from qiskit.circuit import ClassicalRegister\n",
    "\n",
    "from blackwater.data.utils import (\n",
    "    generate_random_pauli_sum_op,\n",
    "    create_estimator_meas_data,\n",
    "    circuit_to_graph_data_json,\n",
    "    get_backend_properties_v1,\n",
    "    encode_pauli_sum_op,\n",
    "    create_meas_data_from_estimators\n",
    ")\n",
    "from blackwater.data.generators.exp_val import ExpValueEntry\n",
    "from blackwater.metrics.improvement_factor import improvement_factor, Trial, Problem\n",
    "\n",
    "from qiskit_aer import AerSimulator, QasmSimulator\n",
    "from qiskit.providers.fake_provider import FakeMontreal, FakeLima, FakeBelem, FakeGuadalupe\n",
    "\n",
    "from zne import zne, ZNEStrategy\n",
    "from zne.noise_amplification import *\n",
    "from zne.extrapolation import *\n",
    "\n",
    "from torch_geometric.nn import (\n",
    "    GCNConv,\n",
    "    TransformerConv,\n",
    "    GATv2Conv,\n",
    "    global_mean_pool,\n",
    "    Linear,\n",
    "    ChebConv,\n",
    "    SAGEConv,\n",
    "    ASAPooling,\n",
    "    dense_diff_pool,\n",
    "    avg_pool_neighbor_x\n",
    ")\n",
    "from torch_geometric.data import Data\n",
    "from torch_geometric.loader import DataLoader\n",
    "from torch_geometric.utils import to_dense_adj, to_dense_batch\n",
    "\n",
    "from qiskit import QuantumCircuit\n",
    "from qiskit.circuit.library import U3Gate, CZGate, PhaseGate, CXGate\n",
    "from mbd_utils import construct_random_clifford, cal_z_exp, calc_imbalance, cal_all_z_exp, construct_mbl_circuit, generate_disorder, random_clifford_circuit, modify_and_add_noise_to_model\n",
    "from gnn import ExpValCircuitGraphModel\n",
    "from qiskit.quantum_info import Clifford\n",
    "from qiskit_aer.noise import depolarizing_error, coherent_unitary_error, NoiseModel\n",
    "\n",
    "from functools import partial"
   ]
  },
  {
   "cell_type": "code",
   "execution_count": 5,
   "metadata": {},
   "outputs": [],
   "source": [
    "# backend = FakeGuadalupe()\n",
    "backend = FakeMontreal()\n",
    "properties = get_backend_properties_v1(backend)\n",
    "\n",
    "## Local\n",
    "backend_ideal = QasmSimulator() # Noiseless\n",
    "backend_noisy = AerSimulator.from_backend(backend) # Noisy\n",
    "\n",
    "run_config_ideal = {'shots': 10000, 'backend': backend_ideal, 'name': 'ideal'}\n",
    "run_config_noisy = {'shots': 10000, 'backend': backend_noisy, 'name': 'noisy'}\n",
    "\n",
    "num_qubit = 4"
   ]
  },
  {
   "cell_type": "code",
   "execution_count": 6,
   "metadata": {},
   "outputs": [
    {
     "name": "stdout",
     "output_type": "stream",
     "text": [
      "27\n"
     ]
    }
   ],
   "source": [
    "print(backend.configuration().num_qubits)"
   ]
  },
  {
   "cell_type": "code",
   "execution_count": 7,
   "metadata": {},
   "outputs": [],
   "source": [
    "def fix_random_seed(seed=0):\n",
    "    random.seed(seed)\n",
    "    os.environ['PYTHONHASHSEED'] = str(seed)\n",
    "    np.random.seed(seed)\n",
    "    torch.manual_seed(seed)\n",
    "    torch.cuda.manual_seed(seed)\n",
    "    torch.cuda.manual_seed_all(seed)  # if you are using multi-GPU.\n",
    "    torch.backends.cudnn.benchmark = False\n",
    "    torch.backends.cudnn.deterministic = True\n",
    "    print(f'random seed fixed to {seed}')"
   ]
  },
  {
   "cell_type": "code",
   "execution_count": 20,
   "metadata": {},
   "outputs": [],
   "source": [
    "def get_zne_expval(circ,\n",
    "                   obs: str,\n",
    "                   extrapolator,\n",
    "                   backend,\n",
    "                   noise_factors = (1, 3),\n",
    "                   amplifier=LocalFoldingAmplifier(gates_to_fold=2),\n",
    "                   shots:int=10000,\n",
    "                   ) -> float:\n",
    "    \"\"\"Returns the zero-noise expectation values for a list of observables `obs` of a circuit `circ`\n",
    "    Inputs:\n",
    "    obs (list[str]): Observables in Endian convention (e.g. 'IIZ' is the Z operator on the 0th qubit) for the PHYSICAL qubits\n",
    "    mapping (list[int]): Mapping between logical and physical qubits, e.g. mapping[0] is the physical qubit for logical qubit 0\n",
    "    \"\"\"\n",
    "    observable = SparsePauliOp(obs)\n",
    "\n",
    "    ZNEEstimator = zne(BackendEstimator)\n",
    "    estimator = ZNEEstimator(backend=backend)\n",
    "\n",
    "    zne_strategy = ZNEStrategy(\n",
    "        noise_factors=noise_factors,\n",
    "        noise_amplifier=amplifier,\n",
    "        extrapolator=extrapolator\n",
    "    )\n",
    "\n",
    "    job = estimator.run(circ, observable, shots=shots, zne_strategy=zne_strategy)\n",
    "    values = job.result().values\n",
    "    # we use a different convention where +1 is the eigenvalue for |1> state, because cal_z_exp assumes 0 is -Z and 1 is +Z\n",
    "    values *= -1\n",
    "\n",
    "    return values.tolist()\n",
    "\n",
    "def get_measurement_qubits(qc, num_qubit):\n",
    "    measurement_qubits = []\n",
    "    for measurement in range(num_qubit - 1, -1, -1):\n",
    "        instruction = qc[-1 - measurement]\n",
    "        if instruction[0].name == 'measure':\n",
    "            measurement_qubits.append(instruction[1][0].index)\n",
    "    return measurement_qubits\n",
    "\n",
    "\n",
    "def get_all_circuit_meas_mapping(circs):\n",
    "    out = []\n",
    "    for circ in circs:\n",
    "        mapping = get_measurement_qubits(circ, 16)\n",
    "        mapping = mapping[::-1]\n",
    "        for i in range(16):\n",
    "            if i not in mapping:\n",
    "                mapping = mapping + [i]\n",
    "        out.append(mapping)\n",
    "    return out"
   ]
  },
  {
   "cell_type": "code",
   "execution_count": 2,
   "metadata": {},
   "outputs": [
    {
     "name": "stdout",
     "output_type": "stream",
     "text": [
      "Collecting mitiq\n",
      "  Downloading mitiq-0.37.0-py3-none-any.whl.metadata (16 kB)\n",
      "Requirement already satisfied: numpy>=1.22.0 in /home/sreyas/.conda/envs/mlqem/lib/python3.9/site-packages (from mitiq) (1.23.5)\n",
      "Requirement already satisfied: scipy<=1.13.1,>=1.10.1 in /home/sreyas/.conda/envs/mlqem/lib/python3.9/site-packages (from mitiq) (1.13.1)\n",
      "Collecting cirq-core<1.4.0,>=1.0.0 (from mitiq)\n",
      "  Downloading cirq_core-1.3.0-py3-none-any.whl.metadata (1.9 kB)\n",
      "Collecting tabulate (from mitiq)\n",
      "  Downloading tabulate-0.9.0-py3-none-any.whl.metadata (34 kB)\n",
      "Collecting duet~=0.2.8 (from cirq-core<1.4.0,>=1.0.0->mitiq)\n",
      "  Downloading duet-0.2.9-py3-none-any.whl.metadata (2.3 kB)\n",
      "Requirement already satisfied: matplotlib~=3.0 in /home/sreyas/.conda/envs/mlqem/lib/python3.9/site-packages (from cirq-core<1.4.0,>=1.0.0->mitiq) (3.9.1)\n",
      "Requirement already satisfied: networkx>=2.4 in /home/sreyas/.conda/envs/mlqem/lib/python3.9/site-packages (from cirq-core<1.4.0,>=1.0.0->mitiq) (3.2.1)\n",
      "Requirement already satisfied: pandas in /home/sreyas/.conda/envs/mlqem/lib/python3.9/site-packages (from cirq-core<1.4.0,>=1.0.0->mitiq) (1.5.3)\n",
      "Collecting sortedcontainers~=2.0 (from cirq-core<1.4.0,>=1.0.0->mitiq)\n",
      "  Downloading sortedcontainers-2.4.0-py2.py3-none-any.whl.metadata (10 kB)\n",
      "Requirement already satisfied: sympy in /home/sreyas/.conda/envs/mlqem/lib/python3.9/site-packages (from cirq-core<1.4.0,>=1.0.0->mitiq) (1.12)\n",
      "Requirement already satisfied: typing-extensions>=4.2 in /home/sreyas/.conda/envs/mlqem/lib/python3.9/site-packages (from cirq-core<1.4.0,>=1.0.0->mitiq) (4.11.0)\n",
      "Requirement already satisfied: tqdm in /home/sreyas/.conda/envs/mlqem/lib/python3.9/site-packages (from cirq-core<1.4.0,>=1.0.0->mitiq) (4.66.4)\n",
      "Requirement already satisfied: contourpy>=1.0.1 in /home/sreyas/.conda/envs/mlqem/lib/python3.9/site-packages (from matplotlib~=3.0->cirq-core<1.4.0,>=1.0.0->mitiq) (1.2.1)\n",
      "Requirement already satisfied: cycler>=0.10 in /home/sreyas/.conda/envs/mlqem/lib/python3.9/site-packages (from matplotlib~=3.0->cirq-core<1.4.0,>=1.0.0->mitiq) (0.12.1)\n",
      "Requirement already satisfied: fonttools>=4.22.0 in /home/sreyas/.conda/envs/mlqem/lib/python3.9/site-packages (from matplotlib~=3.0->cirq-core<1.4.0,>=1.0.0->mitiq) (4.53.1)\n",
      "Requirement already satisfied: kiwisolver>=1.3.1 in /home/sreyas/.conda/envs/mlqem/lib/python3.9/site-packages (from matplotlib~=3.0->cirq-core<1.4.0,>=1.0.0->mitiq) (1.4.5)\n",
      "Requirement already satisfied: packaging>=20.0 in /home/sreyas/.conda/envs/mlqem/lib/python3.9/site-packages (from matplotlib~=3.0->cirq-core<1.4.0,>=1.0.0->mitiq) (24.1)\n",
      "Requirement already satisfied: pillow>=8 in /home/sreyas/.conda/envs/mlqem/lib/python3.9/site-packages (from matplotlib~=3.0->cirq-core<1.4.0,>=1.0.0->mitiq) (10.4.0)\n",
      "Requirement already satisfied: pyparsing>=2.3.1 in /home/sreyas/.conda/envs/mlqem/lib/python3.9/site-packages (from matplotlib~=3.0->cirq-core<1.4.0,>=1.0.0->mitiq) (3.1.2)\n",
      "Requirement already satisfied: python-dateutil>=2.7 in /home/sreyas/.conda/envs/mlqem/lib/python3.9/site-packages (from matplotlib~=3.0->cirq-core<1.4.0,>=1.0.0->mitiq) (2.9.0)\n",
      "Requirement already satisfied: importlib-resources>=3.2.0 in /home/sreyas/.conda/envs/mlqem/lib/python3.9/site-packages (from matplotlib~=3.0->cirq-core<1.4.0,>=1.0.0->mitiq) (6.4.0)\n",
      "Requirement already satisfied: pytz>=2020.1 in /home/sreyas/.conda/envs/mlqem/lib/python3.9/site-packages (from pandas->cirq-core<1.4.0,>=1.0.0->mitiq) (2024.1)\n",
      "Requirement already satisfied: mpmath>=0.19 in /home/sreyas/.conda/envs/mlqem/lib/python3.9/site-packages (from sympy->cirq-core<1.4.0,>=1.0.0->mitiq) (1.3.0)\n",
      "Requirement already satisfied: zipp>=3.1.0 in /home/sreyas/.conda/envs/mlqem/lib/python3.9/site-packages (from importlib-resources>=3.2.0->matplotlib~=3.0->cirq-core<1.4.0,>=1.0.0->mitiq) (3.19.2)\n",
      "Requirement already satisfied: six>=1.5 in /home/sreyas/.conda/envs/mlqem/lib/python3.9/site-packages (from python-dateutil>=2.7->matplotlib~=3.0->cirq-core<1.4.0,>=1.0.0->mitiq) (1.16.0)\n",
      "Downloading mitiq-0.37.0-py3-none-any.whl (169 kB)\n",
      "\u001b[2K   \u001b[90m━━━━━━━━━━━━━━━━━━━━━━━━━━━━━━━━━━━━━━━━\u001b[0m \u001b[32m169.3/169.3 kB\u001b[0m \u001b[31m2.6 MB/s\u001b[0m eta \u001b[36m0:00:00\u001b[0ma \u001b[36m0:00:01\u001b[0m\n",
      "\u001b[?25hDownloading cirq_core-1.3.0-py3-none-any.whl (1.8 MB)\n",
      "\u001b[2K   \u001b[90m━━━━━━━━━━━━━━━━━━━━━━━━━━━━━━━━━━━━━━━━\u001b[0m \u001b[32m1.8/1.8 MB\u001b[0m \u001b[31m5.1 MB/s\u001b[0m eta \u001b[36m0:00:00\u001b[0m00:01\u001b[0m00:01\u001b[0mm\n",
      "\u001b[?25hDownloading tabulate-0.9.0-py3-none-any.whl (35 kB)\n",
      "Downloading duet-0.2.9-py3-none-any.whl (29 kB)\n",
      "Using cached sortedcontainers-2.4.0-py2.py3-none-any.whl (29 kB)\n",
      "Installing collected packages: sortedcontainers, tabulate, duet, cirq-core, mitiq\n",
      "Successfully installed cirq-core-1.3.0 duet-0.2.9 mitiq-0.37.0 sortedcontainers-2.4.0 tabulate-0.9.0\n"
     ]
    }
   ],
   "source": [
    "!pip install mitiq"
   ]
  },
  {
   "cell_type": "code",
   "execution_count": 4,
   "metadata": {},
   "outputs": [
    {
     "ename": "TypeError",
     "evalue": "execute_with_zne() got an unexpected keyword argument 'folding'",
     "output_type": "error",
     "traceback": [
      "\u001b[0;31m---------------------------------------------------------------------------\u001b[0m",
      "\u001b[0;31mTypeError\u001b[0m                                 Traceback (most recent call last)",
      "Cell \u001b[0;32mIn[4], line 48\u001b[0m\n\u001b[1;32m     45\u001b[0m scale_factors \u001b[38;5;241m=\u001b[39m [\u001b[38;5;241m1\u001b[39m, \u001b[38;5;241m2\u001b[39m, \u001b[38;5;241m3\u001b[39m]\n\u001b[1;32m     47\u001b[0m \u001b[38;5;66;03m# Apply ZNE\u001b[39;00m\n\u001b[0;32m---> 48\u001b[0m zne_result \u001b[38;5;241m=\u001b[39m \u001b[43mzne\u001b[49m\u001b[38;5;241;43m.\u001b[39;49m\u001b[43mexecute_with_zne\u001b[49m\u001b[43m(\u001b[49m\n\u001b[1;32m     49\u001b[0m \u001b[43m    \u001b[49m\u001b[43mqc\u001b[49m\u001b[43m,\u001b[49m\n\u001b[1;32m     50\u001b[0m \u001b[43m    \u001b[49m\u001b[43mexecutor\u001b[49m\u001b[43m,\u001b[49m\n\u001b[1;32m     51\u001b[0m \u001b[43m    \u001b[49m\u001b[43mfactory\u001b[49m\u001b[38;5;241;43m=\u001b[39;49m\u001b[43mzne\u001b[49m\u001b[38;5;241;43m.\u001b[39;49m\u001b[43minference\u001b[49m\u001b[38;5;241;43m.\u001b[39;49m\u001b[43mRichardsonFactory\u001b[49m\u001b[43m(\u001b[49m\u001b[43mscale_factors\u001b[49m\u001b[43m)\u001b[49m\u001b[43m,\u001b[49m\n\u001b[1;32m     52\u001b[0m \u001b[43m    \u001b[49m\u001b[43mfolding\u001b[49m\u001b[38;5;241;43m=\u001b[39;49m\u001b[43mfold_gates_at_random\u001b[49m\n\u001b[1;32m     53\u001b[0m \u001b[43m)\u001b[49m\n\u001b[1;32m     55\u001b[0m \u001b[38;5;28mprint\u001b[39m(\u001b[38;5;124m\"\u001b[39m\u001b[38;5;124mZero Noise Extrapolated value:\u001b[39m\u001b[38;5;124m\"\u001b[39m, zne_result)\n\u001b[1;32m     57\u001b[0m \u001b[38;5;66;03m# Plot the results\u001b[39;00m\n\u001b[1;32m     58\u001b[0m \u001b[38;5;66;03m# Collect the original and folded expectation values\u001b[39;00m\n",
      "\u001b[0;31mTypeError\u001b[0m: execute_with_zne() got an unexpected keyword argument 'folding'"
     ]
    }
   ],
   "source": [
    "import qiskit\n",
    "from qiskit_aer import QasmSimulator\n",
    "from qiskit_ibm_runtime import QiskitRuntimeService\n",
    "\n",
    "from mitiq import zne\n",
    "from mitiq.interface.mitiq_qiskit.qiskit_utils import initialized_depolarizing_noise\n",
    "USE_REAL_HARDWARE = False\n",
    "\n",
    "\n",
    "linear_factory = zne.inference.LinearFactory(scale_factors=[1.0, 1.5, 2.0, 2.5, 3.0])\n",
    "mitigated = zne.execute_with_zne(circuit, ibmq_executor, factory=linear_factory)\n",
    "print(f\"Mitigated result {mitigated:.3f}\")\n",
    "\n",
    "mitigated = zne.execute_with_zne(circuit, ibmq_executor, scale_noise=zne.scaling.fold_global)\n",
    "print(f\"Mitigated result {mitigated:.3f}\")\n",
    "\n",
    "scale_factors = [1., 1.5, 2., 2.5, 3.]\n",
    "folded_circuits = [\n",
    "        zne.scaling.fold_gates_at_random(circuit, scale)\n",
    "        for scale in scale_factors\n",
    "]\n",
    "\n",
    "# Check that the circuit depth is (approximately) scaled as expected\n",
    "for j, c in enumerate(folded_circuits):\n",
    "    print(f\"Number of gates of folded circuit {j} scaled by: {len(c) / len(circuit):.3f}\")\n",
    "\n",
    "shots = 8192\n",
    "\n",
    "# Transpile the circuit so it can be properly run\n",
    "exec_circuit = qiskit.transpile(\n",
    "    folded_circuits,\n",
    "    backend=backend,\n",
    "    basis_gates=noise_model.basis_gates if noise_model else None,\n",
    "    optimization_level=0, # Important to preserve folded gates.\n",
    ")\n",
    "\n",
    "# Run the circuit\n",
    "job = backend.run(exec_circuit, shots=shots)\n",
    "\n",
    "\n",
    "# Get the results\n",
    "all_counts = [job.result().get_counts(i) for i in range(len(folded_circuits))]\n",
    "expectation_values = [counts.get(\"0\") / shots for counts in all_counts]\n",
    "print(f\"Expectation values:\\n{expectation_values}\")\n",
    "\n",
    "# Plot the expectation values\n",
    "print(\"Unmitigated expectation value:\", round(expectation_values[0], 3))\n",
    "zero_noise_value = zne.ExpFactory.extrapolate(scale_factors, expectation_values, asymptote=0.5)\n",
    "print(f\"Extrapolated zero-noise value:\", round(zero_noise_value, 3))"
   ]
  },
  {
   "cell_type": "code",
   "execution_count": 21,
   "metadata": {},
   "outputs": [],
   "source": [
    "from qiskit.transpiler.exceptions import TranspilerError\n",
    "from qiskit.circuit.exceptions import CircuitError\n",
    "import scipy\n",
    "\n",
    "def generate_data(circuits, save_path: str, run_config_n, do_zne=False):\n",
    "    entries = []\n",
    "    n = circuits[0].num_qubits\n",
    "    for circuit in tqdm(circuits):\n",
    "        success = False\n",
    "        while not success:\n",
    "            try:\n",
    "                success = True\n",
    "            except (scipy.linalg.LinAlgError, TranspilerError, np.linalg.LinAlgError, CircuitError) as e:\n",
    "                print(f\"Ran into an error:, {e}\")\n",
    "\n",
    "        print('!')\n",
    "        job_ideal = execute(circuit, **run_config_ideal)\n",
    "        print('!!')\n",
    "        job_noisy = execute(circuit, **run_config_n)\n",
    "\n",
    "\n",
    "        counts_ideal = job_ideal.result().get_counts()\n",
    "        counts_noisy = job_noisy.result().get_counts()\n",
    "\n",
    "        ideal_exp_val = cal_z_exp(counts_ideal)\n",
    "        noisy_exp_val = cal_z_exp(counts_noisy)\n",
    "        mitigated = None\n",
    "\n",
    "        print('!!!')\n",
    "        if do_zne:\n",
    "            degree = 1\n",
    "            extrapolator = PolynomialExtrapolator(degree=degree)\n",
    "            mitigated = []\n",
    "\n",
    "            # ob_list has single Z measurement on the first qubit in the last position, i.e., 'ZIIII' is measuring the top qubit (Non-endian notation)\n",
    "            ob_list = np.array(['I'*i+'Z'+'I'*(16-i-1) for i in range(16)][::-1])\n",
    "            mapping = get_all_circuit_meas_mapping(circuit)\n",
    "            ob_list = ob_list[np.array(mapping)].tolist()\n",
    "            for obs in ob_list:\n",
    "                ############################ Change the backend #######################################\n",
    "                mitigated += get_zne_expval(circuit, obs, extrapolator, backend_noisy)\n",
    "                #######################################################################################\n",
    "            print([round(x, 3) for x in mitigated])\n",
    "\n",
    "        to_append = dict()\n",
    "        to_append['circuit'] = circuit\n",
    "        to_append['noisy_exp_val'] = noisy_exp_val\n",
    "        to_append['ideal_exp_val'] = ideal_exp_val\n",
    "        to_append['zne_mitigated'] = mitigated\n",
    "        entries.append(to_append)\n",
    "\n",
    "    path = f\"{save_path}/q{n}.pk\"\n",
    "    with open(path, \"wb\") as f:\n",
    "        pickle.dump(entries, f)"
   ]
  },
  {
   "cell_type": "code",
   "execution_count": 22,
   "metadata": {},
   "outputs": [
    {
     "data": {
      "application/vnd.jupyter.widget-view+json": {
       "model_id": "7440949ecea3435ab854d1de29a17e29",
       "version_major": 2,
       "version_minor": 0
      },
      "text/plain": [
       "  0%|          | 0/1 [00:00<?, ?it/s]"
      ]
     },
     "metadata": {},
     "output_type": "display_data"
    },
    {
     "name": "stdout",
     "output_type": "stream",
     "text": [
      "10\n"
     ]
    }
   ],
   "source": [
    "import re\n",
    "def load_circuits(data_dir, f_ext='.json'):\n",
    "    circuits = []\n",
    "    ideal_exp_vals = []\n",
    "    noisy_exp_vals = []\n",
    "    data_files = [os.path.join(data_dir, f) for f in os.listdir(data_dir) if f.endswith(f_ext)]\n",
    "    steps = []\n",
    "    for data_file in tqdm(data_files, leave=True):\n",
    "        if f_ext == '.json':\n",
    "            for entry in json.load(open(data_file, 'r')):\n",
    "                circuits.append(QuantumCircuit.from_qasm_str(entry['circuit']))\n",
    "                ideal_exp_vals.append(entry['ideal_exp_value'])\n",
    "                noisy_exp_vals.append(entry['noisy_exp_values'])\n",
    "        elif f_ext == '.pk':\n",
    "            step = int(re.search(r'\\d+', data_file.split('/')[-1]).group())\n",
    "            for entry in pickle.load(open(data_file, 'rb')):\n",
    "                steps.append(step)\n",
    "                circuits.append(entry['circuit'])\n",
    "                ideal_exp_vals.append(entry['ideal_exp_value'])\n",
    "                noisy_exp_vals.append(entry['noisy_exp_values'])\n",
    "    return circuits, ideal_exp_vals, noisy_exp_vals, steps\n",
    "\n",
    "circuits, ideal_exp_vals, noisy_exp_vals, steps = load_circuits('./data/s_test/val/', '.pk')\n",
    "print(len(circuits))"
   ]
  },
  {
   "cell_type": "code",
   "execution_count": 23,
   "metadata": {},
   "outputs": [
    {
     "data": {
      "application/vnd.jupyter.widget-view+json": {
       "model_id": "510798f9e58242fc8598f408274e5a09",
       "version_major": 2,
       "version_minor": 0
      },
      "text/plain": [
       "  0%|          | 0/10 [00:00<?, ?it/s]"
      ]
     },
     "metadata": {},
     "output_type": "display_data"
    },
    {
     "name": "stdout",
     "output_type": "stream",
     "text": [
      "!\n",
      "!!\n",
      "!!!\n"
     ]
    },
    {
     "ename": "IndexError",
     "evalue": "tuple index out of range",
     "output_type": "error",
     "traceback": [
      "\u001b[0;31m---------------------------------------------------------------------------\u001b[0m",
      "\u001b[0;31mIndexError\u001b[0m                                Traceback (most recent call last)",
      "Cell \u001b[0;32mIn[23], line 1\u001b[0m\n\u001b[0;32m----> 1\u001b[0m \u001b[43mgenerate_data\u001b[49m\u001b[43m(\u001b[49m\u001b[43mcircuits\u001b[49m\u001b[43m,\u001b[49m\u001b[43m \u001b[49m\u001b[38;5;124;43m'\u001b[39;49m\u001b[38;5;124;43m./data/s_test/zne\u001b[39;49m\u001b[38;5;124;43m'\u001b[39;49m\u001b[43m,\u001b[49m\u001b[43m \u001b[49m\u001b[43mrun_config_n\u001b[49m\u001b[38;5;241;43m=\u001b[39;49m\u001b[43mrun_config_noisy\u001b[49m\u001b[43m,\u001b[49m\u001b[43m \u001b[49m\u001b[43mdo_zne\u001b[49m\u001b[38;5;241;43m=\u001b[39;49m\u001b[38;5;28;43;01mTrue\u001b[39;49;00m\u001b[43m)\u001b[49m\n",
      "Cell \u001b[0;32mIn[21], line 37\u001b[0m, in \u001b[0;36mgenerate_data\u001b[0;34m(circuits, save_path, run_config_n, do_zne)\u001b[0m\n\u001b[1;32m     35\u001b[0m \u001b[38;5;66;03m# ob_list has single Z measurement on the first qubit in the last position, i.e., 'ZIIII' is measuring the top qubit (Non-endian notation)\u001b[39;00m\n\u001b[1;32m     36\u001b[0m ob_list \u001b[38;5;241m=\u001b[39m np\u001b[38;5;241m.\u001b[39marray([\u001b[38;5;124m'\u001b[39m\u001b[38;5;124mI\u001b[39m\u001b[38;5;124m'\u001b[39m\u001b[38;5;241m*\u001b[39mi\u001b[38;5;241m+\u001b[39m\u001b[38;5;124m'\u001b[39m\u001b[38;5;124mZ\u001b[39m\u001b[38;5;124m'\u001b[39m\u001b[38;5;241m+\u001b[39m\u001b[38;5;124m'\u001b[39m\u001b[38;5;124mI\u001b[39m\u001b[38;5;124m'\u001b[39m\u001b[38;5;241m*\u001b[39m(\u001b[38;5;241m16\u001b[39m\u001b[38;5;241m-\u001b[39mi\u001b[38;5;241m-\u001b[39m\u001b[38;5;241m1\u001b[39m) \u001b[38;5;28;01mfor\u001b[39;00m i \u001b[38;5;129;01min\u001b[39;00m \u001b[38;5;28mrange\u001b[39m(\u001b[38;5;241m16\u001b[39m)][::\u001b[38;5;241m-\u001b[39m\u001b[38;5;241m1\u001b[39m])\n\u001b[0;32m---> 37\u001b[0m mapping \u001b[38;5;241m=\u001b[39m \u001b[43mget_all_circuit_meas_mapping\u001b[49m\u001b[43m(\u001b[49m\u001b[43mcircuit\u001b[49m\u001b[43m)\u001b[49m\n\u001b[1;32m     38\u001b[0m ob_list \u001b[38;5;241m=\u001b[39m ob_list[np\u001b[38;5;241m.\u001b[39marray(mapping)]\u001b[38;5;241m.\u001b[39mtolist()\n\u001b[1;32m     39\u001b[0m \u001b[38;5;28;01mfor\u001b[39;00m obs \u001b[38;5;129;01min\u001b[39;00m ob_list:\n\u001b[1;32m     40\u001b[0m     \u001b[38;5;66;03m############################ Change the backend #######################################\u001b[39;00m\n",
      "Cell \u001b[0;32mIn[20], line 49\u001b[0m, in \u001b[0;36mget_all_circuit_meas_mapping\u001b[0;34m(circs)\u001b[0m\n\u001b[1;32m     47\u001b[0m out \u001b[38;5;241m=\u001b[39m []\n\u001b[1;32m     48\u001b[0m \u001b[38;5;28;01mfor\u001b[39;00m circ \u001b[38;5;129;01min\u001b[39;00m circs:\n\u001b[0;32m---> 49\u001b[0m     mapping \u001b[38;5;241m=\u001b[39m \u001b[43mget_measurement_qubits\u001b[49m\u001b[43m(\u001b[49m\u001b[43mcirc\u001b[49m\u001b[43m,\u001b[49m\u001b[43m \u001b[49m\u001b[38;5;241;43m16\u001b[39;49m\u001b[43m)\u001b[49m\n\u001b[1;32m     50\u001b[0m     mapping \u001b[38;5;241m=\u001b[39m mapping[::\u001b[38;5;241m-\u001b[39m\u001b[38;5;241m1\u001b[39m]\n\u001b[1;32m     51\u001b[0m     \u001b[38;5;28;01mfor\u001b[39;00m i \u001b[38;5;129;01min\u001b[39;00m \u001b[38;5;28mrange\u001b[39m(\u001b[38;5;241m16\u001b[39m):\n",
      "Cell \u001b[0;32mIn[20], line 35\u001b[0m, in \u001b[0;36mget_measurement_qubits\u001b[0;34m(qc, num_qubit)\u001b[0m\n\u001b[1;32m     33\u001b[0m measurement_qubits \u001b[38;5;241m=\u001b[39m []\n\u001b[1;32m     34\u001b[0m \u001b[38;5;28;01mfor\u001b[39;00m measurement \u001b[38;5;129;01min\u001b[39;00m \u001b[38;5;28mrange\u001b[39m(num_qubit \u001b[38;5;241m-\u001b[39m \u001b[38;5;241m1\u001b[39m, \u001b[38;5;241m-\u001b[39m\u001b[38;5;241m1\u001b[39m, \u001b[38;5;241m-\u001b[39m\u001b[38;5;241m1\u001b[39m):\n\u001b[0;32m---> 35\u001b[0m     instruction \u001b[38;5;241m=\u001b[39m \u001b[43mqc\u001b[49m\u001b[43m[\u001b[49m\u001b[38;5;241;43m-\u001b[39;49m\u001b[38;5;241;43m1\u001b[39;49m\u001b[43m \u001b[49m\u001b[38;5;241;43m-\u001b[39;49m\u001b[43m \u001b[49m\u001b[43mmeasurement\u001b[49m\u001b[43m]\u001b[49m\n\u001b[1;32m     37\u001b[0m     \u001b[38;5;66;03m# Check if the instruction has the expected structure\u001b[39;00m\n\u001b[1;32m     38\u001b[0m     \u001b[38;5;28;01mif\u001b[39;00m \u001b[38;5;28mlen\u001b[39m(instruction) \u001b[38;5;241m>\u001b[39m\u001b[38;5;241m=\u001b[39m \u001b[38;5;241m2\u001b[39m \u001b[38;5;129;01mand\u001b[39;00m instruction[\u001b[38;5;241m0\u001b[39m]\u001b[38;5;241m.\u001b[39mname \u001b[38;5;241m==\u001b[39m \u001b[38;5;124m'\u001b[39m\u001b[38;5;124mmeasure\u001b[39m\u001b[38;5;124m'\u001b[39m:\n\u001b[1;32m     39\u001b[0m         \u001b[38;5;66;03m# Check if qubits are correctly specified\u001b[39;00m\n",
      "File \u001b[0;32m~/.conda/envs/mlqem/lib/python3.9/site-packages/qiskit/circuit/quantumcircuitdata.py:139\u001b[0m, in \u001b[0;36mCircuitInstruction.__getitem__\u001b[0;34m(self, key)\u001b[0m\n\u001b[1;32m    138\u001b[0m \u001b[38;5;28;01mdef\u001b[39;00m \u001b[38;5;21m__getitem__\u001b[39m(\u001b[38;5;28mself\u001b[39m, key):\n\u001b[0;32m--> 139\u001b[0m     \u001b[38;5;28;01mreturn\u001b[39;00m \u001b[38;5;28;43mself\u001b[39;49m\u001b[38;5;241;43m.\u001b[39;49m\u001b[43m_legacy_format\u001b[49m\u001b[43m[\u001b[49m\u001b[43mkey\u001b[49m\u001b[43m]\u001b[49m\n",
      "\u001b[0;31mIndexError\u001b[0m: tuple index out of range"
     ]
    }
   ],
   "source": [
    "generate_data(circuits, './data/s_test/zne', run_config_n=run_config_noisy, do_zne=True)"
   ]
  },
  {
   "cell_type": "code",
   "execution_count": null,
   "metadata": {},
   "outputs": [],
   "source": []
  }
 ],
 "metadata": {
  "kernelspec": {
   "display_name": "mlqem",
   "language": "python",
   "name": "python3"
  },
  "language_info": {
   "codemirror_mode": {
    "name": "ipython",
    "version": 3
   },
   "file_extension": ".py",
   "mimetype": "text/x-python",
   "name": "python",
   "nbconvert_exporter": "python",
   "pygments_lexer": "ipython3",
   "version": "3.9.19"
  }
 },
 "nbformat": 4,
 "nbformat_minor": 2
}
