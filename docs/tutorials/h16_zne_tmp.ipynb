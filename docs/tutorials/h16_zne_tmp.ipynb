{
 "cells": [
  {
   "cell_type": "code",
   "execution_count": 1,
   "metadata": {
    "collapsed": true
   },
   "outputs": [],
   "source": [
    "from qiskit import QuantumCircuit\n",
    "from qiskit.compiler import transpile\n",
    "from qiskit_aer import AerSimulator\n",
    "from qiskit.converters import circuit_to_dag, dag_to_circuit\n",
    "from qiskit_aer.noise import depolarizing_error, NoiseModel\n",
    "from qiskit.quantum_info import SparsePauliOp\n",
    "\n",
    "from qiskit.primitives import BackendEstimator\n",
    "\n",
    "from zne import zne, ZNEStrategy\n",
    "from zne.noise_amplification import *\n",
    "from zne.extrapolation import *\n",
    "\n",
    "import numpy as np\n",
    "import matplotlib.pyplot as plt\n",
    "\n",
    "import json, os, pickle, random\n",
    "import numpy as np\n",
    "from tqdm.notebook import tqdm\n",
    "import pandas as pd\n",
    "\n",
    "import torch\n",
    "from torch.utils.data import Dataset, DataLoader, TensorDataset\n",
    "from torch.optim.lr_scheduler import ReduceLROnPlateau\n",
    "import torch.nn as nn\n",
    "\n",
    "import qiskit\n",
    "from qiskit import QuantumCircuit, execute\n",
    "from qiskit.compiler import transpile\n",
    "from qiskit_aer import AerSimulator, QasmSimulator\n",
    "from qiskit.converters import circuit_to_dag, dag_to_circuit\n",
    "from qiskit.quantum_info import SparsePauliOp, Operator\n",
    "from qiskit.circuit.library import CXGate, RXGate, IGate, ZGate\n",
    "from qiskit.providers.fake_provider import FakeMontreal, FakeLima\n",
    "\n",
    "from blackwater.data.utils import (\n",
    "    generate_random_pauli_sum_op,\n",
    "    create_estimator_meas_data,\n",
    "    circuit_to_graph_data_json,\n",
    "    get_backend_properties_v1,\n",
    "    encode_pauli_sum_op,\n",
    "    create_meas_data_from_estimators\n",
    ")\n",
    "\n",
    "from mlp import MLP1, MLP2, MLP3, encode_data\n",
    "\n",
    "from mbd_utils import cal_z_exp, generate_disorder, construct_mbl_circuit, calc_imbalance, modify_and_add_noise_to_model\n",
    "\n",
    "import matplotlib.pyplot as plt\n",
    "import seaborn as sns"
   ]
  },
  {
   "cell_type": "code",
   "execution_count": 2,
   "outputs": [],
   "source": [
    "backend = FakeLima()\n",
    "properties = get_backend_properties_v1(backend)\n",
    "\n",
    "## Local\n",
    "backend_ideal = QasmSimulator() # Noiseless\n",
    "backend_noisy = AerSimulator.from_backend(FakeLima()) # Noisy\n",
    "\n",
    "run_config_ideal = {'shots': 10000, 'backend': backend_ideal, 'name': 'ideal'}\n",
    "run_config_noisy = {'shots': 10000, 'backend': backend_noisy, 'name': 'noisy'}"
   ],
   "metadata": {
    "collapsed": false
   }
  },
  {
   "cell_type": "code",
   "execution_count": 3,
   "outputs": [],
   "source": [
    "def fix_random_seed(seed=0):\n",
    "    random.seed(seed)\n",
    "    os.environ['PYTHONHASHSEED'] = str(seed)\n",
    "    np.random.seed(seed)\n",
    "    torch.manual_seed(seed)\n",
    "    torch.cuda.manual_seed(seed)\n",
    "    torch.cuda.manual_seed_all(seed)  # if you are using multi-GPU.\n",
    "    torch.backends.cudnn.benchmark = False\n",
    "    torch.backends.cudnn.deterministic = True\n",
    "    print(f'random seed fixed to {seed}')"
   ],
   "metadata": {
    "collapsed": false
   }
  },
  {
   "cell_type": "code",
   "execution_count": 4,
   "outputs": [],
   "source": [
    "def load_circuits(data_dir, f_ext='.json'):\n",
    "    circuits = []\n",
    "    ideal_exp_vals = []\n",
    "    noisy_exp_vals = []\n",
    "    data_files = [os.path.join(data_dir, f) for f in os.listdir(data_dir) if f.endswith(f_ext)]\n",
    "    for data_file in tqdm(data_files, leave=True):\n",
    "        if f_ext == '.json':\n",
    "            for entry in json.load(open(data_file, 'r')):\n",
    "                circuits.append(QuantumCircuit.from_qasm_str(entry['circuit']))\n",
    "                ideal_exp_vals.append(entry['ideal_exp_value'])\n",
    "                noisy_exp_vals.append(entry['noisy_exp_values'])\n",
    "        elif f_ext == '.pk':\n",
    "            for entry in pickle.load(open(data_file, 'rb')):\n",
    "                circuits.append(entry['circuit'])\n",
    "                ideal_exp_vals.append(entry['ideal_exp_value'])\n",
    "                noisy_exp_vals.append(entry['noisy_exp_values'])\n",
    "    return circuits, ideal_exp_vals, noisy_exp_vals"
   ],
   "metadata": {
    "collapsed": false
   }
  },
  {
   "cell_type": "code",
   "execution_count": 5,
   "outputs": [
    {
     "data": {
      "text/plain": "  0%|          | 0/10 [00:00<?, ?it/s]",
      "application/vnd.jupyter.widget-view+json": {
       "version_major": 2,
       "version_minor": 0,
       "model_id": "2bd92d50a3294626b4b326af13fca727"
      }
     },
     "metadata": {},
     "output_type": "display_data"
    },
    {
     "name": "stdout",
     "output_type": "stream",
     "text": [
      "2000\n"
     ]
    }
   ],
   "source": [
    "# train_circuits, train_ideal_exp_vals, train_noisy_exp_vals = load_circuits('./data/haoran_mbd/random_circuits/train/', '.pk')\n",
    "# print(len(train_circuits))\n",
    "\n",
    "test_circuits, test_ideal_exp_vals, test_noisy_exp_vals = load_circuits('./data/haoran_mbd/random_circuits/val/', '.pk')\n",
    "print(len(test_circuits))"
   ],
   "metadata": {
    "collapsed": false
   }
  },
  {
   "cell_type": "code",
   "execution_count": 17,
   "outputs": [],
   "source": [
    "def get_zne_expval(circ,\n",
    "                   obs: str,\n",
    "                   extrapolator,\n",
    "                   backend,\n",
    "                   noise_factors = [1, 3, 5, 7],\n",
    "                   amplifier=LocalFoldingAmplifier(gates_to_fold=2),\n",
    "                   shots:int=10000,\n",
    "                   ) -> float:\n",
    "    \"\"\"Returns the zero-noise expectation values for a list of observables `obs` of a circuit `circ`\n",
    "\n",
    "    Inputs:\n",
    "    obs (list[str]): Observables in Endian convention (e.g. 'IIZ' is the Z operator on the 0th qubit) for the PHYSICAL qubits\n",
    "    mapping (list[int]): Mapping between logical and physical qubits, e.g. mapping[0] is the physical qubit for logical qubit 0\n",
    "\n",
    "    \"\"\"\n",
    "    observable = SparsePauliOp(obs)\n",
    "\n",
    "    ZNEEstimator = zne(BackendEstimator)\n",
    "    estimator = ZNEEstimator(backend=backend)\n",
    "\n",
    "    zne_strategy = ZNEStrategy(\n",
    "        noise_factors=noise_factors,\n",
    "        noise_amplifier=amplifier,\n",
    "        extrapolator=extrapolator\n",
    "    )\n",
    "\n",
    "    job = estimator.run(circ, observable, shots=shots, zne_strategy=zne_strategy)\n",
    "    result = job.result()\n",
    "    values = result.values.tolist()\n",
    "\n",
    "    return values"
   ],
   "metadata": {
    "collapsed": false
   }
  },
  {
   "cell_type": "code",
   "execution_count": 18,
   "outputs": [],
   "source": [
    "# test_circuits[0].remove_final_measurements()\n",
    "# test_circuits[0].measure_active()\n",
    "# test_circuits[17].draw('mpl', fold=-1)"
   ],
   "metadata": {
    "collapsed": false
   }
  },
  {
   "cell_type": "code",
   "execution_count": 19,
   "outputs": [],
   "source": [
    "def get_measurement_qubits(qc, num_qubit):\n",
    "        measurement_qubits = []\n",
    "        for measurement in range(num_qubit-1, -1, -1):\n",
    "            measurement_qubits.append(qc.data[-1-measurement][1][0].index)\n",
    "        return measurement_qubits"
   ],
   "metadata": {
    "collapsed": false
   }
  },
  {
   "cell_type": "code",
   "execution_count": 20,
   "outputs": [],
   "source": [
    "# Debugging confusing results\n",
    "# 1. The cal_z_exp function mistakenly does NOT use Endian convention -> This means that the `ideal` and `noisy` results needed to be reversed\n",
    "# 2. The cal_z_exp function returns z expectation values that are off by a factor of -1\n",
    "# 3. The `get_measurement_qubits` CORRECTLY returns the logical-to-physical qubit mapping\n",
    "# 4. We always want the logical state of the ancilla qubit to appear last in the array as our convention\n",
    "# 5."
   ],
   "metadata": {
    "collapsed": false
   }
  },
  {
   "cell_type": "code",
   "execution_count": 21,
   "outputs": [
    {
     "name": "stderr",
     "output_type": "stream",
     "text": [
      "/var/folders/kj/mfqyg_tj77nf4gt67lvscdkw0000gn/T/ipykernel_87705/2271416955.py:4: DeprecationWarning: Back-references to from Bit instances to their containing Registers have been deprecated. Instead, inspect Registers to find their contained Bits.\n",
      "  measurement_qubits.append(qc.data[-1-measurement][1][0].index)\n"
     ]
    },
    {
     "data": {
      "text/plain": "[4, 2, 1, 3, 0]"
     },
     "execution_count": 21,
     "metadata": {},
     "output_type": "execute_result"
    }
   ],
   "source": [
    "k = 17\n",
    "mapping = get_measurement_qubits(test_circuits[k], 4)\n",
    "# Reverse the order of the mapping\n",
    "mapping = mapping[::-1]\n",
    "# Add the ancilla qubit to the end of the mapping\n",
    "for i in range(5):\n",
    "    if i not in mapping:\n",
    "        mapping = mapping + [i]\n",
    "\n",
    "mapping"
   ],
   "metadata": {
    "collapsed": false
   }
  },
  {
   "cell_type": "code",
   "execution_count": 22,
   "outputs": [
    {
     "data": {
      "text/plain": "<Figure size 4212.15x385.28 with 1 Axes>",
      "image/png": "[encoded data removed]"
     },
     "execution_count": 22,
     "metadata": {},
     "output_type": "execute_result"
    }
   ],
   "source": [
    "test_circuits[k].draw('mpl', fold=-1)"
   ],
   "metadata": {
    "collapsed": false
   }
  },
  {
   "cell_type": "code",
   "execution_count": 23,
   "outputs": [
    {
     "name": "stdout",
     "output_type": "stream",
     "text": [
      "[0.0504, -0.3694, -0.0914, -0.0156]\n",
      "[[-0.0192, -0.3246, -0.1066, -0.0474]]\n"
     ]
    }
   ],
   "source": [
    "print(test_ideal_exp_vals[k])\n",
    "print(test_noisy_exp_vals[k])"
   ],
   "metadata": {
    "collapsed": false
   }
  },
  {
   "cell_type": "code",
   "execution_count": 24,
   "outputs": [
    {
     "name": "stdout",
     "output_type": "stream",
     "text": [
      "['ZIIII', 'IIZII', 'IIIZI', 'IZIII', 'IIIIZ']\n",
      "[0.0668, -0.3564, -0.0796, 0.0092, -1.0]\n"
     ]
    }
   ],
   "source": [
    "degree = 2\n",
    "extrapolator = PolynomialExtrapolator(degree=degree)\n",
    "mitigated = []\n",
    "original = []\n",
    "# ob_list = np.array(['ZIIII' 'IZIII' 'IIZII' 'IIIZI' 'IIIIZ'])\n",
    "ob_list = np.array(['ZIIII', 'IZIII', 'IIZII', 'IIIZI', 'IIIIZ'][::-1]) # so ob_list has single Z measurement on the first qubit in the last position, i.e., 'ZIIII' is measuring the top qubit (Non-endian notation)\n",
    "ob_list = ob_list[np.array(mapping)].tolist()\n",
    "print(ob_list)\n",
    "for obs in ob_list:\n",
    "    mitigated += get_zne_expval(test_circuits[k], obs, extrapolator, backend_ideal, noise_factors=[1])\n",
    "mitigated = [-1*m for m in mitigated] # Flip by negative 1 because cal_z_exp assumes 0 is -Z and 1 is +Z\n",
    "original = [-1*o for o in original]\n",
    "print(mitigated)"
   ],
   "metadata": {
    "collapsed": false
   }
  },
  {
   "cell_type": "code",
   "execution_count": 94,
   "outputs": [],
   "source": [
    "def cal_z_exp(counts):\n",
    "    \"\"\"\n",
    "        Compute all sigma_z expectations values.\n",
    "\n",
    "        Parameters\n",
    "        ----------\n",
    "        counts : dict\n",
    "            Dictionary of state labels (keys, e.g. '000', '001')\n",
    "\n",
    "        Returns\n",
    "        -------\n",
    "        z_exp : list of float\n",
    "            sigma_z expectation values, where len(z_exp) is the number of qubits\n",
    "        \"\"\"\n",
    "    shots = sum(list(counts.values()))\n",
    "    num_qubits = len(list(counts.keys())[0])\n",
    "    count_pos_z = np.zeros(num_qubits)  # counts of positive z\n",
    "    # Convert all keys into arrays\n",
    "    for key, val in counts.items():\n",
    "        count_pos_z += val * np.array(list(key), dtype=int)\n",
    "    count_neg_z = np.ones(num_qubits) * shots - count_pos_z  # counts of negative z\n",
    "    z_exp = (count_pos_z - count_neg_z) / shots\n",
    "    # z_exp = z_exp[::-1] # Uncomment this line if assuming `counts` is in Endian convention\n",
    "    return z_exp"
   ],
   "metadata": {
    "collapsed": false
   }
  },
  {
   "cell_type": "code",
   "execution_count": 96,
   "outputs": [
    {
     "data": {
      "text/plain": "array([ 0., -1.])"
     },
     "execution_count": 96,
     "metadata": {},
     "output_type": "execute_result"
    }
   ],
   "source": [
    "counts = {'00': 1000,\n",
    "          '10': 1000}\n",
    "cal_z_exp(counts)"
   ],
   "metadata": {
    "collapsed": false
   }
  },
  {
   "cell_type": "code",
   "execution_count": 18,
   "outputs": [
    {
     "name": "stdout",
     "output_type": "stream",
     "text": [
      "random seed fixed to 0\n"
     ]
    },
    {
     "data": {
      "text/plain": "0it [00:00, ?it/s]",
      "application/vnd.jupyter.widget-view+json": {
       "version_major": 2,
       "version_minor": 0,
       "model_id": "6cbb008c85674aefa241960b97ad0ec9"
      }
     },
     "metadata": {},
     "output_type": "display_data"
    },
    {
     "ename": "KeyboardInterrupt",
     "evalue": "",
     "output_type": "error",
     "traceback": [
      "\u001B[0;31m---------------------------------------------------------------------------\u001B[0m",
      "\u001B[0;31mKeyboardInterrupt\u001B[0m                         Traceback (most recent call last)",
      "Input \u001B[0;32mIn [18]\u001B[0m, in \u001B[0;36m<cell line: 11>\u001B[0;34m()\u001B[0m\n\u001B[1;32m     12\u001B[0m out \u001B[38;5;241m=\u001B[39m []\n\u001B[1;32m     13\u001B[0m \u001B[38;5;28;01mfor\u001B[39;00m obs \u001B[38;5;129;01min\u001B[39;00m [\u001B[38;5;124m'\u001B[39m\u001B[38;5;124mIIIZI\u001B[39m\u001B[38;5;124m'\u001B[39m, \u001B[38;5;124m'\u001B[39m\u001B[38;5;124mIIZII\u001B[39m\u001B[38;5;124m'\u001B[39m, \u001B[38;5;124m'\u001B[39m\u001B[38;5;124mIZIII\u001B[39m\u001B[38;5;124m'\u001B[39m, \u001B[38;5;124m'\u001B[39m\u001B[38;5;124mZIIII\u001B[39m\u001B[38;5;124m'\u001B[39m]:\n\u001B[0;32m---> 14\u001B[0m     out \u001B[38;5;241m+\u001B[39m\u001B[38;5;241m=\u001B[39m \u001B[43mget_zne_expval\u001B[49m\u001B[43m(\u001B[49m\u001B[43mtest_circuits\u001B[49m\u001B[43m[\u001B[49m\u001B[43mk\u001B[49m\u001B[43m]\u001B[49m\u001B[43m,\u001B[49m\u001B[43m \u001B[49m\u001B[43mobs\u001B[49m\u001B[43m,\u001B[49m\u001B[43m \u001B[49m\u001B[43mextrapolator\u001B[49m\u001B[43m,\u001B[49m\u001B[43m \u001B[49m\u001B[43mbackend\u001B[49m\u001B[43m)\u001B[49m\u001B[38;5;241m.\u001B[39mvalues\u001B[38;5;241m.\u001B[39mtolist()\n\u001B[1;32m     16\u001B[0m ngm_mitigated \u001B[38;5;241m=\u001B[39m out\n\u001B[1;32m     17\u001B[0m imbalance_ideal \u001B[38;5;241m=\u001B[39m calc_imbalance([ideal], even_qubits, odd_qubits)[\u001B[38;5;241m0\u001B[39m]\n",
      "Input \u001B[0;32mIn [5]\u001B[0m, in \u001B[0;36mget_zne_expval\u001B[0;34m(circ, obs, extrapolator, backend, noise_factors, amplifier, shots)\u001B[0m\n\u001B[1;32m      6\u001B[0m estimator \u001B[38;5;241m=\u001B[39m ZNEEstimator(backend\u001B[38;5;241m=\u001B[39mbackend)\n\u001B[1;32m      8\u001B[0m zne_strategy \u001B[38;5;241m=\u001B[39m ZNEStrategy(\n\u001B[1;32m      9\u001B[0m     noise_factors\u001B[38;5;241m=\u001B[39mnoise_factors,\n\u001B[1;32m     10\u001B[0m     noise_amplifier\u001B[38;5;241m=\u001B[39mamplifier,\n\u001B[1;32m     11\u001B[0m     extrapolator\u001B[38;5;241m=\u001B[39mextrapolator\n\u001B[1;32m     12\u001B[0m )\n\u001B[0;32m---> 14\u001B[0m job \u001B[38;5;241m=\u001B[39m \u001B[43mestimator\u001B[49m\u001B[38;5;241;43m.\u001B[39;49m\u001B[43mrun\u001B[49m\u001B[43m(\u001B[49m\u001B[43mcirc\u001B[49m\u001B[43m,\u001B[49m\u001B[43m \u001B[49m\u001B[43mobservable\u001B[49m\u001B[43m,\u001B[49m\u001B[43m \u001B[49m\u001B[43mshots\u001B[49m\u001B[38;5;241;43m=\u001B[39;49m\u001B[43mshots\u001B[49m\u001B[43m,\u001B[49m\u001B[43m \u001B[49m\u001B[43mzne_strategy\u001B[49m\u001B[38;5;241;43m=\u001B[39;49m\u001B[43mzne_strategy\u001B[49m\u001B[43m)\u001B[49m\n\u001B[1;32m     15\u001B[0m result \u001B[38;5;241m=\u001B[39m job\u001B[38;5;241m.\u001B[39mresult()\n\u001B[1;32m     17\u001B[0m \u001B[38;5;28;01mreturn\u001B[39;00m result\n",
      "File \u001B[0;32m/opt/anaconda3/envs/ngem/lib/python3.10/site-packages/qiskit/primitives/base/base_estimator.py:235\u001B[0m, in \u001B[0;36mBaseEstimator.run\u001B[0;34m(self, circuits, observables, parameter_values, **run_options)\u001B[0m\n\u001B[1;32m    232\u001B[0m run_opts \u001B[38;5;241m=\u001B[39m copy(\u001B[38;5;28mself\u001B[39m\u001B[38;5;241m.\u001B[39moptions)\n\u001B[1;32m    233\u001B[0m run_opts\u001B[38;5;241m.\u001B[39mupdate_options(\u001B[38;5;241m*\u001B[39m\u001B[38;5;241m*\u001B[39mrun_options)\n\u001B[0;32m--> 235\u001B[0m \u001B[38;5;28;01mreturn\u001B[39;00m \u001B[38;5;28;43mself\u001B[39;49m\u001B[38;5;241;43m.\u001B[39;49m\u001B[43m_run\u001B[49m\u001B[43m(\u001B[49m\n\u001B[1;32m    236\u001B[0m \u001B[43m    \u001B[49m\u001B[43mcircuits\u001B[49m\u001B[43m,\u001B[49m\n\u001B[1;32m    237\u001B[0m \u001B[43m    \u001B[49m\u001B[43mobservables\u001B[49m\u001B[43m,\u001B[49m\n\u001B[1;32m    238\u001B[0m \u001B[43m    \u001B[49m\u001B[43mparameter_values\u001B[49m\u001B[43m,\u001B[49m\n\u001B[1;32m    239\u001B[0m \u001B[43m    \u001B[49m\u001B[38;5;241;43m*\u001B[39;49m\u001B[38;5;241;43m*\u001B[39;49m\u001B[43mrun_opts\u001B[49m\u001B[38;5;241;43m.\u001B[39;49m\u001B[38;5;18;43m__dict__\u001B[39;49m\u001B[43m,\u001B[49m\n\u001B[1;32m    240\u001B[0m \u001B[43m\u001B[49m\u001B[43m)\u001B[49m\n",
      "File \u001B[0;32m~/Desktop/prototype-zne-main/zne/meta/run.py:55\u001B[0m, in \u001B[0;36mzne_run.<locals>._zne_run\u001B[0;34m(self, circuits, observables, parameter_values, zne_strategy, **run_options)\u001B[0m\n\u001B[1;32m     53\u001B[0m target_num_experiments: \u001B[38;5;28mint\u001B[39m \u001B[38;5;241m=\u001B[39m \u001B[38;5;28mlen\u001B[39m(circuits)\n\u001B[1;32m     54\u001B[0m \u001B[38;5;28;01mif\u001B[39;00m zne_strategy\u001B[38;5;241m.\u001B[39mperforms_noise_amplification:\n\u001B[0;32m---> 55\u001B[0m     circuits \u001B[38;5;241m=\u001B[39m \u001B[43mzne_strategy\u001B[49m\u001B[38;5;241;43m.\u001B[39;49m\u001B[43mbuild_noisy_circuits\u001B[49m\u001B[43m(\u001B[49m\u001B[43mcircuits\u001B[49m\u001B[43m)\u001B[49m\n\u001B[1;32m     56\u001B[0m     observables \u001B[38;5;241m=\u001B[39m zne_strategy\u001B[38;5;241m.\u001B[39mmap_to_noisy_circuits(observables)\n\u001B[1;32m     57\u001B[0m     parameter_values \u001B[38;5;241m=\u001B[39m zne_strategy\u001B[38;5;241m.\u001B[39mmap_to_noisy_circuits(parameter_values)\n",
      "File \u001B[0;32m~/Desktop/prototype-zne-main/zne/zne_strategy.py:208\u001B[0m, in \u001B[0;36mZNEStrategy.build_noisy_circuits\u001B[0;34m(self, original_circuits)\u001B[0m\n\u001B[1;32m    206\u001B[0m \u001B[38;5;28;01mif\u001B[39;00m \u001B[38;5;28misinstance\u001B[39m(original_circuits, QuantumCircuit):\n\u001B[1;32m    207\u001B[0m     original_circuits \u001B[38;5;241m=\u001B[39m [original_circuits]\n\u001B[0;32m--> 208\u001B[0m \u001B[38;5;28;01mreturn\u001B[39;00m \u001B[38;5;28;43mtuple\u001B[39;49m\u001B[43m(\u001B[49m\u001B[43mgenerate_noisy_circuits\u001B[49m\u001B[43m(\u001B[49m\u001B[43moriginal_circuits\u001B[49m\u001B[43m)\u001B[49m\u001B[43m)\u001B[49m\n",
      "File \u001B[0;32m~/Desktop/prototype-zne-main/zne/zne_strategy.py:204\u001B[0m, in \u001B[0;36mZNEStrategy.build_noisy_circuits.<locals>.generate_noisy_circuits\u001B[0;34m(original_circuits)\u001B[0m\n\u001B[1;32m    202\u001B[0m \u001B[38;5;28;01mfor\u001B[39;00m circuit \u001B[38;5;129;01min\u001B[39;00m original_circuits:  \u001B[38;5;66;03m# type: QuantumCircuit\u001B[39;00m\n\u001B[1;32m    203\u001B[0m     \u001B[38;5;28;01mfor\u001B[39;00m noise_factor \u001B[38;5;129;01min\u001B[39;00m \u001B[38;5;28mself\u001B[39m\u001B[38;5;241m.\u001B[39mnoise_factors:  \u001B[38;5;66;03m# type: float\u001B[39;00m\n\u001B[0;32m--> 204\u001B[0m         \u001B[38;5;28;01myield\u001B[39;00m \u001B[38;5;28;43mself\u001B[39;49m\u001B[38;5;241;43m.\u001B[39;49m\u001B[43mamplify_circuit_noise\u001B[49m\u001B[43m(\u001B[49m\u001B[43mcircuit\u001B[49m\u001B[43m,\u001B[49m\u001B[43m \u001B[49m\u001B[43mnoise_factor\u001B[49m\u001B[43m)\u001B[49m\n",
      "File \u001B[0;32m~/Desktop/prototype-zne-main/zne/zne_strategy.py:181\u001B[0m, in \u001B[0;36mZNEStrategy.amplify_circuit_noise\u001B[0;34m(self, circuit, noise_factor)\u001B[0m\n\u001B[1;32m    171\u001B[0m \u001B[38;5;250m\u001B[39m\u001B[38;5;124;03m\"\"\"Noise amplification from :class:`~.noise_amplification.NoiseAmplifier`.\u001B[39;00m\n\u001B[1;32m    172\u001B[0m \n\u001B[1;32m    173\u001B[0m \u001B[38;5;124;03mArgs:\u001B[39;00m\n\u001B[0;32m   (...)\u001B[0m\n\u001B[1;32m    178\u001B[0m \u001B[38;5;124;03m    The noise amplified quantum circuit\u001B[39;00m\n\u001B[1;32m    179\u001B[0m \u001B[38;5;124;03m\"\"\"\u001B[39;00m\n\u001B[1;32m    180\u001B[0m \u001B[38;5;66;03m# TODO: caching\u001B[39;00m\n\u001B[0;32m--> 181\u001B[0m \u001B[38;5;28;01mreturn\u001B[39;00m \u001B[38;5;28;43mself\u001B[39;49m\u001B[38;5;241;43m.\u001B[39;49m\u001B[43mnoise_amplifier\u001B[49m\u001B[38;5;241;43m.\u001B[39;49m\u001B[43mamplify_circuit_noise\u001B[49m\u001B[43m(\u001B[49m\u001B[43mcircuit\u001B[49m\u001B[43m,\u001B[49m\u001B[43m \u001B[49m\u001B[43mnoise_factor\u001B[49m\u001B[43m)\u001B[49m\n",
      "File \u001B[0;32m~/Desktop/prototype-zne-main/zne/noise_amplification/folding_amplifier/local_folding_amplifier.py:154\u001B[0m, in \u001B[0;36mLocalFoldingAmplifier.amplify_circuit_noise\u001B[0;34m(self, circuit, noise_factor)\u001B[0m\n\u001B[1;32m    152\u001B[0m noisy_circuit \u001B[38;5;241m=\u001B[39m circuit\u001B[38;5;241m.\u001B[39mcopy_empty_like()\n\u001B[1;32m    153\u001B[0m \u001B[38;5;28;01mfor\u001B[39;00m operation, num_foldings \u001B[38;5;129;01min\u001B[39;00m \u001B[38;5;28mzip\u001B[39m(circuit, foldings):\n\u001B[0;32m--> 154\u001B[0m     noisy_circuit \u001B[38;5;241m=\u001B[39m \u001B[38;5;28;43mself\u001B[39;49m\u001B[38;5;241;43m.\u001B[39;49m\u001B[43m_append_folded\u001B[49m\u001B[43m(\u001B[49m\u001B[43mnoisy_circuit\u001B[49m\u001B[43m,\u001B[49m\u001B[43m \u001B[49m\u001B[43moperation\u001B[49m\u001B[43m,\u001B[49m\u001B[43m \u001B[49m\u001B[43mnum_foldings\u001B[49m\u001B[43m)\u001B[49m\n\u001B[1;32m    155\u001B[0m \u001B[38;5;28;01mreturn\u001B[39;00m noisy_circuit\n",
      "File \u001B[0;32m~/Desktop/prototype-zne-main/zne/noise_amplification/folding_amplifier/local_folding_amplifier.py:245\u001B[0m, in \u001B[0;36mLocalFoldingAmplifier._append_folded\u001B[0;34m(self, noisy_circuit, operation, num_foldings)\u001B[0m\n\u001B[1;32m    243\u001B[0m \u001B[38;5;28mself\u001B[39m\u001B[38;5;241m.\u001B[39m_validate_num_foldings(num_foldings)\n\u001B[1;32m    244\u001B[0m instruction, qargs, cargs \u001B[38;5;241m=\u001B[39m operation\n\u001B[0;32m--> 245\u001B[0m \u001B[43mnoisy_circuit\u001B[49m\u001B[38;5;241;43m.\u001B[39;49m\u001B[43mbarrier\u001B[49m\u001B[43m(\u001B[49m\u001B[43mqargs\u001B[49m\u001B[43m)\u001B[49m\n\u001B[1;32m    246\u001B[0m noisy_circuit\u001B[38;5;241m.\u001B[39mappend(instruction, qargs, cargs)\n\u001B[1;32m    247\u001B[0m \u001B[38;5;28;01mif\u001B[39;00m num_foldings \u001B[38;5;241m>\u001B[39m \u001B[38;5;241m0\u001B[39m:\n",
      "File \u001B[0;32m/opt/anaconda3/envs/ngem/lib/python3.10/site-packages/qiskit/circuit/quantumcircuit.py:2835\u001B[0m, in \u001B[0;36mQuantumCircuit.barrier\u001B[0;34m(self, label, *qargs)\u001B[0m\n\u001B[1;32m   2832\u001B[0m     \u001B[38;5;28;01melse\u001B[39;00m:\n\u001B[1;32m   2833\u001B[0m         qubits\u001B[38;5;241m.\u001B[39mappend(qarg)\n\u001B[0;32m-> 2835\u001B[0m \u001B[38;5;28;01mreturn\u001B[39;00m \u001B[38;5;28;43mself\u001B[39;49m\u001B[38;5;241;43m.\u001B[39;49m\u001B[43mappend\u001B[49m\u001B[43m(\u001B[49m\u001B[43mBarrier\u001B[49m\u001B[43m(\u001B[49m\u001B[38;5;28;43mlen\u001B[39;49m\u001B[43m(\u001B[49m\u001B[43mqubits\u001B[49m\u001B[43m)\u001B[49m\u001B[43m,\u001B[49m\u001B[43m \u001B[49m\u001B[43mlabel\u001B[49m\u001B[38;5;241;43m=\u001B[39;49m\u001B[43mlabel\u001B[49m\u001B[43m)\u001B[49m\u001B[43m,\u001B[49m\u001B[43m \u001B[49m\u001B[43mqubits\u001B[49m\u001B[43m,\u001B[49m\u001B[43m \u001B[49m\u001B[43m[\u001B[49m\u001B[43m]\u001B[49m\u001B[43m)\u001B[49m\n",
      "File \u001B[0;32m/opt/anaconda3/envs/ngem/lib/python3.10/site-packages/qiskit/circuit/quantumcircuit.py:1264\u001B[0m, in \u001B[0;36mQuantumCircuit.append\u001B[0;34m(self, instruction, qargs, cargs)\u001B[0m\n\u001B[1;32m   1262\u001B[0m instructions \u001B[38;5;241m=\u001B[39m InstructionSet(resource_requester\u001B[38;5;241m=\u001B[39mrequester)\n\u001B[1;32m   1263\u001B[0m \u001B[38;5;28;01mif\u001B[39;00m \u001B[38;5;28misinstance\u001B[39m(operation, Instruction):\n\u001B[0;32m-> 1264\u001B[0m     \u001B[38;5;28;01mfor\u001B[39;00m qarg, carg \u001B[38;5;129;01min\u001B[39;00m \u001B[43moperation\u001B[49m\u001B[38;5;241;43m.\u001B[39;49m\u001B[43mbroadcast_arguments\u001B[49m\u001B[43m(\u001B[49m\u001B[43mexpanded_qargs\u001B[49m\u001B[43m,\u001B[49m\u001B[43m \u001B[49m\u001B[43mexpanded_cargs\u001B[49m\u001B[43m)\u001B[49m:\n\u001B[1;32m   1265\u001B[0m         \u001B[38;5;28mself\u001B[39m\u001B[38;5;241m.\u001B[39m_check_dups(qarg)\n\u001B[1;32m   1266\u001B[0m         instruction \u001B[38;5;241m=\u001B[39m CircuitInstruction(operation, qarg, carg)\n",
      "\u001B[0;31mKeyboardInterrupt\u001B[0m: "
     ]
    }
   ],
   "source": [
    "fix_random_seed(0)\n",
    "\n",
    "distances = []\n",
    "\n",
    "num_spins = 4\n",
    "even_qubits = np.linspace(0, num_spins, int(num_spins/2), endpoint=False)\n",
    "odd_qubits = np.linspace(1, num_spins+1, int(num_spins/2), endpoint=False)\n",
    "\n",
    "degree = 2\n",
    "extrapolator = PolynomialExtrapolator(degree=degree)\n",
    "for circ, ideal, noisy in tqdm(zip(test_circuits, test_ideal_exp_vals, test_noisy_exp_vals), total=len(test_circuits)):\n",
    "    out = []\n",
    "    for obs in ['IIIZI', 'IIZII', 'IZIII', 'ZIIII']:\n",
    "        out += get_zne_expval(test_circuits[k], obs, extrapolator, backend).values.tolist()\n",
    "\n",
    "    ngm_mitigated = out\n",
    "    imbalance_ideal = calc_imbalance([ideal], even_qubits, odd_qubits)[0]\n",
    "    imbalance_noisy = calc_imbalance([noisy], even_qubits, odd_qubits)[0]\n",
    "    imbalance_mitigated = calc_imbalance([ngm_mitigated], even_qubits, odd_qubits)[0]\n",
    "    for q in range(4):\n",
    "        ideal_q = ideal[q]\n",
    "        noisy_q = noisy[q]\n",
    "        ngm_mitigated_q = ngm_mitigated[q]\n",
    "        distances.append({\n",
    "            f\"ideal_{q}\": ideal_q,\n",
    "            f\"noisy_{q}\": noisy_q,\n",
    "            f\"ngm_mitigated_{q}\": ngm_mitigated_q,\n",
    "            f\"dist_noisy_{q}\": np.abs(ideal_q - noisy_q),\n",
    "            f\"dist_mitigated_{q}\": np.abs(ideal_q - ngm_mitigated_q),\n",
    "            f\"dist_sq_noisy_{q}\": np.square(ideal_q - noisy_q),\n",
    "            f\"dist_sq_mitigated_{q}\": np.square(ideal_q - ngm_mitigated_q),\n",
    "            \"imb_ideal\": imbalance_ideal,\n",
    "            \"imb_noisy\": imbalance_noisy,\n",
    "            \"imb_ngm\": imbalance_mitigated,\n",
    "            \"imb_diff\": imbalance_ideal - imbalance_mitigated\n",
    "        })\n",
    "\n",
    "plt.style.use({'figure.facecolor':'white'})\n",
    "\n",
    "df = pd.DataFrame(distances)\n",
    "\n",
    "for q in range(4):\n",
    "    print(f'RMSE_noisy_{q}:', np.sqrt(df[f\"dist_sq_noisy_{q}\"].mean()))\n",
    "    print(f'RMSE_mitigated_{q}:', np.sqrt(df[f\"dist_sq_mitigated_{q}\"].mean()))\n",
    "\n",
    "print(f'RMSE_noisy:', np.sqrt(np.mean([df[f\"dist_sq_noisy_{q}\"].mean() for q in range(4)])))\n",
    "print(f'RMSE_mitigated:', np.sqrt(np.mean([df[f\"dist_sq_mitigated_{q}\"].mean() for q in range(4)])))\n",
    "\n",
    "sns.boxplot(data=df[[\"dist_noisy_0\", \"dist_mitigated_0\", \"dist_noisy_1\", \"dist_mitigated_1\", \"dist_noisy_2\", \"dist_mitigated_2\", \"dist_noisy_3\", \"dist_mitigated_3\"]], orient=\"h\", showfliers = False)\n",
    "plt.title(\"Dist to ideal exp value\")\n",
    "plt.show()\n",
    "\n",
    "sns.histplot([df['ideal_0'], df['noisy_0'], df[\"ngm_mitigated_0\"]], kde=True, bins=40)\n",
    "plt.title(\"Exp values distribution\")\n",
    "plt.show()"
   ],
   "metadata": {
    "collapsed": false
   }
  },
  {
   "cell_type": "markdown",
   "source": [],
   "metadata": {
    "collapsed": false
   }
  },
  {
   "cell_type": "markdown",
   "source": [],
   "metadata": {
    "collapsed": false
   }
  },
  {
   "cell_type": "code",
   "execution_count": null,
   "outputs": [],
   "source": [],
   "metadata": {
    "collapsed": false
   }
  }
 ],
 "metadata": {
  "kernelspec": {
   "display_name": "Python 3",
   "language": "python",
   "name": "python3"
  },
  "language_info": {
   "codemirror_mode": {
    "name": "ipython",
    "version": 2
   },
   "file_extension": ".py",
   "mimetype": "text/x-python",
   "name": "python",
   "nbconvert_exporter": "python",
   "pygments_lexer": "ipython2",
   "version": "2.7.6"
  }
 },
 "nbformat": 4,
 "nbformat_minor": 0
}
