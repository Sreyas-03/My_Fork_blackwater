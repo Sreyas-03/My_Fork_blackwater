{
 "cells": [
  {
   "cell_type": "code",
   "execution_count": 10,
   "outputs": [],
   "source": [
    "import json\n",
    "import glob, pickle\n",
    "from collections import defaultdict\n",
    "\n",
    "import numpy as np\n",
    "import pandas as pd\n",
    "\n",
    "from qiskit import transpile\n",
    "from qiskit import execute\n",
    "from qiskit.providers.fake_provider import FakeLima\n",
    "from qiskit.primitives import Estimator\n",
    "from qiskit.circuit.random import random_circuit\n",
    "\n",
    "import torch\n",
    "from torch.optim import Adam\n",
    "from torch.optim.lr_scheduler import ReduceLROnPlateau\n",
    "from torch.nn.functional import dropout\n",
    "\n",
    "from torch_geometric.nn import GCNConv, global_mean_pool, Linear, ChebConv, SAGEConv\n",
    "from torch_geometric.data import Data\n",
    "from torch_geometric.loader import DataLoader\n",
    "\n",
    "from tqdm.notebook import tqdm_notebook\n",
    "import matplotlib.pyplot as plt\n",
    "import seaborn as sns\n",
    "\n",
    "from blackwater.data.loaders.exp_val import CircuitGraphExpValMitigationDataset\n",
    "from blackwater.data.generators.exp_val import exp_value_generator\n",
    "from blackwater.data.utils import generate_random_pauli_sum_op\n",
    "from blackwater.library.ngem.estimator import ngem\n",
    "\n",
    "from qiskit.quantum_info import random_clifford\n",
    "\n",
    "import random\n",
    "from qiskit.circuit.library import HGate, SdgGate\n",
    "from qiskit.circuit import ClassicalRegister\n",
    "\n",
    "from blackwater.data.utils import (\n",
    "    generate_random_pauli_sum_op,\n",
    "    create_estimator_meas_data,\n",
    "    circuit_to_graph_data_json,\n",
    "    get_backend_properties_v1,\n",
    "    encode_pauli_sum_op,\n",
    "    create_meas_data_from_estimators\n",
    ")\n",
    "from blackwater.data.generators.exp_val import ExpValueEntry\n",
    "from blackwater.metrics.improvement_factor import improvement_factor, Trial, Problem\n",
    "\n",
    "from qiskit_aer import AerSimulator, QasmSimulator\n",
    "from qiskit.providers.fake_provider import FakeMontreal, FakeLima, FakeBelem\n",
    "\n",
    "from torch_geometric.nn import (\n",
    "    GCNConv,\n",
    "    TransformerConv,\n",
    "    GATv2Conv,\n",
    "    global_mean_pool,\n",
    "    Linear,\n",
    "    ChebConv,\n",
    "    SAGEConv,\n",
    "    ASAPooling,\n",
    "    dense_diff_pool,\n",
    "    avg_pool_neighbor_x\n",
    ")\n",
    "from torch_geometric.data import Data\n",
    "from torch_geometric.loader import DataLoader\n",
    "from torch_geometric.utils import to_dense_adj, to_dense_batch\n",
    "\n",
    "from qiskit import QuantumCircuit\n",
    "from qiskit.circuit.library import U3Gate, CZGate, PhaseGate, CXGate\n",
    "from mbd_utils import construct_random_clifford, cal_z_exp, calc_imbalance, cal_all_z_exp, construct_mbl_circuit, generate_disorder, random_clifford_circuit\n",
    "from gnn import ExpValCircuitGraphModel\n",
    "from qiskit.quantum_info import Clifford"
   ],
   "metadata": {
    "collapsed": false
   }
  },
  {
   "cell_type": "code",
   "execution_count": 9,
   "outputs": [],
   "source": [
    "backend1 = FakeLima()\n",
    "backend2 = FakeBelem()\n",
    "properties1 = get_backend_properties_v1(backend1)\n",
    "properties2 = get_backend_properties_v1(backend2)\n",
    "\n",
    "## Local\n",
    "backend_ideal = QasmSimulator() # Noiseless\n",
    "backend1_noisy = AerSimulator.from_backend(backend1) # Noisy\n",
    "backend2_noisy = AerSimulator.from_backend(backend2) # Noisy\n",
    "\n",
    "run_config_ideal = {'shots': 10000, 'backend': backend_ideal, 'name': 'ideal'}\n",
    "run_config_noisy1 = {'shots': 10000, 'backend': backend1_noisy, 'name': 'noisy'}\n",
    "run_config_noisy2 = {'shots': 10000, 'backend': backend2_noisy, 'name': 'noisy'}"
   ],
   "metadata": {
    "collapsed": false
   }
  },
  {
   "cell_type": "code",
   "execution_count": 18,
   "outputs": [
    {
     "data": {
      "text/plain": "['./data/circ_linked_to_pyg_data/qasm_11_-0.1.txt',\n './data/circ_linked_to_pyg_data/qasm_11_-0.2.txt',\n './data/circ_linked_to_pyg_data/qasm_11_-0.3.txt',\n './data/circ_linked_to_pyg_data/qasm_11_-0.4.txt',\n './data/circ_linked_to_pyg_data/qasm_11_-0.5.txt',\n './data/circ_linked_to_pyg_data/qasm_11_-0.6.txt',\n './data/circ_linked_to_pyg_data/qasm_11_-0.7.txt',\n './data/circ_linked_to_pyg_data/qasm_11_-0.8.txt',\n './data/circ_linked_to_pyg_data/qasm_11_-0.9.txt',\n './data/circ_linked_to_pyg_data/qasm_11_-1.0.txt',\n './data/circ_linked_to_pyg_data/qasm_11_0.0.txt',\n './data/circ_linked_to_pyg_data/qasm_11_0.1.txt',\n './data/circ_linked_to_pyg_data/qasm_11_0.2.txt',\n './data/circ_linked_to_pyg_data/qasm_11_0.3.txt',\n './data/circ_linked_to_pyg_data/qasm_11_0.4.txt',\n './data/circ_linked_to_pyg_data/qasm_11_0.5.txt',\n './data/circ_linked_to_pyg_data/qasm_11_0.6.txt',\n './data/circ_linked_to_pyg_data/qasm_11_0.7.txt',\n './data/circ_linked_to_pyg_data/qasm_11_0.8.txt',\n './data/circ_linked_to_pyg_data/qasm_11_0.9.txt',\n './data/circ_linked_to_pyg_data/qasm_12_-0.1.txt',\n './data/circ_linked_to_pyg_data/qasm_12_-0.2.txt',\n './data/circ_linked_to_pyg_data/qasm_12_-0.3.txt',\n './data/circ_linked_to_pyg_data/qasm_12_-0.4.txt',\n './data/circ_linked_to_pyg_data/qasm_12_-0.5.txt',\n './data/circ_linked_to_pyg_data/qasm_12_-0.6.txt',\n './data/circ_linked_to_pyg_data/qasm_12_-0.7.txt',\n './data/circ_linked_to_pyg_data/qasm_12_-0.8.txt',\n './data/circ_linked_to_pyg_data/qasm_12_-0.9.txt',\n './data/circ_linked_to_pyg_data/qasm_12_-1.0.txt',\n './data/circ_linked_to_pyg_data/qasm_12_0.0.txt',\n './data/circ_linked_to_pyg_data/qasm_12_0.1.txt',\n './data/circ_linked_to_pyg_data/qasm_12_0.2.txt',\n './data/circ_linked_to_pyg_data/qasm_12_0.3.txt',\n './data/circ_linked_to_pyg_data/qasm_12_0.4.txt',\n './data/circ_linked_to_pyg_data/qasm_12_0.5.txt',\n './data/circ_linked_to_pyg_data/qasm_12_0.6.txt',\n './data/circ_linked_to_pyg_data/qasm_12_0.7.txt',\n './data/circ_linked_to_pyg_data/qasm_12_0.8.txt',\n './data/circ_linked_to_pyg_data/qasm_12_0.9.txt',\n './data/circ_linked_to_pyg_data/qasm_14_-0.1.txt',\n './data/circ_linked_to_pyg_data/qasm_14_-0.2.txt',\n './data/circ_linked_to_pyg_data/qasm_14_-0.3.txt',\n './data/circ_linked_to_pyg_data/qasm_14_-0.4.txt',\n './data/circ_linked_to_pyg_data/qasm_14_-0.5.txt',\n './data/circ_linked_to_pyg_data/qasm_14_-0.6.txt',\n './data/circ_linked_to_pyg_data/qasm_14_-0.7.txt',\n './data/circ_linked_to_pyg_data/qasm_14_-0.8.txt',\n './data/circ_linked_to_pyg_data/qasm_14_-0.9.txt',\n './data/circ_linked_to_pyg_data/qasm_14_-1.0.txt',\n './data/circ_linked_to_pyg_data/qasm_14_0.0.txt',\n './data/circ_linked_to_pyg_data/qasm_14_0.1.txt',\n './data/circ_linked_to_pyg_data/qasm_14_0.2.txt',\n './data/circ_linked_to_pyg_data/qasm_14_0.3.txt',\n './data/circ_linked_to_pyg_data/qasm_14_0.4.txt',\n './data/circ_linked_to_pyg_data/qasm_14_0.5.txt',\n './data/circ_linked_to_pyg_data/qasm_14_0.6.txt',\n './data/circ_linked_to_pyg_data/qasm_14_0.7.txt',\n './data/circ_linked_to_pyg_data/qasm_14_0.8.txt',\n './data/circ_linked_to_pyg_data/qasm_14_0.9.txt',\n './data/circ_linked_to_pyg_data/qasm_15_-0.1.txt',\n './data/circ_linked_to_pyg_data/qasm_15_-0.2.txt',\n './data/circ_linked_to_pyg_data/qasm_15_-0.3.txt',\n './data/circ_linked_to_pyg_data/qasm_15_-0.4.txt',\n './data/circ_linked_to_pyg_data/qasm_15_-0.5.txt',\n './data/circ_linked_to_pyg_data/qasm_15_-0.6.txt',\n './data/circ_linked_to_pyg_data/qasm_15_-0.7.txt',\n './data/circ_linked_to_pyg_data/qasm_15_-0.8.txt',\n './data/circ_linked_to_pyg_data/qasm_15_-0.9.txt',\n './data/circ_linked_to_pyg_data/qasm_15_-1.0.txt',\n './data/circ_linked_to_pyg_data/qasm_15_0.0.txt',\n './data/circ_linked_to_pyg_data/qasm_15_0.1.txt',\n './data/circ_linked_to_pyg_data/qasm_15_0.2.txt',\n './data/circ_linked_to_pyg_data/qasm_15_0.3.txt',\n './data/circ_linked_to_pyg_data/qasm_15_0.4.txt',\n './data/circ_linked_to_pyg_data/qasm_15_0.5.txt',\n './data/circ_linked_to_pyg_data/qasm_15_0.6.txt',\n './data/circ_linked_to_pyg_data/qasm_15_0.7.txt',\n './data/circ_linked_to_pyg_data/qasm_15_0.8.txt',\n './data/circ_linked_to_pyg_data/qasm_15_0.9.txt',\n './data/circ_linked_to_pyg_data/qasm_17_-0.1.txt',\n './data/circ_linked_to_pyg_data/qasm_17_-0.2.txt',\n './data/circ_linked_to_pyg_data/qasm_17_-0.3.txt',\n './data/circ_linked_to_pyg_data/qasm_17_-0.4.txt',\n './data/circ_linked_to_pyg_data/qasm_17_-0.5.txt',\n './data/circ_linked_to_pyg_data/qasm_17_-0.6.txt',\n './data/circ_linked_to_pyg_data/qasm_17_-0.7.txt',\n './data/circ_linked_to_pyg_data/qasm_17_-0.8.txt',\n './data/circ_linked_to_pyg_data/qasm_17_-0.9.txt',\n './data/circ_linked_to_pyg_data/qasm_17_-1.0.txt',\n './data/circ_linked_to_pyg_data/qasm_17_0.0.txt',\n './data/circ_linked_to_pyg_data/qasm_17_0.1.txt',\n './data/circ_linked_to_pyg_data/qasm_17_0.2.txt',\n './data/circ_linked_to_pyg_data/qasm_17_0.3.txt',\n './data/circ_linked_to_pyg_data/qasm_17_0.4.txt',\n './data/circ_linked_to_pyg_data/qasm_17_0.5.txt',\n './data/circ_linked_to_pyg_data/qasm_17_0.6.txt',\n './data/circ_linked_to_pyg_data/qasm_17_0.7.txt',\n './data/circ_linked_to_pyg_data/qasm_17_0.8.txt',\n './data/circ_linked_to_pyg_data/qasm_17_0.9.txt',\n './data/circ_linked_to_pyg_data/qasm_18_-0.1.txt',\n './data/circ_linked_to_pyg_data/qasm_18_-0.2.txt',\n './data/circ_linked_to_pyg_data/qasm_18_-0.3.txt',\n './data/circ_linked_to_pyg_data/qasm_18_-0.4.txt',\n './data/circ_linked_to_pyg_data/qasm_18_-0.5.txt',\n './data/circ_linked_to_pyg_data/qasm_18_-0.6.txt',\n './data/circ_linked_to_pyg_data/qasm_18_-0.7.txt',\n './data/circ_linked_to_pyg_data/qasm_18_-0.8.txt',\n './data/circ_linked_to_pyg_data/qasm_18_-0.9.txt',\n './data/circ_linked_to_pyg_data/qasm_18_-1.0.txt',\n './data/circ_linked_to_pyg_data/qasm_18_0.0.txt',\n './data/circ_linked_to_pyg_data/qasm_18_0.1.txt',\n './data/circ_linked_to_pyg_data/qasm_18_0.2.txt',\n './data/circ_linked_to_pyg_data/qasm_18_0.3.txt',\n './data/circ_linked_to_pyg_data/qasm_18_0.4.txt',\n './data/circ_linked_to_pyg_data/qasm_18_0.5.txt',\n './data/circ_linked_to_pyg_data/qasm_18_0.6.txt',\n './data/circ_linked_to_pyg_data/qasm_18_0.7.txt',\n './data/circ_linked_to_pyg_data/qasm_18_0.8.txt',\n './data/circ_linked_to_pyg_data/qasm_18_0.9.txt',\n './data/circ_linked_to_pyg_data/qasm_1_-0.1.txt',\n './data/circ_linked_to_pyg_data/qasm_1_-0.2.txt',\n './data/circ_linked_to_pyg_data/qasm_1_-0.3.txt',\n './data/circ_linked_to_pyg_data/qasm_1_-0.4.txt',\n './data/circ_linked_to_pyg_data/qasm_1_-0.5.txt',\n './data/circ_linked_to_pyg_data/qasm_1_-0.6.txt',\n './data/circ_linked_to_pyg_data/qasm_1_-0.7.txt',\n './data/circ_linked_to_pyg_data/qasm_1_-0.8.txt',\n './data/circ_linked_to_pyg_data/qasm_1_-0.9.txt',\n './data/circ_linked_to_pyg_data/qasm_1_-1.0.txt',\n './data/circ_linked_to_pyg_data/qasm_1_0.0.txt',\n './data/circ_linked_to_pyg_data/qasm_1_0.1.txt',\n './data/circ_linked_to_pyg_data/qasm_1_0.2.txt',\n './data/circ_linked_to_pyg_data/qasm_1_0.3.txt',\n './data/circ_linked_to_pyg_data/qasm_1_0.4.txt',\n './data/circ_linked_to_pyg_data/qasm_1_0.5.txt',\n './data/circ_linked_to_pyg_data/qasm_1_0.6.txt',\n './data/circ_linked_to_pyg_data/qasm_1_0.7.txt',\n './data/circ_linked_to_pyg_data/qasm_1_0.8.txt',\n './data/circ_linked_to_pyg_data/qasm_1_0.9.txt',\n './data/circ_linked_to_pyg_data/qasm_2_-0.1.txt',\n './data/circ_linked_to_pyg_data/qasm_2_-0.2.txt',\n './data/circ_linked_to_pyg_data/qasm_2_-0.3.txt',\n './data/circ_linked_to_pyg_data/qasm_2_-0.4.txt',\n './data/circ_linked_to_pyg_data/qasm_2_-0.5.txt',\n './data/circ_linked_to_pyg_data/qasm_2_-0.6.txt',\n './data/circ_linked_to_pyg_data/qasm_2_-0.7.txt',\n './data/circ_linked_to_pyg_data/qasm_2_-0.8.txt',\n './data/circ_linked_to_pyg_data/qasm_2_-0.9.txt',\n './data/circ_linked_to_pyg_data/qasm_2_-1.0.txt',\n './data/circ_linked_to_pyg_data/qasm_2_0.0.txt',\n './data/circ_linked_to_pyg_data/qasm_2_0.1.txt',\n './data/circ_linked_to_pyg_data/qasm_2_0.2.txt',\n './data/circ_linked_to_pyg_data/qasm_2_0.3.txt',\n './data/circ_linked_to_pyg_data/qasm_2_0.4.txt',\n './data/circ_linked_to_pyg_data/qasm_2_0.5.txt',\n './data/circ_linked_to_pyg_data/qasm_2_0.6.txt',\n './data/circ_linked_to_pyg_data/qasm_2_0.7.txt',\n './data/circ_linked_to_pyg_data/qasm_2_0.8.txt',\n './data/circ_linked_to_pyg_data/qasm_2_0.9.txt',\n './data/circ_linked_to_pyg_data/qasm_3_-0.1.txt',\n './data/circ_linked_to_pyg_data/qasm_3_-0.2.txt',\n './data/circ_linked_to_pyg_data/qasm_3_-0.3.txt',\n './data/circ_linked_to_pyg_data/qasm_3_-0.4.txt',\n './data/circ_linked_to_pyg_data/qasm_3_-0.5.txt',\n './data/circ_linked_to_pyg_data/qasm_3_-0.6.txt',\n './data/circ_linked_to_pyg_data/qasm_3_-0.7.txt',\n './data/circ_linked_to_pyg_data/qasm_3_-0.8.txt',\n './data/circ_linked_to_pyg_data/qasm_3_-0.9.txt',\n './data/circ_linked_to_pyg_data/qasm_3_-1.0.txt',\n './data/circ_linked_to_pyg_data/qasm_3_0.0.txt',\n './data/circ_linked_to_pyg_data/qasm_3_0.1.txt',\n './data/circ_linked_to_pyg_data/qasm_3_0.2.txt',\n './data/circ_linked_to_pyg_data/qasm_3_0.3.txt',\n './data/circ_linked_to_pyg_data/qasm_3_0.4.txt',\n './data/circ_linked_to_pyg_data/qasm_3_0.5.txt',\n './data/circ_linked_to_pyg_data/qasm_3_0.6.txt',\n './data/circ_linked_to_pyg_data/qasm_3_0.7.txt',\n './data/circ_linked_to_pyg_data/qasm_3_0.8.txt',\n './data/circ_linked_to_pyg_data/qasm_3_0.9.txt',\n './data/circ_linked_to_pyg_data/qasm_4_-0.1.txt',\n './data/circ_linked_to_pyg_data/qasm_4_-0.2.txt',\n './data/circ_linked_to_pyg_data/qasm_4_-0.3.txt',\n './data/circ_linked_to_pyg_data/qasm_4_-0.4.txt',\n './data/circ_linked_to_pyg_data/qasm_4_-0.5.txt',\n './data/circ_linked_to_pyg_data/qasm_4_-0.6.txt',\n './data/circ_linked_to_pyg_data/qasm_4_-0.7.txt',\n './data/circ_linked_to_pyg_data/qasm_4_-0.8.txt',\n './data/circ_linked_to_pyg_data/qasm_4_-0.9.txt',\n './data/circ_linked_to_pyg_data/qasm_4_-1.0.txt',\n './data/circ_linked_to_pyg_data/qasm_4_0.0.txt',\n './data/circ_linked_to_pyg_data/qasm_4_0.1.txt',\n './data/circ_linked_to_pyg_data/qasm_4_0.2.txt',\n './data/circ_linked_to_pyg_data/qasm_4_0.3.txt',\n './data/circ_linked_to_pyg_data/qasm_4_0.4.txt',\n './data/circ_linked_to_pyg_data/qasm_4_0.5.txt',\n './data/circ_linked_to_pyg_data/qasm_4_0.6.txt',\n './data/circ_linked_to_pyg_data/qasm_4_0.7.txt',\n './data/circ_linked_to_pyg_data/qasm_4_0.8.txt',\n './data/circ_linked_to_pyg_data/qasm_4_0.9.txt',\n './data/circ_linked_to_pyg_data/qasm_5_-0.1.txt',\n './data/circ_linked_to_pyg_data/qasm_5_-0.2.txt',\n './data/circ_linked_to_pyg_data/qasm_5_-0.3.txt',\n './data/circ_linked_to_pyg_data/qasm_5_-0.4.txt',\n './data/circ_linked_to_pyg_data/qasm_5_-0.5.txt',\n './data/circ_linked_to_pyg_data/qasm_5_-0.6.txt',\n './data/circ_linked_to_pyg_data/qasm_5_-0.7.txt',\n './data/circ_linked_to_pyg_data/qasm_5_-0.8.txt',\n './data/circ_linked_to_pyg_data/qasm_5_-0.9.txt',\n './data/circ_linked_to_pyg_data/qasm_5_-1.0.txt',\n './data/circ_linked_to_pyg_data/qasm_5_0.0.txt',\n './data/circ_linked_to_pyg_data/qasm_5_0.1.txt',\n './data/circ_linked_to_pyg_data/qasm_5_0.2.txt',\n './data/circ_linked_to_pyg_data/qasm_5_0.3.txt',\n './data/circ_linked_to_pyg_data/qasm_5_0.4.txt',\n './data/circ_linked_to_pyg_data/qasm_5_0.5.txt',\n './data/circ_linked_to_pyg_data/qasm_5_0.6.txt',\n './data/circ_linked_to_pyg_data/qasm_5_0.7.txt',\n './data/circ_linked_to_pyg_data/qasm_5_0.8.txt',\n './data/circ_linked_to_pyg_data/qasm_5_0.9.txt',\n './data/circ_linked_to_pyg_data/qasm_6_-0.1.txt',\n './data/circ_linked_to_pyg_data/qasm_6_-0.2.txt',\n './data/circ_linked_to_pyg_data/qasm_6_-0.3.txt',\n './data/circ_linked_to_pyg_data/qasm_6_-0.4.txt',\n './data/circ_linked_to_pyg_data/qasm_6_-0.5.txt',\n './data/circ_linked_to_pyg_data/qasm_6_-0.6.txt',\n './data/circ_linked_to_pyg_data/qasm_6_-0.7.txt',\n './data/circ_linked_to_pyg_data/qasm_6_-0.8.txt',\n './data/circ_linked_to_pyg_data/qasm_6_-0.9.txt',\n './data/circ_linked_to_pyg_data/qasm_6_-1.0.txt',\n './data/circ_linked_to_pyg_data/qasm_6_0.0.txt',\n './data/circ_linked_to_pyg_data/qasm_6_0.1.txt',\n './data/circ_linked_to_pyg_data/qasm_6_0.2.txt',\n './data/circ_linked_to_pyg_data/qasm_6_0.3.txt',\n './data/circ_linked_to_pyg_data/qasm_6_0.4.txt',\n './data/circ_linked_to_pyg_data/qasm_6_0.5.txt',\n './data/circ_linked_to_pyg_data/qasm_6_0.6.txt',\n './data/circ_linked_to_pyg_data/qasm_6_0.7.txt',\n './data/circ_linked_to_pyg_data/qasm_6_0.8.txt',\n './data/circ_linked_to_pyg_data/qasm_6_0.9.txt',\n './data/circ_linked_to_pyg_data/qasm_7_-0.1.txt',\n './data/circ_linked_to_pyg_data/qasm_7_-0.2.txt',\n './data/circ_linked_to_pyg_data/qasm_7_-0.3.txt',\n './data/circ_linked_to_pyg_data/qasm_7_-0.4.txt',\n './data/circ_linked_to_pyg_data/qasm_7_-0.5.txt',\n './data/circ_linked_to_pyg_data/qasm_7_-0.6.txt',\n './data/circ_linked_to_pyg_data/qasm_7_-0.7.txt',\n './data/circ_linked_to_pyg_data/qasm_7_-0.8.txt',\n './data/circ_linked_to_pyg_data/qasm_7_-0.9.txt',\n './data/circ_linked_to_pyg_data/qasm_7_-1.0.txt',\n './data/circ_linked_to_pyg_data/qasm_7_0.0.txt',\n './data/circ_linked_to_pyg_data/qasm_7_0.1.txt',\n './data/circ_linked_to_pyg_data/qasm_7_0.2.txt',\n './data/circ_linked_to_pyg_data/qasm_7_0.3.txt',\n './data/circ_linked_to_pyg_data/qasm_7_0.4.txt',\n './data/circ_linked_to_pyg_data/qasm_7_0.5.txt',\n './data/circ_linked_to_pyg_data/qasm_7_0.6.txt',\n './data/circ_linked_to_pyg_data/qasm_7_0.7.txt',\n './data/circ_linked_to_pyg_data/qasm_7_0.8.txt',\n './data/circ_linked_to_pyg_data/qasm_7_0.9.txt',\n './data/circ_linked_to_pyg_data/qasm_8_-0.1.txt',\n './data/circ_linked_to_pyg_data/qasm_8_-0.2.txt',\n './data/circ_linked_to_pyg_data/qasm_8_-0.3.txt',\n './data/circ_linked_to_pyg_data/qasm_8_-0.4.txt',\n './data/circ_linked_to_pyg_data/qasm_8_-0.5.txt',\n './data/circ_linked_to_pyg_data/qasm_8_-0.6.txt',\n './data/circ_linked_to_pyg_data/qasm_8_-0.7.txt',\n './data/circ_linked_to_pyg_data/qasm_8_-0.8.txt',\n './data/circ_linked_to_pyg_data/qasm_8_-0.9.txt',\n './data/circ_linked_to_pyg_data/qasm_8_-1.0.txt',\n './data/circ_linked_to_pyg_data/qasm_8_0.0.txt',\n './data/circ_linked_to_pyg_data/qasm_8_0.1.txt',\n './data/circ_linked_to_pyg_data/qasm_8_0.2.txt',\n './data/circ_linked_to_pyg_data/qasm_8_0.3.txt',\n './data/circ_linked_to_pyg_data/qasm_8_0.4.txt',\n './data/circ_linked_to_pyg_data/qasm_8_0.5.txt',\n './data/circ_linked_to_pyg_data/qasm_8_0.6.txt',\n './data/circ_linked_to_pyg_data/qasm_8_0.7.txt',\n './data/circ_linked_to_pyg_data/qasm_8_0.8.txt',\n './data/circ_linked_to_pyg_data/qasm_8_0.9.txt',\n './data/circ_linked_to_pyg_data/qasm_9_-0.1.txt',\n './data/circ_linked_to_pyg_data/qasm_9_-0.2.txt',\n './data/circ_linked_to_pyg_data/qasm_9_-0.3.txt',\n './data/circ_linked_to_pyg_data/qasm_9_-0.4.txt',\n './data/circ_linked_to_pyg_data/qasm_9_-0.5.txt',\n './data/circ_linked_to_pyg_data/qasm_9_-0.6.txt',\n './data/circ_linked_to_pyg_data/qasm_9_-0.7.txt',\n './data/circ_linked_to_pyg_data/qasm_9_-0.8.txt',\n './data/circ_linked_to_pyg_data/qasm_9_-0.9.txt',\n './data/circ_linked_to_pyg_data/qasm_9_-1.0.txt',\n './data/circ_linked_to_pyg_data/qasm_9_0.0.txt',\n './data/circ_linked_to_pyg_data/qasm_9_0.1.txt',\n './data/circ_linked_to_pyg_data/qasm_9_0.2.txt',\n './data/circ_linked_to_pyg_data/qasm_9_0.3.txt',\n './data/circ_linked_to_pyg_data/qasm_9_0.4.txt',\n './data/circ_linked_to_pyg_data/qasm_9_0.5.txt',\n './data/circ_linked_to_pyg_data/qasm_9_0.6.txt',\n './data/circ_linked_to_pyg_data/qasm_9_0.7.txt',\n './data/circ_linked_to_pyg_data/qasm_9_0.8.txt',\n './data/circ_linked_to_pyg_data/qasm_9_0.9.txt']"
     },
     "execution_count": 18,
     "metadata": {},
     "output_type": "execute_result"
    }
   ],
   "source": [
    "files = sorted(glob.glob('./data/circ_linked_to_pyg_data/*.txt'))\n",
    "files"
   ],
   "metadata": {
    "collapsed": false
   }
  },
  {
   "cell_type": "code",
   "execution_count": null,
   "outputs": [],
   "source": [
    "circs = defaultdict(list)\n",
    "\n",
    "#for file in tqdm_notebook(files, leave=False):\n",
    "for file in ['./data/circ_linked_to_pyg_data/qasm_11_-0.3.txt']:\n",
    "    print(file)\n",
    "    depth = int(file.split('_')[-2])\n",
    "    if depth not in [3, 5, 7, 9, 11]:\n",
    "        continue\n",
    "    # exp_val_bin = float(file.split('_')[-1][:-4])\n",
    "\n",
    "    # f_name = '_'.join([depth, round(exp_val_bin, 1)]) + '.json'\n",
    "    f_name = file.split('/')[-1][5:-4] + '.json'\n",
    "    with open('./data/pyg_data/'+f_name, 'r') as in_f:\n",
    "        pyg_dicts = json.load(in_f)\n",
    "        print('len(pyg_dicts)\\t', len(pyg_dicts))\n",
    "\n",
    "    qc_list = []\n",
    "    with open(file, \"r\") as f:\n",
    "        lines = f.read().split('-----')\n",
    "        print('len(lines)\\t', len(lines) - 1)\n",
    "        print('exp_val, \\t ideal_exp_value, \\t noisy_exp_values')\n",
    "        for i, line in enumerate(lines):\n",
    "            splitted = line.split('\\n')\n",
    "            valid = splitted[3:]\n",
    "            if len(valid) and valid[0].startswith('qasm'):\n",
    "                valid = valid[1:]\n",
    "            elif not len(valid):\n",
    "                continue\n",
    "            try:\n",
    "                exp_val = float(splitted[1])\n",
    "            except:\n",
    "                exp_val = float(splitted[2])\n",
    "            qasm_str = '\\n'.join(valid)\n",
    "            qc = QuantumCircuit.from_qasm_str(qasm_str)\n",
    "            pyg_dict = pyg_dicts[i]\n",
    "            print(exp_val, pyg_dict['ideal_exp_value'], pyg_dict['noisy_exp_values'])\n",
    "            qc_list.append((exp_val, qc, pyg_dict))\n",
    "    print('len(qc_list)', len(qc_list))\n",
    "    circs[depth] += qc_list"
   ],
   "metadata": {
    "collapsed": false,
    "pycharm": {
     "is_executing": true
    }
   }
  },
  {
   "cell_type": "code",
   "execution_count": 106,
   "outputs": [],
   "source": [
    "# with open('./data/circ_parsed_pyg_data/parsed.pk', 'wb') as out:\n",
    "#     pickle.dump(circs, out)"
   ],
   "metadata": {
    "collapsed": false
   }
  },
  {
   "cell_type": "code",
   "execution_count": 4,
   "outputs": [],
   "source": [
    "with open('./data/circ_parsed_pyg_data/parsed.pk', 'rb') as in_f:\n",
    "    parsed = pickle.load(in_f)"
   ],
   "metadata": {
    "collapsed": false
   }
  },
  {
   "cell_type": "code",
   "execution_count": 9,
   "outputs": [
    {
     "data": {
      "text/plain": "1976"
     },
     "execution_count": 9,
     "metadata": {},
     "output_type": "execute_result"
    }
   ],
   "source": [
    "len(parsed[3.0])"
   ],
   "metadata": {
    "collapsed": false
   }
  },
  {
   "cell_type": "code",
   "execution_count": 14,
   "outputs": [
    {
     "data": {
      "text/plain": "                                                                                                                                                    ░ ┌─┐            \nq_0: ────■──────────────────────────────────────────────────────────────────────────────────────────────────────────────────────────────────────────░─┤M├────────────\n       ┌─┴─┐            ┌───┐           ┌─────────┐┌─────────┐┌────┐┌─────────┐┌─────────┐┌───┐┌──────────┐┌─────────┐┌────┐┌─────────┐┌──────────┐ ░ └╥┘      ┌─┐   \nq_1: ──┤ X ├────■───────┤ X ├───────■───┤ Rz(π/2) ├┤ Rz(π/2) ├┤ √X ├┤ Rz(π/2) ├┤ Rz(π/4) ├┤ X ├┤ Rz(-π/4) ├┤ Rz(π/2) ├┤ √X ├┤ Rz(π/2) ├┤ Rz(-π/2) ├─░──╫───────┤M├───\n       └───┘    │       └─┬─┘       │   └─────────┘└─────────┘└────┘└─────────┘└─────────┘└─┬─┘└──────────┘└─────────┘└────┘└─────────┘└──────────┘ ░  ║    ┌─┐└╥┘   \nq_2: ───────────┼─────────┼─────────┼───────────────────────────────────────────────────────■───────────────────────────────────────────────────────░──╫────┤M├─╫────\n              ┌─┴─┐       │       ┌─┴─┐                                                                                                             ░  ║ ┌─┐└╥┘ ║    \nq_3: ─────────┤ X ├───────■───────┤ X ├─────────────────────────────────────────────────────────────────────────────────────────────────────────────░──╫─┤M├─╫──╫────\n     ┌───────┐├───┴┐┌────────────┐├───┴┐ ┌────────┐                                                                                                 ░  ║ └╥┘ ║  ║ ┌─┐\nq_4: ┤ Rz(0) ├┤ √X ├┤ Rz(4.8112) ├┤ √X ├─┤ Rz(3π) ├─────────────────────────────────────────────────────────────────────────────────────────────────░──╫──╫──╫──╫─┤M├\n     └───────┘└────┘└────────────┘└────┘ └────────┘                                                                                                 ░  ║  ║  ║  ║ └╥┘\nc: 5/══════════════════════════════════════════════════════════════════════════════════════════════════════════════════════════════════════════════════╩══╩══╩══╩══╩═\n                                                                                                                                                       0  1  2  3  4 ",
      "text/html": "<pre style=\"word-wrap: normal;white-space: pre;background: #fff0;line-height: 1.1;font-family: &quot;Courier New&quot;,Courier,monospace\">                                                                                                                                                    ░ ┌─┐            \nq_0: ────■──────────────────────────────────────────────────────────────────────────────────────────────────────────────────────────────────────────░─┤M├────────────\n       ┌─┴─┐            ┌───┐           ┌─────────┐┌─────────┐┌────┐┌─────────┐┌─────────┐┌───┐┌──────────┐┌─────────┐┌────┐┌─────────┐┌──────────┐ ░ └╥┘      ┌─┐   \nq_1: ──┤ X ├────■───────┤ X ├───────■───┤ Rz(π/2) ├┤ Rz(π/2) ├┤ √X ├┤ Rz(π/2) ├┤ Rz(π/4) ├┤ X ├┤ Rz(-π/4) ├┤ Rz(π/2) ├┤ √X ├┤ Rz(π/2) ├┤ Rz(-π/2) ├─░──╫───────┤M├───\n       └───┘    │       └─┬─┘       │   └─────────┘└─────────┘└────┘└─────────┘└─────────┘└─┬─┘└──────────┘└─────────┘└────┘└─────────┘└──────────┘ ░  ║    ┌─┐└╥┘   \nq_2: ───────────┼─────────┼─────────┼───────────────────────────────────────────────────────■───────────────────────────────────────────────────────░──╫────┤M├─╫────\n              ┌─┴─┐       │       ┌─┴─┐                                                                                                             ░  ║ ┌─┐└╥┘ ║    \nq_3: ─────────┤ X ├───────■───────┤ X ├─────────────────────────────────────────────────────────────────────────────────────────────────────────────░──╫─┤M├─╫──╫────\n     ┌───────┐├───┴┐┌────────────┐├───┴┐ ┌────────┐                                                                                                 ░  ║ └╥┘ ║  ║ ┌─┐\nq_4: ┤ Rz(0) ├┤ √X ├┤ Rz(4.8112) ├┤ √X ├─┤ Rz(3π) ├─────────────────────────────────────────────────────────────────────────────────────────────────░──╫──╫──╫──╫─┤M├\n     └───────┘└────┘└────────────┘└────┘ └────────┘                                                                                                 ░  ║  ║  ║  ║ └╥┘\nc: 5/══════════════════════════════════════════════════════════════════════════════════════════════════════════════════════════════════════════════════╩══╩══╩══╩══╩═\n                                                                                                                                                       0  1  2  3  4 </pre>"
     },
     "execution_count": 14,
     "metadata": {},
     "output_type": "execute_result"
    }
   ],
   "source": [
    "parsed[5.0][9][1].draw(fold=-1)"
   ],
   "metadata": {
    "collapsed": false
   }
  },
  {
   "cell_type": "code",
   "execution_count": 5,
   "outputs": [],
   "source": [
    "with open('./data/pyg_data/3_0.0.json', 'r') as in_f:\n",
    "    pyg_d = json.load(in_f)"
   ],
   "metadata": {
    "collapsed": false
   }
  },
  {
   "cell_type": "code",
   "execution_count": 7,
   "outputs": [
    {
     "data": {
      "text/plain": "{'nodes': {'DAGOpNode': [[1.5707963267948966,\n    0.0,\n    0.0,\n    0.0,\n    0.0,\n    1.0,\n    0.0,\n    0.0,\n    0.0,\n    0.0,\n    0.0,\n    5.9698643286635694e-05,\n    0.0,\n    0.0,\n    0.0,\n    0.0,\n    9.355584184359312e-05,\n    0.0,\n    0.0,\n    0.0,\n    0.0,\n    0.026100000000000012,\n    0.0,\n    0.0,\n    0.0,\n    0.0,\n    0,\n    0],\n   [0.0,\n    0.0,\n    0.0,\n    1.0,\n    0.0,\n    0.0,\n    0.0,\n    0.0,\n    0.0,\n    0.0,\n    0.0,\n    5.9698643286635694e-05,\n    0.0,\n    0.0,\n    0.0,\n    0.0,\n    9.355584184359312e-05,\n    0.0,\n    0.0,\n    0.0,\n    0.0,\n    0.026100000000000012,\n    0.0,\n    0.0,\n    0.0,\n    0.0,\n    0.00019195510390342677,\n    35.55555555555556],\n   [6.80205519107807,\n    0.0,\n    0.0,\n    0.0,\n    0.0,\n    1.0,\n    0.0,\n    0.0,\n    0.0,\n    0.0,\n    0.0,\n    5.9698643286635694e-05,\n    0.0,\n    0.0,\n    0.0,\n    0.0,\n    9.355584184359312e-05,\n    0.0,\n    0.0,\n    0.0,\n    0.0,\n    0.026100000000000012,\n    0.0,\n    0.0,\n    0.0,\n    0.0,\n    0,\n    0],\n   [0.0,\n    0.0,\n    0.0,\n    1.0,\n    0.0,\n    0.0,\n    0.0,\n    0.0,\n    0.0,\n    0.0,\n    0.0,\n    5.9698643286635694e-05,\n    0.0,\n    0.0,\n    0.0,\n    0.0,\n    9.355584184359312e-05,\n    0.0,\n    0.0,\n    0.0,\n    0.0,\n    0.026100000000000012,\n    0.0,\n    0.0,\n    0.0,\n    0.0,\n    0.00019195510390342677,\n    35.55555555555556],\n   [7.853981633974483,\n    0.0,\n    0.0,\n    0.0,\n    0.0,\n    1.0,\n    0.0,\n    0.0,\n    0.0,\n    0.0,\n    0.0,\n    5.9698643286635694e-05,\n    0.0,\n    0.0,\n    0.0,\n    0.0,\n    9.355584184359312e-05,\n    0.0,\n    0.0,\n    0.0,\n    0.0,\n    0.026100000000000012,\n    0.0,\n    0.0,\n    0.0,\n    0.0,\n    0,\n    0],\n   [1.5707963267948966,\n    0.0,\n    0.0,\n    0.0,\n    0.0,\n    1.0,\n    0.0,\n    0.0,\n    0.0,\n    0.0,\n    0.0,\n    0.0,\n    8.305997230317399e-05,\n    0.0,\n    0.0,\n    0.0,\n    0.0,\n    0.00011553074510239035,\n    0.0,\n    0.0,\n    0.0,\n    0.0,\n    0.020000000000000018,\n    0.0,\n    0.0,\n    0.0,\n    0,\n    0],\n   [0.0,\n    0.0,\n    0.0,\n    1.0,\n    0.0,\n    0.0,\n    0.0,\n    0.0,\n    0.0,\n    0.0,\n    0.0,\n    0.0,\n    8.305997230317399e-05,\n    0.0,\n    0.0,\n    0.0,\n    0.0,\n    0.00011553074510239035,\n    0.0,\n    0.0,\n    0.0,\n    0.0,\n    0.020000000000000018,\n    0.0,\n    0.0,\n    0.0,\n    0.00033064681663890665,\n    35.55555555555556],\n   [1.5707963267948966,\n    0.0,\n    0.0,\n    0.0,\n    0.0,\n    1.0,\n    0.0,\n    0.0,\n    0.0,\n    0.0,\n    0.0,\n    0.0,\n    8.305997230317399e-05,\n    0.0,\n    0.0,\n    0.0,\n    0.0,\n    0.00011553074510239035,\n    0.0,\n    0.0,\n    0.0,\n    0.0,\n    0.020000000000000018,\n    0.0,\n    0.0,\n    0.0,\n    0,\n    0],\n   [0.0,\n    0.0,\n    0.0,\n    0.0,\n    0.0,\n    0.0,\n    0.0,\n    0.0,\n    1.0,\n    0.0,\n    0.0,\n    0.0,\n    8.305997230317399e-05,\n    0.00010377694598809795,\n    0.0,\n    0.0,\n    0.0,\n    0.00011553074510239035,\n    9.477169960638749e-05,\n    0.0,\n    0.0,\n    0.0,\n    0.020000000000000018,\n    0.016599999999999948,\n    0.0,\n    0.0,\n    0.005961828308163608,\n    298.66666666666663],\n   [-0.7853981633974483,\n    0.0,\n    0.0,\n    0.0,\n    0.0,\n    1.0,\n    0.0,\n    0.0,\n    0.0,\n    0.0,\n    0.0,\n    0.0,\n    8.305997230317399e-05,\n    0.0,\n    0.0,\n    0.0,\n    0.0,\n    0.00011553074510239035,\n    0.0,\n    0.0,\n    0.0,\n    0.0,\n    0.020000000000000018,\n    0.0,\n    0.0,\n    0.0,\n    0,\n    0],\n   [0.0,\n    0.0,\n    0.0,\n    0.0,\n    0.0,\n    0.0,\n    0.0,\n    0.0,\n    1.0,\n    0.0,\n    0.0,\n    0.0,\n    8.305997230317399e-05,\n    0.0,\n    4.358447375590962e-05,\n    0.0,\n    0.0,\n    0.00011553074510239035,\n    0.0,\n    4.645933441447346e-05,\n    0.0,\n    0.0,\n    0.020000000000000018,\n    0.0,\n    0.0515000000000001,\n    0.0,\n    0.009799775939734023,\n    462.2222222222222],\n   [0.7853981633974483,\n    0.0,\n    0.0,\n    0.0,\n    0.0,\n    1.0,\n    0.0,\n    0.0,\n    0.0,\n    0.0,\n    0.0,\n    0.0,\n    8.305997230317399e-05,\n    0.0,\n    0.0,\n    0.0,\n    0.0,\n    0.00011553074510239035,\n    0.0,\n    0.0,\n    0.0,\n    0.0,\n    0.020000000000000018,\n    0.0,\n    0.0,\n    0.0,\n    0,\n    0],\n   [0.0,\n    0.0,\n    0.0,\n    0.0,\n    0.0,\n    0.0,\n    0.0,\n    0.0,\n    1.0,\n    0.0,\n    0.0,\n    0.0,\n    8.305997230317399e-05,\n    0.00010377694598809795,\n    0.0,\n    0.0,\n    0.0,\n    0.00011553074510239035,\n    9.477169960638749e-05,\n    0.0,\n    0.0,\n    0.0,\n    0.020000000000000018,\n    0.016599999999999948,\n    0.0,\n    0.0,\n    0.005961828308163608,\n    298.66666666666663],\n   [-0.7853981633974483,\n    0.0,\n    0.0,\n    0.0,\n    0.0,\n    1.0,\n    0.0,\n    0.0,\n    0.0,\n    0.0,\n    0.0,\n    0.0,\n    8.305997230317399e-05,\n    0.0,\n    0.0,\n    0.0,\n    0.0,\n    0.00011553074510239035,\n    0.0,\n    0.0,\n    0.0,\n    0.0,\n    0.020000000000000018,\n    0.0,\n    0.0,\n    0.0,\n    0,\n    0],\n   [0.7853981633974483,\n    0.0,\n    0.0,\n    0.0,\n    0.0,\n    1.0,\n    0.0,\n    0.0,\n    0.0,\n    0.0,\n    0.0,\n    0.0,\n    0.0,\n    0.00010377694598809795,\n    0.0,\n    0.0,\n    0.0,\n    0.0,\n    9.477169960638749e-05,\n    0.0,\n    0.0,\n    0.0,\n    0.0,\n    0.016599999999999948,\n    0.0,\n    0.0,\n    0,\n    0],\n   [0.0,\n    0.0,\n    0.0,\n    0.0,\n    0.0,\n    0.0,\n    0.0,\n    0.0,\n    1.0,\n    0.0,\n    0.0,\n    0.0,\n    8.305997230317399e-05,\n    0.0,\n    4.358447375590962e-05,\n    0.0,\n    0.0,\n    0.00011553074510239035,\n    0.0,\n    4.645933441447346e-05,\n    0.0,\n    0.0,\n    0.020000000000000018,\n    0.0,\n    0.0515000000000001,\n    0.0,\n    0.009799775939734023,\n    462.2222222222222],\n   [0.0,\n    0.0,\n    0.0,\n    0.0,\n    0.0,\n    0.0,\n    0.0,\n    0.0,\n    1.0,\n    0.0,\n    0.0,\n    0.0,\n    8.305997230317399e-05,\n    0.0,\n    4.358447375590962e-05,\n    0.0,\n    0.0,\n    0.00011553074510239035,\n    0.0,\n    4.645933441447346e-05,\n    0.0,\n    0.0,\n    0.020000000000000018,\n    0.0,\n    0.0515000000000001,\n    0.0,\n    0.009799775939734023,\n    497.77777777777777],\n   [0.0,\n    0.0,\n    0.0,\n    0.0,\n    0.0,\n    0.0,\n    0.0,\n    0.0,\n    1.0,\n    0.0,\n    0.0,\n    0.0,\n    8.305997230317399e-05,\n    0.0,\n    4.358447375590962e-05,\n    0.0,\n    0.0,\n    0.00011553074510239035,\n    0.0,\n    4.645933441447346e-05,\n    0.0,\n    0.0,\n    0.020000000000000018,\n    0.0,\n    0.0515000000000001,\n    0.0,\n    0.009799775939734023,\n    462.2222222222222],\n   [0.0,\n    0.0,\n    0.0,\n    0.0,\n    0.0,\n    0.0,\n    0.0,\n    0.0,\n    1.0,\n    0.0,\n    0.0,\n    0.0,\n    8.305997230317399e-05,\n    0.0,\n    4.358447375590962e-05,\n    0.0,\n    0.0,\n    0.00011553074510239035,\n    0.0,\n    4.645933441447346e-05,\n    0.0,\n    0.0,\n    0.020000000000000018,\n    0.0,\n    0.0515000000000001,\n    0.0,\n    0.009799775939734023,\n    497.77777777777777],\n   [0.0,\n    0.0,\n    0.0,\n    0.0,\n    0.0,\n    0.0,\n    0.0,\n    0.0,\n    1.0,\n    0.0,\n    0.0,\n    0.0,\n    8.305997230317399e-05,\n    0.00010377694598809795,\n    0.0,\n    0.0,\n    0.0,\n    0.00011553074510239035,\n    9.477169960638749e-05,\n    0.0,\n    0.0,\n    0.0,\n    0.020000000000000018,\n    0.016599999999999948,\n    0.0,\n    0.0,\n    0.005961828308163608,\n    334.22222222222223],\n   [0.7853981633974483,\n    0.0,\n    0.0,\n    0.0,\n    0.0,\n    1.0,\n    0.0,\n    0.0,\n    0.0,\n    0.0,\n    0.0,\n    0.0,\n    8.305997230317399e-05,\n    0.0,\n    0.0,\n    0.0,\n    0.0,\n    0.00011553074510239035,\n    0.0,\n    0.0,\n    0.0,\n    0.0,\n    0.020000000000000018,\n    0.0,\n    0.0,\n    0.0,\n    0,\n    0],\n   [-0.7853981633974483,\n    0.0,\n    0.0,\n    0.0,\n    0.0,\n    1.0,\n    0.0,\n    0.0,\n    0.0,\n    0.0,\n    0.0,\n    0.0,\n    0.0,\n    0.00010377694598809795,\n    0.0,\n    0.0,\n    0.0,\n    0.0,\n    9.477169960638749e-05,\n    0.0,\n    0.0,\n    0.0,\n    0.0,\n    0.016599999999999948,\n    0.0,\n    0.0,\n    0,\n    0],\n   [0.0,\n    0.0,\n    0.0,\n    0.0,\n    0.0,\n    0.0,\n    0.0,\n    0.0,\n    1.0,\n    0.0,\n    0.0,\n    0.0,\n    8.305997230317399e-05,\n    0.00010377694598809795,\n    0.0,\n    0.0,\n    0.0,\n    0.00011553074510239035,\n    9.477169960638749e-05,\n    0.0,\n    0.0,\n    0.0,\n    0.020000000000000018,\n    0.016599999999999948,\n    0.0,\n    0.0,\n    0.005961828308163608,\n    334.22222222222223],\n   [1.5707963267948966,\n    0.0,\n    0.0,\n    0.0,\n    0.0,\n    1.0,\n    0.0,\n    0.0,\n    0.0,\n    0.0,\n    0.0,\n    0.0,\n    0.0,\n    0.00010377694598809795,\n    0.0,\n    0.0,\n    0.0,\n    0.0,\n    9.477169960638749e-05,\n    0.0,\n    0.0,\n    0.0,\n    0.0,\n    0.016599999999999948,\n    0.0,\n    0.0,\n    0,\n    0],\n   [0.0,\n    0.0,\n    0.0,\n    1.0,\n    0.0,\n    0.0,\n    0.0,\n    0.0,\n    0.0,\n    0.0,\n    0.0,\n    0.0,\n    0.0,\n    0.00010377694598809795,\n    0.0,\n    0.0,\n    0.0,\n    0.0,\n    9.477169960638749e-05,\n    0.0,\n    0.0,\n    0.0,\n    0.0,\n    0.016599999999999948,\n    0.0,\n    0.0,\n    0.0001807726361160903,\n    35.55555555555556],\n   [1.5707963267948966,\n    0.0,\n    0.0,\n    0.0,\n    0.0,\n    1.0,\n    0.0,\n    0.0,\n    0.0,\n    0.0,\n    0.0,\n    0.0,\n    0.0,\n    0.00010377694598809795,\n    0.0,\n    0.0,\n    0.0,\n    0.0,\n    9.477169960638749e-05,\n    0.0,\n    0.0,\n    0.0,\n    0.0,\n    0.016599999999999948,\n    0.0,\n    0.0,\n    0,\n    0],\n   [0.0,\n    0.0,\n    0.0,\n    0.0,\n    0.0,\n    0.0,\n    0.0,\n    0.0,\n    1.0,\n    0.0,\n    0.0,\n    0.0,\n    8.305997230317399e-05,\n    0.00010377694598809795,\n    0.0,\n    0.0,\n    0.0,\n    0.00011553074510239035,\n    9.477169960638749e-05,\n    0.0,\n    0.0,\n    0.0,\n    0.020000000000000018,\n    0.016599999999999948,\n    0.0,\n    0.0,\n    0.005961828308163608,\n    334.22222222222223],\n   [0.0,\n    0.0,\n    0.0,\n    0.0,\n    0.0,\n    0.0,\n    0.0,\n    0.0,\n    1.0,\n    0.0,\n    0.0,\n    5.9698643286635694e-05,\n    8.305997230317399e-05,\n    0.0,\n    0.0,\n    0.0,\n    9.355584184359312e-05,\n    0.00011553074510239035,\n    0.0,\n    0.0,\n    0.0,\n    0.026100000000000012,\n    0.020000000000000018,\n    0.0,\n    0.0,\n    0.0,\n    0.008339674869236618,\n    305.77777777777777],\n   [0.0,\n    0.0,\n    0.0,\n    0.0,\n    0.0,\n    0.0,\n    0.0,\n    0.0,\n    1.0,\n    0.0,\n    0.0,\n    5.9698643286635694e-05,\n    8.305997230317399e-05,\n    0.0,\n    0.0,\n    0.0,\n    9.355584184359312e-05,\n    0.00011553074510239035,\n    0.0,\n    0.0,\n    0.0,\n    0.026100000000000012,\n    0.020000000000000018,\n    0.0,\n    0.0,\n    0.0,\n    0.008339674869236618,\n    341.3333333333333],\n   [0.0,\n    0.0,\n    0.0,\n    0.0,\n    0.0,\n    0.0,\n    0.0,\n    0.0,\n    1.0,\n    0.0,\n    0.0,\n    5.9698643286635694e-05,\n    8.305997230317399e-05,\n    0.0,\n    0.0,\n    0.0,\n    9.355584184359312e-05,\n    0.00011553074510239035,\n    0.0,\n    0.0,\n    0.0,\n    0.026100000000000012,\n    0.020000000000000018,\n    0.0,\n    0.0,\n    0.0,\n    0.008339674869236618,\n    305.77777777777777],\n   [1.5707963267948966,\n    0.0,\n    0.0,\n    0.0,\n    0.0,\n    1.0,\n    0.0,\n    0.0,\n    0.0,\n    0.0,\n    0.0,\n    0.0,\n    0.0,\n    0.00010377694598809795,\n    0.0,\n    0.0,\n    0.0,\n    0.0,\n    9.477169960638749e-05,\n    0.0,\n    0.0,\n    0.0,\n    0.0,\n    0.016599999999999948,\n    0.0,\n    0.0,\n    0,\n    0],\n   [0.0,\n    0.0,\n    0.0,\n    1.0,\n    0.0,\n    0.0,\n    0.0,\n    0.0,\n    0.0,\n    0.0,\n    0.0,\n    0.0,\n    0.0,\n    0.00010377694598809795,\n    0.0,\n    0.0,\n    0.0,\n    0.0,\n    9.477169960638749e-05,\n    0.0,\n    0.0,\n    0.0,\n    0.0,\n    0.016599999999999948,\n    0.0,\n    0.0,\n    0.0001807726361160903,\n    35.55555555555556],\n   [1.5707963267948966,\n    0.0,\n    0.0,\n    0.0,\n    0.0,\n    1.0,\n    0.0,\n    0.0,\n    0.0,\n    0.0,\n    0.0,\n    0.0,\n    0.0,\n    0.00010377694598809795,\n    0.0,\n    0.0,\n    0.0,\n    0.0,\n    9.477169960638749e-05,\n    0.0,\n    0.0,\n    0.0,\n    0.0,\n    0.016599999999999948,\n    0.0,\n    0.0,\n    0,\n    0],\n   [-1.26338897603396,\n    0.0,\n    0.0,\n    0.0,\n    0.0,\n    1.0,\n    0.0,\n    0.0,\n    0.0,\n    0.0,\n    0.0,\n    0.0,\n    0.0,\n    0.00010377694598809795,\n    0.0,\n    0.0,\n    0.0,\n    0.0,\n    9.477169960638749e-05,\n    0.0,\n    0.0,\n    0.0,\n    0.0,\n    0.016599999999999948,\n    0.0,\n    0.0,\n    0,\n    0],\n   [0.0,\n    0.0,\n    0.0,\n    1.0,\n    0.0,\n    0.0,\n    0.0,\n    0.0,\n    0.0,\n    0.0,\n    0.0,\n    0.0,\n    0.0,\n    0.00010377694598809795,\n    0.0,\n    0.0,\n    0.0,\n    0.0,\n    9.477169960638749e-05,\n    0.0,\n    0.0,\n    0.0,\n    0.0,\n    0.016599999999999948,\n    0.0,\n    0.0,\n    0.0001807726361160903,\n    35.55555555555556],\n   [6.85844891706922,\n    0.0,\n    0.0,\n    0.0,\n    0.0,\n    1.0,\n    0.0,\n    0.0,\n    0.0,\n    0.0,\n    0.0,\n    0.0,\n    0.0,\n    0.00010377694598809795,\n    0.0,\n    0.0,\n    0.0,\n    0.0,\n    9.477169960638749e-05,\n    0.0,\n    0.0,\n    0.0,\n    0.0,\n    0.016599999999999948,\n    0.0,\n    0.0,\n    0,\n    0],\n   [0.7853981633974483,\n    0.0,\n    0.0,\n    0.0,\n    0.0,\n    1.0,\n    0.0,\n    0.0,\n    0.0,\n    0.0,\n    0.0,\n    0.0,\n    0.0,\n    0.0,\n    4.358447375590962e-05,\n    0.0,\n    0.0,\n    0.0,\n    0.0,\n    4.645933441447346e-05,\n    0.0,\n    0.0,\n    0.0,\n    0.0,\n    0.0515000000000001,\n    0.0,\n    0,\n    0],\n   [1.5707963267948966,\n    0.0,\n    0.0,\n    0.0,\n    0.0,\n    1.0,\n    0.0,\n    0.0,\n    0.0,\n    0.0,\n    0.0,\n    0.0,\n    0.0,\n    0.0,\n    4.358447375590962e-05,\n    0.0,\n    0.0,\n    0.0,\n    0.0,\n    4.645933441447346e-05,\n    0.0,\n    0.0,\n    0.0,\n    0.0,\n    0.0515000000000001,\n    0.0,\n    0,\n    0],\n   [0.0,\n    0.0,\n    0.0,\n    1.0,\n    0.0,\n    0.0,\n    0.0,\n    0.0,\n    0.0,\n    0.0,\n    0.0,\n    0.0,\n    0.0,\n    0.0,\n    4.358447375590962e-05,\n    0.0,\n    0.0,\n    0.0,\n    0.0,\n    4.645933441447346e-05,\n    0.0,\n    0.0,\n    0.0,\n    0.0,\n    0.0515000000000001,\n    0.0,\n    0.0003925363414603665,\n    35.55555555555556],\n   [1.5707963267948966,\n    0.0,\n    0.0,\n    0.0,\n    0.0,\n    1.0,\n    0.0,\n    0.0,\n    0.0,\n    0.0,\n    0.0,\n    0.0,\n    0.0,\n    0.0,\n    4.358447375590962e-05,\n    0.0,\n    0.0,\n    0.0,\n    0.0,\n    4.645933441447346e-05,\n    0.0,\n    0.0,\n    0.0,\n    0.0,\n    0.0515000000000001,\n    0.0,\n    0,\n    0],\n   [3.4095744,\n    0.0,\n    0.0,\n    0.0,\n    0.0,\n    1.0,\n    0.0,\n    0.0,\n    0.0,\n    0.0,\n    0.0,\n    0.0,\n    0.0,\n    0.0,\n    0.0,\n    1.7543975812787366e-05,\n    0.0,\n    0.0,\n    0.0,\n    0.0,\n    1.6441110002077736e-05,\n    0.0,\n    0.0,\n    0.0,\n    0.0,\n    0.057499999999999996,\n    0,\n    0],\n   [1.5707963267948966,\n    0.0,\n    0.0,\n    0.0,\n    0.0,\n    1.0,\n    0.0,\n    0.0,\n    0.0,\n    0.0,\n    0.0,\n    0.0,\n    0.0,\n    0.0,\n    0.0,\n    1.7543975812787366e-05,\n    0.0,\n    0.0,\n    0.0,\n    0.0,\n    1.6441110002077736e-05,\n    0.0,\n    0.0,\n    0.0,\n    0.0,\n    0.057499999999999996,\n    0,\n    0],\n   [0.0,\n    0.0,\n    0.0,\n    1.0,\n    0.0,\n    0.0,\n    0.0,\n    0.0,\n    0.0,\n    0.0,\n    0.0,\n    0.0,\n    0.0,\n    0.0,\n    0.0,\n    1.7543975812787366e-05,\n    0.0,\n    0.0,\n    0.0,\n    0.0,\n    1.6441110002077736e-05,\n    0.0,\n    0.0,\n    0.0,\n    0.0,\n    0.057499999999999996,\n    0.0006789531879417325,\n    35.55555555555556],\n   [1.5707963267948966,\n    0.0,\n    0.0,\n    0.0,\n    0.0,\n    1.0,\n    0.0,\n    0.0,\n    0.0,\n    0.0,\n    0.0,\n    0.0,\n    0.0,\n    0.0,\n    0.0,\n    1.7543975812787366e-05,\n    0.0,\n    0.0,\n    0.0,\n    0.0,\n    1.6441110002077736e-05,\n    0.0,\n    0.0,\n    0.0,\n    0.0,\n    0.057499999999999996,\n    0,\n    0],\n   [0.0,\n    0.0,\n    0.0,\n    0.0,\n    0.0,\n    0.0,\n    0.0,\n    0.0,\n    1.0,\n    0.0,\n    0.0,\n    0.0,\n    0.0,\n    0.0,\n    4.358447375590962e-05,\n    1.7543975812787366e-05,\n    0.0,\n    0.0,\n    0.0,\n    4.645933441447346e-05,\n    1.6441110002077736e-05,\n    0.0,\n    0.0,\n    0.0,\n    0.0515000000000001,\n    0.057499999999999996,\n    0.02043493012013503,\n    519.1111111111111],\n   [-0.7853981633974483,\n    0.0,\n    0.0,\n    0.0,\n    0.0,\n    1.0,\n    0.0,\n    0.0,\n    0.0,\n    0.0,\n    0.0,\n    0.0,\n    0.0,\n    0.0,\n    0.0,\n    1.7543975812787366e-05,\n    0.0,\n    0.0,\n    0.0,\n    0.0,\n    1.6441110002077736e-05,\n    0.0,\n    0.0,\n    0.0,\n    0.0,\n    0.057499999999999996,\n    0,\n    0],\n   [0.0,\n    0.0,\n    0.0,\n    0.0,\n    0.0,\n    0.0,\n    0.0,\n    0.0,\n    1.0,\n    0.0,\n    0.0,\n    0.0,\n    0.0,\n    0.0,\n    4.358447375590962e-05,\n    1.7543975812787366e-05,\n    0.0,\n    0.0,\n    0.0,\n    4.645933441447346e-05,\n    1.6441110002077736e-05,\n    0.0,\n    0.0,\n    0.0,\n    0.0515000000000001,\n    0.057499999999999996,\n    0.02043493012013503,\n    519.1111111111111],\n   [0.0,\n    0.0,\n    0.0,\n    0.0,\n    0.0,\n    0.0,\n    0.0,\n    0.0,\n    1.0,\n    0.0,\n    0.0,\n    0.0,\n    0.0,\n    0.0,\n    4.358447375590962e-05,\n    1.7543975812787366e-05,\n    0.0,\n    0.0,\n    0.0,\n    4.645933441447346e-05,\n    1.6441110002077736e-05,\n    0.0,\n    0.0,\n    0.0,\n    0.0515000000000001,\n    0.057499999999999996,\n    0.02043493012013503,\n    483.55555555555554],\n   [0.0,\n    0.0,\n    0.0,\n    0.0,\n    0.0,\n    0.0,\n    0.0,\n    0.0,\n    1.0,\n    0.0,\n    0.0,\n    0.0,\n    0.0,\n    0.0,\n    4.358447375590962e-05,\n    1.7543975812787366e-05,\n    0.0,\n    0.0,\n    0.0,\n    4.645933441447346e-05,\n    1.6441110002077736e-05,\n    0.0,\n    0.0,\n    0.0,\n    0.0515000000000001,\n    0.057499999999999996,\n    0.02043493012013503,\n    519.1111111111111],\n   [0.0,\n    0.0,\n    0.0,\n    0.0,\n    0.0,\n    0.0,\n    0.0,\n    0.0,\n    1.0,\n    0.0,\n    0.0,\n    0.0,\n    8.305997230317399e-05,\n    0.0,\n    4.358447375590962e-05,\n    0.0,\n    0.0,\n    0.00011553074510239035,\n    0.0,\n    4.645933441447346e-05,\n    0.0,\n    0.0,\n    0.020000000000000018,\n    0.0,\n    0.0515000000000001,\n    0.0,\n    0.009799775939734023,\n    497.77777777777777],\n   [0.7853981633974483,\n    0.0,\n    0.0,\n    0.0,\n    0.0,\n    1.0,\n    0.0,\n    0.0,\n    0.0,\n    0.0,\n    0.0,\n    0.0,\n    0.0,\n    0.0,\n    4.358447375590962e-05,\n    0.0,\n    0.0,\n    0.0,\n    0.0,\n    4.645933441447346e-05,\n    0.0,\n    0.0,\n    0.0,\n    0.0,\n    0.0515000000000001,\n    0.0,\n    0,\n    0],\n   [0.0,\n    0.0,\n    0.0,\n    0.0,\n    0.0,\n    0.0,\n    0.0,\n    0.0,\n    1.0,\n    0.0,\n    0.0,\n    0.0,\n    0.0,\n    0.0,\n    4.358447375590962e-05,\n    1.7543975812787366e-05,\n    0.0,\n    0.0,\n    0.0,\n    4.645933441447346e-05,\n    1.6441110002077736e-05,\n    0.0,\n    0.0,\n    0.0,\n    0.0515000000000001,\n    0.057499999999999996,\n    0.02043493012013503,\n    483.55555555555554],\n   [-0.7853981633974483,\n    0.0,\n    0.0,\n    0.0,\n    0.0,\n    1.0,\n    0.0,\n    0.0,\n    0.0,\n    0.0,\n    0.0,\n    0.0,\n    0.0,\n    0.0,\n    4.358447375590962e-05,\n    0.0,\n    0.0,\n    0.0,\n    0.0,\n    4.645933441447346e-05,\n    0.0,\n    0.0,\n    0.0,\n    0.0,\n    0.0515000000000001,\n    0.0,\n    0,\n    0],\n   [0.0,\n    0.0,\n    0.0,\n    0.0,\n    0.0,\n    0.0,\n    0.0,\n    0.0,\n    1.0,\n    0.0,\n    0.0,\n    0.0,\n    8.305997230317399e-05,\n    0.0,\n    4.358447375590962e-05,\n    0.0,\n    0.0,\n    0.00011553074510239035,\n    0.0,\n    4.645933441447346e-05,\n    0.0,\n    0.0,\n    0.020000000000000018,\n    0.0,\n    0.0515000000000001,\n    0.0,\n    0.009799775939734023,\n    497.77777777777777],\n   [0.7853981633974483,\n    0.0,\n    0.0,\n    0.0,\n    0.0,\n    1.0,\n    0.0,\n    0.0,\n    0.0,\n    0.0,\n    0.0,\n    0.0,\n    0.0,\n    0.0,\n    0.0,\n    1.7543975812787366e-05,\n    0.0,\n    0.0,\n    0.0,\n    0.0,\n    1.6441110002077736e-05,\n    0.0,\n    0.0,\n    0.0,\n    0.0,\n    0.057499999999999996,\n    0,\n    0],\n   [0.0,\n    0.0,\n    0.0,\n    0.0,\n    0.0,\n    0.0,\n    0.0,\n    0.0,\n    1.0,\n    0.0,\n    0.0,\n    0.0,\n    0.0,\n    0.0,\n    4.358447375590962e-05,\n    1.7543975812787366e-05,\n    0.0,\n    0.0,\n    0.0,\n    4.645933441447346e-05,\n    1.6441110002077736e-05,\n    0.0,\n    0.0,\n    0.0,\n    0.0515000000000001,\n    0.057499999999999996,\n    0.02043493012013503,\n    519.1111111111111],\n   [0.0,\n    0.0,\n    0.0,\n    0.0,\n    0.0,\n    0.0,\n    0.0,\n    0.0,\n    1.0,\n    0.0,\n    0.0,\n    0.0,\n    0.0,\n    0.0,\n    4.358447375590962e-05,\n    1.7543975812787366e-05,\n    0.0,\n    0.0,\n    0.0,\n    4.645933441447346e-05,\n    1.6441110002077736e-05,\n    0.0,\n    0.0,\n    0.0,\n    0.0515000000000001,\n    0.057499999999999996,\n    0.02043493012013503,\n    483.55555555555554],\n   [0.0,\n    0.0,\n    0.0,\n    0.0,\n    0.0,\n    0.0,\n    0.0,\n    0.0,\n    1.0,\n    0.0,\n    0.0,\n    0.0,\n    0.0,\n    0.0,\n    4.358447375590962e-05,\n    1.7543975812787366e-05,\n    0.0,\n    0.0,\n    0.0,\n    4.645933441447346e-05,\n    1.6441110002077736e-05,\n    0.0,\n    0.0,\n    0.0,\n    0.0515000000000001,\n    0.057499999999999996,\n    0.02043493012013503,\n    519.1111111111111],\n   [0.0,\n    0.0,\n    0.0,\n    0.0,\n    0.0,\n    0.0,\n    0.0,\n    0.0,\n    1.0,\n    0.0,\n    0.0,\n    0.0,\n    8.305997230317399e-05,\n    0.0,\n    4.358447375590962e-05,\n    0.0,\n    0.0,\n    0.00011553074510239035,\n    0.0,\n    4.645933441447346e-05,\n    0.0,\n    0.0,\n    0.020000000000000018,\n    0.0,\n    0.0515000000000001,\n    0.0,\n    0.009799775939734023,\n    497.77777777777777],\n   [0.7853981633974483,\n    0.0,\n    0.0,\n    0.0,\n    0.0,\n    1.0,\n    0.0,\n    0.0,\n    0.0,\n    0.0,\n    0.0,\n    0.0,\n    8.305997230317399e-05,\n    0.0,\n    0.0,\n    0.0,\n    0.0,\n    0.00011553074510239035,\n    0.0,\n    0.0,\n    0.0,\n    0.0,\n    0.020000000000000018,\n    0.0,\n    0.0,\n    0.0,\n    0,\n    0],\n   [-0.7853981633974483,\n    0.0,\n    0.0,\n    0.0,\n    0.0,\n    1.0,\n    0.0,\n    0.0,\n    0.0,\n    0.0,\n    0.0,\n    0.0,\n    0.0,\n    0.0,\n    4.358447375590962e-05,\n    0.0,\n    0.0,\n    0.0,\n    0.0,\n    4.645933441447346e-05,\n    0.0,\n    0.0,\n    0.0,\n    0.0,\n    0.0515000000000001,\n    0.0,\n    0,\n    0],\n   [0.0,\n    0.0,\n    0.0,\n    0.0,\n    0.0,\n    0.0,\n    0.0,\n    0.0,\n    1.0,\n    0.0,\n    0.0,\n    0.0,\n    8.305997230317399e-05,\n    0.0,\n    4.358447375590962e-05,\n    0.0,\n    0.0,\n    0.00011553074510239035,\n    0.0,\n    4.645933441447346e-05,\n    0.0,\n    0.0,\n    0.020000000000000018,\n    0.0,\n    0.0515000000000001,\n    0.0,\n    0.009799775939734023,\n    497.77777777777777],\n   [0.0,\n    0.0,\n    0.0,\n    0.0,\n    0.0,\n    0.0,\n    0.0,\n    0.0,\n    1.0,\n    0.0,\n    0.0,\n    5.9698643286635694e-05,\n    8.305997230317399e-05,\n    0.0,\n    0.0,\n    0.0,\n    9.355584184359312e-05,\n    0.00011553074510239035,\n    0.0,\n    0.0,\n    0.0,\n    0.026100000000000012,\n    0.020000000000000018,\n    0.0,\n    0.0,\n    0.0,\n    0.008339674869236618,\n    305.77777777777777],\n   [0.746975130757748,\n    0.0,\n    0.0,\n    0.0,\n    0.0,\n    1.0,\n    0.0,\n    0.0,\n    0.0,\n    0.0,\n    0.0,\n    0.0,\n    8.305997230317399e-05,\n    0.0,\n    0.0,\n    0.0,\n    0.0,\n    0.00011553074510239035,\n    0.0,\n    0.0,\n    0.0,\n    0.0,\n    0.020000000000000018,\n    0.0,\n    0.0,\n    0.0,\n    0,\n    0],\n   [0.0,\n    0.0,\n    0.0,\n    0.0,\n    0.0,\n    0.0,\n    0.0,\n    0.0,\n    1.0,\n    0.0,\n    0.0,\n    5.9698643286635694e-05,\n    8.305997230317399e-05,\n    0.0,\n    0.0,\n    0.0,\n    9.355584184359312e-05,\n    0.00011553074510239035,\n    0.0,\n    0.0,\n    0.0,\n    0.026100000000000012,\n    0.020000000000000018,\n    0.0,\n    0.0,\n    0.0,\n    0.008339674869236618,\n    305.77777777777777],\n   [0.0,\n    0.0,\n    0.0,\n    0.0,\n    1.0,\n    0.0,\n    0.0,\n    0.0,\n    0.0,\n    0.0,\n    0.0,\n    0.0,\n    0.0,\n    0.0,\n    4.358447375590962e-05,\n    0.0,\n    0.0,\n    0.0,\n    0.0,\n    4.645933441447346e-05,\n    0.0,\n    0.0,\n    0.0,\n    0.0,\n    0.0515000000000001,\n    0.0,\n    0.0003925363414603665,\n    35.55555555555556],\n   [0.7853981633974483,\n    0.0,\n    0.0,\n    0.0,\n    0.0,\n    1.0,\n    0.0,\n    0.0,\n    0.0,\n    0.0,\n    0.0,\n    0.0,\n    0.0,\n    0.0,\n    0.0,\n    1.7543975812787366e-05,\n    0.0,\n    0.0,\n    0.0,\n    0.0,\n    1.6441110002077736e-05,\n    0.0,\n    0.0,\n    0.0,\n    0.0,\n    0.057499999999999996,\n    0,\n    0],\n   [1.5707963267948966,\n    0.0,\n    0.0,\n    0.0,\n    0.0,\n    1.0,\n    0.0,\n    0.0,\n    0.0,\n    0.0,\n    0.0,\n    0.0,\n    0.0,\n    0.0,\n    0.0,\n    1.7543975812787366e-05,\n    0.0,\n    0.0,\n    0.0,\n    0.0,\n    1.6441110002077736e-05,\n    0.0,\n    0.0,\n    0.0,\n    0.0,\n    0.057499999999999996,\n    0,\n    0],\n   [0.0,\n    0.0,\n    0.0,\n    1.0,\n    0.0,\n    0.0,\n    0.0,\n    0.0,\n    0.0,\n    0.0,\n    0.0,\n    0.0,\n    0.0,\n    0.0,\n    0.0,\n    1.7543975812787366e-05,\n    0.0,\n    0.0,\n    0.0,\n    0.0,\n    1.6441110002077736e-05,\n    0.0,\n    0.0,\n    0.0,\n    0.0,\n    0.057499999999999996,\n    0.0006789531879417325,\n    35.55555555555556],\n   [1.5707963267948966,\n    0.0,\n    0.0,\n    0.0,\n    0.0,\n    1.0,\n    0.0,\n    0.0,\n    0.0,\n    0.0,\n    0.0,\n    0.0,\n    0.0,\n    0.0,\n    0.0,\n    1.7543975812787366e-05,\n    0.0,\n    0.0,\n    0.0,\n    0.0,\n    1.6441110002077736e-05,\n    0.0,\n    0.0,\n    0.0,\n    0.0,\n    0.057499999999999996,\n    0,\n    0],\n   [0.0,\n    0.0,\n    0.0,\n    0.0,\n    0.0,\n    0.0,\n    0.0,\n    1.0,\n    0.0,\n    0.0,\n    0.0,\n    0.0,\n    0.0,\n    0.0,\n    0.0,\n    1.7543975812787366e-05,\n    0.0,\n    0.0,\n    0.0,\n    0.0,\n    1.6441110002077736e-05,\n    0.0,\n    0.0,\n    0.0,\n    0.0,\n    0.057499999999999996,\n    0.0006789531879417325,\n    35.55555555555556],\n   [0.0,\n    0.0,\n    0.0,\n    0.0,\n    0.0,\n    0.0,\n    0.0,\n    0.0,\n    0.0,\n    1.0,\n    0.0,\n    5.9698643286635694e-05,\n    8.305997230317399e-05,\n    0.00010377694598809795,\n    4.358447375590962e-05,\n    1.7543975812787366e-05,\n    9.355584184359312e-05,\n    0.00011553074510239035,\n    9.477169960638749e-05,\n    4.645933441447346e-05,\n    1.6441110002077736e-05,\n    0.026100000000000012,\n    0.020000000000000018,\n    0.016599999999999948,\n    0.0515000000000001,\n    0.057499999999999996,\n    0.0,\n    0.0],\n   [0.0,\n    0.0,\n    0.0,\n    0.0,\n    0.0,\n    0.0,\n    0.0,\n    0.0,\n    0.0,\n    0.0,\n    1.0,\n    0.0,\n    8.305997230317399e-05,\n    0.0,\n    0.0,\n    0.0,\n    0.0,\n    0.00011553074510239035,\n    0.0,\n    0.0,\n    0.0,\n    0.0,\n    0.020000000000000018,\n    0.0,\n    0.0,\n    0.0,\n    0.0,\n    0.0],\n   [0.0,\n    0.0,\n    0.0,\n    0.0,\n    0.0,\n    0.0,\n    0.0,\n    0.0,\n    0.0,\n    0.0,\n    1.0,\n    0.0,\n    0.0,\n    0.0,\n    4.358447375590962e-05,\n    0.0,\n    0.0,\n    0.0,\n    0.0,\n    4.645933441447346e-05,\n    0.0,\n    0.0,\n    0.0,\n    0.0,\n    0.0515000000000001,\n    0.0,\n    0.0,\n    0.0],\n   [0.0,\n    0.0,\n    0.0,\n    0.0,\n    0.0,\n    0.0,\n    0.0,\n    0.0,\n    0.0,\n    0.0,\n    1.0,\n    0.0,\n    0.0,\n    0.00010377694598809795,\n    0.0,\n    0.0,\n    0.0,\n    0.0,\n    9.477169960638749e-05,\n    0.0,\n    0.0,\n    0.0,\n    0.0,\n    0.016599999999999948,\n    0.0,\n    0.0,\n    0.0,\n    0.0],\n   [0.0,\n    0.0,\n    0.0,\n    0.0,\n    0.0,\n    0.0,\n    0.0,\n    0.0,\n    0.0,\n    0.0,\n    1.0,\n    5.9698643286635694e-05,\n    0.0,\n    0.0,\n    0.0,\n    0.0,\n    9.355584184359312e-05,\n    0.0,\n    0.0,\n    0.0,\n    0.0,\n    0.026100000000000012,\n    0.0,\n    0.0,\n    0.0,\n    0.0,\n    0.0,\n    0.0],\n   [0.0,\n    0.0,\n    0.0,\n    0.0,\n    0.0,\n    0.0,\n    0.0,\n    0.0,\n    0.0,\n    0.0,\n    1.0,\n    0.0,\n    0.0,\n    0.0,\n    0.0,\n    1.7543975812787366e-05,\n    0.0,\n    0.0,\n    0.0,\n    0.0,\n    1.6441110002077736e-05,\n    0.0,\n    0.0,\n    0.0,\n    0.0,\n    0.057499999999999996,\n    0.0,\n    0.0]],\n  'DAGInNode': [[0, 0],\n   [0, 0],\n   [0, 0],\n   [0, 0],\n   [0, 0],\n   [0, 0],\n   [0, 0],\n   [0, 0],\n   [0, 0],\n   [0, 0]],\n  'DAGOutNode': [[0, 0],\n   [0, 0],\n   [0, 0],\n   [0, 0],\n   [0, 0],\n   [0, 0],\n   [0, 0],\n   [0, 0],\n   [0, 0],\n   [0, 0]]},\n 'edges': {'DAGInNode_wire_DAGOpNode': {'edge_index': [[0, 1, 2, 3, 4],\n    [0, 5, 8, 10, 40]],\n   'edge_attr': [[5.9698643286635694e-05,\n     9.355584184359312e-05,\n     0.026100000000000012],\n    [8.305997230317399e-05, 0.00011553074510239035, 0.020000000000000018],\n    [0.00010377694598809795, 9.477169960638749e-05, 0.016599999999999948],\n    [4.358447375590962e-05, 4.645933441447346e-05, 0.0515000000000001],\n    [1.7543975812787366e-05, 1.6441110002077736e-05, 0.057499999999999996]]},\n  'DAGOpNode_wire_DAGOpNode': {'edge_index': [[0,\n     1,\n     2,\n     3,\n     4,\n     5,\n     6,\n     7,\n     8,\n     8,\n     9,\n     10,\n     10,\n     11,\n     12,\n     12,\n     13,\n     14,\n     15,\n     15,\n     16,\n     16,\n     17,\n     17,\n     18,\n     18,\n     19,\n     19,\n     20,\n     21,\n     22,\n     22,\n     23,\n     24,\n     25,\n     26,\n     26,\n     27,\n     27,\n     28,\n     28,\n     29,\n     29,\n     30,\n     31,\n     32,\n     33,\n     34,\n     35,\n     36,\n     37,\n     38,\n     39,\n     40,\n     41,\n     42,\n     43,\n     44,\n     44,\n     45,\n     46,\n     46,\n     47,\n     47,\n     48,\n     48,\n     49,\n     49,\n     50,\n     51,\n     51,\n     52,\n     53,\n     53,\n     54,\n     55,\n     55,\n     56,\n     56,\n     57,\n     57,\n     58,\n     58,\n     59,\n     60,\n     61,\n     61,\n     62,\n     62,\n     63,\n     64,\n     64,\n     65,\n     66,\n     67,\n     68,\n     69,\n     70,\n     71,\n     71,\n     71,\n     71,\n     71],\n    [1,\n     2,\n     3,\n     4,\n     27,\n     6,\n     7,\n     8,\n     12,\n     9,\n     10,\n     15,\n     11,\n     12,\n     14,\n     13,\n     15,\n     19,\n     16,\n     16,\n     17,\n     17,\n     18,\n     18,\n     36,\n     19,\n     21,\n     20,\n     22,\n     22,\n     26,\n     23,\n     24,\n     25,\n     26,\n     30,\n     27,\n     28,\n     28,\n     29,\n     29,\n     62,\n     49,\n     31,\n     32,\n     33,\n     34,\n     35,\n     71,\n     37,\n     38,\n     39,\n     44,\n     41,\n     42,\n     43,\n     44,\n     46,\n     45,\n     46,\n     47,\n     47,\n     48,\n     48,\n     51,\n     49,\n     53,\n     50,\n     51,\n     54,\n     52,\n     53,\n     58,\n     55,\n     55,\n     56,\n     56,\n     57,\n     57,\n     66,\n     58,\n     60,\n     59,\n     61,\n     61,\n     65,\n     62,\n     64,\n     63,\n     64,\n     71,\n     71,\n     71,\n     67,\n     68,\n     69,\n     70,\n     71,\n     76,\n     75,\n     74,\n     73,\n     72]],\n   'edge_attr': [[5.9698643286635694e-05,\n     9.355584184359312e-05,\n     0.026100000000000012],\n    [5.9698643286635694e-05, 9.355584184359312e-05, 0.026100000000000012],\n    [5.9698643286635694e-05, 9.355584184359312e-05, 0.026100000000000012],\n    [5.9698643286635694e-05, 9.355584184359312e-05, 0.026100000000000012],\n    [5.9698643286635694e-05, 9.355584184359312e-05, 0.026100000000000012],\n    [8.305997230317399e-05, 0.00011553074510239035, 0.020000000000000018],\n    [8.305997230317399e-05, 0.00011553074510239035, 0.020000000000000018],\n    [8.305997230317399e-05, 0.00011553074510239035, 0.020000000000000018],\n    [0.00010377694598809795, 9.477169960638749e-05, 0.016599999999999948],\n    [8.305997230317399e-05, 0.00011553074510239035, 0.020000000000000018],\n    [8.305997230317399e-05, 0.00011553074510239035, 0.020000000000000018],\n    [4.358447375590962e-05, 4.645933441447346e-05, 0.0515000000000001],\n    [8.305997230317399e-05, 0.00011553074510239035, 0.020000000000000018],\n    [8.305997230317399e-05, 0.00011553074510239035, 0.020000000000000018],\n    [0.00010377694598809795, 9.477169960638749e-05, 0.016599999999999948],\n    [8.305997230317399e-05, 0.00011553074510239035, 0.020000000000000018],\n    [8.305997230317399e-05, 0.00011553074510239035, 0.020000000000000018],\n    [0.00010377694598809795, 9.477169960638749e-05, 0.016599999999999948],\n    [4.358447375590962e-05, 4.645933441447346e-05, 0.0515000000000001],\n    [8.305997230317399e-05, 0.00011553074510239035, 0.020000000000000018],\n    [8.305997230317399e-05, 0.00011553074510239035, 0.020000000000000018],\n    [4.358447375590962e-05, 4.645933441447346e-05, 0.0515000000000001],\n    [4.358447375590962e-05, 4.645933441447346e-05, 0.0515000000000001],\n    [8.305997230317399e-05, 0.00011553074510239035, 0.020000000000000018],\n    [4.358447375590962e-05, 4.645933441447346e-05, 0.0515000000000001],\n    [8.305997230317399e-05, 0.00011553074510239035, 0.020000000000000018],\n    [0.00010377694598809795, 9.477169960638749e-05, 0.016599999999999948],\n    [8.305997230317399e-05, 0.00011553074510239035, 0.020000000000000018],\n    [8.305997230317399e-05, 0.00011553074510239035, 0.020000000000000018],\n    [0.00010377694598809795, 9.477169960638749e-05, 0.016599999999999948],\n    [8.305997230317399e-05, 0.00011553074510239035, 0.020000000000000018],\n    [0.00010377694598809795, 9.477169960638749e-05, 0.016599999999999948],\n    [0.00010377694598809795, 9.477169960638749e-05, 0.016599999999999948],\n    [0.00010377694598809795, 9.477169960638749e-05, 0.016599999999999948],\n    [0.00010377694598809795, 9.477169960638749e-05, 0.016599999999999948],\n    [0.00010377694598809795, 9.477169960638749e-05, 0.016599999999999948],\n    [8.305997230317399e-05, 0.00011553074510239035, 0.020000000000000018],\n    [5.9698643286635694e-05, 9.355584184359312e-05, 0.026100000000000012],\n    [8.305997230317399e-05, 0.00011553074510239035, 0.020000000000000018],\n    [8.305997230317399e-05, 0.00011553074510239035, 0.020000000000000018],\n    [5.9698643286635694e-05, 9.355584184359312e-05, 0.026100000000000012],\n    [5.9698643286635694e-05, 9.355584184359312e-05, 0.026100000000000012],\n    [8.305997230317399e-05, 0.00011553074510239035, 0.020000000000000018],\n    [0.00010377694598809795, 9.477169960638749e-05, 0.016599999999999948],\n    [0.00010377694598809795, 9.477169960638749e-05, 0.016599999999999948],\n    [0.00010377694598809795, 9.477169960638749e-05, 0.016599999999999948],\n    [0.00010377694598809795, 9.477169960638749e-05, 0.016599999999999948],\n    [0.00010377694598809795, 9.477169960638749e-05, 0.016599999999999948],\n    [0.00010377694598809795, 9.477169960638749e-05, 0.016599999999999948],\n    [4.358447375590962e-05, 4.645933441447346e-05, 0.0515000000000001],\n    [4.358447375590962e-05, 4.645933441447346e-05, 0.0515000000000001],\n    [4.358447375590962e-05, 4.645933441447346e-05, 0.0515000000000001],\n    [4.358447375590962e-05, 4.645933441447346e-05, 0.0515000000000001],\n    [1.7543975812787366e-05, 1.6441110002077736e-05, 0.057499999999999996],\n    [1.7543975812787366e-05, 1.6441110002077736e-05, 0.057499999999999996],\n    [1.7543975812787366e-05, 1.6441110002077736e-05, 0.057499999999999996],\n    [1.7543975812787366e-05, 1.6441110002077736e-05, 0.057499999999999996],\n    [4.358447375590962e-05, 4.645933441447346e-05, 0.0515000000000001],\n    [1.7543975812787366e-05, 1.6441110002077736e-05, 0.057499999999999996],\n    [1.7543975812787366e-05, 1.6441110002077736e-05, 0.057499999999999996],\n    [4.358447375590962e-05, 4.645933441447346e-05, 0.0515000000000001],\n    [1.7543975812787366e-05, 1.6441110002077736e-05, 0.057499999999999996],\n    [1.7543975812787366e-05, 1.6441110002077736e-05, 0.057499999999999996],\n    [4.358447375590962e-05, 4.645933441447346e-05, 0.0515000000000001],\n    [1.7543975812787366e-05, 1.6441110002077736e-05, 0.057499999999999996],\n    [4.358447375590962e-05, 4.645933441447346e-05, 0.0515000000000001],\n    [8.305997230317399e-05, 0.00011553074510239035, 0.020000000000000018],\n    [4.358447375590962e-05, 4.645933441447346e-05, 0.0515000000000001],\n    [4.358447375590962e-05, 4.645933441447346e-05, 0.0515000000000001],\n    [1.7543975812787366e-05, 1.6441110002077736e-05, 0.057499999999999996],\n    [4.358447375590962e-05, 4.645933441447346e-05, 0.0515000000000001],\n    [4.358447375590962e-05, 4.645933441447346e-05, 0.0515000000000001],\n    [8.305997230317399e-05, 0.00011553074510239035, 0.020000000000000018],\n    [4.358447375590962e-05, 4.645933441447346e-05, 0.0515000000000001],\n    [1.7543975812787366e-05, 1.6441110002077736e-05, 0.057499999999999996],\n    [4.358447375590962e-05, 4.645933441447346e-05, 0.0515000000000001],\n    [1.7543975812787366e-05, 1.6441110002077736e-05, 0.057499999999999996],\n    [1.7543975812787366e-05, 1.6441110002077736e-05, 0.057499999999999996],\n    [4.358447375590962e-05, 4.645933441447346e-05, 0.0515000000000001],\n    [1.7543975812787366e-05, 1.6441110002077736e-05, 0.057499999999999996],\n    [4.358447375590962e-05, 4.645933441447346e-05, 0.0515000000000001],\n    [4.358447375590962e-05, 4.645933441447346e-05, 0.0515000000000001],\n    [8.305997230317399e-05, 0.00011553074510239035, 0.020000000000000018],\n    [8.305997230317399e-05, 0.00011553074510239035, 0.020000000000000018],\n    [4.358447375590962e-05, 4.645933441447346e-05, 0.0515000000000001],\n    [4.358447375590962e-05, 4.645933441447346e-05, 0.0515000000000001],\n    [8.305997230317399e-05, 0.00011553074510239035, 0.020000000000000018],\n    [5.9698643286635694e-05, 9.355584184359312e-05, 0.026100000000000012],\n    [8.305997230317399e-05, 0.00011553074510239035, 0.020000000000000018],\n    [8.305997230317399e-05, 0.00011553074510239035, 0.020000000000000018],\n    [5.9698643286635694e-05, 9.355584184359312e-05, 0.026100000000000012],\n    [8.305997230317399e-05, 0.00011553074510239035, 0.020000000000000018],\n    [4.358447375590962e-05, 4.645933441447346e-05, 0.0515000000000001],\n    [1.7543975812787366e-05, 1.6441110002077736e-05, 0.057499999999999996],\n    [1.7543975812787366e-05, 1.6441110002077736e-05, 0.057499999999999996],\n    [1.7543975812787366e-05, 1.6441110002077736e-05, 0.057499999999999996],\n    [1.7543975812787366e-05, 1.6441110002077736e-05, 0.057499999999999996],\n    [1.7543975812787366e-05, 1.6441110002077736e-05, 0.057499999999999996],\n    [1.7543975812787366e-05, 1.6441110002077736e-05, 0.057499999999999996],\n    [5.9698643286635694e-05, 9.355584184359312e-05, 0.026100000000000012],\n    [0.00010377694598809795, 9.477169960638749e-05, 0.016599999999999948],\n    [4.358447375590962e-05, 4.645933441447346e-05, 0.0515000000000001],\n    [8.305997230317399e-05, 0.00011553074510239035, 0.020000000000000018]]},\n  'DAGOpNode_wire_DAGOutNode': {'edge_index': [[72, 73, 74, 75, 76],\n    [1, 3, 2, 0, 4]],\n   'edge_attr': [[8.305997230317399e-05,\n     0.00011553074510239035,\n     0.020000000000000018],\n    [4.358447375590962e-05, 4.645933441447346e-05, 0.0515000000000001],\n    [0.00010377694598809795, 9.477169960638749e-05, 0.016599999999999948],\n    [5.9698643286635694e-05, 9.355584184359312e-05, 0.026100000000000012],\n    [1.7543975812787366e-05, 1.6441110002077736e-05, 0.057499999999999996]]}}}"
     },
     "execution_count": 7,
     "metadata": {},
     "output_type": "execute_result"
    }
   ],
   "source": [
    "pyg_d[0]['circuit_graph']"
   ],
   "metadata": {
    "collapsed": false
   }
  },
  {
   "cell_type": "code",
   "execution_count": 12,
   "outputs": [
    {
     "data": {
      "text/plain": "  0%|          | 0/15 [00:00<?, ?it/s]",
      "application/vnd.jupyter.widget-view+json": {
       "version_major": 2,
       "version_minor": 0,
       "model_id": "e385304d859043b68564b99caf639168"
      }
     },
     "metadata": {},
     "output_type": "display_data"
    },
    {
     "name": "stdout",
     "output_type": "stream",
     "text": [
      "11 1953\n"
     ]
    },
    {
     "data": {
      "text/plain": "  0%|          | 0/300 [00:00<?, ?it/s]",
      "application/vnd.jupyter.widget-view+json": {
       "version_major": 2,
       "version_minor": 0,
       "model_id": "a79bd7ce47f94c1a8188b30d0ceae4f7"
      }
     },
     "metadata": {},
     "output_type": "display_data"
    },
    {
     "name": "stdout",
     "output_type": "stream",
     "text": [
      "300\n",
      "12 1984\n"
     ]
    },
    {
     "data": {
      "text/plain": "  0%|          | 0/300 [00:00<?, ?it/s]",
      "application/vnd.jupyter.widget-view+json": {
       "version_major": 2,
       "version_minor": 0,
       "model_id": "5ae8270dd19b4e68aedff0b135b376a8"
      }
     },
     "metadata": {},
     "output_type": "display_data"
    },
    {
     "name": "stdout",
     "output_type": "stream",
     "text": [
      "300\n",
      "14 1990\n"
     ]
    },
    {
     "data": {
      "text/plain": "  0%|          | 0/300 [00:00<?, ?it/s]",
      "application/vnd.jupyter.widget-view+json": {
       "version_major": 2,
       "version_minor": 0,
       "model_id": "6b61985f62a547caaef95151e2dd0153"
      }
     },
     "metadata": {},
     "output_type": "display_data"
    },
    {
     "name": "stdout",
     "output_type": "stream",
     "text": [
      "300\n",
      "15 1960\n"
     ]
    },
    {
     "data": {
      "text/plain": "  0%|          | 0/300 [00:00<?, ?it/s]",
      "application/vnd.jupyter.widget-view+json": {
       "version_major": 2,
       "version_minor": 0,
       "model_id": "ae4fc639d1d249f58da4c273b52ae022"
      }
     },
     "metadata": {},
     "output_type": "display_data"
    },
    {
     "name": "stdout",
     "output_type": "stream",
     "text": [
      "300\n",
      "17 1984\n"
     ]
    },
    {
     "data": {
      "text/plain": "  0%|          | 0/300 [00:00<?, ?it/s]",
      "application/vnd.jupyter.widget-view+json": {
       "version_major": 2,
       "version_minor": 0,
       "model_id": "48f1061ca4b9434bbc467e70e3c8e74d"
      }
     },
     "metadata": {},
     "output_type": "display_data"
    },
    {
     "name": "stdout",
     "output_type": "stream",
     "text": [
      "300\n",
      "18 1953\n"
     ]
    },
    {
     "data": {
      "text/plain": "  0%|          | 0/300 [00:00<?, ?it/s]",
      "application/vnd.jupyter.widget-view+json": {
       "version_major": 2,
       "version_minor": 0,
       "model_id": "9f124a9d5fd24165aeeac2c08f8e6e0d"
      }
     },
     "metadata": {},
     "output_type": "display_data"
    },
    {
     "name": "stdout",
     "output_type": "stream",
     "text": [
      "300\n",
      "1 1990\n"
     ]
    },
    {
     "data": {
      "text/plain": "  0%|          | 0/300 [00:00<?, ?it/s]",
      "application/vnd.jupyter.widget-view+json": {
       "version_major": 2,
       "version_minor": 0,
       "model_id": "6b795c8b2dc24660bed4d7ab6689a273"
      }
     },
     "metadata": {},
     "output_type": "display_data"
    },
    {
     "name": "stdout",
     "output_type": "stream",
     "text": [
      "300\n",
      "2 1990\n"
     ]
    },
    {
     "data": {
      "text/plain": "  0%|          | 0/300 [00:00<?, ?it/s]",
      "application/vnd.jupyter.widget-view+json": {
       "version_major": 2,
       "version_minor": 0,
       "model_id": "d40bcd212654486da9aeb18dfd99c88e"
      }
     },
     "metadata": {},
     "output_type": "display_data"
    },
    {
     "name": "stdout",
     "output_type": "stream",
     "text": [
      "300\n",
      "3 1976\n"
     ]
    },
    {
     "data": {
      "text/plain": "  0%|          | 0/300 [00:00<?, ?it/s]",
      "application/vnd.jupyter.widget-view+json": {
       "version_major": 2,
       "version_minor": 0,
       "model_id": "54e8081452d94c549aecd5598c60a7b9"
      }
     },
     "metadata": {},
     "output_type": "display_data"
    },
    {
     "name": "stdout",
     "output_type": "stream",
     "text": [
      "300\n",
      "4 1984\n"
     ]
    },
    {
     "data": {
      "text/plain": "  0%|          | 0/300 [00:00<?, ?it/s]",
      "application/vnd.jupyter.widget-view+json": {
       "version_major": 2,
       "version_minor": 0,
       "model_id": "c1045cf8d18847039e1a1a123035433b"
      }
     },
     "metadata": {},
     "output_type": "display_data"
    },
    {
     "name": "stdout",
     "output_type": "stream",
     "text": [
      "300\n",
      "5 1990\n"
     ]
    },
    {
     "data": {
      "text/plain": "  0%|          | 0/300 [00:00<?, ?it/s]",
      "application/vnd.jupyter.widget-view+json": {
       "version_major": 2,
       "version_minor": 0,
       "model_id": "846c4fc4d8fd4f71b526088831fb1b74"
      }
     },
     "metadata": {},
     "output_type": "display_data"
    },
    {
     "name": "stdout",
     "output_type": "stream",
     "text": [
      "300\n",
      "6 1982\n"
     ]
    },
    {
     "data": {
      "text/plain": "  0%|          | 0/300 [00:00<?, ?it/s]",
      "application/vnd.jupyter.widget-view+json": {
       "version_major": 2,
       "version_minor": 0,
       "model_id": "b89de68d79814545abadb6123e4f8f3e"
      }
     },
     "metadata": {},
     "output_type": "display_data"
    },
    {
     "name": "stdout",
     "output_type": "stream",
     "text": [
      "300\n",
      "7 1982\n"
     ]
    },
    {
     "data": {
      "text/plain": "  0%|          | 0/300 [00:00<?, ?it/s]",
      "application/vnd.jupyter.widget-view+json": {
       "version_major": 2,
       "version_minor": 0,
       "model_id": "d5432b38ad864115863b7008438278b5"
      }
     },
     "metadata": {},
     "output_type": "display_data"
    },
    {
     "name": "stdout",
     "output_type": "stream",
     "text": [
      "300\n",
      "8 1978\n"
     ]
    },
    {
     "data": {
      "text/plain": "  0%|          | 0/300 [00:00<?, ?it/s]",
      "application/vnd.jupyter.widget-view+json": {
       "version_major": 2,
       "version_minor": 0,
       "model_id": "853dfa0319594b89ae653e04bb621bf6"
      }
     },
     "metadata": {},
     "output_type": "display_data"
    },
    {
     "name": "stdout",
     "output_type": "stream",
     "text": [
      "300\n",
      "9 1971\n"
     ]
    },
    {
     "data": {
      "text/plain": "  0%|          | 0/300 [00:00<?, ?it/s]",
      "application/vnd.jupyter.widget-view+json": {
       "version_major": 2,
       "version_minor": 0,
       "model_id": "4a433573ee7a444988c3ea841fd9baa1"
      }
     },
     "metadata": {},
     "output_type": "display_data"
    },
    {
     "name": "stdout",
     "output_type": "stream",
     "text": [
      "300\n"
     ]
    }
   ],
   "source": [
    "for depth, qc_list in tqdm_notebook(parsed.items()):\n",
    "    circuits = list(list(zip(*qc_list))[1])\n",
    "    print(int(depth), len(circuits))\n",
    "    entries = []\n",
    "    for circuit in tqdm_notebook(circuits[1400:1700]):\n",
    "        job_ideal = execute(circuit, **run_config_ideal)\n",
    "        job_noisy = execute(circuit, **run_config_noisy2)\n",
    "\n",
    "        counts_ideal = job_ideal.result().get_counts()\n",
    "        counts_noisy = job_noisy.result().get_counts()\n",
    "\n",
    "        ideal_exp_val = cal_z_exp(counts_ideal)\n",
    "        noisy_exp_val = cal_z_exp(counts_noisy)\n",
    "\n",
    "        graph_data = circuit_to_graph_data_json(\n",
    "            circuit=circuit,\n",
    "            properties=properties2,\n",
    "            use_qubit_features=True,\n",
    "            use_gate_features=True,\n",
    "        )\n",
    "\n",
    "        entry = ExpValueEntry(\n",
    "            circuit_graph=graph_data,\n",
    "            observable=[],\n",
    "            ideal_exp_value=ideal_exp_val.tolist(),\n",
    "            noisy_exp_values=[noisy_exp_val.tolist()],\n",
    "            circuit_depth=circuit.depth()\n",
    "        )\n",
    "        entries.append(entry.to_dict())\n",
    "\n",
    "    print(len(entries))\n",
    "    with open(f'./data/circ_parsed_pyg_data/finetune/fakebelem_depth{int(depth)}.json', 'w') as out_file:\n",
    "        json.dump(entries, out_file)"
   ],
   "metadata": {
    "collapsed": false
   }
  },
  {
   "cell_type": "code",
   "execution_count": null,
   "outputs": [],
   "source": [],
   "metadata": {
    "collapsed": false
   }
  }
 ],
 "metadata": {
  "kernelspec": {
   "display_name": "Python 3",
   "language": "python",
   "name": "python3"
  },
  "language_info": {
   "codemirror_mode": {
    "name": "ipython",
    "version": 2
   },
   "file_extension": ".py",
   "mimetype": "text/x-python",
   "name": "python",
   "nbconvert_exporter": "python",
   "pygments_lexer": "ipython2",
   "version": "2.7.6"
  }
 },
 "nbformat": 4,
 "nbformat_minor": 0
}
