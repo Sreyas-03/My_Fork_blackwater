{
 "cells": [
  {
   "cell_type": "code",
   "execution_count": 3,
   "metadata": {},
   "outputs": [],
   "source": [
    "import json, os, pickle, random\n",
    "import numpy as np\n",
    "from tqdm.notebook import tqdm\n",
    "import pandas as pd\n",
    "\n",
    "import torch\n",
    "from torch.utils.data import Dataset, DataLoader, TensorDataset\n",
    "from torch.optim.lr_scheduler import ReduceLROnPlateau\n",
    "import torch.nn as nn\n",
    "\n",
    "import qiskit\n",
    "from qiskit import QuantumCircuit, execute\n",
    "from qiskit.compiler import transpile\n",
    "from qiskit_aer import AerSimulator, QasmSimulator\n",
    "from qiskit.converters import circuit_to_dag, dag_to_circuit\n",
    "from qiskit.quantum_info import SparsePauliOp, Operator\n",
    "from qiskit.circuit.library import CXGate, RXGate, IGate, ZGate\n",
    "from qiskit.providers.fake_provider import FakeMontreal, FakeLima\n",
    "\n",
    "from blackwater.data.utils import (\n",
    "    generate_random_pauli_sum_op,\n",
    "    create_estimator_meas_data,\n",
    "    circuit_to_graph_data_json,\n",
    "    get_backend_properties_v1,\n",
    "    encode_pauli_sum_op,\n",
    "    create_meas_data_from_estimators\n",
    ")\n",
    "\n",
    "from mlp import MLP1, MLP2, MLP3, encode_data\n",
    "\n",
    "from mbd_utils import cal_z_exp, generate_disorder, construct_mbl_circuit, calc_imbalance, modify_and_add_noise_to_model\n",
    "\n",
    "import matplotlib.pyplot as plt\n",
    "import seaborn as sns\n",
    "from noise_utils import AddNoise"
   ]
  },
  {
   "cell_type": "code",
   "execution_count": 4,
   "outputs": [],
   "source": [
    "def fix_random_seed(seed=0):\n",
    "    random.seed(seed)\n",
    "    os.environ['PYTHONHASHSEED'] = str(seed)\n",
    "    np.random.seed(seed)\n",
    "    torch.manual_seed(seed)\n",
    "    torch.cuda.manual_seed(seed)\n",
    "    torch.cuda.manual_seed_all(seed)  # if you are using multi-GPU.\n",
    "    torch.backends.cudnn.benchmark = False\n",
    "    torch.backends.cudnn.deterministic = True\n",
    "    print(f'random seed fixed to {seed}')"
   ],
   "metadata": {
    "collapsed": false
   }
  },
  {
   "cell_type": "code",
   "execution_count": 5,
   "metadata": {},
   "outputs": [],
   "source": [
    "backend = FakeLima()\n",
    "properties = get_backend_properties_v1(backend)\n",
    "\n",
    "## Local\n",
    "backend_ideal = QasmSimulator() # Noiseless\n",
    "backend_noisy = AerSimulator.from_backend(FakeLima()) # Noisy\n",
    "\n",
    "run_config_ideal = {'shots': 10000, 'backend': backend_ideal, 'name': 'ideal'}\n",
    "run_config_noisy = {'shots': 10000, 'backend': backend_noisy, 'name': 'noisy'}"
   ]
  },
  {
   "cell_type": "code",
   "execution_count": 33,
   "outputs": [
    {
     "name": "stdout",
     "output_type": "stream",
     "text": [
      "random seed fixed to 0\n",
      "thetas [0.06896594 0.08987335 0.07574548 0.06847204 0.05323803 0.08116545\n",
      " 0.05498883 0.1120635 ]\n"
     ]
    }
   ],
   "source": [
    "backend = FakeLima()\n",
    "properties = get_backend_properties_v1(backend)\n",
    "\n",
    "# Local, coherent noise\n",
    "backend_ideal = QasmSimulator() # Noiseless\n",
    "backend_noisy_coherent, noise_model = AddNoise(backend=backend).add_coherent_noise(seed=0, theta=np.pi * 0.04, uniform=False, add_depolarization=True)\n",
    "\n",
    "run_config_ideal = {'shots': 10000, 'backend': backend_ideal, 'name': 'ideal'}\n",
    "run_config_noisy_coherent = {'shots': 10000, 'backend': backend_noisy_coherent, 'name': 'noisy_coherent'}\n",
    "\n",
    "num_qubit = 4"
   ],
   "metadata": {
    "collapsed": false
   }
  },
  {
   "cell_type": "code",
   "execution_count": 6,
   "metadata": {},
   "outputs": [],
   "source": [
    "def load_circuits(data_dir, f_ext='.json'):\n",
    "    circuits = []\n",
    "    ideal_exp_vals = []\n",
    "    noisy_exp_vals = []\n",
    "    data_files = [os.path.join(data_dir, f) for f in os.listdir(data_dir) if f.endswith(f_ext)]\n",
    "    for data_file in tqdm(data_files, leave=True):\n",
    "        if f_ext == '.json':\n",
    "            for entry in json.load(open(data_file, 'r')):\n",
    "                circuits.append(QuantumCircuit.from_qasm_str(entry['circuit']))\n",
    "                ideal_exp_vals.append(entry['ideal_exp_value'])\n",
    "                noisy_exp_vals.append(entry['noisy_exp_values'])\n",
    "        elif f_ext == '.pk':\n",
    "            for entry in pickle.load(open(data_file, 'rb')):\n",
    "                circuits.append(entry['circuit'])\n",
    "                ideal_exp_vals.append(entry['ideal_exp_value'])\n",
    "                noisy_exp_vals.append(entry['noisy_exp_values'])\n",
    "    return circuits, ideal_exp_vals, noisy_exp_vals"
   ]
  },
  {
   "cell_type": "code",
   "execution_count": 7,
   "metadata": {},
   "outputs": [
    {
     "data": {
      "text/plain": "  0%|          | 0/15 [00:00<?, ?it/s]",
      "application/vnd.jupyter.widget-view+json": {
       "version_major": 2,
       "version_minor": 0,
       "model_id": "38a6f1db33494bf4b82ec7ecc8ffb3c0"
      }
     },
     "metadata": {},
     "output_type": "display_data"
    },
    {
     "name": "stdout",
     "output_type": "stream",
     "text": [
      "4500\n"
     ]
    },
    {
     "data": {
      "text/plain": "  0%|          | 0/15 [00:00<?, ?it/s]",
      "application/vnd.jupyter.widget-view+json": {
       "version_major": 2,
       "version_minor": 0,
       "model_id": "b3a7c4fcb70742318b2567f4462fffc0"
      }
     },
     "metadata": {},
     "output_type": "display_data"
    },
    {
     "name": "stdout",
     "output_type": "stream",
     "text": [
      "1500\n"
     ]
    }
   ],
   "source": [
    "train_circuits, train_ideal_exp_vals, train_noisy_exp_vals = load_circuits('./data/ising_init_from_qasm/train', '.pk')\n",
    "print(len(train_circuits))\n",
    "\n",
    "test_circuits, test_ideal_exp_vals, test_noisy_exp_vals = load_circuits('./data/ising_init_from_qasm/val', '.pk')\n",
    "print(len(test_circuits))"
   ]
  },
  {
   "cell_type": "code",
   "execution_count": 14,
   "metadata": {},
   "outputs": [],
   "source": [
    "# to_save = {'train_circuits': train_circuits,\n",
    "#            'train_ideal_exp_vals': train_ideal_exp_vals,\n",
    "#            'train_noisy_exp_vals': train_noisy_exp_vals,\n",
    "#            'test_circuits': test_circuits,\n",
    "#            'test_ideal_exp_vals': test_ideal_exp_vals,\n",
    "#            'test_noisy_exp_vals': test_noisy_exp_vals}\n",
    "# with open('./data/mbd_datasets2/theta_0.05pi/circuits.pk', 'wb') as out:\n",
    "#     pickle.dump(to_save, out)\n",
    "\n",
    "# with open('./data/mbd_datasets2/theta_0.05pi/circuits.pk', 'rb') as infile:\n",
    "#     loaded = pickle.load(infile)\n",
    "#\n",
    "# train_circuits = loaded['train_circuits']\n",
    "# test_circuits = loaded['test_circuits']\n",
    "# train_ideal_exp_vals = loaded['train_ideal_exp_vals']\n",
    "# train_noisy_exp_vals = loaded['train_noisy_exp_vals']\n",
    "# test_ideal_exp_vals = loaded['test_ideal_exp_vals']\n",
    "# test_noisy_exp_vals = loaded['test_noisy_exp_vals']"
   ]
  },
  {
   "cell_type": "code",
   "execution_count": 8,
   "outputs": [
    {
     "name": "stdout",
     "output_type": "stream",
     "text": [
      "4500 4500 4500\n"
     ]
    }
   ],
   "source": [
    "print(len(train_circuits), len(train_ideal_exp_vals), len(train_noisy_exp_vals))"
   ],
   "metadata": {
    "collapsed": false
   }
  },
  {
   "cell_type": "code",
   "execution_count": 9,
   "metadata": {},
   "outputs": [],
   "source": [
    "train_noisy_exp_vals = [x[0] for x in train_noisy_exp_vals]\n",
    "test_noisy_exp_vals = [x[0] for x in test_noisy_exp_vals]\n",
    "X_train, y_train = encode_data(train_circuits, properties, train_ideal_exp_vals, train_noisy_exp_vals, num_qubits=4)\n",
    "X_test, y_test = encode_data(test_circuits, properties, test_ideal_exp_vals, test_noisy_exp_vals, num_qubits=4)"
   ]
  },
  {
   "cell_type": "code",
   "execution_count": 10,
   "metadata": {},
   "outputs": [
    {
     "name": "stdout",
     "output_type": "stream",
     "text": [
      "random seed fixed to 0\n"
     ]
    }
   ],
   "source": [
    "BATCH_SIZE = 32\n",
    "fix_random_seed(0)\n",
    "train_dataset = TensorDataset(torch.Tensor(X_train), torch.Tensor(y_train))\n",
    "train_loader = DataLoader(train_dataset, batch_size=BATCH_SIZE, shuffle=True)\n",
    "test_dataset = TensorDataset(torch.Tensor(X_test), torch.Tensor(y_test))\n",
    "test_loader = DataLoader(test_dataset, batch_size=BATCH_SIZE*1000, shuffle=False)"
   ]
  },
  {
   "cell_type": "code",
   "execution_count": 11,
   "metadata": {},
   "outputs": [
    {
     "name": "stdout",
     "output_type": "stream",
     "text": [
      "random seed fixed to 0\n"
     ]
    }
   ],
   "source": [
    "fix_random_seed(0)\n",
    "model = MLP1(\n",
    "    input_size=58,\n",
    "    output_size=4,\n",
    "    hidden_size=64\n",
    ")\n",
    "\n",
    "criterion = nn.MSELoss()\n",
    "optimizer = torch.optim.Adam(model.parameters(), lr=0.001)\n",
    "scheduler = ReduceLROnPlateau(optimizer,\n",
    "                            'min',\n",
    "                              factor=0.1,\n",
    "                              patience=15,\n",
    "                              verbose=True,\n",
    "                              min_lr=0.00001)"
   ]
  },
  {
   "cell_type": "code",
   "execution_count": 12,
   "metadata": {},
   "outputs": [
    {
     "name": "stdout",
     "output_type": "stream",
     "text": [
      "4036\n",
      "4512 32\n"
     ]
    }
   ],
   "source": [
    "print(sum(p.numel() for p in model.parameters() if p.requires_grad))\n",
    "print(len(train_loader) * BATCH_SIZE, len(test_loader) * BATCH_SIZE)"
   ]
  },
  {
   "cell_type": "code",
   "execution_count": 13,
   "metadata": {},
   "outputs": [
    {
     "name": "stdout",
     "output_type": "stream",
     "text": [
      "random seed fixed to 0\n"
     ]
    },
    {
     "data": {
      "text/plain": "Model training:   0%|          | 0/200 [00:00<?, ?it/s]",
      "application/vnd.jupyter.widget-view+json": {
       "version_major": 2,
       "version_minor": 0,
       "model_id": "b64365261e45477db7f2035ce30d3683"
      }
     },
     "metadata": {},
     "output_type": "display_data"
    },
    {
     "name": "stdout",
     "output_type": "stream",
     "text": [
      "Epoch 00136: reducing learning rate of group 0 to 1.0000e-04.\n",
      "Epoch 00175: reducing learning rate of group 0 to 1.0000e-05.\n"
     ]
    }
   ],
   "source": [
    "fix_random_seed(0)\n",
    "\n",
    "train_losses = []\n",
    "test_losses = []\n",
    "\n",
    "N_EPOCHS = 200\n",
    "\n",
    "progress = tqdm(range(N_EPOCHS), desc='Model training', leave=True)\n",
    "for epoch in progress:\n",
    "    train_loss = 0.0\n",
    "    model.train()\n",
    "    for batch_X, batch_y in train_loader:\n",
    "        optimizer.zero_grad()\n",
    "        outputs = model(batch_X).squeeze()\n",
    "        loss = criterion(outputs, batch_y)\n",
    "        loss.backward()\n",
    "        optimizer.step()\n",
    "\n",
    "        train_loss += loss.item()\n",
    "\n",
    "    test_loss = 0.0\n",
    "    model.eval()\n",
    "    for batch_X, batch_y in test_loader:\n",
    "        outputs = model(batch_X).squeeze()\n",
    "        loss = criterion(outputs, batch_y)\n",
    "        test_loss += loss.item()\n",
    "\n",
    "    scheduler.step(test_loss)\n",
    "\n",
    "    if epoch >= 1:\n",
    "        train_losses.append(train_loss / len(train_loader))\n",
    "        test_losses.append(test_loss / len(test_loader))\n",
    "\n",
    "        progress.set_description(f\"{round(train_losses[-1], 5)}, {round(test_losses[-1], 5)}\")\n",
    "        progress.refresh()"
   ]
  },
  {
   "cell_type": "code",
   "execution_count": 14,
   "metadata": {},
   "outputs": [
    {
     "data": {
      "text/plain": "<Figure size 432x288 with 1 Axes>",
      "image/png": "[encoded data removed]"
     },
     "metadata": {
      "needs_background": "light"
     },
     "output_type": "display_data"
    }
   ],
   "source": [
    "plt.plot(train_losses, label=\"train_loss\")\n",
    "plt.plot(test_losses, label=\"test_loss\")\n",
    "plt.yscale('log')\n",
    "\n",
    "plt.style.use({'figure.facecolor':'white'})\n",
    "plt.legend()\n",
    "plt.show()"
   ]
  },
  {
   "cell_type": "code",
   "execution_count": 15,
   "metadata": {},
   "outputs": [],
   "source": [
    "# model_path = './model/haoran_mbd2/mlp2_random_cliffords.pth'\n",
    "# model_path = './model/haoran_mbd2/mlp2_random_brickwork.pth'\n",
    "# model_path = './model/haoran_mbd2/mlp2_mbd.pth'\n",
    "# model_path = './model/haoran_mbd2/mlp2_cliffords_and_mbd2.pth'\n",
    "# model_path = './model/haoran_mbd_coherent/mlp3_cliffords.pth'\n",
    "# model_path = './model/haoran_mbd_coherent/mlp3_mbd.pth'\n",
    "# model_path = './model/ising_random_init/mlp3_ising.pth'\n",
    "# model_path = './model/ising_init_0110/mlp1.pth'\n",
    "model_path = './model/ising_init_from_qasm/mlp1_smaller.pth'"
   ]
  },
  {
   "cell_type": "code",
   "execution_count": 16,
   "metadata": {},
   "outputs": [
    {
     "name": "stdout",
     "output_type": "stream",
     "text": [
      "saved: ./model/ising_init_from_qasm/mlp1_smaller.pth\n"
     ]
    }
   ],
   "source": [
    "print('saved:', model_path)\n",
    "torch.save(model.state_dict(), model_path)"
   ]
  },
  {
   "cell_type": "code",
   "execution_count": 17,
   "metadata": {},
   "outputs": [],
   "source": [
    "import pickle\n",
    "\n",
    "to_save = {'train_losses': train_losses, 'val_losses': test_losses}\n",
    "with open('.'+model_path.split('.')[1]+'.pk', 'wb') as handle:\n",
    "    pickle.dump(to_save, handle, protocol=pickle.HIGHEST_PROTOCOL)"
   ]
  },
  {
   "cell_type": "code",
   "execution_count": 19,
   "metadata": {},
   "outputs": [],
   "source": [
    "# with open('.'+model_path.split('.')[1]+'.pk', 'rb') as in_f:\n",
    "#     loaded_plot = pickle.load(in_f)\n",
    "# train_losses = loaded_plot['train_losses']\n",
    "# test_losses = loaded_plot['val_losses']"
   ]
  },
  {
   "cell_type": "code",
   "execution_count": 21,
   "metadata": {},
   "outputs": [
    {
     "name": "stdout",
     "output_type": "stream",
     "text": [
      "loade: ./model/ising_init_from_qasm/mlp1.pth\n"
     ]
    },
    {
     "data": {
      "text/plain": "MLP1(\n  (fc1): Linear(in_features=58, out_features=128, bias=True)\n  (relu): ReLU()\n  (fc2): Linear(in_features=128, out_features=4, bias=True)\n)"
     },
     "execution_count": 21,
     "metadata": {},
     "output_type": "execute_result"
    }
   ],
   "source": [
    "model = MLP(\n",
    "    input_size=58,\n",
    "    output_size=4,\n",
    "    hidden_size=128\n",
    ")\n",
    "print('loade:', model_path)\n",
    "model.load_state_dict(torch.load(model_path), strict=True)\n",
    "model.eval()"
   ]
  },
  {
   "cell_type": "code",
   "execution_count": 22,
   "outputs": [
    {
     "name": "stdout",
     "output_type": "stream",
     "text": [
      "tensor([[ 0.2424,  0.1364, -0.1016, -0.1290],\n",
      "        [ 0.2064,  0.1556, -0.1128, -0.1228],\n",
      "        [-0.0428,  0.0314,  0.0818,  0.0468],\n",
      "        ...,\n",
      "        [ 0.0436, -0.0916,  0.2186,  0.0792],\n",
      "        [-0.0054, -0.0964,  0.2452,  0.0696],\n",
      "        [-0.0108, -0.0104,  0.0010, -0.0096]])\n"
     ]
    }
   ],
   "source": [
    "for batch_X, batch_y in test_loader:\n",
    "    print(batch_y)\n",
    "    break"
   ],
   "metadata": {
    "collapsed": false
   }
  },
  {
   "cell_type": "code",
   "execution_count": 18,
   "metadata": {},
   "outputs": [
    {
     "name": "stdout",
     "output_type": "stream",
     "text": [
      "random seed fixed to 0\n",
      "RMSE_noisy_0: 0.07891757491964337\n",
      "RMSE_mitigated_0: 0.03508932016690138\n",
      "RMSE_noisy_1: 0.06510901150099174\n",
      "RMSE_mitigated_1: 0.02605586557771226\n",
      "RMSE_noisy_2: 0.1882020478303045\n",
      "RMSE_mitigated_2: 0.04049542242210241\n",
      "RMSE_noisy_3: 0.09215392547198703\n",
      "RMSE_mitigated_3: 0.029814342784893463\n",
      "RMSE_noisy: 0.11659708808247589\n",
      "RMSE_mitigated: 0.03331269575409189\n"
     ]
    },
    {
     "data": {
      "text/plain": "<Figure size 432x288 with 1 Axes>",
      "image/png": "[encoded data removed]"
     },
     "metadata": {},
     "output_type": "display_data"
    },
    {
     "data": {
      "text/plain": "<Figure size 432x288 with 1 Axes>",
      "image/png": "[encoded data removed]"
     },
     "metadata": {},
     "output_type": "display_data"
    }
   ],
   "source": [
    "fix_random_seed(0)\n",
    "\n",
    "model.eval()\n",
    "distances = []\n",
    "\n",
    "num_spins = 4\n",
    "even_qubits = np.linspace(0, num_spins, int(num_spins/2), endpoint=False)\n",
    "odd_qubits = np.linspace(1, num_spins+1, int(num_spins/2), endpoint=False)\n",
    "\n",
    "for batch_X, batch_y in test_loader:\n",
    "    out = model(batch_X)\n",
    "\n",
    "    for ideal, noisy, ngm_mitigated in zip(\n",
    "        batch_y.tolist(),\n",
    "        batch_X[:, -4:].tolist(),\n",
    "        out.tolist()\n",
    "    ):\n",
    "        imbalance_ideal = calc_imbalance([ideal], even_qubits, odd_qubits)[0]\n",
    "        imbalance_noisy = calc_imbalance([noisy], even_qubits, odd_qubits)[0]\n",
    "        imbalance_mitigated = calc_imbalance([ngm_mitigated], even_qubits, odd_qubits)[0]\n",
    "        for q in range(4):\n",
    "            ideal_q = ideal[q]\n",
    "            noisy_q = noisy[q]\n",
    "            ngm_mitigated_q = ngm_mitigated[q]\n",
    "            distances.append({\n",
    "                f\"ideal_{q}\": ideal_q,\n",
    "                f\"noisy_{q}\": noisy_q,\n",
    "                f\"ngm_mitigated_{q}\": ngm_mitigated_q,\n",
    "                f\"dist_noisy_{q}\": np.abs(ideal_q - noisy_q),\n",
    "                f\"dist_mitigated_{q}\": np.abs(ideal_q - ngm_mitigated_q),\n",
    "                f\"dist_sq_noisy_{q}\": np.square(ideal_q - noisy_q),\n",
    "                f\"dist_sq_mitigated_{q}\": np.square(ideal_q - ngm_mitigated_q),\n",
    "                \"imb_ideal\": imbalance_ideal,\n",
    "                \"imb_noisy\": imbalance_noisy,\n",
    "                \"imb_ngm\": imbalance_mitigated,\n",
    "                \"imb_diff\": imbalance_ideal - imbalance_mitigated\n",
    "            })\n",
    "\n",
    "plt.style.use({'figure.facecolor':'white'})\n",
    "\n",
    "df = pd.DataFrame(distances)\n",
    "\n",
    "for q in range(4):\n",
    "    print(f'RMSE_noisy_{q}:', np.sqrt(df[f\"dist_sq_noisy_{q}\"].mean()))\n",
    "    print(f'RMSE_mitigated_{q}:', np.sqrt(df[f\"dist_sq_mitigated_{q}\"].mean()))\n",
    "\n",
    "print(f'RMSE_noisy:', np.sqrt(np.mean([df[f\"dist_sq_noisy_{q}\"].mean() for q in range(4)])))\n",
    "print(f'RMSE_mitigated:', np.sqrt(np.mean([df[f\"dist_sq_mitigated_{q}\"].mean() for q in range(4)])))\n",
    "\n",
    "sns.boxplot(data=df[[\"dist_noisy_0\", \"dist_mitigated_0\", \"dist_noisy_1\", \"dist_mitigated_1\", \"dist_noisy_2\", \"dist_mitigated_2\", \"dist_noisy_3\", \"dist_mitigated_3\"]], orient=\"h\", showfliers = False)\n",
    "plt.title(\"Dist to ideal exp value\")\n",
    "plt.show()\n",
    "\n",
    "sns.histplot([df['ideal_0'], df['noisy_0'], df[\"ngm_mitigated_0\"]], kde=True, bins=40)\n",
    "plt.title(\"Exp values distribution\")\n",
    "plt.show()\n",
    "\n",
    "# sns.histplot([df['imb_ideal'], df['imb_noisy'], df[\"imb_ngm\"]], kde=True, bins=40)\n",
    "# plt.title(\"Exp values distribution\")\n",
    "# plt.show()\n",
    "#\n",
    "# sns.histplot(data=df[\"imb_diff\"], kde=True, bins=40)\n",
    "# plt.title(\"Dist to ideal exp value\")\n",
    "# plt.show()"
   ]
  },
  {
   "cell_type": "code",
   "execution_count": 33,
   "metadata": {},
   "outputs": [
    {
     "data": {
      "text/plain": "  0%|          | 0/10 [00:00<?, ?it/s]",
      "application/vnd.jupyter.widget-view+json": {
       "version_major": 2,
       "version_minor": 0,
       "model_id": "9724e20f9d32416eba1caa5d4706d148"
      }
     },
     "metadata": {},
     "output_type": "display_data"
    }
   ],
   "source": [
    "\n",
    "## Now we need to average over many disorders\n",
    "num_disorders = 10\n",
    "\n",
    "num_spins = 4 # Number of spins. Must be even.\n",
    "W = 0.8 * np.pi # Disorder strength up to np.pi\n",
    "theta = 0.05 * np.pi # Interaction strength up to np.pi\n",
    "max_steps = 5\n",
    "\n",
    "even_qubits = np.linspace(0, num_spins, int(num_spins/2), endpoint=False)\n",
    "odd_qubits = np.linspace(1, num_spins+1, int(num_spins/2), endpoint=False)\n",
    "\n",
    "# For each disorder realization, make a new disorder\n",
    "# and compute the charge imbalance using the same physics parameters as before\n",
    "imbalance_all_ideal = []\n",
    "imbalance_all_noisy = []\n",
    "imbalance_all_mitigated = []\n",
    "\n",
    "for disorder_realization in tqdm(range(num_disorders)):\n",
    "    disorders = generate_disorder(num_spins, W)\n",
    "    # print(disorders)\n",
    "\n",
    "    qc_list = []\n",
    "    for steps in range(max_steps):\n",
    "        qc_list.append(construct_mbl_circuit(num_spins, disorders, theta, steps))\n",
    "\n",
    "    transpiled_qc_list = transpile(qc_list, backend_noisy, optimization_level=3)\n",
    "    job_ideal = execute(qc_list, **run_config_ideal)\n",
    "    job_noisy = execute(transpiled_qc_list, **run_config_noisy)\n",
    "\n",
    "    exp_Z_ideal = []\n",
    "    exp_Z_noisy = []\n",
    "    exp_Z_mitigated = []\n",
    "\n",
    "    for i in range(len(qc_list)):\n",
    "        counts_ideal = job_ideal.result().get_counts()[i]\n",
    "        counts_noisy = job_noisy.result().get_counts()[i]\n",
    "\n",
    "        ideal_exp_val = cal_z_exp(counts_ideal)\n",
    "        noisy_exp_val = cal_z_exp(counts_noisy)\n",
    "\n",
    "        exp_Z_ideal.append(list(ideal_exp_val)) # Single-Z expectation value of each qubit\n",
    "        exp_Z_noisy.append(list(noisy_exp_val)) # Single-Z expectation value of each qubit\n",
    "\n",
    "        # print(entry.batch)\n",
    "        X, _ = encode_data([transpiled_qc_list[i]], properties, ideal_exp_val, [noisy_exp_val], num_qubits=4)\n",
    "        mitigated_exp_val = model(X).tolist()[0]\n",
    "\n",
    "        exp_Z_mitigated.append(mitigated_exp_val)\n",
    "\n",
    "    imbalance_ideal = calc_imbalance(exp_Z_ideal, even_qubits, odd_qubits)\n",
    "    imbalance_noisy = calc_imbalance(exp_Z_noisy, even_qubits, odd_qubits)\n",
    "    imbalance_mitigated = calc_imbalance(exp_Z_mitigated, even_qubits, odd_qubits)\n",
    "\n",
    "    imbalance_all_ideal.append(imbalance_ideal)\n",
    "    imbalance_all_noisy.append(imbalance_noisy)\n",
    "    imbalance_all_mitigated.append(imbalance_mitigated)\n",
    "\n",
    "# Average imbalance\n",
    "imbalance_ideal_average = np.mean(imbalance_all_ideal, axis=0)\n",
    "imbalance_noisy_average = np.mean(imbalance_all_noisy, axis=0)\n",
    "imbalance_mitigated_average = np.mean(imbalance_all_mitigated, axis=0)"
   ]
  },
  {
   "cell_type": "code",
   "execution_count": 21,
   "metadata": {},
   "outputs": [
    {
     "data": {
      "image/png": "[encoded data removed]",
      "text/plain": [
       "<Figure size 432x288 with 2 Axes>"
      ]
     },
     "metadata": {},
     "output_type": "display_data"
    }
   ],
   "source": [
    "## Plot\n",
    "fig = plt.figure()\n",
    "ax1 = fig.add_subplot(111)\n",
    "ax2 = ax1.twiny()\n",
    "\n",
    "for disorder_realization in range(num_disorders):\n",
    "    ax1.plot(imbalance_all_ideal[disorder_realization], color=(0.0, 0.0, 1.0, 0.1))\n",
    "    ax1.plot(imbalance_all_noisy[disorder_realization], color=(1.0, 0.0, 0.0, 0.1))\n",
    "    ax1.plot(imbalance_all_mitigated[disorder_realization], color=(0.0, 1.0, 0.0, 0.1))\n",
    "\n",
    "ax1.plot(imbalance_ideal_average, color='blue', label=\"ideal\")\n",
    "ax1.plot(imbalance_noisy_average, color='red', label=\"noisy\")\n",
    "ax1.plot(imbalance_mitigated_average, color='green', label=\"mitigated\")\n",
    "\n",
    "ax1.axvline(x = 10, color = 'gray', label = 'training data availability')\n",
    "\n",
    "ax1.set_xlabel('Floquet steps')\n",
    "ax1.set_ylabel('Imbalance')\n",
    "ax1.legend()\n",
    "\n",
    "xmin,xmax = ax1.get_xlim()\n",
    "max_x = max_steps + 10\n",
    "ax1.set_xlim([0, max_x-1])\n",
    "ax2.set_xlim([0, max_x-1])\n",
    "ax1.set_ylim([0.4, 1.03])\n",
    "ax1.set_xticks(np.arange(0, max_x, 4))\n",
    "x2 = np.linspace(xmin, xmax, 50)\n",
    "ax2.plot(x2, -np.ones(50)) # Create a dummy plot\n",
    "ax2.set_xticks(np.arange(0, max_x, 4))\n",
    "ax2.set_xticklabels(2*np.arange(0, max_x, 4))\n",
    "ax2.set_xlabel(r\"2q gate depth\")\n",
    "# ax1.grid(None)\n",
    "ax2.grid(None)\n",
    "\n",
    "plt.style.use({'figure.facecolor':'white'})\n",
    "plt.show()"
   ]
  },
  {
   "cell_type": "code",
   "execution_count": null,
   "metadata": {},
   "outputs": [],
   "source": []
  }
 ],
 "metadata": {
  "kernelspec": {
   "display_name": "Python 3 (ipykernel)",
   "language": "python",
   "name": "python3"
  },
  "language_info": {
   "codemirror_mode": {
    "name": "ipython",
    "version": 3
   },
   "file_extension": ".py",
   "mimetype": "text/x-python",
   "name": "python",
   "nbconvert_exporter": "python",
   "pygments_lexer": "ipython3",
   "version": "3.10.9"
  }
 },
 "nbformat": 4,
 "nbformat_minor": 1
}
