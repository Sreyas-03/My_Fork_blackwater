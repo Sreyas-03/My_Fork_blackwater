{
 "cells": [
  {
   "cell_type": "code",
   "execution_count": 1,
   "metadata": {},
   "outputs": [],
   "source": [
    "import json, os, pickle\n",
    "import numpy as np\n",
    "from tqdm.notebook import tqdm\n",
    "import pandas as pd\n",
    "\n",
    "import torch\n",
    "from torch.utils.data import Dataset, DataLoader, TensorDataset\n",
    "from torch.optim.lr_scheduler import ReduceLROnPlateau\n",
    "import torch.nn as nn\n",
    "\n",
    "import qiskit\n",
    "from qiskit import QuantumCircuit, execute\n",
    "from qiskit.compiler import transpile\n",
    "from qiskit_aer import AerSimulator, QasmSimulator\n",
    "from qiskit.converters import circuit_to_dag, dag_to_circuit\n",
    "from qiskit.quantum_info import SparsePauliOp, Operator\n",
    "from qiskit.circuit.library import CXGate, RXGate, IGate, ZGate\n",
    "from qiskit.providers.fake_provider import FakeMontreal, FakeLima\n",
    "\n",
    "from blackwater.data.utils import (\n",
    "    generate_random_pauli_sum_op,\n",
    "    create_estimator_meas_data,\n",
    "    circuit_to_graph_data_json,\n",
    "    get_backend_properties_v1,\n",
    "    encode_pauli_sum_op,\n",
    "    create_meas_data_from_estimators\n",
    ")\n",
    "\n",
    "from mlp import MLP1, MLP2\n",
    "\n",
    "from mbd_utils import cal_z_exp, generate_disorder, construct_mbl_circuit, calc_imbalance\n",
    "\n",
    "import matplotlib.pyplot as plt\n",
    "import seaborn as sns"
   ]
  },
  {
   "cell_type": "code",
   "execution_count": 2,
   "metadata": {},
   "outputs": [],
   "source": [
    "backend = FakeLima()\n",
    "properties = get_backend_properties_v1(backend)\n",
    "\n",
    "## Local\n",
    "backend_ideal = QasmSimulator() # Noiseless\n",
    "backend_noisy = AerSimulator.from_backend(FakeLima()) # Noisy\n",
    "\n",
    "run_config_ideal = {'shots': 10000, 'backend': backend_ideal, 'name': 'ideal'}\n",
    "run_config_noisy = {'shots': 10000, 'backend': backend_noisy, 'name': 'noisy'}"
   ]
  },
  {
   "cell_type": "code",
   "execution_count": 3,
   "metadata": {},
   "outputs": [],
   "source": [
    "def load_circuits(data_dir):\n",
    "    circuits = []\n",
    "    ideal_exp_vals = []\n",
    "    noisy_exp_vals = []\n",
    "    data_files = [os.path.join(data_dir, f) for f in os.listdir(data_dir) if f.endswith('.json')]\n",
    "    for data_file in tqdm(data_files, leave=True):\n",
    "        for entry in tqdm(json.load(open(data_file, 'r')), leave=False, position=0):\n",
    "            circuits.append(QuantumCircuit.from_qasm_str(entry['circuit']))\n",
    "            ideal_exp_vals.append(entry['ideal_exp_value'])\n",
    "            noisy_exp_vals.append(entry['noisy_exp_values'])\n",
    "    return circuits, ideal_exp_vals, noisy_exp_vals"
   ]
  },
  {
   "cell_type": "code",
   "execution_count": null,
   "metadata": {},
   "outputs": [],
   "source": [
    "train_circuits, train_ideal_exp_vals, train_noisy_exp_vals = load_circuits('./data/mbd_datasets2/theta_0.05pi/train/')\n",
    "print(len(train_circuits))\n",
    "\n",
    "test_circuits, test_ideal_exp_vals, test_noisy_exp_vals = load_circuits('./data/mbd_datasets2/theta_0.05pi/val/')\n",
    "print(len(test_circuits))"
   ]
  },
  {
   "cell_type": "code",
   "execution_count": 24,
   "metadata": {},
   "outputs": [],
   "source": [
    "# to_save = {'train_circuits': train_circuits,\n",
    "#            'train_ideal_exp_vals': train_ideal_exp_vals,\n",
    "#            'train_noisy_exp_vals': train_noisy_exp_vals,\n",
    "#            'test_circuits': test_circuits,\n",
    "#            'test_ideal_exp_vals': test_ideal_exp_vals,\n",
    "#            'test_noisy_exp_vals': test_noisy_exp_vals}\n",
    "# with open('./data/mbd_datasets2/theta_0.05pi/circuits.pk', 'wb') as out:\n",
    "#     pickle.dump(to_save, out)\n",
    "\n",
    "with open('./data/mbd_datasets2/theta_0.05pi/circuits.pk', 'rb') as infile:\n",
    "    loaded = pickle.load(infile)\n",
    "\n",
    "train_circuits = loaded['train_circuits']\n",
    "test_circuits = loaded['test_circuits']\n",
    "train_ideal_exp_vals = loaded['train_ideal_exp_vals']\n",
    "train_noisy_exp_vals = loaded['train_noisy_exp_vals']\n",
    "test_ideal_exp_vals = loaded['test_ideal_exp_vals']\n",
    "test_noisy_exp_vals = loaded['test_noisy_exp_vals']"
   ]
  },
  {
   "cell_type": "code",
   "execution_count": 25,
   "metadata": {},
   "outputs": [],
   "source": [
    "def encode_data(circuits, properties, ideal_exp_vals, noisy_exp_vals, num_qubits):\n",
    "    gates_set = properties['gates_set']\n",
    "\n",
    "    def recursive_dict_loop(my_dict, parent_key=None, out=[], target_key1=None, target_key2=None):\n",
    "        for key, val in my_dict.items():\n",
    "            if isinstance(val, dict):\n",
    "                recursive_dict_loop(val, key, out, target_key1, target_key2)\n",
    "            else:\n",
    "                if parent_key and target_key1 in str(parent_key) and key == target_key2:\n",
    "                    out += [val]\n",
    "        return out\n",
    "\n",
    "    vec = [np.mean(recursive_dict_loop(properties, target_key1='cx', target_key2='gate_error'))]\n",
    "    vec += [np.mean(recursive_dict_loop(properties, target_key1='id', target_key2='gate_error'))]\n",
    "    vec += [np.mean(recursive_dict_loop(properties, target_key1='sx', target_key2='gate_error'))]\n",
    "    vec += [np.mean(recursive_dict_loop(properties, target_key1='x', target_key2='gate_error'))]\n",
    "    vec += [np.mean(recursive_dict_loop(properties, target_key1='rz', target_key2='gate_error'))]\n",
    "    vec += [np.mean(recursive_dict_loop(properties, target_key1='', target_key2='readout_error'))]\n",
    "    vec += [np.mean(recursive_dict_loop(properties, target_key1='', target_key2='t1'))]\n",
    "    vec += [np.mean(recursive_dict_loop(properties, target_key1='', target_key2='t2'))]\n",
    "    vec = torch.tensor(vec) * 100 # put it in the same order of magnitude as the expectation values\n",
    "\n",
    "    bin_size = 0.1 * np.pi\n",
    "    num_angle_bins = int(np.ceil(4 * np.pi / bin_size))\n",
    "\n",
    "    X = torch.zeros([len(circuits), len(vec) + len(gates_set) + num_angle_bins + num_qubits])\n",
    "\n",
    "    X[:, :len(vec)] = vec[None, :]\n",
    "\n",
    "    for i, circ in enumerate(circuits):\n",
    "        gate_counts = circ.count_ops()\n",
    "        X[i, len(vec):len(vec) + len(gates_set)] = torch.tensor(\n",
    "            [gate_counts.get(key, 0) for key in gates_set]\n",
    "        ) * 0.01 # put it in the same order of magnitude as the expectation values\n",
    "\n",
    "    def count_gates_by_rotation_angle(circuit):\n",
    "        angles = []\n",
    "        for instr, qargs, cargs in circuit.data:\n",
    "            if instr.name in ['rx', 'ry', 'rz'] and len(qargs) == 1:\n",
    "                angles += [instr.params[0]]\n",
    "        bin_edges = np.arange(-2 * np.pi, 2 * np.pi + bin_size, bin_size)\n",
    "        counts, _ = np.histogram(angles, bins=bin_edges)\n",
    "        bin_labels = [f\"{left:.2f} to {right:.2f}\" for left, right in zip(bin_edges[:-1], bin_edges[1:])]\n",
    "        angle_bins = {label: count for label, count in zip(bin_labels, counts)}\n",
    "        return list(angle_bins.values())\n",
    "\n",
    "    for i, circ in enumerate(circuits):\n",
    "        gate_counts = count_gates_by_rotation_angle(circ)\n",
    "        X[i, len(vec) + len(gates_set) : -num_qubits] = torch.tensor(gate_counts) * 0.01 # put it in the same order of magnitude as the expectation values\n",
    "        X[i, -num_qubits:] = torch.tensor(noisy_exp_vals[i])\n",
    "\n",
    "    y = torch.tensor(ideal_exp_vals)\n",
    "\n",
    "    return X, y"
   ]
  },
  {
   "cell_type": "code",
   "execution_count": 26,
   "metadata": {},
   "outputs": [],
   "source": [
    "X_train, y_train = encode_data(train_circuits, properties, train_ideal_exp_vals, train_noisy_exp_vals, num_qubits=4)\n",
    "X_test, y_test = encode_data(test_circuits, properties, test_ideal_exp_vals, test_noisy_exp_vals, num_qubits=4)"
   ]
  },
  {
   "cell_type": "code",
   "execution_count": 27,
   "metadata": {},
   "outputs": [],
   "source": [
    "BATCH_SIZE = 32\n",
    "\n",
    "train_dataset = TensorDataset(torch.Tensor(X_train), torch.Tensor(y_train))\n",
    "train_loader = DataLoader(train_dataset, batch_size=BATCH_SIZE, shuffle=True)\n",
    "test_dataset = TensorDataset(torch.Tensor(X_test), torch.Tensor(y_test))\n",
    "test_loader = DataLoader(test_dataset, batch_size=BATCH_SIZE, shuffle=False)"
   ]
  },
  {
   "cell_type": "code",
   "execution_count": 23,
   "outputs": [],
   "source": [
    "model = MLP1(\n",
    "    input_size=58,\n",
    "    output_size=4,\n",
    "    hidden_size=128\n",
    ")\n",
    "\n",
    "for layer in model.children():\n",
    "   if hasattr(layer, 'reset_parameters'):\n",
    "       layer.reset_parameters()\n",
    "\n",
    "criterion = nn.MSELoss()\n",
    "optimizer = torch.optim.Adam(model.parameters(), lr=0.001)\n",
    "scheduler = ReduceLROnPlateau(optimizer,\n",
    "                            'min',\n",
    "                              factor=0.1,\n",
    "                              patience=15,\n",
    "                              verbose=True,\n",
    "                              min_lr=0.00001)"
   ],
   "metadata": {
    "collapsed": false
   }
  },
  {
   "cell_type": "code",
   "execution_count": 8,
   "outputs": [
    {
     "ename": "NameError",
     "evalue": "name 'model' is not defined",
     "output_type": "error",
     "traceback": [
      "\u001B[0;31m---------------------------------------------------------------------------\u001B[0m",
      "\u001B[0;31mNameError\u001B[0m                                 Traceback (most recent call last)",
      "Input \u001B[0;32mIn [8]\u001B[0m, in \u001B[0;36m<cell line: 1>\u001B[0;34m()\u001B[0m\n\u001B[0;32m----> 1\u001B[0m \u001B[38;5;28mprint\u001B[39m(\u001B[38;5;28msum\u001B[39m(p\u001B[38;5;241m.\u001B[39mnumel() \u001B[38;5;28;01mfor\u001B[39;00m p \u001B[38;5;129;01min\u001B[39;00m \u001B[43mmodel\u001B[49m\u001B[38;5;241m.\u001B[39mparameters() \u001B[38;5;28;01mif\u001B[39;00m p\u001B[38;5;241m.\u001B[39mrequires_grad))\n\u001B[1;32m      2\u001B[0m \u001B[38;5;28mprint\u001B[39m(\u001B[38;5;28mlen\u001B[39m(train_loader) \u001B[38;5;241m*\u001B[39m BATCH_SIZE, \u001B[38;5;28mlen\u001B[39m(test_loader) \u001B[38;5;241m*\u001B[39m BATCH_SIZE)\n",
      "\u001B[0;31mNameError\u001B[0m: name 'model' is not defined"
     ]
    }
   ],
   "source": [
    "print(sum(p.numel() for p in model.parameters() if p.requires_grad))\n",
    "print(len(train_loader) * BATCH_SIZE, len(test_loader) * BATCH_SIZE)"
   ],
   "metadata": {
    "collapsed": false
   }
  },
  {
   "cell_type": "code",
   "execution_count": 26,
   "metadata": {},
   "outputs": [
    {
     "data": {
      "text/plain": "Model training:   0%|          | 0/50 [00:00<?, ?it/s]",
      "application/vnd.jupyter.widget-view+json": {
       "version_major": 2,
       "version_minor": 0,
       "model_id": "67565ea9109b4f8fbc1328f5049900f8"
      }
     },
     "metadata": {},
     "output_type": "display_data"
    }
   ],
   "source": [
    "train_losses = []\n",
    "test_losses = []\n",
    "\n",
    "N_EPOCHS = 50\n",
    "\n",
    "progress = tqdm(range(N_EPOCHS), desc='Model training', leave=True)\n",
    "for epoch in progress:\n",
    "    train_loss = 0.0\n",
    "    model.train()\n",
    "    for batch_X, batch_y in train_loader:\n",
    "        optimizer.zero_grad()\n",
    "        outputs = model(batch_X).squeeze()\n",
    "        loss = criterion(outputs, batch_y)\n",
    "        loss.backward()\n",
    "        optimizer.step()\n",
    "\n",
    "        train_loss += loss.item()\n",
    "\n",
    "    test_loss = 0.0\n",
    "    model.eval()\n",
    "    for batch_X, batch_y in test_loader:\n",
    "        outputs = model(batch_X).squeeze()\n",
    "        loss = criterion(outputs, batch_y)\n",
    "        test_loss += loss.item()\n",
    "\n",
    "    scheduler.step(test_loss)\n",
    "\n",
    "    if epoch >= 1:\n",
    "        train_losses.append(train_loss / len(train_loader))\n",
    "        test_losses.append(test_loss / len(test_loader))\n",
    "\n",
    "        progress.set_description(f\"{round(train_losses[-1], 5)}, {round(test_losses[-1], 5)}\")\n",
    "        progress.refresh()"
   ]
  },
  {
   "cell_type": "code",
   "execution_count": 27,
   "metadata": {},
   "outputs": [
    {
     "data": {
      "text/plain": "<Figure size 432x288 with 1 Axes>",
      "image/png": "[encoded data removed]"
     },
     "metadata": {},
     "output_type": "display_data"
    }
   ],
   "source": [
    "plt.plot(train_losses, label=\"train_loss\")\n",
    "plt.plot(test_losses, label=\"test_loss\")\n",
    "plt.yscale('log')\n",
    "\n",
    "plt.style.use({'figure.facecolor':'white'})\n",
    "plt.legend()\n",
    "plt.show()"
   ]
  },
  {
   "cell_type": "code",
   "execution_count": 29,
   "metadata": {},
   "outputs": [],
   "source": [
    "model_path = './model/haoran_mbd2/mlp_mbd.pth'"
   ]
  },
  {
   "cell_type": "code",
   "execution_count": 30,
   "metadata": {},
   "outputs": [],
   "source": [
    "torch.save(model.state_dict(), model_path)"
   ]
  },
  {
   "cell_type": "code",
   "execution_count": 14,
   "metadata": {},
   "outputs": [],
   "source": [
    "import pickle\n",
    "\n",
    "to_save = {'train_losses': train_losses, 'val_losses': test_losses}\n",
    "with open('.'+model_path.split('.')[1]+'.pk', 'wb') as handle:\n",
    "    pickle.dump(to_save, handle, protocol=pickle.HIGHEST_PROTOCOL)"
   ]
  },
  {
   "cell_type": "code",
   "execution_count": 30,
   "metadata": {},
   "outputs": [
    {
     "data": {
      "text/plain": "<All keys matched successfully>"
     },
     "execution_count": 30,
     "metadata": {},
     "output_type": "execute_result"
    }
   ],
   "source": [
    "model = MLP1(\n",
    "    input_size=58,\n",
    "    output_size=4,\n",
    "    hidden_size=128\n",
    ")\n",
    "model.load_state_dict(torch.load('./model/haoran_mbd2/mlp_mbd.pth'))\n",
    "# model.eval()"
   ]
  },
  {
   "cell_type": "code",
   "execution_count": 35,
   "outputs": [
    {
     "name": "stdout",
     "output_type": "stream",
     "text": [
      "fc1.weight tensor([[ 0.0879, -0.0720, -0.0389,  ...,  0.0968, -0.0928, -0.0558],\n",
      "        [-0.1076, -0.0660, -0.0107,  ..., -0.0153, -0.0356,  0.1146],\n",
      "        [-0.0045,  0.0958, -0.0738,  ...,  0.1052, -0.1009, -0.0913],\n",
      "        ...,\n",
      "        [ 0.1343, -0.0655, -0.0350,  ...,  0.0056,  0.0365, -0.1154],\n",
      "        [ 0.0553, -0.0023,  0.0230,  ..., -0.1889,  0.0503,  0.1182],\n",
      "        [-0.0086,  0.1171,  0.1325,  ...,  0.0012,  0.1395, -0.1761]])\n",
      "fc1.bias tensor([-0.1098, -0.1308,  0.0082, -0.1278, -0.0536,  0.0910, -0.0076,  0.0303,\n",
      "        -0.0322, -0.0042,  0.1050,  0.0477,  0.0173,  0.1176,  0.0507, -0.0445,\n",
      "        -0.0465,  0.0821,  0.1192,  0.0622, -0.1268, -0.0079,  0.1169, -0.1120,\n",
      "         0.0933, -0.0718, -0.0209,  0.1287,  0.1275, -0.0308,  0.1124, -0.1065,\n",
      "         0.0515, -0.0387,  0.1357, -0.1233, -0.0996,  0.0944, -0.0895,  0.0301,\n",
      "         0.0254, -0.0507,  0.0951,  0.1181, -0.0388, -0.0387,  0.0168,  0.0513,\n",
      "         0.1264, -0.1018, -0.0132, -0.0425, -0.0740, -0.0300, -0.0048, -0.0383,\n",
      "        -0.0746,  0.0924,  0.0136, -0.0188, -0.0066,  0.0190, -0.0260, -0.1400,\n",
      "        -0.0624,  0.0168, -0.1183,  0.0419, -0.1283,  0.0654,  0.0339, -0.0240,\n",
      "        -0.0193,  0.1206, -0.0115,  0.0298,  0.0077, -0.0039,  0.0494, -0.0645,\n",
      "        -0.0555,  0.0148, -0.0451,  0.0961,  0.0002,  0.0631, -0.0904,  0.1509,\n",
      "        -0.0080,  0.0983,  0.0487, -0.0851,  0.0771,  0.1292,  0.1385, -0.0183,\n",
      "         0.1245, -0.0010, -0.1274,  0.0644,  0.0600,  0.1418,  0.0382,  0.1413,\n",
      "         0.1165,  0.0439,  0.0952, -0.0875,  0.0462, -0.0622, -0.0145,  0.1206,\n",
      "         0.0346,  0.0216,  0.1246, -0.1093, -0.1103,  0.0695, -0.0236,  0.0930,\n",
      "         0.1377, -0.0585, -0.0933,  0.0132, -0.0203, -0.0238,  0.0130,  0.1073])\n",
      "fc2.weight tensor([[-7.8510e-04, -1.1450e-02,  6.7047e-02,  5.2940e-02,  1.6059e-02,\n",
      "         -6.9433e-02, -1.8617e-02, -6.8282e-02,  6.4676e-02,  9.1628e-02,\n",
      "         -7.9067e-03,  1.3146e-02,  2.1467e-02, -3.9675e-02,  1.5271e-03,\n",
      "         -1.7917e-02, -5.6857e-02, -1.2470e-02, -6.6903e-02, -7.3896e-02,\n",
      "         -3.5246e-02,  1.1406e-01, -2.4140e-02, -4.0954e-02,  2.5466e-02,\n",
      "         -4.3324e-02,  3.9375e-02,  1.1260e-01,  8.3721e-02, -8.0051e-03,\n",
      "          2.3177e-02,  2.4114e-02, -6.9466e-02,  1.1208e-01,  1.0378e-01,\n",
      "         -7.9682e-03, -1.8592e-01,  4.6234e-02,  2.4001e-02, -1.4945e-02,\n",
      "         -7.9627e-02,  1.3283e-02,  5.2350e-02,  3.3365e-02,  6.2996e-02,\n",
      "         -4.6584e-02,  7.3452e-02, -3.8046e-02,  1.6143e-03, -2.6614e-02,\n",
      "         -2.6281e-02,  6.8520e-02,  1.1955e-02,  1.1412e-01,  1.4417e-02,\n",
      "          5.7662e-02,  2.8490e-02,  8.0561e-02,  1.3327e-02,  7.5264e-02,\n",
      "          1.5410e-01, -2.2774e-02, -1.1062e-02, -1.4029e-01,  8.7754e-02,\n",
      "          6.8847e-02,  1.0626e-03, -7.5023e-02,  7.1602e-02, -4.0981e-02,\n",
      "          4.0767e-02,  7.5802e-02, -6.0425e-02,  1.7235e-02,  5.0821e-02,\n",
      "          8.3140e-02,  1.3167e-02,  2.6680e-02, -6.4830e-02,  5.5779e-02,\n",
      "         -9.0534e-02,  9.9847e-02, -3.1031e-03,  5.7911e-02,  6.9321e-02,\n",
      "          9.3731e-03,  3.2732e-02,  3.0321e-02,  5.9752e-02,  3.1303e-02,\n",
      "          6.3695e-03,  2.3125e-02, -7.0286e-02,  4.5264e-02,  6.5522e-02,\n",
      "         -7.4623e-02,  8.3099e-02, -4.4565e-02,  1.1727e-02,  3.5105e-02,\n",
      "          3.4778e-03,  9.0734e-02, -3.9020e-02,  3.4256e-02,  3.6368e-03,\n",
      "          1.0575e-01, -1.6504e-02,  7.9786e-02, -6.4347e-02, -4.8117e-02,\n",
      "         -3.9463e-02,  7.0086e-02,  2.3705e-02, -4.9855e-02,  1.1373e-01,\n",
      "         -6.5004e-02,  2.3011e-02, -3.4230e-03,  5.1670e-02,  3.6870e-02,\n",
      "          3.0130e-02, -2.0769e-03,  6.2685e-02,  8.8427e-02,  2.5674e-03,\n",
      "          3.0983e-02,  2.3982e-02,  1.0642e-02],\n",
      "        [ 3.0522e-03, -5.1944e-02,  5.2972e-03, -2.1429e-02, -7.3821e-02,\n",
      "         -6.5500e-02,  3.4098e-02,  7.1311e-02, -8.6082e-03,  2.9657e-03,\n",
      "          4.1429e-01, -2.5259e-01, -1.3686e-01,  7.0605e-03,  6.5573e-02,\n",
      "         -7.0498e-02, -1.0419e-02,  6.7483e-03, -5.9071e-02, -4.5178e-02,\n",
      "         -7.0718e-02, -5.7109e-03, -7.1715e-02, -6.3738e-02,  1.8242e-01,\n",
      "         -7.4520e-02, -5.7485e-02,  2.2555e-02,  1.3590e-02,  7.2689e-02,\n",
      "         -1.1044e-01, -6.2101e-02,  1.9554e-03,  7.3552e-02, -1.7201e-01,\n",
      "          1.5375e-02, -3.8233e-01, -6.3335e-02, -9.6481e-02, -8.1634e-02,\n",
      "          6.5773e-02,  4.4709e-02, -1.2638e-01, -5.4883e-02,  1.4887e-02,\n",
      "          3.0530e-02,  6.5925e-02, -5.4037e-02,  8.0234e-02,  6.0020e-03,\n",
      "         -2.2735e-01, -3.2998e-02, -9.5407e-02, -2.7472e-03, -2.9523e-02,\n",
      "         -4.1170e-03,  1.6694e-03,  1.6820e-02, -1.4125e-01, -4.4666e-02,\n",
      "          1.4225e-01, -1.0697e-02,  2.1614e-01,  9.2254e-02, -7.2465e-02,\n",
      "          4.7941e-03,  2.4810e-03, -7.2583e-02,  5.9020e-03,  3.9688e-02,\n",
      "          7.9447e-03,  3.7295e-02, -6.2312e-02, -6.9767e-02,  1.8801e-02,\n",
      "         -9.1978e-02,  5.7683e-02, -5.4740e-02, -8.8198e-03, -3.7745e-02,\n",
      "          3.7804e-02,  3.0528e-02, -9.0499e-02,  6.1004e-02, -6.5479e-02,\n",
      "          3.2604e-02, -4.9457e-03,  3.3456e-01,  3.5562e-01,  3.0720e-01,\n",
      "         -9.6330e-02, -6.1972e-03,  4.0000e-02,  6.8666e-03,  5.1591e-02,\n",
      "         -9.1103e-02, -1.1671e-01, -3.7503e-02, -4.6161e-02,  6.5427e-02,\n",
      "         -8.6976e-02,  1.8465e-02,  2.8798e-01, -5.2998e-02, -2.2433e-02,\n",
      "          3.0831e-02, -2.1597e-01, -1.6101e-01,  8.0117e-02,  8.3186e-02,\n",
      "         -6.0007e-02, -2.4563e-02, -1.8401e-01, -5.2032e-02,  2.7531e-02,\n",
      "          4.2971e-02, -3.7889e-02, -9.9732e-02, -5.5005e-02,  5.8799e-02,\n",
      "         -1.8856e-02,  5.9521e-02,  1.8310e-02, -7.1646e-02,  6.2134e-02,\n",
      "         -2.3458e-02, -1.1442e-01, -7.5822e-02],\n",
      "        [-3.2354e-02, -2.6080e-02, -6.5845e-03, -2.7960e-02, -3.1882e-02,\n",
      "          6.4026e-02, -5.5787e-02, -5.1093e-02,  1.5273e-02,  5.6880e-02,\n",
      "          4.6007e-04, -4.1533e-03, -4.7843e-02, -7.5029e-02, -8.6370e-03,\n",
      "          7.6309e-02,  3.6486e-03,  1.0513e-01,  4.1640e-03,  3.2859e-03,\n",
      "         -5.5603e-03,  1.0610e-01, -1.5430e-02, -2.9007e-02, -1.3421e-02,\n",
      "         -5.2175e-02,  2.8068e-02,  6.1448e-02, -6.4533e-02, -1.6938e-02,\n",
      "          1.0752e-01,  8.1140e-02,  6.4869e-02,  9.3060e-02,  1.0863e-01,\n",
      "          4.7454e-02, -1.0628e-01,  8.4438e-02,  4.9078e-02, -7.1066e-02,\n",
      "          3.0919e-02, -5.9037e-02, -4.7918e-02,  8.4536e-02,  3.7096e-02,\n",
      "          4.3740e-02,  4.1535e-02, -2.7782e-02,  4.4676e-02,  4.3736e-02,\n",
      "          4.2216e-02, -2.4619e-02,  6.3885e-02,  1.1805e-01,  6.9519e-02,\n",
      "          9.4473e-02,  5.8835e-02,  9.2865e-02, -4.1291e-02, -7.0384e-03,\n",
      "          1.4599e-01,  5.9558e-02, -8.1145e-03, -5.9986e-02,  2.9941e-02,\n",
      "          5.7398e-02, -3.2170e-02,  3.5058e-02, -5.0283e-02,  7.8054e-02,\n",
      "          1.9745e-04, -6.4296e-02,  5.0591e-02,  6.3235e-02, -8.4234e-02,\n",
      "          1.1791e-02,  6.4411e-02,  8.6741e-02, -4.7588e-02, -2.3632e-02,\n",
      "         -1.3944e-02,  2.5052e-02, -4.5218e-02, -1.2447e-02,  7.6650e-02,\n",
      "         -5.4434e-02, -2.7000e-02,  1.1337e-01,  1.7143e-02,  5.4124e-02,\n",
      "          3.2954e-02, -4.2428e-02,  3.4111e-02,  8.3890e-02,  4.4602e-02,\n",
      "          3.6671e-03, -3.6855e-02, -4.5631e-02,  6.5917e-02, -5.0107e-02,\n",
      "          6.0739e-02,  4.9959e-02,  3.6689e-02,  5.2547e-02,  1.7509e-02,\n",
      "          3.8399e-02,  6.6415e-02, -2.9774e-02, -7.5392e-02,  8.2902e-03,\n",
      "          5.6508e-02, -4.8174e-02,  9.1354e-02, -2.5827e-02,  8.7024e-02,\n",
      "          7.0020e-02,  8.9258e-03, -2.2214e-02,  1.0026e-01,  1.1717e-01,\n",
      "          4.3893e-02, -4.3754e-02, -7.8634e-02,  2.0291e-03, -1.5730e-02,\n",
      "          9.1639e-02,  1.1133e-01,  7.5746e-02],\n",
      "        [-5.9490e-02,  2.8918e-04, -1.0152e-02, -6.9524e-02, -7.2864e-02,\n",
      "         -4.9961e-02, -4.2797e-02,  1.5340e-02, -6.8595e-02,  2.0079e-02,\n",
      "          1.9434e-03,  3.5209e-01, -7.2144e-02,  5.1645e-03,  7.3153e-02,\n",
      "          1.0658e-02,  5.2071e-03, -1.0214e-01, -2.9632e-02, -2.6544e-02,\n",
      "         -4.9317e-03, -7.2219e-02, -6.6566e-02, -1.8302e-03, -7.5043e-02,\n",
      "         -5.7296e-02, -7.4882e-02,  8.2549e-03,  2.0417e-02,  4.7992e-02,\n",
      "          1.4021e-03, -4.8016e-02,  4.9924e-02,  4.8736e-02, -8.0984e-03,\n",
      "          6.0804e-02, -1.2943e-01,  2.1920e-02, -4.7918e-02, -8.9644e-02,\n",
      "          8.1889e-02, -8.7798e-02, -6.0819e-02, -7.1737e-02, -1.9992e-02,\n",
      "         -2.5297e-02, -2.6372e-02,  7.7773e-02, -1.5802e-01,  1.3188e-02,\n",
      "          1.4581e-02, -2.0790e-02,  2.8308e-03, -9.9141e-02, -9.6958e-02,\n",
      "          6.9283e-04, -2.5757e-01,  3.6327e-02,  2.2261e-02,  5.3015e-02,\n",
      "          5.2989e-01, -1.1194e-01,  6.7073e-02,  2.5958e-02, -2.4307e-02,\n",
      "         -7.1657e-02,  4.3307e-02, -1.7963e-02,  5.3153e-02,  4.7908e-02,\n",
      "         -2.1869e-01,  2.9372e-02,  4.0118e-02,  1.6494e-02, -1.3622e-01,\n",
      "         -1.9135e-02,  3.9413e-02,  1.6880e-02,  6.9580e-03,  1.1089e-01,\n",
      "          2.8770e-01,  9.3261e-02,  2.9949e-02, -1.0473e-01, -9.0296e-02,\n",
      "         -1.7882e-02,  8.5655e-02, -1.3828e-01,  8.9190e-02, -5.9757e-02,\n",
      "         -3.9418e-02, -4.4736e-03, -5.6056e-02, -4.9525e-02, -4.4156e-02,\n",
      "          1.5449e-02, -1.0689e-03, -5.6210e-02, -8.8288e-02, -1.7333e-02,\n",
      "          4.1639e-02, -1.1864e-02, -6.3066e-02, -5.7085e-02, -1.0904e-01,\n",
      "          1.1183e-02,  2.4547e-01, -1.0119e-01,  2.6909e-02,  7.5027e-02,\n",
      "         -8.6165e-02, -1.0649e-01, -1.5677e-01, -7.0179e-02, -8.3324e-02,\n",
      "          3.5377e-02, -8.0965e-02,  2.7309e-02,  1.3235e-02,  1.3155e-02,\n",
      "         -6.2920e-02, -8.9202e-02,  7.0531e-02, -5.4687e-03, -1.3075e-01,\n",
      "         -5.0441e-02,  8.7348e-02, -1.0035e-01]])\n",
      "fc2.bias tensor([-0.0501, -0.0860, -0.0415, -0.0278])\n"
     ]
    }
   ],
   "source": [
    "for name, param in model.named_parameters():\n",
    "    if param.requires_grad:\n",
    "        print(name, param.data)"
   ],
   "metadata": {
    "collapsed": false
   }
  },
  {
   "cell_type": "code",
   "execution_count": 36,
   "metadata": {},
   "outputs": [
    {
     "data": {
      "text/plain": "<Figure size 432x288 with 1 Axes>",
      "image/png": "[encoded data removed]"
     },
     "metadata": {},
     "output_type": "display_data"
    },
    {
     "data": {
      "text/plain": "<Figure size 432x288 with 1 Axes>",
      "image/png": "[encoded data removed]"
     },
     "metadata": {},
     "output_type": "display_data"
    },
    {
     "data": {
      "text/plain": "<Figure size 432x288 with 1 Axes>",
      "image/png": "[encoded data removed]"
     },
     "metadata": {},
     "output_type": "display_data"
    }
   ],
   "source": [
    "# model.eval()\n",
    "distances = []\n",
    "\n",
    "num_spins = 4\n",
    "even_qubits = np.linspace(0, num_spins, int(num_spins/2), endpoint=False)\n",
    "odd_qubits = np.linspace(1, num_spins+1, int(num_spins/2), endpoint=False)\n",
    "\n",
    "for batch_X, batch_y in test_loader:\n",
    "    out = model(batch_X)\n",
    "\n",
    "    for ideal, noisy, ngm_mitigated in zip(\n",
    "        batch_y.tolist(),\n",
    "        batch_X[:, -4:].tolist(),\n",
    "        out.tolist()\n",
    "    ):\n",
    "        imbalance_ideal = calc_imbalance([ideal], even_qubits, odd_qubits)[0]\n",
    "        imbalance_noisy = calc_imbalance([noisy], even_qubits, odd_qubits)[0]\n",
    "        imbalance_mitigated = calc_imbalance([ngm_mitigated], even_qubits, odd_qubits)[0]\n",
    "        ideal = np.mean(ideal)\n",
    "        noisy = np.mean(noisy)\n",
    "        ngm_mitigated = np.mean(ngm_mitigated)\n",
    "        distances.append({\n",
    "            \"ideal\": ideal,\n",
    "            \"noisy\": noisy,\n",
    "            \"ngm_mitigated\": ngm_mitigated,\n",
    "            \"dist_noisy\": np.abs(ideal - noisy),\n",
    "            \"dist_ngm\": np.abs(ideal - ngm_mitigated),\n",
    "            \"imb_ideal\": imbalance_ideal,\n",
    "            \"imb_noisy\": imbalance_noisy,\n",
    "            \"imb_ngm\": imbalance_mitigated,\n",
    "            \"imb_diff\": imbalance_ideal - imbalance_mitigated\n",
    "        })\n",
    "\n",
    "plt.style.use({'figure.facecolor':'white'})\n",
    "\n",
    "df = pd.DataFrame(distances)\n",
    "sns.boxplot(data=df[[\"dist_noisy\", \"dist_ngm\"]], orient=\"h\", showfliers = False)\n",
    "plt.title(\"Dist to ideal exp value\")\n",
    "plt.show()\n",
    "\n",
    "sns.histplot([df['imb_ideal'], df['imb_noisy'], df[\"imb_ngm\"]], kde=True, bins=40)\n",
    "plt.title(\"Exp values distribution\")\n",
    "plt.show()\n",
    "\n",
    "sns.histplot(data=df[\"imb_diff\"], kde=True, bins=40)\n",
    "plt.title(\"Dist to ideal exp value\")\n",
    "plt.show()"
   ]
  },
  {
   "cell_type": "code",
   "execution_count": 22,
   "metadata": {},
   "outputs": [
    {
     "data": {
      "text/plain": "  0%|          | 0/10 [00:00<?, ?it/s]",
      "application/vnd.jupyter.widget-view+json": {
       "version_major": 2,
       "version_minor": 0,
       "model_id": "81f9ab7da84745b7aee2ce16fb9ff191"
      }
     },
     "metadata": {},
     "output_type": "display_data"
    }
   ],
   "source": [
    "## Now we need to average over many disorders\n",
    "num_disorders = 10\n",
    "\n",
    "num_spins = 4 # Number of spins. Must be even.\n",
    "W = 0.8 * np.pi # Disorder strength up to np.pi\n",
    "theta = 0.05 * np.pi # Interaction strength up to np.pi\n",
    "max_steps = 10\n",
    "\n",
    "even_qubits = np.linspace(0, num_spins, int(num_spins/2), endpoint=False)\n",
    "odd_qubits = np.linspace(1, num_spins+1, int(num_spins/2), endpoint=False)\n",
    "\n",
    "# For each disorder realization, make a new disorder\n",
    "# and compute the charge imbalance using the same physics parameters as before\n",
    "imbalance_all_ideal = []\n",
    "imbalance_all_noisy = []\n",
    "imbalance_all_mitigated = []\n",
    "\n",
    "for disorder_realization in tqdm(range(num_disorders)):\n",
    "    disorders = generate_disorder(num_spins, W)\n",
    "    # print(disorders)\n",
    "\n",
    "    qc_list = []\n",
    "    for steps in range(max_steps):\n",
    "        qc_list.append(train_circuits[np.random.choice(list(range(190)))+ steps *500 ])\n",
    "        # qc_list.append(construct_mbl_circuit(num_spins, disorders, theta, steps))\n",
    "\n",
    "    transpiled_qc_list = transpile(qc_list, backend_noisy, optimization_level=3)\n",
    "    job_ideal = execute(qc_list, **run_config_ideal)\n",
    "    job_noisy = execute(transpiled_qc_list, **run_config_noisy)\n",
    "\n",
    "    exp_Z_ideal = []\n",
    "    exp_Z_noisy = []\n",
    "    exp_Z_mitigated = []\n",
    "\n",
    "    for i in range(len(qc_list)):\n",
    "        counts_ideal = job_ideal.result().get_counts()[i]\n",
    "        counts_noisy = job_noisy.result().get_counts()[i]\n",
    "\n",
    "        ideal_exp_val = cal_z_exp(counts_ideal)\n",
    "        noisy_exp_val = cal_z_exp(counts_noisy)\n",
    "\n",
    "        exp_Z_ideal.append(list(ideal_exp_val)) # Single-Z expectation value of each qubit\n",
    "        exp_Z_noisy.append(list(noisy_exp_val)) # Single-Z expectation value of each qubit\n",
    "\n",
    "        # print(entry.batch)\n",
    "        X, _ = encode_data([transpiled_qc_list[i]], properties, ideal_exp_val, noisy_exp_val, num_qubits=4)\n",
    "        mitigated_exp_val = model(X).tolist()[0]\n",
    "\n",
    "        exp_Z_mitigated.append(mitigated_exp_val)\n",
    "\n",
    "    imbalance_ideal = calc_imbalance(exp_Z_ideal, even_qubits, odd_qubits)\n",
    "    imbalance_noisy = calc_imbalance(exp_Z_noisy, even_qubits, odd_qubits)\n",
    "    imbalance_mitigated = calc_imbalance(exp_Z_mitigated, even_qubits, odd_qubits)\n",
    "\n",
    "    imbalance_all_ideal.append(imbalance_ideal)\n",
    "    imbalance_all_noisy.append(imbalance_noisy)\n",
    "    imbalance_all_mitigated.append(imbalance_mitigated)\n",
    "\n",
    "# Average imbalance\n",
    "imbalance_ideal_average = np.mean(imbalance_all_ideal, axis=0)\n",
    "imbalance_noisy_average = np.mean(imbalance_all_noisy, axis=0)\n",
    "imbalance_mitigated_average = np.mean(imbalance_all_mitigated, axis=0)"
   ]
  },
  {
   "cell_type": "code",
   "execution_count": 23,
   "metadata": {},
   "outputs": [
    {
     "data": {
      "text/plain": "<Figure size 432x288 with 2 Axes>",
      "image/png": "[encoded data removed]"
     },
     "metadata": {},
     "output_type": "display_data"
    }
   ],
   "source": [
    "## Plot\n",
    "fig = plt.figure()\n",
    "ax1 = fig.add_subplot(111)\n",
    "ax2 = ax1.twiny()\n",
    "\n",
    "for disorder_realization in range(num_disorders):\n",
    "    ax1.plot(imbalance_all_ideal[disorder_realization], color=(0.0, 0.0, 1.0, 0.1))\n",
    "    ax1.plot(imbalance_all_noisy[disorder_realization], color=(1.0, 0.0, 0.0, 0.1))\n",
    "    ax1.plot(imbalance_all_mitigated[disorder_realization], color=(0.0, 1.0, 0.0, 0.1))\n",
    "\n",
    "ax1.plot(imbalance_ideal_average, color='blue', label=\"ideal\")\n",
    "ax1.plot(imbalance_noisy_average, color='red', label=\"noisy\")\n",
    "ax1.plot(imbalance_mitigated_average, color='green', label=\"mitigated\")\n",
    "\n",
    "ax1.axvline(x = 10, color = 'gray', label = 'training data availability')\n",
    "\n",
    "ax1.set_xlabel('Floquet steps')\n",
    "ax1.set_ylabel('Imbalance')\n",
    "ax1.legend()\n",
    "\n",
    "xmin,xmax = ax1.get_xlim()\n",
    "max_x = max_steps + 10\n",
    "ax1.set_xlim([0, max_x-1])\n",
    "ax2.set_xlim([0, max_x-1])\n",
    "# ax1.set_ylim([0.4, 1.03])\n",
    "ax1.set_xticks(np.arange(0, max_x, 4))\n",
    "x2 = np.linspace(xmin, xmax, 50)\n",
    "ax2.plot(x2, -np.ones(50)) # Create a dummy plot\n",
    "ax2.set_xticks(np.arange(0, max_x, 4))\n",
    "ax2.set_xticklabels(2*np.arange(0, max_x, 4))\n",
    "ax2.set_xlabel(r\"2q gate depth\")\n",
    "# ax1.grid(None)\n",
    "ax2.grid(None)\n",
    "\n",
    "plt.style.use({'figure.facecolor':'white'})\n",
    "plt.show()"
   ]
  },
  {
   "cell_type": "code",
   "execution_count": null,
   "metadata": {},
   "outputs": [],
   "source": []
  }
 ],
 "metadata": {
  "kernelspec": {
   "display_name": "Python 3 (ipykernel)",
   "language": "python",
   "name": "python3"
  },
  "language_info": {
   "codemirror_mode": {
    "name": "ipython",
    "version": 3
   },
   "file_extension": ".py",
   "mimetype": "text/x-python",
   "name": "python",
   "nbconvert_exporter": "python",
   "pygments_lexer": "ipython3",
   "version": "3.10.9"
  }
 },
 "nbformat": 4,
 "nbformat_minor": 1
}
