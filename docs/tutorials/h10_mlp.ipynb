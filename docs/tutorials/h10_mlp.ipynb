{
 "cells": [
  {
   "cell_type": "code",
   "execution_count": 1,
   "metadata": {},
   "outputs": [],
   "source": [
    "import json, os, pickle\n",
    "import numpy as np\n",
    "from tqdm.notebook import tqdm\n",
    "import pandas as pd\n",
    "\n",
    "import torch\n",
    "from torch.utils.data import Dataset, DataLoader, TensorDataset\n",
    "from torch.optim.lr_scheduler import ReduceLROnPlateau\n",
    "import torch.nn as nn\n",
    "\n",
    "import qiskit\n",
    "from qiskit import QuantumCircuit, execute\n",
    "from qiskit.compiler import transpile\n",
    "from qiskit_aer import AerSimulator, QasmSimulator\n",
    "from qiskit.converters import circuit_to_dag, dag_to_circuit\n",
    "from qiskit.quantum_info import SparsePauliOp, Operator\n",
    "from qiskit.circuit.library import CXGate, RXGate, IGate, ZGate\n",
    "from qiskit.providers.fake_provider import FakeMontreal, FakeLima\n",
    "\n",
    "from blackwater.data.utils import (\n",
    "    generate_random_pauli_sum_op,\n",
    "    create_estimator_meas_data,\n",
    "    circuit_to_graph_data_json,\n",
    "    get_backend_properties_v1,\n",
    "    encode_pauli_sum_op,\n",
    "    create_meas_data_from_estimators\n",
    ")\n",
    "\n",
    "from mlp import MLP1, MLP2\n",
    "\n",
    "from mbd_utils import cal_z_exp, generate_disorder, construct_mbl_circuit, calc_imbalance\n",
    "\n",
    "import matplotlib.pyplot as plt\n",
    "import seaborn as sns"
   ]
  },
  {
   "cell_type": "code",
   "execution_count": 2,
   "metadata": {},
   "outputs": [],
   "source": [
    "backend = FakeLima()\n",
    "properties = get_backend_properties_v1(backend)\n",
    "\n",
    "## Local\n",
    "backend_ideal = QasmSimulator() # Noiseless\n",
    "backend_noisy = AerSimulator.from_backend(FakeLima()) # Noisy\n",
    "\n",
    "run_config_ideal = {'shots': 10000, 'backend': backend_ideal, 'name': 'ideal'}\n",
    "run_config_noisy = {'shots': 10000, 'backend': backend_noisy, 'name': 'noisy'}"
   ]
  },
  {
   "cell_type": "code",
   "execution_count": 3,
   "metadata": {},
   "outputs": [],
   "source": [
    "def load_circuits(data_dir):\n",
    "    circuits = []\n",
    "    ideal_exp_vals = []\n",
    "    noisy_exp_vals = []\n",
    "    data_files = [os.path.join(data_dir, f) for f in os.listdir(data_dir) if f.endswith('.json')]\n",
    "    for data_file in tqdm(data_files, leave=True):\n",
    "        for entry in tqdm(json.load(open(data_file, 'r')), leave=False, position=0):\n",
    "            circuits.append(QuantumCircuit.from_qasm_str(entry['circuit']))\n",
    "            ideal_exp_vals.append(entry['ideal_exp_value'])\n",
    "            noisy_exp_vals.append(entry['noisy_exp_values'])\n",
    "    return circuits, ideal_exp_vals, noisy_exp_vals"
   ]
  },
  {
   "cell_type": "code",
   "execution_count": null,
   "metadata": {},
   "outputs": [],
   "source": [
    "# train_circuits, train_ideal_exp_vals, train_noisy_exp_vals = load_circuits('./data/mbd_datasets2/theta_0.05pi/train/')\n",
    "# print(len(train_circuits))\n",
    "\n",
    "# test_circuits, test_ideal_exp_vals, test_noisy_exp_vals = load_circuits('./data/mbd_datasets2/theta_0.05pi/val/')\n",
    "# print(len(test_circuits))"
   ]
  },
  {
   "cell_type": "code",
   "execution_count": 3,
   "metadata": {},
   "outputs": [],
   "source": [
    "# to_save = {'train_circuits': train_circuits,\n",
    "#            'train_ideal_exp_vals': train_ideal_exp_vals,\n",
    "#            'train_noisy_exp_vals': train_noisy_exp_vals,\n",
    "#            'test_circuits': test_circuits,\n",
    "#            'test_ideal_exp_vals': test_ideal_exp_vals,\n",
    "#            'test_noisy_exp_vals': test_noisy_exp_vals}\n",
    "# with open('./data/mbd_datasets2/theta_0.05pi/circuits.pk', 'wb') as out:\n",
    "#     pickle.dump(to_save, out)\n",
    "\n",
    "with open('./data/mbd_datasets2/theta_0.05pi/circuits.pk', 'rb') as infile:\n",
    "    loaded = pickle.load(infile)\n",
    "    \n",
    "train_circuits = loaded['train_circuits']\n",
    "test_circuits = loaded['test_circuits']\n",
    "train_ideal_exp_vals = loaded['train_ideal_exp_vals']\n",
    "train_noisy_exp_vals = loaded['train_noisy_exp_vals']\n",
    "test_ideal_exp_vals = loaded['test_ideal_exp_vals']\n",
    "test_noisy_exp_vals = loaded['test_noisy_exp_vals']"
   ]
  },
  {
   "cell_type": "code",
   "execution_count": 4,
   "metadata": {},
   "outputs": [],
   "source": [
    "def encode_data(circuits, properties, ideal_exp_vals, noisy_exp_vals, num_qubits):\n",
    "    gates_set = properties['gates_set']\n",
    "\n",
    "    def recursive_dict_loop(my_dict, parent_key=None, out=[], target_key1=None, target_key2=None):\n",
    "        for key, val in my_dict.items():\n",
    "            if isinstance(val, dict):\n",
    "                recursive_dict_loop(val, key, out, target_key1, target_key2)\n",
    "            else:\n",
    "                if parent_key and target_key1 in str(parent_key) and key == target_key2:\n",
    "                    out += [val]\n",
    "        return out\n",
    "\n",
    "    vec = [np.mean(recursive_dict_loop(properties, target_key1='cx', target_key2='gate_error'))]\n",
    "    vec += [np.mean(recursive_dict_loop(properties, target_key1='id', target_key2='gate_error'))]\n",
    "    vec += [np.mean(recursive_dict_loop(properties, target_key1='sx', target_key2='gate_error'))]\n",
    "    vec += [np.mean(recursive_dict_loop(properties, target_key1='x', target_key2='gate_error'))]\n",
    "    vec += [np.mean(recursive_dict_loop(properties, target_key1='rz', target_key2='gate_error'))]\n",
    "    vec += [np.mean(recursive_dict_loop(properties, target_key1='', target_key2='readout_error'))]\n",
    "    vec += [np.mean(recursive_dict_loop(properties, target_key1='', target_key2='t1'))]\n",
    "    vec += [np.mean(recursive_dict_loop(properties, target_key1='', target_key2='t2'))]\n",
    "    vec = torch.tensor(vec) * 100 # put it in the same order of magnitude as the expectation values\n",
    "\n",
    "    bin_size = 0.1 * np.pi\n",
    "    num_angle_bins = int(np.ceil(4 * np.pi / bin_size))\n",
    "\n",
    "    X = torch.zeros([len(circuits), len(vec) + len(gates_set) + num_angle_bins + num_qubits])\n",
    "\n",
    "    X[:, :len(vec)] = vec[None, :]\n",
    "\n",
    "    for i, circ in enumerate(circuits):\n",
    "        gate_counts = circ.count_ops()\n",
    "        X[i, len(vec):len(vec) + len(gates_set)] = torch.tensor(\n",
    "            [gate_counts.get(key, 0) for key in gates_set]\n",
    "        ) * 0.01 # put it in the same order of magnitude as the expectation values\n",
    "\n",
    "    def count_gates_by_rotation_angle(circuit):\n",
    "        angles = []\n",
    "        for instr, qargs, cargs in circuit.data:\n",
    "            if instr.name in ['rx', 'ry', 'rz'] and len(qargs) == 1:\n",
    "                angles += [instr.params[0]]\n",
    "        bin_edges = np.arange(-2 * np.pi, 2 * np.pi + bin_size, bin_size)\n",
    "        counts, _ = np.histogram(angles, bins=bin_edges)\n",
    "        bin_labels = [f\"{left:.2f} to {right:.2f}\" for left, right in zip(bin_edges[:-1], bin_edges[1:])]\n",
    "        angle_bins = {label: count for label, count in zip(bin_labels, counts)}\n",
    "        return list(angle_bins.values())\n",
    "\n",
    "    for i, circ in enumerate(circuits):\n",
    "        gate_counts = count_gates_by_rotation_angle(circ)\n",
    "        X[i, len(vec) + len(gates_set) : -num_qubits] = torch.tensor(gate_counts) * 0.01 # put it in the same order of magnitude as the expectation values\n",
    "        X[i, -num_qubits:] = torch.tensor(noisy_exp_vals[i])\n",
    "\n",
    "    y = torch.tensor(ideal_exp_vals)\n",
    "\n",
    "    return X, y"
   ]
  },
  {
   "cell_type": "code",
   "execution_count": 5,
   "metadata": {},
   "outputs": [],
   "source": [
    "X_train, y_train = encode_data(train_circuits, properties, train_ideal_exp_vals, train_noisy_exp_vals, num_qubits=4)\n",
    "X_test, y_test = encode_data(test_circuits, properties, test_ideal_exp_vals, test_noisy_exp_vals, num_qubits=4)"
   ]
  },
  {
   "cell_type": "code",
   "execution_count": 6,
   "metadata": {},
   "outputs": [],
   "source": [
    "BATCH_SIZE = 32\n",
    "\n",
    "train_dataset = TensorDataset(torch.Tensor(X_train), torch.Tensor(y_train))\n",
    "train_loader = DataLoader(train_dataset, batch_size=BATCH_SIZE, shuffle=True)\n",
    "test_dataset = TensorDataset(torch.Tensor(X_test), torch.Tensor(y_test))\n",
    "test_loader = DataLoader(test_dataset, batch_size=10000, shuffle=False)"
   ]
  },
  {
   "cell_type": "code",
   "execution_count": 7,
   "outputs": [],
   "source": [
    "model = MLP1(\n",
    "    input_size=58,\n",
    "    output_size=4,\n",
    "    hidden_size=128\n",
    ")\n",
    "\n",
    "criterion = nn.MSELoss()\n",
    "optimizer = torch.optim.Adam(model.parameters(), lr=0.001)\n",
    "scheduler = ReduceLROnPlateau(optimizer,\n",
    "                            'min',\n",
    "                              factor=0.1,\n",
    "                              patience=15,\n",
    "                              verbose=True,\n",
    "                              min_lr=0.00001)"
   ],
   "metadata": {
    "collapsed": false
   }
  },
  {
   "cell_type": "code",
   "execution_count": 8,
   "outputs": [
    {
     "name": "stdout",
     "output_type": "stream",
     "text": [
      "8068\n",
      "5024 32\n"
     ]
    }
   ],
   "source": [
    "print(sum(p.numel() for p in model.parameters() if p.requires_grad))\n",
    "print(len(train_loader) * BATCH_SIZE, len(test_loader) * BATCH_SIZE)"
   ],
   "metadata": {
    "collapsed": false
   }
  },
  {
   "cell_type": "code",
   "execution_count": 17,
   "metadata": {},
   "outputs": [
    {
     "data": {
      "text/plain": "Model training:   0%|          | 0/100 [00:00<?, ?it/s]",
      "application/vnd.jupyter.widget-view+json": {
       "version_major": 2,
       "version_minor": 0,
       "model_id": "271cf3ebedc4426287a40bb79b0454de"
      }
     },
     "metadata": {},
     "output_type": "display_data"
    },
    {
     "name": "stdout",
     "output_type": "stream",
     "text": [
      "Epoch 00042: reducing learning rate of group 0 to 1.0000e-04.\n",
      "Epoch 00081: reducing learning rate of group 0 to 1.0000e-05.\n"
     ]
    }
   ],
   "source": [
    "train_losses = []\n",
    "test_losses = []\n",
    "\n",
    "N_EPOCHS = 100\n",
    "\n",
    "progress = tqdm(range(N_EPOCHS), desc='Model training', leave=True)\n",
    "for epoch in progress:\n",
    "    train_loss = 0.0\n",
    "    model.train()\n",
    "    for batch_X, batch_y in train_loader:\n",
    "        optimizer.zero_grad()\n",
    "        outputs = model(batch_X).squeeze()\n",
    "        loss = criterion(outputs, batch_y)\n",
    "        loss.backward()\n",
    "        optimizer.step()\n",
    "\n",
    "        train_loss += loss.item()\n",
    "\n",
    "    test_loss = 0.0\n",
    "    model.eval()\n",
    "    for batch_X, batch_y in test_loader:\n",
    "        outputs = model(batch_X).squeeze()\n",
    "        loss = criterion(outputs, batch_y)\n",
    "        test_loss += loss.item()\n",
    "\n",
    "    scheduler.step(test_loss)\n",
    "\n",
    "    if epoch >= 1:\n",
    "        train_losses.append(train_loss / len(train_loader))\n",
    "        test_losses.append(test_loss / len(test_loader))\n",
    "\n",
    "        progress.set_description(f\"{round(train_losses[-1], 5)}, {round(test_losses[-1], 5)}\")\n",
    "        progress.refresh()"
   ]
  },
  {
   "cell_type": "code",
   "execution_count": 19,
   "metadata": {},
   "outputs": [
    {
     "data": {
      "text/plain": "<Figure size 432x288 with 1 Axes>",
      "image/png": "[encoded data removed]"
     },
     "metadata": {},
     "output_type": "display_data"
    }
   ],
   "source": [
    "plt.plot(train_losses, label=\"train_loss\")\n",
    "plt.plot(test_losses, label=\"test_loss\")\n",
    "plt.yscale('log')\n",
    "\n",
    "plt.style.use({'figure.facecolor':'white'})\n",
    "plt.legend()\n",
    "plt.show()"
   ]
  },
  {
   "cell_type": "code",
   "execution_count": 11,
   "metadata": {},
   "outputs": [],
   "source": [
    "model_path = './model/haoran_mbd2/mlp_mbd.pth'"
   ]
  },
  {
   "cell_type": "code",
   "execution_count": 20,
   "metadata": {},
   "outputs": [],
   "source": [
    "# torch.save(model.state_dict(), model_path)"
   ]
  },
  {
   "cell_type": "code",
   "execution_count": 21,
   "metadata": {},
   "outputs": [],
   "source": [
    "# import pickle\n",
    "#\n",
    "# to_save = {'train_losses': train_losses, 'val_losses': test_losses}\n",
    "# with open('.'+model_path.split('.')[1]+'.pk', 'wb') as handle:\n",
    "#     pickle.dump(to_save, handle, protocol=pickle.HIGHEST_PROTOCOL)"
   ]
  },
  {
   "cell_type": "code",
   "execution_count": 12,
   "metadata": {},
   "outputs": [
    {
     "data": {
      "text/plain": "MLP1(\n  (fc1): Linear(in_features=58, out_features=128, bias=True)\n  (relu): ReLU()\n  (fc2): Linear(in_features=128, out_features=4, bias=True)\n)"
     },
     "execution_count": 12,
     "metadata": {},
     "output_type": "execute_result"
    }
   ],
   "source": [
    "model = MLP1(\n",
    "    input_size=58,\n",
    "    output_size=4,\n",
    "    hidden_size=128\n",
    ")\n",
    "model.load_state_dict(torch.load(model_path))\n",
    "model.eval()"
   ]
  },
  {
   "cell_type": "code",
   "execution_count": 13,
   "metadata": {},
   "outputs": [
    {
     "data": {
      "text/plain": "<Figure size 432x288 with 1 Axes>",
      "image/png": "[encoded data removed]"
     },
     "metadata": {},
     "output_type": "display_data"
    },
    {
     "data": {
      "text/plain": "<Figure size 432x288 with 1 Axes>",
      "image/png": "[encoded data removed]"
     },
     "metadata": {},
     "output_type": "display_data"
    },
    {
     "data": {
      "text/plain": "<Figure size 432x288 with 1 Axes>",
      "image/png": "[encoded data removed]"
     },
     "metadata": {},
     "output_type": "display_data"
    }
   ],
   "source": [
    "model.eval()\n",
    "distances = []\n",
    "\n",
    "num_spins = 4\n",
    "even_qubits = np.linspace(0, num_spins, int(num_spins/2), endpoint=False)\n",
    "odd_qubits = np.linspace(1, num_spins+1, int(num_spins/2), endpoint=False)\n",
    "\n",
    "for batch_X, batch_y in test_loader:\n",
    "    out = model(batch_X)\n",
    "\n",
    "    for ideal, noisy, ngm_mitigated in zip(\n",
    "        batch_y.tolist(),\n",
    "        batch_X[:, -4:].tolist(),\n",
    "        out.tolist()\n",
    "    ):\n",
    "        imbalance_ideal = calc_imbalance([ideal], even_qubits, odd_qubits)[0]\n",
    "        imbalance_noisy = calc_imbalance([noisy], even_qubits, odd_qubits)[0]\n",
    "        imbalance_mitigated = calc_imbalance([ngm_mitigated], even_qubits, odd_qubits)[0]\n",
    "        ideal = np.mean(ideal)\n",
    "        noisy = np.mean(noisy)\n",
    "        ngm_mitigated = np.mean(ngm_mitigated)\n",
    "        distances.append({\n",
    "            \"ideal\": ideal,\n",
    "            \"noisy\": noisy,\n",
    "            \"ngm_mitigated\": ngm_mitigated,\n",
    "            \"dist_noisy\": np.abs(ideal - noisy),\n",
    "            \"dist_ngm\": np.abs(ideal - ngm_mitigated),\n",
    "            \"imb_ideal\": imbalance_ideal,\n",
    "            \"imb_noisy\": imbalance_noisy,\n",
    "            \"imb_ngm\": imbalance_mitigated,\n",
    "            \"imb_diff\": imbalance_ideal - imbalance_mitigated\n",
    "        })\n",
    "\n",
    "plt.style.use({'figure.facecolor':'white'})\n",
    "\n",
    "df = pd.DataFrame(distances)\n",
    "sns.boxplot(data=df[[\"dist_noisy\", \"dist_ngm\"]], orient=\"h\", showfliers = False)\n",
    "plt.title(\"Dist to ideal exp value\")\n",
    "plt.show()\n",
    "\n",
    "sns.histplot([df['imb_ideal'], df['imb_noisy'], df[\"imb_ngm\"]], kde=True, bins=40)\n",
    "plt.title(\"Exp values distribution\")\n",
    "plt.show()\n",
    "\n",
    "sns.histplot(data=df[\"imb_diff\"], kde=True, bins=40)\n",
    "plt.title(\"Dist to ideal exp value\")\n",
    "plt.show()"
   ]
  },
  {
   "cell_type": "code",
   "execution_count": 14,
   "metadata": {},
   "outputs": [
    {
     "data": {
      "text/plain": "  0%|          | 0/30 [00:00<?, ?it/s]",
      "application/vnd.jupyter.widget-view+json": {
       "version_major": 2,
       "version_minor": 0,
       "model_id": "4bd8937670e246d18a2d821deafbb967"
      }
     },
     "metadata": {},
     "output_type": "display_data"
    }
   ],
   "source": [
    "model.eval()\n",
    "num_disorders = 30\n",
    "\n",
    "num_spins = 4 # Number of spins. Must be even.\n",
    "W = 0.8 * np.pi\n",
    "theta = 0.05 * np.pi\n",
    "max_steps = 5\n",
    "\n",
    "even_qubits = np.linspace(0, num_spins, int(num_spins/2), endpoint=False)\n",
    "odd_qubits = np.linspace(1, num_spins+1, int(num_spins/2), endpoint=False)\n",
    "\n",
    "# For each disorder realization, make a new disorder\n",
    "# and compute the charge imbalance using the same physics parameters as before\n",
    "imbalance_all_ideal = []\n",
    "imbalance_all_noisy = []\n",
    "imbalance_all_mitigated = []\n",
    "\n",
    "for disorder_realization in tqdm(range(num_disorders)):\n",
    "    disorders = generate_disorder(num_spins, W)\n",
    "\n",
    "    qc_list = []\n",
    "    for steps in range(max_steps):\n",
    "        # qc_list.append(np.random.choice(test_circuits))\n",
    "        qc_list.append(construct_mbl_circuit(num_spins, disorders, theta, steps))\n",
    "\n",
    "    transpiled_qc_list = transpile(qc_list, backend_noisy, optimization_level=3)\n",
    "    job_ideal = execute(qc_list, **run_config_ideal)\n",
    "    job_noisy = execute(transpiled_qc_list, **run_config_noisy)\n",
    "\n",
    "    exp_Z_ideal = []\n",
    "    exp_Z_noisy = []\n",
    "    exp_Z_mitigated = []\n",
    "\n",
    "    for i in range(len(transpiled_qc_list)):\n",
    "        counts_ideal = job_ideal.result().get_counts()[i]\n",
    "        counts_noisy = job_noisy.result().get_counts()[i]\n",
    "\n",
    "        ideal_exp_val = cal_z_exp(counts_ideal)\n",
    "        noisy_exp_val = cal_z_exp(counts_noisy)\n",
    "\n",
    "        exp_Z_ideal.append(list(ideal_exp_val)) # Single-Z expectation value of each qubit\n",
    "        exp_Z_noisy.append(list(noisy_exp_val)) # Single-Z expectation value of each qubit\n",
    "\n",
    "        X, _ = encode_data([transpiled_qc_list[i]], properties, ideal_exp_val, noisy_exp_val, num_qubits=4)\n",
    "        mitigated_exp_val = model(X).tolist()[0]\n",
    "\n",
    "        exp_Z_mitigated.append(mitigated_exp_val)\n",
    "\n",
    "    imbalance_ideal = calc_imbalance(exp_Z_ideal, even_qubits, odd_qubits)\n",
    "    imbalance_noisy = calc_imbalance(exp_Z_noisy, even_qubits, odd_qubits)\n",
    "    imbalance_mitigated = calc_imbalance(exp_Z_mitigated, even_qubits, odd_qubits)\n",
    "\n",
    "    imbalance_all_ideal.append(imbalance_ideal)\n",
    "    imbalance_all_noisy.append(imbalance_noisy)\n",
    "    imbalance_all_mitigated.append(imbalance_mitigated)\n",
    "\n",
    "# Average imbalance\n",
    "imbalance_ideal_average = np.mean(imbalance_all_ideal, axis=0)\n",
    "imbalance_noisy_average = np.mean(imbalance_all_noisy, axis=0)\n",
    "imbalance_mitigated_average = np.mean(imbalance_all_mitigated, axis=0)"
   ]
  },
  {
   "cell_type": "code",
   "execution_count": 16,
   "metadata": {},
   "outputs": [
    {
     "data": {
      "text/plain": "<Figure size 432x288 with 2 Axes>",
      "image/png": "[encoded data removed]"
     },
     "metadata": {},
     "output_type": "display_data"
    }
   ],
   "source": [
    "## Plot\n",
    "fig = plt.figure()\n",
    "ax1 = fig.add_subplot(111)\n",
    "ax2 = ax1.twiny()\n",
    "\n",
    "for disorder_realization in range(num_disorders):\n",
    "    ax1.plot(imbalance_all_ideal[disorder_realization], color=(0.0, 0.0, 1.0, 0.1))\n",
    "    ax1.plot(imbalance_all_noisy[disorder_realization], color=(1.0, 0.0, 0.0, 0.1))\n",
    "    ax1.plot(imbalance_all_mitigated[disorder_realization], color=(0.0, 1.0, 0.0, 0.1))\n",
    "\n",
    "ax1.plot(imbalance_ideal_average, color='blue', label=\"ideal\")\n",
    "ax1.plot(imbalance_noisy_average, color='red', label=\"noisy\")\n",
    "ax1.plot(imbalance_mitigated_average, color='green', label=\"mitigated\")\n",
    "\n",
    "ax1.axvline(x = 10, color = 'gray', label = 'training data availability')\n",
    "\n",
    "ax1.set_xlabel('Floquet steps')\n",
    "ax1.set_ylabel('Imbalance')\n",
    "ax1.legend()\n",
    "\n",
    "xmin,xmax = ax1.get_xlim()\n",
    "max_x = max_steps + 10\n",
    "ax1.set_xlim([0, max_x-1])\n",
    "ax2.set_xlim([0, max_x-1])\n",
    "ax1.set_ylim([0.4, 1.03])\n",
    "ax1.set_xticks(np.arange(0, max_x, 4))\n",
    "x2 = np.linspace(xmin, xmax, 50)\n",
    "ax2.plot(x2, -np.ones(50)) # Create a dummy plot\n",
    "ax2.set_xticks(np.arange(0, max_x, 4))\n",
    "ax2.set_xticklabels(2*np.arange(0, max_x, 4))\n",
    "ax2.set_xlabel(r\"2q gate depth\")\n",
    "# ax1.grid(None)\n",
    "ax2.grid(None)\n",
    "\n",
    "plt.style.use({'figure.facecolor':'white'})\n",
    "plt.show()"
   ]
  },
  {
   "cell_type": "code",
   "execution_count": null,
   "metadata": {},
   "outputs": [],
   "source": []
  }
 ],
 "metadata": {
  "kernelspec": {
   "display_name": "Python 3 (ipykernel)",
   "language": "python",
   "name": "python3"
  },
  "language_info": {
   "codemirror_mode": {
    "name": "ipython",
    "version": 3
   },
   "file_extension": ".py",
   "mimetype": "text/x-python",
   "name": "python",
   "nbconvert_exporter": "python",
   "pygments_lexer": "ipython3",
   "version": "3.10.9"
  }
 },
 "nbformat": 4,
 "nbformat_minor": 1
}
