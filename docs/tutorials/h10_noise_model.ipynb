{
 "cells": [
  {
   "cell_type": "code",
   "execution_count": null,
   "metadata": {
    "collapsed": true
   },
   "outputs": [],
   "source": [
    "from qiskit_aer.noise import coherent_unitary_error\n",
    "from qiskit import QuantumCircuit\n",
    "import numpy as np\n",
    "\n",
    "def create_coherent_depol_backend(coherent_error: float, depol_error: float):\n",
    "    \"\"\"Returns a noisy simulator backend with coherent error on Rz gates and depolarizing error\n",
    "    This doesn't actually make sense in practice since Rz gates done in practice,\n",
    "    but we're doing this for now since the Trotter circuit only has Rz and CX gates\n",
    "\n",
    "    Args:\n",
    "        coherent_error (float): Between 0 and 1. #0.01\n",
    "\n",
    "    Returns:\n",
    "        backend: A noisy simulator with coherent ZZ error\n",
    "    \"\"\"\n",
    "    # Create the coherent error channel on 2Q gates\n",
    "    # Copy-pasted from `test_ampcal1Q` in https://programtalk.com/python-more-examples/qiskit.providers.aer.noise.NoiseModel/\n",
    "    err_unitary = np.zeros([2, 2], dtype=complex)\n",
    "    for i in range(2):\n",
    "        err_unitary[i, i] = np.cos(coherent_error)\n",
    "        err_unitary[i, (i+1) % 2] = np.sin(coherent_error)\n",
    "    err_unitary[0, 1] *= -1.0\n",
    "    err_coherent = coherent_unitary_error(err_unitary).tensor(coherent_unitary_error(err_unitary))\n",
    "\n",
    "    # We want more physical error model here, over-rotation on the target in CNOT. And do some test before doing it.\n",
    "\n",
    "\n",
    "\n",
    "    # Create the depolarizing error channel\n",
    "    err_depol = depolarizing_error(depol_error, 2) # error only on CNOT gates\n",
    "\n",
    "\n",
    "\n",
    "    # Create a noise model from the error channels\n",
    "    noisemodel = NoiseModel()\n",
    "    err_total = err_coherent.compose(err_depol)\n",
    "    noisemodel.add_all_qubit_quantum_error(err_total, ['cx'])\n",
    "\n",
    "    err_single = coherent_unitary_error(err_unitary)\n",
    "    noisemodel.add_all_qubit_quantum_error(err_single, ['rx'])\n",
    "\n",
    "    backend = AerSimulator(noise_model=noisemodel)\n",
    "\n",
    "    return backend"
   ]
  }
 ],
 "metadata": {
  "kernelspec": {
   "display_name": "Python 3",
   "language": "python",
   "name": "python3"
  },
  "language_info": {
   "codemirror_mode": {
    "name": "ipython",
    "version": 2
   },
   "file_extension": ".py",
   "mimetype": "text/x-python",
   "name": "python",
   "nbconvert_exporter": "python",
   "pygments_lexer": "ipython2",
   "version": "2.7.6"
  }
 },
 "nbformat": 4,
 "nbformat_minor": 0
}
