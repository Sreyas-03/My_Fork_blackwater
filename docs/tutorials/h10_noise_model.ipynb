{
 "cells": [
  {
   "cell_type": "code",
   "execution_count": 1,
   "metadata": {
    "collapsed": true
   },
   "outputs": [],
   "source": [
    "import qiskit\n",
    "from qiskit import QuantumCircuit\n",
    "from qiskit.compiler import transpile\n",
    "from qiskit_aer import AerSimulator\n",
    "from qiskit.converters import circuit_to_dag, dag_to_circuit\n",
    "from qiskit_aer.noise import depolarizing_error, coherent_unitary_error, NoiseModel\n",
    "from qiskit.quantum_info import SparsePauliOp\n",
    "\n",
    "from qiskit.primitives import BackendEstimator\n",
    "\n",
    "from zne import zne, ZNEStrategy\n",
    "from zne.noise_amplification import *\n",
    "from zne.extrapolation import *\n",
    "\n",
    "import numpy as np\n",
    "import matplotlib.pyplot as plt\n",
    "import seaborn as sns\n",
    "\n",
    "# We want more physical error model here, over-rotation on the target in CNOT. And do some test before doing it.\n",
    "\n",
    "def coherent_noise_backend(\n",
    "        noise_strength: float = 0.1,\n",
    "        Simulator = AerSimulator\n",
    "):\n",
    "    # Create the coherent error channel on 2Q gates\n",
    "    # Copy-pasted from `test_ampcal1Q` in https://programtalk.com/python-more-examples/qiskit.providers.aer.noise.NoiseModel/\n",
    "    err_unitary = np.matrix(\n",
    "        [[1, 0, 0, 0],\n",
    "         [0, 0, 0, 1],\n",
    "         [0, 0, 1, 0],\n",
    "         [0, 1, 0, 0]],\n",
    "        dtype=complex\n",
    "    )\n",
    "    err_coherent = coherent_unitary_error(err_unitary)\n",
    "\n",
    "    # Create a noise model from the error channels\n",
    "    noisemodel = NoiseModel()\n",
    "    noisemodel.add_all_qubit_quantum_error(err_coherent, ['cx'])\n",
    "\n",
    "    backend = Simulator(noise_model=noisemodel)\n",
    "    return backend"
   ]
  },
  {
   "cell_type": "code",
   "execution_count": 24,
   "outputs": [
    {
     "name": "stdout",
     "output_type": "stream",
     "text": [
      "{'01': 1024}\n"
     ]
    }
   ],
   "source": [
    "backend = coherent_noise_backend()\n",
    "# backend = AerSimulator()\n",
    "\n",
    "qc = QuantumCircuit(2)\n",
    "qc.x(0)\n",
    "qc.cnot(0, 1)\n",
    "qc.measure_all()\n",
    "\n",
    "qc_trans = transpile(qc, backend=backend, optimization_level=3)\n",
    "counts = backend.run(qc_trans).result().get_counts()\n",
    "# sns.histplot(counts)\n",
    "print(counts)"
   ],
   "metadata": {
    "collapsed": false
   }
  },
  {
   "cell_type": "code",
   "execution_count": null,
   "outputs": [],
   "source": [],
   "metadata": {
    "collapsed": false
   }
  }
 ],
 "metadata": {
  "kernelspec": {
   "display_name": "Python 3",
   "language": "python",
   "name": "python3"
  },
  "language_info": {
   "codemirror_mode": {
    "name": "ipython",
    "version": 2
   },
   "file_extension": ".py",
   "mimetype": "text/x-python",
   "name": "python",
   "nbconvert_exporter": "python",
   "pygments_lexer": "ipython2",
   "version": "2.7.6"
  }
 },
 "nbformat": 4,
 "nbformat_minor": 0
}
