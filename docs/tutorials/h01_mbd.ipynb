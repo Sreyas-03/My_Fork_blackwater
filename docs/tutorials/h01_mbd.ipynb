{
 "cells": [
  {
   "cell_type": "code",
   "execution_count": 19,
   "metadata": {
    "collapsed": true
   },
   "outputs": [],
   "source": [
    "import json\n",
    "import glob\n",
    "\n",
    "import numpy as np\n",
    "import pandas as pd\n",
    "\n",
    "from qiskit import transpile\n",
    "from qiskit import execute\n",
    "from qiskit.providers.fake_provider import FakeLima\n",
    "from qiskit.primitives import Estimator\n",
    "from qiskit.circuit.random import random_circuit\n",
    "\n",
    "import torch\n",
    "from torch.optim import Adam\n",
    "from torch.optim.lr_scheduler import ReduceLROnPlateau\n",
    "from torch.nn.functional import dropout\n",
    "\n",
    "from torch_geometric.nn import GCNConv, global_mean_pool, Linear, ChebConv, SAGEConv\n",
    "from torch_geometric.data import Data\n",
    "from torch_geometric.loader import DataLoader\n",
    "\n",
    "from tqdm.notebook import tqdm_notebook\n",
    "import matplotlib.pyplot as plt\n",
    "import seaborn as sns\n",
    "\n",
    "from blackwater.data.loaders.exp_val import CircuitGraphExpValMitigationDataset\n",
    "from blackwater.data.generators.exp_val import exp_value_generator\n",
    "from blackwater.data.utils import generate_random_pauli_sum_op\n",
    "from blackwater.library.ngem.estimator import ngem\n",
    "\n",
    "from qiskit.quantum_info import random_clifford\n",
    "\n",
    "import random\n",
    "from qiskit.circuit.library import HGate, SdgGate\n",
    "from qiskit.circuit import ClassicalRegister\n",
    "\n",
    "from blackwater.data.utils import (\n",
    "    generate_random_pauli_sum_op,\n",
    "    create_estimator_meas_data,\n",
    "    circuit_to_graph_data_json,\n",
    "    get_backend_properties_v1,\n",
    "    encode_pauli_sum_op,\n",
    "    create_meas_data_from_estimators\n",
    ")\n",
    "from blackwater.data.generators.exp_val import ExpValueEntry\n",
    "from blackwater.metrics.improvement_factor import improvement_factor, Trial, Problem\n",
    "\n",
    "from qiskit_aer import AerSimulator, QasmSimulator\n",
    "from qiskit.providers.fake_provider import FakeMontreal, FakeLima\n",
    "\n",
    "from torch_geometric.nn import (\n",
    "    GCNConv,\n",
    "    TransformerConv,\n",
    "    GATv2Conv,\n",
    "    global_mean_pool,\n",
    "    Linear,\n",
    "    ChebConv,\n",
    "    SAGEConv,\n",
    "    ASAPooling,\n",
    "    dense_diff_pool,\n",
    "    avg_pool_neighbor_x\n",
    ")\n",
    "from torch_geometric.data import Data\n",
    "from torch_geometric.loader import DataLoader\n",
    "from torch_geometric.utils import to_dense_adj, to_dense_batch\n",
    "\n",
    "from qiskit import QuantumCircuit\n",
    "from qiskit.circuit.library import U3Gate, CZGate, PhaseGate, CXGate\n",
    "from mbd_utils import construct_random_clifford, cal_z_exp, calc_imbalance, cal_all_z_exp, construct_mbl_circuit, generate_disorder\n",
    "from gnn import ExpValCircuitGraphModel\n",
    "plt.style.use({'figure.facecolor':'white'})"
   ]
  },
  {
   "cell_type": "code",
   "execution_count": 20,
   "metadata": {},
   "outputs": [],
   "source": [
    "backend = FakeLima()\n",
    "properties = get_backend_properties_v1(backend)\n",
    "\n",
    "## Local\n",
    "backend_ideal = QasmSimulator() # Noiseless\n",
    "backend_noisy = AerSimulator.from_backend(FakeLima()) # Noisy\n",
    "\n",
    "run_config_ideal = {'shots': 10000, 'backend': backend_ideal, 'name': 'ideal'}\n",
    "run_config_noisy = {'shots': 10000, 'backend': backend_noisy, 'name': 'noisy'}"
   ]
  },
  {
   "cell_type": "markdown",
   "metadata": {},
   "source": []
  },
  {
   "cell_type": "markdown",
   "metadata": {},
   "source": [
    "# Training"
   ]
  },
  {
   "cell_type": "code",
   "execution_count": 21,
   "outputs": [],
   "source": [
    "train_paths = [\n",
    "    f'./data/haoran_mbd/random_brickwork/depth{i}.json' for i in range(10)\n",
    "]\n",
    "\n",
    "val_paths = [\n",
    "     f'./data/mbd_datasets2/theta_0.05pi/val/step_{i}.json' for i in range(10)\n",
    "]"
   ],
   "metadata": {
    "collapsed": false
   }
  },
  {
   "cell_type": "code",
   "execution_count": 22,
   "outputs": [
    {
     "name": "stdout",
     "output_type": "stream",
     "text": [
      "DataBatch(x=[4454, 22], edge_index=[2, 9281], edge_attr=[4827, 3], y=[32, 1, 4], observable=[32, 0], circuit_depth=[32, 1], noisy_0=[32, 1, 4], batch=[4454], ptr=[33])\n"
     ]
    }
   ],
   "source": [
    "BATCH_SIZE = 32\n",
    "\n",
    "train_loader = DataLoader(\n",
    "    CircuitGraphExpValMitigationDataset(\n",
    "        train_paths,\n",
    "    ),\n",
    "    batch_size=BATCH_SIZE,\n",
    "    shuffle=True\n",
    ")\n",
    "\n",
    "val_loader = DataLoader(\n",
    "    CircuitGraphExpValMitigationDataset(\n",
    "        val_paths,\n",
    "    ),\n",
    "    batch_size=BATCH_SIZE,\n",
    "    shuffle=False\n",
    ")\n",
    "\n",
    "for data in train_loader:\n",
    "    print(data)\n",
    "    break"
   ],
   "metadata": {
    "collapsed": false
   }
  },
  {
   "cell_type": "code",
   "execution_count": 23,
   "outputs": [],
   "source": [
    "model = ExpValCircuitGraphModel(\n",
    "    num_node_features=22,\n",
    "    hidden_channels=15\n",
    ")\n",
    "criterion = torch.nn.MSELoss()\n",
    "\n",
    "optimizer = Adam(model.parameters(), lr=0.001)\n",
    "scheduler = ReduceLROnPlateau(optimizer,\n",
    "                              'min',\n",
    "                              factor=0.1,\n",
    "                              patience=15,\n",
    "                              verbose=True,\n",
    "                              min_lr=0.00001)"
   ],
   "metadata": {
    "collapsed": false
   }
  },
  {
   "cell_type": "code",
   "execution_count": 24,
   "outputs": [
    {
     "name": "stdout",
     "output_type": "stream",
     "text": [
      "13645\n",
      "5024 2016\n"
     ]
    }
   ],
   "source": [
    "print(sum(p.numel() for p in model.parameters() if p.requires_grad))\n",
    "print(len(train_loader) * BATCH_SIZE, len(val_loader) * BATCH_SIZE)"
   ],
   "metadata": {
    "collapsed": false
   }
  },
  {
   "cell_type": "code",
   "execution_count": 25,
   "outputs": [
    {
     "data": {
      "text/plain": "Model training:   0%|          | 0/50 [00:00<?, ?it/s]",
      "application/vnd.jupyter.widget-view+json": {
       "version_major": 2,
       "version_minor": 0,
       "model_id": "9432496bc6634de187af22b7d55c59a3"
      }
     },
     "metadata": {},
     "output_type": "display_data"
    },
    {
     "name": "stdout",
     "output_type": "stream",
     "text": [
      "Epoch 00047: reducing learning rate of group 0 to 1.0000e-04.\n"
     ]
    }
   ],
   "source": [
    "min_valid_loss = np.inf\n",
    "\n",
    "train_losses = []\n",
    "val_losses = []\n",
    "\n",
    "N_EPOCHS = 50\n",
    "\n",
    "progress = tqdm_notebook(range(N_EPOCHS), desc='Model training', leave=True)\n",
    "for epoch in progress:\n",
    "    train_loss = 0.0\n",
    "    model.train()\n",
    "    for i, data in enumerate(train_loader):\n",
    "        optimizer.zero_grad()\n",
    "\n",
    "        out = model(\n",
    "            data.noisy_0,\n",
    "            data.observable,\n",
    "            data.circuit_depth,\n",
    "            data.x,\n",
    "            data.edge_index,\n",
    "            data.batch\n",
    "        )\n",
    "        loss = criterion(out, torch.squeeze(data.y, 1))\n",
    "\n",
    "        train_loss += loss.item()\n",
    "\n",
    "        loss.backward()\n",
    "        optimizer.step()\n",
    "\n",
    "    valid_loss = 0.0\n",
    "    model.eval()\n",
    "    for i, data in enumerate(val_loader):\n",
    "        out = model(\n",
    "            data.noisy_0,\n",
    "            data.observable,\n",
    "            data.circuit_depth,\n",
    "            data.x,\n",
    "            data.edge_index,\n",
    "            data.batch)\n",
    "        loss = criterion(out, torch.squeeze(data.y, 1))\n",
    "\n",
    "        valid_loss += loss.item()\n",
    "\n",
    "    scheduler.step(valid_loss)\n",
    "\n",
    "    if epoch >= 1:\n",
    "        train_losses.append(train_loss / len(train_loader))\n",
    "        val_losses.append(valid_loss / len(val_loader))\n",
    "\n",
    "        progress.set_description(f\"{round(train_losses[-1], 5)}, {round(val_losses[-1], 5)}\")\n",
    "        progress.refresh()"
   ],
   "metadata": {
    "collapsed": false
   }
  },
  {
   "cell_type": "code",
   "execution_count": 26,
   "outputs": [
    {
     "data": {
      "text/plain": "<Figure size 432x288 with 1 Axes>",
      "image/png": "[encoded data removed]"
     },
     "metadata": {},
     "output_type": "display_data"
    }
   ],
   "source": [
    "plt.plot(train_losses, label=\"train_loss\")\n",
    "plt.plot(val_losses, label=\"val_loss\")\n",
    "plt.yscale('log')\n",
    "\n",
    "plt.legend()\n",
    "plt.show()"
   ],
   "metadata": {
    "collapsed": false
   }
  },
  {
   "cell_type": "code",
   "execution_count": 27,
   "outputs": [],
   "source": [
    "model_path = './model/haoran_mbd2/random_brickwork2.pth'"
   ],
   "metadata": {
    "collapsed": false
   }
  },
  {
   "cell_type": "code",
   "execution_count": 28,
   "outputs": [],
   "source": [
    "torch.save(model.state_dict(), model_path)"
   ],
   "metadata": {
    "collapsed": false
   }
  },
  {
   "cell_type": "code",
   "execution_count": 29,
   "outputs": [],
   "source": [
    "import pickle\n",
    "\n",
    "to_save = {'train_losses': train_losses, 'val_losses': val_losses}\n",
    "with open('.'+model_path.split('.')[1]+'.pk', 'wb') as handle:\n",
    "    pickle.dump(to_save, handle, protocol=pickle.HIGHEST_PROTOCOL)"
   ],
   "metadata": {
    "collapsed": false
   }
  },
  {
   "cell_type": "markdown",
   "metadata": {},
   "source": []
  },
  {
   "cell_type": "markdown",
   "metadata": {},
   "source": [
    "# Test on charge imbalance on newly generated MBL circuits"
   ]
  },
  {
   "cell_type": "code",
   "execution_count": 8,
   "outputs": [
    {
     "data": {
      "text/plain": "'./model/haoran_mbd/random_brickwork_step0_emphasized.pth'"
     },
     "execution_count": 8,
     "metadata": {},
     "output_type": "execute_result"
    }
   ],
   "source": [
    "model_path"
   ],
   "metadata": {
    "collapsed": false
   }
  },
  {
   "cell_type": "code",
   "execution_count": null,
   "metadata": {
    "pycharm": {
     "is_executing": true
    }
   },
   "outputs": [],
   "source": [
    "model = ExpValCircuitGraphModel(\n",
    "    num_node_features=22,\n",
    "    hidden_channels=15\n",
    ")\n",
    "model.load_state_dict(torch.load(model_path))\n",
    "model.eval()"
   ]
  },
  {
   "cell_type": "code",
   "execution_count": 30,
   "outputs": [
    {
     "data": {
      "text/plain": "<Figure size 432x288 with 1 Axes>",
      "image/png": "[encoded data removed]"
     },
     "metadata": {},
     "output_type": "display_data"
    },
    {
     "data": {
      "text/plain": "<Figure size 432x288 with 1 Axes>",
      "image/png": "[encoded data removed]"
     },
     "metadata": {},
     "output_type": "display_data"
    }
   ],
   "source": [
    "model.eval()\n",
    "distances = []\n",
    "for i, data in enumerate(val_loader):\n",
    "    out = model(data.noisy_0, data.observable, data.circuit_depth, data.x, data.edge_index, data.batch)\n",
    "\n",
    "    for ideal, noisy, ngm_mitigated in zip(\n",
    "        data.y.tolist(),\n",
    "        data.noisy_0.tolist(),\n",
    "        out.tolist()\n",
    "    ):\n",
    "        ideal = np.mean(ideal)\n",
    "        noisy = np.mean(noisy)\n",
    "        ngm_mitigated = np.mean(ngm_mitigated)\n",
    "        distances.append({\n",
    "            \"ideal\": ideal,\n",
    "            \"noisy\": noisy,\n",
    "            \"ngm_mitigated\": ngm_mitigated,\n",
    "            \"dist_noisy\": np.abs(ideal - noisy),\n",
    "            \"dist_ngm\": np.abs(ideal - ngm_mitigated),\n",
    "        })\n",
    "\n",
    "df = pd.DataFrame(distances)\n",
    "sns.boxplot(data=df[[\"dist_noisy\", \"dist_ngm\"]], orient=\"h\", showfliers = False)\n",
    "plt.title(\"Dist to ideal exp value\")\n",
    "plt.show()\n",
    "\n",
    "sns.histplot([df['ideal'], df['noisy'], df[\"ngm_mitigated\"]], kde=True, bins=40)\n",
    "plt.title(\"Exp values distribution\")\n",
    "plt.show()"
   ],
   "metadata": {
    "collapsed": false
   }
  },
  {
   "cell_type": "code",
   "execution_count": 32,
   "metadata": {},
   "outputs": [
    {
     "data": {
      "text/plain": "  0%|          | 0/30 [00:00<?, ?it/s]",
      "application/vnd.jupyter.widget-view+json": {
       "version_major": 2,
       "version_minor": 0,
       "model_id": "be78a3f944844337a06a029a64af52cc"
      }
     },
     "metadata": {},
     "output_type": "display_data"
    }
   ],
   "source": [
    "## Now we need to average over many disorders\n",
    "num_disorders = 30\n",
    "\n",
    "num_spins = 4 # Number of spins. Must be even.\n",
    "W = 0.8 * np.pi # Disorder strength up to np.pi\n",
    "theta = 0.05 * np.pi # Interaction strength up to np.pi\n",
    "max_steps = 10\n",
    "\n",
    "even_qubits = np.linspace(0, num_spins, int(num_spins/2), endpoint=False)\n",
    "odd_qubits = np.linspace(1, num_spins+1, int(num_spins/2), endpoint=False)\n",
    "\n",
    "# For each disorder realization, make a new disorder\n",
    "# and compute the charge imbalance using the same physics parameters as before\n",
    "imbalance_all_ideal = []\n",
    "imbalance_all_noisy = []\n",
    "imbalance_all_mitigated = []\n",
    "\n",
    "for disorder_realization in tqdm_notebook(range(num_disorders)):\n",
    "    disorders = generate_disorder(num_spins, W)\n",
    "    # print(disorders)\n",
    "\n",
    "    qc_list = []\n",
    "    for steps in range(max_steps):\n",
    "        qc_list.append(construct_mbl_circuit(num_spins, disorders, theta, steps))\n",
    "\n",
    "    transpiled_qc_list = transpile(qc_list, backend_noisy, optimization_level=3)\n",
    "    job_ideal = execute(qc_list, **run_config_ideal)\n",
    "    job_noisy = execute(transpiled_qc_list, **run_config_noisy)\n",
    "\n",
    "    exp_Z_ideal = []\n",
    "    exp_Z_noisy = []\n",
    "    exp_Z_mitigated = []\n",
    "\n",
    "    for i in range(len(qc_list)):\n",
    "        counts_ideal = job_ideal.result().get_counts()[i]\n",
    "        counts_noisy = job_noisy.result().get_counts()[i]\n",
    "\n",
    "        ideal_exp_val = cal_z_exp(counts_ideal)\n",
    "        noisy_exp_val = cal_z_exp(counts_noisy)\n",
    "\n",
    "        exp_Z_ideal.append(list(ideal_exp_val)) # Single-Z expectation value of each qubit\n",
    "        exp_Z_noisy.append(list(noisy_exp_val)) # Single-Z expectation value of each qubit\n",
    "\n",
    "        graph_data = circuit_to_graph_data_json(\n",
    "            circuit=transpiled_qc_list[i],\n",
    "            properties=properties,\n",
    "            use_qubit_features=True,\n",
    "            use_gate_features=True,\n",
    "        )\n",
    "\n",
    "        entry = ExpValueEntry(\n",
    "            circuit_graph=graph_data,\n",
    "            observable=[],\n",
    "            ideal_exp_value=ideal_exp_val.tolist(),\n",
    "            noisy_exp_values=[noisy_exp_val.tolist()],\n",
    "            circuit_depth=transpiled_qc_list[i].depth()\n",
    "        ).to_pyg_data()\n",
    "\n",
    "        # print(entry.batch)\n",
    "        mitigated_exp_val = model(entry.noisy_0,\n",
    "                            entry.observable,\n",
    "                            entry.circuit_depth,\n",
    "                            entry.x,\n",
    "                            entry.edge_index,\n",
    "                            entry.batch).tolist()[0]\n",
    "\n",
    "        exp_Z_mitigated.append(mitigated_exp_val)\n",
    "\n",
    "    imbalance_ideal = calc_imbalance(exp_Z_ideal, even_qubits, odd_qubits)\n",
    "    imbalance_noisy = calc_imbalance(exp_Z_noisy, even_qubits, odd_qubits)\n",
    "    imbalance_mitigated = calc_imbalance(exp_Z_mitigated, even_qubits, odd_qubits)\n",
    "\n",
    "\n",
    "    imbalance_all_ideal.append(imbalance_ideal)\n",
    "    imbalance_all_noisy.append(imbalance_noisy)\n",
    "    imbalance_all_mitigated.append(imbalance_mitigated)\n",
    "\n",
    "# Average imbalance\n",
    "imbalance_ideal_average = np.mean(imbalance_all_ideal, axis=0)\n",
    "imbalance_noisy_average = np.mean(imbalance_all_noisy, axis=0)\n",
    "imbalance_mitigated_average = np.mean(imbalance_all_mitigated, axis=0)"
   ]
  },
  {
   "cell_type": "code",
   "execution_count": 33,
   "metadata": {},
   "outputs": [
    {
     "data": {
      "text/plain": "<Figure size 432x288 with 2 Axes>",
      "image/png": "[encoded data removed]"
     },
     "metadata": {},
     "output_type": "display_data"
    }
   ],
   "source": [
    "## Plot\n",
    "fig = plt.figure()\n",
    "ax1 = fig.add_subplot(111)\n",
    "ax2 = ax1.twiny()\n",
    "\n",
    "for disorder_realization in range(num_disorders):\n",
    "    ax1.plot(imbalance_all_ideal[disorder_realization], color=(0.0, 0.0, 1.0, 0.1))\n",
    "    ax1.plot(imbalance_all_noisy[disorder_realization], color=(1.0, 0.0, 0.0, 0.1))\n",
    "    ax1.plot(imbalance_all_mitigated[disorder_realization], color=(0.0, 1.0, 0.0, 0.1))\n",
    "\n",
    "ax1.plot(imbalance_ideal_average, color='blue', label=\"ideal\")\n",
    "ax1.plot(imbalance_noisy_average, color='red', label=\"noisy\")\n",
    "ax1.plot(imbalance_mitigated_average, color='green', label=\"mitigated\")\n",
    "\n",
    "ax1.set_xlabel('Floquet steps')\n",
    "ax1.set_ylabel('Imbalance')\n",
    "ax1.legend()\n",
    "\n",
    "# xmin,xmax = ax1.get_xlim()\n",
    "# ax1.set_xlim([0, 9])\n",
    "# ax2.set_xlim([0, 9])\n",
    "# ax1.set_ylim([0.4, 1.05])\n",
    "# ax1.set_xticks(np.arange(0, 10, 2))\n",
    "# x2 = np.linspace(xmin, xmax, 50)\n",
    "# ax2.plot(x2, -np.ones(50)) # Create a dummy plot\n",
    "# ax2.set_xticks(np.arange(0, 10, 2))\n",
    "# ax2.set_xticklabels(2*np.arange(0, 10, 2))\n",
    "# ax2.set_xlabel(r\"2q gate depth\")\n",
    "# # ax1.grid(None)\n",
    "# ax2.grid(None)\n",
    "\n",
    "plt.style.use({'figure.facecolor':'white'})\n",
    "plt.show()"
   ]
  },
  {
   "cell_type": "markdown",
   "source": [],
   "metadata": {
    "collapsed": false
   }
  },
  {
   "cell_type": "markdown",
   "source": [
    "## Extrapolation"
   ],
   "metadata": {
    "collapsed": false
   }
  },
  {
   "cell_type": "code",
   "execution_count": null,
   "outputs": [
    {
     "data": {
      "text/plain": "  0%|          | 0/30 [00:00<?, ?it/s]",
      "application/vnd.jupyter.widget-view+json": {
       "version_major": 2,
       "version_minor": 0,
       "model_id": "d5316297342a48eca625a3cfecfbb09e"
      }
     },
     "metadata": {},
     "output_type": "display_data"
    }
   ],
   "source": [
    "## Now we need to average over many disorders\n",
    "num_disorders = 30\n",
    "\n",
    "# For each disorder realization, make a new disorder\n",
    "# and compute the charge imbalance using the same physics parameters as before\n",
    "imbalance_all_ideal = []\n",
    "imbalance_all_noisy = []\n",
    "imbalance_all_mitigated = []\n",
    "\n",
    "for disorder_realization in tqdm_notebook(range(num_disorders)):\n",
    "    disorders = generate_disorder(num_spins, W)\n",
    "    # print(disorders)\n",
    "\n",
    "    qc_list = []\n",
    "    for steps in range(max_steps + 10):\n",
    "        qc_list.append(construct_mbl_circuit(num_spins, disorders, theta, steps))\n",
    "\n",
    "    transpiled_qc_list = transpile(qc_list, backend_noisy, optimization_level=3)\n",
    "    job_ideal = execute(qc_list, **run_config_ideal)\n",
    "    job_noisy = execute(transpiled_qc_list, **run_config_noisy)\n",
    "\n",
    "    exp_Z_ideal = []\n",
    "    exp_Z_noisy = []\n",
    "    exp_Z_mitigated = []\n",
    "\n",
    "\n",
    "    for i in range(len(qc_list)):\n",
    "        counts_ideal = job_ideal.result().get_counts()[i]\n",
    "        counts_noisy = job_noisy.result().get_counts()[i]\n",
    "\n",
    "        ideal_exp_val = cal_z_exp(counts_ideal)\n",
    "        noisy_exp_val = cal_z_exp(counts_noisy)\n",
    "\n",
    "        exp_Z_ideal.append(list(ideal_exp_val)) # Single-Z expectation value of each qubit\n",
    "        exp_Z_noisy.append(list(noisy_exp_val)) # Single-Z expectation value of each qubit\n",
    "\n",
    "        graph_data = circuit_to_graph_data_json(\n",
    "            circuit=transpiled_qc_list[i],\n",
    "            properties=properties,\n",
    "            use_qubit_features=True,\n",
    "            use_gate_features=True,\n",
    "        )\n",
    "\n",
    "        entry = ExpValueEntry(\n",
    "            circuit_graph=graph_data,\n",
    "            observable=[],\n",
    "            ideal_exp_value=ideal_exp_val.tolist(),\n",
    "            noisy_exp_values=[\n",
    "                noisy_exp_val.tolist()\n",
    "            ],\n",
    "            circuit_depth=transpiled_qc_list[i].depth()\n",
    "        ).to_pyg_data()\n",
    "\n",
    "        mitigated_exp_val = model(entry.noisy_0,\n",
    "                            entry.observable,\n",
    "                            entry.circuit_depth,\n",
    "                            entry.x,\n",
    "                            entry.edge_index,\n",
    "                            entry.batch).tolist()[0]\n",
    "\n",
    "        exp_Z_mitigated.append(mitigated_exp_val)\n",
    "\n",
    "    imbalance_ideal = calc_imbalance(exp_Z_ideal, even_qubits, odd_qubits)\n",
    "    imbalance_noisy = calc_imbalance(exp_Z_noisy, even_qubits, odd_qubits)\n",
    "    imbalance_mitigated = calc_imbalance(exp_Z_mitigated, even_qubits, odd_qubits)\n",
    "\n",
    "    imbalance_all_ideal.append(imbalance_ideal)\n",
    "    imbalance_all_noisy.append(imbalance_noisy)\n",
    "    imbalance_all_mitigated.append(imbalance_mitigated)\n",
    "\n",
    "# Average imbalance\n",
    "imbalance_ideal_average = np.mean(imbalance_all_ideal, axis=0)\n",
    "imbalance_noisy_average = np.mean(imbalance_all_noisy, axis=0)\n",
    "imbalance_mitigated_average = np.mean(imbalance_all_mitigated, axis=0)"
   ],
   "metadata": {
    "collapsed": false,
    "pycharm": {
     "is_executing": true
    }
   }
  },
  {
   "cell_type": "code",
   "execution_count": null,
   "outputs": [],
   "source": [
    "## Plot\n",
    "fig = plt.figure()\n",
    "ax1 = fig.add_subplot(111)\n",
    "ax2 = ax1.twiny()\n",
    "\n",
    "for disorder_realization in range(num_disorders):\n",
    "    ax1.plot(imbalance_all_ideal[disorder_realization], color=(0.0, 0.0, 1.0, 0.1))\n",
    "    ax1.plot(imbalance_all_noisy[disorder_realization], color=(1.0, 0.0, 0.0, 0.1))\n",
    "    ax1.plot(imbalance_all_mitigated[disorder_realization], color=(0.0, 1.0, 0.0, 0.1))\n",
    "\n",
    "ax1.plot(imbalance_ideal_average, color='blue', label=\"ideal\")\n",
    "ax1.plot(imbalance_noisy_average, color='red', label=\"noisy\")\n",
    "ax1.plot(imbalance_mitigated_average, color='green', label=\"mitigated\")\n",
    "\n",
    "ax1.axvline(x = 10, color = 'gray', label = 'training data availability')\n",
    "\n",
    "ax1.set_xlabel('Floquet steps')\n",
    "ax1.set_ylabel('Imbalance')\n",
    "ax1.legend()\n",
    "\n",
    "xmin,xmax = ax1.get_xlim()\n",
    "max_x = max_steps + 10\n",
    "ax1.set_xlim([0, max_x-1])\n",
    "ax2.set_xlim([0, max_x-1])\n",
    "ax1.set_ylim([0.4, 1.03])\n",
    "ax1.set_xticks(np.arange(0, max_x, 4))\n",
    "x2 = np.linspace(xmin, xmax, 50)\n",
    "ax2.plot(x2, -np.ones(50)) # Create a dummy plot\n",
    "ax2.set_xticks(np.arange(0, max_x, 4))\n",
    "ax2.set_xticklabels(2*np.arange(0, max_x, 4))\n",
    "ax2.set_xlabel(r\"2q gate depth\")\n",
    "# ax1.grid(None)\n",
    "ax2.grid(None)\n",
    "\n",
    "plt.style.use({'figure.facecolor':'white'})\n",
    "plt.show()"
   ],
   "metadata": {
    "collapsed": false,
    "pycharm": {
     "is_executing": true
    }
   }
  },
  {
   "cell_type": "code",
   "execution_count": null,
   "outputs": [],
   "source": [],
   "metadata": {
    "collapsed": false
   }
  }
 ],
 "metadata": {
  "kernelspec": {
   "display_name": "Python 3 (ipykernel)",
   "language": "python",
   "name": "python3"
  },
  "language_info": {
   "codemirror_mode": {
    "name": "ipython",
    "version": 3
   },
   "file_extension": ".py",
   "mimetype": "text/x-python",
   "name": "python",
   "nbconvert_exporter": "python",
   "pygments_lexer": "ipython3",
   "version": "3.10.9"
  }
 },
 "nbformat": 4,
 "nbformat_minor": 1
}
