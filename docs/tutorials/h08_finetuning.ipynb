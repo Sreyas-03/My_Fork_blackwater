{
 "cells": [
  {
   "cell_type": "code",
   "execution_count": 1,
   "metadata": {
    "collapsed": true
   },
   "outputs": [],
   "source": [
    "import json\n",
    "import glob, pickle\n",
    "\n",
    "import numpy as np\n",
    "import pandas as pd\n",
    "\n",
    "from qiskit import transpile\n",
    "from qiskit import execute\n",
    "from qiskit.providers.fake_provider import FakeLima\n",
    "from qiskit.primitives import Estimator\n",
    "from qiskit.circuit.random import random_circuit\n",
    "\n",
    "import torch\n",
    "from torch.optim import Adam\n",
    "from torch.optim.lr_scheduler import ReduceLROnPlateau\n",
    "from torch.nn.functional import dropout\n",
    "\n",
    "from torch_geometric.nn import GCNConv, global_mean_pool, Linear, ChebConv, SAGEConv\n",
    "from torch_geometric.data import Data\n",
    "from torch_geometric.loader import DataLoader\n",
    "\n",
    "from tqdm.notebook import tqdm_notebook\n",
    "import matplotlib.pyplot as plt\n",
    "import seaborn as sns\n",
    "\n",
    "from blackwater.data.loaders.exp_val import CircuitGraphExpValMitigationDataset\n",
    "from blackwater.data.generators.exp_val import exp_value_generator\n",
    "from blackwater.data.utils import generate_random_pauli_sum_op\n",
    "from blackwater.library.ngem.estimator import ngem\n",
    "\n",
    "from qiskit.quantum_info import random_clifford\n",
    "\n",
    "import random\n",
    "from qiskit.circuit.library import HGate, SdgGate\n",
    "from qiskit.circuit import ClassicalRegister\n",
    "\n",
    "from blackwater.data.utils import (\n",
    "    generate_random_pauli_sum_op,\n",
    "    create_estimator_meas_data,\n",
    "    circuit_to_graph_data_json,\n",
    "    get_backend_properties_v1,\n",
    "    encode_pauli_sum_op,\n",
    "    create_meas_data_from_estimators\n",
    ")\n",
    "from blackwater.data.generators.exp_val import ExpValueEntry\n",
    "from blackwater.metrics.improvement_factor import improvement_factor, Trial, Problem\n",
    "\n",
    "from qiskit_aer import AerSimulator, QasmSimulator\n",
    "from qiskit.providers.fake_provider import FakeMontreal, FakeLima, FakeBelem\n",
    "\n",
    "from torch_geometric.nn import (\n",
    "    GCNConv,\n",
    "    TransformerConv,\n",
    "    GATv2Conv,\n",
    "    global_mean_pool,\n",
    "    Linear,\n",
    "    ChebConv,\n",
    "    SAGEConv,\n",
    "    ASAPooling,\n",
    "    dense_diff_pool,\n",
    "    avg_pool_neighbor_x\n",
    ")\n",
    "from torch_geometric.data import Data\n",
    "from torch_geometric.loader import DataLoader\n",
    "from torch_geometric.utils import to_dense_adj, to_dense_batch\n",
    "\n",
    "from qiskit import QuantumCircuit\n",
    "from qiskit.circuit.library import U3Gate, CZGate, PhaseGate, CXGate\n",
    "from mbd_utils import construct_random_clifford, cal_z_exp, calc_imbalance, cal_all_z_exp, construct_mbl_circuit, generate_disorder\n",
    "from gnn import ExpValCircuitGraphModel\n",
    "plt.style.use({'figure.facecolor':'white'})"
   ]
  },
  {
   "cell_type": "code",
   "execution_count": 2,
   "outputs": [],
   "source": [
    "backend_lima = FakeLima()\n",
    "backend_belem = FakeBelem()\n",
    "backend_montreal = FakeMontreal()\n",
    "properties_lima = get_backend_properties_v1(backend_lima)\n",
    "properties_belem = get_backend_properties_v1(backend_belem)\n",
    "properties_montreal = get_backend_properties_v1(backend_montreal)\n",
    "\n",
    "## Local\n",
    "backend_ideal = QasmSimulator() # Noiseless\n",
    "backend_noisy_lima = AerSimulator.from_backend(backend_lima) # Noisy\n",
    "backend_noisy_belem = AerSimulator.from_backend(backend_belem) # Noisy\n",
    "backend_noisy_montreal = AerSimulator.from_backend(backend_montreal) # Noisy\n",
    "\n",
    "run_config_ideal = {'shots': 10000, 'backend': backend_ideal, 'name': 'ideal'}\n",
    "run_config_noisy_lima = {'shots': 10000, 'backend': backend_noisy_lima, 'name': 'noisy_lima'}\n",
    "run_config_noisy_belem = {'shots': 10000, 'backend': backend_noisy_belem, 'name': 'noisy_belem'}\n",
    "run_config_noisy_montreal = {'shots': 10000, 'backend': backend_noisy_montreal, 'name': 'noisy_montreal'}\n",
    "\n",
    "BATCH_SIZE = 32"
   ],
   "metadata": {
    "collapsed": false
   }
  },
  {
   "cell_type": "markdown",
   "source": [],
   "metadata": {
    "collapsed": false
   }
  },
  {
   "cell_type": "markdown",
   "source": [
    "# Train on Backend 1"
   ],
   "metadata": {
    "collapsed": false
   }
  },
  {
   "cell_type": "code",
   "execution_count": 3,
   "outputs": [],
   "source": [
    "train_paths = [\n",
    "    f'./data/circ_parsed_pyg_data/train/fakelima_depth{i}.json' for i in range(1, 10)\n",
    "]\n",
    "\n",
    "val_paths = [\n",
    "    f'./data/circ_parsed_pyg_data/val/fakelima/fakelima_depth{i}.json' for i in range(1, 10)\n",
    "]"
   ],
   "metadata": {
    "collapsed": false
   }
  },
  {
   "cell_type": "code",
   "execution_count": 4,
   "outputs": [
    {
     "name": "stdout",
     "output_type": "stream",
     "text": [
      "DataBatch(x=[742, 22], edge_index=[2, 1630], edge_attr=[888, 3], y=[32, 1, 1], observable=[32, 0], circuit_depth=[32, 1], noisy_0=[32, 1, 1], batch=[742], ptr=[33])\n"
     ]
    }
   ],
   "source": [
    "train_loader = DataLoader(\n",
    "    CircuitGraphExpValMitigationDataset(\n",
    "        train_paths,\n",
    "    ),\n",
    "    batch_size=BATCH_SIZE,\n",
    "    shuffle=True\n",
    ")\n",
    "\n",
    "val_loader = DataLoader(\n",
    "    CircuitGraphExpValMitigationDataset(\n",
    "        val_paths,\n",
    "    ),\n",
    "    batch_size=BATCH_SIZE,\n",
    "    shuffle=False\n",
    ")\n",
    "\n",
    "for data in train_loader:\n",
    "    print(data)\n",
    "    break"
   ],
   "metadata": {
    "collapsed": false
   }
  },
  {
   "cell_type": "code",
   "execution_count": 5,
   "outputs": [],
   "source": [
    "model = ExpValCircuitGraphModel(\n",
    "    num_node_features=22,\n",
    "    hidden_channels=15,\n",
    "    exp_value_size=1,\n",
    ")\n",
    "criterion = torch.nn.MSELoss()\n",
    "\n",
    "optimizer = Adam(model.parameters(), lr=0.001)\n",
    "scheduler = ReduceLROnPlateau(optimizer,\n",
    "                              'min',\n",
    "                              factor=0.1,\n",
    "                              patience=15,\n",
    "                              verbose=True,\n",
    "                              min_lr=0.00001)"
   ],
   "metadata": {
    "collapsed": false
   }
  },
  {
   "cell_type": "code",
   "execution_count": 6,
   "outputs": [
    {
     "name": "stdout",
     "output_type": "stream",
     "text": [
      "13552 9024 3616\n"
     ]
    }
   ],
   "source": [
    "print(sum(p.numel() for p in model.parameters() if p.requires_grad), len(train_loader) * BATCH_SIZE, len(val_loader) * BATCH_SIZE)"
   ],
   "metadata": {
    "collapsed": false
   }
  },
  {
   "cell_type": "code",
   "execution_count": 8,
   "outputs": [
    {
     "data": {
      "text/plain": "Model training:   0%|          | 0/50 [00:00<?, ?it/s]",
      "application/vnd.jupyter.widget-view+json": {
       "version_major": 2,
       "version_minor": 0,
       "model_id": "8cb2ca2dd0974a2fb3c4454df7f3a49b"
      }
     },
     "metadata": {},
     "output_type": "display_data"
    }
   ],
   "source": [
    "min_valid_loss = np.inf\n",
    "\n",
    "train_losses = []\n",
    "val_losses = []\n",
    "\n",
    "N_EPOCHS = 50\n",
    "\n",
    "progress = tqdm_notebook(range(N_EPOCHS), desc='Model training', leave=True)\n",
    "for epoch in progress:\n",
    "    train_loss = 0.0\n",
    "    model.train()\n",
    "    for i, data in enumerate(train_loader):\n",
    "        optimizer.zero_grad()\n",
    "\n",
    "        out = model(\n",
    "            data.noisy_0,\n",
    "            data.observable,\n",
    "            data.circuit_depth,\n",
    "            data.x,\n",
    "            data.edge_index,\n",
    "            data.batch\n",
    "        )\n",
    "        loss = criterion(out, torch.squeeze(data.y, 1))\n",
    "\n",
    "        train_loss += loss.item()\n",
    "\n",
    "        loss.backward()\n",
    "        optimizer.step()\n",
    "\n",
    "    valid_loss = 0.0\n",
    "    model.eval()\n",
    "    for i, data in enumerate(val_loader):\n",
    "        out = model(\n",
    "            data.noisy_0,\n",
    "            data.observable,\n",
    "            data.circuit_depth,\n",
    "            data.x,\n",
    "            data.edge_index,\n",
    "            data.batch)\n",
    "        loss = criterion(out, torch.squeeze(data.y, 1))\n",
    "\n",
    "        valid_loss += loss.item()\n",
    "\n",
    "    scheduler.step(valid_loss)\n",
    "\n",
    "    if epoch >= 1:\n",
    "        train_losses.append(train_loss / len(train_loader))\n",
    "        val_losses.append(valid_loss / len(val_loader))\n",
    "\n",
    "        progress.set_description(f\"{round(train_losses[-1], 5)}, {round(val_losses[-1], 5)}\")\n",
    "        progress.refresh()"
   ],
   "metadata": {
    "collapsed": false
   }
  },
  {
   "cell_type": "code",
   "execution_count": 12,
   "outputs": [
    {
     "data": {
      "text/plain": "<Figure size 432x288 with 1 Axes>",
      "image/png": "[encoded data removed]"
     },
     "metadata": {
      "needs_background": "light"
     },
     "output_type": "display_data"
    }
   ],
   "source": [
    "plt.style.use({'figure.facecolor':'white'})\n",
    "plt.plot(train_losses, label=\"train_loss\")\n",
    "plt.plot(val_losses, label=\"val_loss\")\n",
    "plt.yscale('log')\n",
    "\n",
    "plt.legend()\n",
    "plt.show()"
   ],
   "metadata": {
    "collapsed": false
   }
  },
  {
   "cell_type": "code",
   "execution_count": 13,
   "outputs": [],
   "source": [
    "model_path = './model/finetuning/train_fakelima.pth'"
   ],
   "metadata": {
    "collapsed": false
   }
  },
  {
   "cell_type": "code",
   "execution_count": 14,
   "outputs": [],
   "source": [
    "torch.save(model.state_dict(), model_path)"
   ],
   "metadata": {
    "collapsed": false
   }
  },
  {
   "cell_type": "code",
   "execution_count": 15,
   "outputs": [],
   "source": [
    "to_save = {'train_losses': train_losses, 'val_losses': val_losses}\n",
    "with open('.'+model_path.split('.')[1]+'.pk', 'wb') as handle:\n",
    "    pickle.dump(to_save, handle, protocol=pickle.HIGHEST_PROTOCOL)"
   ],
   "metadata": {
    "collapsed": false
   }
  },
  {
   "cell_type": "markdown",
   "source": [],
   "metadata": {
    "collapsed": false
   }
  },
  {
   "cell_type": "markdown",
   "source": [
    "# Test on Backend 2"
   ],
   "metadata": {
    "collapsed": false
   }
  },
  {
   "cell_type": "code",
   "execution_count": 3,
   "outputs": [],
   "source": [
    "model_path = './model/finetuning/train_fakelima.pth'"
   ],
   "metadata": {
    "collapsed": false
   }
  },
  {
   "cell_type": "code",
   "execution_count": 4,
   "outputs": [
    {
     "data": {
      "text/plain": "<All keys matched successfully>"
     },
     "execution_count": 4,
     "metadata": {},
     "output_type": "execute_result"
    }
   ],
   "source": [
    "model = ExpValCircuitGraphModel(\n",
    "    num_node_features=22,\n",
    "    hidden_channels=15,\n",
    "    exp_value_size=1\n",
    ")\n",
    "model.load_state_dict(torch.load(model_path))"
   ],
   "metadata": {
    "collapsed": false
   }
  },
  {
   "cell_type": "code",
   "execution_count": 5,
   "outputs": [
    {
     "data": {
      "text/plain": "  0%|          | 0/9 [00:00<?, ?it/s]",
      "application/vnd.jupyter.widget-view+json": {
       "version_major": 2,
       "version_minor": 0,
       "model_id": "b19f3b6b4ca7445792291de5609223df"
      }
     },
     "metadata": {},
     "output_type": "display_data"
    }
   ],
   "source": [
    "dfs = {}\n",
    "model.eval()\n",
    "for d in tqdm_notebook(range(1, 10)):\n",
    "    test_paths = [\n",
    "        f'./data/circ_parsed_pyg_data/val/fakemontreal_depth{d}.json'\n",
    "    ]\n",
    "\n",
    "    test_loader = DataLoader(\n",
    "        CircuitGraphExpValMitigationDataset(\n",
    "            test_paths,\n",
    "        ),\n",
    "        batch_size=1000000,\n",
    "        shuffle=False\n",
    "    )\n",
    "\n",
    "    distances = []\n",
    "    for i, data in enumerate(test_loader):\n",
    "        out = model(data.noisy_0, data.observable, data.circuit_depth, data.x, data.edge_index, data.batch)\n",
    "\n",
    "        for ideal, noisy, ngm_mitigated in zip(\n",
    "            data.y.tolist(),\n",
    "            data.noisy_0.tolist(),\n",
    "            out.tolist()\n",
    "        ):\n",
    "            ideal = np.squeeze(ideal)\n",
    "            noisy = np.squeeze(noisy)\n",
    "            ngm_mitigated = np.squeeze(ngm_mitigated)\n",
    "            distances.append({\n",
    "                \"ideal\": ideal,\n",
    "                \"noisy\": noisy,\n",
    "                \"ngm_mitigated\": ngm_mitigated,\n",
    "                \"dist_noisy\": np.abs(ideal - noisy),\n",
    "                \"dist_ngm\": np.abs(ideal - ngm_mitigated),\n",
    "            })\n",
    "\n",
    "    df = pd.DataFrame(distances)\n",
    "    dfs[d] = df"
   ],
   "metadata": {
    "collapsed": false
   }
  },
  {
   "cell_type": "code",
   "execution_count": 8,
   "outputs": [],
   "source": [
    "plt.style.use({'figure.facecolor':'white'})\n",
    "\n",
    "y_dist_noisy = []\n",
    "y_dist_ngm = []\n",
    "for depth in dfs.keys():\n",
    "    y_dist_noisy.append(dfs[depth]['dist_noisy'].mean())\n",
    "    y_dist_ngm.append(dfs[depth]['dist_ngm'].mean())\n",
    "\n",
    "plt.plot(np.arange(1, 10), y_dist_noisy, label='dist_noisy')\n",
    "plt.plot(np.arange(1, 10), y_dist_ngm, label='dist_ngm')\n",
    "plt.ylim([0, 0.15])\n",
    "plt.title('Train on fakelima, test on fakemontreal')\n",
    "plt.ylabel('<O-O_ideal>')\n",
    "plt.xlabel('d')\n",
    "plt.legend()"
   ],
   "metadata": {
    "collapsed": false
   }
  },
  {
   "cell_type": "code",
   "execution_count": 22,
   "outputs": [
    {
     "data": {
      "text/plain": "  0%|          | 0/9 [00:00<?, ?it/s]",
      "application/vnd.jupyter.widget-view+json": {
       "version_major": 2,
       "version_minor": 0,
       "model_id": "b4144b144236407eb3acd5bc672216b3"
      }
     },
     "metadata": {},
     "output_type": "display_data"
    }
   ],
   "source": [
    "all_report_data = []\n",
    "\n",
    "ngem_improvement_factors = {}\n",
    "zne_improvement_factors = {}\n",
    "\n",
    "ideal_means = []\n",
    "noisy_means = []\n",
    "ngem_mitigated_means = []\n",
    "zne_mitigated_means = []\n",
    "\n",
    "for depth in tqdm_notebook(range(1, 10)):\n",
    "    test_paths = [\n",
    "        f'./data/circ_parsed_pyg_data/val/fakemontreal_depth{depth}.json'\n",
    "    ]\n",
    "\n",
    "    if len(test_paths) == 0: continue\n",
    "\n",
    "    test_loader = DataLoader(\n",
    "        CircuitGraphExpValMitigationDataset(\n",
    "            test_paths,\n",
    "        ),\n",
    "        batch_size=BATCH_SIZE,\n",
    "        shuffle=False\n",
    "    )\n",
    "\n",
    "    ngem_problems = []\n",
    "\n",
    "    ideal_values = []\n",
    "    ngem_values = []\n",
    "    noisy_valuses = []\n",
    "\n",
    "    for i, data in enumerate(test_loader):\n",
    "        out = model(\n",
    "            data.noisy_0,\n",
    "            data.observable,\n",
    "            data.circuit_depth,\n",
    "            data.x,\n",
    "            data.edge_index,\n",
    "            data.batch)\n",
    "\n",
    "        for ideal, noisy, ngm_mitigated in zip(\n",
    "            data.y.squeeze().tolist(),\n",
    "            data.noisy_0.squeeze().tolist(),\n",
    "            out.squeeze().tolist()\n",
    "        ):\n",
    "            ngem_problem = Problem(\n",
    "                trials=[Trial(noisy=noisy, mitigated=ngm_mitigated)],\n",
    "                ideal_exp_value=ideal\n",
    "            )\n",
    "            ngem_problems.append(ngem_problem)\n",
    "\n",
    "            ideal_values.append(ideal)\n",
    "            ngem_values.append(np.abs(ideal - ngm_mitigated))\n",
    "            noisy_valuses.append(np.abs(ideal - noisy))\n",
    "\n",
    "            all_report_data.append({\n",
    "                \"ideal\": ideal,\n",
    "                \"ngem\": ngm_mitigated,\n",
    "                \"noisy\": noisy,\n",
    "                \"depth\": depth\n",
    "            })\n",
    "\n",
    "    ideal_means.append(np.average(ideal_values))\n",
    "    noisy_means.append(np.average(noisy_valuses))\n",
    "    ngem_mitigated_means.append(np.average(ngem_values))\n",
    "\n",
    "    ngem_improvement_factors[depth] = improvement_factor(ngem_problems, 1, 1)"
   ],
   "metadata": {
    "collapsed": false
   }
  },
  {
   "cell_type": "code",
   "execution_count": 23,
   "outputs": [
    {
     "data": {
      "text/plain": "<Figure size 432x288 with 2 Axes>",
      "image/png": "[encoded data removed]"
     },
     "metadata": {},
     "output_type": "display_data"
    }
   ],
   "source": [
    "kwargs = {\"capsize\": 10, \"lw\": 2}\n",
    "\n",
    "fig, (ax1, ax2) = plt.subplots(2)\n",
    "# fig, ax2 = plt.subplots(1)\n",
    "fig.suptitle('NGEM Lima random circuits')\n",
    "\n",
    "dapth_data = list(range(1, 10))\n",
    "\n",
    "ax1.plot(dapth_data, ngem_improvement_factors.values(), label=\"ngem\")\n",
    "\n",
    "ax2.plot(dapth_data, noisy_means, label=\"noisy\")\n",
    "ax2.plot(dapth_data, ngem_mitigated_means, label=\"ngem\")\n",
    "\n",
    "plt.xlabel(\"Depth of circuit\")\n",
    "plt.ylabel(\"Distance to ideal exp value\")\n",
    "plt.legend()\n",
    "plt.show()"
   ],
   "metadata": {
    "collapsed": false
   }
  },
  {
   "cell_type": "markdown",
   "source": [],
   "metadata": {
    "collapsed": false
   }
  },
  {
   "cell_type": "markdown",
   "source": [
    "# Finetune on Backend 2"
   ],
   "metadata": {
    "collapsed": false
   }
  },
  {
   "cell_type": "code",
   "execution_count": 3,
   "outputs": [],
   "source": [
    "model_path = './model/finetuning/train_fakelima.pth'"
   ],
   "metadata": {
    "collapsed": false
   }
  },
  {
   "cell_type": "code",
   "execution_count": 4,
   "outputs": [],
   "source": [
    "model = ExpValCircuitGraphModel(\n",
    "    num_node_features=22,\n",
    "    hidden_channels=15,\n",
    "    exp_value_size=1\n",
    ")\n",
    "model.load_state_dict(torch.load(model_path))\n",
    "\n",
    "criterion = torch.nn.MSELoss()\n",
    "\n",
    "optimizer = Adam(model.parameters(), lr=0.001)\n",
    "scheduler = ReduceLROnPlateau(optimizer,\n",
    "                              'min',\n",
    "                              factor=0.1,\n",
    "                              patience=15,\n",
    "                              verbose=True,\n",
    "                              min_lr=0.00001)"
   ],
   "metadata": {
    "collapsed": false
   }
  },
  {
   "cell_type": "code",
   "execution_count": 5,
   "outputs": [],
   "source": [
    "finetune_paths = [\n",
    "    f'./data/circ_parsed_pyg_data/finetune/fakemontreal_depth{i}.json' for i in range(1, 10)\n",
    "]\n",
    "\n",
    "test_paths = [\n",
    "    f'./data/circ_parsed_pyg_data/val/fakemontreal_depth{i}.json' for i in range(1, 10)\n",
    "]\n",
    "\n",
    "finetune_loader = DataLoader(\n",
    "    CircuitGraphExpValMitigationDataset(\n",
    "        finetune_paths,\n",
    "    ),\n",
    "    batch_size=BATCH_SIZE,\n",
    "    shuffle=False\n",
    ")\n",
    "\n",
    "test_loader = DataLoader(\n",
    "    CircuitGraphExpValMitigationDataset(\n",
    "        test_paths,\n",
    "    ),\n",
    "    batch_size=BATCH_SIZE,\n",
    "    shuffle=False\n",
    ")"
   ],
   "metadata": {
    "collapsed": false
   }
  },
  {
   "cell_type": "code",
   "execution_count": 6,
   "outputs": [
    {
     "name": "stdout",
     "output_type": "stream",
     "text": [
      "13552 3616 3616\n"
     ]
    }
   ],
   "source": [
    "print(sum(p.numel() for p in model.parameters() if p.requires_grad), len(finetune_loader) * BATCH_SIZE, len(test_loader) * BATCH_SIZE)"
   ],
   "metadata": {
    "collapsed": false
   }
  },
  {
   "cell_type": "code",
   "execution_count": 7,
   "outputs": [
    {
     "data": {
      "text/plain": "Model training:   0%|          | 0/50 [00:00<?, ?it/s]",
      "application/vnd.jupyter.widget-view+json": {
       "version_major": 2,
       "version_minor": 0,
       "model_id": "92900c68699f4e24a8966195c0ca5687"
      }
     },
     "metadata": {},
     "output_type": "display_data"
    },
    {
     "name": "stdout",
     "output_type": "stream",
     "text": [
      "Epoch 00029: reducing learning rate of group 0 to 1.0000e-04.\n",
      "Epoch 00045: reducing learning rate of group 0 to 1.0000e-05.\n"
     ]
    }
   ],
   "source": [
    "min_valid_loss = np.inf\n",
    "\n",
    "finetune_losses = []\n",
    "test_losses = []\n",
    "\n",
    "N_EPOCHS = 50\n",
    "\n",
    "progress = tqdm_notebook(range(N_EPOCHS), desc='Model training', leave=True)\n",
    "for epoch in progress:\n",
    "    finetune_loss = 0.0\n",
    "    model.train()\n",
    "    for i, data in enumerate(finetune_loader):\n",
    "        optimizer.zero_grad()\n",
    "\n",
    "        out = model(\n",
    "            data.noisy_0,\n",
    "            data.observable,\n",
    "            data.circuit_depth,\n",
    "            data.x,\n",
    "            data.edge_index,\n",
    "            data.batch\n",
    "        )\n",
    "        loss = criterion(out, torch.squeeze(data.y, 1))\n",
    "\n",
    "        finetune_loss += loss.item()\n",
    "\n",
    "        loss.backward()\n",
    "        optimizer.step()\n",
    "\n",
    "    test_loss = 0.0\n",
    "    model.eval()\n",
    "    for i, data in enumerate(test_loader):\n",
    "        out = model(\n",
    "            data.noisy_0,\n",
    "            data.observable,\n",
    "            data.circuit_depth,\n",
    "            data.x,\n",
    "            data.edge_index,\n",
    "            data.batch)\n",
    "        loss = criterion(out, torch.squeeze(data.y, 1))\n",
    "\n",
    "        test_loss += loss.item()\n",
    "\n",
    "    scheduler.step(test_loss)\n",
    "\n",
    "    if epoch >= 1:\n",
    "        finetune_losses.append(finetune_loss / len(finetune_loader))\n",
    "        test_losses.append(test_loss / len(test_loader))\n",
    "\n",
    "        progress.set_description(f\"{round(finetune_losses[-1], 5)}, {round(test_losses[-1], 5)}\")\n",
    "        progress.refresh()"
   ],
   "metadata": {
    "collapsed": false
   }
  },
  {
   "cell_type": "code",
   "execution_count": 11,
   "outputs": [
    {
     "data": {
      "text/plain": "<Figure size 432x288 with 1 Axes>",
      "image/png": "[encoded data removed]"
     },
     "metadata": {},
     "output_type": "display_data"
    }
   ],
   "source": [
    "plt.style.use({'figure.facecolor':'white'})\n",
    "plt.plot(finetune_losses, label=\"train_loss\")\n",
    "plt.plot(test_losses, label=\"val_loss\")\n",
    "plt.yscale('log')\n",
    "\n",
    "plt.legend()\n",
    "plt.show()"
   ],
   "metadata": {
    "collapsed": false
   }
  },
  {
   "cell_type": "code",
   "execution_count": 12,
   "outputs": [],
   "source": [
    "model_path = './model/finetuning/finetune_fakemontreal.pth'"
   ],
   "metadata": {
    "collapsed": false
   }
  },
  {
   "cell_type": "code",
   "execution_count": 13,
   "outputs": [],
   "source": [
    "torch.save(model.state_dict(), model_path)"
   ],
   "metadata": {
    "collapsed": false
   }
  },
  {
   "cell_type": "code",
   "execution_count": 15,
   "outputs": [],
   "source": [
    "to_save = {'finetune_losses': finetune_losses, 'test_losses': test_losses}\n",
    "with open('.'+model_path.split('.')[1]+'.pk', 'wb') as handle:\n",
    "    pickle.dump(to_save, handle, protocol=pickle.HIGHEST_PROTOCOL)"
   ],
   "metadata": {
    "collapsed": false
   }
  },
  {
   "cell_type": "markdown",
   "source": [],
   "metadata": {
    "collapsed": false
   }
  },
  {
   "cell_type": "markdown",
   "source": [
    "# Test on Backend 2"
   ],
   "metadata": {
    "collapsed": false
   }
  },
  {
   "cell_type": "code",
   "execution_count": 3,
   "outputs": [],
   "source": [
    "model_path = './model/finetuning/finetune_fakemontreal.pth'"
   ],
   "metadata": {
    "collapsed": false
   }
  },
  {
   "cell_type": "code",
   "execution_count": 4,
   "outputs": [
    {
     "data": {
      "text/plain": "<All keys matched successfully>"
     },
     "execution_count": 4,
     "metadata": {},
     "output_type": "execute_result"
    }
   ],
   "source": [
    "model = ExpValCircuitGraphModel(\n",
    "    num_node_features=22,\n",
    "    hidden_channels=15,\n",
    "    exp_value_size=1\n",
    ")\n",
    "model.load_state_dict(torch.load(model_path))"
   ],
   "metadata": {
    "collapsed": false
   }
  },
  {
   "cell_type": "code",
   "execution_count": 5,
   "outputs": [
    {
     "data": {
      "text/plain": "  0%|          | 0/9 [00:00<?, ?it/s]",
      "application/vnd.jupyter.widget-view+json": {
       "version_major": 2,
       "version_minor": 0,
       "model_id": "f1f8f7151c0f431194d9210981ce08b6"
      }
     },
     "metadata": {},
     "output_type": "display_data"
    }
   ],
   "source": [
    "dfs = {}\n",
    "model.eval()\n",
    "for d in tqdm_notebook(range(1, 10)):\n",
    "    test_paths = [\n",
    "        f'./data/circ_parsed_pyg_data/val/fakemontreal_depth{d}.json'\n",
    "    ]\n",
    "\n",
    "    test_loader = DataLoader(\n",
    "        CircuitGraphExpValMitigationDataset(\n",
    "            test_paths,\n",
    "        ),\n",
    "        batch_size=10000000,\n",
    "        shuffle=False\n",
    "    )\n",
    "\n",
    "    distances = []\n",
    "    for i, data in enumerate(test_loader):\n",
    "        out = model(data.noisy_0, data.observable, data.circuit_depth, data.x, data.edge_index, data.batch)\n",
    "\n",
    "        for ideal, noisy, ngm_mitigated in zip(\n",
    "            data.y.tolist(),\n",
    "            data.noisy_0.tolist(),\n",
    "            out.tolist()\n",
    "        ):\n",
    "            ideal = np.mean(ideal)\n",
    "            noisy = np.mean(noisy)\n",
    "            ngm_mitigated = np.mean(ngm_mitigated)\n",
    "            distances.append({\n",
    "                \"ideal\": ideal,\n",
    "                \"noisy\": noisy,\n",
    "                \"ngm_mitigated\": ngm_mitigated,\n",
    "                \"dist_noisy\": np.abs(ideal - noisy),\n",
    "                \"dist_ngm\": np.abs(ideal - ngm_mitigated),\n",
    "            })\n",
    "\n",
    "    df = pd.DataFrame(distances)\n",
    "    dfs[d] = df"
   ],
   "metadata": {
    "collapsed": false
   }
  },
  {
   "cell_type": "code",
   "execution_count": 8,
   "outputs": [],
   "source": [
    "# with open('./results_to_plot/finetuning/train_lima_finetune_montreal_test_montreal.pk', 'wb') as out:\n",
    "#     pickle.dump(dfs, out)"
   ],
   "metadata": {
    "collapsed": false
   }
  },
  {
   "cell_type": "code",
   "execution_count": 7,
   "outputs": [
    {
     "data": {
      "text/plain": "<matplotlib.legend.Legend at 0x7f7aac156410>"
     },
     "execution_count": 7,
     "metadata": {},
     "output_type": "execute_result"
    },
    {
     "data": {
      "text/plain": "<Figure size 432x288 with 1 Axes>",
      "image/png": "[encoded data removed]"
     },
     "metadata": {},
     "output_type": "display_data"
    }
   ],
   "source": [
    "plt.style.use({'figure.facecolor':'white'})\n",
    "\n",
    "y_dist_noisy = []\n",
    "y_dist_ngm = []\n",
    "for depth in dfs.keys():\n",
    "    y_dist_noisy.append(dfs[depth]['dist_noisy'].mean())\n",
    "    y_dist_ngm.append(dfs[depth]['dist_ngm'].mean())\n",
    "\n",
    "plt.plot(np.arange(1, 10), y_dist_noisy, label='dist_noisy')\n",
    "plt.plot(np.arange(1, 10), y_dist_ngm, label='dist_ngm')\n",
    "plt.ylim([0, 0.15])\n",
    "plt.title('Train on fakelima, finetune and test on fakemontreal')\n",
    "plt.ylabel('<O-O_ideal>')\n",
    "plt.xlabel('d')\n",
    "plt.legend()"
   ],
   "metadata": {
    "collapsed": false
   }
  },
  {
   "cell_type": "markdown",
   "source": [],
   "metadata": {
    "collapsed": false
   }
  },
  {
   "cell_type": "markdown",
   "source": [
    "# Train on Backend 2 from scratch"
   ],
   "metadata": {
    "collapsed": false
   }
  },
  {
   "cell_type": "code",
   "execution_count": null,
   "outputs": [],
   "source": [],
   "metadata": {
    "collapsed": false
   }
  },
  {
   "cell_type": "markdown",
   "source": [],
   "metadata": {
    "collapsed": false
   }
  },
  {
   "cell_type": "markdown",
   "source": [
    "# Test on Backend 2"
   ],
   "metadata": {
    "collapsed": false
   }
  },
  {
   "cell_type": "code",
   "execution_count": null,
   "outputs": [],
   "source": [],
   "metadata": {
    "collapsed": false
   }
  }
 ],
 "metadata": {
  "kernelspec": {
   "display_name": "Python 3",
   "language": "python",
   "name": "python3"
  },
  "language_info": {
   "codemirror_mode": {
    "name": "ipython",
    "version": 2
   },
   "file_extension": ".py",
   "mimetype": "text/x-python",
   "name": "python",
   "nbconvert_exporter": "python",
   "pygments_lexer": "ipython2",
   "version": "2.7.6"
  }
 },
 "nbformat": 4,
 "nbformat_minor": 0
}
