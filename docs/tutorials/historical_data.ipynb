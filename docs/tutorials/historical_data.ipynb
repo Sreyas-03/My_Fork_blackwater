{
 "cells": [
  {
   "cell_type": "code",
   "execution_count": 11,
   "id": "immune-signature",
   "metadata": {},
   "outputs": [],
   "source": [
    "# Author: Thaddeus Pellegrini (thaddeus.pellegrini@ibm.com)\n",
    "# Created: Wed. March 1 2023\n",
    "# Modified by Haoran Liao"
   ]
  },
  {
   "cell_type": "code",
   "execution_count": 12,
   "id": "applicable-disclosure",
   "metadata": {},
   "outputs": [],
   "source": [
    "from datetime import datetime, timedelta\n",
    "from qiskit import IBMQ\n",
    "from collections import defaultdict\n",
    "import json\n",
    "from tqdm.notebook import tqdm_notebook"
   ]
  },
  {
   "cell_type": "code",
   "execution_count": 13,
   "id": "uniform-circumstances",
   "metadata": {},
   "outputs": [
    {
     "name": "stderr",
     "output_type": "stream",
     "text": [
      "ibmqfactory.load_account:WARNING:2023-03-01 16:58:19,096: Credentials are already in use. The existing account in the session will be replaced.\n"
     ]
    }
   ],
   "source": [
    "IBMQ.load_account()\n",
    "provider = IBMQ.get_provider(hub=\"ibm-q-internal\", group='deployed')"
   ]
  },
  {
   "cell_type": "code",
   "execution_count": 17,
   "id": "compressed-speed",
   "metadata": {},
   "outputs": [],
   "source": [
    "backends =  ['ibmq_lima']"
   ]
  },
  {
   "cell_type": "code",
   "execution_count": 18,
   "id": "encouraging-birmingham",
   "metadata": {},
   "outputs": [],
   "source": [
    "interval_hour = 3 # interval in hours, sampling frequency\n",
    "intervals = 240 # intervals*interval_hour = sampling time\n",
    "ref_point = datetime.now() # change this to some datetime object if you want to grab data from different timeframe\n",
    "\n",
    "times = []\n",
    "for i in range(intervals):\n",
    "    past_time = ref_point - timedelta(hours=i * interval_hour)\n",
    "    times.append(past_time)"
   ]
  },
  {
   "cell_type": "markdown",
   "id": "crude-mistress",
   "metadata": {},
   "source": [
    "Format of datastructure:\n",
    "    \n",
    "historical_data.json:\n",
    "\n",
    "{ device_1: \n",
    "    {times: [list of strings, times at which data was sampled],\n",
    "     t1: {qubit_0: [list of t1 times, index corresponds to 'times'], qubit_1: [], ..., qubit_n: []},\n",
    "     t2: {qubit_0: [list of t2 times, index corresponds to 'times'], qubit_1: [], ..., qubit_n: []},\n",
    "     readout_err: {qubit_0: [list of readout errors, index corr. to 'times'], qubit_1: [], ..., qubit_n: []}\n",
    "     cnots: {edge_0_1: [list of cnot errors, index corr. to 'times'], ... edge_n_m: [...]}\n",
    "     },\n",
    "    \n",
    "  device_2: {...},\n",
    "    .\n",
    "    .\n",
    "    .\n",
    "  device_n: {...}\n",
    "}"
   ]
  },
  {
   "cell_type": "code",
   "execution_count": null,
   "id": "solid-island",
   "metadata": {
    "pycharm": {
     "is_executing": true
    }
   },
   "outputs": [
    {
     "name": "stdout",
     "output_type": "stream",
     "text": [
      "ibmq_lima\n"
     ]
    },
    {
     "data": {
      "text/plain": "  0%|          | 0/240 [00:00<?, ?it/s]",
      "application/vnd.jupyter.widget-view+json": {
       "version_major": 2,
       "version_minor": 0,
       "model_id": "f15e6e2fcd7746fab862226a3db49ddd"
      }
     },
     "metadata": {},
     "output_type": "display_data"
    },
    {
     "name": "stdout",
     "output_type": "stream",
     "text": [
      "30-01-2023T23:47:02\n",
      "31-01-2023T02:47:02\n",
      "31-01-2023T05:47:02\n",
      "31-01-2023T08:47:02\n",
      "31-01-2023T11:47:02\n",
      "31-01-2023T14:47:02\n",
      "31-01-2023T17:47:02\n",
      "31-01-2023T20:47:02\n",
      "31-01-2023T23:47:02\n",
      "01-02-2023T02:47:02\n",
      "01-02-2023T05:47:02\n",
      "01-02-2023T08:47:02\n",
      "01-02-2023T11:47:02\n",
      "01-02-2023T14:47:02\n",
      "01-02-2023T17:47:02\n",
      "01-02-2023T20:47:02\n",
      "01-02-2023T23:47:02\n",
      "02-02-2023T02:47:02\n",
      "02-02-2023T05:47:02\n",
      "02-02-2023T08:47:02\n",
      "02-02-2023T11:47:02\n",
      "02-02-2023T14:47:02\n",
      "02-02-2023T17:47:02\n",
      "02-02-2023T20:47:02\n",
      "02-02-2023T23:47:02\n",
      "03-02-2023T02:47:02\n",
      "03-02-2023T05:47:02\n",
      "03-02-2023T08:47:02\n",
      "03-02-2023T11:47:02\n",
      "03-02-2023T14:47:02\n",
      "03-02-2023T17:47:02\n",
      "03-02-2023T20:47:02\n",
      "03-02-2023T23:47:02\n",
      "04-02-2023T02:47:02\n",
      "04-02-2023T05:47:02\n",
      "04-02-2023T08:47:02\n",
      "04-02-2023T11:47:02\n",
      "04-02-2023T14:47:02\n",
      "04-02-2023T17:47:02\n",
      "04-02-2023T20:47:02\n",
      "04-02-2023T23:47:02\n",
      "05-02-2023T02:47:02\n",
      "05-02-2023T05:47:02\n",
      "05-02-2023T08:47:02\n",
      "05-02-2023T11:47:02\n",
      "05-02-2023T14:47:02\n",
      "05-02-2023T17:47:02\n",
      "05-02-2023T20:47:02\n",
      "05-02-2023T23:47:02\n",
      "06-02-2023T02:47:02\n",
      "06-02-2023T05:47:02\n",
      "06-02-2023T08:47:02\n",
      "06-02-2023T11:47:02\n",
      "06-02-2023T14:47:02\n",
      "06-02-2023T17:47:02\n",
      "06-02-2023T20:47:02\n",
      "06-02-2023T23:47:02\n",
      "07-02-2023T02:47:02\n",
      "07-02-2023T05:47:02\n",
      "07-02-2023T08:47:02\n",
      "07-02-2023T11:47:02\n",
      "07-02-2023T14:47:02\n",
      "07-02-2023T17:47:02\n",
      "07-02-2023T20:47:02\n",
      "07-02-2023T23:47:02\n",
      "08-02-2023T02:47:02\n",
      "08-02-2023T05:47:02\n",
      "08-02-2023T08:47:02\n",
      "08-02-2023T11:47:02\n",
      "08-02-2023T14:47:02\n",
      "08-02-2023T17:47:02\n",
      "08-02-2023T20:47:02\n",
      "08-02-2023T23:47:02\n",
      "09-02-2023T02:47:02\n",
      "09-02-2023T05:47:02\n",
      "09-02-2023T08:47:02\n",
      "09-02-2023T11:47:02\n",
      "09-02-2023T14:47:02\n",
      "09-02-2023T17:47:02\n",
      "09-02-2023T20:47:02\n",
      "09-02-2023T23:47:02\n",
      "10-02-2023T02:47:02\n",
      "10-02-2023T05:47:02\n",
      "10-02-2023T08:47:02\n",
      "10-02-2023T11:47:02\n",
      "10-02-2023T14:47:02\n",
      "10-02-2023T17:47:02\n",
      "10-02-2023T20:47:02\n",
      "10-02-2023T23:47:02\n",
      "11-02-2023T02:47:02\n",
      "11-02-2023T05:47:02\n",
      "11-02-2023T08:47:02\n",
      "11-02-2023T11:47:02\n",
      "11-02-2023T14:47:02\n",
      "11-02-2023T17:47:02\n",
      "11-02-2023T20:47:02\n",
      "11-02-2023T23:47:02\n",
      "12-02-2023T02:47:02\n",
      "12-02-2023T05:47:02\n",
      "12-02-2023T08:47:02\n",
      "12-02-2023T11:47:02\n",
      "12-02-2023T14:47:02\n",
      "12-02-2023T17:47:02\n",
      "12-02-2023T20:47:02\n",
      "12-02-2023T23:47:02\n",
      "13-02-2023T02:47:02\n",
      "13-02-2023T05:47:02\n",
      "13-02-2023T08:47:02\n",
      "13-02-2023T11:47:02\n",
      "13-02-2023T14:47:02\n",
      "13-02-2023T17:47:02\n",
      "13-02-2023T20:47:02\n",
      "13-02-2023T23:47:02\n"
     ]
    }
   ],
   "source": [
    "data = {be: {} for be in backends}\n",
    "\n",
    "for be in backends:\n",
    "    print(be)\n",
    "    backend = provider.get_backend(be)\n",
    "    qubits = range(len(backend.properties().qubits))\n",
    "    t1 = defaultdict(list)\n",
    "    t2 = defaultdict(list)\n",
    "    readout_err = defaultdict(list)\n",
    "    cnot_err = defaultdict(list)\n",
    "    sx_err = defaultdict(list)\n",
    "    x_err = defaultdict(list)\n",
    "    \n",
    "    for qubit in qubits[:1]:\n",
    "        t1s = []\n",
    "        t2s = []\n",
    "        readout_errs = []\n",
    "        sx_errs = []\n",
    "        x_errs = []\n",
    "\n",
    "        for time in tqdm_notebook(times[::-1], leave=True):\n",
    "            print(time.strftime(\"%d-%m-%YT%H:%M:%S%Z\"))\n",
    "            prop = backend.properties(datetime=time)\n",
    "            t1s.append(prop.t1(qubit=qubit))\n",
    "            t2s.append(prop.t2(qubit=qubit))\n",
    "            readout_errs.append(prop.readout_error(qubit=qubit))\n",
    "            sx_errs.append(prop.gate_error(gate='sx', qubits=qubit))\n",
    "            x_errs.append(prop.gate_error(gate='x', qubits=qubit))\n",
    "            \n",
    "        t1[qubit] = t1s\n",
    "        t2[qubit] = t2s\n",
    "        readout_err[qubit] = readout_errs\n",
    "        sx_err[qubit] = sx_errs\n",
    "        x_err[qubit] = x_errs\n",
    "    \n",
    "    if prop.backend_name[:4]=='ibmq':\n",
    "        edges = backend.configuration().coupling_map # For BackendV1 (ibmq_something device)\n",
    "    else:\n",
    "        edges = backend.coupling_map # For BackendV2 (ibm_something device)\n",
    "\n",
    "    print('Getting CX errors...')\n",
    "    for edge in edges:\n",
    "        qubit_1 = edge[0]\n",
    "        qubit_2 = edge[1]\n",
    "        \n",
    "        cnots = []\n",
    "        for time in tqdm_notebook(times[::-1], leave=True):\n",
    "            print(time.strftime(\"%d-%m-%YT%H:%M:%S%Z\"))\n",
    "            prop = backend.properties(datetime=time)\n",
    "            cnots.append(prop.gate_error(gate='cx', qubits=(qubit_1, qubit_2)))\n",
    "            \n",
    "        e = str(qubit_1)+\"_\"+str(qubit_2)                \n",
    "        cnot_err[e] = cnots\n",
    "        \n",
    "    data[backend.properties().backend_name]['times']=[time.strftime(\"%d-%m-%YT%H:%M:%S%Z\") for time in times[::-1]]\n",
    "    data[backend.properties().backend_name]['t1']=t1\n",
    "    data[backend.properties().backend_name]['t2']=t2\n",
    "    data[backend.properties().backend_name]['readout_err']=readout_err\n",
    "    data[backend.properties().backend_name]['cnot_err']=cnot_err\n",
    "    data[backend.properties().backend_name]['sx_err']=sx_err\n",
    "    data[backend.properties().backend_name]['x_err']=x_err"
   ]
  },
  {
   "cell_type": "code",
   "execution_count": null,
   "id": "automatic-albany",
   "metadata": {},
   "outputs": [],
   "source": [
    "with open(\"./ibmq_lima_params.json\", \"wb\") as outfile:\n",
    "    json.dump(data, outfile)"
   ]
  },
  {
   "cell_type": "markdown",
   "id": "minor-denmark",
   "metadata": {},
   "source": []
  },
  {
   "cell_type": "code",
   "execution_count": null,
   "id": "ordered-cleaning",
   "metadata": {},
   "outputs": [],
   "source": []
  },
  {
   "cell_type": "code",
   "execution_count": null,
   "id": "harmful-funds",
   "metadata": {},
   "outputs": [],
   "source": []
  }
 ],
 "metadata": {
  "kernelspec": {
   "display_name": "Python 3",
   "language": "python",
   "name": "python3"
  },
  "language_info": {
   "codemirror_mode": {
    "name": "ipython",
    "version": 3
   },
   "file_extension": ".py",
   "mimetype": "text/x-python",
   "name": "python",
   "nbconvert_exporter": "python",
   "pygments_lexer": "ipython3",
   "version": "3.9.1"
  }
 },
 "nbformat": 4,
 "nbformat_minor": 5
}
