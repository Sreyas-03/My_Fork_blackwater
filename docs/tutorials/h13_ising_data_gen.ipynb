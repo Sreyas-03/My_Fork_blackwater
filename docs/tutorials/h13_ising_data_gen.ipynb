{
 "cells": [
  {
   "cell_type": "code",
   "execution_count": 1,
   "outputs": [],
   "source": [
    "import json, pickle\n",
    "import glob\n",
    "\n",
    "import numpy as np\n",
    "import pandas as pd\n",
    "\n",
    "from qiskit import transpile\n",
    "from qiskit import execute\n",
    "from qiskit.providers.fake_provider import FakeLima\n",
    "from qiskit.primitives import Estimator\n",
    "from qiskit.circuit.random import random_circuit\n",
    "\n",
    "import torch\n",
    "from torch.optim import Adam\n",
    "from torch.optim.lr_scheduler import ReduceLROnPlateau\n",
    "from torch.nn.functional import dropout\n",
    "\n",
    "from torch_geometric.nn import GCNConv, global_mean_pool, Linear, ChebConv, SAGEConv\n",
    "from torch_geometric.data import Data\n",
    "from torch_geometric.loader import DataLoader\n",
    "\n",
    "from tqdm.notebook import tqdm_notebook\n",
    "import matplotlib.pyplot as plt\n",
    "import seaborn as sns\n",
    "\n",
    "from blackwater.data.loaders.exp_val import CircuitGraphExpValMitigationDataset\n",
    "from blackwater.data.generators.exp_val import exp_value_generator\n",
    "from blackwater.data.utils import generate_random_pauli_sum_op\n",
    "from blackwater.library.ngem.estimator import ngem\n",
    "\n",
    "from qiskit.quantum_info import random_clifford\n",
    "\n",
    "import random\n",
    "from qiskit.circuit.library import HGate, SdgGate\n",
    "from qiskit.circuit import ClassicalRegister\n",
    "\n",
    "from blackwater.data.utils import (\n",
    "    generate_random_pauli_sum_op,\n",
    "    create_estimator_meas_data,\n",
    "    circuit_to_graph_data_json,\n",
    "    get_backend_properties_v1,\n",
    "    encode_pauli_sum_op,\n",
    "    create_meas_data_from_estimators\n",
    ")\n",
    "from blackwater.data.generators.exp_val import ExpValueEntry\n",
    "from blackwater.metrics.improvement_factor import improvement_factor, Trial, Problem\n",
    "\n",
    "from qiskit_aer import AerSimulator, QasmSimulator\n",
    "from qiskit.providers.fake_provider import FakeMontreal, FakeLima, FakeBelem\n",
    "\n",
    "from torch_geometric.nn import (\n",
    "    GCNConv,\n",
    "    TransformerConv,\n",
    "    GATv2Conv,\n",
    "    global_mean_pool,\n",
    "    Linear,\n",
    "    ChebConv,\n",
    "    SAGEConv,\n",
    "    ASAPooling,\n",
    "    dense_diff_pool,\n",
    "    avg_pool_neighbor_x\n",
    ")\n",
    "from torch_geometric.data import Data\n",
    "from torch_geometric.loader import DataLoader\n",
    "from torch_geometric.utils import to_dense_adj, to_dense_batch\n",
    "\n",
    "from qiskit import QuantumCircuit\n",
    "from qiskit.circuit.library import U3Gate, CZGate, PhaseGate, CXGate\n",
    "from mbd_utils import construct_random_clifford, cal_z_exp, calc_imbalance, cal_all_z_exp, construct_mbl_circuit, generate_disorder, random_clifford_circuit\n",
    "from gnn import ExpValCircuitGraphModel\n",
    "from qiskit.quantum_info import Clifford\n",
    "from qiskit_aer.noise import depolarizing_error, coherent_unitary_error, NoiseModel\n",
    "from noise_utils import AddNoise\n",
    "\n",
    "from functools import partial"
   ],
   "metadata": {
    "collapsed": false
   }
  },
  {
   "cell_type": "code",
   "execution_count": 2,
   "outputs": [],
   "source": [
    "backend = FakeLima()\n",
    "properties = get_backend_properties_v1(backend)\n",
    "\n",
    "## Local\n",
    "backend_ideal = QasmSimulator() # Noiseless\n",
    "backend_noisy = AerSimulator.from_backend(FakeLima()) # Noisy\n",
    "\n",
    "run_config_ideal = {'shots': 10000, 'backend': backend_ideal, 'name': 'ideal'}\n",
    "run_config_noisy = {'shots': 10000, 'backend': backend_noisy, 'name': 'noisy'}\n",
    "\n",
    "num_qubit = 4"
   ],
   "metadata": {
    "collapsed": false
   }
  },
  {
   "cell_type": "code",
   "execution_count": 2,
   "outputs": [
    {
     "name": "stdout",
     "output_type": "stream",
     "text": [
      "random seed fixed to 0\n",
      "thetas [0.06896594 0.08987335 0.07574548 0.06847204 0.05323803 0.08116545\n",
      " 0.05498883 0.1120635 ]\n"
     ]
    }
   ],
   "source": [
    "backend = FakeLima()\n",
    "properties = get_backend_properties_v1(backend)\n",
    "\n",
    "# Local, coherent noise\n",
    "backend_ideal = QasmSimulator() # Noiseless\n",
    "backend_noisy_coherent, noise_model = AddNoise().add_coherent_noise(seed=0, theta=np.pi * 0.04, uniform=False, add_depolarization=True)\n",
    "\n",
    "run_config_ideal = {'shots': 10000, 'backend': backend_ideal, 'name': 'ideal'}\n",
    "run_config_noisy_coherent = {'shots': 10000, 'backend': backend_noisy_coherent, 'name': 'noisy_coherent'}\n",
    "\n",
    "num_qubit = 4"
   ],
   "metadata": {
    "collapsed": false
   }
  },
  {
   "cell_type": "code",
   "execution_count": 3,
   "outputs": [],
   "source": [
    "from qiskit.transpiler.exceptions import TranspilerError\n",
    "import scipy\n",
    "\n",
    "def generate_data(generating_func, two_q_gate_depths, save_path: str, n_entries_per_file: int, run_config_n):\n",
    "    for depth in two_q_gate_depths:\n",
    "        entries = []\n",
    "\n",
    "        for i in tqdm_notebook(range(n_entries_per_file)):\n",
    "            success = False\n",
    "            while not success:\n",
    "                try:\n",
    "                    circuit = generating_func(depth)\n",
    "                    success = True\n",
    "                except (scipy.linalg.LinAlgError, TranspilerError, np.linalg.LinAlgError) as e:\n",
    "                    print(f\"Ran into an error:, {e}\")\n",
    "\n",
    "            job_ideal = execute(circuit, **run_config_ideal)\n",
    "            job_noisy = execute(circuit, **run_config_n)\n",
    "\n",
    "            counts_ideal = job_ideal.result().get_counts()\n",
    "            counts_noisy = job_noisy.result().get_counts()\n",
    "\n",
    "            ideal_exp_val = cal_z_exp(counts_ideal)\n",
    "            noisy_exp_val = cal_z_exp(counts_noisy)\n",
    "\n",
    "            graph_data = circuit_to_graph_data_json(\n",
    "                circuit=circuit,\n",
    "                properties=properties,\n",
    "                use_qubit_features=True,\n",
    "                use_gate_features=True,\n",
    "            )\n",
    "\n",
    "            entry = ExpValueEntry(\n",
    "                circuit_graph=graph_data,\n",
    "                observable=[],\n",
    "                ideal_exp_value=ideal_exp_val.tolist(),\n",
    "                noisy_exp_values=[noisy_exp_val.tolist()],\n",
    "                circuit_depth=circuit.depth()\n",
    "            )\n",
    "            to_append = entry.to_dict()\n",
    "            to_append['circuit'] = circuit\n",
    "            entries.append(to_append)\n",
    "\n",
    "        path = f\"{save_path}/step_{depth}.pk\"\n",
    "        with open(path, \"wb\") as f:\n",
    "            pickle.dump(entries, f)"
   ],
   "metadata": {
    "collapsed": false
   }
  },
  {
   "cell_type": "code",
   "execution_count": 4,
   "outputs": [],
   "source": [
    "from qiskit.circuit import Parameter\n",
    "\n",
    "class IsingModel:\n",
    "\n",
    "    class Options(dict):\n",
    "        def __init__(self, *args, **kwargs):\n",
    "            super().__init__()\n",
    "            self['nq'] = 4\n",
    "            self['h'] = 1\n",
    "            self['J'] = 0.15\n",
    "            self['dt'] = 1/4\n",
    "            self['depth'] = 15\n",
    "            self.update(*args, **kwargs)\n",
    "\n",
    "        def config_4q_paper(self):\n",
    "            self['h'] = 1\n",
    "            self['J'] = 0.15\n",
    "            self['dt'] = 1/4*2\n",
    "\n",
    "        def config_10q_paper(self):\n",
    "            self['h'] = 1\n",
    "            self['J'] = 0.5236\n",
    "            self['dt'] = 1/4\n",
    "\n",
    "\n",
    "    @classmethod\n",
    "    def apply_quantum_circuit_layer(cls, qc: QuantumCircuit, ops: 'IsingModel.Options'):\n",
    "        allq = list(range(ops['nq']))\n",
    "\n",
    "        qc.rx(2*ops['h']*ops['dt'], allq)\n",
    "\n",
    "        qc.barrier()\n",
    "        for q0 in allq[0::2]:\n",
    "            q1 = q0+1\n",
    "            qc.cx(q0,q1)\n",
    "        qc.rz(-2*ops['J']*ops['dt'], allq[1::2])\n",
    "        for q0 in allq[0::2]:\n",
    "            q1 = q0+1\n",
    "            qc.cx(q0,q1)\n",
    "\n",
    "        qc.barrier()\n",
    "        for q0 in allq[1:-2:2]:\n",
    "            q1 = q0+1\n",
    "            qc.cx(q0,q1)\n",
    "        qc.rz(-2*ops['J']*ops['dt'], allq[2:-1:2])\n",
    "        for q0 in allq[1:-2:2]:\n",
    "            q1 = q0+1\n",
    "            qc.cx(q0,q1)\n",
    "        qc.barrier()\n",
    "\n",
    "    @classmethod\n",
    "    def make_quantum_circuit(cls, ops: 'IsingModel.Options'):\n",
    "        qc = QuantumCircuit(ops['nq'])\n",
    "        allq = list(range(ops['nq']))\n",
    "\n",
    "        for step in range(ops['depth']):\n",
    "            cls.apply_quantum_circuit_layer(qc, ops)\n",
    "\n",
    "        if ops['measure_basis'] == 'Z':\n",
    "            pass\n",
    "        elif  ops['measure_basis'] == 'X':\n",
    "            qc.h(allq)\n",
    "        elif  ops['measure_basis'] == 'Y':\n",
    "            qc.sdg(allq)\n",
    "            qc.h(allq)\n",
    "        else:\n",
    "            raise Exception(\"Must be X Y or Z\")\n",
    "        qc.measure_all()\n",
    "\n",
    "        return qc\n",
    "\n",
    "    @classmethod\n",
    "    def make_circs_sweep(cls, ops, num_steps, measure_basis):\n",
    "        ops['measure_basis'] = measure_basis\n",
    "        ops['depth'] = num_steps\n",
    "        qc = cls.make_quantum_circuit(ops)\n",
    "        qc.metadata = {}\n",
    "        qc.metadata['measure_basis'] = measure_basis\n",
    "        qc.metadata['depth'] = num_steps\n",
    "        return qc"
   ],
   "metadata": {
    "collapsed": false
   }
  },
  {
   "cell_type": "code",
   "execution_count": 5,
   "outputs": [
    {
     "data": {
      "text/plain": "<Figure size 1019.88x325.08 with 1 Axes>",
      "image/png": "[encoded data removed]"
     },
     "execution_count": 5,
     "metadata": {},
     "output_type": "execute_result"
    }
   ],
   "source": [
    "cls = IsingModel\n",
    "ops = cls.Options()\n",
    "ops.config_4q_paper()\n",
    "ops.update({'J': Parameter('J'), 'h': Parameter('h')})\n",
    "qc = cls.make_circs_sweep(ops, 1, 'Z'), list(range(4))\n",
    "qc[0].draw('mpl', fold=-1)"
   ],
   "metadata": {
    "collapsed": false
   }
  },
  {
   "cell_type": "markdown",
   "source": [],
   "metadata": {
    "collapsed": false
   }
  },
  {
   "cell_type": "markdown",
   "source": [
    "# Random Ising Init"
   ],
   "metadata": {
    "collapsed": false
   }
  },
  {
   "cell_type": "code",
   "execution_count": 15,
   "outputs": [
    {
     "data": {
      "text/plain": "<Figure size 2043.28x325.08 with 1 Axes>",
      "image/png": "[encoded data removed]"
     },
     "execution_count": 15,
     "metadata": {},
     "output_type": "execute_result"
    }
   ],
   "source": [
    "from qiskit.quantum_info import random_statevector\n",
    "from qiskit.circuit.library import RYGate, RXGate, RZGate, CXGate\n",
    "from qiskit import QuantumRegister\n",
    "\n",
    "def generate_random_initial_state():\n",
    "    qc = QuantumCircuit(4)\n",
    "    random_state = random_statevector(2**4).data\n",
    "    qc.initialize(random_state, list(range(4)))\n",
    "    return qc\n",
    "\n",
    "def generate_random_initial_num_gate(num_gates=2):\n",
    "    qr = QuantumRegister(4)\n",
    "    qc = QuantumCircuit(qr)\n",
    "\n",
    "    for _ in range(num_gates):\n",
    "        gate_type = np.random.choice(['rx', 'rz', 'cnot', 'id'])\n",
    "        qubit_indices = np.random.choice(range(4), size=2, replace=False)\n",
    "\n",
    "        if gate_type == 'ry':\n",
    "            theta = 2 * np.pi * np.random.rand()\n",
    "            qc.append(RYGate(theta), [qr[qubit_indices[0]]])\n",
    "        elif gate_type == 'rx':\n",
    "            theta = 2 * np.pi * np.random.rand()\n",
    "            qc.append(RXGate(theta), [qr[qubit_indices[0]]])\n",
    "        elif gate_type == 'rz':\n",
    "            theta = 2 * np.pi * np.random.rand()\n",
    "            qc.append(RZGate(theta), [qr[qubit_indices[0]]])\n",
    "        elif gate_type == 'id':\n",
    "            pass\n",
    "        elif gate_type == 'cnot':\n",
    "            theta = 2 * np.pi * np.random.rand()\n",
    "            qc.append(RXGate(theta), [qr[qubit_indices[0]]])\n",
    "            qc.append(CXGate(), [qr[qubit_indices[0]], qr[qubit_indices[1]]])\n",
    "\n",
    "    return qc\n",
    "\n",
    "def construct_ising_circuit_random_init(J, basis, num_steps):\n",
    "    cls = IsingModel\n",
    "    ops = cls.Options()\n",
    "    ops.config_4q_paper()\n",
    "    ops.update({'J': J})\n",
    "    qc_init = QuantumCircuit.from_qasm_str('OPENQASM 2.0;\\ninclude \"qelib1.inc\";\\nqreg q[4];\\nrz(0.0007186381718527407) q[1];\\nrz(2.4917901988569855) q[1];\\nrz(3.3854853863523835) q[3];\\nrx(1.2846113715328817) q[3];\\ncx q[3],q[0];\\nrx(4.212671608894216) q[2];\\ncx q[2],q[3];\\n')\n",
    "    qc_init.barrier()\n",
    "    qc = qc_init.compose(cls.make_circs_sweep(ops, num_steps, basis), list(range(4)))\n",
    "    return qc\n",
    "\n",
    "J = 0.15\n",
    "basis = np.random.choice(list('XYZ'))\n",
    "random_ising = construct_ising_circuit_random_init(J, basis, 2)\n",
    "trans_circuit = transpile(random_ising, backend=backend_ideal, optimization_level=3)\n",
    "trans_circuit.draw('mpl', fold=-1)"
   ],
   "metadata": {
    "collapsed": false
   }
  },
  {
   "cell_type": "code",
   "execution_count": 7,
   "outputs": [],
   "source": [
    "h = 1\n",
    "def construct_random_ising_func_random_init(num_steps, be):\n",
    "    J = np.random.uniform(0, h, size=1)[0]\n",
    "    basis = np.random.choice(list('XYZ'))\n",
    "    random_ising = construct_ising_circuit_random_init(J, basis, num_steps)\n",
    "    trans_circuit = transpile(random_ising, backend=be, optimization_level=3)\n",
    "    return trans_circuit"
   ],
   "metadata": {
    "collapsed": false
   }
  },
  {
   "cell_type": "code",
   "execution_count": 20,
   "outputs": [
    {
     "data": {
      "text/plain": "  0%|          | 0/300 [00:00<?, ?it/s]",
      "application/vnd.jupyter.widget-view+json": {
       "version_major": 2,
       "version_minor": 0,
       "model_id": "148f137f64014cf58c48d5003531b569"
      }
     },
     "metadata": {},
     "output_type": "display_data"
    },
    {
     "data": {
      "text/plain": "  0%|          | 0/300 [00:00<?, ?it/s]",
      "application/vnd.jupyter.widget-view+json": {
       "version_major": 2,
       "version_minor": 0,
       "model_id": "1d15b091d70e4cb6998cdaf3b734c862"
      }
     },
     "metadata": {},
     "output_type": "display_data"
    },
    {
     "data": {
      "text/plain": "  0%|          | 0/300 [00:00<?, ?it/s]",
      "application/vnd.jupyter.widget-view+json": {
       "version_major": 2,
       "version_minor": 0,
       "model_id": "3498506a4d314a0fa9cd640ebaa78e7e"
      }
     },
     "metadata": {},
     "output_type": "display_data"
    },
    {
     "data": {
      "text/plain": "  0%|          | 0/300 [00:00<?, ?it/s]",
      "application/vnd.jupyter.widget-view+json": {
       "version_major": 2,
       "version_minor": 0,
       "model_id": "074a65e6e32f467eac37c3515b3a97b5"
      }
     },
     "metadata": {},
     "output_type": "display_data"
    },
    {
     "data": {
      "text/plain": "  0%|          | 0/300 [00:00<?, ?it/s]",
      "application/vnd.jupyter.widget-view+json": {
       "version_major": 2,
       "version_minor": 0,
       "model_id": "f8bfe1d4aa684fd0a39f4e6085173e7c"
      }
     },
     "metadata": {},
     "output_type": "display_data"
    },
    {
     "data": {
      "text/plain": "  0%|          | 0/300 [00:00<?, ?it/s]",
      "application/vnd.jupyter.widget-view+json": {
       "version_major": 2,
       "version_minor": 0,
       "model_id": "831c8f22742c490c9c511eb4d15159ab"
      }
     },
     "metadata": {},
     "output_type": "display_data"
    },
    {
     "data": {
      "text/plain": "  0%|          | 0/300 [00:00<?, ?it/s]",
      "application/vnd.jupyter.widget-view+json": {
       "version_major": 2,
       "version_minor": 0,
       "model_id": "e907207a20a740709b9ae1361a333020"
      }
     },
     "metadata": {},
     "output_type": "display_data"
    },
    {
     "data": {
      "text/plain": "  0%|          | 0/300 [00:00<?, ?it/s]",
      "application/vnd.jupyter.widget-view+json": {
       "version_major": 2,
       "version_minor": 0,
       "model_id": "c0b0316394f046d8aa8872451703b0f0"
      }
     },
     "metadata": {},
     "output_type": "display_data"
    },
    {
     "data": {
      "text/plain": "  0%|          | 0/300 [00:00<?, ?it/s]",
      "application/vnd.jupyter.widget-view+json": {
       "version_major": 2,
       "version_minor": 0,
       "model_id": "73a79627516647a8a0a3772542bdfbb1"
      }
     },
     "metadata": {},
     "output_type": "display_data"
    },
    {
     "data": {
      "text/plain": "  0%|          | 0/300 [00:00<?, ?it/s]",
      "application/vnd.jupyter.widget-view+json": {
       "version_major": 2,
       "version_minor": 0,
       "model_id": "bbff7aaa631e4f088079072683393212"
      }
     },
     "metadata": {},
     "output_type": "display_data"
    },
    {
     "data": {
      "text/plain": "  0%|          | 0/300 [00:00<?, ?it/s]",
      "application/vnd.jupyter.widget-view+json": {
       "version_major": 2,
       "version_minor": 0,
       "model_id": "715b05d3987143008512f7baf1bb8416"
      }
     },
     "metadata": {},
     "output_type": "display_data"
    },
    {
     "data": {
      "text/plain": "  0%|          | 0/300 [00:00<?, ?it/s]",
      "application/vnd.jupyter.widget-view+json": {
       "version_major": 2,
       "version_minor": 0,
       "model_id": "f849b165c8bc4514a0620aae85924145"
      }
     },
     "metadata": {},
     "output_type": "display_data"
    },
    {
     "data": {
      "text/plain": "  0%|          | 0/300 [00:00<?, ?it/s]",
      "application/vnd.jupyter.widget-view+json": {
       "version_major": 2,
       "version_minor": 0,
       "model_id": "e70dae23227640b486d10431061da991"
      }
     },
     "metadata": {},
     "output_type": "display_data"
    },
    {
     "data": {
      "text/plain": "  0%|          | 0/300 [00:00<?, ?it/s]",
      "application/vnd.jupyter.widget-view+json": {
       "version_major": 2,
       "version_minor": 0,
       "model_id": "75158987b34b419bb0229822edfdf0b3"
      }
     },
     "metadata": {},
     "output_type": "display_data"
    },
    {
     "data": {
      "text/plain": "  0%|          | 0/300 [00:00<?, ?it/s]",
      "application/vnd.jupyter.widget-view+json": {
       "version_major": 2,
       "version_minor": 0,
       "model_id": "c9f078f261d644b49909a2fb68bfc8d3"
      }
     },
     "metadata": {},
     "output_type": "display_data"
    }
   ],
   "source": [
    "steps = list(range(15))\n",
    "generate_data(partial(construct_random_ising_func_random_init, be=backend_noisy), steps, './data/ising_init_from_qasm/train', 300, run_config_n=run_config_noisy)"
   ],
   "metadata": {
    "collapsed": false
   }
  },
  {
   "cell_type": "code",
   "execution_count": 21,
   "outputs": [
    {
     "data": {
      "text/plain": "  0%|          | 0/100 [00:00<?, ?it/s]",
      "application/vnd.jupyter.widget-view+json": {
       "version_major": 2,
       "version_minor": 0,
       "model_id": "1308a7d5d673450dbfa8ef6160d530f2"
      }
     },
     "metadata": {},
     "output_type": "display_data"
    },
    {
     "data": {
      "text/plain": "  0%|          | 0/100 [00:00<?, ?it/s]",
      "application/vnd.jupyter.widget-view+json": {
       "version_major": 2,
       "version_minor": 0,
       "model_id": "72f52071bbdf4a4c948f25b1967458f8"
      }
     },
     "metadata": {},
     "output_type": "display_data"
    },
    {
     "data": {
      "text/plain": "  0%|          | 0/100 [00:00<?, ?it/s]",
      "application/vnd.jupyter.widget-view+json": {
       "version_major": 2,
       "version_minor": 0,
       "model_id": "80c4125530c24a5aa8ce3fb342935cbf"
      }
     },
     "metadata": {},
     "output_type": "display_data"
    },
    {
     "data": {
      "text/plain": "  0%|          | 0/100 [00:00<?, ?it/s]",
      "application/vnd.jupyter.widget-view+json": {
       "version_major": 2,
       "version_minor": 0,
       "model_id": "84ff94c351014137bdb9ff3128ff7d3e"
      }
     },
     "metadata": {},
     "output_type": "display_data"
    },
    {
     "data": {
      "text/plain": "  0%|          | 0/100 [00:00<?, ?it/s]",
      "application/vnd.jupyter.widget-view+json": {
       "version_major": 2,
       "version_minor": 0,
       "model_id": "6e6186a164dc40ad84a800fe71c4185c"
      }
     },
     "metadata": {},
     "output_type": "display_data"
    },
    {
     "data": {
      "text/plain": "  0%|          | 0/100 [00:00<?, ?it/s]",
      "application/vnd.jupyter.widget-view+json": {
       "version_major": 2,
       "version_minor": 0,
       "model_id": "b2c37408dacf476ba7dba2d28291c7ec"
      }
     },
     "metadata": {},
     "output_type": "display_data"
    },
    {
     "data": {
      "text/plain": "  0%|          | 0/100 [00:00<?, ?it/s]",
      "application/vnd.jupyter.widget-view+json": {
       "version_major": 2,
       "version_minor": 0,
       "model_id": "cd3a0a227af749f7991b86562e39439c"
      }
     },
     "metadata": {},
     "output_type": "display_data"
    },
    {
     "data": {
      "text/plain": "  0%|          | 0/100 [00:00<?, ?it/s]",
      "application/vnd.jupyter.widget-view+json": {
       "version_major": 2,
       "version_minor": 0,
       "model_id": "bc664aeff9ba435fb810345a9d6925c3"
      }
     },
     "metadata": {},
     "output_type": "display_data"
    },
    {
     "data": {
      "text/plain": "  0%|          | 0/100 [00:00<?, ?it/s]",
      "application/vnd.jupyter.widget-view+json": {
       "version_major": 2,
       "version_minor": 0,
       "model_id": "8a47d94d110d4025bdbc74ef8f304eec"
      }
     },
     "metadata": {},
     "output_type": "display_data"
    },
    {
     "data": {
      "text/plain": "  0%|          | 0/100 [00:00<?, ?it/s]",
      "application/vnd.jupyter.widget-view+json": {
       "version_major": 2,
       "version_minor": 0,
       "model_id": "bb402d8f1f614e9cae30d31ac22c9ee6"
      }
     },
     "metadata": {},
     "output_type": "display_data"
    },
    {
     "data": {
      "text/plain": "  0%|          | 0/100 [00:00<?, ?it/s]",
      "application/vnd.jupyter.widget-view+json": {
       "version_major": 2,
       "version_minor": 0,
       "model_id": "b1972a75f8124efb899648ddf1fc5b01"
      }
     },
     "metadata": {},
     "output_type": "display_data"
    },
    {
     "data": {
      "text/plain": "  0%|          | 0/100 [00:00<?, ?it/s]",
      "application/vnd.jupyter.widget-view+json": {
       "version_major": 2,
       "version_minor": 0,
       "model_id": "018035edeaf24e7280820ae1a1e97fbe"
      }
     },
     "metadata": {},
     "output_type": "display_data"
    },
    {
     "data": {
      "text/plain": "  0%|          | 0/100 [00:00<?, ?it/s]",
      "application/vnd.jupyter.widget-view+json": {
       "version_major": 2,
       "version_minor": 0,
       "model_id": "882c46eaf4aa4c88bc8af3ae0550496d"
      }
     },
     "metadata": {},
     "output_type": "display_data"
    },
    {
     "data": {
      "text/plain": "  0%|          | 0/100 [00:00<?, ?it/s]",
      "application/vnd.jupyter.widget-view+json": {
       "version_major": 2,
       "version_minor": 0,
       "model_id": "8e8ad0b103164bb1825d8ba80e87512b"
      }
     },
     "metadata": {},
     "output_type": "display_data"
    },
    {
     "data": {
      "text/plain": "  0%|          | 0/100 [00:00<?, ?it/s]",
      "application/vnd.jupyter.widget-view+json": {
       "version_major": 2,
       "version_minor": 0,
       "model_id": "e70d6b8b29c84a35a70176a00f73d3dc"
      }
     },
     "metadata": {},
     "output_type": "display_data"
    }
   ],
   "source": [
    "steps = list(range(15))\n",
    "generate_data(partial(construct_random_ising_func_random_init, be=backend_noisy), steps, './data/ising_init_from_qasm/val', 100, run_config_n=run_config_noisy)"
   ],
   "metadata": {
    "collapsed": false
   }
  },
  {
   "cell_type": "markdown",
   "source": [],
   "metadata": {
    "collapsed": false
   }
  },
  {
   "cell_type": "markdown",
   "source": [
    "# Generate Random Ising"
   ],
   "metadata": {
    "collapsed": false
   }
  },
  {
   "cell_type": "code",
   "execution_count": 20,
   "outputs": [],
   "source": [
    "def construct_ising_circuit(J, basis, num_steps):\n",
    "    cls = IsingModel\n",
    "    ops = cls.Options()\n",
    "    ops.config_4q_paper()\n",
    "    ops.update({'J': J})\n",
    "    qc = cls.make_circs_sweep(ops, num_steps, basis)\n",
    "    return qc"
   ],
   "metadata": {
    "collapsed": false
   }
  },
  {
   "cell_type": "code",
   "execution_count": 35,
   "outputs": [],
   "source": [
    "from qiskit.quantum_info import Pauli\n",
    "def state_preparation_block(basis):\n",
    "    sp_circ_block = QuantumCircuit(4)\n",
    "    for i, p in enumerate(basis[::-1]):\n",
    "        if p == 'Z':\n",
    "            pass\n",
    "        elif p == 'X':\n",
    "            sp_circ_block.h(i)\n",
    "        elif p == 'Y':\n",
    "            sp_circ_block.h(i)\n",
    "            sp_circ_block.s(i)\n",
    "    return sp_circ_block"
   ],
   "metadata": {
    "collapsed": false
   }
  },
  {
   "cell_type": "code",
   "execution_count": 60,
   "outputs": [],
   "source": [
    "h = 1\n",
    "def construct_random_ising_func(num_steps, be, state_prep=None):\n",
    "    J = np.random.uniform(0, h, size=1)[0]\n",
    "    basis = np.random.choice(list('XYZ'))\n",
    "    if state_prep is not None:\n",
    "        np.random.seed(0)\n",
    "        num_qubits = 4\n",
    "        qc = QuantumCircuit(num_qubits)\n",
    "        qc.initialize(random_statevector(2**num_qubits).data, qc.qubits)\n",
    "        # state_prep_block = state_preparation_block(state_prep)\n",
    "    random_ising = qc.compose(construct_ising_circuit(J, basis, num_steps), list(range(4)))\n",
    "    trans_circuit = transpile(random_ising, backend=be, optimization_level=3)\n",
    "    return trans_circuit"
   ],
   "metadata": {
    "collapsed": false
   }
  },
  {
   "cell_type": "code",
   "execution_count": 61,
   "outputs": [
    {
     "data": {
      "text/plain": "<Figure size 8546.84x385.28 with 1 Axes>",
      "image/png": "[encoded data removed]"
     },
     "execution_count": 61,
     "metadata": {},
     "output_type": "execute_result"
    }
   ],
   "source": [
    "construct_random_ising_func(2, backend_noisy, state_prep='ZXXZ').draw('mpl', fold=-1)"
   ],
   "metadata": {
    "collapsed": false
   }
  },
  {
   "cell_type": "code",
   "execution_count": null,
   "outputs": [],
   "source": [
    "steps = list(range(10))\n",
    "generate_data(partial(construct_random_ising_func, be=backend_noisy, state_prep='ZXXZ'), steps, './data/ising_init_random_state/train', 500, run_config_n=run_config_noisy)"
   ],
   "metadata": {
    "collapsed": false,
    "pycharm": {
     "is_executing": true
    }
   }
  },
  {
   "cell_type": "code",
   "execution_count": 46,
   "outputs": [
    {
     "data": {
      "text/plain": "  0%|          | 0/200 [00:00<?, ?it/s]",
      "application/vnd.jupyter.widget-view+json": {
       "version_major": 2,
       "version_minor": 0,
       "model_id": "2ecb5b67dd514617945d239da0615260"
      }
     },
     "metadata": {},
     "output_type": "display_data"
    },
    {
     "data": {
      "text/plain": "  0%|          | 0/200 [00:00<?, ?it/s]",
      "application/vnd.jupyter.widget-view+json": {
       "version_major": 2,
       "version_minor": 0,
       "model_id": "9310b84f242a426faf7201616502345b"
      }
     },
     "metadata": {},
     "output_type": "display_data"
    },
    {
     "data": {
      "text/plain": "  0%|          | 0/200 [00:00<?, ?it/s]",
      "application/vnd.jupyter.widget-view+json": {
       "version_major": 2,
       "version_minor": 0,
       "model_id": "e9cb8456e68c48acae00ba4ed5e50c9f"
      }
     },
     "metadata": {},
     "output_type": "display_data"
    },
    {
     "data": {
      "text/plain": "  0%|          | 0/200 [00:00<?, ?it/s]",
      "application/vnd.jupyter.widget-view+json": {
       "version_major": 2,
       "version_minor": 0,
       "model_id": "61d2e3ab507746ba8a4bcbfd2631874c"
      }
     },
     "metadata": {},
     "output_type": "display_data"
    },
    {
     "data": {
      "text/plain": "  0%|          | 0/200 [00:00<?, ?it/s]",
      "application/vnd.jupyter.widget-view+json": {
       "version_major": 2,
       "version_minor": 0,
       "model_id": "7964044f54674a3498c66fe2662716cf"
      }
     },
     "metadata": {},
     "output_type": "display_data"
    },
    {
     "data": {
      "text/plain": "  0%|          | 0/200 [00:00<?, ?it/s]",
      "application/vnd.jupyter.widget-view+json": {
       "version_major": 2,
       "version_minor": 0,
       "model_id": "190125eeedd14f87a7eee9043698972f"
      }
     },
     "metadata": {},
     "output_type": "display_data"
    },
    {
     "data": {
      "text/plain": "  0%|          | 0/200 [00:00<?, ?it/s]",
      "application/vnd.jupyter.widget-view+json": {
       "version_major": 2,
       "version_minor": 0,
       "model_id": "3401fd3017824e3ba976fb1eae02b05a"
      }
     },
     "metadata": {},
     "output_type": "display_data"
    },
    {
     "data": {
      "text/plain": "  0%|          | 0/200 [00:00<?, ?it/s]",
      "application/vnd.jupyter.widget-view+json": {
       "version_major": 2,
       "version_minor": 0,
       "model_id": "fdb37866345f46088a8a4c4cfac2d396"
      }
     },
     "metadata": {},
     "output_type": "display_data"
    },
    {
     "data": {
      "text/plain": "  0%|          | 0/200 [00:00<?, ?it/s]",
      "application/vnd.jupyter.widget-view+json": {
       "version_major": 2,
       "version_minor": 0,
       "model_id": "37d1df2fedb041f48cb5a605430b75ac"
      }
     },
     "metadata": {},
     "output_type": "display_data"
    },
    {
     "data": {
      "text/plain": "  0%|          | 0/200 [00:00<?, ?it/s]",
      "application/vnd.jupyter.widget-view+json": {
       "version_major": 2,
       "version_minor": 0,
       "model_id": "4dfb0d7bb1e74aa38ee9747faeeacb8b"
      }
     },
     "metadata": {},
     "output_type": "display_data"
    }
   ],
   "source": [
    "steps = list(range(10))\n",
    "generate_data(partial(construct_random_ising_func, be=backend_noisy, state_prep='ZXXZ'), steps, './data/ising_init_random_state/val', 200, run_config_n=run_config_noisy)"
   ],
   "metadata": {
    "collapsed": false
   }
  },
  {
   "cell_type": "code",
   "execution_count": null,
   "outputs": [],
   "source": [],
   "metadata": {
    "collapsed": false
   }
  }
 ],
 "metadata": {
  "kernelspec": {
   "display_name": "Python 3",
   "language": "python",
   "name": "python3"
  },
  "language_info": {
   "codemirror_mode": {
    "name": "ipython",
    "version": 2
   },
   "file_extension": ".py",
   "mimetype": "text/x-python",
   "name": "python",
   "nbconvert_exporter": "python",
   "pygments_lexer": "ipython2",
   "version": "2.7.6"
  }
 },
 "nbformat": 4,
 "nbformat_minor": 0
}
