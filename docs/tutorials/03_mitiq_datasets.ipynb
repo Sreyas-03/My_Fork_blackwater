{
 "cells": [
  {
   "cell_type": "code",
   "execution_count": 20,
   "id": "f50a346c-8672-450e-b4e0-e510eec0d59c",
   "metadata": {},
   "outputs": [
    {
     "name": "stderr",
     "output_type": "stream",
     "text": [
      "/Users/iskandarsitdikov/opt/anaconda3/envs/blackwater/lib/python3.7/site-packages/ipykernel_launcher.py:18: DeprecationWarning: The qiskit.ignis package is deprecated and has been supersceded by the qiskit-experiments project. Refer to the migration guide: https://github.com/Qiskit/qiskit-ignis#migration-guide on how to migrate to the new project.\n"
     ]
    }
   ],
   "source": [
    "import os\n",
    "import functools\n",
    "import time\n",
    "from typing import Dict, List, Tuple, Union\n",
    "\n",
    "# Plotting imports.\n",
    "import matplotlib.pyplot as plt\n",
    "plt.rcParams.update({\"font.family\": \"serif\", \"font.size\": 15})\n",
    "%matplotlib inline\n",
    "\n",
    "import networkx as nx\n",
    "import numpy as np\n",
    "import pandas as pd\n",
    "\n",
    "# Qiskit imports.\n",
    "import qiskit\n",
    "from qiskit_experiments.library import StandardRB\n",
    "import qiskit.ignis.verification.randomized_benchmarking as rb\n",
    "\n",
    "from qiskit.transpiler.passes import RemoveBarriers, RemoveFinalMeasurements\n",
    "from qiskit.circuit import Gate\n",
    "\n",
    "# Mitiq imports.\n",
    "from mitiq.interface import convert_to_mitiq, convert_from_mitiq\n",
    "from mitiq import benchmarks, pec, zne\n",
    "\n",
    "import cirq"
   ]
  },
  {
   "cell_type": "code",
   "execution_count": 2,
   "id": "7b58a715-2f98-4459-9a56-973ba19fea0f",
   "metadata": {},
   "outputs": [],
   "source": [
    "# Option to use a noisy simulator instead of hardware backend.\n",
    "use_noisy_simulator: bool = True  \n",
    "\n",
    "# Minimum depth circuit to use.\n",
    "min_depth: int = 1          \n",
    "# Random seed for circuit generation.\n",
    "seed: int = 1               \n",
    "\n",
    "# Minimum noise scale factor.\n",
    "min_scale_factor: int = 1   \n",
    "# Maximum noise scale factor.\n",
    "max_scale_factor: int = 3   \n",
    "\n",
    "# Step between noise scale factors.\n",
    "step_scale_factor: int = 1  \n",
    "\n",
    "# Total number of shots to use.\n",
    "# For PEC, the shots per circuit is shots / num_samples.\n",
    "# For ZNE, the shots per circuit is shots / len(scale_factors).\n",
    "shots: int = 10_000     \n",
    "# Number of samples (circuits) to use in PEC.    \n",
    "num_samples: int = 100  \n",
    "\n",
    "# Display verbose output.    \n",
    "verbose: bool = True  \n",
    "# Give queue updates every this many seconds when running on hardware device.    \n",
    "verbose_update_time: int = 30  \n",
    "\n",
    "# Save data (cnot_counts, oneq_counts, true_values, noisy_values, zne_values, etc.).\n",
    "save_data: bool = True "
   ]
  },
  {
   "cell_type": "code",
   "execution_count": 3,
   "id": "baf0d407-3565-4e24-9165-eff2f75d185b",
   "metadata": {},
   "outputs": [
    {
     "name": "stdout",
     "output_type": "stream",
     "text": [
      "Qubit indeces: [0, 1, 2]\n",
      "RB pattern: [[0, 1], [2]]\n"
     ]
    }
   ],
   "source": [
    "# Benchmark circuit type. Supported types are \"rb\" and \"mirror\".\n",
    "circuit_type: str = \"rb\"  \n",
    "\n",
    "# Qubits to use on the experiment. \n",
    "num_qubits = 3\n",
    "qubits = [j for j in range(num_qubits)]\n",
    "\n",
    "# Split qubits into 2-qubit pairs (assuming a chain connectivity). \n",
    "rb_pattern = [[qa, qb] for qa, qb in zip(qubits[0:-1:2], qubits[1::2])]\n",
    "if len(qubits) % 2 == 1:\n",
    "    # For an odd number of qubits, append final individual qubit to the RB pattern.\n",
    "    rb_pattern.append([qubits[-1]])\n",
    "print(\"Qubit indeces:\", qubits)\n",
    "print(\"RB pattern:\", rb_pattern)\n",
    "    \n",
    "    \n",
    "# Maximum depth circuit to use.    \n",
    "max_depth: int = 20\n",
    "\n",
    "# Step to create a list of depths to run at.\n",
    "step_depth: int = 2\n",
    "        \n",
    "# Average results over this many trials (circuit instances) at each depth.\n",
    "trials: int = 4 "
   ]
  },
  {
   "cell_type": "code",
   "execution_count": 4,
   "id": "0f59f0fb-b5db-4ce8-a825-346ff467fbf1",
   "metadata": {},
   "outputs": [
    {
     "name": "stdout",
     "output_type": "stream",
     "text": [
      "IBM physical qubits: [0, 1, 3]\n"
     ]
    }
   ],
   "source": [
    "ibm_lima_ordering = [0, 1, 3, 4, 2]\n",
    "    \n",
    "if len(qubits) <= 5:\n",
    "    # Assume ibmq-lima device. Take n adjacent physical qubits.\n",
    "    physical_ibm_qubits = ibm_lima_ordering[:len(qubits)] \n",
    "elif len(qubits) <= len(ibm_kolkata_ordering):\n",
    "    # Assume ibmq-kolkata device. Take n adjacent physical qubits.\n",
    "    physical_ibm_qubits = ibm_kolkata_ordering[:len(qubits)]  \n",
    "else:\n",
    "    raise ValueError(f\"Number of qubits {num_qubits} too large.\")\n",
    "\n",
    "print(\"IBM physical qubits:\", physical_ibm_qubits)"
   ]
  },
  {
   "cell_type": "code",
   "execution_count": 5,
   "id": "5592a964-2d3d-4fdb-83e1-bd70eb2566ae",
   "metadata": {},
   "outputs": [],
   "source": [
    "def make_rotation_barrier(circuit, delta):\n",
    "    qubits = list(circuit.all_qubits())\n",
    "    delta_x = np.random.choice([1.0, -1.0]) * delta\n",
    "    delta_y = np.random.choice([1.0, -1.0]) * delta\n",
    "    delta_z = np.random.choice([1.0, -1.0]) * delta\n",
    "    barrier = cirq.Circuit()\n",
    "    for q in qubits:\n",
    "        barrier.append(cirq.rx(delta_x)(q))\n",
    "        barrier.append(cirq.ry(delta_y)(q))\n",
    "        barrier.append(cirq.rz(delta_z)(q))\n",
    "    return barrier\n",
    "\n",
    "def fold_with_rotation_barriers(circuit, scale_factor, delta):\n",
    "\n",
    "    base_circuit, circ_type = convert_to_mitiq(circuit)\n",
    "\n",
    "    ####### Adapted from Mitiq ############\n",
    "    folded = base_circuit.copy()\n",
    "    # Determine the number of global folds and the final fractional scale\n",
    "    num_global_folds, fraction_scale = divmod(scale_factor - 1, 2)\n",
    "    # Do the global folds\n",
    "    for _ in range(int(num_global_folds)):\n",
    "        folded += make_rotation_barrier(base_circuit, delta)\n",
    "        folded += cirq.Circuit(cirq.inverse(base_circuit))\n",
    "        folded += make_rotation_barrier(base_circuit, delta)\n",
    "        folded += cirq.Circuit(base_circuit)\n",
    "\n",
    "    # Fold remaining gates until the scale is reached\n",
    "    operations = list(base_circuit.all_operations())\n",
    "    num_to_fold = int(round(fraction_scale * len(operations) / 2))\n",
    "\n",
    "    if num_to_fold > 0:\n",
    "\n",
    "        # Create the inverse of the final partial circuit\n",
    "        inverse_partial = cirq.Circuit()\n",
    "        num_partial = 0\n",
    "        for moment in base_circuit[::-1]:\n",
    "            new_moment = cirq.Moment()\n",
    "            for op in moment.operations[::-1]:\n",
    "                new_moment = new_moment.with_operation(cirq.inverse(op))\n",
    "                num_partial += 1\n",
    "                if num_partial == num_to_fold:\n",
    "                    break\n",
    "            inverse_partial.append(new_moment)\n",
    "            if num_partial == num_to_fold:\n",
    "                break\n",
    "        # Append partially folded circuit\n",
    "        folded += make_rotation_barrier(base_circuit, delta)\n",
    "        folded += inverse_partial\n",
    "        folded += make_rotation_barrier(base_circuit, delta)\n",
    "        folded += cirq.inverse(inverse_partial)\n",
    "    #########\n",
    "    \n",
    "    folded_converted = convert_from_mitiq(folded, circ_type)\n",
    "    return folded_converted"
   ]
  },
  {
   "cell_type": "code",
   "execution_count": 6,
   "id": "9362c0ee-53a1-4191-ac7c-942da7221ad2",
   "metadata": {},
   "outputs": [
    {
     "name": "stdout",
     "output_type": "stream",
     "text": [
      "Depths: [1, 3, 5, 7, 9, 11, 13, 15, 17, 19]\n",
      "Scale factors: (1, 2, 3)\n"
     ]
    }
   ],
   "source": [
    "# Error mitigation type. Supported typed are \"zne\" and \"pec\".\n",
    "mitigation_type: str = \"zne\"\n",
    "\n",
    "# Random angles for rotation barriers    \n",
    "delta = 0.0001\n",
    "\n",
    "# Noise scaling method.\n",
    "fold_method = zne.scaling.fold_global\n",
    "\n",
    "depths = list(range(min_depth, max_depth + 1, step_depth))\n",
    "\n",
    "scale_factors = tuple(range(min_scale_factor, max_scale_factor + 1, step_scale_factor))\n",
    "\n",
    "print(f\"Depths: {depths}\")\n",
    "print(f\"Scale factors: {scale_factors}\")"
   ]
  },
  {
   "cell_type": "code",
   "execution_count": 7,
   "id": "2b7e0fa9-252d-447d-a0c5-18f5b48abecb",
   "metadata": {},
   "outputs": [
    {
     "name": "stdout",
     "output_type": "stream",
     "text": [
      "Computer connectivity (used only for mirror circuits): [(0, 1), (1, 0), (1, 2), (2, 1)]\n",
      "Noisy backend fake_lima\n",
      "Ideal backend aer_simulator\n"
     ]
    }
   ],
   "source": [
    "computer = nx.Graph()\n",
    "\n",
    "# Assume chain-like connectivity\n",
    "computer.add_edges_from([(qa, qb) for qa, qb in zip(qubits[:-1], qubits[1:])])\n",
    "\n",
    "# Add reversed edges to computer graph.\n",
    "# This is important to represent CNOT gates with target and control reversed.\n",
    "computer = nx.to_directed(computer)\n",
    "\n",
    "# Get the backend to run on and a simulated backend for comparing results.\n",
    "if use_noisy_simulator:\n",
    "    from qiskit.providers.fake_provider import FakeLima, FakeKolkataV2\n",
    "        \n",
    "    if len(qubits) <= 5:\n",
    "        noisy_backend = FakeLima()\n",
    "    else:\n",
    "        noisy_backend = FakeKolkataV2()\n",
    "\n",
    "# Specify both the hardware device and device architecture (computer):\n",
    "else:\n",
    "\n",
    "    provider = qiskit.IBMQ.load_account()\n",
    "    noisy_backend = provider.get_backend(backend)\n",
    "    print(f\"View {backend} job status at https://quantum-computing.ibm.com/jobs\")        \n",
    "\n",
    "# Check if RB-pattern is consistent with device topology.\n",
    "for edge in rb_pattern:\n",
    "    if len(edge) == 2:\n",
    "        if edge not in computer.edges:\n",
    "            raise ValueError(\"The option rb_pattern is not consistent with the device topology.\")\n",
    "        \n",
    "# Set ideal backends for simulator-selected options.\n",
    "ideal_backend = qiskit.Aer.get_backend(\"aer_simulator\")\n",
    "    \n",
    "\n",
    "print(\"Computer connectivity (used only for mirror circuits):\", computer.edges)\n",
    "print(\"Noisy backend\", noisy_backend)\n",
    "print(\"Ideal backend\", ideal_backend)"
   ]
  },
  {
   "cell_type": "code",
   "execution_count": 12,
   "id": "ff24970a-fe4b-42d1-ae88-f181f338b125",
   "metadata": {},
   "outputs": [],
   "source": [
    "def named_qubit_to_line_qubit(named_qubit: str) -> cirq.LineQubit:\n",
    "    \"\"\"Extract qubit number assuming \"_\" is used as a word separator.\"\"\"\n",
    "    digits = [int(s) for s in named_qubit.name.split(\"_\") if s.isdigit()]\n",
    "    if len(digits) == 1:\n",
    "        return cirq.LineQubit(digits[0])\n",
    "    else:\n",
    "        raise RuntimeError(\"Failed to identify qubit number.\")"
   ]
  },
  {
   "cell_type": "code",
   "execution_count": null,
   "id": "512636c0-4b6d-4dfc-ad18-6d675d317444",
   "metadata": {},
   "outputs": [],
   "source": []
  },
  {
   "cell_type": "code",
   "execution_count": 21,
   "id": "aeeba611-09da-4b11-a2b3-858956d41ee1",
   "metadata": {},
   "outputs": [],
   "source": [
    "def get_circuit_rb(depth: int, seed: int) -> Union[Tuple[cirq.Circuit, str], Tuple[qiskit.QuantumCircuit, str]]:\n",
    "    circuit = rb.randomized_benchmarking_seq(\n",
    "            length_vector=[depth], \n",
    "            rb_pattern=rb_pattern,\n",
    "            group_gates=\"0\", \n",
    "            rand_seed=seed,\n",
    "    )[0][0][0]\n",
    "\n",
    "        # Remove barriers and measurements.\n",
    "    circuit = RemoveFinalMeasurements()(RemoveBarriers()(circuit))\n",
    "\n",
    "    return convert_from_mitiq(convert_to_mitiq(circuit)[0], \"qiskit\"), \"0\" * len(qubits)"
   ]
  },
  {
   "cell_type": "code",
   "execution_count": 14,
   "id": "0455f75f-8363-4cc0-bcef-e34aba06c013",
   "metadata": {},
   "outputs": [],
   "source": [
    "def get_circuit_mirror(depth: int, seed: int) -> Union[Tuple[cirq.Circuit, str], Tuple[qiskit.QuantumCircuit, str]]:\n",
    "    return_type = \"qiskit\"\n",
    "    circuit, correct_bitstring = benchmarks.generate_mirror_circuit(\n",
    "            nlayers=depth,\n",
    "            two_qubit_gate_prob=1.0,\n",
    "            connectivity_graph=computer,\n",
    "            two_qubit_gate_name=\"CNOT\",\n",
    "            seed=seed,\n",
    "            return_type=return_type,\n",
    "    )        \n",
    "        \n",
    "    return circuit, \"\".join(map(str, correct_bitstring[::-1])) "
   ]
  },
  {
   "cell_type": "code",
   "execution_count": 15,
   "id": "53fb7ea3-2050-4844-94ae-e1e96914e951",
   "metadata": {},
   "outputs": [],
   "source": [
    "def get_cnot_error(edge: Tuple[int, int] = None) -> float:\n",
    "    # If we use a simulator, we can't get any error probability from any specific \n",
    "    # device so we hardcode a small \"reasonable\" CNOT error probability.\n",
    "    cnot_error_prob = noisy_backend.properties().gate_error(\"cx\", qubits=edge)\n",
    "\n",
    "    print(f\"cnot_error_prob for edge {edge}: {cnot_error_prob}\")\n",
    "    return cnot_error_prob\n",
    "\n",
    "def get_cnot_representation(edge: Tuple[int, int]) -> pec.OperationRepresentation:\n",
    "    cnot_circuit = cirq.Circuit(\n",
    "            cirq.CNOT(\n",
    "                cirq.NamedQubit(f\"q_{str(edge[0])}\"),\n",
    "                cirq.NamedQubit(f\"q_{str(edge[1])}\")\n",
    "            )\n",
    "    )\n",
    "            \n",
    "    rep_exact_prob = 1 - np.sqrt(1 - get_cnot_error(edge))\n",
    "    return pec.represent_operation_with_local_depolarizing_noise(\n",
    "        cnot_circuit, \n",
    "        noise_level=rep_exact_prob,\n",
    "    )\n",
    "\n",
    "\n",
    "def get_representations(computer: nx.Graph) -> List[pec.OperationRepresentation]:\n",
    "    return [get_cnot_representation(edge) for edge in computer.edges]"
   ]
  },
  {
   "cell_type": "code",
   "execution_count": 16,
   "id": "8e2dc4b0-f8ff-48d6-a2be-145b9e37f9bc",
   "metadata": {},
   "outputs": [],
   "source": [
    "def get_num_cnot_count(circuit: Union[cirq.Circuit, qiskit.QuantumCircuit]) -> int:\n",
    "    \"\"\"Determine number of cnot gates in a given `Circuit` object.\"\"\"\n",
    "    return circuit.count_ops().get(\"cx\")\n",
    "\n",
    "def get_avg_cnot_count(circuits: Union[List[cirq.Circuit], List[qiskit.QuantumCircuit]]) -> float:\n",
    "    \"\"\"Determine average number of cnot gates present in \n",
    "    list of either `Circuit` or `QuantumCircuit` objects.\"\"\"    \n",
    "    \n",
    "    return np.average([c.count_ops().get(\"cx\") for c in circuits])\n",
    "    \n",
    "\n",
    "def get_oneq_count(circuit: Union[cirq.Circuit, qiskit.QuantumCircuit]) -> int:\n",
    "    return len(circuit) - get_num_cnot_count(circuit)"
   ]
  },
  {
   "cell_type": "code",
   "execution_count": null,
   "id": "9dc88ba4-b8d7-4f2f-9933-8adfadfaa999",
   "metadata": {},
   "outputs": [],
   "source": []
  },
  {
   "cell_type": "code",
   "execution_count": null,
   "id": "837ffb48-5ef2-41b8-9cde-d4a74f54696a",
   "metadata": {},
   "outputs": [],
   "source": []
  },
  {
   "cell_type": "code",
   "execution_count": null,
   "id": "30faffc3-a268-4838-977d-aa4a31168675",
   "metadata": {},
   "outputs": [],
   "source": []
  },
  {
   "cell_type": "code",
   "execution_count": null,
   "id": "649cb53f-bf4f-45a1-b48f-589a7a0d5bb9",
   "metadata": {},
   "outputs": [],
   "source": []
  },
  {
   "cell_type": "markdown",
   "id": "f72b6fbc-3131-4876-bc44-bda4ddc33033",
   "metadata": {},
   "source": [
    "### dataset generation"
   ]
  },
  {
   "cell_type": "code",
   "execution_count": 109,
   "id": "aa33727b-ebf7-4e56-affa-2bf2d7a9b2be",
   "metadata": {},
   "outputs": [],
   "source": [
    "import json\n",
    "\n",
    "from blackwater.data.generators.exp_val import ExpValueEntry\n",
    "from blackwater.data.utils import (\n",
    "    circuit_to_graph_data_json,\n",
    "    generate_random_pauli_sum_op,\n",
    "    get_backend_properties_v1,\n",
    "    create_estimator_meas_data,\n",
    "    encode_pauli_sum_op,\n",
    ")\n",
    "\n",
    "from tqdm.notebook import tqdm_notebook"
   ]
  },
  {
   "cell_type": "code",
   "execution_count": 110,
   "id": "33298d42-2e91-4cbc-9bb4-fe12ed83f7f5",
   "metadata": {},
   "outputs": [],
   "source": [
    "properties = get_backend_properties_v1(noisy_backend)\n"
   ]
  },
  {
   "cell_type": "code",
   "execution_count": null,
   "id": "5d6dd867-9804-4af1-ad48-3d59f082428f",
   "metadata": {},
   "outputs": [],
   "source": []
  },
  {
   "cell_type": "code",
   "execution_count": 111,
   "id": "5f27de2d-6d99-46cf-b090-b7d3079af003",
   "metadata": {},
   "outputs": [
    {
     "data": {
      "application/vnd.jupyter.widget-view+json": {
       "model_id": "fa3170dc7bcc44ce973b574c1fa31cfb",
       "version_major": 2,
       "version_minor": 0
      },
      "text/plain": [
       "  0%|          | 0/20 [00:00<?, ?it/s]"
      ]
     },
     "metadata": {},
     "output_type": "display_data"
    },
    {
     "ename": "KeyboardInterrupt",
     "evalue": "",
     "output_type": "error",
     "traceback": [
      "\u001b[0;31m---------------------------------------------------------------------------\u001b[0m",
      "\u001b[0;31mKeyboardInterrupt\u001b[0m                         Traceback (most recent call last)",
      "\u001b[0;32m/var/folders/lf/7ql8x14151n9vcdfkb3qj0480000gn/T/ipykernel_43224/1467919187.py\u001b[0m in \u001b[0;36m<module>\u001b[0;34m\u001b[0m\n\u001b[1;32m      8\u001b[0m             \u001b[0mlocal_seed\u001b[0m \u001b[0;34m=\u001b[0m \u001b[0;36m10\u001b[0m\u001b[0;34m**\u001b[0m\u001b[0;36m8\u001b[0m \u001b[0;34m*\u001b[0m \u001b[0mr\u001b[0m \u001b[0;34m+\u001b[0m \u001b[0;36m10\u001b[0m\u001b[0;34m**\u001b[0m\u001b[0;36m6\u001b[0m \u001b[0;34m*\u001b[0m \u001b[0mdepth\u001b[0m \u001b[0;34m+\u001b[0m \u001b[0;36m10\u001b[0m\u001b[0;34m**\u001b[0m\u001b[0;36m3\u001b[0m \u001b[0;34m*\u001b[0m \u001b[0mseed\u001b[0m \u001b[0;34m+\u001b[0m \u001b[0mtrial\u001b[0m\u001b[0;34m\u001b[0m\u001b[0;34m\u001b[0m\u001b[0m\n\u001b[1;32m      9\u001b[0m \u001b[0;34m\u001b[0m\u001b[0m\n\u001b[0;32m---> 10\u001b[0;31m             \u001b[0mcircuit\u001b[0m\u001b[0;34m,\u001b[0m \u001b[0mcorrect_bitstring\u001b[0m \u001b[0;34m=\u001b[0m \u001b[0mget_circuit_mirror\u001b[0m\u001b[0;34m(\u001b[0m\u001b[0mdepth\u001b[0m\u001b[0;34m,\u001b[0m \u001b[0mlocal_seed\u001b[0m\u001b[0;34m)\u001b[0m\u001b[0;34m\u001b[0m\u001b[0;34m\u001b[0m\u001b[0m\n\u001b[0m\u001b[1;32m     11\u001b[0m             \u001b[0mcircuit\u001b[0m\u001b[0;34m.\u001b[0m\u001b[0mmeasure_all\u001b[0m\u001b[0;34m(\u001b[0m\u001b[0;34m)\u001b[0m\u001b[0;34m\u001b[0m\u001b[0;34m\u001b[0m\u001b[0m\n\u001b[1;32m     12\u001b[0m \u001b[0;34m\u001b[0m\u001b[0m\n",
      "\u001b[0;32m/var/folders/lf/7ql8x14151n9vcdfkb3qj0480000gn/T/ipykernel_43224/1876474628.py\u001b[0m in \u001b[0;36mget_circuit_mirror\u001b[0;34m(depth, seed)\u001b[0m\n\u001b[1;32m      7\u001b[0m             \u001b[0mtwo_qubit_gate_name\u001b[0m\u001b[0;34m=\u001b[0m\u001b[0;34m\"CNOT\"\u001b[0m\u001b[0;34m,\u001b[0m\u001b[0;34m\u001b[0m\u001b[0;34m\u001b[0m\u001b[0m\n\u001b[1;32m      8\u001b[0m             \u001b[0mseed\u001b[0m\u001b[0;34m=\u001b[0m\u001b[0mseed\u001b[0m\u001b[0;34m,\u001b[0m\u001b[0;34m\u001b[0m\u001b[0;34m\u001b[0m\u001b[0m\n\u001b[0;32m----> 9\u001b[0;31m             \u001b[0mreturn_type\u001b[0m\u001b[0;34m=\u001b[0m\u001b[0mreturn_type\u001b[0m\u001b[0;34m,\u001b[0m\u001b[0;34m\u001b[0m\u001b[0;34m\u001b[0m\u001b[0m\n\u001b[0m\u001b[1;32m     10\u001b[0m     )        \n\u001b[1;32m     11\u001b[0m \u001b[0;34m\u001b[0m\u001b[0m\n",
      "\u001b[0;32m~/opt/anaconda3/envs/blackwater/lib/python3.7/site-packages/mitiq/benchmarks/mirror_circuits.py\u001b[0m in \u001b[0;36mgenerate_mirror_circuit\u001b[0;34m(nlayers, two_qubit_gate_prob, connectivity_graph, two_qubit_gate_name, seed, return_type)\u001b[0m\n\u001b[1;32m    220\u001b[0m \u001b[0;34m\u001b[0m\u001b[0m\n\u001b[1;32m    221\u001b[0m     \u001b[0mreturn_type\u001b[0m \u001b[0;34m=\u001b[0m \u001b[0;34m\"cirq\"\u001b[0m \u001b[0;32mif\u001b[0m \u001b[0;32mnot\u001b[0m \u001b[0mreturn_type\u001b[0m \u001b[0;32melse\u001b[0m \u001b[0mreturn_type\u001b[0m\u001b[0;34m\u001b[0m\u001b[0;34m\u001b[0m\u001b[0m\n\u001b[0;32m--> 222\u001b[0;31m     \u001b[0;32mreturn\u001b[0m \u001b[0mconvert_from_mitiq\u001b[0m\u001b[0;34m(\u001b[0m\u001b[0mcircuit\u001b[0m\u001b[0;34m,\u001b[0m \u001b[0mreturn_type\u001b[0m\u001b[0;34m)\u001b[0m\u001b[0;34m,\u001b[0m \u001b[0mbitstring\u001b[0m\u001b[0;34m\u001b[0m\u001b[0;34m\u001b[0m\u001b[0m\n\u001b[0m",
      "\u001b[0;32m~/opt/anaconda3/envs/blackwater/lib/python3.7/site-packages/mitiq/interface/conversions.py\u001b[0m in \u001b[0;36mconvert_from_mitiq\u001b[0;34m(circuit, conversion_type)\u001b[0m\n\u001b[1;32m    138\u001b[0m \u001b[0;34m\u001b[0m\u001b[0m\n\u001b[1;32m    139\u001b[0m     \u001b[0;32mtry\u001b[0m\u001b[0;34m:\u001b[0m\u001b[0;34m\u001b[0m\u001b[0;34m\u001b[0m\u001b[0m\n\u001b[0;32m--> 140\u001b[0;31m         \u001b[0mconverted_circuit\u001b[0m \u001b[0;34m=\u001b[0m \u001b[0mconversion_function\u001b[0m\u001b[0;34m(\u001b[0m\u001b[0mcircuit\u001b[0m\u001b[0;34m)\u001b[0m\u001b[0;34m\u001b[0m\u001b[0;34m\u001b[0m\u001b[0m\n\u001b[0m\u001b[1;32m    141\u001b[0m     \u001b[0;32mexcept\u001b[0m \u001b[0mException\u001b[0m\u001b[0;34m:\u001b[0m\u001b[0;34m\u001b[0m\u001b[0;34m\u001b[0m\u001b[0m\n\u001b[1;32m    142\u001b[0m         raise CircuitConversionError(\n",
      "\u001b[0;32m~/opt/anaconda3/envs/blackwater/lib/python3.7/site-packages/mitiq/interface/mitiq_qiskit/conversions.py\u001b[0m in \u001b[0;36mto_qiskit\u001b[0;34m(circuit)\u001b[0m\n\u001b[1;32m    287\u001b[0m         \u001b[0mQiskit\u001b[0m\u001b[0;34m.\u001b[0m\u001b[0mQuantumCircuit\u001b[0m \u001b[0mobject\u001b[0m \u001b[0mequivalent\u001b[0m \u001b[0mto\u001b[0m \u001b[0mthe\u001b[0m \u001b[0minput\u001b[0m \u001b[0mMitiq\u001b[0m \u001b[0mcircuit\u001b[0m\u001b[0;34m.\u001b[0m\u001b[0;34m\u001b[0m\u001b[0;34m\u001b[0m\u001b[0m\n\u001b[1;32m    288\u001b[0m     \"\"\"\n\u001b[0;32m--> 289\u001b[0;31m     \u001b[0;32mreturn\u001b[0m \u001b[0mqiskit\u001b[0m\u001b[0;34m.\u001b[0m\u001b[0mQuantumCircuit\u001b[0m\u001b[0;34m.\u001b[0m\u001b[0mfrom_qasm_str\u001b[0m\u001b[0;34m(\u001b[0m\u001b[0mto_qasm\u001b[0m\u001b[0;34m(\u001b[0m\u001b[0mcircuit\u001b[0m\u001b[0;34m)\u001b[0m\u001b[0;34m)\u001b[0m\u001b[0;34m\u001b[0m\u001b[0;34m\u001b[0m\u001b[0m\n\u001b[0m\u001b[1;32m    290\u001b[0m \u001b[0;34m\u001b[0m\u001b[0m\n\u001b[1;32m    291\u001b[0m \u001b[0;34m\u001b[0m\u001b[0m\n",
      "\u001b[0;32m~/opt/anaconda3/envs/blackwater/lib/python3.7/site-packages/qiskit/circuit/quantumcircuit.py\u001b[0m in \u001b[0;36mfrom_qasm_str\u001b[0;34m(qasm_str)\u001b[0m\n\u001b[1;32m   2458\u001b[0m         \"\"\"\n\u001b[1;32m   2459\u001b[0m         \u001b[0mqasm\u001b[0m \u001b[0;34m=\u001b[0m \u001b[0mQasm\u001b[0m\u001b[0;34m(\u001b[0m\u001b[0mdata\u001b[0m\u001b[0;34m=\u001b[0m\u001b[0mqasm_str\u001b[0m\u001b[0;34m)\u001b[0m\u001b[0;34m\u001b[0m\u001b[0;34m\u001b[0m\u001b[0m\n\u001b[0;32m-> 2460\u001b[0;31m         \u001b[0;32mreturn\u001b[0m \u001b[0m_circuit_from_qasm\u001b[0m\u001b[0;34m(\u001b[0m\u001b[0mqasm\u001b[0m\u001b[0;34m)\u001b[0m\u001b[0;34m\u001b[0m\u001b[0;34m\u001b[0m\u001b[0m\n\u001b[0m\u001b[1;32m   2461\u001b[0m \u001b[0;34m\u001b[0m\u001b[0m\n\u001b[1;32m   2462\u001b[0m     \u001b[0;34m@\u001b[0m\u001b[0mproperty\u001b[0m\u001b[0;34m\u001b[0m\u001b[0;34m\u001b[0m\u001b[0m\n",
      "\u001b[0;32m~/opt/anaconda3/envs/blackwater/lib/python3.7/site-packages/qiskit/circuit/quantumcircuit.py\u001b[0m in \u001b[0;36m_circuit_from_qasm\u001b[0;34m(qasm)\u001b[0m\n\u001b[1;32m   4843\u001b[0m     \u001b[0;32mfrom\u001b[0m \u001b[0mqiskit\u001b[0m\u001b[0;34m.\u001b[0m\u001b[0mconverters\u001b[0m \u001b[0;32mimport\u001b[0m \u001b[0mdag_to_circuit\u001b[0m\u001b[0;34m\u001b[0m\u001b[0;34m\u001b[0m\u001b[0m\n\u001b[1;32m   4844\u001b[0m \u001b[0;34m\u001b[0m\u001b[0m\n\u001b[0;32m-> 4845\u001b[0;31m     \u001b[0mast\u001b[0m \u001b[0;34m=\u001b[0m \u001b[0mqasm\u001b[0m\u001b[0;34m.\u001b[0m\u001b[0mparse\u001b[0m\u001b[0;34m(\u001b[0m\u001b[0;34m)\u001b[0m\u001b[0;34m\u001b[0m\u001b[0;34m\u001b[0m\u001b[0m\n\u001b[0m\u001b[1;32m   4846\u001b[0m     \u001b[0mdag\u001b[0m \u001b[0;34m=\u001b[0m \u001b[0mast_to_dag\u001b[0m\u001b[0;34m(\u001b[0m\u001b[0mast\u001b[0m\u001b[0;34m)\u001b[0m\u001b[0;34m\u001b[0m\u001b[0;34m\u001b[0m\u001b[0m\n\u001b[1;32m   4847\u001b[0m     \u001b[0;32mreturn\u001b[0m \u001b[0mdag_to_circuit\u001b[0m\u001b[0;34m(\u001b[0m\u001b[0mdag\u001b[0m\u001b[0;34m)\u001b[0m\u001b[0;34m\u001b[0m\u001b[0;34m\u001b[0m\u001b[0m\n",
      "\u001b[0;32m~/opt/anaconda3/envs/blackwater/lib/python3.7/site-packages/qiskit/qasm/qasm.py\u001b[0m in \u001b[0;36mparse\u001b[0;34m(self)\u001b[0m\n\u001b[1;32m     49\u001b[0m                 \u001b[0mself\u001b[0m\u001b[0;34m.\u001b[0m\u001b[0m_data\u001b[0m \u001b[0;34m=\u001b[0m \u001b[0mifile\u001b[0m\u001b[0;34m.\u001b[0m\u001b[0mread\u001b[0m\u001b[0;34m(\u001b[0m\u001b[0;34m)\u001b[0m\u001b[0;34m\u001b[0m\u001b[0;34m\u001b[0m\u001b[0m\n\u001b[1;32m     50\u001b[0m \u001b[0;34m\u001b[0m\u001b[0m\n\u001b[0;32m---> 51\u001b[0;31m         \u001b[0;32mwith\u001b[0m \u001b[0mQasmParser\u001b[0m\u001b[0;34m(\u001b[0m\u001b[0mself\u001b[0m\u001b[0;34m.\u001b[0m\u001b[0m_filename\u001b[0m\u001b[0;34m)\u001b[0m \u001b[0;32mas\u001b[0m \u001b[0mqasm_p\u001b[0m\u001b[0;34m:\u001b[0m\u001b[0;34m\u001b[0m\u001b[0;34m\u001b[0m\u001b[0m\n\u001b[0m\u001b[1;32m     52\u001b[0m             \u001b[0mqasm_p\u001b[0m\u001b[0;34m.\u001b[0m\u001b[0mparse_debug\u001b[0m\u001b[0;34m(\u001b[0m\u001b[0;32mFalse\u001b[0m\u001b[0;34m)\u001b[0m\u001b[0;34m\u001b[0m\u001b[0;34m\u001b[0m\u001b[0m\n\u001b[1;32m     53\u001b[0m             \u001b[0;32mreturn\u001b[0m \u001b[0mqasm_p\u001b[0m\u001b[0;34m.\u001b[0m\u001b[0mparse\u001b[0m\u001b[0;34m(\u001b[0m\u001b[0mself\u001b[0m\u001b[0;34m.\u001b[0m\u001b[0m_data\u001b[0m\u001b[0;34m)\u001b[0m\u001b[0;34m\u001b[0m\u001b[0;34m\u001b[0m\u001b[0m\n",
      "\u001b[0;32m~/opt/anaconda3/envs/blackwater/lib/python3.7/site-packages/qiskit/qasm/qasmparser.py\u001b[0m in \u001b[0;36m__init__\u001b[0;34m(self, filename)\u001b[0m\n\u001b[1;32m     44\u001b[0m         )\n\u001b[1;32m     45\u001b[0m         \u001b[0;31m# For yacc, also, write_tables = Bool and optimize = Bool\u001b[0m\u001b[0;34m\u001b[0m\u001b[0;34m\u001b[0m\u001b[0;34m\u001b[0m\u001b[0m\n\u001b[0;32m---> 46\u001b[0;31m         \u001b[0mself\u001b[0m\u001b[0;34m.\u001b[0m\u001b[0mparser\u001b[0m \u001b[0;34m=\u001b[0m \u001b[0myacc\u001b[0m\u001b[0;34m.\u001b[0m\u001b[0myacc\u001b[0m\u001b[0;34m(\u001b[0m\u001b[0mmodule\u001b[0m\u001b[0;34m=\u001b[0m\u001b[0mself\u001b[0m\u001b[0;34m,\u001b[0m \u001b[0mdebug\u001b[0m\u001b[0;34m=\u001b[0m\u001b[0;32mFalse\u001b[0m\u001b[0;34m,\u001b[0m \u001b[0moutputdir\u001b[0m\u001b[0;34m=\u001b[0m\u001b[0mself\u001b[0m\u001b[0;34m.\u001b[0m\u001b[0mparse_dir\u001b[0m\u001b[0;34m)\u001b[0m\u001b[0;34m\u001b[0m\u001b[0;34m\u001b[0m\u001b[0m\n\u001b[0m\u001b[1;32m     47\u001b[0m         \u001b[0mself\u001b[0m\u001b[0;34m.\u001b[0m\u001b[0mqasm\u001b[0m \u001b[0;34m=\u001b[0m \u001b[0;32mNone\u001b[0m\u001b[0;34m\u001b[0m\u001b[0;34m\u001b[0m\u001b[0m\n\u001b[1;32m     48\u001b[0m         \u001b[0mself\u001b[0m\u001b[0;34m.\u001b[0m\u001b[0mparse_deb\u001b[0m \u001b[0;34m=\u001b[0m \u001b[0;32mFalse\u001b[0m\u001b[0;34m\u001b[0m\u001b[0;34m\u001b[0m\u001b[0m\n",
      "\u001b[0;32m~/opt/anaconda3/envs/blackwater/lib/python3.7/site-packages/ply/yacc.py\u001b[0m in \u001b[0;36myacc\u001b[0;34m(method, debug, module, tabmodule, start, check_recursion, optimize, write_tables, debugfile, outputdir, debuglog, errorlog, picklefile)\u001b[0m\n\u001b[1;32m   3436\u001b[0m         \u001b[0merrorlog\u001b[0m\u001b[0;34m.\u001b[0m\u001b[0mdebug\u001b[0m\u001b[0;34m(\u001b[0m\u001b[0;34m'Generating %s tables'\u001b[0m\u001b[0;34m,\u001b[0m \u001b[0mmethod\u001b[0m\u001b[0;34m)\u001b[0m\u001b[0;34m\u001b[0m\u001b[0;34m\u001b[0m\u001b[0m\n\u001b[1;32m   3437\u001b[0m \u001b[0;34m\u001b[0m\u001b[0m\n\u001b[0;32m-> 3438\u001b[0;31m     \u001b[0mlr\u001b[0m \u001b[0;34m=\u001b[0m \u001b[0mLRGeneratedTable\u001b[0m\u001b[0;34m(\u001b[0m\u001b[0mgrammar\u001b[0m\u001b[0;34m,\u001b[0m \u001b[0mmethod\u001b[0m\u001b[0;34m,\u001b[0m \u001b[0mdebuglog\u001b[0m\u001b[0;34m)\u001b[0m\u001b[0;34m\u001b[0m\u001b[0;34m\u001b[0m\u001b[0m\n\u001b[0m\u001b[1;32m   3439\u001b[0m \u001b[0;34m\u001b[0m\u001b[0m\n\u001b[1;32m   3440\u001b[0m     \u001b[0;32mif\u001b[0m \u001b[0mdebug\u001b[0m\u001b[0;34m:\u001b[0m\u001b[0;34m\u001b[0m\u001b[0;34m\u001b[0m\u001b[0m\n",
      "\u001b[0;32m~/opt/anaconda3/envs/blackwater/lib/python3.7/site-packages/ply/yacc.py\u001b[0m in \u001b[0;36m__init__\u001b[0;34m(self, grammar, method, log)\u001b[0m\n\u001b[1;32m   2133\u001b[0m         \u001b[0mself\u001b[0m\u001b[0;34m.\u001b[0m\u001b[0mgrammar\u001b[0m\u001b[0;34m.\u001b[0m\u001b[0mcompute_first\u001b[0m\u001b[0;34m(\u001b[0m\u001b[0;34m)\u001b[0m\u001b[0;34m\u001b[0m\u001b[0;34m\u001b[0m\u001b[0m\n\u001b[1;32m   2134\u001b[0m         \u001b[0mself\u001b[0m\u001b[0;34m.\u001b[0m\u001b[0mgrammar\u001b[0m\u001b[0;34m.\u001b[0m\u001b[0mcompute_follow\u001b[0m\u001b[0;34m(\u001b[0m\u001b[0;34m)\u001b[0m\u001b[0;34m\u001b[0m\u001b[0;34m\u001b[0m\u001b[0m\n\u001b[0;32m-> 2135\u001b[0;31m         \u001b[0mself\u001b[0m\u001b[0;34m.\u001b[0m\u001b[0mlr_parse_table\u001b[0m\u001b[0;34m(\u001b[0m\u001b[0;34m)\u001b[0m\u001b[0;34m\u001b[0m\u001b[0;34m\u001b[0m\u001b[0m\n\u001b[0m\u001b[1;32m   2136\u001b[0m \u001b[0;34m\u001b[0m\u001b[0m\n\u001b[1;32m   2137\u001b[0m     \u001b[0;31m# Compute the LR(0) closure operation on I, where I is a set of LR(0) items.\u001b[0m\u001b[0;34m\u001b[0m\u001b[0;34m\u001b[0m\u001b[0;34m\u001b[0m\u001b[0m\n",
      "\u001b[0;32m~/opt/anaconda3/envs/blackwater/lib/python3.7/site-packages/ply/yacc.py\u001b[0m in \u001b[0;36mlr_parse_table\u001b[0;34m(self)\u001b[0m\n\u001b[1;32m   2546\u001b[0m         \u001b[0;31m# This determines the number of states\u001b[0m\u001b[0;34m\u001b[0m\u001b[0;34m\u001b[0m\u001b[0;34m\u001b[0m\u001b[0m\n\u001b[1;32m   2547\u001b[0m \u001b[0;34m\u001b[0m\u001b[0m\n\u001b[0;32m-> 2548\u001b[0;31m         \u001b[0mC\u001b[0m \u001b[0;34m=\u001b[0m \u001b[0mself\u001b[0m\u001b[0;34m.\u001b[0m\u001b[0mlr0_items\u001b[0m\u001b[0;34m(\u001b[0m\u001b[0;34m)\u001b[0m\u001b[0;34m\u001b[0m\u001b[0;34m\u001b[0m\u001b[0m\n\u001b[0m\u001b[1;32m   2549\u001b[0m \u001b[0;34m\u001b[0m\u001b[0m\n\u001b[1;32m   2550\u001b[0m         \u001b[0;32mif\u001b[0m \u001b[0mself\u001b[0m\u001b[0;34m.\u001b[0m\u001b[0mlr_method\u001b[0m \u001b[0;34m==\u001b[0m \u001b[0;34m'LALR'\u001b[0m\u001b[0;34m:\u001b[0m\u001b[0;34m\u001b[0m\u001b[0;34m\u001b[0m\u001b[0m\n",
      "\u001b[0;32m~/opt/anaconda3/envs/blackwater/lib/python3.7/site-packages/ply/yacc.py\u001b[0m in \u001b[0;36mlr0_items\u001b[0;34m(self)\u001b[0m\n\u001b[1;32m   2218\u001b[0m \u001b[0;34m\u001b[0m\u001b[0m\n\u001b[1;32m   2219\u001b[0m             \u001b[0;32mfor\u001b[0m \u001b[0mx\u001b[0m \u001b[0;32min\u001b[0m \u001b[0masyms\u001b[0m\u001b[0;34m:\u001b[0m\u001b[0;34m\u001b[0m\u001b[0;34m\u001b[0m\u001b[0m\n\u001b[0;32m-> 2220\u001b[0;31m                 \u001b[0mg\u001b[0m \u001b[0;34m=\u001b[0m \u001b[0mself\u001b[0m\u001b[0;34m.\u001b[0m\u001b[0mlr0_goto\u001b[0m\u001b[0;34m(\u001b[0m\u001b[0mI\u001b[0m\u001b[0;34m,\u001b[0m \u001b[0mx\u001b[0m\u001b[0;34m)\u001b[0m\u001b[0;34m\u001b[0m\u001b[0;34m\u001b[0m\u001b[0m\n\u001b[0m\u001b[1;32m   2221\u001b[0m                 \u001b[0;32mif\u001b[0m \u001b[0;32mnot\u001b[0m \u001b[0mg\u001b[0m \u001b[0;32mor\u001b[0m \u001b[0mid\u001b[0m\u001b[0;34m(\u001b[0m\u001b[0mg\u001b[0m\u001b[0;34m)\u001b[0m \u001b[0;32min\u001b[0m \u001b[0mself\u001b[0m\u001b[0;34m.\u001b[0m\u001b[0mlr0_cidhash\u001b[0m\u001b[0;34m:\u001b[0m\u001b[0;34m\u001b[0m\u001b[0;34m\u001b[0m\u001b[0m\n\u001b[1;32m   2222\u001b[0m                     \u001b[0;32mcontinue\u001b[0m\u001b[0;34m\u001b[0m\u001b[0;34m\u001b[0m\u001b[0m\n",
      "\u001b[0;32m~/opt/anaconda3/envs/blackwater/lib/python3.7/site-packages/ply/yacc.py\u001b[0m in \u001b[0;36mlr0_goto\u001b[0;34m(self, I, x)\u001b[0m\n\u001b[1;32m   2180\u001b[0m         \u001b[0;32mfor\u001b[0m \u001b[0mp\u001b[0m \u001b[0;32min\u001b[0m \u001b[0mI\u001b[0m\u001b[0;34m:\u001b[0m\u001b[0;34m\u001b[0m\u001b[0;34m\u001b[0m\u001b[0m\n\u001b[1;32m   2181\u001b[0m             \u001b[0mn\u001b[0m \u001b[0;34m=\u001b[0m \u001b[0mp\u001b[0m\u001b[0;34m.\u001b[0m\u001b[0mlr_next\u001b[0m\u001b[0;34m\u001b[0m\u001b[0;34m\u001b[0m\u001b[0m\n\u001b[0;32m-> 2182\u001b[0;31m             \u001b[0;32mif\u001b[0m \u001b[0mn\u001b[0m \u001b[0;32mand\u001b[0m \u001b[0mn\u001b[0m\u001b[0;34m.\u001b[0m\u001b[0mlr_before\u001b[0m \u001b[0;34m==\u001b[0m \u001b[0mx\u001b[0m\u001b[0;34m:\u001b[0m\u001b[0;34m\u001b[0m\u001b[0;34m\u001b[0m\u001b[0m\n\u001b[0m\u001b[1;32m   2183\u001b[0m                 \u001b[0ms1\u001b[0m \u001b[0;34m=\u001b[0m \u001b[0ms\u001b[0m\u001b[0;34m.\u001b[0m\u001b[0mget\u001b[0m\u001b[0;34m(\u001b[0m\u001b[0mid\u001b[0m\u001b[0;34m(\u001b[0m\u001b[0mn\u001b[0m\u001b[0;34m)\u001b[0m\u001b[0;34m)\u001b[0m\u001b[0;34m\u001b[0m\u001b[0;34m\u001b[0m\u001b[0m\n\u001b[1;32m   2184\u001b[0m                 \u001b[0;32mif\u001b[0m \u001b[0;32mnot\u001b[0m \u001b[0ms1\u001b[0m\u001b[0;34m:\u001b[0m\u001b[0;34m\u001b[0m\u001b[0;34m\u001b[0m\u001b[0m\n",
      "\u001b[0;31mKeyboardInterrupt\u001b[0m: "
     ]
    }
   ],
   "source": [
    "dataset = []\n",
    "\n",
    "for r in tqdm_notebook(range(20)):\n",
    "    for depth in depths:\n",
    "        # print(depth, end=\"...\")\n",
    "\n",
    "        for trial in range(trials):\n",
    "            local_seed = 10**8 * r + 10**6 * depth + 10**3 * seed + trial\n",
    "\n",
    "            circuit, correct_bitstring = get_circuit_mirror(depth, local_seed)\n",
    "            circuit.measure_all()\n",
    "\n",
    "            transpiled = qiskit.transpile(\n",
    "                circuit,\n",
    "                backend=noisy_backend,\n",
    "                initial_layout=physical_ibm_qubits,\n",
    "                optimization_level=0, # Otherwise RB circuits are simplified to empty circuits.\n",
    "            )\n",
    "\n",
    "            noisy_job_result = noisy_backend.run(\n",
    "                transpiled, \n",
    "                init_qubits=True,  \n",
    "                shots=shots,\n",
    "            ).result()\n",
    "            noisy_value = noisy_job_result.get_counts().get(correct_bitstring, 0.0) / shots\n",
    "\n",
    "            ideal_job_result = ideal_backend.run(\n",
    "                transpiled, \n",
    "                init_qubits=True,  \n",
    "                shots=shots,\n",
    "            ).result()\n",
    "            ideal_value = ideal_job_result.get_counts().get(correct_bitstring, 0.0) / shots\n",
    "\n",
    "            graph_data = circuit_to_graph_data_json(\n",
    "                circuit=transpiled,\n",
    "                properties=properties,\n",
    "                use_qubit_features=True,\n",
    "                use_gate_features=True,\n",
    "            )\n",
    "\n",
    "            entry = ExpValueEntry(\n",
    "                circuit_graph=graph_data,\n",
    "                observable=[],\n",
    "                ideal_exp_value=ideal_value,\n",
    "                noisy_exp_value=noisy_value,\n",
    "                circuit_depth=circuit.depth(),\n",
    "            )\n",
    "\n",
    "            dataset.append(entry.to_dict())\n",
    "    \n",
    "    if r % 2 == 0:\n",
    "        with open(f\"./data/rb_uf/{r}.json\", \"w\") as f:\n",
    "            json.dump(dataset, f)\n",
    "            \n",
    "            dataset = []\n",
    "\n",
    "len(dataset)"
   ]
  },
  {
   "cell_type": "code",
   "execution_count": null,
   "id": "bb3e67d1-0ac8-4939-9c10-d7baa80d0e09",
   "metadata": {},
   "outputs": [],
   "source": []
  },
  {
   "cell_type": "code",
   "execution_count": null,
   "id": "45b95f73-c455-469b-8a60-6bf057b0dcb6",
   "metadata": {},
   "outputs": [],
   "source": []
  },
  {
   "cell_type": "code",
   "execution_count": null,
   "id": "4e912b65-ae59-49e3-8e70-e214de2e242d",
   "metadata": {},
   "outputs": [],
   "source": []
  },
  {
   "cell_type": "code",
   "execution_count": null,
   "id": "c89518ba-451c-4958-beb7-fd715a95f91a",
   "metadata": {},
   "outputs": [],
   "source": []
  }
 ],
 "metadata": {
  "kernelspec": {
   "display_name": "Python 3 (ipykernel)",
   "language": "python",
   "name": "python3"
  },
  "language_info": {
   "codemirror_mode": {
    "name": "ipython",
    "version": 3
   },
   "file_extension": ".py",
   "mimetype": "text/x-python",
   "name": "python",
   "nbconvert_exporter": "python",
   "pygments_lexer": "ipython3",
   "version": "3.7.13"
  }
 },
 "nbformat": 4,
 "nbformat_minor": 5
}
