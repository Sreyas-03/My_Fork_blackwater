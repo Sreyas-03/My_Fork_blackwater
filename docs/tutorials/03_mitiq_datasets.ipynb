{
 "cells": [
  {
   "cell_type": "code",
   "execution_count": 20,
   "id": "f50a346c-8672-450e-b4e0-e510eec0d59c",
   "metadata": {},
   "outputs": [
    {
     "name": "stderr",
     "output_type": "stream",
     "text": [
      "/Users/iskandarsitdikov/opt/anaconda3/envs/blackwater/lib/python3.7/site-packages/ipykernel_launcher.py:18: DeprecationWarning: The qiskit.ignis package is deprecated and has been supersceded by the qiskit-experiments project. Refer to the migration guide: https://github.com/Qiskit/qiskit-ignis#migration-guide on how to migrate to the new project.\n"
     ]
    }
   ],
   "source": [
    "import os\n",
    "import functools\n",
    "import time\n",
    "from typing import Dict, List, Tuple, Union\n",
    "\n",
    "# Plotting imports.\n",
    "import matplotlib.pyplot as plt\n",
    "plt.rcParams.update({\"font.family\": \"serif\", \"font.size\": 15})\n",
    "%matplotlib inline\n",
    "\n",
    "import networkx as nx\n",
    "import numpy as np\n",
    "import pandas as pd\n",
    "\n",
    "# Qiskit imports.\n",
    "import qiskit\n",
    "from qiskit_experiments.library import StandardRB\n",
    "import qiskit.ignis.verification.randomized_benchmarking as rb\n",
    "\n",
    "from qiskit.transpiler.passes import RemoveBarriers, RemoveFinalMeasurements\n",
    "from qiskit.circuit import Gate\n",
    "\n",
    "# Mitiq imports.\n",
    "from mitiq.interface import convert_to_mitiq, convert_from_mitiq\n",
    "from mitiq import benchmarks, pec, zne\n",
    "\n",
    "import cirq"
   ]
  },
  {
   "cell_type": "code",
   "execution_count": 2,
   "id": "7b58a715-2f98-4459-9a56-973ba19fea0f",
   "metadata": {},
   "outputs": [],
   "source": [
    "# Option to use a noisy simulator instead of hardware backend.\n",
    "use_noisy_simulator: bool = True  \n",
    "\n",
    "# Minimum depth circuit to use.\n",
    "min_depth: int = 1          \n",
    "# Random seed for circuit generation.\n",
    "seed: int = 1               \n",
    "\n",
    "# Minimum noise scale factor.\n",
    "min_scale_factor: int = 1   \n",
    "# Maximum noise scale factor.\n",
    "max_scale_factor: int = 3   \n",
    "\n",
    "# Step between noise scale factors.\n",
    "step_scale_factor: int = 1  \n",
    "\n",
    "# Total number of shots to use.\n",
    "# For PEC, the shots per circuit is shots / num_samples.\n",
    "# For ZNE, the shots per circuit is shots / len(scale_factors).\n",
    "shots: int = 10_000     \n",
    "# Number of samples (circuits) to use in PEC.    \n",
    "num_samples: int = 100  \n",
    "\n",
    "# Display verbose output.    \n",
    "verbose: bool = True  \n",
    "# Give queue updates every this many seconds when running on hardware device.    \n",
    "verbose_update_time: int = 30  \n",
    "\n",
    "# Save data (cnot_counts, oneq_counts, true_values, noisy_values, zne_values, etc.).\n",
    "save_data: bool = True "
   ]
  },
  {
   "cell_type": "code",
   "execution_count": 3,
   "id": "baf0d407-3565-4e24-9165-eff2f75d185b",
   "metadata": {},
   "outputs": [
    {
     "name": "stdout",
     "output_type": "stream",
     "text": [
      "Qubit indeces: [0, 1, 2]\n",
      "RB pattern: [[0, 1], [2]]\n"
     ]
    }
   ],
   "source": [
    "# Benchmark circuit type. Supported types are \"rb\" and \"mirror\".\n",
    "circuit_type: str = \"rb\"  \n",
    "\n",
    "# Qubits to use on the experiment. \n",
    "num_qubits = 3\n",
    "qubits = [j for j in range(num_qubits)]\n",
    "\n",
    "# Split qubits into 2-qubit pairs (assuming a chain connectivity). \n",
    "rb_pattern = [[qa, qb] for qa, qb in zip(qubits[0:-1:2], qubits[1::2])]\n",
    "if len(qubits) % 2 == 1:\n",
    "    # For an odd number of qubits, append final individual qubit to the RB pattern.\n",
    "    rb_pattern.append([qubits[-1]])\n",
    "print(\"Qubit indeces:\", qubits)\n",
    "print(\"RB pattern:\", rb_pattern)\n",
    "    \n",
    "    \n",
    "# Maximum depth circuit to use.    \n",
    "max_depth: int = 20\n",
    "\n",
    "# Step to create a list of depths to run at.\n",
    "step_depth: int = 2\n",
    "        \n",
    "# Average results over this many trials (circuit instances) at each depth.\n",
    "trials: int = 4 "
   ]
  },
  {
   "cell_type": "code",
   "execution_count": 4,
   "id": "0f59f0fb-b5db-4ce8-a825-346ff467fbf1",
   "metadata": {},
   "outputs": [
    {
     "name": "stdout",
     "output_type": "stream",
     "text": [
      "IBM physical qubits: [0, 1, 3]\n"
     ]
    }
   ],
   "source": [
    "ibm_lima_ordering = [0, 1, 3, 4, 2]\n",
    "    \n",
    "if len(qubits) <= 5:\n",
    "    # Assume ibmq-lima device. Take n adjacent physical qubits.\n",
    "    physical_ibm_qubits = ibm_lima_ordering[:len(qubits)] \n",
    "elif len(qubits) <= len(ibm_kolkata_ordering):\n",
    "    # Assume ibmq-kolkata device. Take n adjacent physical qubits.\n",
    "    physical_ibm_qubits = ibm_kolkata_ordering[:len(qubits)]  \n",
    "else:\n",
    "    raise ValueError(f\"Number of qubits {num_qubits} too large.\")\n",
    "\n",
    "print(\"IBM physical qubits:\", physical_ibm_qubits)"
   ]
  },
  {
   "cell_type": "code",
   "execution_count": 5,
   "id": "5592a964-2d3d-4fdb-83e1-bd70eb2566ae",
   "metadata": {},
   "outputs": [],
   "source": [
    "def make_rotation_barrier(circuit, delta):\n",
    "    qubits = list(circuit.all_qubits())\n",
    "    delta_x = np.random.choice([1.0, -1.0]) * delta\n",
    "    delta_y = np.random.choice([1.0, -1.0]) * delta\n",
    "    delta_z = np.random.choice([1.0, -1.0]) * delta\n",
    "    barrier = cirq.Circuit()\n",
    "    for q in qubits:\n",
    "        barrier.append(cirq.rx(delta_x)(q))\n",
    "        barrier.append(cirq.ry(delta_y)(q))\n",
    "        barrier.append(cirq.rz(delta_z)(q))\n",
    "    return barrier\n",
    "\n",
    "def fold_with_rotation_barriers(circuit, scale_factor, delta):\n",
    "\n",
    "    base_circuit, circ_type = convert_to_mitiq(circuit)\n",
    "\n",
    "    ####### Adapted from Mitiq ############\n",
    "    folded = base_circuit.copy()\n",
    "    # Determine the number of global folds and the final fractional scale\n",
    "    num_global_folds, fraction_scale = divmod(scale_factor - 1, 2)\n",
    "    # Do the global folds\n",
    "    for _ in range(int(num_global_folds)):\n",
    "        folded += make_rotation_barrier(base_circuit, delta)\n",
    "        folded += cirq.Circuit(cirq.inverse(base_circuit))\n",
    "        folded += make_rotation_barrier(base_circuit, delta)\n",
    "        folded += cirq.Circuit(base_circuit)\n",
    "\n",
    "    # Fold remaining gates until the scale is reached\n",
    "    operations = list(base_circuit.all_operations())\n",
    "    num_to_fold = int(round(fraction_scale * len(operations) / 2))\n",
    "\n",
    "    if num_to_fold > 0:\n",
    "\n",
    "        # Create the inverse of the final partial circuit\n",
    "        inverse_partial = cirq.Circuit()\n",
    "        num_partial = 0\n",
    "        for moment in base_circuit[::-1]:\n",
    "            new_moment = cirq.Moment()\n",
    "            for op in moment.operations[::-1]:\n",
    "                new_moment = new_moment.with_operation(cirq.inverse(op))\n",
    "                num_partial += 1\n",
    "                if num_partial == num_to_fold:\n",
    "                    break\n",
    "            inverse_partial.append(new_moment)\n",
    "            if num_partial == num_to_fold:\n",
    "                break\n",
    "        # Append partially folded circuit\n",
    "        folded += make_rotation_barrier(base_circuit, delta)\n",
    "        folded += inverse_partial\n",
    "        folded += make_rotation_barrier(base_circuit, delta)\n",
    "        folded += cirq.inverse(inverse_partial)\n",
    "    #########\n",
    "    \n",
    "    folded_converted = convert_from_mitiq(folded, circ_type)\n",
    "    return folded_converted"
   ]
  },
  {
   "cell_type": "code",
   "execution_count": 6,
   "id": "9362c0ee-53a1-4191-ac7c-942da7221ad2",
   "metadata": {},
   "outputs": [
    {
     "name": "stdout",
     "output_type": "stream",
     "text": [
      "Depths: [1, 3, 5, 7, 9, 11, 13, 15, 17, 19]\n",
      "Scale factors: (1, 2, 3)\n"
     ]
    }
   ],
   "source": [
    "# Error mitigation type. Supported typed are \"zne\" and \"pec\".\n",
    "mitigation_type: str = \"zne\"\n",
    "\n",
    "# Random angles for rotation barriers    \n",
    "delta = 0.0001\n",
    "\n",
    "# Noise scaling method.\n",
    "fold_method = zne.scaling.fold_global\n",
    "\n",
    "depths = list(range(min_depth, max_depth + 1, step_depth))\n",
    "\n",
    "scale_factors = tuple(range(min_scale_factor, max_scale_factor + 1, step_scale_factor))\n",
    "\n",
    "print(f\"Depths: {depths}\")\n",
    "print(f\"Scale factors: {scale_factors}\")"
   ]
  },
  {
   "cell_type": "code",
   "execution_count": 7,
   "id": "2b7e0fa9-252d-447d-a0c5-18f5b48abecb",
   "metadata": {},
   "outputs": [
    {
     "name": "stdout",
     "output_type": "stream",
     "text": [
      "Computer connectivity (used only for mirror circuits): [(0, 1), (1, 0), (1, 2), (2, 1)]\n",
      "Noisy backend fake_lima\n",
      "Ideal backend aer_simulator\n"
     ]
    }
   ],
   "source": [
    "computer = nx.Graph()\n",
    "\n",
    "# Assume chain-like connectivity\n",
    "computer.add_edges_from([(qa, qb) for qa, qb in zip(qubits[:-1], qubits[1:])])\n",
    "\n",
    "# Add reversed edges to computer graph.\n",
    "# This is important to represent CNOT gates with target and control reversed.\n",
    "computer = nx.to_directed(computer)\n",
    "\n",
    "# Get the backend to run on and a simulated backend for comparing results.\n",
    "if use_noisy_simulator:\n",
    "    from qiskit.providers.fake_provider import FakeLima, FakeKolkataV2\n",
    "        \n",
    "    if len(qubits) <= 5:\n",
    "        noisy_backend = FakeLima()\n",
    "    else:\n",
    "        noisy_backend = FakeKolkataV2()\n",
    "\n",
    "# Specify both the hardware device and device architecture (computer):\n",
    "else:\n",
    "\n",
    "    provider = qiskit.IBMQ.load_account()\n",
    "    noisy_backend = provider.get_backend(backend)\n",
    "    print(f\"View {backend} job status at https://quantum-computing.ibm.com/jobs\")        \n",
    "\n",
    "# Check if RB-pattern is consistent with device topology.\n",
    "for edge in rb_pattern:\n",
    "    if len(edge) == 2:\n",
    "        if edge not in computer.edges:\n",
    "            raise ValueError(\"The option rb_pattern is not consistent with the device topology.\")\n",
    "        \n",
    "# Set ideal backends for simulator-selected options.\n",
    "ideal_backend = qiskit.Aer.get_backend(\"aer_simulator\")\n",
    "    \n",
    "\n",
    "print(\"Computer connectivity (used only for mirror circuits):\", computer.edges)\n",
    "print(\"Noisy backend\", noisy_backend)\n",
    "print(\"Ideal backend\", ideal_backend)"
   ]
  },
  {
   "cell_type": "code",
   "execution_count": 12,
   "id": "ff24970a-fe4b-42d1-ae88-f181f338b125",
   "metadata": {},
   "outputs": [],
   "source": [
    "def named_qubit_to_line_qubit(named_qubit: str) -> cirq.LineQubit:\n",
    "    \"\"\"Extract qubit number assuming \"_\" is used as a word separator.\"\"\"\n",
    "    digits = [int(s) for s in named_qubit.name.split(\"_\") if s.isdigit()]\n",
    "    if len(digits) == 1:\n",
    "        return cirq.LineQubit(digits[0])\n",
    "    else:\n",
    "        raise RuntimeError(\"Failed to identify qubit number.\")"
   ]
  },
  {
   "cell_type": "code",
   "execution_count": null,
   "id": "512636c0-4b6d-4dfc-ad18-6d675d317444",
   "metadata": {},
   "outputs": [],
   "source": []
  },
  {
   "cell_type": "code",
   "execution_count": 21,
   "id": "aeeba611-09da-4b11-a2b3-858956d41ee1",
   "metadata": {},
   "outputs": [],
   "source": [
    "def get_circuit_rb(depth: int, seed: int) -> Union[Tuple[cirq.Circuit, str], Tuple[qiskit.QuantumCircuit, str]]:\n",
    "    circuit = rb.randomized_benchmarking_seq(\n",
    "            length_vector=[depth], \n",
    "            rb_pattern=rb_pattern,\n",
    "            group_gates=\"0\", \n",
    "            rand_seed=seed,\n",
    "    )[0][0][0]\n",
    "\n",
    "        # Remove barriers and measurements.\n",
    "    circuit = RemoveFinalMeasurements()(RemoveBarriers()(circuit))\n",
    "\n",
    "    return convert_from_mitiq(convert_to_mitiq(circuit)[0], \"qiskit\"), \"0\" * len(qubits)"
   ]
  },
  {
   "cell_type": "code",
   "execution_count": 14,
   "id": "0455f75f-8363-4cc0-bcef-e34aba06c013",
   "metadata": {},
   "outputs": [],
   "source": [
    "def get_circuit_mirror(depth: int, seed: int) -> Union[Tuple[cirq.Circuit, str], Tuple[qiskit.QuantumCircuit, str]]:\n",
    "    return_type = \"qiskit\"\n",
    "    circuit, correct_bitstring = benchmarks.generate_mirror_circuit(\n",
    "            nlayers=depth,\n",
    "            two_qubit_gate_prob=1.0,\n",
    "            connectivity_graph=computer,\n",
    "            two_qubit_gate_name=\"CNOT\",\n",
    "            seed=seed,\n",
    "            return_type=return_type,\n",
    "    )        \n",
    "        \n",
    "    return circuit, \"\".join(map(str, correct_bitstring[::-1])) "
   ]
  },
  {
   "cell_type": "code",
   "execution_count": 15,
   "id": "53fb7ea3-2050-4844-94ae-e1e96914e951",
   "metadata": {},
   "outputs": [],
   "source": [
    "def get_cnot_error(edge: Tuple[int, int] = None) -> float:\n",
    "    # If we use a simulator, we can't get any error probability from any specific \n",
    "    # device so we hardcode a small \"reasonable\" CNOT error probability.\n",
    "    cnot_error_prob = noisy_backend.properties().gate_error(\"cx\", qubits=edge)\n",
    "\n",
    "    print(f\"cnot_error_prob for edge {edge}: {cnot_error_prob}\")\n",
    "    return cnot_error_prob\n",
    "\n",
    "def get_cnot_representation(edge: Tuple[int, int]) -> pec.OperationRepresentation:\n",
    "    cnot_circuit = cirq.Circuit(\n",
    "            cirq.CNOT(\n",
    "                cirq.NamedQubit(f\"q_{str(edge[0])}\"),\n",
    "                cirq.NamedQubit(f\"q_{str(edge[1])}\")\n",
    "            )\n",
    "    )\n",
    "            \n",
    "    rep_exact_prob = 1 - np.sqrt(1 - get_cnot_error(edge))\n",
    "    return pec.represent_operation_with_local_depolarizing_noise(\n",
    "        cnot_circuit, \n",
    "        noise_level=rep_exact_prob,\n",
    "    )\n",
    "\n",
    "\n",
    "def get_representations(computer: nx.Graph) -> List[pec.OperationRepresentation]:\n",
    "    return [get_cnot_representation(edge) for edge in computer.edges]"
   ]
  },
  {
   "cell_type": "code",
   "execution_count": 16,
   "id": "8e2dc4b0-f8ff-48d6-a2be-145b9e37f9bc",
   "metadata": {},
   "outputs": [],
   "source": [
    "def get_num_cnot_count(circuit: Union[cirq.Circuit, qiskit.QuantumCircuit]) -> int:\n",
    "    \"\"\"Determine number of cnot gates in a given `Circuit` object.\"\"\"\n",
    "    return circuit.count_ops().get(\"cx\")\n",
    "\n",
    "def get_avg_cnot_count(circuits: Union[List[cirq.Circuit], List[qiskit.QuantumCircuit]]) -> float:\n",
    "    \"\"\"Determine average number of cnot gates present in \n",
    "    list of either `Circuit` or `QuantumCircuit` objects.\"\"\"    \n",
    "    \n",
    "    return np.average([c.count_ops().get(\"cx\") for c in circuits])\n",
    "    \n",
    "\n",
    "def get_oneq_count(circuit: Union[cirq.Circuit, qiskit.QuantumCircuit]) -> int:\n",
    "    return len(circuit) - get_num_cnot_count(circuit)"
   ]
  },
  {
   "cell_type": "code",
   "execution_count": null,
   "id": "9dc88ba4-b8d7-4f2f-9933-8adfadfaa999",
   "metadata": {},
   "outputs": [],
   "source": []
  },
  {
   "cell_type": "code",
   "execution_count": null,
   "id": "837ffb48-5ef2-41b8-9cde-d4a74f54696a",
   "metadata": {},
   "outputs": [],
   "source": []
  },
  {
   "cell_type": "code",
   "execution_count": null,
   "id": "30faffc3-a268-4838-977d-aa4a31168675",
   "metadata": {},
   "outputs": [],
   "source": []
  },
  {
   "cell_type": "code",
   "execution_count": null,
   "id": "649cb53f-bf4f-45a1-b48f-589a7a0d5bb9",
   "metadata": {},
   "outputs": [],
   "source": []
  },
  {
   "cell_type": "markdown",
   "id": "f72b6fbc-3131-4876-bc44-bda4ddc33033",
   "metadata": {},
   "source": [
    "### dataset generation"
   ]
  },
  {
   "cell_type": "code",
   "execution_count": 109,
   "id": "aa33727b-ebf7-4e56-affa-2bf2d7a9b2be",
   "metadata": {},
   "outputs": [],
   "source": [
    "import json\n",
    "\n",
    "from blackwater.data.generators.exp_val import ExpValueEntry\n",
    "from blackwater.data.utils import (\n",
    "    circuit_to_graph_data_json,\n",
    "    generate_random_pauli_sum_op,\n",
    "    get_backend_properties_v1,\n",
    "    create_estimator_meas_data,\n",
    "    encode_pauli_sum_op,\n",
    ")\n",
    "\n",
    "from tqdm.notebook import tqdm_notebook"
   ]
  },
  {
   "cell_type": "code",
   "execution_count": 110,
   "id": "33298d42-2e91-4cbc-9bb4-fe12ed83f7f5",
   "metadata": {},
   "outputs": [],
   "source": [
    "properties = get_backend_properties_v1(noisy_backend)\n"
   ]
  },
  {
   "cell_type": "code",
   "execution_count": null,
   "id": "633e0a34-4299-4cda-8f7e-8d2e96700f89",
   "metadata": {},
   "outputs": [],
   "source": []
  },
  {
   "cell_type": "code",
   "execution_count": null,
   "id": "5d6dd867-9804-4af1-ad48-3d59f082428f",
   "metadata": {},
   "outputs": [],
   "source": []
  },
  {
   "cell_type": "code",
   "execution_count": 140,
   "id": "5f27de2d-6d99-46cf-b090-b7d3079af003",
   "metadata": {},
   "outputs": [
    {
     "data": {
      "application/vnd.jupyter.widget-view+json": {
       "model_id": "e7d5432a060c48e6a6df2fe70fe7c15e",
       "version_major": 2,
       "version_minor": 0
      },
      "text/plain": [
       "  0%|          | 0/57 [00:00<?, ?it/s]"
      ]
     },
     "metadata": {},
     "output_type": "display_data"
    }
   ],
   "source": [
    "for r in tqdm_notebook(range(43, 100)):\n",
    "    dataset = []\n",
    "    \n",
    "    for depth in depths:\n",
    "        # print(depth, end=\"...\")\n",
    "\n",
    "        for trial in range(trials):\n",
    "            local_seed = 10**6 * depth + 10**3 * seed + trial + r\n",
    "\n",
    "            circuit, correct_bitstring = get_circuit_mirror(depth, local_seed)\n",
    "            circuit.measure_all()\n",
    "\n",
    "            transpiled = qiskit.transpile(\n",
    "                circuit,\n",
    "                backend=noisy_backend,\n",
    "                initial_layout=physical_ibm_qubits,\n",
    "                optimization_level=0, # Otherwise RB circuits are simplified to empty circuits.\n",
    "            )\n",
    "\n",
    "            observable = generate_random_pauli_sum_op(\n",
    "                properties[\"num_qubits\"], 1, 1.0\n",
    "            )\n",
    "\n",
    "            graph_data = circuit_to_graph_data_json(\n",
    "                circuit=transpiled,\n",
    "                properties=properties,\n",
    "                use_qubit_features=True,\n",
    "                use_gate_features=True,\n",
    "            )\n",
    "\n",
    "            ideal_exp_val, noisy_exp_val = create_estimator_meas_data(\n",
    "                backend=noisy_backend, circuit=transpiled, observable=observable\n",
    "            )\n",
    "                        \n",
    "            entry = ExpValueEntry(\n",
    "                circuit_graph=graph_data,\n",
    "                observable=encode_pauli_sum_op(observable),\n",
    "                ideal_exp_value=ideal_exp_val,\n",
    "                noisy_exp_value=noisy_exp_val,\n",
    "                circuit_depth=transpiled.depth(),\n",
    "            )\n",
    "\n",
    "            dataset.append(entry.to_dict())\n",
    "    \n",
    "    with open(f\"./data/rb_uf/round_{r}.json\", \"w\") as f:\n",
    "        json.dump(dataset, f)"
   ]
  },
  {
   "cell_type": "code",
   "execution_count": null,
   "id": "bb3e67d1-0ac8-4939-9c10-d7baa80d0e09",
   "metadata": {},
   "outputs": [],
   "source": []
  },
  {
   "cell_type": "code",
   "execution_count": null,
   "id": "45b95f73-c455-469b-8a60-6bf057b0dcb6",
   "metadata": {},
   "outputs": [],
   "source": []
  },
  {
   "cell_type": "code",
   "execution_count": null,
   "id": "4e912b65-ae59-49e3-8e70-e214de2e242d",
   "metadata": {},
   "outputs": [],
   "source": []
  },
  {
   "cell_type": "code",
   "execution_count": null,
   "id": "c89518ba-451c-4958-beb7-fd715a95f91a",
   "metadata": {},
   "outputs": [],
   "source": []
  }
 ],
 "metadata": {
  "kernelspec": {
   "display_name": "Python 3 (ipykernel)",
   "language": "python",
   "name": "python3"
  },
  "language_info": {
   "codemirror_mode": {
    "name": "ipython",
    "version": 3
   },
   "file_extension": ".py",
   "mimetype": "text/x-python",
   "name": "python",
   "nbconvert_exporter": "python",
   "pygments_lexer": "ipython3",
   "version": "3.7.13"
  }
 },
 "nbformat": 4,
 "nbformat_minor": 5
}
