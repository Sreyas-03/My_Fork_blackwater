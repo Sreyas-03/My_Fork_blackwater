{
 "cells": [
  {
   "cell_type": "code",
   "execution_count": 97,
   "metadata": {
    "collapsed": true
   },
   "outputs": [],
   "source": [
    "import json\n",
    "import glob\n",
    "\n",
    "import numpy as np\n",
    "import pandas as pd\n",
    "\n",
    "from qiskit import transpile\n",
    "from qiskit import execute\n",
    "from qiskit.providers.fake_provider import FakeLima\n",
    "from qiskit.primitives import Estimator\n",
    "from qiskit.circuit.random import random_circuit\n",
    "\n",
    "import torch\n",
    "from torch.optim import Adam\n",
    "from torch.optim.lr_scheduler import ReduceLROnPlateau\n",
    "from torch.nn.functional import dropout\n",
    "\n",
    "from torch_geometric.nn import GCNConv, global_mean_pool, Linear, ChebConv, SAGEConv\n",
    "from torch_geometric.data import Data\n",
    "from torch_geometric.loader import DataLoader\n",
    "\n",
    "from tqdm.notebook import tqdm_notebook\n",
    "import matplotlib.pyplot as plt\n",
    "import seaborn as sns\n",
    "\n",
    "from blackwater.data.loaders.exp_val import CircuitGraphExpValMitigationDataset\n",
    "from blackwater.data.generators.exp_val import exp_value_generator\n",
    "from blackwater.data.utils import generate_random_pauli_sum_op\n",
    "from blackwater.library.ngem.estimator import ngem\n",
    "\n",
    "from qiskit.quantum_info import random_clifford\n",
    "\n",
    "import random\n",
    "from qiskit.circuit.library import HGate, SdgGate\n",
    "from qiskit.circuit import ClassicalRegister\n",
    "\n",
    "from blackwater.data.utils import (\n",
    "    generate_random_pauli_sum_op,\n",
    "    create_estimator_meas_data,\n",
    "    circuit_to_graph_data_json,\n",
    "    get_backend_properties_v1,\n",
    "    encode_pauli_sum_op,\n",
    "    create_meas_data_from_estimators\n",
    ")\n",
    "from blackwater.data.generators.exp_val import ExpValueEntry\n",
    "from blackwater.metrics.improvement_factor import improvement_factor, Trial, Problem\n",
    "\n",
    "from qiskit_aer import AerSimulator, QasmSimulator\n",
    "from qiskit.providers.fake_provider import FakeMontreal, FakeLima\n",
    "\n",
    "from torch_geometric.nn import (\n",
    "    GCNConv,\n",
    "    TransformerConv,\n",
    "    GATv2Conv,\n",
    "    global_mean_pool,\n",
    "    Linear,\n",
    "    ChebConv,\n",
    "    SAGEConv,\n",
    "    ASAPooling,\n",
    "    dense_diff_pool,\n",
    "    avg_pool_neighbor_x\n",
    ")\n",
    "from torch_geometric.data import Data\n",
    "from torch_geometric.loader import DataLoader\n",
    "from torch_geometric.utils import to_dense_adj, to_dense_batch\n",
    "\n",
    "from qiskit import QuantumCircuit\n",
    "from qiskit.circuit.library import U3Gate, CZGate, PhaseGate, CXGate\n",
    "from mbd_utils import construct_random_clifford, cal_z_exp, calc_imbalance, cal_all_z_exp, construct_mbl_circuit, generate_disorder\n",
    "from gnn import ExpValCircuitGraphModel\n",
    "plt.style.use({'figure.facecolor':'white'})"
   ]
  },
  {
   "cell_type": "code",
   "execution_count": 98,
   "metadata": {},
   "outputs": [],
   "source": [
    "backend = FakeLima()\n",
    "properties = get_backend_properties_v1(backend)\n",
    "\n",
    "## Local\n",
    "backend_ideal = QasmSimulator() # Noiseless\n",
    "backend_noisy = AerSimulator.from_backend(FakeLima()) # Noisy\n",
    "\n",
    "run_config_ideal = {'shots': 10000, 'backend': backend_ideal, 'name': 'ideal'}\n",
    "run_config_noisy = {'shots': 10000, 'backend': backend_noisy, 'name': 'noisy'}"
   ]
  },
  {
   "cell_type": "markdown",
   "metadata": {},
   "source": []
  },
  {
   "cell_type": "markdown",
   "metadata": {},
   "source": [
    "# Generate random Clifford circuits as the training set"
   ]
  },
  {
   "cell_type": "code",
   "execution_count": 99,
   "metadata": {},
   "outputs": [],
   "source": [
    "num_qubit = 4 # Number of qubits in the Clifford circuit"
   ]
  },
  {
   "cell_type": "code",
   "execution_count": 148,
   "metadata": {},
   "outputs": [
    {
     "data": {
      "text/html": [
       "<pre style=\"word-wrap: normal;white-space: pre;background: #fff0;line-height: 1.1;font-family: &quot;Courier New&quot;,Courier,monospace\">        ┌───┐┌───┐┌───┐     ┌───┐┌───┐        ┌───┐┌───┐     ┌───┐          ┌───┐┌───┐     ┌───┐┌───┐┌───┐┌───┐┌─────┐┌───┐ ░ ┌─┐         \n",
       "   q_0: ┤ H ├┤ S ├┤ X ├──■──┤ S ├┤ H ├─X──────┤ X ├┤ H ├──■──┤ S ├─X────────┤ X ├┤ H ├──■──┤ S ├┤ H ├┤ S ├┤ Y ├┤ Sdg ├┤ H ├─░─┤M├─────────\n",
       "        └───┘└───┘└─┬─┘  │  ├───┤├───┤ │      └─┬─┘└───┘┌─┴─┐├───┤ │ ┌─────┐└─┬─┘├───┤  │  └───┘└───┘└───┘└───┘└─────┘└───┘ ░ └╥┘┌─┐      \n",
       "   q_1: ────────────■────┼──┤ X ├┤ S ├─X───■────■───────┤ X ├┤ X ├─┼─┤ Sdg ├──┼──┤ H ├──┼───────────────────────────────────░──╫─┤M├──────\n",
       "        ┌───┐┌───┐┌───┐  │  └─┬─┘└───┘   ┌─┴─┐          └───┘└───┘ │ └─────┘  │  └───┘┌─┴─┐┌───┐┌───┐                       ░  ║ └╥┘┌─┐   \n",
       "   q_2: ┤ S ├┤ X ├┤ H ├──┼────┼──────────┤ X ├─────────────────────X──────────■───────┤ X ├┤ X ├┤ H ├───────────────────────░──╫──╫─┤M├───\n",
       "        ├───┤└─┬─┘└───┘┌─┴─┐  │  ┌───┐   └───┘                                        └───┘└───┘└───┘                       ░  ║  ║ └╥┘┌─┐\n",
       "   q_3: ┤ H ├──■───────┤ X ├──■──┤ X ├──────────────────────────────────────────────────────────────────────────────────────░──╫──╫──╫─┤M├\n",
       "        └───┘          └───┘     └───┘                                                                                      ░  ║  ║  ║ └╥┘\n",
       "meas: 4/═══════════════════════════════════════════════════════════════════════════════════════════════════════════════════════╩══╩══╩══╩═\n",
       "                                                                                                                               0  1  2  3 </pre>"
      ],
      "text/plain": [
       "        ┌───┐┌───┐┌───┐     ┌───┐┌───┐        ┌───┐┌───┐     ┌───┐          ┌───┐┌───┐     ┌───┐┌───┐┌───┐┌───┐┌─────┐┌───┐ ░ ┌─┐         \n",
       "   q_0: ┤ H ├┤ S ├┤ X ├──■──┤ S ├┤ H ├─X──────┤ X ├┤ H ├──■──┤ S ├─X────────┤ X ├┤ H ├──■──┤ S ├┤ H ├┤ S ├┤ Y ├┤ Sdg ├┤ H ├─░─┤M├─────────\n",
       "        └───┘└───┘└─┬─┘  │  ├───┤├───┤ │      └─┬─┘└───┘┌─┴─┐├───┤ │ ┌─────┐└─┬─┘├───┤  │  └───┘└───┘└───┘└───┘└─────┘└───┘ ░ └╥┘┌─┐      \n",
       "   q_1: ────────────■────┼──┤ X ├┤ S ├─X───■────■───────┤ X ├┤ X ├─┼─┤ Sdg ├──┼──┤ H ├──┼───────────────────────────────────░──╫─┤M├──────\n",
       "        ┌───┐┌───┐┌───┐  │  └─┬─┘└───┘   ┌─┴─┐          └───┘└───┘ │ └─────┘  │  └───┘┌─┴─┐┌───┐┌───┐                       ░  ║ └╥┘┌─┐   \n",
       "   q_2: ┤ S ├┤ X ├┤ H ├──┼────┼──────────┤ X ├─────────────────────X──────────■───────┤ X ├┤ X ├┤ H ├───────────────────────░──╫──╫─┤M├───\n",
       "        ├───┤└─┬─┘└───┘┌─┴─┐  │  ┌───┐   └───┘                                        └───┘└───┘└───┘                       ░  ║  ║ └╥┘┌─┐\n",
       "   q_3: ┤ H ├──■───────┤ X ├──■──┤ X ├──────────────────────────────────────────────────────────────────────────────────────░──╫──╫──╫─┤M├\n",
       "        └───┘          └───┘     └───┘                                                                                      ░  ║  ║  ║ └╥┘\n",
       "meas: 4/═══════════════════════════════════════════════════════════════════════════════════════════════════════════════════════╩══╩══╩══╩═\n",
       "                                                                                                                               0  1  2  3 "
      ]
     },
     "execution_count": 148,
     "metadata": {},
     "output_type": "execute_result"
    }
   ],
   "source": [
    "rc_forced, rc = construct_random_clifford(num_qubit)\n",
    "rc_forced.draw(fold=-1)"
   ]
  },
  {
   "cell_type": "code",
   "execution_count": 149,
   "metadata": {},
   "outputs": [],
   "source": [
    "def generate_data(generating_func, save_path: str, n_entries_per_file: int):\n",
    "        entries = []\n",
    "\n",
    "        for i in tqdm_notebook(range(n_entries_per_file)):\n",
    "            circuit, _ = generating_func(num_qubit)\n",
    "            try:\n",
    "                circuit = transpile(circuit, backend_noisy, optimization_level=3)\n",
    "            except:\n",
    "                circuit, _ = generating_func(num_qubit)\n",
    "                circuit = transpile(circuit, backend_noisy, optimization_level=3)\n",
    "\n",
    "            job_ideal = execute(circuit, **run_config_ideal)\n",
    "            job_noisy = execute(circuit, **run_config_noisy)\n",
    "\n",
    "            counts_ideal = job_ideal.result().get_counts()\n",
    "            counts_noisy = job_noisy.result().get_counts()\n",
    "\n",
    "            ideal_exp_val = cal_z_exp(counts_ideal)\n",
    "            noisy_exp_val = cal_z_exp(counts_noisy)\n",
    "\n",
    "            graph_data = circuit_to_graph_data_json(\n",
    "                circuit=circuit,\n",
    "                properties=properties,\n",
    "                use_qubit_features=True,\n",
    "                use_gate_features=True,\n",
    "            )\n",
    "\n",
    "            entry = ExpValueEntry(\n",
    "                circuit_graph=graph_data,\n",
    "                observable=[],\n",
    "                ideal_exp_value=ideal_exp_val.tolist(),\n",
    "                noisy_exp_values=[noisy_exp_val.tolist()],\n",
    "                circuit_depth=circuit.depth()\n",
    "            )\n",
    "            entries.append(entry.to_dict())\n",
    "\n",
    "        path = f\"{save_path}/random_clifford_{n_entries_per_file}.json\"\n",
    "        with open(path, \"w\") as f:\n",
    "            # pprint(entries)\n",
    "            json.dump(entries, f)"
   ]
  },
  {
   "cell_type": "code",
   "execution_count": 134,
   "metadata": {},
   "outputs": [
    {
     "data": {
      "application/vnd.jupyter.widget-view+json": {
       "model_id": "21f65e072fa7417f8f130b5a13feb02d",
       "version_major": 2,
       "version_minor": 0
      },
      "text/plain": [
       "  0%|          | 0/5000 [00:00<?, ?it/s]"
      ]
     },
     "metadata": {},
     "output_type": "display_data"
    }
   ],
   "source": [
    "# generate_data(construct_random_clifford, './data/haoran_mbl/rc_train', 5000)"
   ]
  },
  {
   "cell_type": "markdown",
   "metadata": {},
   "source": []
  },
  {
   "cell_type": "markdown",
   "metadata": {},
   "source": [
    "# Sanity check on the all-z expectation value of the generated random Cliffords"
   ]
  },
  {
   "cell_type": "code",
   "execution_count": 150,
   "metadata": {},
   "outputs": [
    {
     "data": {
      "application/vnd.jupyter.widget-view+json": {
       "model_id": "b8ef4c8866cf4a4992a0fede2779275b",
       "version_major": 2,
       "version_minor": 0
      },
      "text/plain": [
       "  0%|          | 0/3000 [00:00<?, ?it/s]"
      ]
     },
     "metadata": {},
     "output_type": "display_data"
    },
    {
     "ename": "KeyboardInterrupt",
     "evalue": "",
     "output_type": "error",
     "traceback": [
      "\u001B[0;31m---------------------------------------------------------------------------\u001B[0m",
      "\u001B[0;31mKeyboardInterrupt\u001B[0m                         Traceback (most recent call last)",
      "Input \u001B[0;32mIn [150]\u001B[0m, in \u001B[0;36m<cell line: 2>\u001B[0;34m()\u001B[0m\n\u001B[1;32m      8\u001B[0m     circuit \u001B[38;5;241m=\u001B[39m transpile(circuit, backend_noisy, optimization_level\u001B[38;5;241m=\u001B[39m\u001B[38;5;241m3\u001B[39m)\n\u001B[1;32m      9\u001B[0m job_ideal \u001B[38;5;241m=\u001B[39m execute(circuit, \u001B[38;5;241m*\u001B[39m\u001B[38;5;241m*\u001B[39mrun_config_ideal)\n\u001B[0;32m---> 10\u001B[0m counts_ideal \u001B[38;5;241m=\u001B[39m \u001B[43mjob_ideal\u001B[49m\u001B[38;5;241;43m.\u001B[39;49m\u001B[43mresult\u001B[49m\u001B[43m(\u001B[49m\u001B[43m)\u001B[49m\u001B[38;5;241m.\u001B[39mget_counts()\n\u001B[1;32m     11\u001B[0m ideal_exp_val \u001B[38;5;241m=\u001B[39m cal_all_z_exp(counts_ideal)\n\u001B[1;32m     12\u001B[0m out\u001B[38;5;241m.\u001B[39mappend(ideal_exp_val)\n",
      "File \u001B[0;32m/opt/anaconda3/envs/ngem/lib/python3.10/site-packages/qiskit_aer/jobs/utils.py:41\u001B[0m, in \u001B[0;36mrequires_submit.<locals>._wrapper\u001B[0;34m(self, *args, **kwargs)\u001B[0m\n\u001B[1;32m     39\u001B[0m \u001B[38;5;28;01mif\u001B[39;00m \u001B[38;5;28mself\u001B[39m\u001B[38;5;241m.\u001B[39m_future \u001B[38;5;129;01mis\u001B[39;00m \u001B[38;5;28;01mNone\u001B[39;00m:\n\u001B[1;32m     40\u001B[0m     \u001B[38;5;28;01mraise\u001B[39;00m JobError(\u001B[38;5;124m\"\u001B[39m\u001B[38;5;124mJob not submitted yet!. You have to .submit() first!\u001B[39m\u001B[38;5;124m\"\u001B[39m)\n\u001B[0;32m---> 41\u001B[0m \u001B[38;5;28;01mreturn\u001B[39;00m \u001B[43mfunc\u001B[49m\u001B[43m(\u001B[49m\u001B[38;5;28;43mself\u001B[39;49m\u001B[43m,\u001B[49m\u001B[43m \u001B[49m\u001B[38;5;241;43m*\u001B[39;49m\u001B[43margs\u001B[49m\u001B[43m,\u001B[49m\u001B[43m \u001B[49m\u001B[38;5;241;43m*\u001B[39;49m\u001B[38;5;241;43m*\u001B[39;49m\u001B[43mkwargs\u001B[49m\u001B[43m)\u001B[49m\n",
      "File \u001B[0;32m/opt/anaconda3/envs/ngem/lib/python3.10/site-packages/qiskit_aer/jobs/aerjob.py:78\u001B[0m, in \u001B[0;36mAerJob.result\u001B[0;34m(self, timeout)\u001B[0m\n\u001B[1;32m     60\u001B[0m \u001B[38;5;129m@requires_submit\u001B[39m\n\u001B[1;32m     61\u001B[0m \u001B[38;5;28;01mdef\u001B[39;00m \u001B[38;5;21mresult\u001B[39m(\u001B[38;5;28mself\u001B[39m, timeout\u001B[38;5;241m=\u001B[39m\u001B[38;5;28;01mNone\u001B[39;00m):\n\u001B[1;32m     62\u001B[0m     \u001B[38;5;66;03m# pylint: disable=arguments-differ\u001B[39;00m\n\u001B[1;32m     63\u001B[0m \u001B[38;5;250m    \u001B[39m\u001B[38;5;124;03m\"\"\"Get job result. The behavior is the same as the underlying\u001B[39;00m\n\u001B[1;32m     64\u001B[0m \u001B[38;5;124;03m    concurrent Future objects,\u001B[39;00m\n\u001B[1;32m     65\u001B[0m \n\u001B[0;32m   (...)\u001B[0m\n\u001B[1;32m     76\u001B[0m \u001B[38;5;124;03m        concurrent.futures.CancelledError: if job cancelled before completed.\u001B[39;00m\n\u001B[1;32m     77\u001B[0m \u001B[38;5;124;03m    \"\"\"\u001B[39;00m\n\u001B[0;32m---> 78\u001B[0m     \u001B[38;5;28;01mreturn\u001B[39;00m \u001B[38;5;28;43mself\u001B[39;49m\u001B[38;5;241;43m.\u001B[39;49m\u001B[43m_future\u001B[49m\u001B[38;5;241;43m.\u001B[39;49m\u001B[43mresult\u001B[49m\u001B[43m(\u001B[49m\u001B[43mtimeout\u001B[49m\u001B[38;5;241;43m=\u001B[39;49m\u001B[43mtimeout\u001B[49m\u001B[43m)\u001B[49m\n",
      "File \u001B[0;32m/opt/anaconda3/envs/ngem/lib/python3.10/concurrent/futures/_base.py:453\u001B[0m, in \u001B[0;36mFuture.result\u001B[0;34m(self, timeout)\u001B[0m\n\u001B[1;32m    450\u001B[0m \u001B[38;5;28;01melif\u001B[39;00m \u001B[38;5;28mself\u001B[39m\u001B[38;5;241m.\u001B[39m_state \u001B[38;5;241m==\u001B[39m FINISHED:\n\u001B[1;32m    451\u001B[0m     \u001B[38;5;28;01mreturn\u001B[39;00m \u001B[38;5;28mself\u001B[39m\u001B[38;5;241m.\u001B[39m__get_result()\n\u001B[0;32m--> 453\u001B[0m \u001B[38;5;28;43mself\u001B[39;49m\u001B[38;5;241;43m.\u001B[39;49m\u001B[43m_condition\u001B[49m\u001B[38;5;241;43m.\u001B[39;49m\u001B[43mwait\u001B[49m\u001B[43m(\u001B[49m\u001B[43mtimeout\u001B[49m\u001B[43m)\u001B[49m\n\u001B[1;32m    455\u001B[0m \u001B[38;5;28;01mif\u001B[39;00m \u001B[38;5;28mself\u001B[39m\u001B[38;5;241m.\u001B[39m_state \u001B[38;5;129;01min\u001B[39;00m [CANCELLED, CANCELLED_AND_NOTIFIED]:\n\u001B[1;32m    456\u001B[0m     \u001B[38;5;28;01mraise\u001B[39;00m CancelledError()\n",
      "File \u001B[0;32m/opt/anaconda3/envs/ngem/lib/python3.10/threading.py:320\u001B[0m, in \u001B[0;36mCondition.wait\u001B[0;34m(self, timeout)\u001B[0m\n\u001B[1;32m    318\u001B[0m \u001B[38;5;28;01mtry\u001B[39;00m:    \u001B[38;5;66;03m# restore state no matter what (e.g., KeyboardInterrupt)\u001B[39;00m\n\u001B[1;32m    319\u001B[0m     \u001B[38;5;28;01mif\u001B[39;00m timeout \u001B[38;5;129;01mis\u001B[39;00m \u001B[38;5;28;01mNone\u001B[39;00m:\n\u001B[0;32m--> 320\u001B[0m         \u001B[43mwaiter\u001B[49m\u001B[38;5;241;43m.\u001B[39;49m\u001B[43macquire\u001B[49m\u001B[43m(\u001B[49m\u001B[43m)\u001B[49m\n\u001B[1;32m    321\u001B[0m         gotit \u001B[38;5;241m=\u001B[39m \u001B[38;5;28;01mTrue\u001B[39;00m\n\u001B[1;32m    322\u001B[0m     \u001B[38;5;28;01melse\u001B[39;00m:\n",
      "\u001B[0;31mKeyboardInterrupt\u001B[0m: "
     ]
    }
   ],
   "source": [
    "out = []\n",
    "for _ in tqdm_notebook(range(3000)):\n",
    "    circuit, _ = construct_random_clifford(num_qubit)\n",
    "    try:\n",
    "        circuit = transpile(circuit, backend_noisy, optimization_level=3)\n",
    "    except:\n",
    "        circuit, _ = construct_random_clifford(num_qubit)\n",
    "        circuit = transpile(circuit, backend_noisy, optimization_level=3)\n",
    "    job_ideal = execute(circuit, **run_config_ideal)\n",
    "    counts_ideal = job_ideal.result().get_counts()\n",
    "    ideal_exp_val = cal_all_z_exp(counts_ideal)\n",
    "    out.append(ideal_exp_val)"
   ]
  },
  {
   "cell_type": "code",
   "execution_count": 117,
   "metadata": {},
   "outputs": [],
   "source": [
    "out = np.array(out)\n",
    "out[(out < 0.95) & (out > -0.95)] = 0"
   ]
  },
  {
   "cell_type": "code",
   "execution_count": 118,
   "metadata": {},
   "outputs": [
    {
     "data": {
      "text/plain": [
       "Text(0.5, 1.0, '3000 \"random\" clifford all-Z expectation')"
      ]
     },
     "execution_count": 118,
     "metadata": {},
     "output_type": "execute_result"
    },
    {
     "data": {
      "image/png": "[encoded data removed]",
      "text/plain": [
       "<Figure size 432x288 with 1 Axes>"
      ]
     },
     "metadata": {},
     "output_type": "display_data"
    }
   ],
   "source": [
    "sns.histplot(out)\n",
    "plt.title('3000 \"random\" clifford all-Z expectation')"
   ]
  },
  {
   "cell_type": "markdown",
   "metadata": {},
   "source": [
    "# Generate Random Circuits (possibly non-Clifford)"
   ]
  },
  {
   "cell_type": "code",
   "execution_count": 43,
   "metadata": {},
   "outputs": [],
   "source": [
    "num_qubit = 4\n",
    "\n",
    "def construct_random_circuit(two_q_gate_depth):\n",
    "    if not two_q_gate_depth:\n",
    "        d = np.random.randint(1, 6)\n",
    "        rc = random_circuit(num_qubit, d, 1, measure=True)\n",
    "    elif 1 <= two_q_gate_depth <= 8:\n",
    "        rc = random_circuit(num_qubit, two_q_gate_depth*2, 2, measure=True)\n",
    "        while rc.depth(filter_function=lambda x: x[0].num_qubits == 2) != two_q_gate_depth:\n",
    "            rc = random_circuit(num_qubit, two_q_gate_depth*2, 2, measure=True)\n",
    "    elif 9 <= two_q_gate_depth <= 18:\n",
    "        assert two_q_gate_depth%2 == 0\n",
    "        half_depth = two_q_gate_depth // 2\n",
    "        rc1 = random_circuit(num_qubit, two_q_gate_depth, 2, measure=False)\n",
    "        while rc1.depth(filter_function=lambda x: x[0].num_qubits == 2) != half_depth:\n",
    "            rc1 = random_circuit(num_qubit, two_q_gate_depth, 2, measure=False)\n",
    "        rc2 = random_circuit(num_qubit, two_q_gate_depth, 2, measure=False)\n",
    "        while rc2.depth(filter_function=lambda x: x[0].num_qubits == 2) != half_depth:\n",
    "            rc2 = random_circuit(num_qubit, two_q_gate_depth, 2, measure=False)\n",
    "        rc = rc1.compose(rc2)\n",
    "        rc.measure_all()\n",
    "    else:\n",
    "        raise NotImplementedError\n",
    "    return rc\n",
    "\n",
    "# depths = [2, 7, 12, 17, 22, 27, 32, 37, 42, 47]\n",
    "depths = [2*i for i in range(5, 10)]\n",
    "\n",
    "def generate_data(generating_func, depths, save_path: str, n_entries_per_file: int):\n",
    "    for depth in depths:\n",
    "        entries = []\n",
    "\n",
    "        for i in tqdm_notebook(range(n_entries_per_file)):\n",
    "            circuit = generating_func(depth)\n",
    "            try:\n",
    "                circuit = transpile(circuit, backend_noisy, optimization_level=3)\n",
    "            except:\n",
    "                circuit = generating_func(depth)\n",
    "                circuit = transpile(circuit, backend_noisy, optimization_level=3)\n",
    "\n",
    "            job_ideal = execute(circuit, **run_config_ideal)\n",
    "            job_noisy = execute(circuit, **run_config_noisy)\n",
    "\n",
    "            counts_ideal = job_ideal.result().get_counts()\n",
    "            counts_noisy = job_noisy.result().get_counts()\n",
    "\n",
    "            ideal_exp_val = cal_z_exp(counts_ideal)\n",
    "            noisy_exp_val = cal_z_exp(counts_noisy)\n",
    "\n",
    "            graph_data = circuit_to_graph_data_json(\n",
    "                circuit=circuit,\n",
    "                properties=properties,\n",
    "                use_qubit_features=True,\n",
    "                use_gate_features=True,\n",
    "            )\n",
    "\n",
    "            entry = ExpValueEntry(\n",
    "                circuit_graph=graph_data,\n",
    "                observable=[],\n",
    "                ideal_exp_value=ideal_exp_val.tolist(),\n",
    "                noisy_exp_values=[noisy_exp_val.tolist()],\n",
    "                circuit_depth=circuit.depth()\n",
    "            )\n",
    "            entries.append(entry.to_dict())\n",
    "\n",
    "        path = f\"{save_path}/random_circuits_depth{depth}.json\"\n",
    "        with open(path, \"w\") as f:\n",
    "            # pprint(entries)\n",
    "            json.dump(entries, f)"
   ]
  },
  {
   "cell_type": "code",
   "execution_count": 44,
   "metadata": {},
   "outputs": [
    {
     "data": {
      "text/plain": "  0%|          | 0/500 [00:00<?, ?it/s]",
      "application/vnd.jupyter.widget-view+json": {
       "version_major": 2,
       "version_minor": 0,
       "model_id": "0a7dd2825c4846f1978978203e5f5de8"
      }
     },
     "metadata": {},
     "output_type": "display_data"
    },
    {
     "data": {
      "text/plain": "  0%|          | 0/500 [00:00<?, ?it/s]",
      "application/vnd.jupyter.widget-view+json": {
       "version_major": 2,
       "version_minor": 0,
       "model_id": "341d6aa1f3c54e03bc8df6f7629724d6"
      }
     },
     "metadata": {},
     "output_type": "display_data"
    },
    {
     "data": {
      "text/plain": "  0%|          | 0/500 [00:00<?, ?it/s]",
      "application/vnd.jupyter.widget-view+json": {
       "version_major": 2,
       "version_minor": 0,
       "model_id": "62e6e645cba847669755fd508a39c54e"
      }
     },
     "metadata": {},
     "output_type": "display_data"
    },
    {
     "data": {
      "text/plain": "  0%|          | 0/500 [00:00<?, ?it/s]",
      "application/vnd.jupyter.widget-view+json": {
       "version_major": 2,
       "version_minor": 0,
       "model_id": "613ee041ec384f889f8e58e0b664b912"
      }
     },
     "metadata": {},
     "output_type": "display_data"
    },
    {
     "ename": "KeyboardInterrupt",
     "evalue": "",
     "output_type": "error",
     "traceback": [
      "\u001B[0;31m---------------------------------------------------------------------------\u001B[0m",
      "\u001B[0;31mKeyboardInterrupt\u001B[0m                         Traceback (most recent call last)",
      "Input \u001B[0;32mIn [44]\u001B[0m, in \u001B[0;36m<cell line: 1>\u001B[0;34m()\u001B[0m\n\u001B[0;32m----> 1\u001B[0m \u001B[43mgenerate_data\u001B[49m\u001B[43m(\u001B[49m\u001B[43mconstruct_random_circuit\u001B[49m\u001B[43m,\u001B[49m\u001B[43m \u001B[49m\u001B[43mdepths\u001B[49m\u001B[43m,\u001B[49m\u001B[43m \u001B[49m\u001B[38;5;124;43m'\u001B[39;49m\u001B[38;5;124;43m./data/haoran_mbl/rc_train\u001B[39;49m\u001B[38;5;124;43m'\u001B[39;49m\u001B[43m,\u001B[49m\u001B[43m \u001B[49m\u001B[38;5;241;43m500\u001B[39;49m\u001B[43m)\u001B[49m\n",
      "Input \u001B[0;32mIn [43]\u001B[0m, in \u001B[0;36mgenerate_data\u001B[0;34m(generating_func, depths, save_path, n_entries_per_file)\u001B[0m\n\u001B[1;32m     33\u001B[0m entries \u001B[38;5;241m=\u001B[39m []\n\u001B[1;32m     35\u001B[0m \u001B[38;5;28;01mfor\u001B[39;00m i \u001B[38;5;129;01min\u001B[39;00m tqdm_notebook(\u001B[38;5;28mrange\u001B[39m(n_entries_per_file)):\n\u001B[0;32m---> 36\u001B[0m     circuit \u001B[38;5;241m=\u001B[39m \u001B[43mgenerating_func\u001B[49m\u001B[43m(\u001B[49m\u001B[43mdepth\u001B[49m\u001B[43m)\u001B[49m\n\u001B[1;32m     37\u001B[0m     \u001B[38;5;28;01mtry\u001B[39;00m:\n\u001B[1;32m     38\u001B[0m         circuit \u001B[38;5;241m=\u001B[39m transpile(circuit, backend_noisy, optimization_level\u001B[38;5;241m=\u001B[39m\u001B[38;5;241m3\u001B[39m)\n",
      "Input \u001B[0;32mIn [43]\u001B[0m, in \u001B[0;36mconstruct_random_circuit\u001B[0;34m(two_q_gate_depth)\u001B[0m\n\u001B[1;32m     19\u001B[0m rc2 \u001B[38;5;241m=\u001B[39m random_circuit(num_qubit, two_q_gate_depth, \u001B[38;5;241m2\u001B[39m, measure\u001B[38;5;241m=\u001B[39m\u001B[38;5;28;01mFalse\u001B[39;00m)\n\u001B[1;32m     20\u001B[0m \u001B[38;5;28;01mwhile\u001B[39;00m rc2\u001B[38;5;241m.\u001B[39mdepth(filter_function\u001B[38;5;241m=\u001B[39m\u001B[38;5;28;01mlambda\u001B[39;00m x: x[\u001B[38;5;241m0\u001B[39m]\u001B[38;5;241m.\u001B[39mnum_qubits \u001B[38;5;241m==\u001B[39m \u001B[38;5;241m2\u001B[39m) \u001B[38;5;241m!=\u001B[39m half_depth:\n\u001B[0;32m---> 21\u001B[0m     rc2 \u001B[38;5;241m=\u001B[39m \u001B[43mrandom_circuit\u001B[49m\u001B[43m(\u001B[49m\u001B[43mnum_qubit\u001B[49m\u001B[43m,\u001B[49m\u001B[43m \u001B[49m\u001B[43mtwo_q_gate_depth\u001B[49m\u001B[43m,\u001B[49m\u001B[43m \u001B[49m\u001B[38;5;241;43m2\u001B[39;49m\u001B[43m,\u001B[49m\u001B[43m \u001B[49m\u001B[43mmeasure\u001B[49m\u001B[38;5;241;43m=\u001B[39;49m\u001B[38;5;28;43;01mFalse\u001B[39;49;00m\u001B[43m)\u001B[49m\n\u001B[1;32m     22\u001B[0m rc \u001B[38;5;241m=\u001B[39m rc1\u001B[38;5;241m.\u001B[39mcompose(rc2)\n\u001B[1;32m     23\u001B[0m rc\u001B[38;5;241m.\u001B[39mmeasure_all()\n",
      "File \u001B[0;32m/opt/anaconda3/envs/ngem/lib/python3.10/site-packages/qiskit/circuit/random/utils.py:142\u001B[0m, in \u001B[0;36mrandom_circuit\u001B[0;34m(num_qubits, depth, max_operands, measure, conditional, reset, seed)\u001B[0m\n\u001B[1;32m    140\u001B[0m \u001B[38;5;28;01mif\u001B[39;00m seed \u001B[38;5;129;01mis\u001B[39;00m \u001B[38;5;28;01mNone\u001B[39;00m:\n\u001B[1;32m    141\u001B[0m     seed \u001B[38;5;241m=\u001B[39m np\u001B[38;5;241m.\u001B[39mrandom\u001B[38;5;241m.\u001B[39mrandint(\u001B[38;5;241m0\u001B[39m, np\u001B[38;5;241m.\u001B[39miinfo(np\u001B[38;5;241m.\u001B[39mint32)\u001B[38;5;241m.\u001B[39mmax)\n\u001B[0;32m--> 142\u001B[0m rng \u001B[38;5;241m=\u001B[39m \u001B[43mnp\u001B[49m\u001B[38;5;241;43m.\u001B[39;49m\u001B[43mrandom\u001B[49m\u001B[38;5;241;43m.\u001B[39;49m\u001B[43mdefault_rng\u001B[49m\u001B[43m(\u001B[49m\u001B[43mseed\u001B[49m\u001B[43m)\u001B[49m\n\u001B[1;32m    144\u001B[0m qubits \u001B[38;5;241m=\u001B[39m np\u001B[38;5;241m.\u001B[39marray(qc\u001B[38;5;241m.\u001B[39mqubits, dtype\u001B[38;5;241m=\u001B[39m\u001B[38;5;28mobject\u001B[39m, copy\u001B[38;5;241m=\u001B[39m\u001B[38;5;28;01mTrue\u001B[39;00m)\n\u001B[1;32m    146\u001B[0m \u001B[38;5;66;03m# Apply arbitrary random operations in layers across all qubits.\u001B[39;00m\n",
      "File \u001B[0;32m_generator.pyx:4849\u001B[0m, in \u001B[0;36mnumpy.random._generator.default_rng\u001B[0;34m()\u001B[0m\n",
      "File \u001B[0;32m_pcg64.pyx:121\u001B[0m, in \u001B[0;36mnumpy.random._pcg64.PCG64.__init__\u001B[0;34m()\u001B[0m\n",
      "File \u001B[0;32mbit_generator.pyx:517\u001B[0m, in \u001B[0;36mnumpy.random.bit_generator.BitGenerator.__init__\u001B[0;34m()\u001B[0m\n",
      "File \u001B[0;32mbit_generator.pyx:307\u001B[0m, in \u001B[0;36mnumpy.random.bit_generator.SeedSequence.__init__\u001B[0;34m()\u001B[0m\n",
      "File \u001B[0;32mbit_generator.pyx:392\u001B[0m, in \u001B[0;36mnumpy.random.bit_generator.SeedSequence.get_assembled_entropy\u001B[0;34m()\u001B[0m\n",
      "File \u001B[0;32m<__array_function__ internals>:180\u001B[0m, in \u001B[0;36mconcatenate\u001B[0;34m(*args, **kwargs)\u001B[0m\n",
      "\u001B[0;31mKeyboardInterrupt\u001B[0m: "
     ]
    }
   ],
   "source": [
    "generate_data(construct_random_circuit, depths, './data/haoran_mbl/rc_train', 500)"
   ]
  },
  {
   "cell_type": "markdown",
   "metadata": {},
   "source": []
  },
  {
   "cell_type": "markdown",
   "metadata": {},
   "source": [
    "# Training"
   ]
  },
  {
   "cell_type": "code",
   "execution_count": 100,
   "metadata": {},
   "outputs": [],
   "source": [
    "train_paths = [\n",
    "    './data/haoran_mbl/rc_train/random_clifford_5000.json',\n",
    "]\n",
    "# train_paths = [\n",
    "#     f'./data/haoran_mbl/rc_train/random_circuits_depth{i}.json' for i in range(0, 19, 2)\n",
    "# ]\n",
    "# train_paths = [\n",
    "#     f'./data/haoran_mbl/rc_train/random_circuits_depth{i}.json' for i in range(0, 19, 2)\n",
    "# ]\n",
    "\n",
    "val_paths = [\n",
    "     './data/mbd_datasets/val/step_5.json',\n",
    "     './data/mbd_datasets/val/step_4.json',\n",
    "     './data/mbd_datasets/val/step_3.json',\n",
    "     './data/mbd_datasets/val/step_2.json',\n",
    "     './data/mbd_datasets/val/step_1.json',\n",
    "     './data/mbd_datasets/val/step_0.json',\n",
    "     './data/mbd_datasets/val/step_6.json',\n",
    "    './data/mbd_datasets/val/step_7.json',\n",
    "    './data/mbd_datasets/val/step_8.json',\n",
    "    './data/mbd_datasets/val/step_9.json',\n",
    "]"
   ]
  },
  {
   "cell_type": "code",
   "execution_count": 101,
   "metadata": {},
   "outputs": [
    {
     "name": "stdout",
     "output_type": "stream",
     "text": [
      "DataBatch(x=[1863, 22], edge_index=[2, 4132], edge_attr=[2269, 3], y=[32, 1, 4], observable=[32, 0], circuit_depth=[32, 1], noisy_0=[32, 1, 4], batch=[1863], ptr=[33])\n"
     ]
    }
   ],
   "source": [
    "BATCH_SIZE = 32\n",
    "\n",
    "train_loader = DataLoader(\n",
    "    CircuitGraphExpValMitigationDataset(\n",
    "        train_paths,\n",
    "    ),\n",
    "    batch_size=BATCH_SIZE,\n",
    "    shuffle=True\n",
    ")\n",
    "\n",
    "val_loader = DataLoader(\n",
    "    CircuitGraphExpValMitigationDataset(\n",
    "        val_paths,\n",
    "    ),\n",
    "    batch_size=BATCH_SIZE,\n",
    "    shuffle=False\n",
    ")\n",
    "\n",
    "for data in train_loader:\n",
    "    print(data)\n",
    "    break"
   ]
  },
  {
   "cell_type": "code",
   "execution_count": 102,
   "metadata": {},
   "outputs": [],
   "source": [
    "model = ExpValCircuitGraphModel(\n",
    "    num_node_features=22,\n",
    "    hidden_channels=15\n",
    ")\n",
    "criterion = torch.nn.MSELoss()\n",
    "\n",
    "optimizer = Adam(model.parameters(), lr=0.001)\n",
    "scheduler = ReduceLROnPlateau(optimizer,\n",
    "                              'min',\n",
    "                              factor=0.1,\n",
    "                              patience=15,\n",
    "                              verbose=True,\n",
    "                              min_lr=0.00001)"
   ]
  },
  {
   "cell_type": "code",
   "execution_count": 103,
   "outputs": [
    {
     "data": {
      "text/plain": "13645"
     },
     "execution_count": 103,
     "metadata": {},
     "output_type": "execute_result"
    }
   ],
   "source": [
    "sum(p.numel() for p in model.parameters() if p.requires_grad)"
   ],
   "metadata": {
    "collapsed": false
   }
  },
  {
   "cell_type": "code",
   "execution_count": 104,
   "outputs": [
    {
     "name": "stdout",
     "output_type": "stream",
     "text": [
      "5024 2016\n"
     ]
    }
   ],
   "source": [
    "print(len(train_loader) * BATCH_SIZE, len(val_loader) * BATCH_SIZE)"
   ],
   "metadata": {
    "collapsed": false
   }
  },
  {
   "cell_type": "code",
   "execution_count": null,
   "outputs": [
    {
     "data": {
      "text/plain": "Model training:   0%|          | 0/100 [00:00<?, ?it/s]",
      "application/vnd.jupyter.widget-view+json": {
       "version_major": 2,
       "version_minor": 0,
       "model_id": "b13505864300456b8155f297b2c83b2e"
      }
     },
     "metadata": {},
     "output_type": "display_data"
    }
   ],
   "source": [
    "min_valid_loss = np.inf\n",
    "\n",
    "train_losses = []\n",
    "val_losses = []\n",
    "\n",
    "N_EPOCHS = 100\n",
    "\n",
    "progress = tqdm_notebook(range(N_EPOCHS), desc='Model training', leave=True)\n",
    "for epoch in progress:\n",
    "    train_loss = 0.0\n",
    "    model.train()\n",
    "    for i, data in enumerate(train_loader):\n",
    "        optimizer.zero_grad()\n",
    "\n",
    "        out = model(\n",
    "            data.noisy_0,\n",
    "            data.observable,\n",
    "            data.circuit_depth,\n",
    "            data.x,\n",
    "            data.edge_index,\n",
    "            data.batch\n",
    "        )\n",
    "        loss = criterion(out, torch.squeeze(data.y, 1))\n",
    "\n",
    "        train_loss += loss.item()\n",
    "\n",
    "        loss.backward()\n",
    "        optimizer.step()\n",
    "\n",
    "    valid_loss = 0.0\n",
    "    model.eval()\n",
    "    for i, data in enumerate(val_loader):\n",
    "        out = model(\n",
    "            data.noisy_0,\n",
    "            data.observable,\n",
    "            data.circuit_depth,\n",
    "            data.x,\n",
    "            data.edge_index,\n",
    "            data.batch)\n",
    "        loss = criterion(out, torch.squeeze(data.y, 1))\n",
    "\n",
    "        valid_loss += loss.item()\n",
    "\n",
    "    scheduler.step(valid_loss)\n",
    "\n",
    "    if epoch >= 1:\n",
    "        train_losses.append(train_loss / len(train_loader))\n",
    "        val_losses.append(valid_loss / len(val_loader))\n",
    "\n",
    "        progress.set_description(f\"{round(train_losses[-1], 5)}, {round(val_losses[-1], 5)}\")\n",
    "        progress.refresh()\n",
    "\n",
    "plt.plot(train_losses, label=\"train_loss\")\n",
    "plt.plot(val_losses, label=\"val_loss\")\n",
    "plt.yscale('log')\n",
    "\n",
    "plt.legend()\n",
    "plt.show()"
   ],
   "metadata": {
    "collapsed": false,
    "pycharm": {
     "is_executing": true
    }
   }
  },
  {
   "cell_type": "code",
   "execution_count": null,
   "outputs": [],
   "source": [
    "model_path = './model/haoran_mbl/random_clifford_5000.pth'"
   ],
   "metadata": {
    "collapsed": false,
    "pycharm": {
     "is_executing": true
    }
   }
  },
  {
   "cell_type": "code",
   "execution_count": 96,
   "outputs": [],
   "source": [
    "import pickle\n",
    "\n",
    "to_save = {'train_losses': train_losses, 'val_losses': val_losses}\n",
    "with open(model_path[:-3]+'pk', 'wb') as handle:\n",
    "    pickle.dump(to_save, handle, protocol=pickle.HIGHEST_PROTOCOL)"
   ],
   "metadata": {
    "collapsed": false
   }
  },
  {
   "cell_type": "code",
   "execution_count": 69,
   "outputs": [
    {
     "data": {
      "text/plain": "dict_keys(['train_losses', 'val_losses', 'distances'])"
     },
     "execution_count": 69,
     "metadata": {},
     "output_type": "execute_result"
    }
   ],
   "source": [
    "# with open('./model/haoran_mbl/random_circuits_2q_depths.pk', 'rb') as handle:\n",
    "#     b = pickle.load(handle)"
   ],
   "metadata": {
    "collapsed": false
   }
  },
  {
   "cell_type": "code",
   "execution_count": null,
   "outputs": [],
   "source": [
    "# torch.save(model.state_dict(), model_path)"
   ],
   "metadata": {
    "collapsed": false
   }
  },
  {
   "cell_type": "code",
   "execution_count": 95,
   "outputs": [
    {
     "data": {
      "text/plain": "<Figure size 432x288 with 1 Axes>",
      "image/png": "[encoded data removed]"
     },
     "metadata": {},
     "output_type": "display_data"
    },
    {
     "data": {
      "text/plain": "<Figure size 432x288 with 1 Axes>",
      "image/png": "[encoded data removed]"
     },
     "metadata": {},
     "output_type": "display_data"
    }
   ],
   "source": [
    "distances = []\n",
    "for i, data in enumerate(val_loader):\n",
    "    out = model(data.noisy_0, data.observable, data.circuit_depth, data.x, data.edge_index, data.batch)\n",
    "\n",
    "    for ideal, noisy, ngm_mitigated in zip(\n",
    "        data.y.tolist(),\n",
    "        data.noisy_0.tolist(),\n",
    "        out.tolist()\n",
    "    ):\n",
    "        ideal = np.mean(ideal)\n",
    "        noisy = np.mean(noisy)\n",
    "        ngm_mitigated = np.mean(ngm_mitigated)\n",
    "        distances.append({\n",
    "            \"ideal\": ideal,\n",
    "            \"noisy\": noisy,\n",
    "            \"ngm_mitigated\": ngm_mitigated,\n",
    "            \"dist_noisy\": np.abs(ideal - noisy),\n",
    "            \"dist_ngm\": np.abs(ideal - ngm_mitigated),\n",
    "        })\n",
    "\n",
    "df = pd.DataFrame(distances)\n",
    "sns.boxplot(data=df[[\"dist_noisy\", \"dist_ngm\"]], orient=\"h\", showfliers = False)\n",
    "plt.title(\"Dist to ideal exp value\")\n",
    "plt.show()\n",
    "\n",
    "sns.histplot([df['ideal'], df['noisy'], df[\"ngm_mitigated\"]], kde=True, bins=40)\n",
    "plt.title(\"Exp values distribution\")\n",
    "plt.show()"
   ],
   "metadata": {
    "collapsed": false
   }
  },
  {
   "cell_type": "markdown",
   "metadata": {},
   "source": []
  },
  {
   "cell_type": "markdown",
   "metadata": {},
   "source": [
    "# Test on charge imbalance on newly generated MBL circuits"
   ]
  },
  {
   "cell_type": "code",
   "execution_count": 92,
   "outputs": [
    {
     "data": {
      "text/plain": "'./model/haoran_mbl/random_clifford_5000.pth'"
     },
     "execution_count": 92,
     "metadata": {},
     "output_type": "execute_result"
    }
   ],
   "source": [
    "model_path"
   ],
   "metadata": {
    "collapsed": false
   }
  },
  {
   "cell_type": "code",
   "execution_count": 94,
   "metadata": {},
   "outputs": [
    {
     "data": {
      "text/plain": "ExpValCircuitGraphModel(\n  (transformer1): TransformerConv(22, 15, heads=3)\n  (pooling1): ASAPooling(45, ratio=0.5)\n  (transformer2): TransformerConv(45, 15, heads=2)\n  (pooling2): ASAPooling(30, ratio=0.5)\n  (body_seq): Sequential(\n    (0): Linear(35, 15, bias=True)\n    (1): Dropout(p=0.2, inplace=False)\n    (2): Linear(15, 4, bias=True)\n  )\n)"
     },
     "execution_count": 94,
     "metadata": {},
     "output_type": "execute_result"
    }
   ],
   "source": [
    "model = ExpValCircuitGraphModel(\n",
    "    num_node_features=22,\n",
    "    hidden_channels=15\n",
    ")\n",
    "model.load_state_dict(torch.load(model_path))\n",
    "model.eval()"
   ]
  },
  {
   "cell_type": "code",
   "execution_count": 88,
   "metadata": {},
   "outputs": [
    {
     "data": {
      "text/plain": "  0%|          | 0/30 [00:00<?, ?it/s]",
      "application/vnd.jupyter.widget-view+json": {
       "version_major": 2,
       "version_minor": 0,
       "model_id": "1330ee50d9cc4b1881c9235398539fcf"
      }
     },
     "metadata": {},
     "output_type": "display_data"
    }
   ],
   "source": [
    "## Now we need to average over many disorders\n",
    "num_disorders = 30\n",
    "\n",
    "num_spins = 4 # Number of spins. Must be even.\n",
    "W = 0.8 * np.pi # Disorder strength up to np.pi\n",
    "theta = 0.05 * np.pi # Interaction strength up to np.pi\n",
    "max_steps = 10\n",
    "\n",
    "even_qubits = np.linspace(0, num_spins, int(num_spins/2), endpoint=False)\n",
    "odd_qubits = np.linspace(1, num_spins+1, int(num_spins/2), endpoint=False)\n",
    "\n",
    "# For each disorder realization, make a new disorder\n",
    "# and compute the charge imbalance using the same physics parameters as before\n",
    "imbalance_all_ideal = []\n",
    "imbalance_all_noisy = []\n",
    "imbalance_all_mitigated = []\n",
    "\n",
    "for disorder_realization in tqdm_notebook(range(num_disorders)):\n",
    "    disorders = generate_disorder(num_spins, W, seed=disorder_realization)\n",
    "\n",
    "    qc_list = []\n",
    "    for steps in range(max_steps):\n",
    "        qc_list.append(construct_mbl_circuit(num_spins, disorders, theta, steps))\n",
    "\n",
    "    transpiled_qc_list = transpile(qc_list, backend_noisy, optimization_level=3)\n",
    "    job_ideal = execute(qc_list, **run_config_ideal)\n",
    "    job_noisy = execute(transpiled_qc_list, **run_config_noisy)\n",
    "\n",
    "    exp_Z_ideal = []\n",
    "    exp_Z_noisy = []\n",
    "    exp_Z_mitigated = []\n",
    "\n",
    "\n",
    "    for i in range(len(qc_list)):\n",
    "        counts_ideal = job_ideal.result().get_counts()[i]\n",
    "        counts_noisy = job_noisy.result().get_counts()[i]\n",
    "\n",
    "        ideal_exp_val = cal_z_exp(counts_ideal)\n",
    "        noisy_exp_val = cal_z_exp(counts_noisy)\n",
    "\n",
    "        exp_Z_ideal.append(list(ideal_exp_val)) # Single-Z expectation value of each qubit\n",
    "        exp_Z_noisy.append(list(noisy_exp_val)) # Single-Z expectation value of each qubit\n",
    "\n",
    "        graph_data = circuit_to_graph_data_json(\n",
    "            circuit=transpiled_qc_list[i],\n",
    "            properties=properties,\n",
    "            use_qubit_features=True,\n",
    "            use_gate_features=True,\n",
    "        )\n",
    "\n",
    "        entry = ExpValueEntry(\n",
    "            circuit_graph=graph_data,\n",
    "            observable=[],\n",
    "            ideal_exp_value=ideal_exp_val.tolist(),\n",
    "            noisy_exp_values=[\n",
    "                noisy_exp_val.tolist()\n",
    "            ],\n",
    "            circuit_depth=transpiled_qc_list[i].depth()\n",
    "        ).to_pyg_data()\n",
    "\n",
    "        # print(entry.batch)\n",
    "        mitigated_exp_val = model(entry.noisy_0,\n",
    "                            entry.observable,\n",
    "                            entry.circuit_depth,\n",
    "                            entry.x,\n",
    "                            entry.edge_index,\n",
    "                            entry.batch).tolist()[0]\n",
    "\n",
    "        exp_Z_mitigated.append(mitigated_exp_val)\n",
    "\n",
    "    imbalance_ideal = calc_imbalance(exp_Z_ideal, even_qubits, odd_qubits)\n",
    "    imbalance_noisy = calc_imbalance(exp_Z_noisy, even_qubits, odd_qubits)\n",
    "    imbalance_mitigated = calc_imbalance(exp_Z_mitigated, even_qubits, odd_qubits)\n",
    "\n",
    "\n",
    "    imbalance_all_ideal.append(imbalance_ideal)\n",
    "    imbalance_all_noisy.append(imbalance_noisy)\n",
    "    imbalance_all_mitigated.append(imbalance_mitigated)\n",
    "\n",
    "# Average imbalance\n",
    "imbalance_ideal_average = np.mean(imbalance_all_ideal, axis=0)\n",
    "imbalance_noisy_average = np.mean(imbalance_all_noisy, axis=0)\n",
    "imbalance_mitigated_average = np.mean(imbalance_all_mitigated, axis=0)"
   ]
  },
  {
   "cell_type": "code",
   "execution_count": 90,
   "metadata": {},
   "outputs": [
    {
     "data": {
      "text/plain": "<Figure size 432x288 with 1 Axes>",
      "image/png": "[encoded data removed]"
     },
     "metadata": {},
     "output_type": "display_data"
    }
   ],
   "source": [
    "## Plot\n",
    "for disorder_realization in range(num_disorders):\n",
    "    plt.plot(imbalance_all_ideal[disorder_realization], color=(0.0, 0.0, 1.0, 0.1))\n",
    "    plt.plot(imbalance_all_noisy[disorder_realization], color=(1.0, 0.0, 0.0, 0.1))\n",
    "    plt.plot(imbalance_all_mitigated[disorder_realization], color=(0.0, 1.0, 0.0, 0.1))\n",
    "\n",
    "plt.plot(imbalance_ideal_average, color='blue', label=\"ideal\")\n",
    "plt.plot(imbalance_noisy_average, color='red', label=\"noisy\")\n",
    "plt.plot(imbalance_mitigated_average, color='green', label=\"mitigated\")\n",
    "\n",
    "plt.xlabel('Floquet steps')\n",
    "plt.ylabel('Imbalance')\n",
    "plt.legend()\n",
    "plt.show()"
   ]
  },
  {
   "cell_type": "code",
   "execution_count": null,
   "metadata": {},
   "outputs": [],
   "source": []
  },
  {
   "cell_type": "markdown",
   "source": [
    "## Extrapolation"
   ],
   "metadata": {
    "collapsed": false
   }
  },
  {
   "cell_type": "code",
   "execution_count": 91,
   "outputs": [
    {
     "data": {
      "text/plain": "  0%|          | 0/30 [00:00<?, ?it/s]",
      "application/vnd.jupyter.widget-view+json": {
       "version_major": 2,
       "version_minor": 0,
       "model_id": "41118da72edc46e2a26956d76e083b20"
      }
     },
     "metadata": {},
     "output_type": "display_data"
    },
    {
     "ename": "KeyboardInterrupt",
     "evalue": "",
     "output_type": "error",
     "traceback": [
      "\u001B[0;31m---------------------------------------------------------------------------\u001B[0m",
      "\u001B[0;31mKeyboardInterrupt\u001B[0m                         Traceback (most recent call last)",
      "Input \u001B[0;32mIn [91]\u001B[0m, in \u001B[0;36m<cell line: 10>\u001B[0;34m()\u001B[0m\n\u001B[1;32m     14\u001B[0m \u001B[38;5;28;01mfor\u001B[39;00m steps \u001B[38;5;129;01min\u001B[39;00m \u001B[38;5;28mrange\u001B[39m(max_steps \u001B[38;5;241m+\u001B[39m \u001B[38;5;241m10\u001B[39m):\n\u001B[1;32m     15\u001B[0m     qc_list\u001B[38;5;241m.\u001B[39mappend(construct_mbl_circuit(num_spins, disorders, theta, steps))\n\u001B[0;32m---> 17\u001B[0m transpiled_qc_list \u001B[38;5;241m=\u001B[39m \u001B[43mtranspile\u001B[49m\u001B[43m(\u001B[49m\u001B[43mqc_list\u001B[49m\u001B[43m,\u001B[49m\u001B[43m \u001B[49m\u001B[43mbackend_noisy\u001B[49m\u001B[43m,\u001B[49m\u001B[43m \u001B[49m\u001B[43moptimization_level\u001B[49m\u001B[38;5;241;43m=\u001B[39;49m\u001B[38;5;241;43m3\u001B[39;49m\u001B[43m)\u001B[49m\n\u001B[1;32m     18\u001B[0m job_ideal \u001B[38;5;241m=\u001B[39m execute(qc_list, \u001B[38;5;241m*\u001B[39m\u001B[38;5;241m*\u001B[39mrun_config_ideal)\n\u001B[1;32m     19\u001B[0m job_noisy \u001B[38;5;241m=\u001B[39m execute(transpiled_qc_list, \u001B[38;5;241m*\u001B[39m\u001B[38;5;241m*\u001B[39mrun_config_noisy)\n",
      "File \u001B[0;32m/opt/anaconda3/envs/ngem/lib/python3.10/site-packages/qiskit/compiler/transpiler.py:381\u001B[0m, in \u001B[0;36mtranspile\u001B[0;34m(circuits, backend, basis_gates, inst_map, coupling_map, backend_properties, initial_layout, layout_method, routing_method, translation_method, scheduling_method, instruction_durations, dt, approximation_degree, timing_constraints, seed_transpiler, optimization_level, callback, output_name, unitary_synthesis_method, unitary_synthesis_plugin_config, target, hls_config, init_method, optimization_method, ignore_backend_supplied_default_methods)\u001B[0m\n\u001B[1;32m    378\u001B[0m     \u001B[38;5;28;01mfor\u001B[39;00m circuit, unique_args \u001B[38;5;129;01min\u001B[39;00m \u001B[38;5;28mzip\u001B[39m(circuits, unique_transpile_args):\n\u001B[1;32m    379\u001B[0m         transpile_config, pass_manager \u001B[38;5;241m=\u001B[39m _combine_args(shared_args, unique_args)\n\u001B[1;32m    380\u001B[0m         output_circuits\u001B[38;5;241m.\u001B[39mappend(\n\u001B[0;32m--> 381\u001B[0m             \u001B[43m_serial_transpile_circuit\u001B[49m\u001B[43m(\u001B[49m\n\u001B[1;32m    382\u001B[0m \u001B[43m                \u001B[49m\u001B[43mcircuit\u001B[49m\u001B[43m,\u001B[49m\n\u001B[1;32m    383\u001B[0m \u001B[43m                \u001B[49m\u001B[43mpass_manager\u001B[49m\u001B[43m,\u001B[49m\n\u001B[1;32m    384\u001B[0m \u001B[43m                \u001B[49m\u001B[43mtranspile_config\u001B[49m\u001B[43m[\u001B[49m\u001B[38;5;124;43m\"\u001B[39;49m\u001B[38;5;124;43mcallback\u001B[39;49m\u001B[38;5;124;43m\"\u001B[39;49m\u001B[43m]\u001B[49m\u001B[43m,\u001B[49m\n\u001B[1;32m    385\u001B[0m \u001B[43m                \u001B[49m\u001B[43mtranspile_config\u001B[49m\u001B[43m[\u001B[49m\u001B[38;5;124;43m\"\u001B[39;49m\u001B[38;5;124;43moutput_name\u001B[39;49m\u001B[38;5;124;43m\"\u001B[39;49m\u001B[43m]\u001B[49m\u001B[43m,\u001B[49m\n\u001B[1;32m    386\u001B[0m \u001B[43m                \u001B[49m\u001B[43mtranspile_config\u001B[49m\u001B[43m[\u001B[49m\u001B[38;5;124;43m\"\u001B[39;49m\u001B[38;5;124;43mbackend_num_qubits\u001B[39;49m\u001B[38;5;124;43m\"\u001B[39;49m\u001B[43m]\u001B[49m\u001B[43m,\u001B[49m\n\u001B[1;32m    387\u001B[0m \u001B[43m                \u001B[49m\u001B[43mtranspile_config\u001B[49m\u001B[43m[\u001B[49m\u001B[38;5;124;43m\"\u001B[39;49m\u001B[38;5;124;43mfaulty_qubits_map\u001B[39;49m\u001B[38;5;124;43m\"\u001B[39;49m\u001B[43m]\u001B[49m\u001B[43m,\u001B[49m\n\u001B[1;32m    388\u001B[0m \u001B[43m                \u001B[49m\u001B[43mtranspile_config\u001B[49m\u001B[43m[\u001B[49m\u001B[38;5;124;43m\"\u001B[39;49m\u001B[38;5;124;43mpass_manager_config\u001B[39;49m\u001B[38;5;124;43m\"\u001B[39;49m\u001B[43m]\u001B[49m\u001B[38;5;241;43m.\u001B[39;49m\u001B[43mbackend_properties\u001B[49m\u001B[43m,\u001B[49m\n\u001B[1;32m    389\u001B[0m \u001B[43m            \u001B[49m\u001B[43m)\u001B[49m\n\u001B[1;32m    390\u001B[0m         )\n\u001B[1;32m    391\u001B[0m     circuits \u001B[38;5;241m=\u001B[39m output_circuits\n\u001B[1;32m    392\u001B[0m end_time \u001B[38;5;241m=\u001B[39m time()\n",
      "File \u001B[0;32m/opt/anaconda3/envs/ngem/lib/python3.10/site-packages/qiskit/compiler/transpiler.py:474\u001B[0m, in \u001B[0;36m_serial_transpile_circuit\u001B[0;34m(circuit, pass_manager, callback, output_name, num_qubits, faulty_qubits_map, backend_prop)\u001B[0m\n\u001B[1;32m    465\u001B[0m \u001B[38;5;28;01mdef\u001B[39;00m \u001B[38;5;21m_serial_transpile_circuit\u001B[39m(\n\u001B[1;32m    466\u001B[0m     circuit,\n\u001B[1;32m    467\u001B[0m     pass_manager,\n\u001B[0;32m   (...)\u001B[0m\n\u001B[1;32m    472\u001B[0m     backend_prop\u001B[38;5;241m=\u001B[39m\u001B[38;5;28;01mNone\u001B[39;00m,\n\u001B[1;32m    473\u001B[0m ):\n\u001B[0;32m--> 474\u001B[0m     result \u001B[38;5;241m=\u001B[39m \u001B[43mpass_manager\u001B[49m\u001B[38;5;241;43m.\u001B[39;49m\u001B[43mrun\u001B[49m\u001B[43m(\u001B[49m\u001B[43mcircuit\u001B[49m\u001B[43m,\u001B[49m\u001B[43m \u001B[49m\u001B[43mcallback\u001B[49m\u001B[38;5;241;43m=\u001B[39;49m\u001B[43mcallback\u001B[49m\u001B[43m,\u001B[49m\u001B[43m \u001B[49m\u001B[43moutput_name\u001B[49m\u001B[38;5;241;43m=\u001B[39;49m\u001B[43moutput_name\u001B[49m\u001B[43m)\u001B[49m\n\u001B[1;32m    475\u001B[0m     \u001B[38;5;28;01mif\u001B[39;00m faulty_qubits_map:\n\u001B[1;32m    476\u001B[0m         \u001B[38;5;28;01mreturn\u001B[39;00m _remap_circuit_faulty_backend(\n\u001B[1;32m    477\u001B[0m             result,\n\u001B[1;32m    478\u001B[0m             num_qubits,\n\u001B[1;32m    479\u001B[0m             backend_prop,\n\u001B[1;32m    480\u001B[0m             faulty_qubits_map,\n\u001B[1;32m    481\u001B[0m         )\n",
      "File \u001B[0;32m/opt/anaconda3/envs/ngem/lib/python3.10/site-packages/qiskit/transpiler/passmanager.py:528\u001B[0m, in \u001B[0;36mStagedPassManager.run\u001B[0;34m(self, circuits, output_name, callback)\u001B[0m\n\u001B[1;32m    521\u001B[0m \u001B[38;5;28;01mdef\u001B[39;00m \u001B[38;5;21mrun\u001B[39m(\n\u001B[1;32m    522\u001B[0m     \u001B[38;5;28mself\u001B[39m,\n\u001B[1;32m    523\u001B[0m     circuits: Union[QuantumCircuit, List[QuantumCircuit]],\n\u001B[1;32m    524\u001B[0m     output_name: \u001B[38;5;28mstr\u001B[39m \u001B[38;5;241m=\u001B[39m \u001B[38;5;28;01mNone\u001B[39;00m,\n\u001B[1;32m    525\u001B[0m     callback: Callable \u001B[38;5;241m=\u001B[39m \u001B[38;5;28;01mNone\u001B[39;00m,\n\u001B[1;32m    526\u001B[0m ) \u001B[38;5;241m-\u001B[39m\u001B[38;5;241m>\u001B[39m Union[QuantumCircuit, List[QuantumCircuit]]:\n\u001B[1;32m    527\u001B[0m     \u001B[38;5;28mself\u001B[39m\u001B[38;5;241m.\u001B[39m_update_passmanager()\n\u001B[0;32m--> 528\u001B[0m     \u001B[38;5;28;01mreturn\u001B[39;00m \u001B[38;5;28;43msuper\u001B[39;49m\u001B[43m(\u001B[49m\u001B[43m)\u001B[49m\u001B[38;5;241;43m.\u001B[39;49m\u001B[43mrun\u001B[49m\u001B[43m(\u001B[49m\u001B[43mcircuits\u001B[49m\u001B[43m,\u001B[49m\u001B[43m \u001B[49m\u001B[43moutput_name\u001B[49m\u001B[43m,\u001B[49m\u001B[43m \u001B[49m\u001B[43mcallback\u001B[49m\u001B[43m)\u001B[49m\n",
      "File \u001B[0;32m/opt/anaconda3/envs/ngem/lib/python3.10/site-packages/qiskit/transpiler/passmanager.py:228\u001B[0m, in \u001B[0;36mPassManager.run\u001B[0;34m(self, circuits, output_name, callback)\u001B[0m\n\u001B[1;32m    226\u001B[0m     \u001B[38;5;28;01mreturn\u001B[39;00m circuits\n\u001B[1;32m    227\u001B[0m \u001B[38;5;28;01mif\u001B[39;00m \u001B[38;5;28misinstance\u001B[39m(circuits, QuantumCircuit):\n\u001B[0;32m--> 228\u001B[0m     \u001B[38;5;28;01mreturn\u001B[39;00m \u001B[38;5;28;43mself\u001B[39;49m\u001B[38;5;241;43m.\u001B[39;49m\u001B[43m_run_single_circuit\u001B[49m\u001B[43m(\u001B[49m\u001B[43mcircuits\u001B[49m\u001B[43m,\u001B[49m\u001B[43m \u001B[49m\u001B[43moutput_name\u001B[49m\u001B[43m,\u001B[49m\u001B[43m \u001B[49m\u001B[43mcallback\u001B[49m\u001B[43m)\u001B[49m\n\u001B[1;32m    229\u001B[0m \u001B[38;5;28;01mif\u001B[39;00m \u001B[38;5;28mlen\u001B[39m(circuits) \u001B[38;5;241m==\u001B[39m \u001B[38;5;241m1\u001B[39m:\n\u001B[1;32m    230\u001B[0m     \u001B[38;5;28;01mreturn\u001B[39;00m \u001B[38;5;28mself\u001B[39m\u001B[38;5;241m.\u001B[39m_run_single_circuit(circuits[\u001B[38;5;241m0\u001B[39m], output_name, callback)\n",
      "File \u001B[0;32m/opt/anaconda3/envs/ngem/lib/python3.10/site-packages/qiskit/transpiler/passmanager.py:283\u001B[0m, in \u001B[0;36mPassManager._run_single_circuit\u001B[0;34m(self, circuit, output_name, callback)\u001B[0m\n\u001B[1;32m    271\u001B[0m \u001B[38;5;250m\u001B[39m\u001B[38;5;124;03m\"\"\"Run all the passes on a ``circuit``.\u001B[39;00m\n\u001B[1;32m    272\u001B[0m \n\u001B[1;32m    273\u001B[0m \u001B[38;5;124;03mArgs:\u001B[39;00m\n\u001B[0;32m   (...)\u001B[0m\n\u001B[1;32m    280\u001B[0m \u001B[38;5;124;03m    The transformed circuit.\u001B[39;00m\n\u001B[1;32m    281\u001B[0m \u001B[38;5;124;03m\"\"\"\u001B[39;00m\n\u001B[1;32m    282\u001B[0m running_passmanager \u001B[38;5;241m=\u001B[39m \u001B[38;5;28mself\u001B[39m\u001B[38;5;241m.\u001B[39m_create_running_passmanager()\n\u001B[0;32m--> 283\u001B[0m result \u001B[38;5;241m=\u001B[39m \u001B[43mrunning_passmanager\u001B[49m\u001B[38;5;241;43m.\u001B[39;49m\u001B[43mrun\u001B[49m\u001B[43m(\u001B[49m\u001B[43mcircuit\u001B[49m\u001B[43m,\u001B[49m\u001B[43m \u001B[49m\u001B[43moutput_name\u001B[49m\u001B[38;5;241;43m=\u001B[39;49m\u001B[43moutput_name\u001B[49m\u001B[43m,\u001B[49m\u001B[43m \u001B[49m\u001B[43mcallback\u001B[49m\u001B[38;5;241;43m=\u001B[39;49m\u001B[43mcallback\u001B[49m\u001B[43m)\u001B[49m\n\u001B[1;32m    284\u001B[0m \u001B[38;5;28mself\u001B[39m\u001B[38;5;241m.\u001B[39mproperty_set \u001B[38;5;241m=\u001B[39m running_passmanager\u001B[38;5;241m.\u001B[39mproperty_set\n\u001B[1;32m    285\u001B[0m \u001B[38;5;28;01mreturn\u001B[39;00m result\n",
      "File \u001B[0;32m/opt/anaconda3/envs/ngem/lib/python3.10/site-packages/qiskit/transpiler/runningpassmanager.py:125\u001B[0m, in \u001B[0;36mRunningPassManager.run\u001B[0;34m(***failed resolving arguments***)\u001B[0m\n\u001B[1;32m    123\u001B[0m \u001B[38;5;28;01mfor\u001B[39;00m passset \u001B[38;5;129;01min\u001B[39;00m \u001B[38;5;28mself\u001B[39m\u001B[38;5;241m.\u001B[39mworking_list:\n\u001B[1;32m    124\u001B[0m     \u001B[38;5;28;01mfor\u001B[39;00m pass_ \u001B[38;5;129;01min\u001B[39;00m passset:\n\u001B[0;32m--> 125\u001B[0m         dag \u001B[38;5;241m=\u001B[39m \u001B[38;5;28;43mself\u001B[39;49m\u001B[38;5;241;43m.\u001B[39;49m\u001B[43m_do_pass\u001B[49m\u001B[43m(\u001B[49m\u001B[43mpass_\u001B[49m\u001B[43m,\u001B[49m\u001B[43m \u001B[49m\u001B[43mdag\u001B[49m\u001B[43m,\u001B[49m\u001B[43m \u001B[49m\u001B[43mpassset\u001B[49m\u001B[38;5;241;43m.\u001B[39;49m\u001B[43moptions\u001B[49m\u001B[43m)\u001B[49m\n\u001B[1;32m    127\u001B[0m circuit \u001B[38;5;241m=\u001B[39m dag_to_circuit(dag)\n\u001B[1;32m    128\u001B[0m \u001B[38;5;28;01mif\u001B[39;00m output_name:\n",
      "File \u001B[0;32m/opt/anaconda3/envs/ngem/lib/python3.10/site-packages/qiskit/transpiler/runningpassmanager.py:173\u001B[0m, in \u001B[0;36mRunningPassManager._do_pass\u001B[0;34m(self, pass_, dag, options)\u001B[0m\n\u001B[1;32m    171\u001B[0m \u001B[38;5;66;03m# Run the pass itself, if not already run\u001B[39;00m\n\u001B[1;32m    172\u001B[0m \u001B[38;5;28;01mif\u001B[39;00m pass_ \u001B[38;5;129;01mnot\u001B[39;00m \u001B[38;5;129;01min\u001B[39;00m \u001B[38;5;28mself\u001B[39m\u001B[38;5;241m.\u001B[39mvalid_passes:\n\u001B[0;32m--> 173\u001B[0m     dag \u001B[38;5;241m=\u001B[39m \u001B[38;5;28;43mself\u001B[39;49m\u001B[38;5;241;43m.\u001B[39;49m\u001B[43m_run_this_pass\u001B[49m\u001B[43m(\u001B[49m\u001B[43mpass_\u001B[49m\u001B[43m,\u001B[49m\u001B[43m \u001B[49m\u001B[43mdag\u001B[49m\u001B[43m)\u001B[49m\n\u001B[1;32m    175\u001B[0m     \u001B[38;5;66;03m# update the valid_passes property\u001B[39;00m\n\u001B[1;32m    176\u001B[0m     \u001B[38;5;28mself\u001B[39m\u001B[38;5;241m.\u001B[39m_update_valid_passes(pass_)\n",
      "File \u001B[0;32m/opt/anaconda3/envs/ngem/lib/python3.10/site-packages/qiskit/transpiler/runningpassmanager.py:202\u001B[0m, in \u001B[0;36mRunningPassManager._run_this_pass\u001B[0;34m(self, pass_, dag)\u001B[0m\n\u001B[1;32m    199\u001B[0m \u001B[38;5;28;01mif\u001B[39;00m pass_\u001B[38;5;241m.\u001B[39mis_transformation_pass:\n\u001B[1;32m    200\u001B[0m     \u001B[38;5;66;03m# Measure time if we have a callback or logging set\u001B[39;00m\n\u001B[1;32m    201\u001B[0m     start_time \u001B[38;5;241m=\u001B[39m time()\n\u001B[0;32m--> 202\u001B[0m     new_dag \u001B[38;5;241m=\u001B[39m \u001B[43mpass_\u001B[49m\u001B[38;5;241;43m.\u001B[39;49m\u001B[43mrun\u001B[49m\u001B[43m(\u001B[49m\u001B[43mdag\u001B[49m\u001B[43m)\u001B[49m\n\u001B[1;32m    203\u001B[0m     end_time \u001B[38;5;241m=\u001B[39m time()\n\u001B[1;32m    204\u001B[0m     run_time \u001B[38;5;241m=\u001B[39m end_time \u001B[38;5;241m-\u001B[39m start_time\n",
      "File \u001B[0;32m/opt/anaconda3/envs/ngem/lib/python3.10/site-packages/qiskit/transpiler/passes/optimization/consolidate_blocks.py:107\u001B[0m, in \u001B[0;36mConsolidateBlocks.run\u001B[0;34m(self, dag)\u001B[0m\n\u001B[1;32m    105\u001B[0m         outside_basis \u001B[38;5;241m=\u001B[39m \u001B[38;5;28;01mTrue\u001B[39;00m\n\u001B[1;32m    106\u001B[0m     qc\u001B[38;5;241m.\u001B[39mappend(nd\u001B[38;5;241m.\u001B[39mop, [q[block_index_map[i]] \u001B[38;5;28;01mfor\u001B[39;00m i \u001B[38;5;129;01min\u001B[39;00m nd\u001B[38;5;241m.\u001B[39mqargs])\n\u001B[0;32m--> 107\u001B[0m unitary \u001B[38;5;241m=\u001B[39m UnitaryGate(\u001B[43mOperator\u001B[49m\u001B[43m(\u001B[49m\u001B[43mqc\u001B[49m\u001B[43m)\u001B[49m)\n\u001B[1;32m    109\u001B[0m max_2q_depth \u001B[38;5;241m=\u001B[39m \u001B[38;5;241m20\u001B[39m  \u001B[38;5;66;03m# If depth > 20, there will be 1q gates to consolidate.\u001B[39;00m\n\u001B[1;32m    110\u001B[0m \u001B[38;5;28;01mif\u001B[39;00m (  \u001B[38;5;66;03m# pylint: disable=too-many-boolean-expressions\u001B[39;00m\n\u001B[1;32m    111\u001B[0m     \u001B[38;5;28mself\u001B[39m\u001B[38;5;241m.\u001B[39mforce_consolidate\n\u001B[1;32m    112\u001B[0m     \u001B[38;5;129;01mor\u001B[39;00m unitary\u001B[38;5;241m.\u001B[39mnum_qubits \u001B[38;5;241m>\u001B[39m \u001B[38;5;241m2\u001B[39m\n\u001B[0;32m   (...)\u001B[0m\n\u001B[1;32m    116\u001B[0m     \u001B[38;5;129;01mor\u001B[39;00m ((\u001B[38;5;28mself\u001B[39m\u001B[38;5;241m.\u001B[39mtarget \u001B[38;5;129;01mis\u001B[39;00m \u001B[38;5;129;01mnot\u001B[39;00m \u001B[38;5;28;01mNone\u001B[39;00m) \u001B[38;5;129;01mand\u001B[39;00m outside_basis)\n\u001B[1;32m    117\u001B[0m ):\n",
      "File \u001B[0;32m/opt/anaconda3/envs/ngem/lib/python3.10/site-packages/qiskit/quantum_info/operators/operator.py:85\u001B[0m, in \u001B[0;36mOperator.__init__\u001B[0;34m(self, data, input_dims, output_dims)\u001B[0m\n\u001B[1;32m     76\u001B[0m     \u001B[38;5;28mself\u001B[39m\u001B[38;5;241m.\u001B[39m_data \u001B[38;5;241m=\u001B[39m np\u001B[38;5;241m.\u001B[39masarray(data, dtype\u001B[38;5;241m=\u001B[39m\u001B[38;5;28mcomplex\u001B[39m)\n\u001B[1;32m     77\u001B[0m \u001B[38;5;28;01melif\u001B[39;00m \u001B[38;5;28misinstance\u001B[39m(data, (QuantumCircuit, Operation)):\n\u001B[1;32m     78\u001B[0m     \u001B[38;5;66;03m# If the input is a Terra QuantumCircuit or Operation we\u001B[39;00m\n\u001B[1;32m     79\u001B[0m     \u001B[38;5;66;03m# perform a simulation to construct the unitary operator.\u001B[39;00m\n\u001B[0;32m   (...)\u001B[0m\n\u001B[1;32m     83\u001B[0m     \u001B[38;5;66;03m# conditional gates, measure, or reset will cause an\u001B[39;00m\n\u001B[1;32m     84\u001B[0m     \u001B[38;5;66;03m# exception to be raised.\u001B[39;00m\n\u001B[0;32m---> 85\u001B[0m     \u001B[38;5;28mself\u001B[39m\u001B[38;5;241m.\u001B[39m_data \u001B[38;5;241m=\u001B[39m \u001B[38;5;28;43mself\u001B[39;49m\u001B[38;5;241;43m.\u001B[39;49m\u001B[43m_init_instruction\u001B[49m\u001B[43m(\u001B[49m\u001B[43mdata\u001B[49m\u001B[43m)\u001B[49m\u001B[38;5;241m.\u001B[39mdata\n\u001B[1;32m     86\u001B[0m \u001B[38;5;28;01melif\u001B[39;00m \u001B[38;5;28mhasattr\u001B[39m(data, \u001B[38;5;124m\"\u001B[39m\u001B[38;5;124mto_operator\u001B[39m\u001B[38;5;124m\"\u001B[39m):\n\u001B[1;32m     87\u001B[0m     \u001B[38;5;66;03m# If the data object has a 'to_operator' attribute this is given\u001B[39;00m\n\u001B[1;32m     88\u001B[0m     \u001B[38;5;66;03m# higher preference than the 'to_matrix' method for initializing\u001B[39;00m\n\u001B[1;32m     89\u001B[0m     \u001B[38;5;66;03m# an Operator object.\u001B[39;00m\n\u001B[1;32m     90\u001B[0m     data \u001B[38;5;241m=\u001B[39m data\u001B[38;5;241m.\u001B[39mto_operator()\n",
      "File \u001B[0;32m/opt/anaconda3/envs/ngem/lib/python3.10/site-packages/qiskit/quantum_info/operators/operator.py:541\u001B[0m, in \u001B[0;36mOperator._init_instruction\u001B[0;34m(cls, instruction)\u001B[0m\n\u001B[1;32m    539\u001B[0m \u001B[38;5;28;01mif\u001B[39;00m \u001B[38;5;28misinstance\u001B[39m(instruction, QuantumCircuit):\n\u001B[1;32m    540\u001B[0m     instruction \u001B[38;5;241m=\u001B[39m instruction\u001B[38;5;241m.\u001B[39mto_instruction()\n\u001B[0;32m--> 541\u001B[0m \u001B[43mop\u001B[49m\u001B[38;5;241;43m.\u001B[39;49m\u001B[43m_append_instruction\u001B[49m\u001B[43m(\u001B[49m\u001B[43minstruction\u001B[49m\u001B[43m)\u001B[49m\n\u001B[1;32m    542\u001B[0m \u001B[38;5;28;01mreturn\u001B[39;00m op\n",
      "File \u001B[0;32m/opt/anaconda3/envs/ngem/lib/python3.10/site-packages/qiskit/quantum_info/operators/operator.py:618\u001B[0m, in \u001B[0;36mOperator._append_instruction\u001B[0;34m(self, obj, qargs)\u001B[0m\n\u001B[1;32m    616\u001B[0m \u001B[38;5;28;01melse\u001B[39;00m:\n\u001B[1;32m    617\u001B[0m     new_qargs \u001B[38;5;241m=\u001B[39m [qargs[bit_indices[tup]] \u001B[38;5;28;01mfor\u001B[39;00m tup \u001B[38;5;129;01min\u001B[39;00m instruction\u001B[38;5;241m.\u001B[39mqubits]\n\u001B[0;32m--> 618\u001B[0m \u001B[38;5;28;43mself\u001B[39;49m\u001B[38;5;241;43m.\u001B[39;49m\u001B[43m_append_instruction\u001B[49m\u001B[43m(\u001B[49m\u001B[43minstruction\u001B[49m\u001B[38;5;241;43m.\u001B[39;49m\u001B[43moperation\u001B[49m\u001B[43m,\u001B[49m\u001B[43m \u001B[49m\u001B[43mqargs\u001B[49m\u001B[38;5;241;43m=\u001B[39;49m\u001B[43mnew_qargs\u001B[49m\u001B[43m)\u001B[49m\n",
      "File \u001B[0;32m/opt/anaconda3/envs/ngem/lib/python3.10/site-packages/qiskit/quantum_info/operators/operator.py:576\u001B[0m, in \u001B[0;36mOperator._append_instruction\u001B[0;34m(self, obj, qargs)\u001B[0m\n\u001B[1;32m    572\u001B[0m mat \u001B[38;5;241m=\u001B[39m \u001B[38;5;28mself\u001B[39m\u001B[38;5;241m.\u001B[39m_instruction_to_matrix(obj)\n\u001B[1;32m    573\u001B[0m \u001B[38;5;28;01mif\u001B[39;00m mat \u001B[38;5;129;01mis\u001B[39;00m \u001B[38;5;129;01mnot\u001B[39;00m \u001B[38;5;28;01mNone\u001B[39;00m:\n\u001B[1;32m    574\u001B[0m     \u001B[38;5;66;03m# Perform the composition and inplace update the current state\u001B[39;00m\n\u001B[1;32m    575\u001B[0m     \u001B[38;5;66;03m# of the operator\u001B[39;00m\n\u001B[0;32m--> 576\u001B[0m     op \u001B[38;5;241m=\u001B[39m \u001B[38;5;28;43mself\u001B[39;49m\u001B[38;5;241;43m.\u001B[39;49m\u001B[43mcompose\u001B[49m\u001B[43m(\u001B[49m\u001B[43mmat\u001B[49m\u001B[43m,\u001B[49m\u001B[43m \u001B[49m\u001B[43mqargs\u001B[49m\u001B[38;5;241;43m=\u001B[39;49m\u001B[43mqargs\u001B[49m\u001B[43m)\u001B[49m\n\u001B[1;32m    577\u001B[0m     \u001B[38;5;28mself\u001B[39m\u001B[38;5;241m.\u001B[39m_data \u001B[38;5;241m=\u001B[39m op\u001B[38;5;241m.\u001B[39mdata\n\u001B[1;32m    578\u001B[0m \u001B[38;5;28;01melif\u001B[39;00m \u001B[38;5;28misinstance\u001B[39m(obj, Barrier):\n",
      "File \u001B[0;32m/opt/anaconda3/envs/ngem/lib/python3.10/site-packages/qiskit/quantum_info/operators/operator.py:348\u001B[0m, in \u001B[0;36mOperator.compose\u001B[0;34m(self, other, qargs, front)\u001B[0m\n\u001B[1;32m    346\u001B[0m mat \u001B[38;5;241m=\u001B[39m np\u001B[38;5;241m.\u001B[39mreshape(other\u001B[38;5;241m.\u001B[39mdata, other\u001B[38;5;241m.\u001B[39m_op_shape\u001B[38;5;241m.\u001B[39mtensor_shape)\n\u001B[1;32m    347\u001B[0m indices \u001B[38;5;241m=\u001B[39m [num_indices \u001B[38;5;241m-\u001B[39m \u001B[38;5;241m1\u001B[39m \u001B[38;5;241m-\u001B[39m qubit \u001B[38;5;28;01mfor\u001B[39;00m qubit \u001B[38;5;129;01min\u001B[39;00m qargs]\n\u001B[0;32m--> 348\u001B[0m final_shape \u001B[38;5;241m=\u001B[39m [np\u001B[38;5;241m.\u001B[39mproduct(output_dims), \u001B[43mnp\u001B[49m\u001B[38;5;241;43m.\u001B[39;49m\u001B[43mproduct\u001B[49m\u001B[43m(\u001B[49m\u001B[43minput_dims\u001B[49m\u001B[43m)\u001B[49m]\n\u001B[1;32m    349\u001B[0m data \u001B[38;5;241m=\u001B[39m np\u001B[38;5;241m.\u001B[39mreshape(\n\u001B[1;32m    350\u001B[0m     Operator\u001B[38;5;241m.\u001B[39m_einsum_matmul(tensor, mat, indices, shift, right_mul), final_shape\n\u001B[1;32m    351\u001B[0m )\n\u001B[1;32m    352\u001B[0m ret \u001B[38;5;241m=\u001B[39m Operator(data, input_dims, output_dims)\n",
      "File \u001B[0;32m<__array_function__ internals>:180\u001B[0m, in \u001B[0;36mproduct\u001B[0;34m(*args, **kwargs)\u001B[0m\n",
      "File \u001B[0;32m/opt/anaconda3/envs/ngem/lib/python3.10/site-packages/numpy/core/fromnumeric.py:3743\u001B[0m, in \u001B[0;36mproduct\u001B[0;34m(*args, **kwargs)\u001B[0m\n\u001B[1;32m   3734\u001B[0m \u001B[38;5;129m@array_function_dispatch\u001B[39m(_prod_dispatcher, verify\u001B[38;5;241m=\u001B[39m\u001B[38;5;28;01mFalse\u001B[39;00m)\n\u001B[1;32m   3735\u001B[0m \u001B[38;5;28;01mdef\u001B[39;00m \u001B[38;5;21mproduct\u001B[39m(\u001B[38;5;241m*\u001B[39margs, \u001B[38;5;241m*\u001B[39m\u001B[38;5;241m*\u001B[39mkwargs):\n\u001B[1;32m   3736\u001B[0m \u001B[38;5;250m    \u001B[39m\u001B[38;5;124;03m\"\"\"\u001B[39;00m\n\u001B[1;32m   3737\u001B[0m \u001B[38;5;124;03m    Return the product of array elements over a given axis.\u001B[39;00m\n\u001B[1;32m   3738\u001B[0m \n\u001B[0;32m   (...)\u001B[0m\n\u001B[1;32m   3741\u001B[0m \u001B[38;5;124;03m    prod : equivalent function; see for details.\u001B[39;00m\n\u001B[1;32m   3742\u001B[0m \u001B[38;5;124;03m    \"\"\"\u001B[39;00m\n\u001B[0;32m-> 3743\u001B[0m     \u001B[38;5;28;01mreturn\u001B[39;00m \u001B[43mprod\u001B[49m\u001B[43m(\u001B[49m\u001B[38;5;241;43m*\u001B[39;49m\u001B[43margs\u001B[49m\u001B[43m,\u001B[49m\u001B[43m \u001B[49m\u001B[38;5;241;43m*\u001B[39;49m\u001B[38;5;241;43m*\u001B[39;49m\u001B[43mkwargs\u001B[49m\u001B[43m)\u001B[49m\n",
      "File \u001B[0;32m<__array_function__ internals>:180\u001B[0m, in \u001B[0;36mprod\u001B[0;34m(*args, **kwargs)\u001B[0m\n",
      "File \u001B[0;32m/opt/anaconda3/envs/ngem/lib/python3.10/site-packages/numpy/core/fromnumeric.py:3045\u001B[0m, in \u001B[0;36mprod\u001B[0;34m(a, axis, dtype, out, keepdims, initial, where)\u001B[0m\n\u001B[1;32m   2927\u001B[0m \u001B[38;5;129m@array_function_dispatch\u001B[39m(_prod_dispatcher)\n\u001B[1;32m   2928\u001B[0m \u001B[38;5;28;01mdef\u001B[39;00m \u001B[38;5;21mprod\u001B[39m(a, axis\u001B[38;5;241m=\u001B[39m\u001B[38;5;28;01mNone\u001B[39;00m, dtype\u001B[38;5;241m=\u001B[39m\u001B[38;5;28;01mNone\u001B[39;00m, out\u001B[38;5;241m=\u001B[39m\u001B[38;5;28;01mNone\u001B[39;00m, keepdims\u001B[38;5;241m=\u001B[39mnp\u001B[38;5;241m.\u001B[39m_NoValue,\n\u001B[1;32m   2929\u001B[0m          initial\u001B[38;5;241m=\u001B[39mnp\u001B[38;5;241m.\u001B[39m_NoValue, where\u001B[38;5;241m=\u001B[39mnp\u001B[38;5;241m.\u001B[39m_NoValue):\n\u001B[1;32m   2930\u001B[0m \u001B[38;5;250m    \u001B[39m\u001B[38;5;124;03m\"\"\"\u001B[39;00m\n\u001B[1;32m   2931\u001B[0m \u001B[38;5;124;03m    Return the product of array elements over a given axis.\u001B[39;00m\n\u001B[1;32m   2932\u001B[0m \n\u001B[0;32m   (...)\u001B[0m\n\u001B[1;32m   3043\u001B[0m \u001B[38;5;124;03m    10\u001B[39;00m\n\u001B[1;32m   3044\u001B[0m \u001B[38;5;124;03m    \"\"\"\u001B[39;00m\n\u001B[0;32m-> 3045\u001B[0m     \u001B[38;5;28;01mreturn\u001B[39;00m \u001B[43m_wrapreduction\u001B[49m\u001B[43m(\u001B[49m\u001B[43ma\u001B[49m\u001B[43m,\u001B[49m\u001B[43m \u001B[49m\u001B[43mnp\u001B[49m\u001B[38;5;241;43m.\u001B[39;49m\u001B[43mmultiply\u001B[49m\u001B[43m,\u001B[49m\u001B[43m \u001B[49m\u001B[38;5;124;43m'\u001B[39;49m\u001B[38;5;124;43mprod\u001B[39;49m\u001B[38;5;124;43m'\u001B[39;49m\u001B[43m,\u001B[49m\u001B[43m \u001B[49m\u001B[43maxis\u001B[49m\u001B[43m,\u001B[49m\u001B[43m \u001B[49m\u001B[43mdtype\u001B[49m\u001B[43m,\u001B[49m\u001B[43m \u001B[49m\u001B[43mout\u001B[49m\u001B[43m,\u001B[49m\n\u001B[1;32m   3046\u001B[0m \u001B[43m                          \u001B[49m\u001B[43mkeepdims\u001B[49m\u001B[38;5;241;43m=\u001B[39;49m\u001B[43mkeepdims\u001B[49m\u001B[43m,\u001B[49m\u001B[43m \u001B[49m\u001B[43minitial\u001B[49m\u001B[38;5;241;43m=\u001B[39;49m\u001B[43minitial\u001B[49m\u001B[43m,\u001B[49m\u001B[43m \u001B[49m\u001B[43mwhere\u001B[49m\u001B[38;5;241;43m=\u001B[39;49m\u001B[43mwhere\u001B[49m\u001B[43m)\u001B[49m\n",
      "File \u001B[0;32m/opt/anaconda3/envs/ngem/lib/python3.10/site-packages/numpy/core/fromnumeric.py:86\u001B[0m, in \u001B[0;36m_wrapreduction\u001B[0;34m(obj, ufunc, method, axis, dtype, out, **kwargs)\u001B[0m\n\u001B[1;32m     83\u001B[0m         \u001B[38;5;28;01melse\u001B[39;00m:\n\u001B[1;32m     84\u001B[0m             \u001B[38;5;28;01mreturn\u001B[39;00m reduction(axis\u001B[38;5;241m=\u001B[39maxis, out\u001B[38;5;241m=\u001B[39mout, \u001B[38;5;241m*\u001B[39m\u001B[38;5;241m*\u001B[39mpasskwargs)\n\u001B[0;32m---> 86\u001B[0m \u001B[38;5;28;01mreturn\u001B[39;00m \u001B[43mufunc\u001B[49m\u001B[38;5;241;43m.\u001B[39;49m\u001B[43mreduce\u001B[49m\u001B[43m(\u001B[49m\u001B[43mobj\u001B[49m\u001B[43m,\u001B[49m\u001B[43m \u001B[49m\u001B[43maxis\u001B[49m\u001B[43m,\u001B[49m\u001B[43m \u001B[49m\u001B[43mdtype\u001B[49m\u001B[43m,\u001B[49m\u001B[43m \u001B[49m\u001B[43mout\u001B[49m\u001B[43m,\u001B[49m\u001B[43m \u001B[49m\u001B[38;5;241;43m*\u001B[39;49m\u001B[38;5;241;43m*\u001B[39;49m\u001B[43mpasskwargs\u001B[49m\u001B[43m)\u001B[49m\n",
      "\u001B[0;31mKeyboardInterrupt\u001B[0m: "
     ]
    }
   ],
   "source": [
    "## Now we need to average over many disorders\n",
    "num_disorders = 30\n",
    "\n",
    "# For each disorder realization, make a new disorder\n",
    "# and compute the charge imbalance using the same physics parameters as before\n",
    "imbalance_all_ideal = []\n",
    "imbalance_all_noisy = []\n",
    "imbalance_all_mitigated = []\n",
    "\n",
    "for disorder_realization in tqdm_notebook(range(num_disorders)):\n",
    "    disorders = generate_disorder(num_spins, W, seed=disorder_realization)\n",
    "\n",
    "    qc_list = []\n",
    "    for steps in range(max_steps + 10):\n",
    "        qc_list.append(construct_mbl_circuit(num_spins, disorders, theta, steps))\n",
    "\n",
    "    transpiled_qc_list = transpile(qc_list, backend_noisy, optimization_level=3)\n",
    "    job_ideal = execute(qc_list, **run_config_ideal)\n",
    "    job_noisy = execute(transpiled_qc_list, **run_config_noisy)\n",
    "\n",
    "    exp_Z_ideal = []\n",
    "    exp_Z_noisy = []\n",
    "    exp_Z_mitigated = []\n",
    "\n",
    "\n",
    "    for i in range(len(qc_list)):\n",
    "        counts_ideal = job_ideal.result().get_counts()[i]\n",
    "        counts_noisy = job_noisy.result().get_counts()[i]\n",
    "\n",
    "        ideal_exp_val = cal_z_exp(counts_ideal)\n",
    "        noisy_exp_val = cal_z_exp(counts_noisy)\n",
    "\n",
    "        exp_Z_ideal.append(list(ideal_exp_val)) # Single-Z expectation value of each qubit\n",
    "        exp_Z_noisy.append(list(noisy_exp_val)) # Single-Z expectation value of each qubit\n",
    "\n",
    "        graph_data = circuit_to_graph_data_json(\n",
    "            circuit=transpiled_qc_list[i],\n",
    "            properties=properties,\n",
    "            use_qubit_features=True,\n",
    "            use_gate_features=True,\n",
    "        )\n",
    "\n",
    "        entry = ExpValueEntry(\n",
    "            circuit_graph=graph_data,\n",
    "            observable=[],\n",
    "            ideal_exp_value=ideal_exp_val.tolist(),\n",
    "            noisy_exp_values=[\n",
    "                noisy_exp_val.tolist()\n",
    "            ],\n",
    "            circuit_depth=transpiled_qc_list[i].depth()\n",
    "        ).to_pyg_data()\n",
    "\n",
    "        mitigated_exp_val = model(entry.noisy_0,\n",
    "                            entry.observable,\n",
    "                            entry.circuit_depth,\n",
    "                            entry.x,\n",
    "                            entry.edge_index,\n",
    "                            entry.batch).tolist()[0]\n",
    "\n",
    "        exp_Z_mitigated.append(mitigated_exp_val)\n",
    "\n",
    "    imbalance_ideal = calc_imbalance(exp_Z_ideal, even_qubits, odd_qubits)\n",
    "    imbalance_noisy = calc_imbalance(exp_Z_noisy, even_qubits, odd_qubits)\n",
    "    imbalance_mitigated = calc_imbalance(exp_Z_mitigated, even_qubits, odd_qubits)\n",
    "\n",
    "\n",
    "    imbalance_all_ideal.append(imbalance_ideal)\n",
    "    imbalance_all_noisy.append(imbalance_noisy)\n",
    "    imbalance_all_mitigated.append(imbalance_mitigated)\n",
    "\n",
    "# Average imbalance\n",
    "imbalance_ideal_average = np.mean(imbalance_all_ideal, axis=0)\n",
    "imbalance_noisy_average = np.mean(imbalance_all_noisy, axis=0)\n",
    "imbalance_mitigated_average = np.mean(imbalance_all_mitigated, axis=0)"
   ],
   "metadata": {
    "collapsed": false
   }
  },
  {
   "cell_type": "code",
   "execution_count": null,
   "outputs": [],
   "source": [
    "## Plot\n",
    "\n",
    "for disorder_realization in range(num_disorders):\n",
    "    plt.plot(imbalance_all_ideal[disorder_realization], color=(0.0, 0.0, 1.0, 0.1))\n",
    "    plt.plot(imbalance_all_noisy[disorder_realization], color=(1.0, 0.0, 0.0, 0.1))\n",
    "    plt.plot(imbalance_all_mitigated[disorder_realization], color=(0.0, 1.0, 0.0, 0.1))\n",
    "\n",
    "plt.plot(imbalance_ideal_average, color='blue', label=\"ideal\")\n",
    "plt.plot(imbalance_noisy_average, color='red', label=\"noisy\")\n",
    "plt.plot(imbalance_mitigated_average, color='green', label=\"mitigated\")\n",
    "\n",
    "plt.axvline(x = 10, color = 'gray', label = 'training data availability')\n",
    "\n",
    "plt.xlabel('Floquet steps')\n",
    "plt.ylabel('Imbalance')\n",
    "plt.legend()\n",
    "plt.show()"
   ],
   "metadata": {
    "collapsed": false
   }
  },
  {
   "cell_type": "code",
   "execution_count": null,
   "outputs": [],
   "source": [],
   "metadata": {
    "collapsed": false
   }
  }
 ],
 "metadata": {
  "kernelspec": {
   "display_name": "Python 3 (ipykernel)",
   "language": "python",
   "name": "python3"
  },
  "language_info": {
   "codemirror_mode": {
    "name": "ipython",
    "version": 3
   },
   "file_extension": ".py",
   "mimetype": "text/x-python",
   "name": "python",
   "nbconvert_exporter": "python",
   "pygments_lexer": "ipython3",
   "version": "3.10.9"
  }
 },
 "nbformat": 4,
 "nbformat_minor": 1
}
