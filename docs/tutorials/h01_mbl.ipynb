{
 "cells": [
  {
   "cell_type": "code",
   "execution_count": 25,
   "metadata": {
    "collapsed": true
   },
   "outputs": [],
   "source": [
    "import json\n",
    "import glob\n",
    "\n",
    "import numpy as np\n",
    "import pandas as pd\n",
    "\n",
    "from qiskit import transpile\n",
    "from qiskit import execute\n",
    "from qiskit.providers.fake_provider import FakeLima\n",
    "from qiskit.primitives import Estimator\n",
    "from qiskit.circuit.random import random_circuit\n",
    "\n",
    "import torch\n",
    "from torch.optim import Adam\n",
    "from torch.optim.lr_scheduler import ReduceLROnPlateau\n",
    "from torch.nn.functional import dropout\n",
    "\n",
    "from torch_geometric.nn import GCNConv, global_mean_pool, Linear, ChebConv, SAGEConv\n",
    "from torch_geometric.data import Data\n",
    "from torch_geometric.loader import DataLoader\n",
    "\n",
    "from tqdm.notebook import tqdm_notebook\n",
    "import matplotlib.pyplot as plt\n",
    "import seaborn as sns\n",
    "\n",
    "from blackwater.data.loaders.exp_val import CircuitGraphExpValMitigationDataset\n",
    "from blackwater.data.generators.exp_val import exp_value_generator\n",
    "from blackwater.data.utils import generate_random_pauli_sum_op\n",
    "from blackwater.library.ngem.estimator import ngem\n",
    "\n",
    "from qiskit.quantum_info import random_clifford\n",
    "\n",
    "import random\n",
    "from qiskit.circuit.library import HGate, SdgGate\n",
    "from qiskit.circuit import ClassicalRegister\n",
    "\n",
    "from blackwater.data.utils import (\n",
    "    generate_random_pauli_sum_op,\n",
    "    create_estimator_meas_data,\n",
    "    circuit_to_graph_data_json,\n",
    "    get_backend_properties_v1,\n",
    "    encode_pauli_sum_op,\n",
    "    create_meas_data_from_estimators\n",
    ")\n",
    "from blackwater.data.generators.exp_val import ExpValueEntry\n",
    "from blackwater.metrics.improvement_factor import improvement_factor, Trial, Problem\n",
    "\n",
    "from qiskit_aer import AerSimulator, QasmSimulator\n",
    "from qiskit.providers.fake_provider import FakeMontreal, FakeLima"
   ]
  },
  {
   "cell_type": "code",
   "execution_count": 26,
   "outputs": [],
   "source": [
    "backend = FakeLima()\n",
    "properties = get_backend_properties_v1(backend)\n",
    "\n",
    "## Local\n",
    "backend_ideal = QasmSimulator() # Noiseless\n",
    "backend_noisy = AerSimulator.from_backend(FakeLima()) # Noisy\n",
    "\n",
    "run_config_ideal = {'shots': 10000, 'backend': backend_ideal, 'name': 'ideal'}\n",
    "run_config_noisy = {'shots': 10000, 'backend': backend_noisy, 'name': 'noisy'}"
   ],
   "metadata": {
    "collapsed": false
   }
  },
  {
   "cell_type": "markdown",
   "source": [],
   "metadata": {
    "collapsed": false
   }
  },
  {
   "cell_type": "markdown",
   "source": [
    "# Generate random Clifford circuits as the training set"
   ],
   "metadata": {
    "collapsed": false
   }
  },
  {
   "cell_type": "code",
   "execution_count": 27,
   "outputs": [
    {
     "name": "stdout",
     "output_type": "stream",
     "text": [
      "Stabilizers:  ['+IZII', '+YZXI', '-XZYY', '+XIYI']\n"
     ]
    }
   ],
   "source": [
    "num_qubit = 4 # Number of qubits in the Clifford circuit\n",
    "rc = random_clifford(num_qubit)\n",
    "print('Stabilizers: ', rc.to_dict()['stabilizer'])"
   ],
   "metadata": {
    "collapsed": false
   }
  },
  {
   "cell_type": "code",
   "execution_count": 28,
   "outputs": [],
   "source": [
    "def force_nonzero_expectation(clifford, print_bool=False):\n",
    "    \"\"\"Force the input Clifford operator to have a non-zero expectation value when measured in the all-Z basis.\n",
    "\n",
    "    Args:\n",
    "        clifford (Clifford): Clifford operator.\n",
    "        print (bool, optional): Print the chosen random stabilizer.\n",
    "    \"\"\"\n",
    "    # Create a QuantumCircuit from the Clifford operator\n",
    "    qc_forced = clifford.to_circuit()\n",
    "\n",
    "    # Get the stabilizers as a list of strings.\n",
    "    # An example of a stabilizer string is \"+XYZ\"\n",
    "    # with sign \"+\" and \"Z\" on qubit 1.\n",
    "    stabilizers = clifford.to_dict()['stabilizer']\n",
    "    for idx, stab in enumerate(stabilizers):\n",
    "        # This method of forcing the Clifford operator to have\n",
    "        # non-zero expectation in the all-Z basis only works\n",
    "        # if the chosen stabilizer has no identity matrices.\n",
    "        if 'I' not in stab:\n",
    "            stabilizer = stab\n",
    "            break\n",
    "        # If we have tried every stabilizer, throw an exception\n",
    "        if idx >= len(stabilizers)-1:\n",
    "            raise UserWarning(\"All of the stabilizers have the identity matrix I!\")\n",
    "    if print_bool:\n",
    "        print(f'Stabilizer: {stabilizer}')\n",
    "\n",
    "    # Since the Clifford circuit has no classical register, add one\n",
    "    # cr = ClassicalRegister(qc_forced.num_qubits)\n",
    "    # qc_forced.add_register(cr)\n",
    "\n",
    "    # Change the measurement basis of each qubit\n",
    "    for qubit in range(0, qc_forced.num_qubits):\n",
    "        op = stabilizer[qc_forced.num_qubits-qubit]\n",
    "        if op == 'X':\n",
    "            qc_forced.append(HGate(), [[qubit]]) # Convert to x-basis measurement\n",
    "        elif op == 'Y':\n",
    "            qc_forced.append(SdgGate(), [[qubit]])\n",
    "            qc_forced.append(HGate(), [[qubit]])\n",
    "        # # Measure qubit and store in classical bit\n",
    "        # if measure and op != 'I':\n",
    "        #     qc_forced.measure([qubit], [qubit])\n",
    "\n",
    "    # Compute the expectation value based on the sign of the stabilizer\n",
    "    if stabilizer[0] == '+':\n",
    "        expectation = 1\n",
    "    elif stabilizer[0] == '-':\n",
    "        expectation = -1\n",
    "\n",
    "    return qc_forced, expectation\n",
    "\n",
    "def construct_random_clifford(num_qubit):\n",
    "    rc = random_clifford(num_qubit)\n",
    "\n",
    "    try:\n",
    "        rc_forced, _ = force_nonzero_expectation(rc)\n",
    "    except UserWarning:\n",
    "        rc_forced = rc.to_circuit()\n",
    "\n",
    "    rc_forced.measure_all()\n",
    "    return rc_forced, rc.to_circuit()"
   ],
   "metadata": {
    "collapsed": false
   }
  },
  {
   "cell_type": "code",
   "execution_count": 29,
   "outputs": [
    {
     "data": {
      "text/plain": "                  ┌───┐                  ┌───┐┌───┐┌───┐                                 ░ ┌─┐         \n   q_0: ──■───────┤ X ├───────■──────────┤ X ├┤ Y ├┤ H ├─────────────────────────────────░─┤M├─────────\n        ┌─┴─┐┌───┐└─┬─┘┌───┐  │          └─┬─┘├───┤├───┤┌───┐┌───┐                       ░ └╥┘┌─┐      \n   q_1: ┤ X ├┤ H ├──┼──┤ S ├──┼────────X───┼──┤ X ├┤ H ├┤ X ├┤ H ├───────────────────────░──╫─┤M├──────\n        └───┘└───┘  │  └───┘┌─┴─┐┌───┐ │   │  └─┬─┘└───┘└─┬─┘├───┤┌───┐┌───┐┌─────┐┌───┐ ░  ║ └╥┘┌─┐   \n   q_2: ────────────┼───────┤ X ├┤ H ├─┼───■────┼─────────■──┤ H ├┤ S ├┤ X ├┤ Sdg ├┤ H ├─░──╫──╫─┤M├───\n        ┌───┐┌───┐  │  ┌───┐└───┘└───┘ │        │  ┌───┐     └───┘└───┘└───┘└─────┘└───┘ ░  ║  ║ └╥┘┌─┐\n   q_3: ┤ S ├┤ H ├──■──┤ H ├───────────X────────■──┤ Y ├─────────────────────────────────░──╫──╫──╫─┤M├\n        └───┘└───┘     └───┘                       └───┘                                 ░  ║  ║  ║ └╥┘\nmeas: 4/════════════════════════════════════════════════════════════════════════════════════╩══╩══╩══╩═\n                                                                                            0  1  2  3 ",
      "text/html": "<pre style=\"word-wrap: normal;white-space: pre;background: #fff0;line-height: 1.1;font-family: &quot;Courier New&quot;,Courier,monospace\">                  ┌───┐                  ┌───┐┌───┐┌───┐                                 ░ ┌─┐         \n   q_0: ──■───────┤ X ├───────■──────────┤ X ├┤ Y ├┤ H ├─────────────────────────────────░─┤M├─────────\n        ┌─┴─┐┌───┐└─┬─┘┌───┐  │          └─┬─┘├───┤├───┤┌───┐┌───┐                       ░ └╥┘┌─┐      \n   q_1: ┤ X ├┤ H ├──┼──┤ S ├──┼────────X───┼──┤ X ├┤ H ├┤ X ├┤ H ├───────────────────────░──╫─┤M├──────\n        └───┘└───┘  │  └───┘┌─┴─┐┌───┐ │   │  └─┬─┘└───┘└─┬─┘├───┤┌───┐┌───┐┌─────┐┌───┐ ░  ║ └╥┘┌─┐   \n   q_2: ────────────┼───────┤ X ├┤ H ├─┼───■────┼─────────■──┤ H ├┤ S ├┤ X ├┤ Sdg ├┤ H ├─░──╫──╫─┤M├───\n        ┌───┐┌───┐  │  ┌───┐└───┘└───┘ │        │  ┌───┐     └───┘└───┘└───┘└─────┘└───┘ ░  ║  ║ └╥┘┌─┐\n   q_3: ┤ S ├┤ H ├──■──┤ H ├───────────X────────■──┤ Y ├─────────────────────────────────░──╫──╫──╫─┤M├\n        └───┘└───┘     └───┘                       └───┘                                 ░  ║  ║  ║ └╥┘\nmeas: 4/════════════════════════════════════════════════════════════════════════════════════╩══╩══╩══╩═\n                                                                                            0  1  2  3 </pre>"
     },
     "execution_count": 29,
     "metadata": {},
     "output_type": "execute_result"
    }
   ],
   "source": [
    "rc_forced, rc = construct_random_clifford(num_qubit)\n",
    "rc_forced.draw(fold=-1)"
   ],
   "metadata": {
    "collapsed": false
   }
  },
  {
   "cell_type": "code",
   "execution_count": 30,
   "outputs": [],
   "source": [
    "def cal_z_exp(counts):\n",
    "        \"\"\"\n",
    "        Compute all sigma_z expectations values.\n",
    "\n",
    "        Parameters\n",
    "        ----------\n",
    "        counts : dict\n",
    "            Dictionary of state labels (keys, e.g. '000', '001')\n",
    "\n",
    "        Returns\n",
    "        -------\n",
    "        z_exp : list of float\n",
    "            sigma_z expectation values, where len(z_exp) is the number of qubits\n",
    "        \"\"\"\n",
    "        shots = sum(list(counts.values()))\n",
    "        num_qubits = len(list(counts.keys())[0])\n",
    "        count_pos_z = np.zeros(num_qubits) # counts of positive z\n",
    "        # Convert all keys into arrays\n",
    "        for key, val in counts.items():\n",
    "            count_pos_z += val * np.array(list(key), dtype=int)\n",
    "        count_neg_z = np.ones(num_qubits) * shots - count_pos_z # counts of negative z\n",
    "        z_exp = (count_pos_z - count_neg_z) / shots\n",
    "        return z_exp\n",
    "\n",
    "def calc_imbalance(single_z_dataset, even_qubits, odd_qubits):\n",
    "        \"\"\"Calculate the charge imbalance from the single-Z expectation values.\n",
    "\n",
    "        Args:\n",
    "            single_z_dataset (list[list[float]]): Single-Z expectation values. First index is qubits, second index is expectation value at each time\n",
    "            even_qubits (list[int]): Indices of even qubits\n",
    "            odd_qubits (list[int]): Indices of odd qubits\n",
    "\n",
    "        Returns:\n",
    "            imbalance list[float]: Charge imbalance\n",
    "        \"\"\"\n",
    "        num_qubit = len(even_qubits)+len(odd_qubits)\n",
    "        num_steps = len(single_z_dataset)\n",
    "        imbalance = np.zeros(num_steps)\n",
    "        for step in range(num_steps):\n",
    "            ib = 0\n",
    "            for qubit in range(num_qubit):\n",
    "                if qubit in even_qubits:\n",
    "                    ib += single_z_dataset[step][qubit]\n",
    "                elif qubit in odd_qubits:\n",
    "                    ib -= single_z_dataset[step][qubit]\n",
    "                else:\n",
    "                    print(f'Warning: The index {i} was not in even_qubits or odd_qubits')\n",
    "            imbalance[step] = ib / num_qubit\n",
    "        return imbalance"
   ],
   "metadata": {
    "collapsed": false
   }
  },
  {
   "cell_type": "code",
   "execution_count": 31,
   "outputs": [],
   "source": [
    "def generate_data(save_path: str, n_entries_per_file: int):\n",
    "        entries = []\n",
    "\n",
    "        for i in tqdm_notebook(range(n_entries_per_file)):\n",
    "            circuit, _ = construct_random_clifford(num_qubit)\n",
    "            circuit = transpile(circuit, backend_noisy, optimization_level=3)\n",
    "\n",
    "            job_ideal = execute(circuit, **run_config_ideal)\n",
    "            job_noisy = execute(circuit, **run_config_noisy)\n",
    "\n",
    "            counts_ideal = job_ideal.result().get_counts()\n",
    "            counts_noisy = job_noisy.result().get_counts()\n",
    "\n",
    "            ideal_exp_val = cal_z_exp(counts_ideal)\n",
    "            noisy_exp_val = cal_z_exp(counts_noisy)\n",
    "\n",
    "            graph_data = circuit_to_graph_data_json(\n",
    "                circuit=circuit,\n",
    "                properties=properties,\n",
    "                use_qubit_features=True,\n",
    "                use_gate_features=True,\n",
    "            )\n",
    "\n",
    "            entry = ExpValueEntry(\n",
    "                circuit_graph=graph_data,\n",
    "                observable=[],\n",
    "                ideal_exp_value=ideal_exp_val.tolist(),\n",
    "                noisy_exp_values=[noisy_exp_val.tolist()],\n",
    "                circuit_depth=circuit.depth()\n",
    "            )\n",
    "            entries.append(entry.to_dict())\n",
    "\n",
    "        path = f\"{save_path}/random_clifford.json\"\n",
    "        with open(path, \"w\") as f:\n",
    "            # pprint(entries)\n",
    "            json.dump(entries, f)"
   ],
   "metadata": {
    "collapsed": false
   }
  },
  {
   "cell_type": "code",
   "execution_count": null,
   "outputs": [
    {
     "data": {
      "text/plain": "  0%|          | 0/3000 [00:00<?, ?it/s]",
      "application/vnd.jupyter.widget-view+json": {
       "version_major": 2,
       "version_minor": 0,
       "model_id": "ee0609b5e7cc44eca91d74a56e90be9e"
      }
     },
     "metadata": {},
     "output_type": "display_data"
    }
   ],
   "source": [
    "generate_data('./data/haoran_mbl/rc_train', 3000)"
   ],
   "metadata": {
    "collapsed": false,
    "pycharm": {
     "is_executing": true
    }
   }
  },
  {
   "cell_type": "code",
   "execution_count": null,
   "outputs": [],
   "source": [],
   "metadata": {
    "collapsed": false
   }
  }
 ],
 "metadata": {
  "kernelspec": {
   "display_name": "Python 3",
   "language": "python",
   "name": "python3"
  },
  "language_info": {
   "codemirror_mode": {
    "name": "ipython",
    "version": 2
   },
   "file_extension": ".py",
   "mimetype": "text/x-python",
   "name": "python",
   "nbconvert_exporter": "python",
   "pygments_lexer": "ipython2",
   "version": "2.7.6"
  }
 },
 "nbformat": 4,
 "nbformat_minor": 0
}
