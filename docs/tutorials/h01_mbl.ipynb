{
 "cells": [
  {
   "cell_type": "code",
   "execution_count": 46,
   "metadata": {
    "collapsed": true
   },
   "outputs": [],
   "source": [
    "import json\n",
    "import glob\n",
    "\n",
    "import numpy as np\n",
    "import pandas as pd\n",
    "\n",
    "from qiskit import transpile\n",
    "from qiskit import execute\n",
    "from qiskit.providers.fake_provider import FakeLima\n",
    "from qiskit.primitives import Estimator\n",
    "from qiskit.circuit.random import random_circuit\n",
    "\n",
    "import torch\n",
    "from torch.optim import Adam\n",
    "from torch.optim.lr_scheduler import ReduceLROnPlateau\n",
    "from torch.nn.functional import dropout\n",
    "\n",
    "from torch_geometric.nn import GCNConv, global_mean_pool, Linear, ChebConv, SAGEConv\n",
    "from torch_geometric.data import Data\n",
    "from torch_geometric.loader import DataLoader\n",
    "\n",
    "from tqdm.notebook import tqdm_notebook\n",
    "import matplotlib.pyplot as plt\n",
    "plt.style.use({'figure.facecolor':'white'})\n",
    "import seaborn as sns\n",
    "\n",
    "from blackwater.data.loaders.exp_val import CircuitGraphExpValMitigationDataset\n",
    "from blackwater.data.generators.exp_val import exp_value_generator\n",
    "from blackwater.data.utils import generate_random_pauli_sum_op\n",
    "from blackwater.library.ngem.estimator import ngem\n",
    "\n",
    "from qiskit.quantum_info import random_clifford\n",
    "\n",
    "import random\n",
    "from qiskit.circuit.library import HGate, SdgGate\n",
    "from qiskit.circuit import ClassicalRegister\n",
    "\n",
    "from blackwater.data.utils import (\n",
    "    generate_random_pauli_sum_op,\n",
    "    create_estimator_meas_data,\n",
    "    circuit_to_graph_data_json,\n",
    "    get_backend_properties_v1,\n",
    "    encode_pauli_sum_op,\n",
    "    create_meas_data_from_estimators\n",
    ")\n",
    "from blackwater.data.generators.exp_val import ExpValueEntry\n",
    "from blackwater.metrics.improvement_factor import improvement_factor, Trial, Problem\n",
    "\n",
    "from qiskit_aer import AerSimulator, QasmSimulator\n",
    "from qiskit.providers.fake_provider import FakeMontreal, FakeLima\n",
    "\n",
    "from torch_geometric.nn import (\n",
    "    GCNConv,\n",
    "    TransformerConv,\n",
    "    GATv2Conv,\n",
    "    global_mean_pool,\n",
    "    Linear,\n",
    "    ChebConv,\n",
    "    SAGEConv,\n",
    "    ASAPooling,\n",
    "    dense_diff_pool,\n",
    "    avg_pool_neighbor_x\n",
    ")\n",
    "from torch_geometric.data import Data\n",
    "from torch_geometric.loader import DataLoader\n",
    "from torch_geometric.utils import to_dense_adj, to_dense_batch"
   ]
  },
  {
   "cell_type": "code",
   "execution_count": 26,
   "outputs": [],
   "source": [
    "backend = FakeLima()\n",
    "properties = get_backend_properties_v1(backend)\n",
    "\n",
    "## Local\n",
    "backend_ideal = QasmSimulator() # Noiseless\n",
    "backend_noisy = AerSimulator.from_backend(FakeLima()) # Noisy\n",
    "\n",
    "run_config_ideal = {'shots': 10000, 'backend': backend_ideal, 'name': 'ideal'}\n",
    "run_config_noisy = {'shots': 10000, 'backend': backend_noisy, 'name': 'noisy'}"
   ],
   "metadata": {
    "collapsed": false
   }
  },
  {
   "cell_type": "markdown",
   "source": [],
   "metadata": {
    "collapsed": false
   }
  },
  {
   "cell_type": "markdown",
   "source": [
    "# Generate random Clifford circuits as the training set"
   ],
   "metadata": {
    "collapsed": false
   }
  },
  {
   "cell_type": "code",
   "execution_count": 27,
   "outputs": [
    {
     "name": "stdout",
     "output_type": "stream",
     "text": [
      "Stabilizers:  ['+IZII', '+YZXI', '-XZYY', '+XIYI']\n"
     ]
    }
   ],
   "source": [
    "num_qubit = 4 # Number of qubits in the Clifford circuit"
   ],
   "metadata": {
    "collapsed": false
   }
  },
  {
   "cell_type": "code",
   "execution_count": 28,
   "outputs": [],
   "source": [
    "def force_nonzero_expectation(clifford, print_bool=False):\n",
    "    \"\"\"Force the input Clifford operator to have a non-zero expectation value when measured in the all-Z basis.\n",
    "\n",
    "    Args:\n",
    "        clifford (Clifford): Clifford operator.\n",
    "        print (bool, optional): Print the chosen random stabilizer.\n",
    "    \"\"\"\n",
    "    # Create a QuantumCircuit from the Clifford operator\n",
    "    qc_forced = clifford.to_circuit()\n",
    "\n",
    "    # Get the stabilizers as a list of strings.\n",
    "    # An example of a stabilizer string is \"+XYZ\"\n",
    "    # with sign \"+\" and \"Z\" on qubit 1.\n",
    "    stabilizers = clifford.to_dict()['stabilizer']\n",
    "    for idx, stab in enumerate(stabilizers):\n",
    "        # This method of forcing the Clifford operator to have\n",
    "        # non-zero expectation in the all-Z basis only works\n",
    "        # if the chosen stabilizer has no identity matrices.\n",
    "        if 'I' not in stab:\n",
    "            stabilizer = stab\n",
    "            break\n",
    "        # If we have tried every stabilizer, throw an exception\n",
    "        if idx >= len(stabilizers)-1:\n",
    "            raise UserWarning(\"All of the stabilizers have the identity matrix I!\")\n",
    "    if print_bool:\n",
    "        print(f'Stabilizer: {stabilizer}')\n",
    "\n",
    "    # Since the Clifford circuit has no classical register, add one\n",
    "    # cr = ClassicalRegister(qc_forced.num_qubits)\n",
    "    # qc_forced.add_register(cr)\n",
    "\n",
    "    # Change the measurement basis of each qubit\n",
    "    for qubit in range(0, qc_forced.num_qubits):\n",
    "        op = stabilizer[qc_forced.num_qubits-qubit]\n",
    "        if op == 'X':\n",
    "            qc_forced.append(HGate(), [[qubit]]) # Convert to x-basis measurement\n",
    "        elif op == 'Y':\n",
    "            qc_forced.append(SdgGate(), [[qubit]])\n",
    "            qc_forced.append(HGate(), [[qubit]])\n",
    "        # # Measure qubit and store in classical bit\n",
    "        # if measure and op != 'I':\n",
    "        #     qc_forced.measure([qubit], [qubit])\n",
    "\n",
    "    # Compute the expectation value based on the sign of the stabilizer\n",
    "    if stabilizer[0] == '+':\n",
    "        expectation = 1\n",
    "    elif stabilizer[0] == '-':\n",
    "        expectation = -1\n",
    "\n",
    "    return qc_forced, expectation\n",
    "\n",
    "def construct_random_clifford(num_qubit):\n",
    "    rc = random_clifford(num_qubit)\n",
    "\n",
    "    try:\n",
    "        rc_forced, _ = force_nonzero_expectation(rc)\n",
    "    except UserWarning:\n",
    "        rc_forced = rc.to_circuit()\n",
    "\n",
    "    rc_forced.measure_all()\n",
    "    return rc_forced, rc.to_circuit()"
   ],
   "metadata": {
    "collapsed": false
   }
  },
  {
   "cell_type": "code",
   "execution_count": 29,
   "outputs": [
    {
     "data": {
      "text/plain": "                  ┌───┐                  ┌───┐┌───┐┌───┐                                 ░ ┌─┐         \n   q_0: ──■───────┤ X ├───────■──────────┤ X ├┤ Y ├┤ H ├─────────────────────────────────░─┤M├─────────\n        ┌─┴─┐┌───┐└─┬─┘┌───┐  │          └─┬─┘├───┤├───┤┌───┐┌───┐                       ░ └╥┘┌─┐      \n   q_1: ┤ X ├┤ H ├──┼──┤ S ├──┼────────X───┼──┤ X ├┤ H ├┤ X ├┤ H ├───────────────────────░──╫─┤M├──────\n        └───┘└───┘  │  └───┘┌─┴─┐┌───┐ │   │  └─┬─┘└───┘└─┬─┘├───┤┌───┐┌───┐┌─────┐┌───┐ ░  ║ └╥┘┌─┐   \n   q_2: ────────────┼───────┤ X ├┤ H ├─┼───■────┼─────────■──┤ H ├┤ S ├┤ X ├┤ Sdg ├┤ H ├─░──╫──╫─┤M├───\n        ┌───┐┌───┐  │  ┌───┐└───┘└───┘ │        │  ┌───┐     └───┘└───┘└───┘└─────┘└───┘ ░  ║  ║ └╥┘┌─┐\n   q_3: ┤ S ├┤ H ├──■──┤ H ├───────────X────────■──┤ Y ├─────────────────────────────────░──╫──╫──╫─┤M├\n        └───┘└───┘     └───┘                       └───┘                                 ░  ║  ║  ║ └╥┘\nmeas: 4/════════════════════════════════════════════════════════════════════════════════════╩══╩══╩══╩═\n                                                                                            0  1  2  3 ",
      "text/html": "<pre style=\"word-wrap: normal;white-space: pre;background: #fff0;line-height: 1.1;font-family: &quot;Courier New&quot;,Courier,monospace\">                  ┌───┐                  ┌───┐┌───┐┌───┐                                 ░ ┌─┐         \n   q_0: ──■───────┤ X ├───────■──────────┤ X ├┤ Y ├┤ H ├─────────────────────────────────░─┤M├─────────\n        ┌─┴─┐┌───┐└─┬─┘┌───┐  │          └─┬─┘├───┤├───┤┌───┐┌───┐                       ░ └╥┘┌─┐      \n   q_1: ┤ X ├┤ H ├──┼──┤ S ├──┼────────X───┼──┤ X ├┤ H ├┤ X ├┤ H ├───────────────────────░──╫─┤M├──────\n        └───┘└───┘  │  └───┘┌─┴─┐┌───┐ │   │  └─┬─┘└───┘└─┬─┘├───┤┌───┐┌───┐┌─────┐┌───┐ ░  ║ └╥┘┌─┐   \n   q_2: ────────────┼───────┤ X ├┤ H ├─┼───■────┼─────────■──┤ H ├┤ S ├┤ X ├┤ Sdg ├┤ H ├─░──╫──╫─┤M├───\n        ┌───┐┌───┐  │  ┌───┐└───┘└───┘ │        │  ┌───┐     └───┘└───┘└───┘└─────┘└───┘ ░  ║  ║ └╥┘┌─┐\n   q_3: ┤ S ├┤ H ├──■──┤ H ├───────────X────────■──┤ Y ├─────────────────────────────────░──╫──╫──╫─┤M├\n        └───┘└───┘     └───┘                       └───┘                                 ░  ║  ║  ║ └╥┘\nmeas: 4/════════════════════════════════════════════════════════════════════════════════════╩══╩══╩══╩═\n                                                                                            0  1  2  3 </pre>"
     },
     "execution_count": 29,
     "metadata": {},
     "output_type": "execute_result"
    }
   ],
   "source": [
    "rc_forced, rc = construct_random_clifford(num_qubit)\n",
    "rc_forced.draw(fold=-1)"
   ],
   "metadata": {
    "collapsed": false
   }
  },
  {
   "cell_type": "code",
   "execution_count": 30,
   "outputs": [],
   "source": [
    "def cal_z_exp(counts):\n",
    "        \"\"\"\n",
    "        Compute all sigma_z expectations values.\n",
    "\n",
    "        Parameters\n",
    "        ----------\n",
    "        counts : dict\n",
    "            Dictionary of state labels (keys, e.g. '000', '001')\n",
    "\n",
    "        Returns\n",
    "        -------\n",
    "        z_exp : list of float\n",
    "            sigma_z expectation values, where len(z_exp) is the number of qubits\n",
    "        \"\"\"\n",
    "        shots = sum(list(counts.values()))\n",
    "        num_qubits = len(list(counts.keys())[0])\n",
    "        count_pos_z = np.zeros(num_qubits) # counts of positive z\n",
    "        # Convert all keys into arrays\n",
    "        for key, val in counts.items():\n",
    "            count_pos_z += val * np.array(list(key), dtype=int)\n",
    "        count_neg_z = np.ones(num_qubits) * shots - count_pos_z # counts of negative z\n",
    "        z_exp = (count_pos_z - count_neg_z) / shots\n",
    "        return z_exp\n",
    "\n",
    "def calc_imbalance(single_z_dataset, even_qubits, odd_qubits):\n",
    "        \"\"\"Calculate the charge imbalance from the single-Z expectation values.\n",
    "\n",
    "        Args:\n",
    "            single_z_dataset (list[list[float]]): Single-Z expectation values. First index is qubits, second index is expectation value at each time\n",
    "            even_qubits (list[int]): Indices of even qubits\n",
    "            odd_qubits (list[int]): Indices of odd qubits\n",
    "\n",
    "        Returns:\n",
    "            imbalance list[float]: Charge imbalance\n",
    "        \"\"\"\n",
    "        num_qubit = len(even_qubits)+len(odd_qubits)\n",
    "        num_steps = len(single_z_dataset)\n",
    "        imbalance = np.zeros(num_steps)\n",
    "        for step in range(num_steps):\n",
    "            ib = 0\n",
    "            for qubit in range(num_qubit):\n",
    "                if qubit in even_qubits:\n",
    "                    ib += single_z_dataset[step][qubit]\n",
    "                elif qubit in odd_qubits:\n",
    "                    ib -= single_z_dataset[step][qubit]\n",
    "                else:\n",
    "                    print(f'Warning: The index {i} was not in even_qubits or odd_qubits')\n",
    "            imbalance[step] = ib / num_qubit\n",
    "        return imbalance"
   ],
   "metadata": {
    "collapsed": false
   }
  },
  {
   "cell_type": "code",
   "execution_count": 31,
   "outputs": [],
   "source": [
    "def generate_data(save_path: str, n_entries_per_file: int):\n",
    "        entries = []\n",
    "\n",
    "        for i in tqdm_notebook(range(n_entries_per_file)):\n",
    "            circuit, _ = construct_random_clifford(num_qubit)\n",
    "            circuit = transpile(circuit, backend_noisy, optimization_level=3)\n",
    "\n",
    "            job_ideal = execute(circuit, **run_config_ideal)\n",
    "            job_noisy = execute(circuit, **run_config_noisy)\n",
    "\n",
    "            counts_ideal = job_ideal.result().get_counts()\n",
    "            counts_noisy = job_noisy.result().get_counts()\n",
    "\n",
    "            ideal_exp_val = cal_z_exp(counts_ideal)\n",
    "            noisy_exp_val = cal_z_exp(counts_noisy)\n",
    "\n",
    "            graph_data = circuit_to_graph_data_json(\n",
    "                circuit=circuit,\n",
    "                properties=properties,\n",
    "                use_qubit_features=True,\n",
    "                use_gate_features=True,\n",
    "            )\n",
    "\n",
    "            entry = ExpValueEntry(\n",
    "                circuit_graph=graph_data,\n",
    "                observable=[],\n",
    "                ideal_exp_value=ideal_exp_val.tolist(),\n",
    "                noisy_exp_values=[noisy_exp_val.tolist()],\n",
    "                circuit_depth=circuit.depth()\n",
    "            )\n",
    "            entries.append(entry.to_dict())\n",
    "\n",
    "        path = f\"{save_path}/random_clifford.json\"\n",
    "        with open(path, \"w\") as f:\n",
    "            # pprint(entries)\n",
    "            json.dump(entries, f)"
   ],
   "metadata": {
    "collapsed": false
   }
  },
  {
   "cell_type": "code",
   "execution_count": 33,
   "outputs": [
    {
     "data": {
      "text/plain": "  0%|          | 0/2000 [00:00<?, ?it/s]",
      "application/vnd.jupyter.widget-view+json": {
       "version_major": 2,
       "version_minor": 0,
       "model_id": "8b59780511424c7eb12c090e88bb1bfb"
      }
     },
     "metadata": {},
     "output_type": "display_data"
    }
   ],
   "source": [
    "# generate_data('./data/haoran_mbl/rc_train', 2000)"
   ],
   "metadata": {
    "collapsed": false
   }
  },
  {
   "cell_type": "markdown",
   "source": [],
   "metadata": {
    "collapsed": false
   }
  },
  {
   "cell_type": "markdown",
   "source": [
    "# Training"
   ],
   "metadata": {
    "collapsed": false
   }
  },
  {
   "cell_type": "code",
   "execution_count": 36,
   "outputs": [],
   "source": [
    "train_paths = [\n",
    "    './data/haoran_mbl/rc_train/random_clifford.json',\n",
    "]\n",
    "val_paths = [\n",
    "     './data/mbd_datasets/val/step_5.json',\n",
    "     './data/mbd_datasets/val/step_4.json',\n",
    "     './data/mbd_datasets/val/step_3.json',\n",
    "     './data/mbd_datasets/val/step_2.json',\n",
    "     './data/mbd_datasets/val/step_1.json',\n",
    "     './data/mbd_datasets/val/step_0.json',\n",
    "     './data/mbd_datasets/val/step_6.json'\n",
    "]"
   ],
   "metadata": {
    "collapsed": false
   }
  },
  {
   "cell_type": "code",
   "execution_count": 37,
   "outputs": [
    {
     "name": "stdout",
     "output_type": "stream",
     "text": [
      "DataBatch(x=[1755, 22], edge_index=[2, 3923], edge_attr=[2168, 3], y=[32, 1, 4], observable=[32, 0], circuit_depth=[32, 1], noisy_0=[32, 1, 4], batch=[1755], ptr=[33])\n"
     ]
    }
   ],
   "source": [
    "BATCH_SIZE = 32\n",
    "\n",
    "train_loader = DataLoader(\n",
    "    CircuitGraphExpValMitigationDataset(\n",
    "        train_paths,\n",
    "    ),\n",
    "    batch_size=BATCH_SIZE,\n",
    "    shuffle=True\n",
    ")\n",
    "\n",
    "val_loader = DataLoader(\n",
    "    CircuitGraphExpValMitigationDataset(\n",
    "        val_paths,\n",
    "    ),\n",
    "    batch_size=BATCH_SIZE,\n",
    "    shuffle=False\n",
    ")\n",
    "\n",
    "for data in train_loader:\n",
    "    print(data)\n",
    "    break"
   ],
   "metadata": {
    "collapsed": false
   }
  },
  {
   "cell_type": "code",
   "execution_count": 38,
   "outputs": [],
   "source": [
    "class ExpValCircuitGraphModel(torch.nn.Module):\n",
    "    def __init__(\n",
    "        self,\n",
    "        num_node_features: int,\n",
    "        hidden_channels: int\n",
    "    ):\n",
    "        super().__init__()\n",
    "\n",
    "        self.transformer1 = TransformerConv(\n",
    "            num_node_features, hidden_channels,\n",
    "            heads=3,\n",
    "            dropout=0.1\n",
    "        )\n",
    "        self.pooling1 = ASAPooling(hidden_channels * 3, 0.5)\n",
    "\n",
    "        self.transformer2 = TransformerConv(\n",
    "            hidden_channels * 3, hidden_channels,\n",
    "            heads=2,\n",
    "            dropout=0.1\n",
    "        )\n",
    "        self.pooling2 = ASAPooling(hidden_channels * 2, 0.5)\n",
    "\n",
    "        self.body_seq = torch.nn.Sequential(\n",
    "            Linear(hidden_channels * 2 + 5, hidden_channels),\n",
    "            torch.nn.Dropout(0.2),\n",
    "            Linear(hidden_channels, 4)\n",
    "        )\n",
    "\n",
    "    def forward(self,\n",
    "                exp_value, observable,\n",
    "                circuit_depth, nodes,\n",
    "                edge_index, batch):\n",
    "        graph = self.transformer1(nodes, edge_index)\n",
    "        graph, edge_index, _, batch, _ = self.pooling1(\n",
    "            graph, edge_index, batch=batch\n",
    "        )\n",
    "\n",
    "        graph = self.transformer2(graph, edge_index)\n",
    "        graph, edge_index, _, batch, _ = self.pooling2(\n",
    "            graph, edge_index, batch=batch\n",
    "        )\n",
    "\n",
    "        graph = global_mean_pool(graph, batch)\n",
    "\n",
    "        merge = torch.cat((\n",
    "            graph,\n",
    "            torch.squeeze(exp_value, 1),\n",
    "            circuit_depth\n",
    "        ), dim=1)\n",
    "\n",
    "        return self.body_seq(merge)\n",
    "\n",
    "\n",
    "model = ExpValCircuitGraphModel(\n",
    "    num_node_features=22,\n",
    "    hidden_channels=15\n",
    ")\n",
    "criterion = torch.nn.MSELoss()\n",
    "\n",
    "optimizer = Adam(model.parameters(), lr=0.001)\n",
    "scheduler = ReduceLROnPlateau(optimizer,\n",
    "                              'min',\n",
    "                              factor=0.1,\n",
    "                              patience=15,\n",
    "                              verbose=True,\n",
    "                              min_lr=0.00001)"
   ],
   "metadata": {
    "collapsed": false
   }
  },
  {
   "cell_type": "code",
   "execution_count": 39,
   "outputs": [
    {
     "data": {
      "text/plain": "Model training:   0%|          | 0/100 [00:00<?, ?it/s]",
      "application/vnd.jupyter.widget-view+json": {
       "version_major": 2,
       "version_minor": 0,
       "model_id": "ce36de54d1f549659ef1515fe2e8d79f"
      }
     },
     "metadata": {},
     "output_type": "display_data"
    },
    {
     "name": "stdout",
     "output_type": "stream",
     "text": [
      "Epoch 00100: reducing learning rate of group 0 to 1.0000e-04.\n"
     ]
    }
   ],
   "source": [
    "min_valid_loss = np.inf\n",
    "\n",
    "train_losses = []\n",
    "val_losses = []\n",
    "\n",
    "N_EPOCHS = 100\n",
    "\n",
    "progress = tqdm_notebook(range(N_EPOCHS), desc='Model training', leave=True)\n",
    "for epoch in progress:\n",
    "    train_loss = 0.0\n",
    "    model.train()\n",
    "    for i, data in enumerate(train_loader):\n",
    "        optimizer.zero_grad()\n",
    "\n",
    "        out = model(\n",
    "            data.noisy_0,\n",
    "            data.observable,\n",
    "            data.circuit_depth,\n",
    "            data.x,\n",
    "            data.edge_index,\n",
    "            data.batch\n",
    "        )\n",
    "        loss = criterion(out, torch.squeeze(data.y, 1))\n",
    "\n",
    "        train_loss += loss.item()\n",
    "\n",
    "        loss.backward()\n",
    "        optimizer.step()\n",
    "\n",
    "    valid_loss = 0.0\n",
    "    model.eval()\n",
    "    for i, data in enumerate(val_loader):\n",
    "        out = model(\n",
    "            data.noisy_0,\n",
    "            data.observable,\n",
    "            data.circuit_depth,\n",
    "            data.x,\n",
    "            data.edge_index,\n",
    "            data.batch)\n",
    "        loss = criterion(out, torch.squeeze(data.y, 1))\n",
    "\n",
    "        valid_loss += loss.item()\n",
    "\n",
    "    scheduler.step(valid_loss)\n",
    "\n",
    "    if epoch >= 1:\n",
    "        train_losses.append(train_loss / len(train_loader))\n",
    "        val_losses.append(valid_loss / len(val_loader))\n",
    "\n",
    "        progress.set_description(f\"{round(train_losses[-1], 5)}, {round(val_losses[-1], 5)}\")\n",
    "        progress.refresh()"
   ],
   "metadata": {
    "collapsed": false
   }
  },
  {
   "cell_type": "code",
   "execution_count": 48,
   "outputs": [
    {
     "data": {
      "text/plain": "<Figure size 432x288 with 1 Axes>",
      "image/png": "[encoded data removed]"
     },
     "metadata": {},
     "output_type": "display_data"
    },
    {
     "data": {
      "text/plain": "<Figure size 432x288 with 1 Axes>",
      "image/png": "[encoded data removed]"
     },
     "metadata": {},
     "output_type": "display_data"
    },
    {
     "data": {
      "text/plain": "<Figure size 432x288 with 1 Axes>",
      "image/png": "[encoded data removed]"
     },
     "metadata": {},
     "output_type": "display_data"
    }
   ],
   "source": [
    "plt.plot(train_losses, label=\"train_loss\")\n",
    "plt.plot(val_losses, label=\"val_loss\")\n",
    "plt.yscale('log')\n",
    "\n",
    "plt.legend()\n",
    "plt.show()\n",
    "\n",
    "distances = []\n",
    "for i, data in enumerate(val_loader):\n",
    "    out = model(data.noisy_0, data.observable, data.circuit_depth, data.x, data.edge_index, data.batch)\n",
    "\n",
    "    for ideal, noisy, ngm_mitigated in zip(\n",
    "        data.y.tolist(),\n",
    "        data.noisy_0.tolist(),\n",
    "        out.tolist()\n",
    "    ):\n",
    "        ideal = np.mean(ideal)\n",
    "        noisy = np.mean(noisy)\n",
    "        ngm_mitigated = np.mean(ngm_mitigated)\n",
    "        distances.append({\n",
    "            \"ideal\": ideal,\n",
    "            \"noisy\": noisy,\n",
    "            \"ngm_mitigated\": ngm_mitigated,\n",
    "            \"dist_noisy\": np.abs(ideal - noisy),\n",
    "            \"dist_ngm\": np.abs(ideal - ngm_mitigated),\n",
    "        })\n",
    "\n",
    "df = pd.DataFrame(distances)\n",
    "sns.boxplot(data=df[[\"dist_noisy\", \"dist_ngm\"]], orient=\"h\", showfliers = False)\n",
    "plt.title(\"Dist to ideal exp value\")\n",
    "plt.show()\n",
    "\n",
    "sns.histplot([df['ideal'], df['noisy'], df[\"ngm_mitigated\"]], kde=True, bins=40)\n",
    "plt.title(\"Exp values distribution\")\n",
    "plt.show()"
   ],
   "metadata": {
    "collapsed": false
   }
  },
  {
   "cell_type": "markdown",
   "source": [
    "# Test on charge imbalance on newly generated MBL circuits"
   ],
   "metadata": {
    "collapsed": false
   }
  },
  {
   "cell_type": "code",
   "execution_count": 49,
   "outputs": [
    {
     "data": {
      "text/plain": "ExpValCircuitGraphModel(\n  (transformer1): TransformerConv(22, 15, heads=3)\n  (pooling1): ASAPooling(45, ratio=0.5)\n  (transformer2): TransformerConv(45, 15, heads=2)\n  (pooling2): ASAPooling(30, ratio=0.5)\n  (body_seq): Sequential(\n    (0): Linear(35, 15, bias=True)\n    (1): Dropout(p=0.2, inplace=False)\n    (2): Linear(15, 4, bias=True)\n  )\n)"
     },
     "execution_count": 49,
     "metadata": {},
     "output_type": "execute_result"
    }
   ],
   "source": [
    "model.eval()\n"
   ],
   "metadata": {
    "collapsed": false
   }
  },
  {
   "cell_type": "code",
   "execution_count": 51,
   "outputs": [],
   "source": [
    "def construct_mbl_circuit(num_qubit, disorder, theta, steps):\n",
    "    \"\"\"Construct the circuit for Floquet dynamics of an MBL circuit.\n",
    "\n",
    "    Args:\n",
    "        num_spins (int): Number of spins. Must be even.\n",
    "        W (float): Disorder strength up to np.pi.\n",
    "        theta (float): Interaction strength up to np.pi.\n",
    "        steps (int): Number of steps.\n",
    "    \"\"\"\n",
    "    qc = QuantumCircuit(num_qubit)\n",
    "\n",
    "    # Hard domain wall initial state\n",
    "    # Qubits 0 to num_qubit/2 - 1 are up, and qubits num_qubit/2 to num_qubit - 1 are down\n",
    "    for qubit_idx in range(num_qubit):\n",
    "        if qubit_idx % 2 == 1:\n",
    "            qc.x(qubit_idx)\n",
    "\n",
    "    ## Floquet evolution\n",
    "    for step in range(steps):\n",
    "        # Interactions between even layers\n",
    "        for even_qubit in range(0, num_qubit, 2):\n",
    "            qc.append(CZGate(), (even_qubit, even_qubit+1))\n",
    "            qc.append(U3Gate(theta, 0, -np.pi), [even_qubit])\n",
    "            qc.append(U3Gate(theta, 0, -np.pi), [even_qubit+1])\n",
    "        # Interactions between odd layers\n",
    "        for odd_qubit in range(1, num_qubit-1, 2):\n",
    "            qc.append(CZGate(), (odd_qubit, odd_qubit+1))\n",
    "            qc.append(U3Gate(theta, 0, -np.pi), [odd_qubit])\n",
    "            qc.append(U3Gate(theta, 0, -np.pi), [odd_qubit+1])\n",
    "        # Apply RZ disorder\n",
    "        for q in range(num_qubit):\n",
    "            qc.append(PhaseGate(disorder[q]), [q])\n",
    "\n",
    "    # Measure Z^{\\otimes num_qubit}, or the all-Z operator from which all Z, ZZ, ... operators can be computed\n",
    "    qc.measure_all()\n",
    "\n",
    "    return qc\n",
    "\n",
    "def generate_disorder(n_qubits, disorder_strength = np.pi, seed=0):\n",
    "    \"\"\"Generate disorder\n",
    "\n",
    "    Args:\n",
    "        n_qubits (int): Number of qubits\n",
    "        disorder_strength (float, optional): Scales disorder strength from min/max of -pi/pi. Defaults to pi.\n",
    "\n",
    "    Returns:\n",
    "        List[float]: List of angles in single-qubit phase gates that correspond to disorders\n",
    "    \"\"\"\n",
    "    random.seed(seed)\n",
    "    disorder = [np.random.uniform(-1 * disorder_strength, disorder_strength) for _ in range(n_qubits)]\n",
    "    return disorder"
   ],
   "metadata": {
    "collapsed": false
   }
  },
  {
   "cell_type": "code",
   "execution_count": 53,
   "outputs": [
    {
     "data": {
      "text/plain": "                ┌───────────────┐┌─────────────┐                                  ┌───────────────┐┌─────────────┐                                  ┌───────────────┐┌─────────────┐                                ░ ┌─┐         \n   q_0: ──────■─┤ U3(π/20,0,-π) ├┤ P(-0.83356) ├────────────────────────────────■─┤ U3(π/20,0,-π) ├┤ P(-0.83356) ├────────────────────────────────■─┤ U3(π/20,0,-π) ├┤ P(-0.83356) ├────────────────────────────────░─┤M├─────────\n        ┌───┐ │ ├───────────────┤└─────────────┘┌───────────────┐┌───────────┐  │ ├───────────────┤└─────────────┘┌───────────────┐┌───────────┐  │ ├───────────────┤└─────────────┘┌───────────────┐┌───────────┐  ░ └╥┘┌─┐      \n   q_1: ┤ X ├─■─┤ U3(π/20,0,-π) ├───────■───────┤ U3(π/20,0,-π) ├┤ P(1.7082) ├──■─┤ U3(π/20,0,-π) ├───────■───────┤ U3(π/20,0,-π) ├┤ P(1.7082) ├──■─┤ U3(π/20,0,-π) ├───────■───────┤ U3(π/20,0,-π) ├┤ P(1.7082) ├──░──╫─┤M├──────\n        └───┘   ├───────────────┤       │       ├───────────────┤├───────────┴┐   ├───────────────┤       │       ├───────────────┤├───────────┴┐   ├───────────────┤       │       ├───────────────┤├───────────┴┐ ░  ║ └╥┘┌─┐   \n   q_2: ──────■─┤ U3(π/20,0,-π) ├───────■───────┤ U3(π/20,0,-π) ├┤ P(-2.0388) ├─■─┤ U3(π/20,0,-π) ├───────■───────┤ U3(π/20,0,-π) ├┤ P(-2.0388) ├─■─┤ U3(π/20,0,-π) ├───────■───────┤ U3(π/20,0,-π) ├┤ P(-2.0388) ├─░──╫──╫─┤M├───\n        ┌───┐ │ ├───────────────┤┌─────────────┐└───────────────┘└────────────┘ │ ├───────────────┤┌─────────────┐└───────────────┘└────────────┘ │ ├───────────────┤┌─────────────┐└───────────────┘└────────────┘ ░  ║  ║ └╥┘┌─┐\n   q_3: ┤ X ├─■─┤ U3(π/20,0,-π) ├┤ P(-0.92002) ├────────────────────────────────■─┤ U3(π/20,0,-π) ├┤ P(-0.92002) ├────────────────────────────────■─┤ U3(π/20,0,-π) ├┤ P(-0.92002) ├────────────────────────────────░──╫──╫──╫─┤M├\n        └───┘   └───────────────┘└─────────────┘                                  └───────────────┘└─────────────┘                                  └───────────────┘└─────────────┘                                ░  ║  ║  ║ └╥┘\nmeas: 4/═══════════════════════════════════════════════════════════════════════════════════════════════════════════════════════════════════════════════════════════════════════════════════════════════════════════════╩══╩══╩══╩═\n                                                                                                                                                                                                                       0  1  2  3 ",
      "text/html": "<pre style=\"word-wrap: normal;white-space: pre;background: #fff0;line-height: 1.1;font-family: &quot;Courier New&quot;,Courier,monospace\">                ┌───────────────┐┌─────────────┐                                  ┌───────────────┐┌─────────────┐                                  ┌───────────────┐┌─────────────┐                                ░ ┌─┐         \n   q_0: ──────■─┤ U3(π/20,0,-π) ├┤ P(-0.83356) ├────────────────────────────────■─┤ U3(π/20,0,-π) ├┤ P(-0.83356) ├────────────────────────────────■─┤ U3(π/20,0,-π) ├┤ P(-0.83356) ├────────────────────────────────░─┤M├─────────\n        ┌───┐ │ ├───────────────┤└─────────────┘┌───────────────┐┌───────────┐  │ ├───────────────┤└─────────────┘┌───────────────┐┌───────────┐  │ ├───────────────┤└─────────────┘┌───────────────┐┌───────────┐  ░ └╥┘┌─┐      \n   q_1: ┤ X ├─■─┤ U3(π/20,0,-π) ├───────■───────┤ U3(π/20,0,-π) ├┤ P(1.7082) ├──■─┤ U3(π/20,0,-π) ├───────■───────┤ U3(π/20,0,-π) ├┤ P(1.7082) ├──■─┤ U3(π/20,0,-π) ├───────■───────┤ U3(π/20,0,-π) ├┤ P(1.7082) ├──░──╫─┤M├──────\n        └───┘   ├───────────────┤       │       ├───────────────┤├───────────┴┐   ├───────────────┤       │       ├───────────────┤├───────────┴┐   ├───────────────┤       │       ├───────────────┤├───────────┴┐ ░  ║ └╥┘┌─┐   \n   q_2: ──────■─┤ U3(π/20,0,-π) ├───────■───────┤ U3(π/20,0,-π) ├┤ P(-2.0388) ├─■─┤ U3(π/20,0,-π) ├───────■───────┤ U3(π/20,0,-π) ├┤ P(-2.0388) ├─■─┤ U3(π/20,0,-π) ├───────■───────┤ U3(π/20,0,-π) ├┤ P(-2.0388) ├─░──╫──╫─┤M├───\n        ┌───┐ │ ├───────────────┤┌─────────────┐└───────────────┘└────────────┘ │ ├───────────────┤┌─────────────┐└───────────────┘└────────────┘ │ ├───────────────┤┌─────────────┐└───────────────┘└────────────┘ ░  ║  ║ └╥┘┌─┐\n   q_3: ┤ X ├─■─┤ U3(π/20,0,-π) ├┤ P(-0.92002) ├────────────────────────────────■─┤ U3(π/20,0,-π) ├┤ P(-0.92002) ├────────────────────────────────■─┤ U3(π/20,0,-π) ├┤ P(-0.92002) ├────────────────────────────────░──╫──╫──╫─┤M├\n        └───┘   └───────────────┘└─────────────┘                                  └───────────────┘└─────────────┘                                  └───────────────┘└─────────────┘                                ░  ║  ║  ║ └╥┘\nmeas: 4/═══════════════════════════════════════════════════════════════════════════════════════════════════════════════════════════════════════════════════════════════════════════════════════════════════════════════╩══╩══╩══╩═\n                                                                                                                                                                                                                       0  1  2  3 </pre>"
     },
     "execution_count": 53,
     "metadata": {},
     "output_type": "execute_result"
    }
   ],
   "source": [
    "## Set the physics parameters\n",
    "## No need to change W and theta\n",
    "## Change `num_spins` for system size, `max_steps` to evolve deeper (2Q gate depth of 2 per step), and\n",
    "## `seed` for different disorders for when we do the disorder-averaged time-dependent charge imbalance\n",
    "num_spins = 4 # Number of spins. Must be even.\n",
    "W = 0.8 * np.pi # Disorder strength up to np.pi\n",
    "theta = 0.05 * np.pi # Interaction strength up to np.pi\n",
    "max_steps = 10\n",
    "seed = 2 # Seed for the randomly generated array of disorder potentials\n",
    "\n",
    "disorders = generate_disorder(num_spins, W, seed=seed)\n",
    "\n",
    "qc_list = []\n",
    "for steps in range(max_steps):\n",
    "    qc_list.append(construct_mbl_circuit(num_spins, disorders, theta, steps))\n",
    "\n",
    "# Take a look at the circuit to make sure it's got the correct brickwork style\n",
    "s = {'fold': -1}\n",
    "qc_list[3].draw(**s)"
   ],
   "metadata": {
    "collapsed": false
   }
  },
  {
   "cell_type": "code",
   "execution_count": null,
   "outputs": [
    {
     "data": {
      "text/plain": "  0%|          | 0/30 [00:00<?, ?it/s]",
      "application/vnd.jupyter.widget-view+json": {
       "version_major": 2,
       "version_minor": 0,
       "model_id": "7345d10189bb4f8abc106d8c8a02e01b"
      }
     },
     "metadata": {},
     "output_type": "display_data"
    }
   ],
   "source": [
    "## Now we need to average over many disorders\n",
    "num_disorders = 30\n",
    "\n",
    "even_qubits = np.linspace(0, num_spins, int(num_spins/2), endpoint=False)\n",
    "odd_qubits = np.linspace(1, num_spins+1, int(num_spins/2), endpoint=False)\n",
    "\n",
    "# For each disorder realization, make a new disorder\n",
    "# and compute the charge imbalance using the same physics parameters as before\n",
    "imbalance_all_ideal = []\n",
    "imbalance_all_noisy = []\n",
    "imbalance_all_mitigated = []\n",
    "\n",
    "for disorder_realization in tqdm_notebook(range(num_disorders)):\n",
    "    disorders = generate_disorder(num_spins, W, seed=disorder_realization)\n",
    "\n",
    "    qc_list = []\n",
    "    for steps in range(max_steps):\n",
    "        qc_list.append(construct_mbl_circuit(num_spins, disorders, theta, steps))\n",
    "\n",
    "    transpiled_qc_list = transpile(qc_list, backend_noisy, optimization_level=3)\n",
    "    job_ideal = execute(qc_list, **run_config_ideal)\n",
    "    job_noisy = execute(transpiled_qc_list, **run_config_noisy)\n",
    "\n",
    "    exp_Z_ideal = []\n",
    "    exp_Z_noisy = []\n",
    "    exp_Z_mitigated = []\n",
    "\n",
    "\n",
    "    for i in range(len(qc_list)):\n",
    "        counts_ideal = job_ideal.result().get_counts()[i]\n",
    "        counts_noisy = job_noisy.result().get_counts()[i]\n",
    "\n",
    "        ideal_exp_val = cal_z_exp(counts_ideal)\n",
    "        noisy_exp_val = cal_z_exp(counts_noisy)\n",
    "\n",
    "        exp_Z_ideal.append(list(ideal_exp_val)) # Single-Z expectation value of each qubit\n",
    "        exp_Z_noisy.append(list(noisy_exp_val)) # Single-Z expectation value of each qubit\n",
    "\n",
    "        graph_data = circuit_to_graph_data_json(\n",
    "            circuit=transpiled_qc_list[i],\n",
    "            properties=properties,\n",
    "            use_qubit_features=True,\n",
    "            use_gate_features=True,\n",
    "        )\n",
    "\n",
    "        entry = ExpValueEntry(\n",
    "            circuit_graph=graph_data,\n",
    "            observable=[],\n",
    "            ideal_exp_value=ideal_exp_val.tolist(),\n",
    "            noisy_exp_values=[\n",
    "                noisy_exp_val.tolist()\n",
    "            ],\n",
    "            circuit_depth=transpiled_qc_list[i].depth()\n",
    "        ).to_pyg_data()\n",
    "\n",
    "        # print(entry.batch)\n",
    "        mitigated_exp_val = model(entry.noisy_0,\n",
    "                            entry.observable,\n",
    "                            entry.circuit_depth,\n",
    "                            entry.x,\n",
    "                            entry.edge_index,\n",
    "                            entry.batch).tolist()[0]\n",
    "\n",
    "        exp_Z_mitigated.append(mitigated_exp_val)\n",
    "\n",
    "    imbalance_ideal = calc_imbalance(exp_Z_ideal, even_qubits, odd_qubits)\n",
    "    imbalance_noisy = calc_imbalance(exp_Z_noisy, even_qubits, odd_qubits)\n",
    "    imbalance_mitigated = calc_imbalance(exp_Z_mitigated, even_qubits, odd_qubits)\n",
    "\n",
    "\n",
    "    imbalance_all_ideal.append(imbalance_ideal)\n",
    "    imbalance_all_noisy.append(imbalance_noisy)\n",
    "    imbalance_all_mitigated.append(imbalance_mitigated)\n",
    "\n",
    "# Average imbalance\n",
    "imbalance_ideal_average = np.mean(imbalance_all_ideal, axis=0)\n",
    "imbalance_noisy_average = np.mean(imbalance_all_noisy, axis=0)\n",
    "imbalance_mitigated_average = np.mean(imbalance_all_mitigated, axis=0)"
   ],
   "metadata": {
    "collapsed": false,
    "pycharm": {
     "is_executing": true
    }
   }
  },
  {
   "cell_type": "code",
   "execution_count": null,
   "outputs": [],
   "source": [],
   "metadata": {
    "collapsed": false
   }
  }
 ],
 "metadata": {
  "kernelspec": {
   "display_name": "Python 3",
   "language": "python",
   "name": "python3"
  },
  "language_info": {
   "codemirror_mode": {
    "name": "ipython",
    "version": 2
   },
   "file_extension": ".py",
   "mimetype": "text/x-python",
   "name": "python",
   "nbconvert_exporter": "python",
   "pygments_lexer": "ipython2",
   "version": "2.7.6"
  }
 },
 "nbformat": 4,
 "nbformat_minor": 0
}
