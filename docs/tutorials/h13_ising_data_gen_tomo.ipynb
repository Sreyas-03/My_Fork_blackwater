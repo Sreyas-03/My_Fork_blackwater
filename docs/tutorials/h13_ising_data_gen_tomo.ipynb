{
 "cells": [
  {
   "cell_type": "code",
   "execution_count": 2,
   "outputs": [],
   "source": [
    "import json, pickle\n",
    "import glob\n",
    "\n",
    "import numpy as np\n",
    "import pandas as pd\n",
    "\n",
    "from qiskit import transpile\n",
    "from qiskit import execute\n",
    "from qiskit.providers.fake_provider import FakeLima\n",
    "from qiskit.primitives import Estimator\n",
    "from qiskit.circuit.random import random_circuit\n",
    "\n",
    "import torch\n",
    "from torch.optim import Adam\n",
    "from torch.optim.lr_scheduler import ReduceLROnPlateau\n",
    "from torch.nn.functional import dropout\n",
    "\n",
    "from torch_geometric.nn import GCNConv, global_mean_pool, Linear, ChebConv, SAGEConv\n",
    "from torch_geometric.data import Data\n",
    "from torch_geometric.loader import DataLoader\n",
    "\n",
    "from tqdm.notebook import tqdm_notebook\n",
    "import matplotlib.pyplot as plt\n",
    "import seaborn as sns\n",
    "\n",
    "from blackwater.data.loaders.exp_val import CircuitGraphExpValMitigationDataset\n",
    "from blackwater.data.generators.exp_val import exp_value_generator\n",
    "from blackwater.data.utils import generate_random_pauli_sum_op\n",
    "from blackwater.library.ngem.estimator import ngem\n",
    "\n",
    "from qiskit.quantum_info import random_clifford\n",
    "\n",
    "import random\n",
    "from qiskit.circuit.library import HGate, SdgGate\n",
    "from qiskit.circuit import ClassicalRegister\n",
    "\n",
    "from blackwater.data.utils import (\n",
    "    generate_random_pauli_sum_op,\n",
    "    create_estimator_meas_data,\n",
    "    circuit_to_graph_data_json,\n",
    "    get_backend_properties_v1,\n",
    "    encode_pauli_sum_op,\n",
    "    create_meas_data_from_estimators\n",
    ")\n",
    "from blackwater.data.generators.exp_val import ExpValueEntry\n",
    "from blackwater.metrics.improvement_factor import improvement_factor, Trial, Problem\n",
    "\n",
    "from qiskit_aer import AerSimulator, QasmSimulator\n",
    "from qiskit.providers.fake_provider import FakeMontreal, FakeLima, FakeBelem, FakeJakarta, FakeGuadalupe\n",
    "\n",
    "from torch_geometric.nn import (\n",
    "    GCNConv,\n",
    "    TransformerConv,\n",
    "    GATv2Conv,\n",
    "    global_mean_pool,\n",
    "    Linear,\n",
    "    ChebConv,\n",
    "    SAGEConv,\n",
    "    ASAPooling,\n",
    "    dense_diff_pool,\n",
    "    avg_pool_neighbor_x\n",
    ")\n",
    "from torch_geometric.data import Data\n",
    "from torch_geometric.loader import DataLoader\n",
    "from torch_geometric.utils import to_dense_adj, to_dense_batch\n",
    "\n",
    "from qiskit import QuantumCircuit\n",
    "from qiskit.circuit.library import U3Gate, CZGate, PhaseGate, CXGate\n",
    "from mbd_utils import construct_random_clifford, cal_z_exp, calc_imbalance, cal_all_z_exp, construct_mbl_circuit, generate_disorder, random_clifford_circuit\n",
    "from gnn import ExpValCircuitGraphModel\n",
    "from qiskit.quantum_info import Clifford\n",
    "from qiskit_aer.noise import depolarizing_error, coherent_unitary_error, NoiseModel\n",
    "from noise_utils import AddNoise\n",
    "\n",
    "from functools import partial"
   ],
   "metadata": {
    "collapsed": false
   }
  },
  {
   "cell_type": "code",
   "execution_count": 3,
   "outputs": [],
   "source": [
    "backend = FakeGuadalupe()\n",
    "properties = get_backend_properties_v1(backend)\n",
    "\n",
    "## Local\n",
    "backend_ideal = QasmSimulator() # Noiseless\n",
    "backend_noisy = AerSimulator.from_backend(backend) # Noisy\n",
    "\n",
    "run_config_ideal = {'shots': 10000, 'backend': backend_ideal, 'name': 'ideal'}\n",
    "run_config_noisy = {'shots': 10000, 'backend': backend_noisy, 'name': 'noisy'}\n",
    "\n",
    "num_qubit = 6\n",
    "\n",
    "STEPS = 10"
   ],
   "metadata": {
    "collapsed": false
   }
  },
  {
   "cell_type": "code",
   "execution_count": 4,
   "outputs": [],
   "source": [
    "from qiskit.transpiler.exceptions import TranspilerError\n",
    "import scipy\n",
    "from tqdm import tqdm\n",
    "\n",
    "def generate_data(generating_func, save_path, J_list, run_config_n, pauli_list):\n",
    "    entries = []\n",
    "    # J_list = tqdm(enumerate(J_list), total=len(J_list))\n",
    "    J_list = enumerate(J_list)\n",
    "    for i, J in J_list:\n",
    "        for meas_basis in tqdm(pauli_list):\n",
    "            circuit_before_trans, circuit = generating_func(J, meas_basis, STEPS)\n",
    "\n",
    "            obs = np.array(list(meas_basis))\n",
    "            marginal_over = np.where(obs == 'I')[0].tolist() if 'I' in obs else None\n",
    "            # print(meas_basis, marginal_over)\n",
    "            ideal_exp_val = get_all_z_exp_wo_shot_noise(circuit_before_trans, marginal_over=marginal_over)\n",
    "\n",
    "            job_noisy = execute(circuit, **run_config_n)\n",
    "            counts_noisy = job_noisy.result().get_counts()\n",
    "            noisy_exp_val = cal_all_z_exp(counts_noisy, marginal_over=marginal_over)\n",
    "\n",
    "            graph_data = circuit_to_graph_data_json(\n",
    "                circuit=circuit,\n",
    "                properties=properties,\n",
    "                use_qubit_features=True,\n",
    "                use_gate_features=True,\n",
    "            )\n",
    "\n",
    "            entry = ExpValueEntry(\n",
    "                circuit_graph=graph_data,\n",
    "                observable=[],\n",
    "                ideal_exp_value=[ideal_exp_val],\n",
    "                noisy_exp_values=[[noisy_exp_val]],\n",
    "                circuit_depth=circuit.depth()\n",
    "            )\n",
    "            to_append = entry.to_dict()\n",
    "            to_append['circuit'] = circuit\n",
    "            to_append['meas_basis'] = meas_basis\n",
    "            to_append['J'] = J\n",
    "            entries.append(to_append)\n",
    "\n",
    "    path = f\"{save_path}/step_{STEPS}_q{num_qubit}.pk\"\n",
    "    with open(path, \"wb\") as f:\n",
    "        pickle.dump(entries, f)"
   ],
   "metadata": {
    "collapsed": false
   }
  },
  {
   "cell_type": "code",
   "execution_count": 5,
   "outputs": [],
   "source": [
    "from qiskit.circuit import Parameter\n",
    "\n",
    "class IsingModel:\n",
    "\n",
    "    class Options(dict):\n",
    "        def __init__(self, *args, **kwargs):\n",
    "            super().__init__()\n",
    "            self['nq'] = num_qubit\n",
    "            self['h'] = 1\n",
    "            self['J'] = 0.15\n",
    "            self['dt'] = 1/4\n",
    "            self['depth'] = 15\n",
    "            self.update(*args, **kwargs)\n",
    "\n",
    "        def config_4q_paper(self):\n",
    "            self['h'] = 1\n",
    "            self['J'] = 0.15\n",
    "            self['dt'] = 1/4*2\n",
    "\n",
    "        def config_10q_paper(self):\n",
    "            self['h'] = 1\n",
    "            self['J'] = 0.5236\n",
    "            self['dt'] = 1/4\n",
    "\n",
    "\n",
    "    @classmethod\n",
    "    def apply_quantum_circuit_layer(cls, qc: QuantumCircuit, ops: 'IsingModel.Options'):\n",
    "        allq = list(range(ops['nq']))\n",
    "\n",
    "        qc.rx(2*ops['h']*ops['dt'], allq)\n",
    "\n",
    "        qc.barrier()\n",
    "        for q0 in allq[0::2]:\n",
    "            q1 = q0+1\n",
    "            qc.cx(q0,q1)\n",
    "        qc.rz(-2*ops['J']*ops['dt'], allq[1::2])\n",
    "        for q0 in allq[0::2]:\n",
    "            q1 = q0+1\n",
    "            qc.cx(q0,q1)\n",
    "\n",
    "        qc.barrier()\n",
    "        for q0 in allq[1:-2:2]:\n",
    "            q1 = q0+1\n",
    "            qc.cx(q0,q1)\n",
    "        qc.rz(-2*ops['J']*ops['dt'], allq[2:-1:2])\n",
    "        for q0 in allq[1:-2:2]:\n",
    "            q1 = q0+1\n",
    "            qc.cx(q0,q1)\n",
    "        qc.barrier()\n",
    "\n",
    "    @classmethod\n",
    "    def make_quantum_circuit(cls, ops: 'IsingModel.Options'):\n",
    "        qc = QuantumCircuit(ops['nq'])\n",
    "\n",
    "        for step in range(ops['depth']):\n",
    "            cls.apply_quantum_circuit_layer(qc, ops)\n",
    "\n",
    "        for i, pauli in enumerate(ops['measure_basis']):\n",
    "            if pauli in 'ZI':\n",
    "                pass\n",
    "            elif pauli == 'X':\n",
    "                qc.h(i)\n",
    "            elif pauli == 'Y':\n",
    "                qc.sdg(i)\n",
    "                qc.h(i)\n",
    "            else:\n",
    "                raise Exception(\"Must be X Y Z or I\")\n",
    "        qc.measure_all()\n",
    "\n",
    "        return qc\n",
    "\n",
    "    @classmethod\n",
    "    def make_circs_sweep(cls, ops, num_steps, measure_basis):\n",
    "        ops['measure_basis'] = measure_basis\n",
    "        ops['depth'] = num_steps\n",
    "        qc = cls.make_quantum_circuit(ops)\n",
    "        qc.metadata = {}\n",
    "        qc.metadata['measure_basis'] = measure_basis\n",
    "        qc.metadata['depth'] = num_steps\n",
    "        return qc"
   ],
   "metadata": {
    "collapsed": false
   }
  },
  {
   "cell_type": "code",
   "execution_count": 6,
   "outputs": [],
   "source": [
    "# cls = IsingModel\n",
    "# ops = cls.Options()\n",
    "# ops.config_4q_paper()\n",
    "# ops.update({'J': Parameter('J'), 'h': Parameter('h')})\n",
    "# qc = cls.make_circs_sweep(ops, 1, 'XXYZ'), list(range(4))\n",
    "# qc[0].draw('mpl', fold=-1)"
   ],
   "metadata": {
    "collapsed": false
   }
  },
  {
   "cell_type": "markdown",
   "source": [],
   "metadata": {
    "collapsed": false
   }
  },
  {
   "cell_type": "markdown",
   "source": [
    "# Random Ising Init"
   ],
   "metadata": {
    "collapsed": false
   }
  },
  {
   "cell_type": "code",
   "execution_count": 11,
   "outputs": [
    {
     "name": "stdout",
     "output_type": "stream",
     "text": [
      "[3, 5]\n"
     ]
    },
    {
     "data": {
      "text/plain": "<Figure size 1802.48x445.48 with 1 Axes>",
      "image/png": "[encoded data removed]"
     },
     "execution_count": 11,
     "metadata": {},
     "output_type": "execute_result"
    }
   ],
   "source": [
    "from qiskit.quantum_info import random_statevector\n",
    "from qiskit.circuit.library import RYGate, RXGate, RZGate, CXGate\n",
    "from qiskit import QuantumRegister\n",
    "\n",
    "def construct_ising_circuit_qasm_init(J, basis, num_steps):\n",
    "    cls = IsingModel\n",
    "    ops = cls.Options()\n",
    "    ops.config_4q_paper()\n",
    "    ops.update({'J': J})\n",
    "    # qc_init = QuantumCircuit.from_qasm_str('OPENQASM 2.0;\\ninclude \"qelib1.inc\";\\nqreg q[4];\\nrz(0.0007186381718527407) q[1];\\nrz(2.4917901988569855) q[1];\\nrz(3.3854853863523835) q[3];\\nrx(1.2846113715328817) q[3];\\ncx q[3],q[0];\\nrx(4.212671608894216) q[2];\\ncx q[2],q[3];\\n')\n",
    "    # qc_init.barrier()\n",
    "    # qc = qc_init.compose(cls.make_circs_sweep(ops, num_steps, basis), list(range(4)))\n",
    "    qc = cls.make_circs_sweep(ops, num_steps, basis)\n",
    "    return qc\n",
    "\n",
    "J = 0.15\n",
    "basis = 'XZYIXI'  # non-endian\n",
    "obs = np.array(list(basis))\n",
    "marginal_over = np.where(obs == 'I')[0].tolist() if 'I' in obs else None\n",
    "print(marginal_over)\n",
    "random_ising = construct_ising_circuit_qasm_init(J, basis, 2)\n",
    "trans_circuit = transpile(random_ising, backend=backend_ideal, optimization_level=3)\n",
    "trans_circuit.draw('mpl', fold=-1)"
   ],
   "metadata": {
    "collapsed": false
   }
  },
  {
   "cell_type": "code",
   "execution_count": 12,
   "outputs": [
    {
     "name": "stderr",
     "output_type": "stream",
     "text": [
      "100%|██████████| 500/500 [00:18<00:00, 26.97it/s]"
     ]
    },
    {
     "name": "stdout",
     "output_type": "stream",
     "text": [
      "0.16207119999999994\n"
     ]
    },
    {
     "name": "stderr",
     "output_type": "stream",
     "text": [
      "\n"
     ]
    }
   ],
   "source": [
    "exp_vals = []\n",
    "N = 500\n",
    "for _ in tqdm(range(N)):\n",
    "    job_from_counts = execute(trans_circuit, **run_config_ideal)\n",
    "    counts = job_from_counts.result().get_counts()\n",
    "    counts = {key: val for key, val in sorted(counts.items())}\n",
    "    exp_vals += [cal_all_z_exp(counts, marginal_over=marginal_over)]\n",
    "print(sum(exp_vals) / N)"
   ],
   "metadata": {
    "collapsed": false
   }
  },
  {
   "cell_type": "code",
   "execution_count": 13,
   "outputs": [
    {
     "data": {
      "text/plain": "0.16153056833248958"
     },
     "execution_count": 13,
     "metadata": {},
     "output_type": "execute_result"
    }
   ],
   "source": [
    "from qiskit.result import marginal_counts\n",
    "def get_all_z_exp_wo_shot_noise(circuit, marginal_over=None):\n",
    "    circuit_copy = circuit.copy()\n",
    "    circuit_copy.remove_final_measurements()\n",
    "    circuit_copy.save_density_matrix()\n",
    "\n",
    "    def int_to_bin(n, num_bits=4):\n",
    "        if n < 2**num_bits:\n",
    "            binary_str = bin(n)[2:]\n",
    "            return binary_str.zfill(num_bits)\n",
    "        else:\n",
    "            raise ValueError\n",
    "\n",
    "    job = execute(circuit_copy, QasmSimulator(), backend_options={'method': 'statevector'})\n",
    "    probs = np.real(np.diag(job.result().data()['density_matrix']))\n",
    "    probs = {int_to_bin(i, num_bits=num_qubit): p for i, p in enumerate(probs)}\n",
    "\n",
    "    if marginal_over:\n",
    "        probs = marginal_counts(probs, indices=marginal_over)\n",
    "\n",
    "    exp_val = 0\n",
    "    for key, prob in probs.items():\n",
    "        num_ones = key.count('1')\n",
    "        exp_val += (-1) ** num_ones * prob\n",
    "\n",
    "    return exp_val\n",
    "\n",
    "get_all_z_exp_wo_shot_noise(random_ising, marginal_over=marginal_over)"
   ],
   "metadata": {
    "collapsed": false
   }
  },
  {
   "cell_type": "code",
   "execution_count": 18,
   "outputs": [
    {
     "name": "stdout",
     "output_type": "stream",
     "text": [
      "512 3584\n"
     ]
    }
   ],
   "source": [
    "import itertools\n",
    "np.random.seed(0)\n",
    "pauli_list_full = [''.join(s) for s in itertools.product(['X','Y','Z','I'], repeat=num_qubit)]\n",
    "np.random.shuffle(pauli_list_full)\n",
    "sep = 512\n",
    "train_paulis = pauli_list_full[:sep]\n",
    "test_paulis = pauli_list_full[sep:]\n",
    "print(len(train_paulis), len(test_paulis))"
   ],
   "metadata": {
    "collapsed": false
   }
  },
  {
   "cell_type": "code",
   "execution_count": 19,
   "outputs": [],
   "source": [
    "def construct_ising_circuit_qasm_init_tomo_func(J, basis, num_steps, be):\n",
    "    random_ising = construct_ising_circuit_qasm_init(J, basis, num_steps)\n",
    "    trans_circuit = transpile(random_ising, backend=be, optimization_level=3)\n",
    "    return random_ising, trans_circuit"
   ],
   "metadata": {
    "collapsed": false
   }
  },
  {
   "cell_type": "code",
   "execution_count": 20,
   "outputs": [],
   "source": [
    "# np.random.seed(0)\n",
    "# h = 1\n",
    "# J_list = np.random.uniform(0, h, size=1)\n",
    "# plt.style.use({'figure.facecolor':'white'})\n",
    "# plt.scatter(J_list, [0]*100);"
   ],
   "metadata": {
    "collapsed": false
   }
  },
  {
   "cell_type": "code",
   "execution_count": 21,
   "outputs": [],
   "source": [
    "J_list = [0.15]"
   ],
   "metadata": {
    "collapsed": false
   }
  },
  {
   "cell_type": "code",
   "execution_count": 22,
   "outputs": [
    {
     "name": "stderr",
     "output_type": "stream",
     "text": [
      "100%|██████████| 4096/4096 [30:34<00:00,  2.23it/s]\n"
     ]
    }
   ],
   "source": [
    "generate_data(\n",
    "    partial(construct_ising_circuit_qasm_init_tomo_func, be=backend_noisy),\n",
    "    save_path='./data/ising_init_from_qasm_tomo',\n",
    "    J_list=J_list,\n",
    "    run_config_n=run_config_noisy,\n",
    "    pauli_list=pauli_list_full,\n",
    ")"
   ],
   "metadata": {
    "collapsed": false
   }
  },
  {
   "cell_type": "code",
   "execution_count": null,
   "outputs": [],
   "source": [
    "# generate_data(\n",
    "#     partial(construct_ising_circuit_qasm_init_tomo_func, be=backend_noisy),\n",
    "#     save_path='./data/ising_init_from_qasm_tomo',\n",
    "#     J_list=J_list,\n",
    "#     run_config_n=run_config_noisy,\n",
    "#     pauli_list=test_paulis,\n",
    "# )"
   ],
   "metadata": {
    "collapsed": false
   }
  },
  {
   "cell_type": "markdown",
   "source": [],
   "metadata": {
    "collapsed": false
   }
  }
 ],
 "metadata": {
  "kernelspec": {
   "display_name": "Python 3",
   "language": "python",
   "name": "python3"
  },
  "language_info": {
   "codemirror_mode": {
    "name": "ipython",
    "version": 2
   },
   "file_extension": ".py",
   "mimetype": "text/x-python",
   "name": "python",
   "nbconvert_exporter": "python",
   "pygments_lexer": "ipython2",
   "version": "2.7.6"
  }
 },
 "nbformat": 4,
 "nbformat_minor": 0
}
